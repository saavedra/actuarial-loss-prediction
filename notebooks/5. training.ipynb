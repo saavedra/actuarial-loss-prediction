{
 "cells": [
  {
   "cell_type": "markdown",
   "metadata": {},
   "source": [
    "Time to combine all the knowledge gained into one dataset and train"
   ]
  },
  {
   "cell_type": "code",
   "execution_count": 118,
   "metadata": {},
   "outputs": [],
   "source": [
    "import pandas as pd\n",
    "import numpy as np\n",
    "import ast\n",
    "\n",
    "from sklearn.compose import ColumnTransformer, TransformedTargetRegressor\n",
    "from sklearn.preprocessing import (\n",
    "    FunctionTransformer,\n",
    "    PowerTransformer,\n",
    "    MinMaxScaler,\n",
    "    OneHotEncoder,\n",
    "    Binarizer,\n",
    "    StandardScaler\n",
    ")\n",
    "\n",
    "from sklearn.ensemble import GradientBoostingRegressor, RandomForestRegressor\n",
    "from sklearn.tree import DecisionTreeRegressor\n",
    "from sklearn.linear_model import LinearRegression, Lasso\n",
    "from sklearn.pipeline import Pipeline\n",
    "from sklearn.model_selection import cross_val_score, KFold, cross_val_predict\n",
    "from sklearn.metrics import mean_squared_error, mean_absolute_error\n",
    "from xgboost import XGBRegressor\n",
    "from lightgbm import LGBMRegressor\n",
    "from sklearn.decomposition import PCA\n",
    "\n",
    "\n",
    "import mlflow\n",
    "import mlflow.sklearn\n",
    "\n",
    "from matplotlib import pyplot as plt\n",
    "import seaborn as sns"
   ]
  },
  {
   "cell_type": "markdown",
   "metadata": {},
   "source": [
    "# 1. Data loading"
   ]
  },
  {
   "cell_type": "markdown",
   "metadata": {},
   "source": [
    "### 1.1 Raw data and NLP"
   ]
  },
  {
   "cell_type": "code",
   "execution_count": 2,
   "metadata": {},
   "outputs": [],
   "source": [
    "df_train = pd.read_csv('../data/raw/actuarial-loss-estimation/train.csv', parse_dates=['DateTimeOfAccident', 'DateReported'], index_col=0)\n",
    "df_nlp_descriptors_train = pd.read_csv('../data/processed/df_train_nlp_completions.csv', index_col=0)\n",
    "\n",
    "df_embeddings_events = pd.read_csv('../data/processed/embeddings_events.csv', index_col=0)\n",
    "df_embeddings_body_parts = pd.read_csv('../data/processed/embeddings_body_parts.csv', index_col=0)"
   ]
  },
  {
   "cell_type": "code",
   "execution_count": 3,
   "metadata": {},
   "outputs": [],
   "source": [
    "df_test = pd.read_csv('../data/raw/actuarial-loss-estimation/test.csv', parse_dates=['DateTimeOfAccident', 'DateReported'], index_col=0)\n",
    "df_nlp_descriptors_test = pd.read_csv('../data/processed/df_test_nlp_completions.csv', index_col=0)"
   ]
  },
  {
   "cell_type": "markdown",
   "metadata": {},
   "source": [
    "Deriving columns"
   ]
  },
  {
   "cell_type": "code",
   "execution_count": 4,
   "metadata": {},
   "outputs": [],
   "source": [
    "df_train['YearAccident'] = df_train['DateTimeOfAccident'].dt.year\n",
    "df_train['DaysToReport'] = (df_train['DateReported'] - df_train['DateTimeOfAccident']).dt.days + 1 # no zero values\n"
   ]
  },
  {
   "cell_type": "code",
   "execution_count": 197,
   "metadata": {},
   "outputs": [],
   "source": [
    "df_test['YearAccident'] = df_test['DateTimeOfAccident'].dt.year\n",
    "df_test['DaysToReport'] = (df_test['DateReported'] - df_test['DateTimeOfAccident']).dt.days + 1 # no zero values\n"
   ]
  },
  {
   "cell_type": "markdown",
   "metadata": {},
   "source": [
    "Exclusions"
   ]
  },
  {
   "cell_type": "code",
   "execution_count": 5,
   "metadata": {},
   "outputs": [],
   "source": [
    "# exlude outlier \n",
    "df_train = df_train[df_train.UltimateIncurredClaimCost < 4e6]"
   ]
  },
  {
   "cell_type": "markdown",
   "metadata": {},
   "source": [
    "### 1.2 Events data"
   ]
  },
  {
   "cell_type": "code",
   "execution_count": 6,
   "metadata": {},
   "outputs": [],
   "source": [
    "def get_embeddings_event(nlp_descriptors: pd.Series, df_embeddings: pd.DataFrame):\n",
    "    \"\"\"\n",
    "    nlp_descriptors: pandas Series with the claim number as index and event (str) as values\n",
    "    df_embeddings: a pandas DataFrame containing all the feature values \n",
    "    \"\"\"\n",
    "    df = nlp_descriptors.to_frame().join(df_embeddings, on='event')[df_embeddings.columns]\n",
    "\n",
    "    df.columns = [f'event_{col}' for col in df.columns]\n",
    "\n",
    "    return df"
   ]
  },
  {
   "cell_type": "code",
   "execution_count": 7,
   "metadata": {},
   "outputs": [],
   "source": [
    "df_events_embeddings_train = get_embeddings_event(df_nlp_descriptors_train['event'], df_embeddings_events)\n",
    "df_events_embeddings_test = get_embeddings_event(df_nlp_descriptors_test['event'], df_embeddings_events)"
   ]
  },
  {
   "cell_type": "code",
   "execution_count": 8,
   "metadata": {},
   "outputs": [],
   "source": [
    "# get_dummies_top_events\n",
    "def get_dummies_top_events(nlp_descriptors: pd.Series): \n",
    "    \"\"\"\n",
    "    nlp_descriptors: pandas Series with the claim number as index and event (str) as values\n",
    "    df_embeddings: a pandas DataFrame containing all the feature values \n",
    "    \"\"\"\n",
    "    event_values = nlp_descriptors['event'].str.strip()\n",
    "    top_events = event_values.value_counts().iloc[2:50].index.values\n",
    "    mask = event_values.str.strip().isin(top_events)\n",
    "\n",
    "    return pd.get_dummies(nlp_descriptors.loc[mask, 'event'].str.strip())"
   ]
  },
  {
   "cell_type": "markdown",
   "metadata": {},
   "source": [
    "### It is wrong to apply it to train and test"
   ]
  },
  {
   "cell_type": "code",
   "execution_count": 9,
   "metadata": {},
   "outputs": [],
   "source": [
    "df_events_dummies_train = get_dummies_top_events(df_nlp_descriptors_train)\n",
    "df_events_dummies_test = pd.get_dummies(df_nlp_descriptors_test['event'].str.strip())[df_events_dummies_train.columns.str.strip()]"
   ]
  },
  {
   "cell_type": "markdown",
   "metadata": {},
   "source": [
    "Median UltimateCost per event"
   ]
  },
  {
   "cell_type": "code",
   "execution_count": 10,
   "metadata": {},
   "outputs": [],
   "source": [
    "# Including the current row will result in data contamination (specially for low-frequency values)\n",
    "\n",
    "def safe_event_median_cost(\n",
    "        nlp_descriptors_train: pd.Series, \n",
    "        ultimate_cost: pd.Series,\n",
    "        nlp_descriptors_test: pd.Series\n",
    "    ):\n",
    "    \"\"\"\n",
    "    Computes a safe event-based median cost feature using an out-of-fold approach \n",
    "    to prevent data contamination and target leakage.\n",
    "\n",
    "    Parameters: \n",
    "        nlp_descriptors_train : pd.Series\n",
    "            A pandas Series with claim numbers as the index and event names (str) as values.\n",
    "        ultimate_cost : pd.Series\n",
    "            A pandas Series containing the target variable (e.g., claim cost), with claim numbers as the index.\n",
    "        nlp_descriptors_test : pd.Series\n",
    "            A pandas Series with claim numbers as the index and event names (str) as values, representing the test set\n",
    "    \n",
    "    Returns tuple (pd.Series, pd.Series)\n",
    "        - The first Series contains the out-of-fold median cost values for the training set.\n",
    "        - The second Series contains the median cost values applied to the test set \n",
    "          using medians computed from the training set.\n",
    "    \"\"\"\n",
    "\n",
    "\n",
    "    df_train = nlp_descriptors_train.rename('event').to_frame().join(ultimate_cost.rename('claim_cost'))\n",
    "    df_test = nlp_descriptors_test.rename('event').to_frame()\n",
    "\n",
    "    # fills data for training in a safe way using folds\n",
    "    kf = KFold(n_splits=20, shuffle=True, random_state=42)\n",
    "\n",
    "    for reference_idx, fill_idx in kf.split(df_train):\n",
    "        fold_reference, fold_to_fill = df_train.iloc[reference_idx], df_train.iloc[fill_idx]        \n",
    "        \n",
    "        # Compute category median using only the training folds\n",
    "        fold_medians_event = fold_reference.groupby('event')['claim_cost'].median()\n",
    "        fold_median_general = fold_reference['claim_cost'].median()\n",
    "        \n",
    "\n",
    "        # Apply to validation fold\n",
    "        df_train.loc[fold_to_fill.index, 'event_median_cost'] = df_train.loc[fold_to_fill.index, 'event'].map(fold_medians_event)\n",
    "        df_train.loc[fold_to_fill.index, 'event_median_cost'] = df_train.loc[fold_to_fill.index, 'event_median_cost'].fillna(fold_median_general)\n",
    "\n",
    "\n",
    "    # for test, it uses median from training\n",
    "    df_test['event_median_cost'] = df_test['event'].map(\n",
    "        df_train.groupby('event')['claim_cost'].median()\n",
    "    )\n",
    "    df_test['event_median_cost'] = df_test['event_median_cost'].fillna(df_train['claim_cost'].median())\n",
    "\n",
    "\n",
    "    return df_train['event_median_cost'], df_test['event_median_cost']\n"
   ]
  },
  {
   "cell_type": "code",
   "execution_count": 11,
   "metadata": {},
   "outputs": [],
   "source": [
    "s_median_cost_event_train, s_median_cost_event_test = safe_event_median_cost(\n",
    "        df_nlp_descriptors_train['event'],\n",
    "        df_train['UltimateIncurredClaimCost'],\n",
    "        df_nlp_descriptors_test['event']\n",
    "    )"
   ]
  },
  {
   "cell_type": "markdown",
   "metadata": {},
   "source": [
    "### 1.3 Body parts data"
   ]
  },
  {
   "cell_type": "code",
   "execution_count": 12,
   "metadata": {},
   "outputs": [],
   "source": [
    "\n",
    "def get_embeddings_body_parts(nlp_descriptors: pd.Series, df_embeddings: pd.DataFrame):\n",
    "    \"\"\"\n",
    "    nlp_descriptors: pandas Series with the claim number as index and body_parts (str) as values\n",
    "    df_embeddings: a pandas DataFrame containing all the feature values \n",
    "    \"\"\"\n",
    "\n",
    "    # Converts literal to lists\n",
    "    def safe_eval(value):\n",
    "        try:\n",
    "            return ast.literal_eval(value) if isinstance(value, str) and value.startswith(\"[\") else [value]\n",
    "        except (SyntaxError, ValueError):\n",
    "            return [value]\n",
    "\n",
    "    # converts strings to list and explode them    \n",
    "    df = nlp_descriptors.affected_body_part.apply(safe_eval).explode().astype(str)\n",
    "    # adds the embeddings\n",
    "    df = df.to_frame().join(df_embeddings, on='affected_body_part')[df_embeddings.columns]\n",
    "    # mean pooling when multiple body parts are affected\n",
    "    df = df.groupby(level=0).mean()\n",
    "    # rename columns \n",
    "    df.columns = [f'body_{col}' for col in df.columns]\n",
    "\n",
    "    return df"
   ]
  },
  {
   "cell_type": "code",
   "execution_count": 13,
   "metadata": {},
   "outputs": [],
   "source": [
    "df_body_parts_embeddings_train = get_embeddings_body_parts(df_nlp_descriptors_train, df_embeddings_body_parts)\n",
    "df_body_parts_embeddings_test = get_embeddings_body_parts(df_nlp_descriptors_test, df_embeddings_body_parts)"
   ]
  },
  {
   "cell_type": "code",
   "execution_count": 14,
   "metadata": {},
   "outputs": [],
   "source": [
    "df_body_parts_embeddings_train = df_body_parts_embeddings_train.fillna(df_body_parts_embeddings_train.mean())\n",
    "df_body_parts_embeddings_test = df_body_parts_embeddings_test.fillna(df_body_parts_embeddings_train.mean())"
   ]
  },
  {
   "cell_type": "markdown",
   "metadata": {},
   "source": [
    "# 2. Make dataset"
   ]
  },
  {
   "cell_type": "code",
   "execution_count": 15,
   "metadata": {},
   "outputs": [],
   "source": [
    "dataset_train = pd.concat([\n",
    "    df_train, \n",
    "    df_events_embeddings_train, \n",
    "    df_events_dummies_train, \n",
    "    s_median_cost_event_train, \n",
    "    df_body_parts_embeddings_train\n",
    "], axis=1).dropna(subset='UltimateIncurredClaimCost')"
   ]
  },
  {
   "cell_type": "code",
   "execution_count": 16,
   "metadata": {},
   "outputs": [],
   "source": [
    "cols_event_embeddings = df_events_embeddings_train.columns\n",
    "cols_event_dummies = df_events_dummies_train.columns\n",
    "# event_median_cost is a single column (series)\n",
    "cols_body_parts_embeddings = df_body_parts_embeddings_train.columns"
   ]
  },
  {
   "cell_type": "code",
   "execution_count": 17,
   "metadata": {},
   "outputs": [],
   "source": [
    "# fill null for event dummies\n",
    "dataset_train.loc[dataset_train[cols_event_dummies].isnull().any(axis=1), cols_event_dummies] = False"
   ]
  },
  {
   "cell_type": "code",
   "execution_count": 199,
   "metadata": {},
   "outputs": [],
   "source": [
    "dataset_test = pd.concat([\n",
    "    df_test, \n",
    "    df_events_embeddings_test, \n",
    "    df_events_dummies_test, \n",
    "    s_median_cost_event_test, \n",
    "    df_body_parts_embeddings_test\n",
    "], axis=1)"
   ]
  },
  {
   "cell_type": "code",
   "execution_count": 200,
   "metadata": {},
   "outputs": [],
   "source": [
    "# fill null for event dummies\n",
    "dataset_test.loc[dataset_test[cols_event_dummies].isnull().any(axis=1), cols_event_dummies] = False"
   ]
  },
  {
   "cell_type": "markdown",
   "metadata": {},
   "source": [
    "# 3. Training"
   ]
  },
  {
   "cell_type": "code",
   "execution_count": 20,
   "metadata": {},
   "outputs": [],
   "source": [
    "def train_cv(model, X, y, metric = 'rmse', kfold = 5):\n",
    "\n",
    "    if metric != 'rmse':\n",
    "        raise NotImplemented\n",
    "\n",
    "    scores = cross_val_score(model, X, y, cv=kfold, scoring='neg_mean_squared_error')\n",
    "\n",
    "    mse_scores = -scores\n",
    "    rmse_scores = np.sqrt(mse_scores)\n",
    "\n",
    "    return rmse_scores.mean(), rmse_scores.std()"
   ]
  },
  {
   "cell_type": "markdown",
   "metadata": {},
   "source": [
    "### 3.1 Pipelines"
   ]
  },
  {
   "cell_type": "code",
   "execution_count": 110,
   "metadata": {},
   "outputs": [],
   "source": [
    "log_transformer = Pipeline([\n",
    "    ('log', FunctionTransformer(np.log, validate=False)),\n",
    "    ('scaler', StandardScaler()) \n",
    "])\n",
    "\n",
    "# gender to bool \n",
    "def gender_to_bool(gender_column):\n",
    "    \"\"\"\n",
    "    - Fill missing values with 'M'\n",
    "    - Replace 'U' with 'M'\n",
    "    - Return a boolean-ish column: 1 for 'M', 0 otherwise\n",
    "    \"\"\"\n",
    "    g = pd.Series(gender_column.squeeze(), dtype=str).fillna('M').replace('U', 'M')\n",
    "    is_male = (g == 'M').astype(int)\n",
    "    return is_male.values.reshape(-1, 1)\n",
    "\n",
    "gender_transformer = FunctionTransformer(gender_to_bool, validate=False)\n",
    "\n",
    "# hours worked per week -> to buckets -> to one_hot\n",
    "def bucket_hours_worked(dtt_array):\n",
    "    return pd.cut(\n",
    "        dtt_array.squeeze(), \n",
    "        bins=[-np.inf, 37, 41, np.inf],\n",
    "        labels=[\"<=37\", \"37-41\", \">41\"]\n",
    "    ).astype(str).values.reshape(-1, 1)\n",
    "\n",
    "hours_worked_bucketer = FunctionTransformer(bucket_hours_worked, validate=False)\n",
    "hours_worked_encoder = OneHotEncoder(drop='first')\n",
    "hours_worked_pipeline = Pipeline([\n",
    "    ('bucketizer', hours_worked_bucketer),\n",
    "    ('encoder', hours_worked_encoder)\n",
    "])\n",
    "\n",
    "# DaysToReport (DateReported - DateTimeOfAccident) -> to buckets -> to one_hot\n",
    "def bucket_days_to_report(dtt_array):\n",
    "    return pd.cut(\n",
    "        dtt_array.squeeze(), \n",
    "        bins=[-np.inf, 80, 300, 500, np.inf],\n",
    "        labels=[\"<=80\", \"80-300\", \"300-500\", \">500\"]\n",
    "    ).astype(str).values.reshape(-1, 1)\n",
    "\n",
    "days_to_report_bucketer = FunctionTransformer(bucket_days_to_report, validate=False)\n",
    "days_to_report_encoder = OneHotEncoder(drop='first')\n",
    "days_to_report_pipeline = Pipeline([\n",
    "    ('bucketizer', days_to_report_bucketer),\n",
    "    ('encoder', days_to_report_encoder)\n",
    "])\n",
    "\n",
    "# DaysWorkedPerWeek -> 1 if equals 5, 0 in any other case \n",
    "def days_worked_binarize(days_array):\n",
    "    # Ensure we handle arrays or DataFrames by squeezing to 1D\n",
    "    days = days_array.squeeze()\n",
    "    binarized = (days == 5).astype(int)\n",
    "    # Return as 2D array: (n_samples x 1)\n",
    "    return binarized.values.reshape(-1, 1) if isinstance(days, pd.Series) else binarized.reshape(-1, 1)\n",
    "\n",
    "days_worked_transformer = FunctionTransformer(days_worked_binarize, validate=False)"
   ]
  },
  {
   "cell_type": "code",
   "execution_count": 111,
   "metadata": {},
   "outputs": [],
   "source": [
    "X_train = dataset_train.drop(columns=['UltimateIncurredClaimCost', 'DateTimeOfAccident', 'DateReported', 'ClaimDescription'])\n",
    "y_train = dataset_train['UltimateIncurredClaimCost']"
   ]
  },
  {
   "cell_type": "code",
   "execution_count": 160,
   "metadata": {},
   "outputs": [],
   "source": [
    "preprocessor = ColumnTransformer(\n",
    "    transformers=[\n",
    "        ('log_inc', log_transformer, ['InitialIncurredCalimsCost', 'WeeklyWages']),\n",
    "        ('minmax_scaler', MinMaxScaler(), ['Age', 'YearAccident']),\n",
    "        ('gender_bool', gender_transformer, ['Gender']),\n",
    "        ('hww_bool_onehot', hours_worked_pipeline, ['HoursWorkedPerWeek']),\n",
    "        ('dtt_bool_onehot', days_to_report_pipeline, ['DaysToReport']),\n",
    "        ('has_dependent_bool', Binarizer(threshold=0), ['DependentChildren']),\n",
    "        ('worked_five_days_bool', days_worked_transformer, ['DaysWorkedPerWeek']),\n",
    "        ('onehot', OneHotEncoder(drop='first'), ['MaritalStatus', 'PartTimeFullTime']),\n",
    "        ('pca_event_embeddings', PCA(n_components=20), cols_event_embeddings),\n",
    "        ('passthrough_event_dummies', 'passthrough', cols_event_dummies),\n",
    "        ('pca_body_parts_embeddings', PCA(n_components=20), cols_body_parts_embeddings),\n",
    "        ('std_scaler', StandardScaler(), ['event_median_cost'])\n",
    "    ],\n",
    "    remainder='drop'\n",
    ")"
   ]
  },
  {
   "cell_type": "code",
   "execution_count": 114,
   "metadata": {},
   "outputs": [],
   "source": [
    "regressor_pipeline = Pipeline([\n",
    "    ('preprocessor', preprocessor),\n",
    "    ('linear_model', XGBRegressor())\n",
    "])\n",
    "\n",
    "model = TransformedTargetRegressor(\n",
    "    regressor=regressor_pipeline,\n",
    "    transformer=PowerTransformer(method='box-cox', standardize=False)\n",
    ")"
   ]
  },
  {
   "cell_type": "code",
   "execution_count": 115,
   "metadata": {},
   "outputs": [
    {
     "name": "stdout",
     "output_type": "stream",
     "text": [
      "CV MSE:  574589389.754  (+/- 51396620.043)\n",
      "CV RMSE: 23945.092  (+/- 1105.425)\n"
     ]
    }
   ],
   "source": [
    "\n",
    "scores = cross_val_score(\n",
    "    model, \n",
    "    X_train, \n",
    "    y_train, \n",
    "    cv=5, \n",
    "    scoring='neg_mean_squared_error'\n",
    ")\n",
    "mse_scores = -scores\n",
    "rmse_scores = np.sqrt(mse_scores)\n",
    "\n",
    "print(f\"CV MSE:  {mse_scores.mean():.3f}  (+/- {mse_scores.std():.3f})\")\n",
    "print(f\"CV RMSE: {rmse_scores.mean():.3f}  (+/- {rmse_scores.std():.3f})\")"
   ]
  },
  {
   "cell_type": "markdown",
   "metadata": {},
   "source": [
    "Using all variables yields the best RMSE so far."
   ]
  },
  {
   "cell_type": "markdown",
   "metadata": {},
   "source": [
    "Where does the error come from?"
   ]
  },
  {
   "cell_type": "code",
   "execution_count": 26,
   "metadata": {},
   "outputs": [],
   "source": [
    "y_train_pred = cross_val_predict(\n",
    "    model, X_train, y_train, cv=5\n",
    ")"
   ]
  },
  {
   "cell_type": "code",
   "execution_count": 27,
   "metadata": {},
   "outputs": [],
   "source": [
    "import numpy as np\n",
    "import pandas as pd\n",
    "\n",
    "def error_across_ranges(y_true, y_pred, num_bins=10): \n",
    "\n",
    "    # Create DataFrame with errors\n",
    "    error_df = pd.DataFrame({'y_true': y_true, 'y_pred': y_pred})\n",
    "    error_df['residual'] = error_df['y_true'] - error_df['y_pred']\n",
    "    error_df['absolute_error'] = np.abs(error_df['residual'])\n",
    "    error_df['squared_error'] = error_df['residual'] ** 2 \n",
    "\n",
    "\n",
    "    bins = np.linspace(y_true.min(), y_true.max(), num_bins + 1)\n",
    "    bin_labels = [f\"{bins[i]:,.0f} - {bins[i+1]:,.0f}\" for i in range(len(bins)-1)]\n",
    "\n",
    "    error_df['range'] = pd.cut(error_df['y_true'], bins=bins, labels=bin_labels, include_lowest=True)\n",
    "\n",
    "    result = error_df.groupby('range', observed=True).agg({\n",
    "        'residual': 'count', \n",
    "        'y_true': 'median', \n",
    "        'y_pred': 'median',\n",
    "        'absolute_error': 'mean',\n",
    "        'squared_error': lambda x: np.sqrt(np.mean(x)) \n",
    "    }).round(1).rename(columns={\n",
    "        'residual': 'n',\n",
    "        'y_true': 'median_y_true',\n",
    "        'y_pred': 'median_y_prediction',\n",
    "        'absolute_error': 'mae',\n",
    "        'squared_error': 'rmse'\n",
    "    })\n",
    "\n",
    "    return result\n"
   ]
  },
  {
   "cell_type": "code",
   "execution_count": 28,
   "metadata": {},
   "outputs": [
    {
     "data": {
      "text/html": [
       "<div>\n",
       "<style scoped>\n",
       "    .dataframe tbody tr th:only-of-type {\n",
       "        vertical-align: middle;\n",
       "    }\n",
       "\n",
       "    .dataframe tbody tr th {\n",
       "        vertical-align: top;\n",
       "    }\n",
       "\n",
       "    .dataframe thead th {\n",
       "        text-align: right;\n",
       "    }\n",
       "</style>\n",
       "<table border=\"1\" class=\"dataframe\">\n",
       "  <thead>\n",
       "    <tr style=\"text-align: right;\">\n",
       "      <th></th>\n",
       "      <th>n</th>\n",
       "      <th>median_y_true</th>\n",
       "      <th>median_y_prediction</th>\n",
       "      <th>mae</th>\n",
       "      <th>rmse</th>\n",
       "    </tr>\n",
       "    <tr>\n",
       "      <th>range</th>\n",
       "      <th></th>\n",
       "      <th></th>\n",
       "      <th></th>\n",
       "      <th></th>\n",
       "      <th></th>\n",
       "    </tr>\n",
       "  </thead>\n",
       "  <tbody>\n",
       "    <tr>\n",
       "      <th>122 - 86,687</th>\n",
       "      <td>52782</td>\n",
       "      <td>3184.8</td>\n",
       "      <td>3244.9</td>\n",
       "      <td>3180.7</td>\n",
       "      <td>8839.6</td>\n",
       "    </tr>\n",
       "    <tr>\n",
       "      <th>86,687 - 173,252</th>\n",
       "      <td>893</td>\n",
       "      <td>114506.5</td>\n",
       "      <td>29388.5</td>\n",
       "      <td>82839.8</td>\n",
       "      <td>90764.0</td>\n",
       "    </tr>\n",
       "    <tr>\n",
       "      <th>173,252 - 259,817</th>\n",
       "      <td>223</td>\n",
       "      <td>207886.7</td>\n",
       "      <td>35019.2</td>\n",
       "      <td>162672.4</td>\n",
       "      <td>169361.6</td>\n",
       "    </tr>\n",
       "    <tr>\n",
       "      <th>259,817 - 346,381</th>\n",
       "      <td>50</td>\n",
       "      <td>285873.6</td>\n",
       "      <td>33068.6</td>\n",
       "      <td>251473.5</td>\n",
       "      <td>256246.6</td>\n",
       "    </tr>\n",
       "    <tr>\n",
       "      <th>346,381 - 432,946</th>\n",
       "      <td>26</td>\n",
       "      <td>370786.6</td>\n",
       "      <td>43310.6</td>\n",
       "      <td>319898.3</td>\n",
       "      <td>323553.6</td>\n",
       "    </tr>\n",
       "    <tr>\n",
       "      <th>432,946 - 519,511</th>\n",
       "      <td>14</td>\n",
       "      <td>457384.3</td>\n",
       "      <td>35103.3</td>\n",
       "      <td>420078.5</td>\n",
       "      <td>422086.2</td>\n",
       "    </tr>\n",
       "    <tr>\n",
       "      <th>519,511 - 606,076</th>\n",
       "      <td>4</td>\n",
       "      <td>547586.2</td>\n",
       "      <td>47814.2</td>\n",
       "      <td>482880.2</td>\n",
       "      <td>488321.3</td>\n",
       "    </tr>\n",
       "    <tr>\n",
       "      <th>606,076 - 692,641</th>\n",
       "      <td>1</td>\n",
       "      <td>608650.4</td>\n",
       "      <td>23794.9</td>\n",
       "      <td>584855.6</td>\n",
       "      <td>584855.6</td>\n",
       "    </tr>\n",
       "    <tr>\n",
       "      <th>692,641 - 779,206</th>\n",
       "      <td>4</td>\n",
       "      <td>741750.6</td>\n",
       "      <td>36800.8</td>\n",
       "      <td>696791.6</td>\n",
       "      <td>697926.2</td>\n",
       "    </tr>\n",
       "    <tr>\n",
       "      <th>779,206 - 865,771</th>\n",
       "      <td>2</td>\n",
       "      <td>844738.5</td>\n",
       "      <td>6462.0</td>\n",
       "      <td>838276.5</td>\n",
       "      <td>838587.2</td>\n",
       "    </tr>\n",
       "  </tbody>\n",
       "</table>\n",
       "</div>"
      ],
      "text/plain": [
       "                       n  median_y_true  median_y_prediction       mae  \\\n",
       "range                                                                    \n",
       "122 - 86,687       52782         3184.8               3244.9    3180.7   \n",
       "86,687 - 173,252     893       114506.5              29388.5   82839.8   \n",
       "173,252 - 259,817    223       207886.7              35019.2  162672.4   \n",
       "259,817 - 346,381     50       285873.6              33068.6  251473.5   \n",
       "346,381 - 432,946     26       370786.6              43310.6  319898.3   \n",
       "432,946 - 519,511     14       457384.3              35103.3  420078.5   \n",
       "519,511 - 606,076      4       547586.2              47814.2  482880.2   \n",
       "606,076 - 692,641      1       608650.4              23794.9  584855.6   \n",
       "692,641 - 779,206      4       741750.6              36800.8  696791.6   \n",
       "779,206 - 865,771      2       844738.5               6462.0  838276.5   \n",
       "\n",
       "                       rmse  \n",
       "range                        \n",
       "122 - 86,687         8839.6  \n",
       "86,687 - 173,252    90764.0  \n",
       "173,252 - 259,817  169361.6  \n",
       "259,817 - 346,381  256246.6  \n",
       "346,381 - 432,946  323553.6  \n",
       "432,946 - 519,511  422086.2  \n",
       "519,511 - 606,076  488321.3  \n",
       "606,076 - 692,641  584855.6  \n",
       "692,641 - 779,206  697926.2  \n",
       "779,206 - 865,771  838587.2  "
      ]
     },
     "execution_count": 28,
     "metadata": {},
     "output_type": "execute_result"
    }
   ],
   "source": [
    "error_summary = error_across_ranges(y_train, y_train_pred)\n",
    "error_summary"
   ]
  },
  {
   "cell_type": "markdown",
   "metadata": {},
   "source": [
    "Model error increases as the cost of the claim deviates to the right. It is specially bad at predicting the two highest values."
   ]
  },
  {
   "cell_type": "code",
   "execution_count": 102,
   "metadata": {},
   "outputs": [
    {
     "data": {
      "image/png": "[encoded data removed]",
      "text/plain": [
       "<Figure size 1200x400 with 2 Axes>"
      ]
     },
     "metadata": {},
     "output_type": "display_data"
    }
   ],
   "source": [
    "fig, ax = plt.subplots(1, 2, figsize=(12, 4))\n",
    "\n",
    "\n",
    "sns.histplot(y_train, bins=20, ax=ax[0])\n",
    "ax[0].set_title('histogram of actual values')\n",
    "\n",
    "sns.histplot(y_train_pred, bins=20, ax=ax[1])\n",
    "ax[1].set_title('histogram of predicted values')\n",
    "\n",
    "plt.tight_layout()\n",
    "plt.show()"
   ]
  },
  {
   "cell_type": "markdown",
   "metadata": {},
   "source": [
    "The model struggles to predict low values"
   ]
  },
  {
   "cell_type": "markdown",
   "metadata": {},
   "source": [
    "### Ready to run experiments"
   ]
  },
  {
   "cell_type": "code",
   "execution_count": 187,
   "metadata": {},
   "outputs": [],
   "source": [
    "def run_experiment(\n",
    "        experiment_name, \n",
    "        run_name, \n",
    "        regressor_object, \n",
    "        kfold=5, \n",
    "        save_model=True\n",
    "    ):\n",
    "    \"\"\"\n",
    "    Runs an ML experiment with cross-validation and logs metrics to MLflow,\n",
    "    tracking overall and segmented performance for targets above and below 100,000.\n",
    "\n",
    "    Parameters:\n",
    "    - experiment_name (str): Name of the MLflow experiment.\n",
    "    - run_name (str): Name of the MLflow run.\n",
    "    - regressor_object: The regression model.\n",
    "    - kfold (int): Number of folds for cross-validation.\n",
    "    - save_model (bool): Whether to save the trained model in MLflow.\n",
    "\n",
    "    Logs:\n",
    "    - Overall CV MSE, RMSE, and MAE\n",
    "    - MSE, RMSE, and MAE for y_true > 100,000\n",
    "    - MSE, RMSE, and MAE for y_true ≤ 100,000\n",
    "    \"\"\"\n",
    "\n",
    "    # Define pipeline with preprocessing and model\n",
    "    regressor_pipeline = Pipeline([\n",
    "        ('preprocessor', preprocessor),\n",
    "        ('linear_model', regressor_object)\n",
    "    ])\n",
    "\n",
    "    model = TransformedTargetRegressor(\n",
    "        regressor=regressor_pipeline,\n",
    "        transformer=PowerTransformer(method='box-cox', standardize=False)\n",
    "    )\n",
    "\n",
    "    # Set MLflow experiment\n",
    "    mlflow.set_experiment(experiment_name)\n",
    "\n",
    "    with mlflow.start_run(run_name=run_name):\n",
    "        # Log hyperparameters\n",
    "        params = model.get_params(deep=True)\n",
    "        for param_name, param_value in params.items():\n",
    "            if isinstance(param_value, (str, int, float, bool, type(None))):\n",
    "                mlflow.log_param(param_name, param_value)\n",
    "            else:\n",
    "                mlflow.log_param(param_name, str(param_value))  # Convert complex objects to string\n",
    "        \n",
    "        mlflow.log_param(\"n_features_in\", X_train.shape[1])\n",
    "\n",
    "        # Perform cross-validation with predictions\n",
    "        y_pred = cross_val_predict(model, X_train, y_train, cv=kfold)\n",
    "\n",
    "        # Compute overall errors\n",
    "        overall_mse = mean_squared_error(y_train, y_pred)\n",
    "        overall_rmse = np.sqrt(overall_mse)\n",
    "        overall_mae = mean_absolute_error(y_train, y_pred)\n",
    "\n",
    "        # Compute errors for high and low y_true\n",
    "        high_mask = y_train > 100000\n",
    "\n",
    "        high_mse = mean_squared_error(y_train[high_mask], y_pred[high_mask])\n",
    "        high_rmse = np.sqrt(high_mse)\n",
    "        high_mae = mean_absolute_error(y_train[high_mask], y_pred[high_mask])\n",
    "        \n",
    "        low_mse = mean_squared_error(y_train[~high_mask], y_pred[~high_mask])\n",
    "        low_rmse = np.sqrt(low_mse)\n",
    "        low_mae = mean_absolute_error(y_train[~high_mask], y_pred[~high_mask])\n",
    "    \n",
    "        print(f\"RMSE Overall:  {overall_rmse:.3f} | MAE: {overall_mae:.3f}\")\n",
    "        print(f\"RMSE for low y_true (<= 100k): {low_rmse:.3f} | MAE: {low_mae:.3f}\")\n",
    "        print(f\"RMSE for high y_true (> 100k): {high_rmse:.3f} | MAE: {high_mae:.3f}\")\n",
    "        \n",
    "\n",
    "        # Log overall metrics\n",
    "        mlflow.log_metric(\"cv_mse\", overall_mse)\n",
    "        mlflow.log_metric(\"cv_rmse\", overall_rmse)\n",
    "        mlflow.log_metric(\"cv_mae\", overall_mae)\n",
    "\n",
    "        # Log segmented metrics\n",
    "        mlflow.log_metric(\"cv_mse_high\", high_mse)\n",
    "        mlflow.log_metric(\"cv_rmse_high\", high_rmse)\n",
    "        mlflow.log_metric(\"cv_mae_high\", high_mae)\n",
    "        mlflow.log_metric(\"cv_mse_low\", low_mse)\n",
    "        mlflow.log_metric(\"cv_rmse_low\", low_rmse)\n",
    "        mlflow.log_metric(\"cv_mae_low\", low_mae)\n",
    "\n",
    "        # Fit final model on full dataset\n",
    "        if save_model:\n",
    "            model.fit(X_train, y_train)\n",
    "            mlflow.sklearn.log_model(model, artifact_path=\"models\")\n",
    "    \n",
    "    return overall_rmse\n"
   ]
  },
  {
   "cell_type": "code",
   "execution_count": 127,
   "metadata": {},
   "outputs": [
    {
     "name": "stdout",
     "output_type": "stream",
     "text": [
      "Overall CV RMSE:  23970.583 | MAE: 5775.838\n",
      "High Target (>100k) RMSE: 163026.045 | MAE: 133144.922\n",
      "Low Target (≤100k) RMSE: 9820.900 | MAE: 3433.788\n"
     ]
    }
   ],
   "source": [
    "run_experiment(\n",
    "    experiment_name=\"Actuarial Loss Prediction\",\n",
    "    run_name=\"XGBoost Run\",\n",
    "    regressor_object=XGBRegressor(objective=\"reg:squarederror\"),\n",
    "    kfold=5,\n",
    "    save_model=False\n",
    ")\n"
   ]
  },
  {
   "cell_type": "code",
   "execution_count": 137,
   "metadata": {},
   "outputs": [
    {
     "name": "stdout",
     "output_type": "stream",
     "text": [
      "Overall CV RMSE:  23960.837 | MAE: 5671.620\n",
      "High Target (>100k) RMSE: 164563.781 | MAE: 135032.389\n",
      "Low Target (≤100k) RMSE: 9311.902 | MAE: 3292.947\n"
     ]
    }
   ],
   "source": [
    "# baseline xgb\n",
    "params = {\n",
    "    \"n_estimators\": 100,\n",
    "    \"max_depth\": 2,\n",
    "    \"learning_rate\": 0.2,\n",
    "    \"min_child_weight\": 1,\n",
    "    \"subsample\": 1.0,\n",
    "    \"colsample_bytree\": 1.0,\n",
    "    \"reg_alpha\": 0,\n",
    "    \"reg_lambda\": 0,\n",
    "    \"gamma\": 0,\n",
    "    \"objective\": \"reg:squarederror\"\n",
    "}\n",
    "\n",
    "run_experiment(\n",
    "    experiment_name=\"Actuarial Loss Prediction\",\n",
    "    run_name=\"XGBoost Run - baseline\",\n",
    "    regressor_object=XGBRegressor(**params),\n",
    "    kfold=5,\n",
    "    save_model=False\n",
    ")\n"
   ]
  },
  {
   "cell_type": "code",
   "execution_count": 139,
   "metadata": {},
   "outputs": [
    {
     "name": "stdout",
     "output_type": "stream",
     "text": [
      "Overall CV RMSE:  24043.406 | MAE: 5846.661\n",
      "High Target (>100k) RMSE: 163185.518 | MAE: 133323.040\n",
      "Low Target (≤100k) RMSE: 9952.604 | MAE: 3502.638\n"
     ]
    }
   ],
   "source": [
    "# a deeper model \n",
    "params = {\n",
    "    \"n_estimators\": 1000,\n",
    "    \"max_depth\": 12,\n",
    "    \"learning_rate\": 0.01,  # small LR\n",
    "    \"min_child_weight\": 1,\n",
    "    \"subsample\": 1.0,\n",
    "    \"colsample_bytree\": 1.0,\n",
    "    \"reg_alpha\": 0,\n",
    "    \"reg_lambda\": 0,\n",
    "    \"gamma\": 0,\n",
    "    \"objective\": \"reg:squarederror\"\n",
    "}\n",
    "\n",
    "\n",
    "run_experiment(\n",
    "    experiment_name=\"Actuarial Loss Prediction\",\n",
    "    run_name=\"XGBoost Run - deeper\",\n",
    "    regressor_object=XGBRegressor(**params),\n",
    "    kfold=5,\n",
    "    save_model=False\n",
    ")"
   ]
  },
  {
   "cell_type": "code",
   "execution_count": 140,
   "metadata": {},
   "outputs": [
    {
     "name": "stdout",
     "output_type": "stream",
     "text": [
      "Overall CV RMSE:  24488.346 | MAE: 5629.196\n",
      "High Target (>100k) RMSE: 169482.298 | MAE: 142253.732\n",
      "Low Target (≤100k) RMSE: 9084.455 | MAE: 3116.958\n"
     ]
    }
   ],
   "source": [
    "# heavy regularization\n",
    "params = {\n",
    "    \"n_estimators\": 1000,\n",
    "    \"max_depth\": 4,  # Medium depth\n",
    "    \"learning_rate\": 0.05,  # Slow learning\n",
    "    \"min_child_weight\": 10,  # Avoid splitting on small data points\n",
    "    \"subsample\": 0.7,  # Prevent reliance on any one sample\n",
    "    \"colsample_bytree\": 0.7,  # Prevent reliance on any one feature\n",
    "    \"reg_alpha\": 10,  # Strong L1 penalty\n",
    "    \"reg_lambda\": 10,  # Strong L2 penalty\n",
    "    \"gamma\": 10,  # Require strong gain improvement before splitting\n",
    "    \"objective\": \"reg:squarederror\"\n",
    "}\n",
    "\n",
    "\n",
    "run_experiment(\n",
    "    experiment_name=\"Actuarial Loss Prediction\",\n",
    "    run_name=\"XGBoost Run - regularized\",\n",
    "    regressor_object=XGBRegressor(**params),\n",
    "    kfold=5,\n",
    "    save_model=False\n",
    ")\n"
   ]
  },
  {
   "cell_type": "code",
   "execution_count": 141,
   "metadata": {},
   "outputs": [
    {
     "name": "stdout",
     "output_type": "stream",
     "text": [
      "Overall CV RMSE:  23865.515 | MAE: 5696.507\n",
      "High Target (>100k) RMSE: 163029.361 | MAE: 133205.491\n",
      "Low Target (≤100k) RMSE: 9555.718 | MAE: 3351.885\n"
     ]
    }
   ],
   "source": [
    "# high variance\n",
    "params = {\n",
    "    \"n_estimators\": 500,\n",
    "    \"max_depth\": 3,\n",
    "    \"learning_rate\": 0.1,\n",
    "    \"min_child_weight\": 1,  # No restriction on splits\n",
    "    \"subsample\": 0.5,  # Smaller subsets\n",
    "    \"colsample_bytree\": 0.3,  # Use only a fraction of features per tree\n",
    "    \"reg_alpha\": 0,\n",
    "    \"reg_lambda\": 1,  # Mild L2 regularization\n",
    "    \"gamma\": 0,\n",
    "    \"objective\": \"reg:squarederror\"\n",
    "}\n",
    "\n",
    "\n",
    "\n",
    "run_experiment(\n",
    "    experiment_name=\"Actuarial Loss Prediction\",\n",
    "    run_name=\"XGBoost Run - high variance\",\n",
    "    regressor_object=XGBRegressor(**params),\n",
    "    kfold=5,\n",
    "    save_model=False\n",
    ")"
   ]
  },
  {
   "cell_type": "code",
   "execution_count": 142,
   "metadata": {},
   "outputs": [
    {
     "name": "stdout",
     "output_type": "stream",
     "text": [
      "Overall CV RMSE:  24680.108 | MAE: 5624.033\n",
      "High Target (>100k) RMSE: 170946.180 | MAE: 144267.883\n",
      "Low Target (≤100k) RMSE: 9108.554 | MAE: 3074.664\n"
     ]
    }
   ],
   "source": [
    "# tweedie\n",
    "params = {\n",
    "    \"n_estimators\": 800,\n",
    "    \"max_depth\": 6,\n",
    "    \"learning_rate\": 0.05,\n",
    "    \"min_child_weight\": 5,\n",
    "    \"subsample\": 0.8,\n",
    "    \"colsample_bytree\": 0.8,\n",
    "    \"reg_alpha\": 1,\n",
    "    \"reg_lambda\": 1,\n",
    "    \"gamma\": 1,\n",
    "    \"objective\": \"reg:tweedie\",  # Tweedie helps when target is skewed\n",
    "    \"tweedie_variance_power\": 1.5  # 1.5 = between normal & gamma distribution\n",
    "}\n",
    "\n",
    "run_experiment(\n",
    "    experiment_name=\"Actuarial Loss Prediction\",\n",
    "    run_name=\"XGBoost Run - tweedie\",\n",
    "    regressor_object=XGBRegressor(**params),\n",
    "    kfold=5,\n",
    "    save_model=False\n",
    ")"
   ]
  },
  {
   "cell_type": "code",
   "execution_count": 146,
   "metadata": {},
   "outputs": [
    {
     "name": "stdout",
     "output_type": "stream",
     "text": [
      "Overall CV RMSE:  24320.849 | MAE: 5595.617\n",
      "High Target (>100k) RMSE: 168205.637 | MAE: 140396.157\n",
      "Low Target (≤100k) RMSE: 9062.496 | MAE: 3116.918\n"
     ]
    }
   ],
   "source": [
    "# tweedie\n",
    "params = {\n",
    "    \"n_estimators\": 800,\n",
    "    \"max_depth\": 6,\n",
    "    \"learning_rate\": 0.05,\n",
    "    \"min_child_weight\": 5,\n",
    "    \"subsample\": 0.8,\n",
    "    \"colsample_bytree\": 0.8,\n",
    "    \"reg_alpha\": 1,\n",
    "    \"reg_lambda\": 1,\n",
    "    \"gamma\": 1,\n",
    "    \"objective\": \"reg:tweedie\",  # Tweedie helps when target is skewed\n",
    "    \"tweedie_variance_power\": 1.1  # 1.5 = between normal & gamma distribution\n",
    "}\n",
    "\n",
    "run_experiment(\n",
    "    experiment_name=\"Actuarial Loss Prediction\",\n",
    "    run_name=\"XGBoost Run - tweedie\",\n",
    "    regressor_object=XGBRegressor(**params),\n",
    "    kfold=5,\n",
    "    save_model=False\n",
    ")"
   ]
  },
  {
   "cell_type": "markdown",
   "metadata": {},
   "source": [
    "### Check the number of components for PCA "
   ]
  },
  {
   "cell_type": "code",
   "execution_count": 149,
   "metadata": {},
   "outputs": [
    {
     "data": {
      "text/plain": [
       "768"
      ]
     },
     "execution_count": 149,
     "metadata": {},
     "output_type": "execute_result"
    }
   ],
   "source": [
    "len(cols_event_embeddings)"
   ]
  },
  {
   "cell_type": "code",
   "execution_count": 156,
   "metadata": {},
   "outputs": [
    {
     "data": {
      "image/png": "[encoded data removed]",
      "text/plain": [
       "<Figure size 640x480 with 1 Axes>"
      ]
     },
     "metadata": {},
     "output_type": "display_data"
    }
   ],
   "source": [
    "pca = PCA(n_components=250) \n",
    "pca.fit(X_train[cols_event_embeddings])\n",
    "\n",
    "explained_variance = np.cumsum(pca.explained_variance_ratio_)\n",
    "\n",
    "plt.plot(range(1, len(explained_variance) + 1), explained_variance)\n",
    "plt.xlabel(\"Number of Components\")\n",
    "plt.ylabel(\"Cumulative Explained Variance\")\n",
    "plt.title(\"PCA Explained Variance for Event Embeddings\")\n",
    "plt.grid()\n",
    "plt.show()\n"
   ]
  },
  {
   "cell_type": "markdown",
   "metadata": {},
   "source": [
    "PCA of 20 (current value) explains only about 50% of the variance"
   ]
  },
  {
   "cell_type": "code",
   "execution_count": 166,
   "metadata": {},
   "outputs": [
    {
     "data": {
      "image/png": "[encoded data removed]",
      "text/plain": [
       "<Figure size 640x480 with 1 Axes>"
      ]
     },
     "metadata": {},
     "output_type": "display_data"
    }
   ],
   "source": [
    "pca = PCA(n_components=80) \n",
    "pca.fit(X_train[cols_body_parts_embeddings])\n",
    "\n",
    "explained_variance = np.cumsum(pca.explained_variance_ratio_)\n",
    "\n",
    "plt.plot(range(1, len(explained_variance) + 1), explained_variance)\n",
    "plt.xlabel(\"Number of Components\")\n",
    "plt.ylabel(\"Cumulative Explained Variance\")\n",
    "plt.title(\"PCA Explained Variance for Body Parts Embeddings\")\n",
    "plt.grid()\n",
    "plt.show()\n"
   ]
  },
  {
   "cell_type": "markdown",
   "metadata": {},
   "source": [
    "80 components explain 95% of the variance"
   ]
  },
  {
   "cell_type": "code",
   "execution_count": 172,
   "metadata": {},
   "outputs": [],
   "source": [
    "preprocessor = ColumnTransformer(\n",
    "    transformers=[\n",
    "        ('log_inc', log_transformer, ['InitialIncurredCalimsCost', 'WeeklyWages']),\n",
    "        ('minmax_scaler', MinMaxScaler(), ['Age', 'YearAccident']),\n",
    "        ('gender_bool', gender_transformer, ['Gender']),\n",
    "        ('hww_bool_onehot', hours_worked_pipeline, ['HoursWorkedPerWeek']),\n",
    "        ('dtt_bool_onehot', days_to_report_pipeline, ['DaysToReport']),\n",
    "        ('has_dependent_bool', Binarizer(threshold=0), ['DependentChildren']),\n",
    "        ('worked_five_days_bool', days_worked_transformer, ['DaysWorkedPerWeek']),\n",
    "        ('onehot', OneHotEncoder(drop='first'), ['MaritalStatus', 'PartTimeFullTime']),\n",
    "        ('pca_event_embeddings', PCA(n_components=250), cols_event_embeddings),\n",
    "        ('passthrough_event_dummies', 'passthrough', cols_event_dummies),\n",
    "        ('pca_body_parts_embeddings', PCA(n_components=80), cols_body_parts_embeddings),\n",
    "        ('std_scaler', StandardScaler(), ['event_median_cost'])\n",
    "    ],\n",
    "    remainder='drop'\n",
    ")"
   ]
  },
  {
   "cell_type": "code",
   "execution_count": 173,
   "metadata": {},
   "outputs": [
    {
     "name": "stdout",
     "output_type": "stream",
     "text": [
      "Overall CV RMSE:  23956.255 | MAE: 5661.846\n",
      "High Target (>100k) RMSE: 164598.888 | MAE: 135225.710\n",
      "Low Target (≤100k) RMSE: 9288.457 | MAE: 3279.438\n"
     ]
    }
   ],
   "source": [
    "# baseline xgb\n",
    "params = {\n",
    "    \"n_estimators\": 100,\n",
    "    \"max_depth\": 2,\n",
    "    \"learning_rate\": 0.2,\n",
    "    \"min_child_weight\": 1,\n",
    "    \"subsample\": 1.0,\n",
    "    \"colsample_bytree\": 1.0,\n",
    "    \"reg_alpha\": 0,\n",
    "    \"reg_lambda\": 0,\n",
    "    \"gamma\": 0,\n",
    "    \"objective\": \"reg:squarederror\"\n",
    "}\n",
    "\n",
    "run_experiment(\n",
    "    experiment_name=\"Actuarial Loss Prediction\",\n",
    "    run_name=\"XGBoost Run - baseline - fixed PCA\",\n",
    "    regressor_object=XGBRegressor(**params),\n",
    "    kfold=5,\n",
    "    save_model=False\n",
    ")\n"
   ]
  },
  {
   "cell_type": "code",
   "execution_count": 182,
   "metadata": {},
   "outputs": [
    {
     "name": "stdout",
     "output_type": "stream",
     "text": [
      "Overall CV RMSE:  23895.567 | MAE: 5726.734\n",
      "High Target (>100k) RMSE: 162959.344 | MAE: 133110.159\n",
      "Low Target (≤100k) RMSE: 9653.659 | MAE: 3384.420\n"
     ]
    }
   ],
   "source": [
    "# baseline xgb\n",
    "params = {\n",
    "    \"n_estimators\": 200,\n",
    "    \"max_depth\": 2,\n",
    "    \"learning_rate\": 0.3,\n",
    "    \"min_child_weight\": 1,\n",
    "    \"subsample\": 1.0,\n",
    "    \"colsample_bytree\": 1.0,\n",
    "    \"reg_alpha\": 0,\n",
    "    \"reg_lambda\": 0,\n",
    "    \"gamma\": 0,\n",
    "    \"objective\": \"reg:squarederror\"\n",
    "}\n",
    "\n",
    "run_experiment(\n",
    "    experiment_name=\"Actuarial Loss Prediction\",\n",
    "    run_name=\"XGBoost Run - baseline - estimatros 200 - lr 0.3\",\n",
    "    regressor_object=XGBRegressor(**params),\n",
    "    kfold=5,\n",
    "    save_model=False\n",
    ")\n"
   ]
  },
  {
   "cell_type": "markdown",
   "metadata": {},
   "source": [
    "Hyperparameter optimization using Optuna"
   ]
  },
  {
   "cell_type": "code",
   "execution_count": 188,
   "metadata": {},
   "outputs": [],
   "source": [
    "import optuna\n",
    "import numpy as np\n",
    "from xgboost import XGBRegressor\n",
    "from sklearn.model_selection import cross_val_score\n",
    "\n",
    "def objective(trial):\n",
    "    \"\"\"Objective function for Optuna to optimize XGBoost hyperparameters.\"\"\"\n",
    "    \n",
    "    # Suggest hyperparameters to optimize\n",
    "    params = {\n",
    "        \"n_estimators\": trial.suggest_int(\"n_estimators\", 100, 1000, step=100),\n",
    "        \"max_depth\": trial.suggest_int(\"max_depth\", 2, 10),\n",
    "        \"learning_rate\": trial.suggest_float(\"learning_rate\", 0.01, 0.3, log=True),\n",
    "        \"min_child_weight\": trial.suggest_int(\"min_child_weight\", 1, 10),\n",
    "        \"subsample\": trial.suggest_float(\"subsample\", 0.5, 1.0),\n",
    "        \"colsample_bytree\": trial.suggest_float(\"colsample_bytree\", 0.5, 1.0),\n",
    "        \"reg_alpha\": trial.suggest_float(\"reg_alpha\", 0.0, 1.0),\n",
    "        \"reg_lambda\": trial.suggest_float(\"reg_lambda\", 0.0, 10.0),\n",
    "        \"gamma\": trial.suggest_float(\"gamma\", 0.0, 5.0),\n",
    "    }\n",
    "\n",
    "    rmse = run_experiment(\n",
    "        'Optuna XGBoost',\n",
    "        'XGBoost optimization',\n",
    "        XGBRegressor(**params),\n",
    "        kfold=5,\n",
    "        save_model=False\n",
    "    )\n",
    "\n",
    "    return rmse\n"
   ]
  },
  {
   "cell_type": "code",
   "execution_count": 189,
   "metadata": {},
   "outputs": [
    {
     "name": "stderr",
     "output_type": "stream",
     "text": [
      "[I 2025-03-02 16:27:07,893] A new study created in memory with name: no-name-f32b307e-e28e-4d91-9dd0-aa17024ec266\n",
      "2025/03/02 16:27:07 INFO mlflow.tracking.fluent: Experiment with name 'Optuna XGBoost' does not exist. Creating a new experiment.\n",
      "[I 2025-03-02 16:27:37,725] Trial 0 finished with value: 23991.882604874725 and parameters: {'n_estimators': 400, 'max_depth': 7, 'learning_rate': 0.023070886453213483, 'min_child_weight': 7, 'subsample': 0.9701610714888518, 'colsample_bytree': 0.9132495148587993, 'reg_alpha': 0.7432450632816088, 'reg_lambda': 9.356383131538275, 'gamma': 1.2677978749161611}. Best is trial 0 with value: 23991.882604874725.\n"
     ]
    },
    {
     "name": "stdout",
     "output_type": "stream",
     "text": [
      "RMSE Overall:  23991.883 | MAE: 5528.700\n",
      "RMSE for low y_true (<= 100k): 9011.942 | MAE: 3110.780\n",
      "RMSE for high y_true (> 100k): 165718.446 | MAE: 137023.900\n"
     ]
    },
    {
     "name": "stderr",
     "output_type": "stream",
     "text": [
      "[I 2025-03-02 16:27:48,588] Trial 1 finished with value: 24064.631423217834 and parameters: {'n_estimators': 200, 'max_depth': 7, 'learning_rate': 0.20764924361843218, 'min_child_weight': 3, 'subsample': 0.5210376681238895, 'colsample_bytree': 0.6533259090117276, 'reg_alpha': 0.5003594670157152, 'reg_lambda': 4.387784389809704, 'gamma': 3.352224973181631}. Best is trial 0 with value: 23991.882604874725.\n"
     ]
    },
    {
     "name": "stdout",
     "output_type": "stream",
     "text": [
      "RMSE Overall:  24064.631 | MAE: 5630.939\n",
      "RMSE for low y_true (<= 100k): 9183.525 | MAE: 3216.549\n",
      "RMSE for high y_true (> 100k): 165790.350 | MAE: 136934.177\n"
     ]
    },
    {
     "name": "stderr",
     "output_type": "stream",
     "text": [
      "[I 2025-03-02 16:28:10,740] Trial 2 finished with value: 24058.551252352314 and parameters: {'n_estimators': 1000, 'max_depth': 2, 'learning_rate': 0.088649785547953, 'min_child_weight': 10, 'subsample': 0.7559624485956563, 'colsample_bytree': 0.7301505195731823, 'reg_alpha': 0.8840305426740477, 'reg_lambda': 3.8316955639240824, 'gamma': 4.339943344218617}. Best is trial 0 with value: 23991.882604874725.\n"
     ]
    },
    {
     "name": "stdout",
     "output_type": "stream",
     "text": [
      "RMSE Overall:  24058.551 | MAE: 5671.198\n",
      "RMSE for low y_true (<= 100k): 9208.109 | MAE: 3262.471\n",
      "RMSE for high y_true (> 100k): 165667.274 | MAE: 136666.434\n"
     ]
    },
    {
     "name": "stderr",
     "output_type": "stream",
     "text": [
      "[I 2025-03-02 16:28:21,631] Trial 3 finished with value: 26856.79552538676 and parameters: {'n_estimators': 100, 'max_depth': 4, 'learning_rate': 0.015427757236651029, 'min_child_weight': 8, 'subsample': 0.8404399355198962, 'colsample_bytree': 0.6355034890788194, 'reg_alpha': 0.8454665358115897, 'reg_lambda': 5.735670908993072, 'gamma': 3.020517300796693}. Best is trial 0 with value: 23991.882604874725.\n"
     ]
    },
    {
     "name": "stdout",
     "output_type": "stream",
     "text": [
      "RMSE Overall:  26856.796 | MAE: 6720.646\n",
      "RMSE for low y_true (<= 100k): 11054.267 | MAE: 3928.663\n",
      "RMSE for high y_true (> 100k): 182488.323 | MAE: 158558.722\n"
     ]
    },
    {
     "name": "stderr",
     "output_type": "stream",
     "text": [
      "[I 2025-03-02 16:28:49,404] Trial 4 finished with value: 24463.969441240068 and parameters: {'n_estimators': 400, 'max_depth': 6, 'learning_rate': 0.01003457169804774, 'min_child_weight': 3, 'subsample': 0.6350335522921435, 'colsample_bytree': 0.620001386147668, 'reg_alpha': 0.8079507804353309, 'reg_lambda': 5.951415527360293, 'gamma': 2.823780751469969}. Best is trial 0 with value: 23991.882604874725.\n"
     ]
    },
    {
     "name": "stdout",
     "output_type": "stream",
     "text": [
      "RMSE Overall:  24463.969 | MAE: 5520.626\n",
      "RMSE for low y_true (<= 100k): 9101.482 | MAE: 3013.530\n",
      "RMSE for high y_true (> 100k): 169237.465 | MAE: 141865.483\n"
     ]
    },
    {
     "name": "stderr",
     "output_type": "stream",
     "text": [
      "[I 2025-03-02 16:29:07,438] Trial 5 finished with value: 23976.13939291646 and parameters: {'n_estimators': 700, 'max_depth': 3, 'learning_rate': 0.28734694499802754, 'min_child_weight': 3, 'subsample': 0.8287304179695976, 'colsample_bytree': 0.7468909735886304, 'reg_alpha': 0.017131410039369355, 'reg_lambda': 0.0544794926416059, 'gamma': 1.2325620910102553}. Best is trial 5 with value: 23976.13939291646.\n"
     ]
    },
    {
     "name": "stdout",
     "output_type": "stream",
     "text": [
      "RMSE Overall:  23976.139 | MAE: 5695.940\n",
      "RMSE for low y_true (<= 100k): 9501.597 | MAE: 3329.185\n",
      "RMSE for high y_true (> 100k): 164096.858 | MAE: 134408.566\n"
     ]
    },
    {
     "name": "stderr",
     "output_type": "stream",
     "text": [
      "[I 2025-03-02 16:29:32,793] Trial 6 finished with value: 24155.663745301994 and parameters: {'n_estimators': 1000, 'max_depth': 5, 'learning_rate': 0.04311028433673649, 'min_child_weight': 6, 'subsample': 0.6069115540474831, 'colsample_bytree': 0.7962462948081418, 'reg_alpha': 0.23600600650410752, 'reg_lambda': 4.493140861613119, 'gamma': 4.353125579977435}. Best is trial 5 with value: 23976.13939291646.\n"
     ]
    },
    {
     "name": "stdout",
     "output_type": "stream",
     "text": [
      "RMSE Overall:  24155.664 | MAE: 5539.821\n",
      "RMSE for low y_true (<= 100k): 8981.327 | MAE: 3085.310\n",
      "RMSE for high y_true (> 100k): 167120.606 | MAE: 139024.919\n"
     ]
    },
    {
     "name": "stderr",
     "output_type": "stream",
     "text": [
      "[I 2025-03-02 16:29:52,976] Trial 7 finished with value: 24048.688432329018 and parameters: {'n_estimators': 300, 'max_depth': 5, 'learning_rate': 0.21117657634626966, 'min_child_weight': 10, 'subsample': 0.8478998100860502, 'colsample_bytree': 0.9886168877649611, 'reg_alpha': 0.42200403102807515, 'reg_lambda': 5.3379528045020574, 'gamma': 0.13807103991119007}. Best is trial 5 with value: 23976.13939291646.\n"
     ]
    },
    {
     "name": "stdout",
     "output_type": "stream",
     "text": [
      "RMSE Overall:  24048.688 | MAE: 5827.464\n",
      "RMSE for low y_true (<= 100k): 10070.314 | MAE: 3481.418\n",
      "RMSE for high y_true (> 100k): 162835.520 | MAE: 133413.894\n"
     ]
    },
    {
     "name": "stderr",
     "output_type": "stream",
     "text": [
      "[I 2025-03-02 16:30:26,982] Trial 8 finished with value: 23935.61978630157 and parameters: {'n_estimators': 1000, 'max_depth': 3, 'learning_rate': 0.0179757515959304, 'min_child_weight': 10, 'subsample': 0.6240002875073307, 'colsample_bytree': 0.8716098361236918, 'reg_alpha': 0.2820486682695248, 'reg_lambda': 9.670752483722708, 'gamma': 0.6430146322592312}. Best is trial 8 with value: 23935.61978630157.\n"
     ]
    },
    {
     "name": "stdout",
     "output_type": "stream",
     "text": [
      "RMSE Overall:  23935.620 | MAE: 5593.857\n",
      "RMSE for low y_true (<= 100k): 9186.743 | MAE: 3205.980\n",
      "RMSE for high y_true (> 100k): 164743.004 | MAE: 135455.160\n"
     ]
    },
    {
     "name": "stderr",
     "output_type": "stream",
     "text": [
      "[I 2025-03-02 16:30:39,077] Trial 9 finished with value: 24059.8209996627 and parameters: {'n_estimators': 300, 'max_depth': 9, 'learning_rate': 0.29403502108225105, 'min_child_weight': 5, 'subsample': 0.7922331732524719, 'colsample_bytree': 0.7177050329173408, 'reg_alpha': 0.41840680109645734, 'reg_lambda': 2.792316852210707, 'gamma': 3.310722681428588}. Best is trial 8 with value: 23935.61978630157.\n"
     ]
    },
    {
     "name": "stdout",
     "output_type": "stream",
     "text": [
      "RMSE Overall:  24059.821 | MAE: 5614.597\n",
      "RMSE for low y_true (<= 100k): 9132.637 | MAE: 3193.720\n",
      "RMSE for high y_true (> 100k): 165904.515 | MAE: 137270.610\n"
     ]
    },
    {
     "name": "stderr",
     "output_type": "stream",
     "text": [
      "[I 2025-03-02 16:31:00,110] Trial 10 finished with value: 23932.80356288146 and parameters: {'n_estimators': 700, 'max_depth': 2, 'learning_rate': 0.039666400304883484, 'min_child_weight': 1, 'subsample': 0.6552253050927741, 'colsample_bytree': 0.5112139890261134, 'reg_alpha': 0.04778751692245137, 'reg_lambda': 9.814699177312562, 'gamma': 0.19879090864433957}. Best is trial 10 with value: 23932.80356288146.\n"
     ]
    },
    {
     "name": "stdout",
     "output_type": "stream",
     "text": [
      "RMSE Overall:  23932.804 | MAE: 5732.387\n",
      "RMSE for low y_true (<= 100k): 9451.121 | MAE: 3372.549\n",
      "RMSE for high y_true (> 100k): 163904.908 | MAE: 134068.889\n"
     ]
    },
    {
     "name": "stderr",
     "output_type": "stream",
     "text": [
      "[I 2025-03-02 16:31:21,678] Trial 11 finished with value: 23932.7779603528 and parameters: {'n_estimators': 700, 'max_depth': 2, 'learning_rate': 0.038078447769056036, 'min_child_weight': 1, 'subsample': 0.647203170436217, 'colsample_bytree': 0.5410115704042113, 'reg_alpha': 0.0685984727020255, 'reg_lambda': 9.747864381235225, 'gamma': 0.14736611887797818}. Best is trial 11 with value: 23932.7779603528.\n"
     ]
    },
    {
     "name": "stdout",
     "output_type": "stream",
     "text": [
      "RMSE Overall:  23932.778 | MAE: 5729.217\n",
      "RMSE for low y_true (<= 100k): 9436.098 | MAE: 3367.716\n",
      "RMSE for high y_true (> 100k): 163951.768 | MAE: 134156.129\n"
     ]
    },
    {
     "name": "stderr",
     "output_type": "stream",
     "text": [
      "[I 2025-03-02 16:31:42,398] Trial 12 finished with value: 23941.374521119746 and parameters: {'n_estimators': 700, 'max_depth': 2, 'learning_rate': 0.04742681211992057, 'min_child_weight': 1, 'subsample': 0.6855182678899858, 'colsample_bytree': 0.5066908154449362, 'reg_alpha': 0.0027175814038489787, 'reg_lambda': 8.071750548828561, 'gamma': 1.7263882319856425}. Best is trial 11 with value: 23932.7779603528.\n"
     ]
    },
    {
     "name": "stdout",
     "output_type": "stream",
     "text": [
      "RMSE Overall:  23941.375 | MAE: 5740.078\n",
      "RMSE for low y_true (<= 100k): 9457.012 | MAE: 3379.825\n",
      "RMSE for high y_true (> 100k): 163955.748 | MAE: 134099.112\n"
     ]
    },
    {
     "name": "stderr",
     "output_type": "stream",
     "text": [
      "[I 2025-03-02 16:32:03,244] Trial 13 finished with value: 23898.679790684324 and parameters: {'n_estimators': 700, 'max_depth': 2, 'learning_rate': 0.08432125938618049, 'min_child_weight': 1, 'subsample': 0.5124767017678578, 'colsample_bytree': 0.5104553782806389, 'reg_alpha': 0.2184901700782223, 'reg_lambda': 7.773073346530749, 'gamma': 0.08136046137024179}. Best is trial 13 with value: 23898.679790684324.\n"
     ]
    },
    {
     "name": "stdout",
     "output_type": "stream",
     "text": [
      "RMSE Overall:  23898.680 | MAE: 5741.918\n",
      "RMSE for low y_true (<= 100k): 9618.415 | MAE: 3402.587\n",
      "RMSE for high y_true (> 100k): 163097.905 | MAE: 132963.126\n"
     ]
    },
    {
     "name": "stderr",
     "output_type": "stream",
     "text": [
      "[I 2025-03-02 16:32:24,519] Trial 14 finished with value: 24030.620844660207 and parameters: {'n_estimators': 800, 'max_depth': 9, 'learning_rate': 0.09238606506574698, 'min_child_weight': 1, 'subsample': 0.5123065223016758, 'colsample_bytree': 0.5611900518132255, 'reg_alpha': 0.18307343071045865, 'reg_lambda': 7.609346052261705, 'gamma': 2.152098703686739}. Best is trial 13 with value: 23898.679790684324.\n"
     ]
    },
    {
     "name": "stdout",
     "output_type": "stream",
     "text": [
      "RMSE Overall:  24030.621 | MAE: 5613.909\n",
      "RMSE for low y_true (<= 100k): 9226.449 | MAE: 3211.348\n",
      "RMSE for high y_true (> 100k): 165387.033 | MAE: 136273.805\n"
     ]
    },
    {
     "name": "stderr",
     "output_type": "stream",
     "text": [
      "[I 2025-03-02 16:32:46,939] Trial 15 finished with value: 23883.718182020944 and parameters: {'n_estimators': 600, 'max_depth': 4, 'learning_rate': 0.08496531765732618, 'min_child_weight': 4, 'subsample': 0.5654007331997579, 'colsample_bytree': 0.5943596332426031, 'reg_alpha': 0.6202377146669086, 'reg_lambda': 7.608858141563199, 'gamma': 0.8488428031047912}. Best is trial 15 with value: 23883.718182020944.\n"
     ]
    },
    {
     "name": "stdout",
     "output_type": "stream",
     "text": [
      "RMSE Overall:  23883.718 | MAE: 5671.451\n",
      "RMSE for low y_true (<= 100k): 9460.177 | MAE: 3315.802\n",
      "RMSE for high y_true (> 100k): 163479.403 | MAE: 133780.123\n"
     ]
    },
    {
     "name": "stderr",
     "output_type": "stream",
     "text": [
      "[I 2025-03-02 16:33:06,881] Trial 16 finished with value: 23895.72236762192 and parameters: {'n_estimators': 500, 'max_depth': 4, 'learning_rate': 0.09502326095660843, 'min_child_weight': 4, 'subsample': 0.5629108627625132, 'colsample_bytree': 0.5907003760471393, 'reg_alpha': 0.6400439893473475, 'reg_lambda': 7.260012362700728, 'gamma': 0.8645550829785184}. Best is trial 15 with value: 23883.718182020944.\n"
     ]
    },
    {
     "name": "stdout",
     "output_type": "stream",
     "text": [
      "RMSE Overall:  23895.722 | MAE: 5669.989\n",
      "RMSE for low y_true (<= 100k): 9459.870 | MAE: 3315.417\n",
      "RMSE for high y_true (> 100k): 163577.495 | MAE: 133720.046\n"
     ]
    },
    {
     "name": "stderr",
     "output_type": "stream",
     "text": [
      "[I 2025-03-02 16:33:25,202] Trial 17 finished with value: 23896.469308065585 and parameters: {'n_estimators': 500, 'max_depth': 4, 'learning_rate': 0.12687730858594923, 'min_child_weight': 4, 'subsample': 0.5797155243665343, 'colsample_bytree': 0.6716673732633263, 'reg_alpha': 0.6513739788011326, 'reg_lambda': 6.733550632120137, 'gamma': 0.9676423065701774}. Best is trial 15 with value: 23883.718182020944.\n"
     ]
    },
    {
     "name": "stdout",
     "output_type": "stream",
     "text": [
      "RMSE Overall:  23896.469 | MAE: 5663.550\n",
      "RMSE for low y_true (<= 100k): 9468.542 | MAE: 3308.270\n",
      "RMSE for high y_true (> 100k): 163556.247 | MAE: 133752.160\n"
     ]
    },
    {
     "name": "stderr",
     "output_type": "stream",
     "text": [
      "[I 2025-03-02 16:33:41,231] Trial 18 finished with value: 23965.190676230915 and parameters: {'n_estimators': 500, 'max_depth': 5, 'learning_rate': 0.13805213687832799, 'min_child_weight': 5, 'subsample': 0.56703734470251, 'colsample_bytree': 0.5734049547407263, 'reg_alpha': 0.6040727344582782, 'reg_lambda': 6.754734883462472, 'gamma': 1.8890355088311315}. Best is trial 15 with value: 23883.718182020944.\n"
     ]
    },
    {
     "name": "stdout",
     "output_type": "stream",
     "text": [
      "RMSE Overall:  23965.191 | MAE: 5624.628\n",
      "RMSE for low y_true (<= 100k): 9247.832 | MAE: 3238.124\n",
      "RMSE for high y_true (> 100k): 164795.212 | MAE: 135411.264\n"
     ]
    },
    {
     "name": "stderr",
     "output_type": "stream",
     "text": [
      "[I 2025-03-02 16:33:59,118] Trial 19 finished with value: 24153.840574988357 and parameters: {'n_estimators': 600, 'max_depth': 7, 'learning_rate': 0.06909763331587086, 'min_child_weight': 4, 'subsample': 0.7191498427701399, 'colsample_bytree': 0.5978974376226147, 'reg_alpha': 0.9648240713713373, 'reg_lambda': 8.624472334606201, 'gamma': 4.981610483171717}. Best is trial 15 with value: 23883.718182020944.\n"
     ]
    },
    {
     "name": "stdout",
     "output_type": "stream",
     "text": [
      "RMSE Overall:  24153.841 | MAE: 5614.387\n",
      "RMSE for low y_true (<= 100k): 9139.441 | MAE: 3175.339\n",
      "RMSE for high y_true (> 100k): 166639.139 | MAE: 138258.561\n"
     ]
    },
    {
     "name": "stderr",
     "output_type": "stream",
     "text": [
      "[I 2025-03-02 16:34:21,150] Trial 20 finished with value: 23883.6512121492 and parameters: {'n_estimators': 900, 'max_depth': 4, 'learning_rate': 0.1494021951321665, 'min_child_weight': 7, 'subsample': 0.9693317649910538, 'colsample_bytree': 0.8189984000637519, 'reg_alpha': 0.6482962464313586, 'reg_lambda': 2.2561218553835323, 'gamma': 0.7821727380297361}. Best is trial 20 with value: 23883.6512121492.\n"
     ]
    },
    {
     "name": "stdout",
     "output_type": "stream",
     "text": [
      "RMSE Overall:  23883.651 | MAE: 5615.031\n",
      "RMSE for low y_true (<= 100k): 9303.257 | MAE: 3246.929\n",
      "RMSE for high y_true (> 100k): 163967.872 | MAE: 134400.952\n"
     ]
    },
    {
     "name": "stderr",
     "output_type": "stream",
     "text": [
      "[I 2025-03-02 16:34:43,790] Trial 21 finished with value: 23894.69967167379 and parameters: {'n_estimators': 900, 'max_depth': 4, 'learning_rate': 0.13822304998158916, 'min_child_weight': 8, 'subsample': 0.927091405999726, 'colsample_bytree': 0.8148455916608067, 'reg_alpha': 0.6191808039970329, 'reg_lambda': 1.3419937407443454, 'gamma': 0.7762207655890109}. Best is trial 20 with value: 23883.6512121492.\n"
     ]
    },
    {
     "name": "stdout",
     "output_type": "stream",
     "text": [
      "RMSE Overall:  23894.700 | MAE: 5620.652\n",
      "RMSE for low y_true (<= 100k): 9348.457 | MAE: 3254.596\n",
      "RMSE for high y_true (> 100k): 163917.204 | MAE: 134295.227\n"
     ]
    },
    {
     "name": "stderr",
     "output_type": "stream",
     "text": [
      "[I 2025-03-02 16:35:04,712] Trial 22 finished with value: 23945.625826087726 and parameters: {'n_estimators': 900, 'max_depth': 3, 'learning_rate': 0.13943780300695677, 'min_child_weight': 8, 'subsample': 0.992767864958563, 'colsample_bytree': 0.8036336834428058, 'reg_alpha': 0.5199578776951658, 'reg_lambda': 1.2017285108891196, 'gamma': 1.5130125002268904}. Best is trial 20 with value: 23883.6512121492.\n"
     ]
    },
    {
     "name": "stdout",
     "output_type": "stream",
     "text": [
      "RMSE Overall:  23945.626 | MAE: 5621.710\n",
      "RMSE for low y_true (<= 100k): 9228.434 | MAE: 3234.554\n",
      "RMSE for high y_true (> 100k): 164696.807 | MAE: 135443.801\n"
     ]
    },
    {
     "name": "stderr",
     "output_type": "stream",
     "text": [
      "[I 2025-03-02 16:35:28,565] Trial 23 finished with value: 23906.207174024825 and parameters: {'n_estimators': 900, 'max_depth': 6, 'learning_rate': 0.1699070114468097, 'min_child_weight': 8, 'subsample': 0.9302978920264583, 'colsample_bytree': 0.8348809585926625, 'reg_alpha': 0.7098231362481953, 'reg_lambda': 2.3307588648971276, 'gamma': 0.5742288679523483}. Best is trial 20 with value: 23883.6512121492.\n"
     ]
    },
    {
     "name": "stdout",
     "output_type": "stream",
     "text": [
      "RMSE Overall:  23906.207 | MAE: 5639.012\n",
      "RMSE for low y_true (<= 100k): 9322.691 | MAE: 3268.247\n",
      "RMSE for high y_true (> 100k): 164089.847 | MAE: 134569.717\n"
     ]
    },
    {
     "name": "stderr",
     "output_type": "stream",
     "text": [
      "[I 2025-03-02 16:35:52,137] Trial 24 finished with value: 23998.51303964939 and parameters: {'n_estimators': 900, 'max_depth': 4, 'learning_rate': 0.061635253418805123, 'min_child_weight': 7, 'subsample': 0.9065060248580099, 'colsample_bytree': 0.9001476128831025, 'reg_alpha': 0.5674551636915076, 'reg_lambda': 1.5295357461766528, 'gamma': 2.3132148167155107}. Best is trial 20 with value: 23883.6512121492.\n"
     ]
    },
    {
     "name": "stdout",
     "output_type": "stream",
     "text": [
      "RMSE Overall:  23998.513 | MAE: 5567.298\n",
      "RMSE for low y_true (<= 100k): 9060.953 | MAE: 3153.732\n",
      "RMSE for high y_true (> 100k): 165626.250 | MAE: 136825.667\n"
     ]
    },
    {
     "name": "stderr",
     "output_type": "stream",
     "text": [
      "[I 2025-03-02 16:36:15,970] Trial 25 finished with value: 23887.11491395782 and parameters: {'n_estimators': 800, 'max_depth': 6, 'learning_rate': 0.11729388808653099, 'min_child_weight': 9, 'subsample': 0.9020431425335915, 'colsample_bytree': 0.7881666325000708, 'reg_alpha': 0.4062129724870021, 'reg_lambda': 0.06749317154377721, 'gamma': 0.6459339172229304}. Best is trial 20 with value: 23883.6512121492.\n"
     ]
    },
    {
     "name": "stdout",
     "output_type": "stream",
     "text": [
      "RMSE Overall:  23887.115 | MAE: 5625.942\n",
      "RMSE for low y_true (<= 100k): 9319.990 | MAE: 3252.912\n",
      "RMSE for high y_true (> 100k): 163944.134 | MAE: 134679.856\n"
     ]
    },
    {
     "name": "stderr",
     "output_type": "stream",
     "text": [
      "[I 2025-03-02 16:36:39,376] Trial 26 finished with value: 24049.943253272835 and parameters: {'n_estimators': 800, 'max_depth': 10, 'learning_rate': 0.11072021240849568, 'min_child_weight': 9, 'subsample': 0.8628124917063801, 'colsample_bytree': 0.6975313917946361, 'reg_alpha': 0.4186889743409564, 'reg_lambda': 0.6836439613565399, 'gamma': 1.2690772389294764}. Best is trial 20 with value: 23883.6512121492.\n"
     ]
    },
    {
     "name": "stdout",
     "output_type": "stream",
     "text": [
      "RMSE Overall:  24049.943 | MAE: 5552.143\n",
      "RMSE for low y_true (<= 100k): 9111.546 | MAE: 3129.395\n",
      "RMSE for high y_true (> 100k): 165888.261 | MAE: 137309.858\n"
     ]
    },
    {
     "name": "stderr",
     "output_type": "stream",
     "text": [
      "[I 2025-03-02 16:37:02,501] Trial 27 finished with value: 23930.75276002589 and parameters: {'n_estimators': 800, 'max_depth': 6, 'learning_rate': 0.1904283493225697, 'min_child_weight': 6, 'subsample': 0.8915798900493352, 'colsample_bytree': 0.7643745442724857, 'reg_alpha': 0.33015172424124023, 'reg_lambda': 2.9968720414218386, 'gamma': 0.4688087892221433}. Best is trial 20 with value: 23883.6512121492.\n"
     ]
    },
    {
     "name": "stdout",
     "output_type": "stream",
     "text": [
      "RMSE Overall:  23930.753 | MAE: 5698.425\n",
      "RMSE for low y_true (<= 100k): 9566.258 | MAE: 3338.567\n",
      "RMSE for high y_true (> 100k): 163524.629 | MAE: 134036.006\n"
     ]
    },
    {
     "name": "stderr",
     "output_type": "stream",
     "text": [
      "[I 2025-03-02 16:37:23,917] Trial 28 finished with value: 24049.047650041488 and parameters: {'n_estimators': 600, 'max_depth': 8, 'learning_rate': 0.06755572744761541, 'min_child_weight': 9, 'subsample': 0.9583055726338837, 'colsample_bytree': 0.8646514093505185, 'reg_alpha': 0.3706541644609876, 'reg_lambda': 2.1869676072347355, 'gamma': 1.924671440375181}. Best is trial 20 with value: 23883.6512121492.\n"
     ]
    },
    {
     "name": "stdout",
     "output_type": "stream",
     "text": [
      "RMSE Overall:  24049.048 | MAE: 5526.704\n",
      "RMSE for low y_true (<= 100k): 8994.783 | MAE: 3095.727\n",
      "RMSE for high y_true (> 100k): 166227.267 | MAE: 137731.983\n"
     ]
    },
    {
     "name": "stderr",
     "output_type": "stream",
     "text": [
      "[I 2025-03-02 16:37:47,793] Trial 29 finished with value: 23938.53475549113 and parameters: {'n_estimators': 800, 'max_depth': 5, 'learning_rate': 0.05380011161461099, 'min_child_weight': 7, 'subsample': 0.997221424972791, 'colsample_bytree': 0.7763838756360968, 'reg_alpha': 0.7320589959675798, 'reg_lambda': 0.5027054233569495, 'gamma': 1.1586154096538235}. Best is trial 20 with value: 23883.6512121492.\n"
     ]
    },
    {
     "name": "stdout",
     "output_type": "stream",
     "text": [
      "RMSE Overall:  23938.535 | MAE: 5563.634\n",
      "RMSE for low y_true (<= 100k): 9102.468 | MAE: 3166.407\n",
      "RMSE for high y_true (> 100k): 165020.631 | MAE: 135933.432\n"
     ]
    },
    {
     "name": "stderr",
     "output_type": "stream",
     "text": [
      "[I 2025-03-02 16:38:07,217] Trial 30 finished with value: 23934.94664915512 and parameters: {'n_estimators': 600, 'max_depth': 6, 'learning_rate': 0.11436185298989433, 'min_child_weight': 9, 'subsample': 0.7921935000254251, 'colsample_bytree': 0.9598340856787873, 'reg_alpha': 0.7843487433903538, 'reg_lambda': 8.756304162915749, 'gamma': 1.4270527266798148}. Best is trial 20 with value: 23883.6512121492.\n"
     ]
    },
    {
     "name": "stdout",
     "output_type": "stream",
     "text": [
      "RMSE Overall:  23934.947 | MAE: 5574.420\n",
      "RMSE for low y_true (<= 100k): 9097.131 | MAE: 3176.519\n",
      "RMSE for high y_true (> 100k): 165007.810 | MAE: 135980.845\n"
     ]
    },
    {
     "name": "stderr",
     "output_type": "stream",
     "text": [
      "[I 2025-03-02 16:38:29,283] Trial 31 finished with value: 23929.731553934264 and parameters: {'n_estimators': 900, 'max_depth': 3, 'learning_rate': 0.15904723678040153, 'min_child_weight': 7, 'subsample': 0.9554608219736576, 'colsample_bytree': 0.812241579325336, 'reg_alpha': 0.5713578781385827, 'reg_lambda': 1.6555298148170783, 'gamma': 0.9337270063065977}. Best is trial 20 with value: 23883.6512121492.\n"
     ]
    },
    {
     "name": "stdout",
     "output_type": "stream",
     "text": [
      "RMSE Overall:  23929.732 | MAE: 5644.697\n",
      "RMSE for low y_true (<= 100k): 9383.891 | MAE: 3276.168\n",
      "RMSE for high y_true (> 100k): 164090.039 | MAE: 134453.809\n"
     ]
    },
    {
     "name": "stderr",
     "output_type": "stream",
     "text": [
      "[I 2025-03-02 16:38:57,392] Trial 32 finished with value: 23891.059348173087 and parameters: {'n_estimators': 900, 'max_depth': 4, 'learning_rate': 0.07649983618561523, 'min_child_weight': 8, 'subsample': 0.9127270940860062, 'colsample_bytree': 0.8500011457829199, 'reg_alpha': 0.6856744950768308, 'reg_lambda': 3.5295688132641354, 'gamma': 0.5380019081803951}. Best is trial 20 with value: 23883.6512121492.\n"
     ]
    },
    {
     "name": "stdout",
     "output_type": "stream",
     "text": [
      "RMSE Overall:  23891.059 | MAE: 5612.208\n",
      "RMSE for low y_true (<= 100k): 9351.661 | MAE: 3245.964\n",
      "RMSE for high y_true (> 100k): 163877.871 | MAE: 134297.036\n"
     ]
    },
    {
     "name": "stderr",
     "output_type": "stream",
     "text": [
      "[I 2025-03-02 16:39:28,367] Trial 33 finished with value: 23845.520350908555 and parameters: {'n_estimators': 1000, 'max_depth': 5, 'learning_rate': 0.07733651173351022, 'min_child_weight': 6, 'subsample': 0.8826700954083797, 'colsample_bytree': 0.8526671678597144, 'reg_alpha': 0.6828611152700053, 'reg_lambda': 3.4708419387090728, 'gamma': 0.49023499265580806}. Best is trial 33 with value: 23845.520350908555.\n"
     ]
    },
    {
     "name": "stdout",
     "output_type": "stream",
     "text": [
      "RMSE Overall:  23845.520 | MAE: 5609.037\n",
      "RMSE for low y_true (<= 100k): 9323.978 | MAE: 3248.347\n",
      "RMSE for high y_true (> 100k): 163596.076 | MAE: 133991.853\n"
     ]
    },
    {
     "name": "stderr",
     "output_type": "stream",
     "text": [
      "[I 2025-03-02 16:40:15,881] Trial 34 finished with value: 23854.14132865613 and parameters: {'n_estimators': 1000, 'max_depth': 7, 'learning_rate': 0.030083843165047502, 'min_child_weight': 6, 'subsample': 0.8804735138707654, 'colsample_bytree': 0.9089650259772861, 'reg_alpha': 0.49720975763013553, 'reg_lambda': 3.9182522568551748, 'gamma': 0.4981151231994361}. Best is trial 33 with value: 23845.520350908555.\n"
     ]
    },
    {
     "name": "stdout",
     "output_type": "stream",
     "text": [
      "RMSE Overall:  23854.141 | MAE: 5573.207\n",
      "RMSE for low y_true (<= 100k): 9177.514 | MAE: 3192.307\n",
      "RMSE for high y_true (> 100k): 164115.263 | MAE: 135055.076\n"
     ]
    },
    {
     "name": "stderr",
     "output_type": "stream",
     "text": [
      "[I 2025-03-02 16:41:11,607] Trial 35 finished with value: 23877.920974985198 and parameters: {'n_estimators': 1000, 'max_depth': 7, 'learning_rate': 0.026787706807264482, 'min_child_weight': 6, 'subsample': 0.8036264664128667, 'colsample_bytree': 0.9228535051209923, 'reg_alpha': 0.5291639914753239, 'reg_lambda': 4.183580429086017, 'gamma': 0.44663894601405857}. Best is trial 33 with value: 23845.520350908555.\n"
     ]
    },
    {
     "name": "stdout",
     "output_type": "stream",
     "text": [
      "RMSE Overall:  23877.921 | MAE: 5585.119\n",
      "RMSE for low y_true (<= 100k): 9221.581 | MAE: 3208.016\n",
      "RMSE for high y_true (> 100k): 164172.437 | MAE: 134860.490\n"
     ]
    },
    {
     "name": "stderr",
     "output_type": "stream",
     "text": [
      "[I 2025-03-02 16:42:55,106] Trial 36 finished with value: 23935.73076040512 and parameters: {'n_estimators': 1000, 'max_depth': 7, 'learning_rate': 0.031245542965671575, 'min_child_weight': 6, 'subsample': 0.8074110607405098, 'colsample_bytree': 0.918313016503599, 'reg_alpha': 0.5131382795422473, 'reg_lambda': 4.278685293065181, 'gamma': 0.0073420939843279465}. Best is trial 33 with value: 23845.520350908555.\n"
     ]
    },
    {
     "name": "stdout",
     "output_type": "stream",
     "text": [
      "RMSE Overall:  23935.731 | MAE: 5689.039\n",
      "RMSE for low y_true (<= 100k): 9589.212 | MAE: 3330.518\n",
      "RMSE for high y_true (> 100k): 163491.863 | MAE: 133953.908\n"
     ]
    },
    {
     "name": "stderr",
     "output_type": "stream",
     "text": [
      "[I 2025-03-02 16:44:10,186] Trial 37 finished with value: 23895.12876505176 and parameters: {'n_estimators': 1000, 'max_depth': 8, 'learning_rate': 0.024356093906531418, 'min_child_weight': 5, 'subsample': 0.7559464912266081, 'colsample_bytree': 0.936996114995398, 'reg_alpha': 0.9047987858064032, 'reg_lambda': 4.725057463434187, 'gamma': 0.34587739319880756}. Best is trial 33 with value: 23845.520350908555.\n"
     ]
    },
    {
     "name": "stdout",
     "output_type": "stream",
     "text": [
      "RMSE Overall:  23895.129 | MAE: 5595.773\n",
      "RMSE for low y_true (<= 100k): 9222.171 | MAE: 3214.656\n",
      "RMSE for high y_true (> 100k): 164309.239 | MAE: 135089.441\n"
     ]
    },
    {
     "name": "stderr",
     "output_type": "stream",
     "text": [
      "[I 2025-03-02 16:44:43,357] Trial 38 finished with value: 24080.80608441168 and parameters: {'n_estimators': 1000, 'max_depth': 8, 'learning_rate': 0.028317432290160108, 'min_child_weight': 6, 'subsample': 0.8753047381471858, 'colsample_bytree': 0.8914296387311238, 'reg_alpha': 0.48515880854965165, 'reg_lambda': 3.6830936218062376, 'gamma': 2.5628472415564074}. Best is trial 33 with value: 23845.520350908555.\n"
     ]
    },
    {
     "name": "stdout",
     "output_type": "stream",
     "text": [
      "RMSE Overall:  24080.806 | MAE: 5521.604\n",
      "RMSE for low y_true (<= 100k): 8980.359 | MAE: 3082.474\n",
      "RMSE for high y_true (> 100k): 166524.052 | MAE: 138170.241\n"
     ]
    },
    {
     "name": "stderr",
     "output_type": "stream",
     "text": [
      "[I 2025-03-02 16:45:31,087] Trial 39 finished with value: 23945.999685645307 and parameters: {'n_estimators': 1000, 'max_depth': 7, 'learning_rate': 0.018204060657117823, 'min_child_weight': 6, 'subsample': 0.8441981934347157, 'colsample_bytree': 0.9961621579287027, 'reg_alpha': 0.7677069336324112, 'reg_lambda': 5.312325859241588, 'gamma': 1.1033205884363941}. Best is trial 33 with value: 23845.520350908555.\n"
     ]
    },
    {
     "name": "stdout",
     "output_type": "stream",
     "text": [
      "RMSE Overall:  23946.000 | MAE: 5545.256\n",
      "RMSE for low y_true (<= 100k): 9043.867 | MAE: 3140.123\n",
      "RMSE for high y_true (> 100k): 165255.672 | MAE: 136345.023\n"
     ]
    },
    {
     "name": "stderr",
     "output_type": "stream",
     "text": [
      "[I 2025-03-02 16:45:43,246] Trial 40 finished with value: 24596.797739602862 and parameters: {'n_estimators': 100, 'max_depth': 5, 'learning_rate': 0.032798002825236594, 'min_child_weight': 7, 'subsample': 0.8181622842097656, 'colsample_bytree': 0.9425354478766311, 'reg_alpha': 0.4830339867958826, 'reg_lambda': 2.9023584468399943, 'gamma': 3.888241280617766}. Best is trial 33 with value: 23845.520350908555.\n"
     ]
    },
    {
     "name": "stdout",
     "output_type": "stream",
     "text": [
      "RMSE Overall:  24596.798 | MAE: 5500.021\n",
      "RMSE for low y_true (<= 100k): 9054.383 | MAE: 2961.057\n",
      "RMSE for high y_true (> 100k): 170436.910 | MAE: 143578.008\n"
     ]
    },
    {
     "name": "stderr",
     "output_type": "stream",
     "text": [
      "[I 2025-03-02 16:47:07,301] Trial 41 finished with value: 23865.60727530269 and parameters: {'n_estimators': 1000, 'max_depth': 7, 'learning_rate': 0.014402254174425507, 'min_child_weight': 5, 'subsample': 0.7772546625380236, 'colsample_bytree': 0.842387336256802, 'reg_alpha': 0.5547141003650069, 'reg_lambda': 4.116400591523429, 'gamma': 0.378241920076269}. Best is trial 33 with value: 23845.520350908555.\n"
     ]
    },
    {
     "name": "stdout",
     "output_type": "stream",
     "text": [
      "RMSE Overall:  23865.607 | MAE: 5583.032\n",
      "RMSE for low y_true (<= 100k): 9230.182 | MAE: 3206.803\n",
      "RMSE for high y_true (> 100k): 164046.940 | MAE: 134810.872\n"
     ]
    },
    {
     "name": "stderr",
     "output_type": "stream",
     "text": [
      "[I 2025-03-02 16:48:31,048] Trial 42 finished with value: 23871.937088283627 and parameters: {'n_estimators': 1000, 'max_depth': 7, 'learning_rate': 0.014328380394555461, 'min_child_weight': 5, 'subsample': 0.7859900296829502, 'colsample_bytree': 0.8800062536788846, 'reg_alpha': 0.5462418179935722, 'reg_lambda': 4.1690376790225825, 'gamma': 0.3776025211117525}. Best is trial 33 with value: 23845.520350908555.\n"
     ]
    },
    {
     "name": "stdout",
     "output_type": "stream",
     "text": [
      "RMSE Overall:  23871.937 | MAE: 5583.325\n",
      "RMSE for low y_true (<= 100k): 9222.886 | MAE: 3206.321\n",
      "RMSE for high y_true (> 100k): 164120.247 | MAE: 134853.370\n"
     ]
    },
    {
     "name": "stderr",
     "output_type": "stream",
     "text": [
      "[I 2025-03-02 16:49:56,693] Trial 43 finished with value: 23890.680531294372 and parameters: {'n_estimators': 1000, 'max_depth': 7, 'learning_rate': 0.012986956937527891, 'min_child_weight': 5, 'subsample': 0.7231823040445026, 'colsample_bytree': 0.87623662745312, 'reg_alpha': 0.5474522336885942, 'reg_lambda': 4.122392858470491, 'gamma': 0.2788765521162879}. Best is trial 33 with value: 23845.520350908555.\n"
     ]
    },
    {
     "name": "stdout",
     "output_type": "stream",
     "text": [
      "RMSE Overall:  23890.681 | MAE: 5582.965\n",
      "RMSE for low y_true (<= 100k): 9226.227 | MAE: 3205.044\n",
      "RMSE for high y_true (> 100k): 164261.027 | MAE: 134902.838\n"
     ]
    },
    {
     "name": "stderr",
     "output_type": "stream",
     "text": [
      "[I 2025-03-02 16:51:54,473] Trial 44 finished with value: 23880.78821472021 and parameters: {'n_estimators': 1000, 'max_depth': 8, 'learning_rate': 0.011592815808944883, 'min_child_weight': 5, 'subsample': 0.7340703883225785, 'colsample_bytree': 0.960594509724294, 'reg_alpha': 0.4644455006889099, 'reg_lambda': 4.921917127702167, 'gamma': 0.32939187529948943}. Best is trial 33 with value: 23845.520350908555.\n"
     ]
    },
    {
     "name": "stdout",
     "output_type": "stream",
     "text": [
      "RMSE Overall:  23880.788 | MAE: 5578.831\n",
      "RMSE for low y_true (<= 100k): 9186.586 | MAE: 3196.540\n",
      "RMSE for high y_true (> 100k): 164302.181 | MAE: 135136.355\n"
     ]
    },
    {
     "name": "stderr",
     "output_type": "stream",
     "text": [
      "[I 2025-03-02 16:52:53,574] Trial 45 finished with value: 23874.87268567543 and parameters: {'n_estimators': 1000, 'max_depth': 6, 'learning_rate': 0.01930152725168089, 'min_child_weight': 3, 'subsample': 0.7833700513533854, 'colsample_bytree': 0.9244977108135918, 'reg_alpha': 0.6881998541864849, 'reg_lambda': 5.924095365825223, 'gamma': 0.4861798642151316}. Best is trial 33 with value: 23845.520350908555.\n"
     ]
    },
    {
     "name": "stdout",
     "output_type": "stream",
     "text": [
      "RMSE Overall:  23874.873 | MAE: 5585.208\n",
      "RMSE for low y_true (<= 100k): 9231.400 | MAE: 3210.228\n",
      "RMSE for high y_true (> 100k): 164117.865 | MAE: 134745.156\n"
     ]
    },
    {
     "name": "stderr",
     "output_type": "stream",
     "text": [
      "[I 2025-03-02 16:53:13,180] Trial 46 finished with value: 24295.59372876332 and parameters: {'n_estimators': 200, 'max_depth': 6, 'learning_rate': 0.01892454893969501, 'min_child_weight': 3, 'subsample': 0.7690126267645642, 'colsample_bytree': 0.892038504358537, 'reg_alpha': 0.8349040782501462, 'reg_lambda': 6.202318676654988, 'gamma': 1.387236164146072}. Best is trial 33 with value: 23845.520350908555.\n"
     ]
    },
    {
     "name": "stdout",
     "output_type": "stream",
     "text": [
      "RMSE Overall:  24295.594 | MAE: 5474.539\n",
      "RMSE for low y_true (<= 100k): 8979.359 | MAE: 2988.310\n",
      "RMSE for high y_true (> 100k): 168245.977 | MAE: 140684.618\n"
     ]
    },
    {
     "name": "stderr",
     "output_type": "stream",
     "text": [
      "[I 2025-03-02 16:53:54,966] Trial 47 finished with value: 24000.189489591998 and parameters: {'n_estimators': 900, 'max_depth': 7, 'learning_rate': 0.015424110038041818, 'min_child_weight': 2, 'subsample': 0.6931320471473279, 'colsample_bytree': 0.8412144546251801, 'reg_alpha': 0.6814011971950474, 'reg_lambda': 5.698256820700219, 'gamma': 1.6271357019813883}. Best is trial 33 with value: 23845.520350908555.\n"
     ]
    },
    {
     "name": "stdout",
     "output_type": "stream",
     "text": [
      "RMSE Overall:  24000.189 | MAE: 5526.882\n",
      "RMSE for low y_true (<= 100k): 9012.790 | MAE: 3107.817\n",
      "RMSE for high y_true (> 100k): 165782.543 | MAE: 137084.316\n"
     ]
    },
    {
     "name": "stderr",
     "output_type": "stream",
     "text": [
      "[I 2025-03-02 16:56:41,639] Trial 48 finished with value: 23931.853943772745 and parameters: {'n_estimators': 1000, 'max_depth': 9, 'learning_rate': 0.022114675823217987, 'min_child_weight': 2, 'subsample': 0.7761069336960829, 'colsample_bytree': 0.9755519015637472, 'reg_alpha': 0.5804647552598621, 'reg_lambda': 3.4690653819215647, 'gamma': 0.08010568461258916}. Best is trial 33 with value: 23845.520350908555.\n"
     ]
    },
    {
     "name": "stdout",
     "output_type": "stream",
     "text": [
      "RMSE Overall:  23931.854 | MAE: 5658.542\n",
      "RMSE for low y_true (<= 100k): 9444.522 | MAE: 3289.854\n",
      "RMSE for high y_true (> 100k): 163917.915 | MAE: 134476.302\n"
     ]
    },
    {
     "name": "stderr",
     "output_type": "stream",
     "text": [
      "[I 2025-03-02 16:57:37,094] Trial 49 finished with value: 23951.37536752787 and parameters: {'n_estimators': 900, 'max_depth': 6, 'learning_rate': 0.01015490683421569, 'min_child_weight': 2, 'subsample': 0.8549088383955566, 'colsample_bytree': 0.861102543957245, 'reg_alpha': 0.7287145626228209, 'reg_lambda': 5.171592161395668, 'gamma': 1.1062462798794543}. Best is trial 33 with value: 23845.520350908555.\n"
     ]
    },
    {
     "name": "stdout",
     "output_type": "stream",
     "text": [
      "RMSE Overall:  23951.375 | MAE: 5542.659\n",
      "RMSE for low y_true (<= 100k): 9050.979 | MAE: 3137.073\n",
      "RMSE for high y_true (> 100k): 165277.640 | MAE: 136367.064\n",
      "Best trial: {'n_estimators': 1000, 'max_depth': 5, 'learning_rate': 0.07733651173351022, 'min_child_weight': 6, 'subsample': 0.8826700954083797, 'colsample_bytree': 0.8526671678597144, 'reg_alpha': 0.6828611152700053, 'reg_lambda': 3.4708419387090728, 'gamma': 0.49023499265580806}\n"
     ]
    }
   ],
   "source": [
    "study = optuna.create_study(direction=\"minimize\")\n",
    "study.optimize(objective, n_trials=50)\n",
    "\n",
    "# Print the best result\n",
    "print(f\"Best trial: {study.best_trial.params}\")\n"
   ]
  },
  {
   "cell_type": "markdown",
   "metadata": {},
   "source": [
    "### Train best model on all the training dataset"
   ]
  },
  {
   "cell_type": "code",
   "execution_count": 193,
   "metadata": {},
   "outputs": [],
   "source": [
    "best_params = {\n",
    "    'n_estimators': 1000, \n",
    "    'max_depth': 5,\n",
    "    'learning_rate': 0.07733651173351022, \n",
    "    'min_child_weight': 6, \n",
    "    'subsample': 0.8826700954083797, \n",
    "    'colsample_bytree': 0.8526671678597144, \n",
    "    'reg_alpha': 0.6828611152700053, \n",
    "    'reg_lambda': 3.4708419387090728, \n",
    "    'gamma': 0.49023499265580806\n",
    "}\n",
    "\n",
    "\n",
    "regressor_pipeline = Pipeline([\n",
    "    ('preprocessor', preprocessor),\n",
    "    ('linear_model', XGBRegressor(**best_params))\n",
    "])\n",
    "\n",
    "model = TransformedTargetRegressor(\n",
    "    regressor=regressor_pipeline,\n",
    "    transformer=PowerTransformer(method='box-cox', standardize=False)\n",
    ")"
   ]
  },
  {
   "cell_type": "code",
   "execution_count": 194,
   "metadata": {},
   "outputs": [
    {
     "data": {
      "text/html": [
       "<style>#sk-container-id-1 {\n",
       "  /* Definition of color scheme common for light and dark mode */\n",
       "  --sklearn-color-text: #000;\n",
       "  --sklearn-color-text-muted: #666;\n",
       "  --sklearn-color-line: gray;\n",
       "  /* Definition of color scheme for unfitted estimators */\n",
       "  --sklearn-color-unfitted-level-0: #fff5e6;\n",
       "  --sklearn-color-unfitted-level-1: #f6e4d2;\n",
       "  --sklearn-color-unfitted-level-2: #ffe0b3;\n",
       "  --sklearn-color-unfitted-level-3: chocolate;\n",
       "  /* Definition of color scheme for fitted estimators */\n",
       "  --sklearn-color-fitted-level-0: #f0f8ff;\n",
       "  --sklearn-color-fitted-level-1: #d4ebff;\n",
       "  --sklearn-color-fitted-level-2: #b3dbfd;\n",
       "  --sklearn-color-fitted-level-3: cornflowerblue;\n",
       "\n",
       "  /* Specific color for light theme */\n",
       "  --sklearn-color-text-on-default-background: var(--sg-text-color, var(--theme-code-foreground, var(--jp-content-font-color1, black)));\n",
       "  --sklearn-color-background: var(--sg-background-color, var(--theme-background, var(--jp-layout-color0, white)));\n",
       "  --sklearn-color-border-box: var(--sg-text-color, var(--theme-code-foreground, var(--jp-content-font-color1, black)));\n",
       "  --sklearn-color-icon: #696969;\n",
       "\n",
       "  @media (prefers-color-scheme: dark) {\n",
       "    /* Redefinition of color scheme for dark theme */\n",
       "    --sklearn-color-text-on-default-background: var(--sg-text-color, var(--theme-code-foreground, var(--jp-content-font-color1, white)));\n",
       "    --sklearn-color-background: var(--sg-background-color, var(--theme-background, var(--jp-layout-color0, #111)));\n",
       "    --sklearn-color-border-box: var(--sg-text-color, var(--theme-code-foreground, var(--jp-content-font-color1, white)));\n",
       "    --sklearn-color-icon: #878787;\n",
       "  }\n",
       "}\n",
       "\n",
       "#sk-container-id-1 {\n",
       "  color: var(--sklearn-color-text);\n",
       "}\n",
       "\n",
       "#sk-container-id-1 pre {\n",
       "  padding: 0;\n",
       "}\n",
       "\n",
       "#sk-container-id-1 input.sk-hidden--visually {\n",
       "  border: 0;\n",
       "  clip: rect(1px 1px 1px 1px);\n",
       "  clip: rect(1px, 1px, 1px, 1px);\n",
       "  height: 1px;\n",
       "  margin: -1px;\n",
       "  overflow: hidden;\n",
       "  padding: 0;\n",
       "  position: absolute;\n",
       "  width: 1px;\n",
       "}\n",
       "\n",
       "#sk-container-id-1 div.sk-dashed-wrapped {\n",
       "  border: 1px dashed var(--sklearn-color-line);\n",
       "  margin: 0 0.4em 0.5em 0.4em;\n",
       "  box-sizing: border-box;\n",
       "  padding-bottom: 0.4em;\n",
       "  background-color: var(--sklearn-color-background);\n",
       "}\n",
       "\n",
       "#sk-container-id-1 div.sk-container {\n",
       "  /* jupyter's `normalize.less` sets `[hidden] { display: none; }`\n",
       "     but bootstrap.min.css set `[hidden] { display: none !important; }`\n",
       "     so we also need the `!important` here to be able to override the\n",
       "     default hidden behavior on the sphinx rendered scikit-learn.org.\n",
       "     See: https://github.com/scikit-learn/scikit-learn/issues/21755 */\n",
       "  display: inline-block !important;\n",
       "  position: relative;\n",
       "}\n",
       "\n",
       "#sk-container-id-1 div.sk-text-repr-fallback {\n",
       "  display: none;\n",
       "}\n",
       "\n",
       "div.sk-parallel-item,\n",
       "div.sk-serial,\n",
       "div.sk-item {\n",
       "  /* draw centered vertical line to link estimators */\n",
       "  background-image: linear-gradient(var(--sklearn-color-text-on-default-background), var(--sklearn-color-text-on-default-background));\n",
       "  background-size: 2px 100%;\n",
       "  background-repeat: no-repeat;\n",
       "  background-position: center center;\n",
       "}\n",
       "\n",
       "/* Parallel-specific style estimator block */\n",
       "\n",
       "#sk-container-id-1 div.sk-parallel-item::after {\n",
       "  content: \"\";\n",
       "  width: 100%;\n",
       "  border-bottom: 2px solid var(--sklearn-color-text-on-default-background);\n",
       "  flex-grow: 1;\n",
       "}\n",
       "\n",
       "#sk-container-id-1 div.sk-parallel {\n",
       "  display: flex;\n",
       "  align-items: stretch;\n",
       "  justify-content: center;\n",
       "  background-color: var(--sklearn-color-background);\n",
       "  position: relative;\n",
       "}\n",
       "\n",
       "#sk-container-id-1 div.sk-parallel-item {\n",
       "  display: flex;\n",
       "  flex-direction: column;\n",
       "}\n",
       "\n",
       "#sk-container-id-1 div.sk-parallel-item:first-child::after {\n",
       "  align-self: flex-end;\n",
       "  width: 50%;\n",
       "}\n",
       "\n",
       "#sk-container-id-1 div.sk-parallel-item:last-child::after {\n",
       "  align-self: flex-start;\n",
       "  width: 50%;\n",
       "}\n",
       "\n",
       "#sk-container-id-1 div.sk-parallel-item:only-child::after {\n",
       "  width: 0;\n",
       "}\n",
       "\n",
       "/* Serial-specific style estimator block */\n",
       "\n",
       "#sk-container-id-1 div.sk-serial {\n",
       "  display: flex;\n",
       "  flex-direction: column;\n",
       "  align-items: center;\n",
       "  background-color: var(--sklearn-color-background);\n",
       "  padding-right: 1em;\n",
       "  padding-left: 1em;\n",
       "}\n",
       "\n",
       "\n",
       "/* Toggleable style: style used for estimator/Pipeline/ColumnTransformer box that is\n",
       "clickable and can be expanded/collapsed.\n",
       "- Pipeline and ColumnTransformer use this feature and define the default style\n",
       "- Estimators will overwrite some part of the style using the `sk-estimator` class\n",
       "*/\n",
       "\n",
       "/* Pipeline and ColumnTransformer style (default) */\n",
       "\n",
       "#sk-container-id-1 div.sk-toggleable {\n",
       "  /* Default theme specific background. It is overwritten whether we have a\n",
       "  specific estimator or a Pipeline/ColumnTransformer */\n",
       "  background-color: var(--sklearn-color-background);\n",
       "}\n",
       "\n",
       "/* Toggleable label */\n",
       "#sk-container-id-1 label.sk-toggleable__label {\n",
       "  cursor: pointer;\n",
       "  display: flex;\n",
       "  width: 100%;\n",
       "  margin-bottom: 0;\n",
       "  padding: 0.5em;\n",
       "  box-sizing: border-box;\n",
       "  text-align: center;\n",
       "  align-items: start;\n",
       "  justify-content: space-between;\n",
       "  gap: 0.5em;\n",
       "}\n",
       "\n",
       "#sk-container-id-1 label.sk-toggleable__label .caption {\n",
       "  font-size: 0.6rem;\n",
       "  font-weight: lighter;\n",
       "  color: var(--sklearn-color-text-muted);\n",
       "}\n",
       "\n",
       "#sk-container-id-1 label.sk-toggleable__label-arrow:before {\n",
       "  /* Arrow on the left of the label */\n",
       "  content: \"▸\";\n",
       "  float: left;\n",
       "  margin-right: 0.25em;\n",
       "  color: var(--sklearn-color-icon);\n",
       "}\n",
       "\n",
       "#sk-container-id-1 label.sk-toggleable__label-arrow:hover:before {\n",
       "  color: var(--sklearn-color-text);\n",
       "}\n",
       "\n",
       "/* Toggleable content - dropdown */\n",
       "\n",
       "#sk-container-id-1 div.sk-toggleable__content {\n",
       "  max-height: 0;\n",
       "  max-width: 0;\n",
       "  overflow: hidden;\n",
       "  text-align: left;\n",
       "  /* unfitted */\n",
       "  background-color: var(--sklearn-color-unfitted-level-0);\n",
       "}\n",
       "\n",
       "#sk-container-id-1 div.sk-toggleable__content.fitted {\n",
       "  /* fitted */\n",
       "  background-color: var(--sklearn-color-fitted-level-0);\n",
       "}\n",
       "\n",
       "#sk-container-id-1 div.sk-toggleable__content pre {\n",
       "  margin: 0.2em;\n",
       "  border-radius: 0.25em;\n",
       "  color: var(--sklearn-color-text);\n",
       "  /* unfitted */\n",
       "  background-color: var(--sklearn-color-unfitted-level-0);\n",
       "}\n",
       "\n",
       "#sk-container-id-1 div.sk-toggleable__content.fitted pre {\n",
       "  /* unfitted */\n",
       "  background-color: var(--sklearn-color-fitted-level-0);\n",
       "}\n",
       "\n",
       "#sk-container-id-1 input.sk-toggleable__control:checked~div.sk-toggleable__content {\n",
       "  /* Expand drop-down */\n",
       "  max-height: 200px;\n",
       "  max-width: 100%;\n",
       "  overflow: auto;\n",
       "}\n",
       "\n",
       "#sk-container-id-1 input.sk-toggleable__control:checked~label.sk-toggleable__label-arrow:before {\n",
       "  content: \"▾\";\n",
       "}\n",
       "\n",
       "/* Pipeline/ColumnTransformer-specific style */\n",
       "\n",
       "#sk-container-id-1 div.sk-label input.sk-toggleable__control:checked~label.sk-toggleable__label {\n",
       "  color: var(--sklearn-color-text);\n",
       "  background-color: var(--sklearn-color-unfitted-level-2);\n",
       "}\n",
       "\n",
       "#sk-container-id-1 div.sk-label.fitted input.sk-toggleable__control:checked~label.sk-toggleable__label {\n",
       "  background-color: var(--sklearn-color-fitted-level-2);\n",
       "}\n",
       "\n",
       "/* Estimator-specific style */\n",
       "\n",
       "/* Colorize estimator box */\n",
       "#sk-container-id-1 div.sk-estimator input.sk-toggleable__control:checked~label.sk-toggleable__label {\n",
       "  /* unfitted */\n",
       "  background-color: var(--sklearn-color-unfitted-level-2);\n",
       "}\n",
       "\n",
       "#sk-container-id-1 div.sk-estimator.fitted input.sk-toggleable__control:checked~label.sk-toggleable__label {\n",
       "  /* fitted */\n",
       "  background-color: var(--sklearn-color-fitted-level-2);\n",
       "}\n",
       "\n",
       "#sk-container-id-1 div.sk-label label.sk-toggleable__label,\n",
       "#sk-container-id-1 div.sk-label label {\n",
       "  /* The background is the default theme color */\n",
       "  color: var(--sklearn-color-text-on-default-background);\n",
       "}\n",
       "\n",
       "/* On hover, darken the color of the background */\n",
       "#sk-container-id-1 div.sk-label:hover label.sk-toggleable__label {\n",
       "  color: var(--sklearn-color-text);\n",
       "  background-color: var(--sklearn-color-unfitted-level-2);\n",
       "}\n",
       "\n",
       "/* Label box, darken color on hover, fitted */\n",
       "#sk-container-id-1 div.sk-label.fitted:hover label.sk-toggleable__label.fitted {\n",
       "  color: var(--sklearn-color-text);\n",
       "  background-color: var(--sklearn-color-fitted-level-2);\n",
       "}\n",
       "\n",
       "/* Estimator label */\n",
       "\n",
       "#sk-container-id-1 div.sk-label label {\n",
       "  font-family: monospace;\n",
       "  font-weight: bold;\n",
       "  display: inline-block;\n",
       "  line-height: 1.2em;\n",
       "}\n",
       "\n",
       "#sk-container-id-1 div.sk-label-container {\n",
       "  text-align: center;\n",
       "}\n",
       "\n",
       "/* Estimator-specific */\n",
       "#sk-container-id-1 div.sk-estimator {\n",
       "  font-family: monospace;\n",
       "  border: 1px dotted var(--sklearn-color-border-box);\n",
       "  border-radius: 0.25em;\n",
       "  box-sizing: border-box;\n",
       "  margin-bottom: 0.5em;\n",
       "  /* unfitted */\n",
       "  background-color: var(--sklearn-color-unfitted-level-0);\n",
       "}\n",
       "\n",
       "#sk-container-id-1 div.sk-estimator.fitted {\n",
       "  /* fitted */\n",
       "  background-color: var(--sklearn-color-fitted-level-0);\n",
       "}\n",
       "\n",
       "/* on hover */\n",
       "#sk-container-id-1 div.sk-estimator:hover {\n",
       "  /* unfitted */\n",
       "  background-color: var(--sklearn-color-unfitted-level-2);\n",
       "}\n",
       "\n",
       "#sk-container-id-1 div.sk-estimator.fitted:hover {\n",
       "  /* fitted */\n",
       "  background-color: var(--sklearn-color-fitted-level-2);\n",
       "}\n",
       "\n",
       "/* Specification for estimator info (e.g. \"i\" and \"?\") */\n",
       "\n",
       "/* Common style for \"i\" and \"?\" */\n",
       "\n",
       ".sk-estimator-doc-link,\n",
       "a:link.sk-estimator-doc-link,\n",
       "a:visited.sk-estimator-doc-link {\n",
       "  float: right;\n",
       "  font-size: smaller;\n",
       "  line-height: 1em;\n",
       "  font-family: monospace;\n",
       "  background-color: var(--sklearn-color-background);\n",
       "  border-radius: 1em;\n",
       "  height: 1em;\n",
       "  width: 1em;\n",
       "  text-decoration: none !important;\n",
       "  margin-left: 0.5em;\n",
       "  text-align: center;\n",
       "  /* unfitted */\n",
       "  border: var(--sklearn-color-unfitted-level-1) 1pt solid;\n",
       "  color: var(--sklearn-color-unfitted-level-1);\n",
       "}\n",
       "\n",
       ".sk-estimator-doc-link.fitted,\n",
       "a:link.sk-estimator-doc-link.fitted,\n",
       "a:visited.sk-estimator-doc-link.fitted {\n",
       "  /* fitted */\n",
       "  border: var(--sklearn-color-fitted-level-1) 1pt solid;\n",
       "  color: var(--sklearn-color-fitted-level-1);\n",
       "}\n",
       "\n",
       "/* On hover */\n",
       "div.sk-estimator:hover .sk-estimator-doc-link:hover,\n",
       ".sk-estimator-doc-link:hover,\n",
       "div.sk-label-container:hover .sk-estimator-doc-link:hover,\n",
       ".sk-estimator-doc-link:hover {\n",
       "  /* unfitted */\n",
       "  background-color: var(--sklearn-color-unfitted-level-3);\n",
       "  color: var(--sklearn-color-background);\n",
       "  text-decoration: none;\n",
       "}\n",
       "\n",
       "div.sk-estimator.fitted:hover .sk-estimator-doc-link.fitted:hover,\n",
       ".sk-estimator-doc-link.fitted:hover,\n",
       "div.sk-label-container:hover .sk-estimator-doc-link.fitted:hover,\n",
       ".sk-estimator-doc-link.fitted:hover {\n",
       "  /* fitted */\n",
       "  background-color: var(--sklearn-color-fitted-level-3);\n",
       "  color: var(--sklearn-color-background);\n",
       "  text-decoration: none;\n",
       "}\n",
       "\n",
       "/* Span, style for the box shown on hovering the info icon */\n",
       ".sk-estimator-doc-link span {\n",
       "  display: none;\n",
       "  z-index: 9999;\n",
       "  position: relative;\n",
       "  font-weight: normal;\n",
       "  right: .2ex;\n",
       "  padding: .5ex;\n",
       "  margin: .5ex;\n",
       "  width: min-content;\n",
       "  min-width: 20ex;\n",
       "  max-width: 50ex;\n",
       "  color: var(--sklearn-color-text);\n",
       "  box-shadow: 2pt 2pt 4pt #999;\n",
       "  /* unfitted */\n",
       "  background: var(--sklearn-color-unfitted-level-0);\n",
       "  border: .5pt solid var(--sklearn-color-unfitted-level-3);\n",
       "}\n",
       "\n",
       ".sk-estimator-doc-link.fitted span {\n",
       "  /* fitted */\n",
       "  background: var(--sklearn-color-fitted-level-0);\n",
       "  border: var(--sklearn-color-fitted-level-3);\n",
       "}\n",
       "\n",
       ".sk-estimator-doc-link:hover span {\n",
       "  display: block;\n",
       "}\n",
       "\n",
       "/* \"?\"-specific style due to the `<a>` HTML tag */\n",
       "\n",
       "#sk-container-id-1 a.estimator_doc_link {\n",
       "  float: right;\n",
       "  font-size: 1rem;\n",
       "  line-height: 1em;\n",
       "  font-family: monospace;\n",
       "  background-color: var(--sklearn-color-background);\n",
       "  border-radius: 1rem;\n",
       "  height: 1rem;\n",
       "  width: 1rem;\n",
       "  text-decoration: none;\n",
       "  /* unfitted */\n",
       "  color: var(--sklearn-color-unfitted-level-1);\n",
       "  border: var(--sklearn-color-unfitted-level-1) 1pt solid;\n",
       "}\n",
       "\n",
       "#sk-container-id-1 a.estimator_doc_link.fitted {\n",
       "  /* fitted */\n",
       "  border: var(--sklearn-color-fitted-level-1) 1pt solid;\n",
       "  color: var(--sklearn-color-fitted-level-1);\n",
       "}\n",
       "\n",
       "/* On hover */\n",
       "#sk-container-id-1 a.estimator_doc_link:hover {\n",
       "  /* unfitted */\n",
       "  background-color: var(--sklearn-color-unfitted-level-3);\n",
       "  color: var(--sklearn-color-background);\n",
       "  text-decoration: none;\n",
       "}\n",
       "\n",
       "#sk-container-id-1 a.estimator_doc_link.fitted:hover {\n",
       "  /* fitted */\n",
       "  background-color: var(--sklearn-color-fitted-level-3);\n",
       "}\n",
       "</style><div id=\"sk-container-id-1\" class=\"sk-top-container\"><div class=\"sk-text-repr-fallback\"><pre>TransformedTargetRegressor(regressor=Pipeline(steps=[(&#x27;preprocessor&#x27;,\n",
       "                                                      ColumnTransformer(transformers=[(&#x27;log_inc&#x27;,\n",
       "                                                                                       Pipeline(steps=[(&#x27;log&#x27;,\n",
       "                                                                                                        FunctionTransformer(func=&lt;ufunc &#x27;log&#x27;&gt;)),\n",
       "                                                                                                       (&#x27;scaler&#x27;,\n",
       "                                                                                                        StandardScaler())]),\n",
       "                                                                                       [&#x27;InitialIncurredCalimsCost&#x27;,\n",
       "                                                                                        &#x27;WeeklyWages&#x27;]),\n",
       "                                                                                      (&#x27;minmax_scaler&#x27;,\n",
       "                                                                                       MinMaxScaler(),\n",
       "                                                                                       [&#x27;Age&#x27;,\n",
       "                                                                                        &#x27;YearAccident&#x27;]),\n",
       "                                                                                      (&#x27;gender_bool&#x27;,\n",
       "                                                                                       FunctionTransformer(func=&lt;fun...\n",
       "                                                                   learning_rate=0.07733651173351022,\n",
       "                                                                   max_bin=None,\n",
       "                                                                   max_cat_threshold=None,\n",
       "                                                                   max_cat_to_onehot=None,\n",
       "                                                                   max_delta_step=None,\n",
       "                                                                   max_depth=5,\n",
       "                                                                   max_leaves=None,\n",
       "                                                                   min_child_weight=6,\n",
       "                                                                   missing=nan,\n",
       "                                                                   monotone_constraints=None,\n",
       "                                                                   multi_strategy=None,\n",
       "                                                                   n_estimators=1000,\n",
       "                                                                   n_jobs=None,\n",
       "                                                                   num_parallel_tree=None,\n",
       "                                                                   random_state=None, ...))]),\n",
       "                           transformer=PowerTransformer(method=&#x27;box-cox&#x27;,\n",
       "                                                        standardize=False))</pre><b>In a Jupyter environment, please rerun this cell to show the HTML representation or trust the notebook. <br />On GitHub, the HTML representation is unable to render, please try loading this page with nbviewer.org.</b></div><div class=\"sk-container\" hidden><div class=\"sk-item sk-dashed-wrapped\"><div class=\"sk-label-container\"><div class=\"sk-label fitted sk-toggleable\"><input class=\"sk-toggleable__control sk-hidden--visually\" id=\"sk-estimator-id-1\" type=\"checkbox\" ><label for=\"sk-estimator-id-1\" class=\"sk-toggleable__label fitted sk-toggleable__label-arrow\"><div><div>TransformedTargetRegressor</div></div><div><a class=\"sk-estimator-doc-link fitted\" rel=\"noreferrer\" target=\"_blank\" href=\"https://scikit-learn.org/1.6/modules/generated/sklearn.compose.TransformedTargetRegressor.html\">?<span>Documentation for TransformedTargetRegressor</span></a><span class=\"sk-estimator-doc-link fitted\">i<span>Fitted</span></span></div></label><div class=\"sk-toggleable__content fitted\"><pre>TransformedTargetRegressor(regressor=Pipeline(steps=[(&#x27;preprocessor&#x27;,\n",
       "                                                      ColumnTransformer(transformers=[(&#x27;log_inc&#x27;,\n",
       "                                                                                       Pipeline(steps=[(&#x27;log&#x27;,\n",
       "                                                                                                        FunctionTransformer(func=&lt;ufunc &#x27;log&#x27;&gt;)),\n",
       "                                                                                                       (&#x27;scaler&#x27;,\n",
       "                                                                                                        StandardScaler())]),\n",
       "                                                                                       [&#x27;InitialIncurredCalimsCost&#x27;,\n",
       "                                                                                        &#x27;WeeklyWages&#x27;]),\n",
       "                                                                                      (&#x27;minmax_scaler&#x27;,\n",
       "                                                                                       MinMaxScaler(),\n",
       "                                                                                       [&#x27;Age&#x27;,\n",
       "                                                                                        &#x27;YearAccident&#x27;]),\n",
       "                                                                                      (&#x27;gender_bool&#x27;,\n",
       "                                                                                       FunctionTransformer(func=&lt;fun...\n",
       "                                                                   learning_rate=0.07733651173351022,\n",
       "                                                                   max_bin=None,\n",
       "                                                                   max_cat_threshold=None,\n",
       "                                                                   max_cat_to_onehot=None,\n",
       "                                                                   max_delta_step=None,\n",
       "                                                                   max_depth=5,\n",
       "                                                                   max_leaves=None,\n",
       "                                                                   min_child_weight=6,\n",
       "                                                                   missing=nan,\n",
       "                                                                   monotone_constraints=None,\n",
       "                                                                   multi_strategy=None,\n",
       "                                                                   n_estimators=1000,\n",
       "                                                                   n_jobs=None,\n",
       "                                                                   num_parallel_tree=None,\n",
       "                                                                   random_state=None, ...))]),\n",
       "                           transformer=PowerTransformer(method=&#x27;box-cox&#x27;,\n",
       "                                                        standardize=False))</pre></div> </div></div><div class=\"sk-parallel\"><div class=\"sk-parallel-item\"><div class=\"sk-item\"><div class=\"sk-label-container\"><div class=\"sk-label fitted sk-toggleable\"><input class=\"sk-toggleable__control sk-hidden--visually\" id=\"sk-estimator-id-2\" type=\"checkbox\" ><label for=\"sk-estimator-id-2\" class=\"sk-toggleable__label fitted sk-toggleable__label-arrow\"><div><div>regressor: Pipeline</div></div></label><div class=\"sk-toggleable__content fitted\"><pre>Pipeline(steps=[(&#x27;preprocessor&#x27;,\n",
       "                 ColumnTransformer(transformers=[(&#x27;log_inc&#x27;,\n",
       "                                                  Pipeline(steps=[(&#x27;log&#x27;,\n",
       "                                                                   FunctionTransformer(func=&lt;ufunc &#x27;log&#x27;&gt;)),\n",
       "                                                                  (&#x27;scaler&#x27;,\n",
       "                                                                   StandardScaler())]),\n",
       "                                                  [&#x27;InitialIncurredCalimsCost&#x27;,\n",
       "                                                   &#x27;WeeklyWages&#x27;]),\n",
       "                                                 (&#x27;minmax_scaler&#x27;,\n",
       "                                                  MinMaxScaler(),\n",
       "                                                  [&#x27;Age&#x27;, &#x27;YearAccident&#x27;]),\n",
       "                                                 (&#x27;gender_bool&#x27;,\n",
       "                                                  FunctionTransformer(func=&lt;function gender_to_bool at 0x494ad2560&gt;),\n",
       "                                                  [&#x27;...\n",
       "                              grow_policy=None, importance_type=None,\n",
       "                              interaction_constraints=None,\n",
       "                              learning_rate=0.07733651173351022, max_bin=None,\n",
       "                              max_cat_threshold=None, max_cat_to_onehot=None,\n",
       "                              max_delta_step=None, max_depth=5, max_leaves=None,\n",
       "                              min_child_weight=6, missing=nan,\n",
       "                              monotone_constraints=None, multi_strategy=None,\n",
       "                              n_estimators=1000, n_jobs=None,\n",
       "                              num_parallel_tree=None, random_state=None, ...))])</pre></div> </div></div><div class=\"sk-serial\"><div class=\"sk-item\"><div class=\"sk-serial\"><div class=\"sk-item sk-dashed-wrapped\"><div class=\"sk-label-container\"><div class=\"sk-label fitted sk-toggleable\"><input class=\"sk-toggleable__control sk-hidden--visually\" id=\"sk-estimator-id-3\" type=\"checkbox\" ><label for=\"sk-estimator-id-3\" class=\"sk-toggleable__label fitted sk-toggleable__label-arrow\"><div><div>preprocessor: ColumnTransformer</div></div><div><a class=\"sk-estimator-doc-link fitted\" rel=\"noreferrer\" target=\"_blank\" href=\"https://scikit-learn.org/1.6/modules/generated/sklearn.compose.ColumnTransformer.html\">?<span>Documentation for preprocessor: ColumnTransformer</span></a></div></label><div class=\"sk-toggleable__content fitted\"><pre>ColumnTransformer(transformers=[(&#x27;log_inc&#x27;,\n",
       "                                 Pipeline(steps=[(&#x27;log&#x27;,\n",
       "                                                  FunctionTransformer(func=&lt;ufunc &#x27;log&#x27;&gt;)),\n",
       "                                                 (&#x27;scaler&#x27;, StandardScaler())]),\n",
       "                                 [&#x27;InitialIncurredCalimsCost&#x27;, &#x27;WeeklyWages&#x27;]),\n",
       "                                (&#x27;minmax_scaler&#x27;, MinMaxScaler(),\n",
       "                                 [&#x27;Age&#x27;, &#x27;YearAccident&#x27;]),\n",
       "                                (&#x27;gender_bool&#x27;,\n",
       "                                 FunctionTransformer(func=&lt;function gender_to_bool at 0x494ad2560&gt;),\n",
       "                                 [&#x27;Gender&#x27;]),\n",
       "                                (&#x27;hww_bool_onehot&#x27;,\n",
       "                                 Pip...\n",
       "                                 Index([&#x27;body_feat_0&#x27;, &#x27;body_feat_1&#x27;, &#x27;body_feat_2&#x27;, &#x27;body_feat_3&#x27;,\n",
       "       &#x27;body_feat_4&#x27;, &#x27;body_feat_5&#x27;, &#x27;body_feat_6&#x27;, &#x27;body_feat_7&#x27;,\n",
       "       &#x27;body_feat_8&#x27;, &#x27;body_feat_9&#x27;,\n",
       "       ...\n",
       "       &#x27;body_feat_758&#x27;, &#x27;body_feat_759&#x27;, &#x27;body_feat_760&#x27;, &#x27;body_feat_761&#x27;,\n",
       "       &#x27;body_feat_762&#x27;, &#x27;body_feat_763&#x27;, &#x27;body_feat_764&#x27;, &#x27;body_feat_765&#x27;,\n",
       "       &#x27;body_feat_766&#x27;, &#x27;body_feat_767&#x27;],\n",
       "      dtype=&#x27;object&#x27;, length=768)),\n",
       "                                (&#x27;std_scaler&#x27;, StandardScaler(),\n",
       "                                 [&#x27;event_median_cost&#x27;])])</pre></div> </div></div><div class=\"sk-parallel\"><div class=\"sk-parallel-item\"><div class=\"sk-item\"><div class=\"sk-label-container\"><div class=\"sk-label fitted sk-toggleable\"><input class=\"sk-toggleable__control sk-hidden--visually\" id=\"sk-estimator-id-4\" type=\"checkbox\" ><label for=\"sk-estimator-id-4\" class=\"sk-toggleable__label fitted sk-toggleable__label-arrow\"><div><div>log_inc</div></div></label><div class=\"sk-toggleable__content fitted\"><pre>[&#x27;InitialIncurredCalimsCost&#x27;, &#x27;WeeklyWages&#x27;]</pre></div> </div></div><div class=\"sk-serial\"><div class=\"sk-item\"><div class=\"sk-serial\"><div class=\"sk-item\"><div class=\"sk-estimator fitted sk-toggleable\"><input class=\"sk-toggleable__control sk-hidden--visually\" id=\"sk-estimator-id-5\" type=\"checkbox\" ><label for=\"sk-estimator-id-5\" class=\"sk-toggleable__label fitted sk-toggleable__label-arrow\"><div><div>log</div><div class=\"caption\">FunctionTransformer</div></div><div><a class=\"sk-estimator-doc-link fitted\" rel=\"noreferrer\" target=\"_blank\" href=\"https://scikit-learn.org/1.6/modules/generated/sklearn.preprocessing.FunctionTransformer.html\">?<span>Documentation for FunctionTransformer</span></a></div></label><div class=\"sk-toggleable__content fitted\"><pre>FunctionTransformer(func=&lt;ufunc &#x27;log&#x27;&gt;)</pre></div> </div></div><div class=\"sk-item\"><div class=\"sk-estimator fitted sk-toggleable\"><input class=\"sk-toggleable__control sk-hidden--visually\" id=\"sk-estimator-id-6\" type=\"checkbox\" ><label for=\"sk-estimator-id-6\" class=\"sk-toggleable__label fitted sk-toggleable__label-arrow\"><div><div>StandardScaler</div></div><div><a class=\"sk-estimator-doc-link fitted\" rel=\"noreferrer\" target=\"_blank\" href=\"https://scikit-learn.org/1.6/modules/generated/sklearn.preprocessing.StandardScaler.html\">?<span>Documentation for StandardScaler</span></a></div></label><div class=\"sk-toggleable__content fitted\"><pre>StandardScaler()</pre></div> </div></div></div></div></div></div></div><div class=\"sk-parallel-item\"><div class=\"sk-item\"><div class=\"sk-label-container\"><div class=\"sk-label fitted sk-toggleable\"><input class=\"sk-toggleable__control sk-hidden--visually\" id=\"sk-estimator-id-7\" type=\"checkbox\" ><label for=\"sk-estimator-id-7\" class=\"sk-toggleable__label fitted sk-toggleable__label-arrow\"><div><div>minmax_scaler</div></div></label><div class=\"sk-toggleable__content fitted\"><pre>[&#x27;Age&#x27;, &#x27;YearAccident&#x27;]</pre></div> </div></div><div class=\"sk-serial\"><div class=\"sk-item\"><div class=\"sk-estimator fitted sk-toggleable\"><input class=\"sk-toggleable__control sk-hidden--visually\" id=\"sk-estimator-id-8\" type=\"checkbox\" ><label for=\"sk-estimator-id-8\" class=\"sk-toggleable__label fitted sk-toggleable__label-arrow\"><div><div>MinMaxScaler</div></div><div><a class=\"sk-estimator-doc-link fitted\" rel=\"noreferrer\" target=\"_blank\" href=\"https://scikit-learn.org/1.6/modules/generated/sklearn.preprocessing.MinMaxScaler.html\">?<span>Documentation for MinMaxScaler</span></a></div></label><div class=\"sk-toggleable__content fitted\"><pre>MinMaxScaler()</pre></div> </div></div></div></div></div><div class=\"sk-parallel-item\"><div class=\"sk-item\"><div class=\"sk-label-container\"><div class=\"sk-label fitted sk-toggleable\"><input class=\"sk-toggleable__control sk-hidden--visually\" id=\"sk-estimator-id-9\" type=\"checkbox\" ><label for=\"sk-estimator-id-9\" class=\"sk-toggleable__label fitted sk-toggleable__label-arrow\"><div><div>gender_bool</div></div></label><div class=\"sk-toggleable__content fitted\"><pre>[&#x27;Gender&#x27;]</pre></div> </div></div><div class=\"sk-serial\"><div class=\"sk-item\"><div class=\"sk-estimator fitted sk-toggleable\"><input class=\"sk-toggleable__control sk-hidden--visually\" id=\"sk-estimator-id-10\" type=\"checkbox\" ><label for=\"sk-estimator-id-10\" class=\"sk-toggleable__label fitted sk-toggleable__label-arrow\"><div><div>gender_to_bool</div><div class=\"caption\">FunctionTransformer</div></div><div><a class=\"sk-estimator-doc-link fitted\" rel=\"noreferrer\" target=\"_blank\" href=\"https://scikit-learn.org/1.6/modules/generated/sklearn.preprocessing.FunctionTransformer.html\">?<span>Documentation for FunctionTransformer</span></a></div></label><div class=\"sk-toggleable__content fitted\"><pre>FunctionTransformer(func=&lt;function gender_to_bool at 0x494ad2560&gt;)</pre></div> </div></div></div></div></div><div class=\"sk-parallel-item\"><div class=\"sk-item\"><div class=\"sk-label-container\"><div class=\"sk-label fitted sk-toggleable\"><input class=\"sk-toggleable__control sk-hidden--visually\" id=\"sk-estimator-id-11\" type=\"checkbox\" ><label for=\"sk-estimator-id-11\" class=\"sk-toggleable__label fitted sk-toggleable__label-arrow\"><div><div>hww_bool_onehot</div></div></label><div class=\"sk-toggleable__content fitted\"><pre>[&#x27;HoursWorkedPerWeek&#x27;]</pre></div> </div></div><div class=\"sk-serial\"><div class=\"sk-item\"><div class=\"sk-serial\"><div class=\"sk-item\"><div class=\"sk-estimator fitted sk-toggleable\"><input class=\"sk-toggleable__control sk-hidden--visually\" id=\"sk-estimator-id-12\" type=\"checkbox\" ><label for=\"sk-estimator-id-12\" class=\"sk-toggleable__label fitted sk-toggleable__label-arrow\"><div><div>bucket_hours_worked</div><div class=\"caption\">FunctionTransformer</div></div><div><a class=\"sk-estimator-doc-link fitted\" rel=\"noreferrer\" target=\"_blank\" href=\"https://scikit-learn.org/1.6/modules/generated/sklearn.preprocessing.FunctionTransformer.html\">?<span>Documentation for FunctionTransformer</span></a></div></label><div class=\"sk-toggleable__content fitted\"><pre>FunctionTransformer(func=&lt;function bucket_hours_worked at 0x494ad1510&gt;)</pre></div> </div></div><div class=\"sk-item\"><div class=\"sk-estimator fitted sk-toggleable\"><input class=\"sk-toggleable__control sk-hidden--visually\" id=\"sk-estimator-id-13\" type=\"checkbox\" ><label for=\"sk-estimator-id-13\" class=\"sk-toggleable__label fitted sk-toggleable__label-arrow\"><div><div>OneHotEncoder</div></div><div><a class=\"sk-estimator-doc-link fitted\" rel=\"noreferrer\" target=\"_blank\" href=\"https://scikit-learn.org/1.6/modules/generated/sklearn.preprocessing.OneHotEncoder.html\">?<span>Documentation for OneHotEncoder</span></a></div></label><div class=\"sk-toggleable__content fitted\"><pre>OneHotEncoder(drop=&#x27;first&#x27;)</pre></div> </div></div></div></div></div></div></div><div class=\"sk-parallel-item\"><div class=\"sk-item\"><div class=\"sk-label-container\"><div class=\"sk-label fitted sk-toggleable\"><input class=\"sk-toggleable__control sk-hidden--visually\" id=\"sk-estimator-id-14\" type=\"checkbox\" ><label for=\"sk-estimator-id-14\" class=\"sk-toggleable__label fitted sk-toggleable__label-arrow\"><div><div>dtt_bool_onehot</div></div></label><div class=\"sk-toggleable__content fitted\"><pre>[&#x27;DaysToReport&#x27;]</pre></div> </div></div><div class=\"sk-serial\"><div class=\"sk-item\"><div class=\"sk-serial\"><div class=\"sk-item\"><div class=\"sk-estimator fitted sk-toggleable\"><input class=\"sk-toggleable__control sk-hidden--visually\" id=\"sk-estimator-id-15\" type=\"checkbox\" ><label for=\"sk-estimator-id-15\" class=\"sk-toggleable__label fitted sk-toggleable__label-arrow\"><div><div>bucket_days_to_report</div><div class=\"caption\">FunctionTransformer</div></div><div><a class=\"sk-estimator-doc-link fitted\" rel=\"noreferrer\" target=\"_blank\" href=\"https://scikit-learn.org/1.6/modules/generated/sklearn.preprocessing.FunctionTransformer.html\">?<span>Documentation for FunctionTransformer</span></a></div></label><div class=\"sk-toggleable__content fitted\"><pre>FunctionTransformer(func=&lt;function bucket_days_to_report at 0x494ad0e50&gt;)</pre></div> </div></div><div class=\"sk-item\"><div class=\"sk-estimator fitted sk-toggleable\"><input class=\"sk-toggleable__control sk-hidden--visually\" id=\"sk-estimator-id-16\" type=\"checkbox\" ><label for=\"sk-estimator-id-16\" class=\"sk-toggleable__label fitted sk-toggleable__label-arrow\"><div><div>OneHotEncoder</div></div><div><a class=\"sk-estimator-doc-link fitted\" rel=\"noreferrer\" target=\"_blank\" href=\"https://scikit-learn.org/1.6/modules/generated/sklearn.preprocessing.OneHotEncoder.html\">?<span>Documentation for OneHotEncoder</span></a></div></label><div class=\"sk-toggleable__content fitted\"><pre>OneHotEncoder(drop=&#x27;first&#x27;)</pre></div> </div></div></div></div></div></div></div><div class=\"sk-parallel-item\"><div class=\"sk-item\"><div class=\"sk-label-container\"><div class=\"sk-label fitted sk-toggleable\"><input class=\"sk-toggleable__control sk-hidden--visually\" id=\"sk-estimator-id-17\" type=\"checkbox\" ><label for=\"sk-estimator-id-17\" class=\"sk-toggleable__label fitted sk-toggleable__label-arrow\"><div><div>has_dependent_bool</div></div></label><div class=\"sk-toggleable__content fitted\"><pre>[&#x27;DependentChildren&#x27;]</pre></div> </div></div><div class=\"sk-serial\"><div class=\"sk-item\"><div class=\"sk-estimator fitted sk-toggleable\"><input class=\"sk-toggleable__control sk-hidden--visually\" id=\"sk-estimator-id-18\" type=\"checkbox\" ><label for=\"sk-estimator-id-18\" class=\"sk-toggleable__label fitted sk-toggleable__label-arrow\"><div><div>Binarizer</div></div><div><a class=\"sk-estimator-doc-link fitted\" rel=\"noreferrer\" target=\"_blank\" href=\"https://scikit-learn.org/1.6/modules/generated/sklearn.preprocessing.Binarizer.html\">?<span>Documentation for Binarizer</span></a></div></label><div class=\"sk-toggleable__content fitted\"><pre>Binarizer(threshold=0)</pre></div> </div></div></div></div></div><div class=\"sk-parallel-item\"><div class=\"sk-item\"><div class=\"sk-label-container\"><div class=\"sk-label fitted sk-toggleable\"><input class=\"sk-toggleable__control sk-hidden--visually\" id=\"sk-estimator-id-19\" type=\"checkbox\" ><label for=\"sk-estimator-id-19\" class=\"sk-toggleable__label fitted sk-toggleable__label-arrow\"><div><div>worked_five_days_bool</div></div></label><div class=\"sk-toggleable__content fitted\"><pre>[&#x27;DaysWorkedPerWeek&#x27;]</pre></div> </div></div><div class=\"sk-serial\"><div class=\"sk-item\"><div class=\"sk-estimator fitted sk-toggleable\"><input class=\"sk-toggleable__control sk-hidden--visually\" id=\"sk-estimator-id-20\" type=\"checkbox\" ><label for=\"sk-estimator-id-20\" class=\"sk-toggleable__label fitted sk-toggleable__label-arrow\"><div><div>days_worked_binarize</div><div class=\"caption\">FunctionTransformer</div></div><div><a class=\"sk-estimator-doc-link fitted\" rel=\"noreferrer\" target=\"_blank\" href=\"https://scikit-learn.org/1.6/modules/generated/sklearn.preprocessing.FunctionTransformer.html\">?<span>Documentation for FunctionTransformer</span></a></div></label><div class=\"sk-toggleable__content fitted\"><pre>FunctionTransformer(func=&lt;function days_worked_binarize at 0x494ad3c70&gt;)</pre></div> </div></div></div></div></div><div class=\"sk-parallel-item\"><div class=\"sk-item\"><div class=\"sk-label-container\"><div class=\"sk-label fitted sk-toggleable\"><input class=\"sk-toggleable__control sk-hidden--visually\" id=\"sk-estimator-id-21\" type=\"checkbox\" ><label for=\"sk-estimator-id-21\" class=\"sk-toggleable__label fitted sk-toggleable__label-arrow\"><div><div>onehot</div></div></label><div class=\"sk-toggleable__content fitted\"><pre>[&#x27;MaritalStatus&#x27;, &#x27;PartTimeFullTime&#x27;]</pre></div> </div></div><div class=\"sk-serial\"><div class=\"sk-item\"><div class=\"sk-estimator fitted sk-toggleable\"><input class=\"sk-toggleable__control sk-hidden--visually\" id=\"sk-estimator-id-22\" type=\"checkbox\" ><label for=\"sk-estimator-id-22\" class=\"sk-toggleable__label fitted sk-toggleable__label-arrow\"><div><div>OneHotEncoder</div></div><div><a class=\"sk-estimator-doc-link fitted\" rel=\"noreferrer\" target=\"_blank\" href=\"https://scikit-learn.org/1.6/modules/generated/sklearn.preprocessing.OneHotEncoder.html\">?<span>Documentation for OneHotEncoder</span></a></div></label><div class=\"sk-toggleable__content fitted\"><pre>OneHotEncoder(drop=&#x27;first&#x27;)</pre></div> </div></div></div></div></div><div class=\"sk-parallel-item\"><div class=\"sk-item\"><div class=\"sk-label-container\"><div class=\"sk-label fitted sk-toggleable\"><input class=\"sk-toggleable__control sk-hidden--visually\" id=\"sk-estimator-id-23\" type=\"checkbox\" ><label for=\"sk-estimator-id-23\" class=\"sk-toggleable__label fitted sk-toggleable__label-arrow\"><div><div>pca_event_embeddings</div></div></label><div class=\"sk-toggleable__content fitted\"><pre>Index([&#x27;event_feat_0&#x27;, &#x27;event_feat_1&#x27;, &#x27;event_feat_2&#x27;, &#x27;event_feat_3&#x27;,\n",
       "       &#x27;event_feat_4&#x27;, &#x27;event_feat_5&#x27;, &#x27;event_feat_6&#x27;, &#x27;event_feat_7&#x27;,\n",
       "       &#x27;event_feat_8&#x27;, &#x27;event_feat_9&#x27;,\n",
       "       ...\n",
       "       &#x27;event_feat_758&#x27;, &#x27;event_feat_759&#x27;, &#x27;event_feat_760&#x27;, &#x27;event_feat_761&#x27;,\n",
       "       &#x27;event_feat_762&#x27;, &#x27;event_feat_763&#x27;, &#x27;event_feat_764&#x27;, &#x27;event_feat_765&#x27;,\n",
       "       &#x27;event_feat_766&#x27;, &#x27;event_feat_767&#x27;],\n",
       "      dtype=&#x27;object&#x27;, length=768)</pre></div> </div></div><div class=\"sk-serial\"><div class=\"sk-item\"><div class=\"sk-estimator fitted sk-toggleable\"><input class=\"sk-toggleable__control sk-hidden--visually\" id=\"sk-estimator-id-24\" type=\"checkbox\" ><label for=\"sk-estimator-id-24\" class=\"sk-toggleable__label fitted sk-toggleable__label-arrow\"><div><div>PCA</div></div><div><a class=\"sk-estimator-doc-link fitted\" rel=\"noreferrer\" target=\"_blank\" href=\"https://scikit-learn.org/1.6/modules/generated/sklearn.decomposition.PCA.html\">?<span>Documentation for PCA</span></a></div></label><div class=\"sk-toggleable__content fitted\"><pre>PCA(n_components=250)</pre></div> </div></div></div></div></div><div class=\"sk-parallel-item\"><div class=\"sk-item\"><div class=\"sk-label-container\"><div class=\"sk-label fitted sk-toggleable\"><input class=\"sk-toggleable__control sk-hidden--visually\" id=\"sk-estimator-id-25\" type=\"checkbox\" ><label for=\"sk-estimator-id-25\" class=\"sk-toggleable__label fitted sk-toggleable__label-arrow\"><div><div>passthrough_event_dummies</div></div></label><div class=\"sk-toggleable__content fitted\"><pre>Index([&#x27;BACK STRAIN&#x27;, &#x27;CLEANING INSTRUMENTS&#x27;,\n",
       "       &#x27;CLEANING LEFT SHOULDER SPLINTER&#x27;, &#x27;CUT WITH KNIFE&#x27;,\n",
       "       &#x27;DEALING CARDS RIGHT TENDON SYNOVITIS&#x27;, &#x27;FELL&#x27;, &#x27;FELL FROM LADDER&#x27;,\n",
       "       &#x27;FELL OFF LADDER&#x27;, &#x27;FRACTURED LEFT WRIST FRACTURE&#x27;,\n",
       "       &#x27;GRINDING FOREIGN BODY&#x27;, &#x27;GRINDING STEEL BEAM INFECTION&#x27;,\n",
       "       &#x27;HIT AIR HOSE&#x27;, &#x27;HIT ELBOW&#x27;, &#x27;HIT FLOOR SHEET&#x27;, &#x27;INJURY&#x27;,\n",
       "       &#x27;INJURY LIFTING&#x27;, &#x27;INJURY LIFTING STRAIN&#x27;, &#x27;JAMMED RIGHT HAND PUNCTURE&#x27;,\n",
       "       &#x27;KNIFE LACERATION&#x27;, &#x27;KNIFE SLIPPED&#x27;, &#x27;LACERATION&#x27;,\n",
       "       &#x27;LEFT LEG SNAKE BITE&#x27;, &#x27;LIFTING&#x27;, &#x27;LIFTING BOXES&#x27;, &#x27;LIFTING PATIENT&#x27;,\n",
       "       &#x27;LIFTING TYRES&#x27;, &#x27;LOWER BACK STRAIN&#x27;, &#x27;MOTOR VEHICLE COLLISION&#x27;,\n",
       "       &#x27;PREPARING PIPES FOR PAINTING PUNCTURE&#x27;, &#x27;PULLING CABLES&#x27;,\n",
       "       &#x27;REDBACK SPIDER BITE&#x27;, &#x27;SLIPPED AND FELL&#x27;, &#x27;SLIPPED ON FLOOR&#x27;,\n",
       "       &#x27;SLIPPED ON ROLLER&#x27;, &#x27;SLIPPED ON STAIRS&#x27;, &#x27;SLIPPED ON WET FLOOR&#x27;,\n",
       "       &#x27;SLIPPED USING LATHE&#x27;, &#x27;SORTING ALUMINIUM BARS STRAIN&#x27;,\n",
       "       &#x27;SPRAINED RIGHT ANKLE FRACTURE&#x27;, &#x27;STRAIN&#x27;, &#x27;STRAIN LIFTING PARTS&#x27;,\n",
       "       &#x27;STRAIN LIFTING STRAIN&#x27;, &#x27;STRUCK KNIFE LACERATED&#x27;,\n",
       "       &#x27;STRUCK KNIFE LACERATION&#x27;, &#x27;STRUCK PALLET&#x27;, &#x27;STRUCK WITH KNIFE&#x27;,\n",
       "       &#x27;USING AIR HOSE STRAIN&#x27;, &#x27;USING DRILL&#x27;],\n",
       "      dtype=&#x27;object&#x27;)</pre></div> </div></div><div class=\"sk-serial\"><div class=\"sk-item\"><div class=\"sk-estimator fitted sk-toggleable\"><input class=\"sk-toggleable__control sk-hidden--visually\" id=\"sk-estimator-id-26\" type=\"checkbox\" ><label for=\"sk-estimator-id-26\" class=\"sk-toggleable__label fitted sk-toggleable__label-arrow\"><div><div>passthrough</div></div></label><div class=\"sk-toggleable__content fitted\"><pre>passthrough</pre></div> </div></div></div></div></div><div class=\"sk-parallel-item\"><div class=\"sk-item\"><div class=\"sk-label-container\"><div class=\"sk-label fitted sk-toggleable\"><input class=\"sk-toggleable__control sk-hidden--visually\" id=\"sk-estimator-id-27\" type=\"checkbox\" ><label for=\"sk-estimator-id-27\" class=\"sk-toggleable__label fitted sk-toggleable__label-arrow\"><div><div>pca_body_parts_embeddings</div></div></label><div class=\"sk-toggleable__content fitted\"><pre>Index([&#x27;body_feat_0&#x27;, &#x27;body_feat_1&#x27;, &#x27;body_feat_2&#x27;, &#x27;body_feat_3&#x27;,\n",
       "       &#x27;body_feat_4&#x27;, &#x27;body_feat_5&#x27;, &#x27;body_feat_6&#x27;, &#x27;body_feat_7&#x27;,\n",
       "       &#x27;body_feat_8&#x27;, &#x27;body_feat_9&#x27;,\n",
       "       ...\n",
       "       &#x27;body_feat_758&#x27;, &#x27;body_feat_759&#x27;, &#x27;body_feat_760&#x27;, &#x27;body_feat_761&#x27;,\n",
       "       &#x27;body_feat_762&#x27;, &#x27;body_feat_763&#x27;, &#x27;body_feat_764&#x27;, &#x27;body_feat_765&#x27;,\n",
       "       &#x27;body_feat_766&#x27;, &#x27;body_feat_767&#x27;],\n",
       "      dtype=&#x27;object&#x27;, length=768)</pre></div> </div></div><div class=\"sk-serial\"><div class=\"sk-item\"><div class=\"sk-estimator fitted sk-toggleable\"><input class=\"sk-toggleable__control sk-hidden--visually\" id=\"sk-estimator-id-28\" type=\"checkbox\" ><label for=\"sk-estimator-id-28\" class=\"sk-toggleable__label fitted sk-toggleable__label-arrow\"><div><div>PCA</div></div><div><a class=\"sk-estimator-doc-link fitted\" rel=\"noreferrer\" target=\"_blank\" href=\"https://scikit-learn.org/1.6/modules/generated/sklearn.decomposition.PCA.html\">?<span>Documentation for PCA</span></a></div></label><div class=\"sk-toggleable__content fitted\"><pre>PCA(n_components=80)</pre></div> </div></div></div></div></div><div class=\"sk-parallel-item\"><div class=\"sk-item\"><div class=\"sk-label-container\"><div class=\"sk-label fitted sk-toggleable\"><input class=\"sk-toggleable__control sk-hidden--visually\" id=\"sk-estimator-id-29\" type=\"checkbox\" ><label for=\"sk-estimator-id-29\" class=\"sk-toggleable__label fitted sk-toggleable__label-arrow\"><div><div>std_scaler</div></div></label><div class=\"sk-toggleable__content fitted\"><pre>[&#x27;event_median_cost&#x27;]</pre></div> </div></div><div class=\"sk-serial\"><div class=\"sk-item\"><div class=\"sk-estimator fitted sk-toggleable\"><input class=\"sk-toggleable__control sk-hidden--visually\" id=\"sk-estimator-id-30\" type=\"checkbox\" ><label for=\"sk-estimator-id-30\" class=\"sk-toggleable__label fitted sk-toggleable__label-arrow\"><div><div>StandardScaler</div></div><div><a class=\"sk-estimator-doc-link fitted\" rel=\"noreferrer\" target=\"_blank\" href=\"https://scikit-learn.org/1.6/modules/generated/sklearn.preprocessing.StandardScaler.html\">?<span>Documentation for StandardScaler</span></a></div></label><div class=\"sk-toggleable__content fitted\"><pre>StandardScaler()</pre></div> </div></div></div></div></div></div></div><div class=\"sk-item\"><div class=\"sk-estimator fitted sk-toggleable\"><input class=\"sk-toggleable__control sk-hidden--visually\" id=\"sk-estimator-id-31\" type=\"checkbox\" ><label for=\"sk-estimator-id-31\" class=\"sk-toggleable__label fitted sk-toggleable__label-arrow\"><div><div>XGBRegressor</div></div></label><div class=\"sk-toggleable__content fitted\"><pre>XGBRegressor(base_score=None, booster=None, callbacks=None,\n",
       "             colsample_bylevel=None, colsample_bynode=None,\n",
       "             colsample_bytree=0.8526671678597144, device=None,\n",
       "             early_stopping_rounds=None, enable_categorical=False,\n",
       "             eval_metric=None, feature_types=None, gamma=0.49023499265580806,\n",
       "             grow_policy=None, importance_type=None,\n",
       "             interaction_constraints=None, learning_rate=0.07733651173351022,\n",
       "             max_bin=None, max_cat_threshold=None, max_cat_to_onehot=None,\n",
       "             max_delta_step=None, max_depth=5, max_leaves=None,\n",
       "             min_child_weight=6, missing=nan, monotone_constraints=None,\n",
       "             multi_strategy=None, n_estimators=1000, n_jobs=None,\n",
       "             num_parallel_tree=None, random_state=None, ...)</pre></div> </div></div></div></div></div></div></div><div class=\"sk-parallel-item\"><div class=\"sk-item\"><div class=\"sk-label-container\"><div class=\"sk-label fitted sk-toggleable\"><input class=\"sk-toggleable__control sk-hidden--visually\" id=\"sk-estimator-id-32\" type=\"checkbox\" ><label for=\"sk-estimator-id-32\" class=\"sk-toggleable__label fitted sk-toggleable__label-arrow\"><div><div>transformer: PowerTransformer</div></div></label><div class=\"sk-toggleable__content fitted\"><pre>PowerTransformer(method=&#x27;box-cox&#x27;, standardize=False)</pre></div> </div></div><div class=\"sk-serial\"><div class=\"sk-item\"><div class=\"sk-estimator fitted sk-toggleable\"><input class=\"sk-toggleable__control sk-hidden--visually\" id=\"sk-estimator-id-33\" type=\"checkbox\" ><label for=\"sk-estimator-id-33\" class=\"sk-toggleable__label fitted sk-toggleable__label-arrow\"><div><div>PowerTransformer</div></div><div><a class=\"sk-estimator-doc-link fitted\" rel=\"noreferrer\" target=\"_blank\" href=\"https://scikit-learn.org/1.6/modules/generated/sklearn.preprocessing.PowerTransformer.html\">?<span>Documentation for PowerTransformer</span></a></div></label><div class=\"sk-toggleable__content fitted\"><pre>PowerTransformer(method=&#x27;box-cox&#x27;, standardize=False)</pre></div> </div></div></div></div></div></div></div></div></div>"
      ],
      "text/plain": [
       "TransformedTargetRegressor(regressor=Pipeline(steps=[('preprocessor',\n",
       "                                                      ColumnTransformer(transformers=[('log_inc',\n",
       "                                                                                       Pipeline(steps=[('log',\n",
       "                                                                                                        FunctionTransformer(func=<ufunc 'log'>)),\n",
       "                                                                                                       ('scaler',\n",
       "                                                                                                        StandardScaler())]),\n",
       "                                                                                       ['InitialIncurredCalimsCost',\n",
       "                                                                                        'WeeklyWages']),\n",
       "                                                                                      ('minmax_scaler',\n",
       "                                                                                       MinMaxScaler(),\n",
       "                                                                                       ['Age',\n",
       "                                                                                        'YearAccident']),\n",
       "                                                                                      ('gender_bool',\n",
       "                                                                                       FunctionTransformer(func=<fun...\n",
       "                                                                   learning_rate=0.07733651173351022,\n",
       "                                                                   max_bin=None,\n",
       "                                                                   max_cat_threshold=None,\n",
       "                                                                   max_cat_to_onehot=None,\n",
       "                                                                   max_delta_step=None,\n",
       "                                                                   max_depth=5,\n",
       "                                                                   max_leaves=None,\n",
       "                                                                   min_child_weight=6,\n",
       "                                                                   missing=nan,\n",
       "                                                                   monotone_constraints=None,\n",
       "                                                                   multi_strategy=None,\n",
       "                                                                   n_estimators=1000,\n",
       "                                                                   n_jobs=None,\n",
       "                                                                   num_parallel_tree=None,\n",
       "                                                                   random_state=None, ...))]),\n",
       "                           transformer=PowerTransformer(method='box-cox',\n",
       "                                                        standardize=False))"
      ]
     },
     "execution_count": 194,
     "metadata": {},
     "output_type": "execute_result"
    }
   ],
   "source": [
    "model.fit(X_train, y_train)"
   ]
  },
  {
   "cell_type": "code",
   "execution_count": 204,
   "metadata": {},
   "outputs": [
    {
     "data": {
      "text/plain": [
       "array([ 5891.342  ,  2779.2168 , 19953.72   , ...,  6008.0527 ,\n",
       "        7291.6914 ,   477.14896], shape=(36000,), dtype=float32)"
      ]
     },
     "execution_count": 204,
     "metadata": {},
     "output_type": "execute_result"
    }
   ],
   "source": [
    "y_test_pred = model.predict(dataset_test)\n",
    "y_test_pred"
   ]
  },
  {
   "cell_type": "code",
   "execution_count": 211,
   "metadata": {},
   "outputs": [
    {
     "name": "stdout",
     "output_type": "stream",
     "text": [
      "(36000, 2)\n"
     ]
    },
    {
     "data": {
      "text/html": [
       "<div>\n",
       "<style scoped>\n",
       "    .dataframe tbody tr th:only-of-type {\n",
       "        vertical-align: middle;\n",
       "    }\n",
       "\n",
       "    .dataframe tbody tr th {\n",
       "        vertical-align: top;\n",
       "    }\n",
       "\n",
       "    .dataframe thead th {\n",
       "        text-align: right;\n",
       "    }\n",
       "</style>\n",
       "<table border=\"1\" class=\"dataframe\">\n",
       "  <thead>\n",
       "    <tr style=\"text-align: right;\">\n",
       "      <th></th>\n",
       "      <th>ClaimNumber</th>\n",
       "      <th>UltimateIncurredClaimCost</th>\n",
       "    </tr>\n",
       "  </thead>\n",
       "  <tbody>\n",
       "    <tr>\n",
       "      <th>0</th>\n",
       "      <td>WC8145235</td>\n",
       "      <td>5891.341797</td>\n",
       "    </tr>\n",
       "    <tr>\n",
       "      <th>1</th>\n",
       "      <td>WC2005111</td>\n",
       "      <td>2779.216797</td>\n",
       "    </tr>\n",
       "    <tr>\n",
       "      <th>2</th>\n",
       "      <td>WC6899143</td>\n",
       "      <td>19953.720703</td>\n",
       "    </tr>\n",
       "    <tr>\n",
       "      <th>3</th>\n",
       "      <td>WC5502023</td>\n",
       "      <td>314.134155</td>\n",
       "    </tr>\n",
       "    <tr>\n",
       "      <th>4</th>\n",
       "      <td>WC4785156</td>\n",
       "      <td>2690.900635</td>\n",
       "    </tr>\n",
       "  </tbody>\n",
       "</table>\n",
       "</div>"
      ],
      "text/plain": [
       "  ClaimNumber  UltimateIncurredClaimCost\n",
       "0   WC8145235                5891.341797\n",
       "1   WC2005111                2779.216797\n",
       "2   WC6899143               19953.720703\n",
       "3   WC5502023                 314.134155\n",
       "4   WC4785156                2690.900635"
      ]
     },
     "execution_count": 211,
     "metadata": {},
     "output_type": "execute_result"
    }
   ],
   "source": [
    "submission_df = pd.DataFrame(zip(dataset_test.index, y_test_pred), columns=['ClaimNumber', 'UltimateIncurredClaimCost'])\n",
    "\n",
    "print(submission_df.shape)\n",
    "submission_df.head()"
   ]
  },
  {
   "cell_type": "code",
   "execution_count": 212,
   "metadata": {},
   "outputs": [],
   "source": [
    "submission_df.to_csv('../data/output/submission_xgb.csv', index=False)"
   ]
  },
  {
   "cell_type": "code",
   "execution_count": null,
   "metadata": {},
   "outputs": [],
   "source": [
    "# stores the processed datasets to continue training in other notebooks\n",
    "dataset_train.to_csv('../data/processed/dataset_train.csv', index=True)\n",
    "dataset_test.to_csv('../data/processed/dataset_test.csv', index=True)"
   ]
  }
 ],
 "metadata": {
  "kernelspec": {
   "display_name": ".env",
   "language": "python",
   "name": "python3"
  },
  "language_info": {
   "codemirror_mode": {
    "name": "ipython",
    "version": 3
   },
   "file_extension": ".py",
   "mimetype": "text/x-python",
   "name": "python",
   "nbconvert_exporter": "python",
   "pygments_lexer": "ipython3",
   "version": "3.10.15"
  }
 },
 "nbformat": 4,
 "nbformat_minor": 2
}

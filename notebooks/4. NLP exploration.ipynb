{
 "cells": [
  {
   "cell_type": "markdown",
   "metadata": {},
   "source": []
  },
  {
   "cell_type": "code",
   "execution_count": 110,
   "metadata": {},
   "outputs": [],
   "source": [
    "import pandas as pd\n",
    "import seaborn as sns\n",
    "from matplotlib import pyplot as plt \n",
    "import ast\n",
    "from sklearn.linear_model import Lasso, Ridge, LinearRegression\n",
    "from xgboost import XGBRegressor\n",
    "import numpy as np\n",
    "from sklearn.metrics import mean_squared_error\n",
    "from sklearn.model_selection import cross_val_score\n",
    "from sklearn.decomposition import PCA\n",
    "from sklearn.pipeline import Pipeline"
   ]
  },
  {
   "cell_type": "code",
   "execution_count": 111,
   "metadata": {},
   "outputs": [],
   "source": [
    "# Converts literal to lists\n",
    "def safe_eval(value):\n",
    "    try:\n",
    "        return ast.literal_eval(value) if isinstance(value, str) and value.startswith(\"[\") else [value]\n",
    "    except (SyntaxError, ValueError):\n",
    "        return [value]"
   ]
  },
  {
   "cell_type": "code",
   "execution_count": 112,
   "metadata": {},
   "outputs": [],
   "source": [
    "def train_cv(model, X, y, metric = 'rmse', kfold = 5):\n",
    "\n",
    "    if metric != 'rmse':\n",
    "        raise NotImplemented\n",
    "\n",
    "    scores = cross_val_score(model, X, y, cv=kfold, scoring='neg_mean_squared_error')\n",
    "\n",
    "    mse_scores = -scores\n",
    "    rmse_scores = np.sqrt(mse_scores)\n",
    "\n",
    "    return rmse_scores.mean(), rmse_scores.std()"
   ]
  },
  {
   "cell_type": "code",
   "execution_count": 113,
   "metadata": {},
   "outputs": [],
   "source": [
    "df_train = pd.read_csv('../data/raw/actuarial-loss-estimation/train.csv', index_col=0)\n",
    "df_nlp_descriptors_train = pd.read_csv('../data/processed/df_train_nlp_completions.csv', index_col=0)\n",
    "\n",
    "df_embeddings_events = pd.read_csv('../data/processed/embeddings_events.csv', index_col=0)\n",
    "df_embeddings_body_parts = pd.read_csv('../data/processed/embeddings_body_parts.csv', index_col=0)"
   ]
  },
  {
   "cell_type": "code",
   "execution_count": 114,
   "metadata": {},
   "outputs": [],
   "source": [
    "df_train = df_train[df_train.UltimateIncurredClaimCost < 4e6]"
   ]
  },
  {
   "cell_type": "code",
   "execution_count": 115,
   "metadata": {},
   "outputs": [
    {
     "data": {
      "text/html": [
       "<div>\n",
       "<style scoped>\n",
       "    .dataframe tbody tr th:only-of-type {\n",
       "        vertical-align: middle;\n",
       "    }\n",
       "\n",
       "    .dataframe tbody tr th {\n",
       "        vertical-align: top;\n",
       "    }\n",
       "\n",
       "    .dataframe thead th {\n",
       "        text-align: right;\n",
       "    }\n",
       "</style>\n",
       "<table border=\"1\" class=\"dataframe\">\n",
       "  <thead>\n",
       "    <tr style=\"text-align: right;\">\n",
       "      <th></th>\n",
       "      <th>event</th>\n",
       "      <th>affected_body_part</th>\n",
       "      <th>UltimateIncurredClaimCost</th>\n",
       "    </tr>\n",
       "    <tr>\n",
       "      <th>ClaimNumber</th>\n",
       "      <th></th>\n",
       "      <th></th>\n",
       "      <th></th>\n",
       "    </tr>\n",
       "  </thead>\n",
       "  <tbody>\n",
       "    <tr>\n",
       "      <th>WC8285054</th>\n",
       "      <td>INJURY LIFTING TYRE</td>\n",
       "      <td>['RIGHT ARM', 'RIGHT WRIST']</td>\n",
       "      <td>4748.203388</td>\n",
       "    </tr>\n",
       "    <tr>\n",
       "      <th>WC6982224</th>\n",
       "      <td>STEPPED AROUND CRATES AND TRUCK TRAY</td>\n",
       "      <td>['FOREARM']</td>\n",
       "      <td>6326.285819</td>\n",
       "    </tr>\n",
       "    <tr>\n",
       "      <th>WC5481426</th>\n",
       "      <td>CUT ON SHARP EDGE</td>\n",
       "      <td>['LEFT THUMB']</td>\n",
       "      <td>2293.949087</td>\n",
       "    </tr>\n",
       "    <tr>\n",
       "      <th>WC9775968</th>\n",
       "      <td>DIGGING LOWER BACK</td>\n",
       "      <td>['LOWER BACK']</td>\n",
       "      <td>17786.487170</td>\n",
       "    </tr>\n",
       "    <tr>\n",
       "      <th>WC2634037</th>\n",
       "      <td>REACHING ABOVE SHOULDER LEVEL ACUTE MUSCLE STRAIN</td>\n",
       "      <td>['LEFT STOMACH']</td>\n",
       "      <td>4014.002925</td>\n",
       "    </tr>\n",
       "    <tr>\n",
       "      <th>...</th>\n",
       "      <td>...</td>\n",
       "      <td>...</td>\n",
       "      <td>...</td>\n",
       "    </tr>\n",
       "    <tr>\n",
       "      <th>WC9370727</th>\n",
       "      <td>STRUCK KNIFE LACERATED</td>\n",
       "      <td>['LEFT MIDDLE FINGER']</td>\n",
       "      <td>480.493308</td>\n",
       "    </tr>\n",
       "    <tr>\n",
       "      <th>WC8396269</th>\n",
       "      <td>LACERATION LEFT HAND</td>\n",
       "      <td>['BACK', 'LEFT LEG']</td>\n",
       "      <td>755.735319</td>\n",
       "    </tr>\n",
       "    <tr>\n",
       "      <th>WC3609528</th>\n",
       "      <td>METAL SLIPPED ACROSS METAL CUT</td>\n",
       "      <td>['FINGER']</td>\n",
       "      <td>418.178461</td>\n",
       "    </tr>\n",
       "    <tr>\n",
       "      <th>WC5038565</th>\n",
       "      <td>BURN WHILST</td>\n",
       "      <td>['MIDDLE FINGER']</td>\n",
       "      <td>2695.225700</td>\n",
       "    </tr>\n",
       "    <tr>\n",
       "      <th>WC2542601</th>\n",
       "      <td>CUT WITH BREAD KNIFE</td>\n",
       "      <td>['LEFT INDEX', 'MIDDLE FINGERS']</td>\n",
       "      <td>934.273548</td>\n",
       "    </tr>\n",
       "  </tbody>\n",
       "</table>\n",
       "<p>53999 rows × 3 columns</p>\n",
       "</div>"
      ],
      "text/plain": [
       "                                                         event  \\\n",
       "ClaimNumber                                                      \n",
       "WC8285054                                  INJURY LIFTING TYRE   \n",
       "WC6982224                 STEPPED AROUND CRATES AND TRUCK TRAY   \n",
       "WC5481426                                    CUT ON SHARP EDGE   \n",
       "WC9775968                                   DIGGING LOWER BACK   \n",
       "WC2634037    REACHING ABOVE SHOULDER LEVEL ACUTE MUSCLE STRAIN   \n",
       "...                                                        ...   \n",
       "WC9370727                               STRUCK KNIFE LACERATED   \n",
       "WC8396269                                 LACERATION LEFT HAND   \n",
       "WC3609528                       METAL SLIPPED ACROSS METAL CUT   \n",
       "WC5038565                                          BURN WHILST   \n",
       "WC2542601                                 CUT WITH BREAD KNIFE   \n",
       "\n",
       "                           affected_body_part  UltimateIncurredClaimCost  \n",
       "ClaimNumber                                                               \n",
       "WC8285054        ['RIGHT ARM', 'RIGHT WRIST']                4748.203388  \n",
       "WC6982224                         ['FOREARM']                6326.285819  \n",
       "WC5481426                      ['LEFT THUMB']                2293.949087  \n",
       "WC9775968                      ['LOWER BACK']               17786.487170  \n",
       "WC2634037                    ['LEFT STOMACH']                4014.002925  \n",
       "...                                       ...                        ...  \n",
       "WC9370727              ['LEFT MIDDLE FINGER']                 480.493308  \n",
       "WC8396269                ['BACK', 'LEFT LEG']                 755.735319  \n",
       "WC3609528                          ['FINGER']                 418.178461  \n",
       "WC5038565                   ['MIDDLE FINGER']                2695.225700  \n",
       "WC2542601    ['LEFT INDEX', 'MIDDLE FINGERS']                 934.273548  \n",
       "\n",
       "[53999 rows x 3 columns]"
      ]
     },
     "execution_count": 115,
     "metadata": {},
     "output_type": "execute_result"
    }
   ],
   "source": [
    "df_train_texts = df_nlp_descriptors_train.join(df_train[['UltimateIncurredClaimCost']], how='right')\n",
    "df_train_texts"
   ]
  },
  {
   "cell_type": "code",
   "execution_count": 116,
   "metadata": {},
   "outputs": [],
   "source": [
    "df_train_texts[\"affected_body_part\"] = df_train_texts[\"affected_body_part\"].apply(safe_eval)"
   ]
  },
  {
   "cell_type": "markdown",
   "metadata": {},
   "source": [
    "## Exploration of EVENT"
   ]
  },
  {
   "cell_type": "code",
   "execution_count": 8,
   "metadata": {},
   "outputs": [
    {
     "data": {
      "text/plain": [
       "event\n",
       "MOTOR VEHICLE ACCIDENT                   506\n",
       "FELL DOWN STAIRS                         366\n",
       "INJURY                                   349\n",
       "SLIPPED ON WET FLOOR                     342\n",
       "LACERATION                               292\n",
       "SLIPPED ON ROLLER                        256\n",
       "BACK STRAIN                              246\n",
       "STRAIN                                   243\n",
       "SLIPPED USING LATHE                      242\n",
       "STRUCK KNIFE LACERATION                  226\n",
       "FELL OFF LADDER                          223\n",
       "SORTING ALUMINIUM BARS STRAIN            194\n",
       "SLIPPED ON STAIRS                        194\n",
       "STRUCK KNIFE LACERATED                   194\n",
       "CLEANING INSTRUMENTS                     194\n",
       "HIT AIR HOSE                             180\n",
       "HIT FLOOR SHEET                          177\n",
       "KNIFE LACERATION                         176\n",
       "GRINDING STEEL BEAM INFECTION            168\n",
       "KNIFE SLIPPED                            164\n",
       "LIFTING                                  155\n",
       "FELL FROM LADDER                         155\n",
       "REDBACK SPIDER BITE                      153\n",
       "SPRAINED RIGHT ANKLE FRACTURE            151\n",
       "USING DRILL                              141\n",
       "DEALING CARDS RIGHT TENDON SYNOVITIS     137\n",
       "LIFTING TYRES                            134\n",
       "JAMMED RIGHT HAND PUNCTURE               130\n",
       "CLEANING LEFT SHOULDER SPLINTER          126\n",
       "FRACTURED LEFT WRIST FRACTURE            124\n",
       "CUT WITH KNIFE                           120\n",
       "USING AIR HOSE STRAIN                    120\n",
       "SLIPPED AND FELL                         119\n",
       "LEFT LEG SNAKE BITE                      118\n",
       "LOWER BACK STRAIN                        112\n",
       "LIFTING BOXES                            110\n",
       "PREPARING PIPES FOR PAINTING PUNCTURE    108\n",
       "GRINDING FOREIGN BODY                    106\n",
       "SLIPPED ON FLOOR                         103\n",
       "Name: count, dtype: int64"
      ]
     },
     "execution_count": 8,
     "metadata": {},
     "output_type": "execute_result"
    }
   ],
   "source": [
    "df_train_texts.event.value_counts()[df_train_texts.event.value_counts() > 100]"
   ]
  },
  {
   "cell_type": "code",
   "execution_count": 9,
   "metadata": {},
   "outputs": [],
   "source": [
    "# top 250 events and body_parts\n",
    "top_events = df_train_texts.event.value_counts().head(250).index.values"
   ]
  },
  {
   "cell_type": "code",
   "execution_count": 10,
   "metadata": {},
   "outputs": [
    {
     "data": {
      "text/html": [
       "<div>\n",
       "<style scoped>\n",
       "    .dataframe tbody tr th:only-of-type {\n",
       "        vertical-align: middle;\n",
       "    }\n",
       "\n",
       "    .dataframe tbody tr th {\n",
       "        vertical-align: top;\n",
       "    }\n",
       "\n",
       "    .dataframe thead th {\n",
       "        text-align: right;\n",
       "    }\n",
       "</style>\n",
       "<table border=\"1\" class=\"dataframe\">\n",
       "  <thead>\n",
       "    <tr style=\"text-align: right;\">\n",
       "      <th></th>\n",
       "      <th>event</th>\n",
       "      <th>affected_body_part</th>\n",
       "      <th>UltimateIncurredClaimCost</th>\n",
       "    </tr>\n",
       "    <tr>\n",
       "      <th>ClaimNumber</th>\n",
       "      <th></th>\n",
       "      <th></th>\n",
       "      <th></th>\n",
       "    </tr>\n",
       "  </thead>\n",
       "  <tbody>\n",
       "    <tr>\n",
       "      <th>WC9775968</th>\n",
       "      <td>DIGGING LOWER BACK</td>\n",
       "      <td>[LOWER BACK]</td>\n",
       "      <td>17786.487170</td>\n",
       "    </tr>\n",
       "    <tr>\n",
       "      <th>WC7539849</th>\n",
       "      <td>CLEANING LEFT SHOULDER SPLINTER</td>\n",
       "      <td>[LEFT HAND]</td>\n",
       "      <td>1877.172243</td>\n",
       "    </tr>\n",
       "    <tr>\n",
       "      <th>WC6193926</th>\n",
       "      <td>TO RIGHT LEG</td>\n",
       "      <td>[RIGHT KNEE]</td>\n",
       "      <td>1343.513498</td>\n",
       "    </tr>\n",
       "    <tr>\n",
       "      <th>WC8342953</th>\n",
       "      <td>FALL FROM LADDER</td>\n",
       "      <td>[SHOULDER]</td>\n",
       "      <td>105285.148600</td>\n",
       "    </tr>\n",
       "    <tr>\n",
       "      <th>WC4302308</th>\n",
       "      <td>CUTTING MATERIAL</td>\n",
       "      <td>[FINGER]</td>\n",
       "      <td>2054.868515</td>\n",
       "    </tr>\n",
       "    <tr>\n",
       "      <th>...</th>\n",
       "      <td>...</td>\n",
       "      <td>...</td>\n",
       "      <td>...</td>\n",
       "    </tr>\n",
       "    <tr>\n",
       "      <th>WC7430033</th>\n",
       "      <td>CUTTING WITH KNIFE</td>\n",
       "      <td>[LEFT THUMB, LEFT INDEX FINGER]</td>\n",
       "      <td>495.718394</td>\n",
       "    </tr>\n",
       "    <tr>\n",
       "      <th>WC3063028</th>\n",
       "      <td>MOTOR VEHICLE ACCIDENT</td>\n",
       "      <td>[NECK]</td>\n",
       "      <td>12008.194150</td>\n",
       "    </tr>\n",
       "    <tr>\n",
       "      <th>WC3485403</th>\n",
       "      <td>INJURY LIFTING DOOR</td>\n",
       "      <td>[SHOULDER, LEFT FOREARM, LEFT HIP]</td>\n",
       "      <td>2633.844395</td>\n",
       "    </tr>\n",
       "    <tr>\n",
       "      <th>WC9370727</th>\n",
       "      <td>STRUCK KNIFE LACERATED</td>\n",
       "      <td>[LEFT MIDDLE FINGER]</td>\n",
       "      <td>480.493308</td>\n",
       "    </tr>\n",
       "    <tr>\n",
       "      <th>WC8396269</th>\n",
       "      <td>LACERATION LEFT HAND</td>\n",
       "      <td>[BACK, LEFT LEG]</td>\n",
       "      <td>755.735319</td>\n",
       "    </tr>\n",
       "  </tbody>\n",
       "</table>\n",
       "<p>15794 rows × 3 columns</p>\n",
       "</div>"
      ],
      "text/plain": [
       "                                       event  \\\n",
       "ClaimNumber                                    \n",
       "WC9775968                 DIGGING LOWER BACK   \n",
       "WC7539849    CLEANING LEFT SHOULDER SPLINTER   \n",
       "WC6193926                       TO RIGHT LEG   \n",
       "WC8342953                   FALL FROM LADDER   \n",
       "WC4302308                   CUTTING MATERIAL   \n",
       "...                                      ...   \n",
       "WC7430033                 CUTTING WITH KNIFE   \n",
       "WC3063028             MOTOR VEHICLE ACCIDENT   \n",
       "WC3485403                INJURY LIFTING DOOR   \n",
       "WC9370727             STRUCK KNIFE LACERATED   \n",
       "WC8396269               LACERATION LEFT HAND   \n",
       "\n",
       "                             affected_body_part  UltimateIncurredClaimCost  \n",
       "ClaimNumber                                                                 \n",
       "WC9775968                          [LOWER BACK]               17786.487170  \n",
       "WC7539849                           [LEFT HAND]                1877.172243  \n",
       "WC6193926                          [RIGHT KNEE]                1343.513498  \n",
       "WC8342953                            [SHOULDER]              105285.148600  \n",
       "WC4302308                              [FINGER]                2054.868515  \n",
       "...                                         ...                        ...  \n",
       "WC7430033       [LEFT THUMB, LEFT INDEX FINGER]                 495.718394  \n",
       "WC3063028                                [NECK]               12008.194150  \n",
       "WC3485403    [SHOULDER, LEFT FOREARM, LEFT HIP]                2633.844395  \n",
       "WC9370727                  [LEFT MIDDLE FINGER]                 480.493308  \n",
       "WC8396269                      [BACK, LEFT LEG]                 755.735319  \n",
       "\n",
       "[15794 rows x 3 columns]"
      ]
     },
     "execution_count": 10,
     "metadata": {},
     "output_type": "execute_result"
    }
   ],
   "source": [
    "df_train_texts[df_train_texts.event.isin(top_events)]"
   ]
  },
  {
   "cell_type": "code",
   "execution_count": 117,
   "metadata": {},
   "outputs": [],
   "source": [
    "event_medians = df_train_texts[\n",
    "    df_train_texts.event.isin(top_events)\n",
    "    ].groupby('event')['UltimateIncurredClaimCost'].median().sort_values(ascending=False)"
   ]
  },
  {
   "cell_type": "code",
   "execution_count": 118,
   "metadata": {},
   "outputs": [
    {
     "data": {
      "text/plain": [
       "event\n",
       "WORKPLACE STRESS              44122.356910\n",
       "LIFTING GATE STRAIN           33371.081160\n",
       "TRIPPED FELL STRAIN           21706.179650\n",
       "LOWER BACK PAIN               16122.249480\n",
       "REPETITIVE WORK STRAIN        14179.448390\n",
       "                                  ...     \n",
       "GRINDING METAL                  340.753843\n",
       "FOREIGN BODY                    316.006423\n",
       "FOREIGN BODY ENTERED EYE        313.470076\n",
       "INJURY EYE                      312.741611\n",
       "FOREIGN BODY FLEW INTO EYE      308.784094\n",
       "Name: UltimateIncurredClaimCost, Length: 250, dtype: float64"
      ]
     },
     "execution_count": 118,
     "metadata": {},
     "output_type": "execute_result"
    }
   ],
   "source": [
    "event_medians"
   ]
  },
  {
   "cell_type": "code",
   "execution_count": 119,
   "metadata": {},
   "outputs": [
    {
     "data": {
      "image/png": "[encoded data removed]",
      "text/plain": [
       "<Figure size 1600x1600 with 4 Axes>"
      ]
     },
     "metadata": {},
     "output_type": "display_data"
    }
   ],
   "source": [
    "fig, ax = plt.subplots(2, 2, figsize=(16, 16))\n",
    "\n",
    "sns.barplot(event_medians[:20], ax=ax[0, 0])\n",
    "ax[0, 0].set_title('median UltimateIncurredClaimCost for top 20 events')\n",
    "\n",
    "sns.barplot(event_medians[20:80], ax=ax[0, 1])\n",
    "ax[0, 1].set_title('median UltimateIncurredClaimCost for top 20-80 events')\n",
    "\n",
    "sns.barplot(event_medians[80:150], ax=ax[1, 0])\n",
    "ax[1, 0].set_title('median UltimateIncurredClaimCost for top 80-150 events')\n",
    "\n",
    "sns.barplot(event_medians[150:], ax=ax[1, 1])\n",
    "ax[1, 1].set_title('median UltimateIncurredClaimCost for top 150-250 events')\n",
    "\n",
    "plt.show()"
   ]
  },
  {
   "cell_type": "code",
   "execution_count": null,
   "metadata": {},
   "outputs": [],
   "source": []
  },
  {
   "cell_type": "markdown",
   "metadata": {},
   "source": [
    "### Train only on event embeddings "
   ]
  },
  {
   "cell_type": "code",
   "execution_count": 14,
   "metadata": {},
   "outputs": [
    {
     "name": "stdout",
     "output_type": "stream",
     "text": [
      "(53999, 771)\n"
     ]
    },
    {
     "data": {
      "text/html": [
       "<div>\n",
       "<style scoped>\n",
       "    .dataframe tbody tr th:only-of-type {\n",
       "        vertical-align: middle;\n",
       "    }\n",
       "\n",
       "    .dataframe tbody tr th {\n",
       "        vertical-align: top;\n",
       "    }\n",
       "\n",
       "    .dataframe thead th {\n",
       "        text-align: right;\n",
       "    }\n",
       "</style>\n",
       "<table border=\"1\" class=\"dataframe\">\n",
       "  <thead>\n",
       "    <tr style=\"text-align: right;\">\n",
       "      <th></th>\n",
       "      <th>event</th>\n",
       "      <th>affected_body_part</th>\n",
       "      <th>UltimateIncurredClaimCost</th>\n",
       "      <th>feat_0</th>\n",
       "      <th>feat_1</th>\n",
       "      <th>feat_2</th>\n",
       "      <th>feat_3</th>\n",
       "      <th>feat_4</th>\n",
       "      <th>feat_5</th>\n",
       "      <th>feat_6</th>\n",
       "      <th>...</th>\n",
       "      <th>feat_758</th>\n",
       "      <th>feat_759</th>\n",
       "      <th>feat_760</th>\n",
       "      <th>feat_761</th>\n",
       "      <th>feat_762</th>\n",
       "      <th>feat_763</th>\n",
       "      <th>feat_764</th>\n",
       "      <th>feat_765</th>\n",
       "      <th>feat_766</th>\n",
       "      <th>feat_767</th>\n",
       "    </tr>\n",
       "    <tr>\n",
       "      <th>ClaimNumber</th>\n",
       "      <th></th>\n",
       "      <th></th>\n",
       "      <th></th>\n",
       "      <th></th>\n",
       "      <th></th>\n",
       "      <th></th>\n",
       "      <th></th>\n",
       "      <th></th>\n",
       "      <th></th>\n",
       "      <th></th>\n",
       "      <th></th>\n",
       "      <th></th>\n",
       "      <th></th>\n",
       "      <th></th>\n",
       "      <th></th>\n",
       "      <th></th>\n",
       "      <th></th>\n",
       "      <th></th>\n",
       "      <th></th>\n",
       "      <th></th>\n",
       "      <th></th>\n",
       "    </tr>\n",
       "  </thead>\n",
       "  <tbody>\n",
       "    <tr>\n",
       "      <th>WC8285054</th>\n",
       "      <td>INJURY LIFTING TYRE</td>\n",
       "      <td>[RIGHT ARM, RIGHT WRIST]</td>\n",
       "      <td>4748.203388</td>\n",
       "      <td>0.010224</td>\n",
       "      <td>-0.008979</td>\n",
       "      <td>-0.153203</td>\n",
       "      <td>-0.046708</td>\n",
       "      <td>0.016435</td>\n",
       "      <td>0.014400</td>\n",
       "      <td>0.007274</td>\n",
       "      <td>...</td>\n",
       "      <td>0.094073</td>\n",
       "      <td>-0.044662</td>\n",
       "      <td>0.006170</td>\n",
       "      <td>-0.027248</td>\n",
       "      <td>-0.008825</td>\n",
       "      <td>-0.040654</td>\n",
       "      <td>0.002053</td>\n",
       "      <td>0.017474</td>\n",
       "      <td>-0.038694</td>\n",
       "      <td>0.032358</td>\n",
       "    </tr>\n",
       "    <tr>\n",
       "      <th>WC6982224</th>\n",
       "      <td>STEPPED AROUND CRATES AND TRUCK TRAY</td>\n",
       "      <td>[FOREARM]</td>\n",
       "      <td>6326.285819</td>\n",
       "      <td>-0.035648</td>\n",
       "      <td>0.045628</td>\n",
       "      <td>-0.162840</td>\n",
       "      <td>-0.018556</td>\n",
       "      <td>0.003661</td>\n",
       "      <td>0.016655</td>\n",
       "      <td>0.031907</td>\n",
       "      <td>...</td>\n",
       "      <td>0.102261</td>\n",
       "      <td>0.000294</td>\n",
       "      <td>0.034455</td>\n",
       "      <td>0.026042</td>\n",
       "      <td>-0.023603</td>\n",
       "      <td>0.014823</td>\n",
       "      <td>-0.025118</td>\n",
       "      <td>-0.016251</td>\n",
       "      <td>-0.054481</td>\n",
       "      <td>0.018184</td>\n",
       "    </tr>\n",
       "    <tr>\n",
       "      <th>WC5481426</th>\n",
       "      <td>CUT ON SHARP EDGE</td>\n",
       "      <td>[LEFT THUMB]</td>\n",
       "      <td>2293.949087</td>\n",
       "      <td>0.059115</td>\n",
       "      <td>0.011514</td>\n",
       "      <td>-0.153140</td>\n",
       "      <td>0.027770</td>\n",
       "      <td>0.024657</td>\n",
       "      <td>-0.010284</td>\n",
       "      <td>-0.007715</td>\n",
       "      <td>...</td>\n",
       "      <td>0.083443</td>\n",
       "      <td>0.011950</td>\n",
       "      <td>0.025244</td>\n",
       "      <td>-0.025845</td>\n",
       "      <td>0.032487</td>\n",
       "      <td>0.010088</td>\n",
       "      <td>-0.000443</td>\n",
       "      <td>-0.037085</td>\n",
       "      <td>-0.042041</td>\n",
       "      <td>-0.019674</td>\n",
       "    </tr>\n",
       "    <tr>\n",
       "      <th>WC9775968</th>\n",
       "      <td>DIGGING LOWER BACK</td>\n",
       "      <td>[LOWER BACK]</td>\n",
       "      <td>17786.487170</td>\n",
       "      <td>0.088880</td>\n",
       "      <td>0.051487</td>\n",
       "      <td>-0.143221</td>\n",
       "      <td>-0.040761</td>\n",
       "      <td>0.017948</td>\n",
       "      <td>0.027475</td>\n",
       "      <td>0.045827</td>\n",
       "      <td>...</td>\n",
       "      <td>0.083236</td>\n",
       "      <td>-0.004408</td>\n",
       "      <td>0.005443</td>\n",
       "      <td>-0.038952</td>\n",
       "      <td>0.047937</td>\n",
       "      <td>0.019580</td>\n",
       "      <td>0.001715</td>\n",
       "      <td>-0.018154</td>\n",
       "      <td>-0.052198</td>\n",
       "      <td>0.044447</td>\n",
       "    </tr>\n",
       "    <tr>\n",
       "      <th>WC2634037</th>\n",
       "      <td>REACHING ABOVE SHOULDER LEVEL ACUTE MUSCLE STRAIN</td>\n",
       "      <td>[LEFT STOMACH]</td>\n",
       "      <td>4014.002925</td>\n",
       "      <td>0.035530</td>\n",
       "      <td>0.029204</td>\n",
       "      <td>-0.203067</td>\n",
       "      <td>0.002893</td>\n",
       "      <td>-0.015865</td>\n",
       "      <td>-0.002419</td>\n",
       "      <td>0.022961</td>\n",
       "      <td>...</td>\n",
       "      <td>0.074492</td>\n",
       "      <td>-0.009232</td>\n",
       "      <td>-0.021835</td>\n",
       "      <td>-0.043457</td>\n",
       "      <td>0.069049</td>\n",
       "      <td>-0.018228</td>\n",
       "      <td>-0.005461</td>\n",
       "      <td>0.006898</td>\n",
       "      <td>-0.047432</td>\n",
       "      <td>-0.014228</td>\n",
       "    </tr>\n",
       "  </tbody>\n",
       "</table>\n",
       "<p>5 rows × 771 columns</p>\n",
       "</div>"
      ],
      "text/plain": [
       "                                                         event  \\\n",
       "ClaimNumber                                                      \n",
       "WC8285054                                  INJURY LIFTING TYRE   \n",
       "WC6982224                 STEPPED AROUND CRATES AND TRUCK TRAY   \n",
       "WC5481426                                    CUT ON SHARP EDGE   \n",
       "WC9775968                                   DIGGING LOWER BACK   \n",
       "WC2634037    REACHING ABOVE SHOULDER LEVEL ACUTE MUSCLE STRAIN   \n",
       "\n",
       "                   affected_body_part  UltimateIncurredClaimCost    feat_0  \\\n",
       "ClaimNumber                                                                  \n",
       "WC8285054    [RIGHT ARM, RIGHT WRIST]                4748.203388  0.010224   \n",
       "WC6982224                   [FOREARM]                6326.285819 -0.035648   \n",
       "WC5481426                [LEFT THUMB]                2293.949087  0.059115   \n",
       "WC9775968                [LOWER BACK]               17786.487170  0.088880   \n",
       "WC2634037              [LEFT STOMACH]                4014.002925  0.035530   \n",
       "\n",
       "               feat_1    feat_2    feat_3    feat_4    feat_5    feat_6  ...  \\\n",
       "ClaimNumber                                                              ...   \n",
       "WC8285054   -0.008979 -0.153203 -0.046708  0.016435  0.014400  0.007274  ...   \n",
       "WC6982224    0.045628 -0.162840 -0.018556  0.003661  0.016655  0.031907  ...   \n",
       "WC5481426    0.011514 -0.153140  0.027770  0.024657 -0.010284 -0.007715  ...   \n",
       "WC9775968    0.051487 -0.143221 -0.040761  0.017948  0.027475  0.045827  ...   \n",
       "WC2634037    0.029204 -0.203067  0.002893 -0.015865 -0.002419  0.022961  ...   \n",
       "\n",
       "             feat_758  feat_759  feat_760  feat_761  feat_762  feat_763  \\\n",
       "ClaimNumber                                                               \n",
       "WC8285054    0.094073 -0.044662  0.006170 -0.027248 -0.008825 -0.040654   \n",
       "WC6982224    0.102261  0.000294  0.034455  0.026042 -0.023603  0.014823   \n",
       "WC5481426    0.083443  0.011950  0.025244 -0.025845  0.032487  0.010088   \n",
       "WC9775968    0.083236 -0.004408  0.005443 -0.038952  0.047937  0.019580   \n",
       "WC2634037    0.074492 -0.009232 -0.021835 -0.043457  0.069049 -0.018228   \n",
       "\n",
       "             feat_764  feat_765  feat_766  feat_767  \n",
       "ClaimNumber                                          \n",
       "WC8285054    0.002053  0.017474 -0.038694  0.032358  \n",
       "WC6982224   -0.025118 -0.016251 -0.054481  0.018184  \n",
       "WC5481426   -0.000443 -0.037085 -0.042041 -0.019674  \n",
       "WC9775968    0.001715 -0.018154 -0.052198  0.044447  \n",
       "WC2634037   -0.005461  0.006898 -0.047432 -0.014228  \n",
       "\n",
       "[5 rows x 771 columns]"
      ]
     },
     "execution_count": 14,
     "metadata": {},
     "output_type": "execute_result"
    }
   ],
   "source": [
    "df_train_with_embeddings = df_train_texts.join(df_embeddings_events, on='event')\n",
    "print(df_train_with_embeddings.shape)\n",
    "df_train_with_embeddings.head()"
   ]
  },
  {
   "cell_type": "code",
   "execution_count": 15,
   "metadata": {},
   "outputs": [],
   "source": [
    "cols_embeddings = [col for col in df_train_with_embeddings.columns if col[:4] == 'feat']"
   ]
  },
  {
   "cell_type": "code",
   "execution_count": 16,
   "metadata": {},
   "outputs": [],
   "source": [
    "X = df_train_with_embeddings[cols_embeddings]\n",
    "y = df_train_with_embeddings['UltimateIncurredClaimCost']"
   ]
  },
  {
   "cell_type": "code",
   "execution_count": 17,
   "metadata": {},
   "outputs": [
    {
     "name": "stdout",
     "output_type": "stream",
     "text": [
      "Cross validated RMSE: 28012.25 ± 1197.66\n"
     ]
    }
   ],
   "source": [
    "rmse_mean, rmse_std = train_cv(Lasso(), X, y)\n",
    "\n",
    "print(f'Cross validated RMSE: {rmse_mean:.2f} ± {rmse_std:.2f}')"
   ]
  },
  {
   "cell_type": "code",
   "execution_count": 18,
   "metadata": {},
   "outputs": [
    {
     "name": "stdout",
     "output_type": "stream",
     "text": [
      "Cross validated RMSE: 29650.17 ± 1354.28\n"
     ]
    }
   ],
   "source": [
    "rmse_mean, rmse_std = train_cv(XGBRegressor(n_estimators=100), X, y)\n",
    "\n",
    "print(f'Cross validated RMSE: {rmse_mean:.2f} ± {rmse_std:.2f}')"
   ]
  },
  {
   "cell_type": "markdown",
   "metadata": {},
   "source": [
    "RMSE for the linear model is lower than then __initial modelling__, while XGB is slightly larger. Initial modelling considered only the numerical and categorical variables."
   ]
  },
  {
   "cell_type": "markdown",
   "metadata": {},
   "source": [
    "Same experiment but with dimensionality reduction."
   ]
  },
  {
   "cell_type": "code",
   "execution_count": 19,
   "metadata": {},
   "outputs": [
    {
     "name": "stdout",
     "output_type": "stream",
     "text": [
      "Cross validated RMSE: 28032.78 ± 1196.90\n"
     ]
    }
   ],
   "source": [
    "pipeline = Pipeline([\n",
    "    ('pca', PCA(n_components=50)),\n",
    "    ('regressor', Lasso())\n",
    "])\n",
    "\n",
    "rmse_mean, rmse_std = train_cv(pipeline, X, y)\n",
    "print(f'Cross validated RMSE: {rmse_mean:.2f} ± {rmse_std:.2f}')"
   ]
  },
  {
   "cell_type": "code",
   "execution_count": 20,
   "metadata": {},
   "outputs": [
    {
     "name": "stdout",
     "output_type": "stream",
     "text": [
      "Cross validated RMSE: 29293.37 ± 1328.02\n"
     ]
    }
   ],
   "source": [
    "pipeline = Pipeline([\n",
    "    ('pca', PCA(n_components=50)),\n",
    "    ('regressor', XGBRegressor(n_estimators=100))\n",
    "])\n",
    "\n",
    "rmse_mean, rmse_std = train_cv(pipeline, X, y)\n",
    "\n",
    "print(f'Cross validated RMSE: {rmse_mean:.2f} ± {rmse_std:.2f}')"
   ]
  },
  {
   "cell_type": "markdown",
   "metadata": {},
   "source": [
    "PCA doesn't seem to make a big impact on RMSE, but makes for a faster convergence."
   ]
  },
  {
   "cell_type": "markdown",
   "metadata": {},
   "source": [
    "### Train on event descriptions instead\n",
    "Using all descriptions (even the less popular ones)"
   ]
  },
  {
   "cell_type": "code",
   "execution_count": 21,
   "metadata": {},
   "outputs": [],
   "source": [
    "X = pd.get_dummies(df_train_texts['event'])\n",
    "y = df_train_texts['UltimateIncurredClaimCost']"
   ]
  },
  {
   "cell_type": "code",
   "execution_count": 22,
   "metadata": {},
   "outputs": [
    {
     "name": "stdout",
     "output_type": "stream",
     "text": [
      "Cross validated RMSE (linear regression): 29453.52 ± 1462.15\n"
     ]
    }
   ],
   "source": [
    "rmse_mean, rmse_std = train_cv(Lasso(), X, y)\n",
    "\n",
    "print(f'Cross validated RMSE (linear regression): {rmse_mean:.2f} ± {rmse_std:.2f}')"
   ]
  },
  {
   "cell_type": "code",
   "execution_count": 23,
   "metadata": {},
   "outputs": [
    {
     "name": "stdout",
     "output_type": "stream",
     "text": [
      "Cross validated RMSE (xgboost): 28918.82 ± 1308.77\n"
     ]
    }
   ],
   "source": [
    "# fix for xgboost\n",
    "X.columns = [f'c_{i}' for i in range(len(X.columns))]\n",
    "rmse_mean, rmse_std = train_cv(XGBRegressor(n_estimators=100), X, y)\n",
    "\n",
    "print(f'Cross validated RMSE (xgboost): {rmse_mean:.2f} ± {rmse_std:.2f}')"
   ]
  },
  {
   "cell_type": "markdown",
   "metadata": {},
   "source": [
    "The simple one-hot encoding actually has a performance comparable to the embeddings. Now let's try with dimensionality reduction."
   ]
  },
  {
   "cell_type": "code",
   "execution_count": 24,
   "metadata": {},
   "outputs": [
    {
     "name": "stdout",
     "output_type": "stream",
     "text": [
      "Cross validated RMSE: 28483.90 ± 1192.12\n"
     ]
    }
   ],
   "source": [
    "pipeline = Pipeline([\n",
    "    ('pca', PCA(n_components=50)),\n",
    "    ('regressor', Lasso())\n",
    "])\n",
    "\n",
    "rmse_mean, rmse_std = train_cv(pipeline, X, y)\n",
    "print(f'Cross validated RMSE: {rmse_mean:.2f} ± {rmse_std:.2f}')"
   ]
  },
  {
   "cell_type": "code",
   "execution_count": 25,
   "metadata": {},
   "outputs": [
    {
     "name": "stdout",
     "output_type": "stream",
     "text": [
      "Cross validated RMSE: 31254.30 ± 3415.81\n"
     ]
    }
   ],
   "source": [
    "pipeline = Pipeline([\n",
    "    ('pca', PCA(n_components=50)),\n",
    "    ('regressor', XGBRegressor(n_estimators=100))\n",
    "])\n",
    "\n",
    "rmse_mean, rmse_std = train_cv(pipeline, X, y)\n",
    "\n",
    "print(f'Cross validated RMSE: {rmse_mean:.2f} ± {rmse_std:.2f}')"
   ]
  },
  {
   "cell_type": "markdown",
   "metadata": {},
   "source": [
    "In this case PCA did improve the linear model, XGBoost struggled with it. "
   ]
  },
  {
   "cell_type": "markdown",
   "metadata": {},
   "source": [
    "Predicting only for the most popular items? "
   ]
  },
  {
   "cell_type": "code",
   "execution_count": 26,
   "metadata": {},
   "outputs": [],
   "source": [
    "# filtering for those with events in high frequency\n",
    "X = pd.get_dummies(df_train_texts.loc[df_train_texts.event.isin(top_events), 'event'])\n",
    "y = df_train_texts.loc[df_train_texts.event.isin(top_events), 'UltimateIncurredClaimCost'] "
   ]
  },
  {
   "cell_type": "code",
   "execution_count": 27,
   "metadata": {},
   "outputs": [
    {
     "name": "stdout",
     "output_type": "stream",
     "text": [
      "Cross validated RMSE for linear regression: 27125.11 ± 1785.09\n"
     ]
    }
   ],
   "source": [
    "rmse_mean, rmse_std = train_cv(Lasso(), X, y)\n",
    "\n",
    "print(f'Cross validated RMSE for linear regression: {rmse_mean:.2f} ± {rmse_std:.2f}')"
   ]
  },
  {
   "cell_type": "code",
   "execution_count": 28,
   "metadata": {},
   "outputs": [
    {
     "name": "stdout",
     "output_type": "stream",
     "text": [
      "Cross validated RMSE (xgboost): 27110.71 ± 1793.21\n"
     ]
    }
   ],
   "source": [
    "# fix for xgboost\n",
    "X.columns = [f'c_{i}' for i in range(len(X.columns))]\n",
    "rmse_mean, rmse_std = train_cv(XGBRegressor(n_estimators=100), X, y)\n",
    "\n",
    "print(f'Cross validated RMSE (xgboost): {rmse_mean:.2f} ± {rmse_std:.2f}')"
   ]
  },
  {
   "cell_type": "markdown",
   "metadata": {},
   "source": [
    "For the subset of accidents with the most frequency, the results are even better. Will it perform even better as I continue to reduce the number of top elements?"
   ]
  },
  {
   "cell_type": "code",
   "execution_count": 29,
   "metadata": {},
   "outputs": [
    {
     "name": "stdout",
     "output_type": "stream",
     "text": [
      "Testing for top 150 events\n",
      "Cross validated RMSE for linear regression: 27115.23 ± 1841.91\n",
      "Cross validated RMSE (xgboost): 27107.46 ± 1858.76\n",
      "Testing for top 120 events\n",
      "Cross validated RMSE for linear regression: 26275.57 ± 1695.59\n",
      "Cross validated RMSE (xgboost): 26272.13 ± 1703.05\n",
      "Testing for top 100 events\n",
      "Cross validated RMSE for linear regression: 26621.74 ± 2115.70\n",
      "Cross validated RMSE (xgboost): 26619.06 ± 2121.33\n",
      "Testing for top 50 events\n",
      "Cross validated RMSE for linear regression: 26141.81 ± 2679.78\n",
      "Cross validated RMSE (xgboost): 26142.12 ± 2679.46\n",
      "Testing for top 30 events\n",
      "Cross validated RMSE for linear regression: 26651.93 ± 3570.34\n",
      "Cross validated RMSE (xgboost): 26652.77 ± 3569.28\n",
      "Testing for top 10 events\n",
      "Cross validated RMSE for linear regression: 28298.57 ± 5801.42\n",
      "Cross validated RMSE (xgboost): 28298.61 ± 5801.14\n",
      "Testing for top 5 events\n",
      "Cross validated RMSE for linear regression: 29795.02 ± 3125.97\n",
      "Cross validated RMSE (xgboost): 29795.03 ± 3125.84\n"
     ]
    }
   ],
   "source": [
    "for n in (5, 10, 30, 50, 100, 120, 150)[::-1]:\n",
    "    print(f'Testing for top {n} events')\n",
    "    X = pd.get_dummies(df_train_texts.loc[df_train_texts.event.isin(top_events[:n]), 'event'])\n",
    "    y = df_train_texts.loc[df_train_texts.event.isin(top_events[:n]), 'UltimateIncurredClaimCost'] \n",
    "\n",
    "    rmse_mean, rmse_std = train_cv(Lasso(), X, y)\n",
    "\n",
    "    print(f'Cross validated RMSE for linear regression: {rmse_mean:.2f} ± {rmse_std:.2f}')\n",
    "\n",
    "    # fix for xgboost\n",
    "    X.columns = [f'c_{i}' for i in range(len(X.columns))]\n",
    "    rmse_mean, rmse_std = train_cv(XGBRegressor(n_estimators=100), X, y)\n",
    "\n",
    "    print(f'Cross validated RMSE (xgboost): {rmse_mean:.2f} ± {rmse_std:.2f}')\n"
   ]
  },
  {
   "cell_type": "markdown",
   "metadata": {},
   "source": [
    "Interestingly enough the best error is achieved when predicting for the top 50 and top 120 events and the most popular seem to increase it. This lead me to believe that there is more variability among the top ~5-10."
   ]
  },
  {
   "cell_type": "code",
   "execution_count": 30,
   "metadata": {},
   "outputs": [
    {
     "name": "stdout",
     "output_type": "stream",
     "text": [
      "Testing for top 50 events, excluding the top 5\n",
      "Cross validated RMSE for linear regression: 24939.11 ± 3062.52\n",
      "Cross validated RMSE (xgboost): 24939.58 ± 3062.26\n"
     ]
    }
   ],
   "source": [
    "n = 50\n",
    "n_to_exclude = 5\n",
    "\n",
    "print(f'Testing for top {n} events, excluding the top {n_to_exclude}')\n",
    "X = pd.get_dummies(df_train_texts.loc[df_train_texts.event.isin(top_events[n_to_exclude:n]), 'event'])\n",
    "y = df_train_texts.loc[df_train_texts.event.isin(top_events[n_to_exclude:n]), 'UltimateIncurredClaimCost'] \n",
    "\n",
    "rmse_mean, rmse_std = train_cv(Lasso(), X, y)\n",
    "\n",
    "print(f'Cross validated RMSE for linear regression: {rmse_mean:.2f} ± {rmse_std:.2f}')\n",
    "\n",
    "# fix for xgboost\n",
    "X.columns = [f'c_{i}' for i in range(len(X.columns))]\n",
    "rmse_mean, rmse_std = train_cv(XGBRegressor(n_estimators=100), X, y)\n",
    "\n",
    "print(f'Cross validated RMSE (xgboost): {rmse_mean:.2f} ± {rmse_std:.2f}')\n"
   ]
  },
  {
   "cell_type": "code",
   "execution_count": 31,
   "metadata": {},
   "outputs": [
    {
     "name": "stdout",
     "output_type": "stream",
     "text": [
      "Testing for top 50 events, excluding the top 2\n",
      "Cross validated RMSE for linear regression: 24477.23 ± 2868.47\n",
      "Cross validated RMSE (xgboost): 24477.64 ± 2868.16\n"
     ]
    }
   ],
   "source": [
    "n = 50\n",
    "n_to_exclude = 2\n",
    "\n",
    "print(f'Testing for top {n} events, excluding the top {n_to_exclude}')\n",
    "X = pd.get_dummies(df_train_texts.loc[df_train_texts.event.isin(top_events[n_to_exclude:n]), 'event'])\n",
    "y = df_train_texts.loc[df_train_texts.event.isin(top_events[n_to_exclude:n]), 'UltimateIncurredClaimCost'] \n",
    "\n",
    "rmse_mean, rmse_std = train_cv(Lasso(), X, y)\n",
    "\n",
    "print(f'Cross validated RMSE for linear regression: {rmse_mean:.2f} ± {rmse_std:.2f}')\n",
    "\n",
    "# fix for xgboost\n",
    "X.columns = [f'c_{i}' for i in range(len(X.columns))]\n",
    "rmse_mean, rmse_std = train_cv(XGBRegressor(n_estimators=100), X, y)\n",
    "\n",
    "print(f'Cross validated RMSE (xgboost): {rmse_mean:.2f} ± {rmse_std:.2f}')\n"
   ]
  },
  {
   "cell_type": "markdown",
   "metadata": {},
   "source": [
    "I would expect an impact on adding the top 50 categories directly. "
   ]
  },
  {
   "cell_type": "markdown",
   "metadata": {},
   "source": [
    "### Can a prediction be made only on the median cost by event? \n",
    "\n",
    "__Important:__ Including the current row will result in data contamination (specially for low-frequency values)"
   ]
  },
  {
   "cell_type": "code",
   "execution_count": null,
   "metadata": {},
   "outputs": [],
   "source": [
    "from sklearn.model_selection import KFold\n",
    "\n",
    "# \n",
    "\n",
    "def safe_event_median_cost(nlp_descriptors_train: pd.Series, ultimate_cost: pd.Series):\n",
    "    \"\"\"\n",
    "    nlp_descriptors_train: pandas Series with the claim number as index and event (str) as values\n",
    "    ultimate_cost: a pandas Series containing all the feature values \n",
    "    \"\"\"\n",
    "\n",
    "    kf = KFold(n_splits=20, shuffle=True, random_state=42)\n",
    "\n",
    "    df = nlp_descriptors_train.rename('event').to_frame().join(ultimate_cost.rename('claim_cost'))\n",
    "\n",
    "    for reference_idx, fill_idx in kf.split(df):\n",
    "        fold_reference, fold_to_fill = df.iloc[reference_idx], df.iloc[fill_idx]        \n",
    "        \n",
    "        # Compute category median using only the training folds\n",
    "        fold_medians_event = fold_reference.groupby('event')['claim_cost'].median()\n",
    "        fold_median_general = fold_reference['claim_cost'].median()\n",
    "        \n",
    "\n",
    "        # Apply to validation fold\n",
    "        df.loc[fold_to_fill.index, 'event_median'] = df.loc[fold_to_fill.index, 'event'].map(fold_medians_event)\n",
    "        df.loc[fold_to_fill.index, 'event_median'] = df.loc[fold_to_fill.index, 'event_median'].fillna(fold_median_general)\n",
    "\n",
    "    return df"
   ]
  },
  {
   "cell_type": "code",
   "execution_count": 141,
   "metadata": {},
   "outputs": [],
   "source": [
    "df_medians = safe_event_median_cost(df_nlp_descriptors_train['event'], df_train['UltimateIncurredClaimCost']).dropna()"
   ]
  },
  {
   "cell_type": "code",
   "execution_count": 142,
   "metadata": {},
   "outputs": [],
   "source": [
    "X = df_medians[['event_median']]\n",
    "y = df_medians['claim_cost']"
   ]
  },
  {
   "cell_type": "code",
   "execution_count": 143,
   "metadata": {},
   "outputs": [
    {
     "name": "stdout",
     "output_type": "stream",
     "text": [
      "Cross validated RMSE for linear regression: 28478.64 ± 1087.87\n"
     ]
    }
   ],
   "source": [
    "rmse_mean, rmse_std = train_cv(LinearRegression(), X, y)\n",
    "\n",
    "print(f'Cross validated RMSE for linear regression: {rmse_mean:.2f} ± {rmse_std:.2f}')"
   ]
  },
  {
   "cell_type": "code",
   "execution_count": 144,
   "metadata": {},
   "outputs": [
    {
     "name": "stdout",
     "output_type": "stream",
     "text": [
      "Cross validated RMSE (xgboost): 28192.30 ± 1095.36\n"
     ]
    }
   ],
   "source": [
    "\n",
    "rmse_mean, rmse_std = train_cv(XGBRegressor(n_estimators=100), X, y)\n",
    "\n",
    "print(f'Cross validated RMSE (xgboost): {rmse_mean:.2f} ± {rmse_std:.2f}')"
   ]
  },
  {
   "cell_type": "markdown",
   "metadata": {},
   "source": [
    "The historical median by event yields a decent prediction"
   ]
  },
  {
   "cell_type": "markdown",
   "metadata": {},
   "source": [
    "### Body parts"
   ]
  },
  {
   "cell_type": "markdown",
   "metadata": {},
   "source": [
    "I will now focus on the affected body parts"
   ]
  },
  {
   "cell_type": "code",
   "execution_count": 36,
   "metadata": {},
   "outputs": [
    {
     "name": "stdout",
     "output_type": "stream",
     "text": [
      "(53999, 769)\n"
     ]
    },
    {
     "data": {
      "text/html": [
       "<div>\n",
       "<style scoped>\n",
       "    .dataframe tbody tr th:only-of-type {\n",
       "        vertical-align: middle;\n",
       "    }\n",
       "\n",
       "    .dataframe tbody tr th {\n",
       "        vertical-align: top;\n",
       "    }\n",
       "\n",
       "    .dataframe thead th {\n",
       "        text-align: right;\n",
       "    }\n",
       "</style>\n",
       "<table border=\"1\" class=\"dataframe\">\n",
       "  <thead>\n",
       "    <tr style=\"text-align: right;\">\n",
       "      <th></th>\n",
       "      <th>feat_0</th>\n",
       "      <th>feat_1</th>\n",
       "      <th>feat_2</th>\n",
       "      <th>feat_3</th>\n",
       "      <th>feat_4</th>\n",
       "      <th>feat_5</th>\n",
       "      <th>feat_6</th>\n",
       "      <th>feat_7</th>\n",
       "      <th>feat_8</th>\n",
       "      <th>feat_9</th>\n",
       "      <th>...</th>\n",
       "      <th>feat_759</th>\n",
       "      <th>feat_760</th>\n",
       "      <th>feat_761</th>\n",
       "      <th>feat_762</th>\n",
       "      <th>feat_763</th>\n",
       "      <th>feat_764</th>\n",
       "      <th>feat_765</th>\n",
       "      <th>feat_766</th>\n",
       "      <th>feat_767</th>\n",
       "      <th>UltimateIncurredClaimCost</th>\n",
       "    </tr>\n",
       "    <tr>\n",
       "      <th>ClaimNumber</th>\n",
       "      <th></th>\n",
       "      <th></th>\n",
       "      <th></th>\n",
       "      <th></th>\n",
       "      <th></th>\n",
       "      <th></th>\n",
       "      <th></th>\n",
       "      <th></th>\n",
       "      <th></th>\n",
       "      <th></th>\n",
       "      <th></th>\n",
       "      <th></th>\n",
       "      <th></th>\n",
       "      <th></th>\n",
       "      <th></th>\n",
       "      <th></th>\n",
       "      <th></th>\n",
       "      <th></th>\n",
       "      <th></th>\n",
       "      <th></th>\n",
       "      <th></th>\n",
       "    </tr>\n",
       "  </thead>\n",
       "  <tbody>\n",
       "    <tr>\n",
       "      <th>WC1592889</th>\n",
       "      <td>0.013260</td>\n",
       "      <td>0.035785</td>\n",
       "      <td>-0.115971</td>\n",
       "      <td>0.008269</td>\n",
       "      <td>0.008015</td>\n",
       "      <td>0.033906</td>\n",
       "      <td>0.043501</td>\n",
       "      <td>0.001778</td>\n",
       "      <td>0.088991</td>\n",
       "      <td>-0.000026</td>\n",
       "      <td>...</td>\n",
       "      <td>0.014877</td>\n",
       "      <td>0.042244</td>\n",
       "      <td>-0.030100</td>\n",
       "      <td>0.055743</td>\n",
       "      <td>-0.011972</td>\n",
       "      <td>0.048911</td>\n",
       "      <td>-0.029553</td>\n",
       "      <td>-0.043349</td>\n",
       "      <td>0.019504</td>\n",
       "      <td>740.112571</td>\n",
       "    </tr>\n",
       "    <tr>\n",
       "      <th>WC1592905</th>\n",
       "      <td>0.047664</td>\n",
       "      <td>0.007552</td>\n",
       "      <td>-0.129151</td>\n",
       "      <td>-0.005918</td>\n",
       "      <td>0.003217</td>\n",
       "      <td>0.014605</td>\n",
       "      <td>0.049369</td>\n",
       "      <td>0.040746</td>\n",
       "      <td>-0.006884</td>\n",
       "      <td>0.003309</td>\n",
       "      <td>...</td>\n",
       "      <td>0.010997</td>\n",
       "      <td>0.016218</td>\n",
       "      <td>-0.044370</td>\n",
       "      <td>0.029592</td>\n",
       "      <td>-0.013736</td>\n",
       "      <td>0.007319</td>\n",
       "      <td>0.003899</td>\n",
       "      <td>-0.070261</td>\n",
       "      <td>0.011826</td>\n",
       "      <td>13415.627510</td>\n",
       "    </tr>\n",
       "    <tr>\n",
       "      <th>WC1592998</th>\n",
       "      <td>-0.017569</td>\n",
       "      <td>0.019839</td>\n",
       "      <td>-0.112204</td>\n",
       "      <td>0.012228</td>\n",
       "      <td>0.024452</td>\n",
       "      <td>0.011716</td>\n",
       "      <td>0.046957</td>\n",
       "      <td>0.021437</td>\n",
       "      <td>0.022067</td>\n",
       "      <td>0.004915</td>\n",
       "      <td>...</td>\n",
       "      <td>-0.008011</td>\n",
       "      <td>0.031829</td>\n",
       "      <td>-0.040790</td>\n",
       "      <td>0.037728</td>\n",
       "      <td>0.000972</td>\n",
       "      <td>0.024344</td>\n",
       "      <td>0.000048</td>\n",
       "      <td>-0.056137</td>\n",
       "      <td>0.024954</td>\n",
       "      <td>1270.277602</td>\n",
       "    </tr>\n",
       "    <tr>\n",
       "      <th>WC1593292</th>\n",
       "      <td>0.045219</td>\n",
       "      <td>-0.016643</td>\n",
       "      <td>-0.128187</td>\n",
       "      <td>0.054394</td>\n",
       "      <td>-0.021707</td>\n",
       "      <td>0.020010</td>\n",
       "      <td>0.060193</td>\n",
       "      <td>0.036908</td>\n",
       "      <td>0.029596</td>\n",
       "      <td>0.014083</td>\n",
       "      <td>...</td>\n",
       "      <td>0.004546</td>\n",
       "      <td>0.003524</td>\n",
       "      <td>-0.024458</td>\n",
       "      <td>0.012580</td>\n",
       "      <td>-0.035212</td>\n",
       "      <td>0.044735</td>\n",
       "      <td>-0.016411</td>\n",
       "      <td>-0.061869</td>\n",
       "      <td>-0.011686</td>\n",
       "      <td>1627.296915</td>\n",
       "    </tr>\n",
       "    <tr>\n",
       "      <th>WC1593727</th>\n",
       "      <td>0.002190</td>\n",
       "      <td>0.059235</td>\n",
       "      <td>-0.184168</td>\n",
       "      <td>-0.014456</td>\n",
       "      <td>-0.025581</td>\n",
       "      <td>0.028940</td>\n",
       "      <td>0.038896</td>\n",
       "      <td>0.018300</td>\n",
       "      <td>0.040259</td>\n",
       "      <td>-0.034025</td>\n",
       "      <td>...</td>\n",
       "      <td>0.013563</td>\n",
       "      <td>0.020385</td>\n",
       "      <td>-0.017122</td>\n",
       "      <td>0.030681</td>\n",
       "      <td>0.012984</td>\n",
       "      <td>-0.028268</td>\n",
       "      <td>-0.002643</td>\n",
       "      <td>-0.042904</td>\n",
       "      <td>-0.012456</td>\n",
       "      <td>6361.762184</td>\n",
       "    </tr>\n",
       "  </tbody>\n",
       "</table>\n",
       "<p>5 rows × 769 columns</p>\n",
       "</div>"
      ],
      "text/plain": [
       "               feat_0    feat_1    feat_2    feat_3    feat_4    feat_5  \\\n",
       "ClaimNumber                                                               \n",
       "WC1592889    0.013260  0.035785 -0.115971  0.008269  0.008015  0.033906   \n",
       "WC1592905    0.047664  0.007552 -0.129151 -0.005918  0.003217  0.014605   \n",
       "WC1592998   -0.017569  0.019839 -0.112204  0.012228  0.024452  0.011716   \n",
       "WC1593292    0.045219 -0.016643 -0.128187  0.054394 -0.021707  0.020010   \n",
       "WC1593727    0.002190  0.059235 -0.184168 -0.014456 -0.025581  0.028940   \n",
       "\n",
       "               feat_6    feat_7    feat_8    feat_9  ...  feat_759  feat_760  \\\n",
       "ClaimNumber                                          ...                       \n",
       "WC1592889    0.043501  0.001778  0.088991 -0.000026  ...  0.014877  0.042244   \n",
       "WC1592905    0.049369  0.040746 -0.006884  0.003309  ...  0.010997  0.016218   \n",
       "WC1592998    0.046957  0.021437  0.022067  0.004915  ... -0.008011  0.031829   \n",
       "WC1593292    0.060193  0.036908  0.029596  0.014083  ...  0.004546  0.003524   \n",
       "WC1593727    0.038896  0.018300  0.040259 -0.034025  ...  0.013563  0.020385   \n",
       "\n",
       "             feat_761  feat_762  feat_763  feat_764  feat_765  feat_766  \\\n",
       "ClaimNumber                                                               \n",
       "WC1592889   -0.030100  0.055743 -0.011972  0.048911 -0.029553 -0.043349   \n",
       "WC1592905   -0.044370  0.029592 -0.013736  0.007319  0.003899 -0.070261   \n",
       "WC1592998   -0.040790  0.037728  0.000972  0.024344  0.000048 -0.056137   \n",
       "WC1593292   -0.024458  0.012580 -0.035212  0.044735 -0.016411 -0.061869   \n",
       "WC1593727   -0.017122  0.030681  0.012984 -0.028268 -0.002643 -0.042904   \n",
       "\n",
       "             feat_767  UltimateIncurredClaimCost  \n",
       "ClaimNumber                                       \n",
       "WC1592889    0.019504                 740.112571  \n",
       "WC1592905    0.011826               13415.627510  \n",
       "WC1592998    0.024954                1270.277602  \n",
       "WC1593292   -0.011686                1627.296915  \n",
       "WC1593727   -0.012456                6361.762184  \n",
       "\n",
       "[5 rows x 769 columns]"
      ]
     },
     "execution_count": 36,
     "metadata": {},
     "output_type": "execute_result"
    }
   ],
   "source": [
    "# since affected_body_parts is a lists column, I will explode it, join with the embeddings\n",
    "# and then perform mean pooling to obtain one embedding per row \n",
    "\n",
    "df_train_with_embeddings = df_train_texts.affected_body_part.explode().to_frame(\n",
    "    ).join(df_embeddings_body_parts, on='affected_body_part').drop(columns='affected_body_part'\n",
    "    ).reset_index().groupby(['ClaimNumber']).mean()\n",
    "\n",
    "# add the target\n",
    "df_train_with_embeddings['UltimateIncurredClaimCost'] = df_train['UltimateIncurredClaimCost'].reindex(df_train_with_embeddings.index)\n",
    "\n",
    "print(df_train_with_embeddings.shape)\n",
    "df_train_with_embeddings.head()"
   ]
  },
  {
   "cell_type": "code",
   "execution_count": 37,
   "metadata": {},
   "outputs": [],
   "source": [
    "def fill_null_body_part(claim_numbers: list, df_train_texts):\n",
    "\n",
    "    new_values = []\n",
    "\n",
    "    for idx in claim_numbers: \n",
    "        event_description = df_train_texts.loc[idx, 'event']\n",
    "\n",
    "        try: \n",
    "            body_part = df_train_texts[df_train_texts.event == event_description\n",
    "                ].affected_body_part.explode().value_counts().index[0]\n",
    "        except IndexError:\n",
    "            body_part = df_train_texts.affected_body_part.explode().value_counts().index[0]\n",
    "        \n",
    "        new_values.append({\"ClaimNumber\": idx, \"affected_body_part\": body_part})\n",
    "\n",
    "    return pd.DataFrame(new_values).set_index('ClaimNumber')['affected_body_part']\n",
    "\n"
   ]
  },
  {
   "cell_type": "code",
   "execution_count": 40,
   "metadata": {},
   "outputs": [
    {
     "name": "stdout",
     "output_type": "stream",
     "text": [
      "(53999, 769)\n"
     ]
    },
    {
     "data": {
      "text/html": [
       "<div>\n",
       "<style scoped>\n",
       "    .dataframe tbody tr th:only-of-type {\n",
       "        vertical-align: middle;\n",
       "    }\n",
       "\n",
       "    .dataframe tbody tr th {\n",
       "        vertical-align: top;\n",
       "    }\n",
       "\n",
       "    .dataframe thead th {\n",
       "        text-align: right;\n",
       "    }\n",
       "</style>\n",
       "<table border=\"1\" class=\"dataframe\">\n",
       "  <thead>\n",
       "    <tr style=\"text-align: right;\">\n",
       "      <th></th>\n",
       "      <th>feat_0</th>\n",
       "      <th>feat_1</th>\n",
       "      <th>feat_2</th>\n",
       "      <th>feat_3</th>\n",
       "      <th>feat_4</th>\n",
       "      <th>feat_5</th>\n",
       "      <th>feat_6</th>\n",
       "      <th>feat_7</th>\n",
       "      <th>feat_8</th>\n",
       "      <th>feat_9</th>\n",
       "      <th>...</th>\n",
       "      <th>feat_759</th>\n",
       "      <th>feat_760</th>\n",
       "      <th>feat_761</th>\n",
       "      <th>feat_762</th>\n",
       "      <th>feat_763</th>\n",
       "      <th>feat_764</th>\n",
       "      <th>feat_765</th>\n",
       "      <th>feat_766</th>\n",
       "      <th>feat_767</th>\n",
       "      <th>UltimateIncurredClaimCost</th>\n",
       "    </tr>\n",
       "    <tr>\n",
       "      <th>ClaimNumber</th>\n",
       "      <th></th>\n",
       "      <th></th>\n",
       "      <th></th>\n",
       "      <th></th>\n",
       "      <th></th>\n",
       "      <th></th>\n",
       "      <th></th>\n",
       "      <th></th>\n",
       "      <th></th>\n",
       "      <th></th>\n",
       "      <th></th>\n",
       "      <th></th>\n",
       "      <th></th>\n",
       "      <th></th>\n",
       "      <th></th>\n",
       "      <th></th>\n",
       "      <th></th>\n",
       "      <th></th>\n",
       "      <th></th>\n",
       "      <th></th>\n",
       "      <th></th>\n",
       "    </tr>\n",
       "  </thead>\n",
       "  <tbody>\n",
       "    <tr>\n",
       "      <th>WC1592889</th>\n",
       "      <td>0.013260</td>\n",
       "      <td>0.035785</td>\n",
       "      <td>-0.115971</td>\n",
       "      <td>0.008269</td>\n",
       "      <td>0.008015</td>\n",
       "      <td>0.033906</td>\n",
       "      <td>0.043501</td>\n",
       "      <td>0.001778</td>\n",
       "      <td>0.088991</td>\n",
       "      <td>-0.000026</td>\n",
       "      <td>...</td>\n",
       "      <td>0.014877</td>\n",
       "      <td>0.042244</td>\n",
       "      <td>-0.030100</td>\n",
       "      <td>0.055743</td>\n",
       "      <td>-0.011972</td>\n",
       "      <td>0.048911</td>\n",
       "      <td>-0.029553</td>\n",
       "      <td>-0.043349</td>\n",
       "      <td>0.019504</td>\n",
       "      <td>740.112571</td>\n",
       "    </tr>\n",
       "    <tr>\n",
       "      <th>WC1592905</th>\n",
       "      <td>0.047664</td>\n",
       "      <td>0.007552</td>\n",
       "      <td>-0.129151</td>\n",
       "      <td>-0.005918</td>\n",
       "      <td>0.003217</td>\n",
       "      <td>0.014605</td>\n",
       "      <td>0.049369</td>\n",
       "      <td>0.040746</td>\n",
       "      <td>-0.006884</td>\n",
       "      <td>0.003309</td>\n",
       "      <td>...</td>\n",
       "      <td>0.010997</td>\n",
       "      <td>0.016218</td>\n",
       "      <td>-0.044370</td>\n",
       "      <td>0.029592</td>\n",
       "      <td>-0.013736</td>\n",
       "      <td>0.007319</td>\n",
       "      <td>0.003899</td>\n",
       "      <td>-0.070261</td>\n",
       "      <td>0.011826</td>\n",
       "      <td>13415.627510</td>\n",
       "    </tr>\n",
       "    <tr>\n",
       "      <th>WC1592998</th>\n",
       "      <td>-0.017569</td>\n",
       "      <td>0.019839</td>\n",
       "      <td>-0.112204</td>\n",
       "      <td>0.012228</td>\n",
       "      <td>0.024452</td>\n",
       "      <td>0.011716</td>\n",
       "      <td>0.046957</td>\n",
       "      <td>0.021437</td>\n",
       "      <td>0.022067</td>\n",
       "      <td>0.004915</td>\n",
       "      <td>...</td>\n",
       "      <td>-0.008011</td>\n",
       "      <td>0.031829</td>\n",
       "      <td>-0.040790</td>\n",
       "      <td>0.037728</td>\n",
       "      <td>0.000972</td>\n",
       "      <td>0.024344</td>\n",
       "      <td>0.000048</td>\n",
       "      <td>-0.056137</td>\n",
       "      <td>0.024954</td>\n",
       "      <td>1270.277602</td>\n",
       "    </tr>\n",
       "    <tr>\n",
       "      <th>WC1593292</th>\n",
       "      <td>0.045219</td>\n",
       "      <td>-0.016643</td>\n",
       "      <td>-0.128187</td>\n",
       "      <td>0.054394</td>\n",
       "      <td>-0.021707</td>\n",
       "      <td>0.020010</td>\n",
       "      <td>0.060193</td>\n",
       "      <td>0.036908</td>\n",
       "      <td>0.029596</td>\n",
       "      <td>0.014083</td>\n",
       "      <td>...</td>\n",
       "      <td>0.004546</td>\n",
       "      <td>0.003524</td>\n",
       "      <td>-0.024458</td>\n",
       "      <td>0.012580</td>\n",
       "      <td>-0.035212</td>\n",
       "      <td>0.044735</td>\n",
       "      <td>-0.016411</td>\n",
       "      <td>-0.061869</td>\n",
       "      <td>-0.011686</td>\n",
       "      <td>1627.296915</td>\n",
       "    </tr>\n",
       "    <tr>\n",
       "      <th>WC1593727</th>\n",
       "      <td>0.002190</td>\n",
       "      <td>0.059235</td>\n",
       "      <td>-0.184168</td>\n",
       "      <td>-0.014456</td>\n",
       "      <td>-0.025581</td>\n",
       "      <td>0.028940</td>\n",
       "      <td>0.038896</td>\n",
       "      <td>0.018300</td>\n",
       "      <td>0.040259</td>\n",
       "      <td>-0.034025</td>\n",
       "      <td>...</td>\n",
       "      <td>0.013563</td>\n",
       "      <td>0.020385</td>\n",
       "      <td>-0.017122</td>\n",
       "      <td>0.030681</td>\n",
       "      <td>0.012984</td>\n",
       "      <td>-0.028268</td>\n",
       "      <td>-0.002643</td>\n",
       "      <td>-0.042904</td>\n",
       "      <td>-0.012456</td>\n",
       "      <td>6361.762184</td>\n",
       "    </tr>\n",
       "  </tbody>\n",
       "</table>\n",
       "<p>5 rows × 769 columns</p>\n",
       "</div>"
      ],
      "text/plain": [
       "               feat_0    feat_1    feat_2    feat_3    feat_4    feat_5  \\\n",
       "ClaimNumber                                                               \n",
       "WC1592889    0.013260  0.035785 -0.115971  0.008269  0.008015  0.033906   \n",
       "WC1592905    0.047664  0.007552 -0.129151 -0.005918  0.003217  0.014605   \n",
       "WC1592998   -0.017569  0.019839 -0.112204  0.012228  0.024452  0.011716   \n",
       "WC1593292    0.045219 -0.016643 -0.128187  0.054394 -0.021707  0.020010   \n",
       "WC1593727    0.002190  0.059235 -0.184168 -0.014456 -0.025581  0.028940   \n",
       "\n",
       "               feat_6    feat_7    feat_8    feat_9  ...  feat_759  feat_760  \\\n",
       "ClaimNumber                                          ...                       \n",
       "WC1592889    0.043501  0.001778  0.088991 -0.000026  ...  0.014877  0.042244   \n",
       "WC1592905    0.049369  0.040746 -0.006884  0.003309  ...  0.010997  0.016218   \n",
       "WC1592998    0.046957  0.021437  0.022067  0.004915  ... -0.008011  0.031829   \n",
       "WC1593292    0.060193  0.036908  0.029596  0.014083  ...  0.004546  0.003524   \n",
       "WC1593727    0.038896  0.018300  0.040259 -0.034025  ...  0.013563  0.020385   \n",
       "\n",
       "             feat_761  feat_762  feat_763  feat_764  feat_765  feat_766  \\\n",
       "ClaimNumber                                                               \n",
       "WC1592889   -0.030100  0.055743 -0.011972  0.048911 -0.029553 -0.043349   \n",
       "WC1592905   -0.044370  0.029592 -0.013736  0.007319  0.003899 -0.070261   \n",
       "WC1592998   -0.040790  0.037728  0.000972  0.024344  0.000048 -0.056137   \n",
       "WC1593292   -0.024458  0.012580 -0.035212  0.044735 -0.016411 -0.061869   \n",
       "WC1593727   -0.017122  0.030681  0.012984 -0.028268 -0.002643 -0.042904   \n",
       "\n",
       "             feat_767  UltimateIncurredClaimCost  \n",
       "ClaimNumber                                       \n",
       "WC1592889    0.019504                 740.112571  \n",
       "WC1592905    0.011826               13415.627510  \n",
       "WC1592998    0.024954                1270.277602  \n",
       "WC1593292   -0.011686                1627.296915  \n",
       "WC1593727   -0.012456                6361.762184  \n",
       "\n",
       "[5 rows x 769 columns]"
      ]
     },
     "execution_count": 40,
     "metadata": {},
     "output_type": "execute_result"
    }
   ],
   "source": [
    "# explodes the body parts lists\n",
    "affected_body_part_exploded = df_train_texts.affected_body_part.explode()#.str.strip().str.upper()\n",
    "affected_body_part_exploded[affected_body_part_exploded == ''] = None\n",
    "\n",
    "\n",
    "# fill values where body part is null \n",
    "fill_values = fill_null_body_part(\n",
    "    affected_body_part_exploded[affected_body_part_exploded.isnull()].index.values,\n",
    "    df_train_texts\n",
    ")\n",
    "\n",
    "affected_body_part_exploded = affected_body_part_exploded.fillna(fill_values)\n",
    "\n",
    "df_train_with_embeddings = affected_body_part_exploded.to_frame().join(\n",
    "    df_embeddings_body_parts, on='affected_body_part').drop(columns='affected_body_part'\n",
    "    ).reset_index().groupby(['ClaimNumber']).mean()\n",
    "\n",
    "# add the target\n",
    "df_train_with_embeddings['UltimateIncurredClaimCost'] = df_train['UltimateIncurredClaimCost'].reindex(df_train_with_embeddings.index)\n",
    "\n",
    "print(df_train_with_embeddings.shape)\n",
    "df_train_with_embeddings.head()"
   ]
  },
  {
   "cell_type": "code",
   "execution_count": 41,
   "metadata": {},
   "outputs": [],
   "source": [
    "X = df_train_with_embeddings.drop(columns='UltimateIncurredClaimCost')\n",
    "y = df_train_with_embeddings['UltimateIncurredClaimCost']"
   ]
  },
  {
   "cell_type": "code",
   "execution_count": 42,
   "metadata": {},
   "outputs": [
    {
     "name": "stderr",
     "output_type": "stream",
     "text": [
      "/Users/alexis/Projects/202502 Actuarial Loss Prediction/.env/lib/python3.10/site-packages/sklearn/linear_model/_coordinate_descent.py:695: ConvergenceWarning: Objective did not converge. You might want to increase the number of iterations, check the scale of the features or consider increasing regularisation. Duality gap: 7.748e+12, tolerance: 3.994e+09\n",
      "  model = cd_fast.enet_coordinate_descent(\n",
      "/Users/alexis/Projects/202502 Actuarial Loss Prediction/.env/lib/python3.10/site-packages/sklearn/linear_model/_coordinate_descent.py:695: ConvergenceWarning: Objective did not converge. You might want to increase the number of iterations, check the scale of the features or consider increasing regularisation. Duality gap: 6.703e+12, tolerance: 3.891e+09\n",
      "  model = cd_fast.enet_coordinate_descent(\n",
      "/Users/alexis/Projects/202502 Actuarial Loss Prediction/.env/lib/python3.10/site-packages/sklearn/linear_model/_coordinate_descent.py:695: ConvergenceWarning: Objective did not converge. You might want to increase the number of iterations, check the scale of the features or consider increasing regularisation. Duality gap: 7.592e+12, tolerance: 3.998e+09\n",
      "  model = cd_fast.enet_coordinate_descent(\n",
      "/Users/alexis/Projects/202502 Actuarial Loss Prediction/.env/lib/python3.10/site-packages/sklearn/linear_model/_coordinate_descent.py:695: ConvergenceWarning: Objective did not converge. You might want to increase the number of iterations, check the scale of the features or consider increasing regularisation. Duality gap: 6.500e+12, tolerance: 3.315e+09\n",
      "  model = cd_fast.enet_coordinate_descent(\n"
     ]
    },
    {
     "name": "stdout",
     "output_type": "stream",
     "text": [
      "Cross validated RMSE: 27187.84 ± 8746.95\n"
     ]
    },
    {
     "name": "stderr",
     "output_type": "stream",
     "text": [
      "/Users/alexis/Projects/202502 Actuarial Loss Prediction/.env/lib/python3.10/site-packages/sklearn/linear_model/_coordinate_descent.py:695: ConvergenceWarning: Objective did not converge. You might want to increase the number of iterations, check the scale of the features or consider increasing regularisation. Duality gap: 3.358e+12, tolerance: 2.390e+09\n",
      "  model = cd_fast.enet_coordinate_descent(\n"
     ]
    }
   ],
   "source": [
    "rmse_mean, rmse_std = train_cv(Lasso(alpha=.1), X, y)\n",
    "\n",
    "print(f'Cross validated RMSE: {rmse_mean:.2f} ± {rmse_std:.2f}')"
   ]
  },
  {
   "cell_type": "code",
   "execution_count": 43,
   "metadata": {},
   "outputs": [
    {
     "name": "stdout",
     "output_type": "stream",
     "text": [
      "Cross validated RMSE: 27826.62 ± 8424.24\n"
     ]
    }
   ],
   "source": [
    "rmse_mean, rmse_std = train_cv(XGBRegressor(n_estimators=100), X, y)\n",
    "\n",
    "print(f'Cross validated RMSE: {rmse_mean:.2f} ± {rmse_std:.2f}')"
   ]
  },
  {
   "cell_type": "code",
   "execution_count": 47,
   "metadata": {},
   "outputs": [
    {
     "name": "stdout",
     "output_type": "stream",
     "text": [
      "Cross validated RMSE: 26960.03 ± 8902.48\n"
     ]
    }
   ],
   "source": [
    "pipeline = Pipeline([\n",
    "    ('pca', PCA(n_components=100)),\n",
    "    ('regressor', Lasso())\n",
    "])\n",
    "\n",
    "rmse_mean, rmse_std = train_cv(pipeline, X, y)\n",
    "print(f'Cross validated RMSE: {rmse_mean:.2f} ± {rmse_std:.2f}')"
   ]
  },
  {
   "cell_type": "code",
   "execution_count": 51,
   "metadata": {},
   "outputs": [
    {
     "name": "stdout",
     "output_type": "stream",
     "text": [
      "Cross validated RMSE: 27947.73 ± 8357.08\n"
     ]
    }
   ],
   "source": [
    "pipeline = Pipeline([\n",
    "    ('pca', PCA(n_components=500)),\n",
    "    ('regressor', XGBRegressor(n_estimators=100))\n",
    "])\n",
    "\n",
    "rmse_mean, rmse_std = train_cv(pipeline, X, y)\n",
    "\n",
    "print(f'Cross validated RMSE: {rmse_mean:.2f} ± {rmse_std:.2f}')"
   ]
  },
  {
   "cell_type": "markdown",
   "metadata": {},
   "source": [
    "Results with and without PCA are almost identical, but it helps with convergence. Although the median results are good, there is a lot of variance when using body parts."
   ]
  },
  {
   "cell_type": "markdown",
   "metadata": {},
   "source": []
  },
  {
   "cell_type": "markdown",
   "metadata": {},
   "source": [
    "### Train on event descriptions instead\n",
    "Using all descriptions (even the less popular ones)"
   ]
  },
  {
   "cell_type": "code",
   "execution_count": 67,
   "metadata": {},
   "outputs": [],
   "source": [
    "# since it's an exploded variable it will have multiple rows per index \n",
    "body_parts_dummies = pd.get_dummies(affected_body_part_exploded.str.upper().str.strip())\n",
    "\n",
    "body_parts_dummies = body_parts_dummies.groupby(level=0).sum() == True"
   ]
  },
  {
   "cell_type": "code",
   "execution_count": 68,
   "metadata": {},
   "outputs": [],
   "source": [
    "X = body_parts_dummies.copy()\n",
    "y = df_train_texts['UltimateIncurredClaimCost'].reindex(body_parts_dummies.index)\n"
   ]
  },
  {
   "cell_type": "code",
   "execution_count": 69,
   "metadata": {},
   "outputs": [
    {
     "name": "stdout",
     "output_type": "stream",
     "text": [
      "Cross validated RMSE (linear regression): 27417.21 ± 8728.37\n"
     ]
    }
   ],
   "source": [
    "rmse_mean, rmse_std = train_cv(Lasso(), X, y)\n",
    "\n",
    "print(f'Cross validated RMSE (linear regression): {rmse_mean:.2f} ± {rmse_std:.2f}')"
   ]
  },
  {
   "cell_type": "code",
   "execution_count": 70,
   "metadata": {},
   "outputs": [
    {
     "name": "stdout",
     "output_type": "stream",
     "text": [
      "Cross validated RMSE (xgboost): 27353.03 ± 8844.50\n"
     ]
    }
   ],
   "source": [
    "# fix for xgboost\n",
    "X.columns = [f'c_{i}' for i in range(len(X.columns))]\n",
    "rmse_mean, rmse_std = train_cv(XGBRegressor(n_estimators=100), X, y)\n",
    "\n",
    "print(f'Cross validated RMSE (xgboost): {rmse_mean:.2f} ± {rmse_std:.2f}')"
   ]
  },
  {
   "cell_type": "code",
   "execution_count": 72,
   "metadata": {},
   "outputs": [
    {
     "name": "stdout",
     "output_type": "stream",
     "text": [
      "Cross validated RMSE (PCA + Lasso): 27077.59 ± 9003.77\n"
     ]
    }
   ],
   "source": [
    "pipeline = Pipeline([\n",
    "    ('pca', PCA(n_components=50)),\n",
    "    ('regressor', Lasso())\n",
    "])\n",
    "\n",
    "rmse_mean, rmse_std = train_cv(pipeline, X, y)\n",
    "print(f'Cross validated RMSE (PCA + Lasso): {rmse_mean:.2f} ± {rmse_std:.2f}')\n"
   ]
  },
  {
   "cell_type": "code",
   "execution_count": 73,
   "metadata": {},
   "outputs": [
    {
     "name": "stdout",
     "output_type": "stream",
     "text": [
      "Cross validated RMSE (PCA + xgboost): 28420.18 ± 7995.82\n"
     ]
    }
   ],
   "source": [
    "pipeline = Pipeline([\n",
    "    ('pca', PCA(n_components=50)),\n",
    "    ('regressor', XGBRegressor(n_estimators=100))\n",
    "])\n",
    "\n",
    "rmse_mean, rmse_std = train_cv(pipeline, X, y)\n",
    "\n",
    "print(f'Cross validated RMSE (PCA + xgboost): {rmse_mean:.2f} ± {rmse_std:.2f}')"
   ]
  },
  {
   "cell_type": "markdown",
   "metadata": {},
   "source": [
    "Predicting only for the most popular items"
   ]
  },
  {
   "cell_type": "code",
   "execution_count": 107,
   "metadata": {},
   "outputs": [
    {
     "data": {
      "text/plain": [
       "BACK                   4858\n",
       "LOWER BACK             4509\n",
       "NECK                   2225\n",
       "LEFT HAND              2004\n",
       "RIGHT SHOULDER         1865\n",
       "                       ... \n",
       "LEFT THIGH               56\n",
       "CORNEA                   55\n",
       "STRAINED LOWER BACK      55\n",
       "SHIN                     53\n",
       "RIGHT UPPER ARM          52\n",
       "Length: 100, dtype: int64"
      ]
     },
     "execution_count": 107,
     "metadata": {},
     "output_type": "execute_result"
    }
   ],
   "source": [
    "top_body_parts = body_parts_dummies.sum().sort_values(ascending=False).head(100)\n",
    "top_body_parts"
   ]
  },
  {
   "cell_type": "code",
   "execution_count": 108,
   "metadata": {},
   "outputs": [
    {
     "data": {
      "text/plain": [
       "(47339, 100)"
      ]
     },
     "execution_count": 108,
     "metadata": {},
     "output_type": "execute_result"
    }
   ],
   "source": [
    "body_parts_dummies_top = body_parts_dummies.loc[:, top_body_parts.index]\n",
    "\n",
    "body_parts_dummies_top = body_parts_dummies_top[body_parts_dummies_top.any(axis=1)]\n",
    "\n",
    "body_parts_dummies_top.shape"
   ]
  },
  {
   "cell_type": "code",
   "execution_count": 109,
   "metadata": {},
   "outputs": [
    {
     "name": "stdout",
     "output_type": "stream",
     "text": [
      "Cross validated RMSE for linear regression: 26848.96 ± 8555.78\n",
      "Cross validated RMSE (xgboost): 26928.28 ± 8502.34\n"
     ]
    }
   ],
   "source": [
    "# filtering for those with events in high frequency\n",
    "X = body_parts_dummies_top.copy()\n",
    "y = df_train_texts['UltimateIncurredClaimCost'].reindex(body_parts_dummies_top.index)\n",
    "\n",
    "rmse_mean, rmse_std = train_cv(Lasso(), X, y)\n",
    "\n",
    "print(f'Cross validated RMSE for linear regression: {rmse_mean:.2f} ± {rmse_std:.2f}')\n",
    "\n",
    "# fix for xgboost\n",
    "X.columns = [f'c_{i}' for i in range(len(X.columns))]\n",
    "rmse_mean, rmse_std = train_cv(XGBRegressor(n_estimators=100), X, y)\n",
    "\n",
    "print(f'Cross validated RMSE (xgboost): {rmse_mean:.2f} ± {rmse_std:.2f}')"
   ]
  },
  {
   "cell_type": "markdown",
   "metadata": {},
   "source": [
    "Slightly lower median error, same variance"
   ]
  },
  {
   "cell_type": "code",
   "execution_count": null,
   "metadata": {},
   "outputs": [],
   "source": []
  }
 ],
 "metadata": {
  "kernelspec": {
   "display_name": ".env",
   "language": "python",
   "name": "python3"
  },
  "language_info": {
   "codemirror_mode": {
    "name": "ipython",
    "version": 3
   },
   "file_extension": ".py",
   "mimetype": "text/x-python",
   "name": "python",
   "nbconvert_exporter": "python",
   "pygments_lexer": "ipython3",
   "version": "3.10.15"
  }
 },
 "nbformat": 4,
 "nbformat_minor": 2
}

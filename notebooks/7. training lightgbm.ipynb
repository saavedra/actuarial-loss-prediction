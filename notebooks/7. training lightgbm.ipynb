{
 "cells": [
  {
   "cell_type": "code",
   "execution_count": 1,
   "metadata": {},
   "outputs": [],
   "source": [
    "import pandas as pd\n",
    "import numpy as np\n",
    "\n",
    "from sklearn.compose import ColumnTransformer, TransformedTargetRegressor\n",
    "from sklearn.preprocessing import (\n",
    "    FunctionTransformer,\n",
    "    PowerTransformer,\n",
    "    MinMaxScaler,\n",
    "    OneHotEncoder,\n",
    "    Binarizer,\n",
    "    StandardScaler\n",
    ")\n",
    "\n",
    "\n",
    "from sklearn.pipeline import Pipeline\n",
    "from sklearn.model_selection import cross_val_score, KFold, cross_val_predict\n",
    "from sklearn.metrics import mean_squared_error, mean_absolute_error\n",
    "from lightgbm import LGBMRegressor\n",
    "from sklearn.decomposition import PCA\n",
    "\n",
    "\n",
    "import mlflow\n",
    "import mlflow.sklearn\n",
    "\n",
    "from matplotlib import pyplot as plt\n",
    "import seaborn as sns\n",
    "import optuna"
   ]
  },
  {
   "cell_type": "code",
   "execution_count": 2,
   "metadata": {},
   "outputs": [],
   "source": [
    "dataset_train = pd.read_csv('../data/processed/dataset_train.csv', index_col=0)\n",
    "dataset_test = pd.read_csv('../data/processed/dataset_test.csv', index_col=0)"
   ]
  },
  {
   "cell_type": "code",
   "execution_count": 3,
   "metadata": {},
   "outputs": [],
   "source": [
    "# column names\n",
    "cols_event_embeddings = [f'event_feat_{i}' for i in range(768)]\n",
    "cols_event_dummies = ['BACK STRAIN', 'CLEANING INSTRUMENTS', 'CLEANING LEFT SHOULDER SPLINTER', 'CUT WITH KNIFE', 'DEALING CARDS RIGHT TENDON SYNOVITIS', 'FELL', 'FELL FROM LADDER', 'FELL OFF LADDER', 'FRACTURED LEFT WRIST FRACTURE', 'GRINDING FOREIGN BODY', 'GRINDING STEEL BEAM INFECTION', 'HIT AIR HOSE', 'HIT ELBOW', 'HIT FLOOR SHEET', 'INJURY', 'INJURY LIFTING', 'INJURY LIFTING STRAIN', 'JAMMED RIGHT HAND PUNCTURE', 'KNIFE LACERATION', 'KNIFE SLIPPED', 'LACERATION', 'LEFT LEG SNAKE BITE', 'LIFTING', 'LIFTING BOXES', 'LIFTING PATIENT', 'LIFTING TYRES', 'LOWER BACK STRAIN', 'MOTOR VEHICLE COLLISION', 'PREPARING PIPES FOR PAINTING PUNCTURE', 'PULLING CABLES', 'REDBACK SPIDER BITE', 'SLIPPED AND FELL', 'SLIPPED ON FLOOR', 'SLIPPED ON ROLLER', 'SLIPPED ON STAIRS', 'SLIPPED ON WET FLOOR', 'SLIPPED USING LATHE', 'SORTING ALUMINIUM BARS STRAIN', 'SPRAINED RIGHT ANKLE FRACTURE', 'STRAIN', 'STRAIN LIFTING PARTS', 'STRAIN LIFTING STRAIN', 'STRUCK KNIFE LACERATED', 'STRUCK KNIFE LACERATION', 'STRUCK PALLET', 'STRUCK WITH KNIFE', 'USING AIR HOSE STRAIN', 'USING DRILL']\n",
    "cols_body_parts_embeddings = [f'body_feat_{i}' for i in range(768)]"
   ]
  },
  {
   "cell_type": "code",
   "execution_count": 4,
   "metadata": {},
   "outputs": [],
   "source": [
    "def train_cv(model, X, y, metric = 'rmse', kfold = 5):\n",
    "\n",
    "    if metric != 'rmse':\n",
    "        raise NotImplemented\n",
    "\n",
    "    scores = cross_val_score(model, X, y, cv=kfold, scoring='neg_mean_squared_error')\n",
    "\n",
    "    mse_scores = -scores\n",
    "    rmse_scores = np.sqrt(mse_scores)\n",
    "\n",
    "    return rmse_scores.mean(), rmse_scores.std()"
   ]
  },
  {
   "cell_type": "code",
   "execution_count": 5,
   "metadata": {},
   "outputs": [],
   "source": [
    "log_transformer = Pipeline([\n",
    "    ('log', FunctionTransformer(np.log, validate=False)),\n",
    "    ('scaler', StandardScaler()) \n",
    "])\n",
    "\n",
    "# gender to bool \n",
    "def gender_to_bool(gender_column):\n",
    "    \"\"\"\n",
    "    - Fill missing values with 'M'\n",
    "    - Replace 'U' with 'M'\n",
    "    - Return a boolean-ish column: 1 for 'M', 0 otherwise\n",
    "    \"\"\"\n",
    "    g = pd.Series(gender_column.squeeze(), dtype=str).fillna('M').replace('U', 'M')\n",
    "    is_male = (g == 'M').astype(int)\n",
    "    return is_male.values.reshape(-1, 1)\n",
    "\n",
    "gender_transformer = FunctionTransformer(gender_to_bool, validate=False)\n",
    "\n",
    "# hours worked per week -> to buckets -> to one_hot\n",
    "def bucket_hours_worked(dtt_array):\n",
    "    return pd.cut(\n",
    "        dtt_array.squeeze(), \n",
    "        bins=[-np.inf, 37, 41, np.inf],\n",
    "        labels=[\"<=37\", \"37-41\", \">41\"]\n",
    "    ).astype(str).values.reshape(-1, 1)\n",
    "\n",
    "hours_worked_bucketer = FunctionTransformer(bucket_hours_worked, validate=False)\n",
    "hours_worked_encoder = OneHotEncoder(drop='first')\n",
    "hours_worked_pipeline = Pipeline([\n",
    "    ('bucketizer', hours_worked_bucketer),\n",
    "    ('encoder', hours_worked_encoder)\n",
    "])\n",
    "\n",
    "# DaysToReport (DateReported - DateTimeOfAccident) -> to buckets -> to one_hot\n",
    "def bucket_days_to_report(dtt_array):\n",
    "    return pd.cut(\n",
    "        dtt_array.squeeze(), \n",
    "        bins=[-np.inf, 80, 300, 500, np.inf],\n",
    "        labels=[\"<=80\", \"80-300\", \"300-500\", \">500\"]\n",
    "    ).astype(str).values.reshape(-1, 1)\n",
    "\n",
    "days_to_report_bucketer = FunctionTransformer(bucket_days_to_report, validate=False)\n",
    "days_to_report_encoder = OneHotEncoder(drop='first')\n",
    "days_to_report_pipeline = Pipeline([\n",
    "    ('bucketizer', days_to_report_bucketer),\n",
    "    ('encoder', days_to_report_encoder)\n",
    "])\n",
    "\n",
    "# DaysWorkedPerWeek -> 1 if equals 5, 0 in any other case \n",
    "def days_worked_binarize(days_array):\n",
    "    # Ensure we handle arrays or DataFrames by squeezing to 1D\n",
    "    days = days_array.squeeze()\n",
    "    binarized = (days == 5).astype(int)\n",
    "    # Return as 2D array: (n_samples x 1)\n",
    "    return binarized.values.reshape(-1, 1) if isinstance(days, pd.Series) else binarized.reshape(-1, 1)\n",
    "\n",
    "days_worked_transformer = FunctionTransformer(days_worked_binarize, validate=False)"
   ]
  },
  {
   "cell_type": "code",
   "execution_count": 6,
   "metadata": {},
   "outputs": [],
   "source": [
    "preprocessor = ColumnTransformer(\n",
    "    transformers=[\n",
    "        ('log_inc', log_transformer, ['InitialIncurredCalimsCost', 'WeeklyWages']),\n",
    "        ('minmax_scaler', MinMaxScaler(), ['Age', 'YearAccident']),\n",
    "        ('gender_bool', gender_transformer, ['Gender']),\n",
    "        ('hww_bool_onehot', hours_worked_pipeline, ['HoursWorkedPerWeek']),\n",
    "        ('dtt_bool_onehot', days_to_report_pipeline, ['DaysToReport']),\n",
    "        ('has_dependent_bool', Binarizer(threshold=0), ['DependentChildren']),\n",
    "        ('worked_five_days_bool', days_worked_transformer, ['DaysWorkedPerWeek']),\n",
    "        ('onehot', OneHotEncoder(drop='first'), ['MaritalStatus', 'PartTimeFullTime']),\n",
    "        ('pca_event_embeddings', PCA(n_components=250), cols_event_embeddings),\n",
    "        ('passthrough_event_dummies', 'passthrough', cols_event_dummies),\n",
    "        ('pca_body_parts_embeddings', PCA(n_components=80), cols_body_parts_embeddings),\n",
    "        ('std_scaler', StandardScaler(), ['event_median_cost'])\n",
    "    ],\n",
    "    remainder='drop'\n",
    ")"
   ]
  },
  {
   "cell_type": "code",
   "execution_count": null,
   "metadata": {},
   "outputs": [],
   "source": [
    "regressor_pipeline = Pipeline([\n",
    "    ('preprocessor', preprocessor),\n",
    "    ('linear_model', LGBMRegressor(force_col_wise=True))\n",
    "])\n",
    "\n",
    "model = TransformedTargetRegressor(\n",
    "    regressor=regressor_pipeline,\n",
    "    transformer=PowerTransformer(method='box-cox', standardize=False)\n",
    ")"
   ]
  },
  {
   "cell_type": "code",
   "execution_count": 8,
   "metadata": {},
   "outputs": [
    {
     "data": {
      "text/html": [
       "<div>\n",
       "<style scoped>\n",
       "    .dataframe tbody tr th:only-of-type {\n",
       "        vertical-align: middle;\n",
       "    }\n",
       "\n",
       "    .dataframe tbody tr th {\n",
       "        vertical-align: top;\n",
       "    }\n",
       "\n",
       "    .dataframe thead th {\n",
       "        text-align: right;\n",
       "    }\n",
       "</style>\n",
       "<table border=\"1\" class=\"dataframe\">\n",
       "  <thead>\n",
       "    <tr style=\"text-align: right;\">\n",
       "      <th></th>\n",
       "      <th>DateTimeOfAccident</th>\n",
       "      <th>DateReported</th>\n",
       "      <th>Age</th>\n",
       "      <th>Gender</th>\n",
       "      <th>MaritalStatus</th>\n",
       "      <th>DependentChildren</th>\n",
       "      <th>DependentsOther</th>\n",
       "      <th>WeeklyWages</th>\n",
       "      <th>PartTimeFullTime</th>\n",
       "      <th>HoursWorkedPerWeek</th>\n",
       "      <th>...</th>\n",
       "      <th>body_feat_758</th>\n",
       "      <th>body_feat_759</th>\n",
       "      <th>body_feat_760</th>\n",
       "      <th>body_feat_761</th>\n",
       "      <th>body_feat_762</th>\n",
       "      <th>body_feat_763</th>\n",
       "      <th>body_feat_764</th>\n",
       "      <th>body_feat_765</th>\n",
       "      <th>body_feat_766</th>\n",
       "      <th>body_feat_767</th>\n",
       "    </tr>\n",
       "  </thead>\n",
       "  <tbody>\n",
       "    <tr>\n",
       "      <th>WC8285054</th>\n",
       "      <td>2002-04-09 07:00:00+00:00</td>\n",
       "      <td>2002-07-05 00:00:00+00:00</td>\n",
       "      <td>48.0</td>\n",
       "      <td>M</td>\n",
       "      <td>M</td>\n",
       "      <td>0.0</td>\n",
       "      <td>0.0</td>\n",
       "      <td>500.00</td>\n",
       "      <td>F</td>\n",
       "      <td>38.0</td>\n",
       "      <td>...</td>\n",
       "      <td>0.068680</td>\n",
       "      <td>0.025073</td>\n",
       "      <td>0.005782</td>\n",
       "      <td>-0.038884</td>\n",
       "      <td>0.058474</td>\n",
       "      <td>-0.020736</td>\n",
       "      <td>0.029686</td>\n",
       "      <td>-0.014542</td>\n",
       "      <td>-0.063414</td>\n",
       "      <td>0.004848</td>\n",
       "    </tr>\n",
       "    <tr>\n",
       "      <th>WC6982224</th>\n",
       "      <td>1999-01-07 11:00:00+00:00</td>\n",
       "      <td>1999-01-20 00:00:00+00:00</td>\n",
       "      <td>43.0</td>\n",
       "      <td>F</td>\n",
       "      <td>M</td>\n",
       "      <td>0.0</td>\n",
       "      <td>0.0</td>\n",
       "      <td>509.34</td>\n",
       "      <td>F</td>\n",
       "      <td>37.5</td>\n",
       "      <td>...</td>\n",
       "      <td>0.088765</td>\n",
       "      <td>0.020062</td>\n",
       "      <td>0.012920</td>\n",
       "      <td>-0.024838</td>\n",
       "      <td>0.031098</td>\n",
       "      <td>-0.021392</td>\n",
       "      <td>-0.002665</td>\n",
       "      <td>-0.011949</td>\n",
       "      <td>-0.061116</td>\n",
       "      <td>-0.003289</td>\n",
       "    </tr>\n",
       "    <tr>\n",
       "      <th>WC5481426</th>\n",
       "      <td>1996-03-25 00:00:00+00:00</td>\n",
       "      <td>1996-04-14 00:00:00+00:00</td>\n",
       "      <td>30.0</td>\n",
       "      <td>M</td>\n",
       "      <td>U</td>\n",
       "      <td>0.0</td>\n",
       "      <td>0.0</td>\n",
       "      <td>709.10</td>\n",
       "      <td>F</td>\n",
       "      <td>38.0</td>\n",
       "      <td>...</td>\n",
       "      <td>0.064991</td>\n",
       "      <td>0.032580</td>\n",
       "      <td>0.008295</td>\n",
       "      <td>-0.054072</td>\n",
       "      <td>0.052691</td>\n",
       "      <td>-0.002578</td>\n",
       "      <td>0.047455</td>\n",
       "      <td>-0.003457</td>\n",
       "      <td>-0.033384</td>\n",
       "      <td>-0.000423</td>\n",
       "    </tr>\n",
       "    <tr>\n",
       "      <th>WC9775968</th>\n",
       "      <td>2005-06-22 13:00:00+00:00</td>\n",
       "      <td>2005-07-22 00:00:00+00:00</td>\n",
       "      <td>41.0</td>\n",
       "      <td>M</td>\n",
       "      <td>S</td>\n",
       "      <td>0.0</td>\n",
       "      <td>0.0</td>\n",
       "      <td>555.46</td>\n",
       "      <td>F</td>\n",
       "      <td>38.0</td>\n",
       "      <td>...</td>\n",
       "      <td>0.070748</td>\n",
       "      <td>0.021465</td>\n",
       "      <td>0.012034</td>\n",
       "      <td>-0.043719</td>\n",
       "      <td>0.070600</td>\n",
       "      <td>0.006588</td>\n",
       "      <td>-0.030409</td>\n",
       "      <td>-0.009374</td>\n",
       "      <td>-0.076178</td>\n",
       "      <td>0.045278</td>\n",
       "    </tr>\n",
       "    <tr>\n",
       "      <th>WC2634037</th>\n",
       "      <td>1990-08-29 08:00:00+00:00</td>\n",
       "      <td>1990-09-27 00:00:00+00:00</td>\n",
       "      <td>36.0</td>\n",
       "      <td>M</td>\n",
       "      <td>M</td>\n",
       "      <td>0.0</td>\n",
       "      <td>0.0</td>\n",
       "      <td>377.10</td>\n",
       "      <td>F</td>\n",
       "      <td>38.0</td>\n",
       "      <td>...</td>\n",
       "      <td>0.079619</td>\n",
       "      <td>0.021140</td>\n",
       "      <td>0.043047</td>\n",
       "      <td>-0.006216</td>\n",
       "      <td>0.047252</td>\n",
       "      <td>-0.019845</td>\n",
       "      <td>0.000466</td>\n",
       "      <td>-0.033875</td>\n",
       "      <td>-0.028523</td>\n",
       "      <td>-0.011660</td>\n",
       "    </tr>\n",
       "    <tr>\n",
       "      <th>...</th>\n",
       "      <td>...</td>\n",
       "      <td>...</td>\n",
       "      <td>...</td>\n",
       "      <td>...</td>\n",
       "      <td>...</td>\n",
       "      <td>...</td>\n",
       "      <td>...</td>\n",
       "      <td>...</td>\n",
       "      <td>...</td>\n",
       "      <td>...</td>\n",
       "      <td>...</td>\n",
       "      <td>...</td>\n",
       "      <td>...</td>\n",
       "      <td>...</td>\n",
       "      <td>...</td>\n",
       "      <td>...</td>\n",
       "      <td>...</td>\n",
       "      <td>...</td>\n",
       "      <td>...</td>\n",
       "      <td>...</td>\n",
       "      <td>...</td>\n",
       "    </tr>\n",
       "    <tr>\n",
       "      <th>WC9370727</th>\n",
       "      <td>2004-08-21 18:00:00+00:00</td>\n",
       "      <td>2004-09-08 00:00:00+00:00</td>\n",
       "      <td>32.0</td>\n",
       "      <td>F</td>\n",
       "      <td>S</td>\n",
       "      <td>0.0</td>\n",
       "      <td>0.0</td>\n",
       "      <td>500.00</td>\n",
       "      <td>F</td>\n",
       "      <td>38.0</td>\n",
       "      <td>...</td>\n",
       "      <td>0.062220</td>\n",
       "      <td>0.018751</td>\n",
       "      <td>0.004911</td>\n",
       "      <td>-0.018006</td>\n",
       "      <td>0.007490</td>\n",
       "      <td>-0.031072</td>\n",
       "      <td>0.042807</td>\n",
       "      <td>-0.027719</td>\n",
       "      <td>-0.058011</td>\n",
       "      <td>-0.024113</td>\n",
       "    </tr>\n",
       "    <tr>\n",
       "      <th>WC8396269</th>\n",
       "      <td>2002-04-28 09:00:00+00:00</td>\n",
       "      <td>2002-09-03 00:00:00+00:00</td>\n",
       "      <td>20.0</td>\n",
       "      <td>F</td>\n",
       "      <td>S</td>\n",
       "      <td>0.0</td>\n",
       "      <td>0.0</td>\n",
       "      <td>500.00</td>\n",
       "      <td>F</td>\n",
       "      <td>40.0</td>\n",
       "      <td>...</td>\n",
       "      <td>0.077031</td>\n",
       "      <td>0.006508</td>\n",
       "      <td>0.023904</td>\n",
       "      <td>-0.006732</td>\n",
       "      <td>0.057064</td>\n",
       "      <td>-0.015958</td>\n",
       "      <td>0.007836</td>\n",
       "      <td>-0.026323</td>\n",
       "      <td>-0.068814</td>\n",
       "      <td>0.009221</td>\n",
       "    </tr>\n",
       "    <tr>\n",
       "      <th>WC3609528</th>\n",
       "      <td>1992-02-28 09:00:00+00:00</td>\n",
       "      <td>1992-03-18 00:00:00+00:00</td>\n",
       "      <td>19.0</td>\n",
       "      <td>M</td>\n",
       "      <td>S</td>\n",
       "      <td>0.0</td>\n",
       "      <td>0.0</td>\n",
       "      <td>283.00</td>\n",
       "      <td>F</td>\n",
       "      <td>40.0</td>\n",
       "      <td>...</td>\n",
       "      <td>0.049300</td>\n",
       "      <td>-0.024605</td>\n",
       "      <td>0.006685</td>\n",
       "      <td>-0.008855</td>\n",
       "      <td>0.019896</td>\n",
       "      <td>-0.023859</td>\n",
       "      <td>0.005520</td>\n",
       "      <td>-0.028199</td>\n",
       "      <td>-0.028116</td>\n",
       "      <td>-0.006528</td>\n",
       "    </tr>\n",
       "    <tr>\n",
       "      <th>WC5038565</th>\n",
       "      <td>1995-01-10 07:00:00+00:00</td>\n",
       "      <td>1995-01-31 00:00:00+00:00</td>\n",
       "      <td>24.0</td>\n",
       "      <td>M</td>\n",
       "      <td>S</td>\n",
       "      <td>0.0</td>\n",
       "      <td>0.0</td>\n",
       "      <td>200.00</td>\n",
       "      <td>F</td>\n",
       "      <td>38.0</td>\n",
       "      <td>...</td>\n",
       "      <td>0.051226</td>\n",
       "      <td>0.010259</td>\n",
       "      <td>-0.005054</td>\n",
       "      <td>-0.001850</td>\n",
       "      <td>-0.006115</td>\n",
       "      <td>-0.033084</td>\n",
       "      <td>0.029406</td>\n",
       "      <td>-0.032876</td>\n",
       "      <td>-0.057922</td>\n",
       "      <td>-0.025492</td>\n",
       "    </tr>\n",
       "    <tr>\n",
       "      <th>WC2542601</th>\n",
       "      <td>1990-10-24 14:00:00+00:00</td>\n",
       "      <td>1990-11-03 00:00:00+00:00</td>\n",
       "      <td>22.0</td>\n",
       "      <td>M</td>\n",
       "      <td>S</td>\n",
       "      <td>0.0</td>\n",
       "      <td>0.0</td>\n",
       "      <td>200.00</td>\n",
       "      <td>F</td>\n",
       "      <td>38.0</td>\n",
       "      <td>...</td>\n",
       "      <td>0.065661</td>\n",
       "      <td>0.029581</td>\n",
       "      <td>0.013185</td>\n",
       "      <td>-0.017022</td>\n",
       "      <td>0.025473</td>\n",
       "      <td>0.004052</td>\n",
       "      <td>0.015018</td>\n",
       "      <td>-0.020355</td>\n",
       "      <td>-0.032556</td>\n",
       "      <td>-0.005916</td>\n",
       "    </tr>\n",
       "  </tbody>\n",
       "</table>\n",
       "<p>53999 rows × 1601 columns</p>\n",
       "</div>"
      ],
      "text/plain": [
       "                  DateTimeOfAccident               DateReported   Age Gender  \\\n",
       "WC8285054  2002-04-09 07:00:00+00:00  2002-07-05 00:00:00+00:00  48.0      M   \n",
       "WC6982224  1999-01-07 11:00:00+00:00  1999-01-20 00:00:00+00:00  43.0      F   \n",
       "WC5481426  1996-03-25 00:00:00+00:00  1996-04-14 00:00:00+00:00  30.0      M   \n",
       "WC9775968  2005-06-22 13:00:00+00:00  2005-07-22 00:00:00+00:00  41.0      M   \n",
       "WC2634037  1990-08-29 08:00:00+00:00  1990-09-27 00:00:00+00:00  36.0      M   \n",
       "...                              ...                        ...   ...    ...   \n",
       "WC9370727  2004-08-21 18:00:00+00:00  2004-09-08 00:00:00+00:00  32.0      F   \n",
       "WC8396269  2002-04-28 09:00:00+00:00  2002-09-03 00:00:00+00:00  20.0      F   \n",
       "WC3609528  1992-02-28 09:00:00+00:00  1992-03-18 00:00:00+00:00  19.0      M   \n",
       "WC5038565  1995-01-10 07:00:00+00:00  1995-01-31 00:00:00+00:00  24.0      M   \n",
       "WC2542601  1990-10-24 14:00:00+00:00  1990-11-03 00:00:00+00:00  22.0      M   \n",
       "\n",
       "          MaritalStatus  DependentChildren  DependentsOther  WeeklyWages  \\\n",
       "WC8285054             M                0.0              0.0       500.00   \n",
       "WC6982224             M                0.0              0.0       509.34   \n",
       "WC5481426             U                0.0              0.0       709.10   \n",
       "WC9775968             S                0.0              0.0       555.46   \n",
       "WC2634037             M                0.0              0.0       377.10   \n",
       "...                 ...                ...              ...          ...   \n",
       "WC9370727             S                0.0              0.0       500.00   \n",
       "WC8396269             S                0.0              0.0       500.00   \n",
       "WC3609528             S                0.0              0.0       283.00   \n",
       "WC5038565             S                0.0              0.0       200.00   \n",
       "WC2542601             S                0.0              0.0       200.00   \n",
       "\n",
       "          PartTimeFullTime  HoursWorkedPerWeek  ...  body_feat_758  \\\n",
       "WC8285054                F                38.0  ...       0.068680   \n",
       "WC6982224                F                37.5  ...       0.088765   \n",
       "WC5481426                F                38.0  ...       0.064991   \n",
       "WC9775968                F                38.0  ...       0.070748   \n",
       "WC2634037                F                38.0  ...       0.079619   \n",
       "...                    ...                 ...  ...            ...   \n",
       "WC9370727                F                38.0  ...       0.062220   \n",
       "WC8396269                F                40.0  ...       0.077031   \n",
       "WC3609528                F                40.0  ...       0.049300   \n",
       "WC5038565                F                38.0  ...       0.051226   \n",
       "WC2542601                F                38.0  ...       0.065661   \n",
       "\n",
       "          body_feat_759  body_feat_760  body_feat_761  body_feat_762  \\\n",
       "WC8285054      0.025073       0.005782      -0.038884       0.058474   \n",
       "WC6982224      0.020062       0.012920      -0.024838       0.031098   \n",
       "WC5481426      0.032580       0.008295      -0.054072       0.052691   \n",
       "WC9775968      0.021465       0.012034      -0.043719       0.070600   \n",
       "WC2634037      0.021140       0.043047      -0.006216       0.047252   \n",
       "...                 ...            ...            ...            ...   \n",
       "WC9370727      0.018751       0.004911      -0.018006       0.007490   \n",
       "WC8396269      0.006508       0.023904      -0.006732       0.057064   \n",
       "WC3609528     -0.024605       0.006685      -0.008855       0.019896   \n",
       "WC5038565      0.010259      -0.005054      -0.001850      -0.006115   \n",
       "WC2542601      0.029581       0.013185      -0.017022       0.025473   \n",
       "\n",
       "           body_feat_763  body_feat_764  body_feat_765  body_feat_766  \\\n",
       "WC8285054      -0.020736       0.029686      -0.014542      -0.063414   \n",
       "WC6982224      -0.021392      -0.002665      -0.011949      -0.061116   \n",
       "WC5481426      -0.002578       0.047455      -0.003457      -0.033384   \n",
       "WC9775968       0.006588      -0.030409      -0.009374      -0.076178   \n",
       "WC2634037      -0.019845       0.000466      -0.033875      -0.028523   \n",
       "...                  ...            ...            ...            ...   \n",
       "WC9370727      -0.031072       0.042807      -0.027719      -0.058011   \n",
       "WC8396269      -0.015958       0.007836      -0.026323      -0.068814   \n",
       "WC3609528      -0.023859       0.005520      -0.028199      -0.028116   \n",
       "WC5038565      -0.033084       0.029406      -0.032876      -0.057922   \n",
       "WC2542601       0.004052       0.015018      -0.020355      -0.032556   \n",
       "\n",
       "           body_feat_767  \n",
       "WC8285054       0.004848  \n",
       "WC6982224      -0.003289  \n",
       "WC5481426      -0.000423  \n",
       "WC9775968       0.045278  \n",
       "WC2634037      -0.011660  \n",
       "...                  ...  \n",
       "WC9370727      -0.024113  \n",
       "WC8396269       0.009221  \n",
       "WC3609528      -0.006528  \n",
       "WC5038565      -0.025492  \n",
       "WC2542601      -0.005916  \n",
       "\n",
       "[53999 rows x 1601 columns]"
      ]
     },
     "execution_count": 8,
     "metadata": {},
     "output_type": "execute_result"
    }
   ],
   "source": [
    "dataset_train"
   ]
  },
  {
   "cell_type": "code",
   "execution_count": 9,
   "metadata": {},
   "outputs": [
    {
     "name": "stdout",
     "output_type": "stream",
     "text": [
      "[LightGBM] [Info] Total Bins 85015\n",
      "[LightGBM] [Info] Number of data points in the train set: 43199, number of used features: 395\n",
      "[LightGBM] [Info] Start training from score 5.909642\n"
     ]
    },
    {
     "name": "stderr",
     "output_type": "stream",
     "text": [
      "/Users/alexis/Projects/202502 Actuarial Loss Prediction/.env/lib/python3.10/site-packages/sklearn/utils/validation.py:2739: UserWarning: X does not have valid feature names, but LGBMRegressor was fitted with feature names\n",
      "  warnings.warn(\n"
     ]
    },
    {
     "name": "stdout",
     "output_type": "stream",
     "text": [
      "[LightGBM] [Info] Total Bins 85024\n",
      "[LightGBM] [Info] Number of data points in the train set: 43199, number of used features: 395\n",
      "[LightGBM] [Info] Start training from score 5.914034\n"
     ]
    },
    {
     "name": "stderr",
     "output_type": "stream",
     "text": [
      "/Users/alexis/Projects/202502 Actuarial Loss Prediction/.env/lib/python3.10/site-packages/sklearn/utils/validation.py:2739: UserWarning: X does not have valid feature names, but LGBMRegressor was fitted with feature names\n",
      "  warnings.warn(\n"
     ]
    },
    {
     "name": "stdout",
     "output_type": "stream",
     "text": [
      "[LightGBM] [Info] Total Bins 85026\n",
      "[LightGBM] [Info] Number of data points in the train set: 43199, number of used features: 395\n",
      "[LightGBM] [Info] Start training from score 5.945550\n"
     ]
    },
    {
     "name": "stderr",
     "output_type": "stream",
     "text": [
      "/Users/alexis/Projects/202502 Actuarial Loss Prediction/.env/lib/python3.10/site-packages/sklearn/utils/validation.py:2739: UserWarning: X does not have valid feature names, but LGBMRegressor was fitted with feature names\n",
      "  warnings.warn(\n"
     ]
    },
    {
     "name": "stdout",
     "output_type": "stream",
     "text": [
      "[LightGBM] [Info] Total Bins 85029\n",
      "[LightGBM] [Info] Number of data points in the train set: 43199, number of used features: 395\n",
      "[LightGBM] [Info] Start training from score 5.959808\n"
     ]
    },
    {
     "name": "stderr",
     "output_type": "stream",
     "text": [
      "/Users/alexis/Projects/202502 Actuarial Loss Prediction/.env/lib/python3.10/site-packages/sklearn/utils/validation.py:2739: UserWarning: X does not have valid feature names, but LGBMRegressor was fitted with feature names\n",
      "  warnings.warn(\n"
     ]
    },
    {
     "name": "stdout",
     "output_type": "stream",
     "text": [
      "[LightGBM] [Info] Total Bins 85028\n",
      "[LightGBM] [Info] Number of data points in the train set: 43200, number of used features: 395\n",
      "[LightGBM] [Info] Start training from score 5.940370\n",
      "CV MSE:  571107743.684  (+/- 52125504.997)\n",
      "CV RMSE: 23871.174  (+/- 1129.060)\n"
     ]
    },
    {
     "name": "stderr",
     "output_type": "stream",
     "text": [
      "/Users/alexis/Projects/202502 Actuarial Loss Prediction/.env/lib/python3.10/site-packages/sklearn/utils/validation.py:2739: UserWarning: X does not have valid feature names, but LGBMRegressor was fitted with feature names\n",
      "  warnings.warn(\n"
     ]
    }
   ],
   "source": [
    "\n",
    "scores = cross_val_score(\n",
    "    model, \n",
    "    dataset_train, \n",
    "    dataset_train['UltimateIncurredClaimCost'], \n",
    "    cv=5, \n",
    "    scoring='neg_mean_squared_error'\n",
    ")\n",
    "mse_scores = -scores\n",
    "rmse_scores = np.sqrt(mse_scores)\n",
    "\n",
    "print(f\"CV MSE:  {mse_scores.mean():.3f}  (+/- {mse_scores.std():.3f})\")\n",
    "print(f\"CV RMSE: {rmse_scores.mean():.3f}  (+/- {rmse_scores.std():.3f})\")"
   ]
  },
  {
   "cell_type": "code",
   "execution_count": 10,
   "metadata": {},
   "outputs": [],
   "source": [
    "X_train = dataset_train.drop(columns=['UltimateIncurredClaimCost'])\n",
    "y_train = dataset_train['UltimateIncurredClaimCost']\n",
    "\n",
    "def run_experiment(\n",
    "        experiment_name, \n",
    "        run_name, \n",
    "        regressor_object, \n",
    "        kfold=5, \n",
    "        save_model=True\n",
    "    ):\n",
    "    \"\"\"\n",
    "    Runs an ML experiment with cross-validation and logs metrics to MLflow,\n",
    "    tracking overall and segmented performance for targets above and below 100,000.\n",
    "\n",
    "    Parameters:\n",
    "    - experiment_name (str): Name of the MLflow experiment.\n",
    "    - run_name (str): Name of the MLflow run.\n",
    "    - regressor_object: The regression model.\n",
    "    - kfold (int): Number of folds for cross-validation.\n",
    "    - save_model (bool): Whether to save the trained model in MLflow.\n",
    "\n",
    "    Logs:\n",
    "    - Overall CV MSE, RMSE, and MAE\n",
    "    - MSE, RMSE, and MAE for y_true > 100,000\n",
    "    - MSE, RMSE, and MAE for y_true ≤ 100,000\n",
    "    \"\"\"\n",
    "\n",
    "    # Define pipeline with preprocessing and model\n",
    "    regressor_pipeline = Pipeline([\n",
    "        ('preprocessor', preprocessor),\n",
    "        ('linear_model', regressor_object)\n",
    "    ])\n",
    "\n",
    "    model = TransformedTargetRegressor(\n",
    "        regressor=regressor_pipeline,\n",
    "        transformer=PowerTransformer(method='box-cox', standardize=False)\n",
    "    )\n",
    "\n",
    "    # Set MLflow experiment\n",
    "    mlflow.set_experiment(experiment_name)\n",
    "\n",
    "    with mlflow.start_run(run_name=run_name):\n",
    "        # Log hyperparameters\n",
    "        params = model.get_params(deep=True)\n",
    "        for param_name, param_value in params.items():\n",
    "            if isinstance(param_value, (str, int, float, bool, type(None))):\n",
    "                mlflow.log_param(param_name, param_value)\n",
    "            else:\n",
    "                mlflow.log_param(param_name, str(param_value)[:5000])\n",
    "        \n",
    "        mlflow.log_param(\"n_features_in\", X_train.shape[1])\n",
    "\n",
    "        # Perform cross-validation with predictions\n",
    "        y_pred = cross_val_predict(model, X_train, y_train, cv=kfold)\n",
    "\n",
    "        # Compute overall errors\n",
    "        overall_mse = mean_squared_error(y_train, y_pred)\n",
    "        overall_rmse = np.sqrt(overall_mse)\n",
    "        overall_mae = mean_absolute_error(y_train, y_pred)\n",
    "\n",
    "        # Compute errors for high and low y_true\n",
    "        high_mask = y_train > 100000\n",
    "\n",
    "        high_mse = mean_squared_error(y_train[high_mask], y_pred[high_mask])\n",
    "        high_rmse = np.sqrt(high_mse)\n",
    "        high_mae = mean_absolute_error(y_train[high_mask], y_pred[high_mask])\n",
    "        \n",
    "        low_mse = mean_squared_error(y_train[~high_mask], y_pred[~high_mask])\n",
    "        low_rmse = np.sqrt(low_mse)\n",
    "        low_mae = mean_absolute_error(y_train[~high_mask], y_pred[~high_mask])\n",
    "    \n",
    "        print(f\"RMSE Overall:  {overall_rmse:.3f} | MAE: {overall_mae:.3f}\")\n",
    "        print(f\"RMSE for low y_true (<= 100k): {low_rmse:.3f} | MAE: {low_mae:.3f}\")\n",
    "        print(f\"RMSE for high y_true (> 100k): {high_rmse:.3f} | MAE: {high_mae:.3f}\")\n",
    "        \n",
    "\n",
    "        # Log overall metrics\n",
    "        mlflow.log_metric(\"cv_mse\", overall_mse)\n",
    "        mlflow.log_metric(\"cv_rmse\", overall_rmse)\n",
    "        mlflow.log_metric(\"cv_mae\", overall_mae)\n",
    "\n",
    "        # Log segmented metrics\n",
    "        mlflow.log_metric(\"cv_mse_high\", high_mse)\n",
    "        mlflow.log_metric(\"cv_rmse_high\", high_rmse)\n",
    "        mlflow.log_metric(\"cv_mae_high\", high_mae)\n",
    "        mlflow.log_metric(\"cv_mse_low\", low_mse)\n",
    "        mlflow.log_metric(\"cv_rmse_low\", low_rmse)\n",
    "        mlflow.log_metric(\"cv_mae_low\", low_mae)\n",
    "\n",
    "        # Fit final model on full dataset\n",
    "        if save_model:\n",
    "            model.fit(X_train, y_train)\n",
    "            mlflow.sklearn.log_model(model, artifact_path=\"models\")\n",
    "    \n",
    "    return overall_rmse\n"
   ]
  },
  {
   "cell_type": "code",
   "execution_count": 11,
   "metadata": {},
   "outputs": [],
   "source": [
    "\n",
    "def objective(trial):\n",
    "    \"\"\"Objective function for Optuna to optimize XGBoost hyperparameters.\"\"\"\n",
    "    \n",
    "    # Suggest hyperparameters to optimize\n",
    "    params = {\n",
    "        #\"num_leaves\": trial.suggest_int(\"num_leaves\", 20, 500),\n",
    "        \"max_depth\": trial.suggest_int(\"max_depth\", 3, 15),\n",
    "        \"learning_rate\": trial.suggest_float(\"learning_rate\", 0.09, 0.4, log=True),\n",
    "        \"n_estimators\": trial.suggest_int(\"n_estimators\", 100, 1000, step=100),\n",
    "        \"min_child_weight\": trial.suggest_int(\"min_child_weight\", 1, 20),\n",
    "        \"subsample\": trial.suggest_float(\"subsample\", 0.5, 1.0),\n",
    "        \"colsample_bytree\": trial.suggest_float(\"colsample_bytree\", 0.5, 1.0),\n",
    "        \"lambda_l1\": trial.suggest_float(\"lambda_l1\", 0.0, 10.0),\n",
    "        \"lambda_l2\": trial.suggest_float(\"lambda_l2\", 0.0, 10.0),\n",
    "        \"boosting_type\": \"gbdt\",\n",
    "        \"objective\": \"regression\",\n",
    "        \"force_col_wise\": True,\n",
    "        \"metric\": \"rmse\",\n",
    "    }\n",
    "\n",
    "    rmse = run_experiment(\n",
    "        'Optuna LightGBM',\n",
    "        'LightGBM optimization',\n",
    "        LGBMRegressor(**params),\n",
    "        kfold=5,\n",
    "        save_model=False\n",
    "    )\n",
    "\n",
    "    return rmse\n"
   ]
  },
  {
   "cell_type": "code",
   "execution_count": 12,
   "metadata": {},
   "outputs": [
    {
     "name": "stderr",
     "output_type": "stream",
     "text": [
      "[I 2025-03-02 18:43:25,613] A new study created in memory with name: no-name-81154639-d46b-4444-89d0-2c17f57139ad\n"
     ]
    },
    {
     "name": "stdout",
     "output_type": "stream",
     "text": [
      "[LightGBM] [Warning] lambda_l1 is set=7.942096909928619, reg_alpha=0.0 will be ignored. Current value: lambda_l1=7.942096909928619\n",
      "[LightGBM] [Warning] lambda_l2 is set=2.977233533779348, reg_lambda=0.0 will be ignored. Current value: lambda_l2=2.977233533779348\n",
      "[LightGBM] [Warning] lambda_l1 is set=7.942096909928619, reg_alpha=0.0 will be ignored. Current value: lambda_l1=7.942096909928619\n",
      "[LightGBM] [Warning] lambda_l2 is set=2.977233533779348, reg_lambda=0.0 will be ignored. Current value: lambda_l2=2.977233533779348\n",
      "[LightGBM] [Info] Total Bins 85015\n",
      "[LightGBM] [Info] Number of data points in the train set: 43199, number of used features: 395\n",
      "[LightGBM] [Info] Start training from score 5.909642\n"
     ]
    },
    {
     "name": "stderr",
     "output_type": "stream",
     "text": [
      "/Users/alexis/Projects/202502 Actuarial Loss Prediction/.env/lib/python3.10/site-packages/sklearn/utils/validation.py:2739: UserWarning: X does not have valid feature names, but LGBMRegressor was fitted with feature names\n",
      "  warnings.warn(\n"
     ]
    },
    {
     "name": "stdout",
     "output_type": "stream",
     "text": [
      "[LightGBM] [Warning] lambda_l1 is set=7.942096909928619, reg_alpha=0.0 will be ignored. Current value: lambda_l1=7.942096909928619\n",
      "[LightGBM] [Warning] lambda_l2 is set=2.977233533779348, reg_lambda=0.0 will be ignored. Current value: lambda_l2=2.977233533779348\n",
      "[LightGBM] [Warning] lambda_l1 is set=7.942096909928619, reg_alpha=0.0 will be ignored. Current value: lambda_l1=7.942096909928619\n",
      "[LightGBM] [Warning] lambda_l2 is set=2.977233533779348, reg_lambda=0.0 will be ignored. Current value: lambda_l2=2.977233533779348\n",
      "[LightGBM] [Warning] lambda_l1 is set=7.942096909928619, reg_alpha=0.0 will be ignored. Current value: lambda_l1=7.942096909928619\n",
      "[LightGBM] [Warning] lambda_l2 is set=2.977233533779348, reg_lambda=0.0 will be ignored. Current value: lambda_l2=2.977233533779348\n",
      "[LightGBM] [Info] Total Bins 85024\n",
      "[LightGBM] [Info] Number of data points in the train set: 43199, number of used features: 395\n",
      "[LightGBM] [Info] Start training from score 5.914034\n"
     ]
    },
    {
     "name": "stderr",
     "output_type": "stream",
     "text": [
      "/Users/alexis/Projects/202502 Actuarial Loss Prediction/.env/lib/python3.10/site-packages/sklearn/utils/validation.py:2739: UserWarning: X does not have valid feature names, but LGBMRegressor was fitted with feature names\n",
      "  warnings.warn(\n"
     ]
    },
    {
     "name": "stdout",
     "output_type": "stream",
     "text": [
      "[LightGBM] [Warning] lambda_l1 is set=7.942096909928619, reg_alpha=0.0 will be ignored. Current value: lambda_l1=7.942096909928619\n",
      "[LightGBM] [Warning] lambda_l2 is set=2.977233533779348, reg_lambda=0.0 will be ignored. Current value: lambda_l2=2.977233533779348\n",
      "[LightGBM] [Warning] lambda_l1 is set=7.942096909928619, reg_alpha=0.0 will be ignored. Current value: lambda_l1=7.942096909928619\n",
      "[LightGBM] [Warning] lambda_l2 is set=2.977233533779348, reg_lambda=0.0 will be ignored. Current value: lambda_l2=2.977233533779348\n",
      "[LightGBM] [Warning] lambda_l1 is set=7.942096909928619, reg_alpha=0.0 will be ignored. Current value: lambda_l1=7.942096909928619\n",
      "[LightGBM] [Warning] lambda_l2 is set=2.977233533779348, reg_lambda=0.0 will be ignored. Current value: lambda_l2=2.977233533779348\n",
      "[LightGBM] [Info] Total Bins 85026\n",
      "[LightGBM] [Info] Number of data points in the train set: 43199, number of used features: 395\n",
      "[LightGBM] [Info] Start training from score 5.945550\n"
     ]
    },
    {
     "name": "stderr",
     "output_type": "stream",
     "text": [
      "/Users/alexis/Projects/202502 Actuarial Loss Prediction/.env/lib/python3.10/site-packages/sklearn/utils/validation.py:2739: UserWarning: X does not have valid feature names, but LGBMRegressor was fitted with feature names\n",
      "  warnings.warn(\n"
     ]
    },
    {
     "name": "stdout",
     "output_type": "stream",
     "text": [
      "[LightGBM] [Warning] lambda_l1 is set=7.942096909928619, reg_alpha=0.0 will be ignored. Current value: lambda_l1=7.942096909928619\n",
      "[LightGBM] [Warning] lambda_l2 is set=2.977233533779348, reg_lambda=0.0 will be ignored. Current value: lambda_l2=2.977233533779348\n",
      "[LightGBM] [Warning] lambda_l1 is set=7.942096909928619, reg_alpha=0.0 will be ignored. Current value: lambda_l1=7.942096909928619\n",
      "[LightGBM] [Warning] lambda_l2 is set=2.977233533779348, reg_lambda=0.0 will be ignored. Current value: lambda_l2=2.977233533779348\n",
      "[LightGBM] [Warning] lambda_l1 is set=7.942096909928619, reg_alpha=0.0 will be ignored. Current value: lambda_l1=7.942096909928619\n",
      "[LightGBM] [Warning] lambda_l2 is set=2.977233533779348, reg_lambda=0.0 will be ignored. Current value: lambda_l2=2.977233533779348\n",
      "[LightGBM] [Info] Total Bins 85029\n",
      "[LightGBM] [Info] Number of data points in the train set: 43199, number of used features: 395\n",
      "[LightGBM] [Info] Start training from score 5.959808\n"
     ]
    },
    {
     "name": "stderr",
     "output_type": "stream",
     "text": [
      "/Users/alexis/Projects/202502 Actuarial Loss Prediction/.env/lib/python3.10/site-packages/sklearn/utils/validation.py:2739: UserWarning: X does not have valid feature names, but LGBMRegressor was fitted with feature names\n",
      "  warnings.warn(\n"
     ]
    },
    {
     "name": "stdout",
     "output_type": "stream",
     "text": [
      "[LightGBM] [Warning] lambda_l1 is set=7.942096909928619, reg_alpha=0.0 will be ignored. Current value: lambda_l1=7.942096909928619\n",
      "[LightGBM] [Warning] lambda_l2 is set=2.977233533779348, reg_lambda=0.0 will be ignored. Current value: lambda_l2=2.977233533779348\n",
      "[LightGBM] [Warning] lambda_l1 is set=7.942096909928619, reg_alpha=0.0 will be ignored. Current value: lambda_l1=7.942096909928619\n",
      "[LightGBM] [Warning] lambda_l2 is set=2.977233533779348, reg_lambda=0.0 will be ignored. Current value: lambda_l2=2.977233533779348\n",
      "[LightGBM] [Warning] lambda_l1 is set=7.942096909928619, reg_alpha=0.0 will be ignored. Current value: lambda_l1=7.942096909928619\n",
      "[LightGBM] [Warning] lambda_l2 is set=2.977233533779348, reg_lambda=0.0 will be ignored. Current value: lambda_l2=2.977233533779348\n",
      "[LightGBM] [Info] Total Bins 85028\n",
      "[LightGBM] [Info] Number of data points in the train set: 43200, number of used features: 395\n",
      "[LightGBM] [Info] Start training from score 5.940370\n"
     ]
    },
    {
     "name": "stderr",
     "output_type": "stream",
     "text": [
      "/Users/alexis/Projects/202502 Actuarial Loss Prediction/.env/lib/python3.10/site-packages/sklearn/utils/validation.py:2739: UserWarning: X does not have valid feature names, but LGBMRegressor was fitted with feature names\n",
      "  warnings.warn(\n",
      "[I 2025-03-02 18:44:23,358] Trial 0 finished with value: 23983.244624546845 and parameters: {'max_depth': 14, 'learning_rate': 0.12885072465808287, 'n_estimators': 1000, 'min_child_weight': 7, 'subsample': 0.5141082823736073, 'colsample_bytree': 0.741327173181324, 'lambda_l1': 7.942096909928619, 'lambda_l2': 2.977233533779348}. Best is trial 0 with value: 23983.244624546845.\n"
     ]
    },
    {
     "name": "stdout",
     "output_type": "stream",
     "text": [
      "[LightGBM] [Warning] lambda_l1 is set=7.942096909928619, reg_alpha=0.0 will be ignored. Current value: lambda_l1=7.942096909928619\n",
      "[LightGBM] [Warning] lambda_l2 is set=2.977233533779348, reg_lambda=0.0 will be ignored. Current value: lambda_l2=2.977233533779348\n",
      "RMSE Overall:  23983.245 | MAE: 5780.766\n",
      "RMSE for low y_true (<= 100k): 9774.816 | MAE: 3432.583\n",
      "RMSE for high y_true (> 100k): 163279.608 | MAE: 133483.384\n",
      "[LightGBM] [Warning] lambda_l1 is set=8.869057241899329, reg_alpha=0.0 will be ignored. Current value: lambda_l1=8.869057241899329\n",
      "[LightGBM] [Warning] lambda_l2 is set=6.707122934148144, reg_lambda=0.0 will be ignored. Current value: lambda_l2=6.707122934148144\n",
      "[LightGBM] [Warning] lambda_l1 is set=8.869057241899329, reg_alpha=0.0 will be ignored. Current value: lambda_l1=8.869057241899329\n",
      "[LightGBM] [Warning] lambda_l2 is set=6.707122934148144, reg_lambda=0.0 will be ignored. Current value: lambda_l2=6.707122934148144\n",
      "[LightGBM] [Info] Total Bins 85015\n",
      "[LightGBM] [Info] Number of data points in the train set: 43199, number of used features: 395\n",
      "[LightGBM] [Info] Start training from score 5.909642\n"
     ]
    },
    {
     "name": "stderr",
     "output_type": "stream",
     "text": [
      "/Users/alexis/Projects/202502 Actuarial Loss Prediction/.env/lib/python3.10/site-packages/sklearn/utils/validation.py:2739: UserWarning: X does not have valid feature names, but LGBMRegressor was fitted with feature names\n",
      "  warnings.warn(\n"
     ]
    },
    {
     "name": "stdout",
     "output_type": "stream",
     "text": [
      "[LightGBM] [Warning] lambda_l1 is set=8.869057241899329, reg_alpha=0.0 will be ignored. Current value: lambda_l1=8.869057241899329\n",
      "[LightGBM] [Warning] lambda_l2 is set=6.707122934148144, reg_lambda=0.0 will be ignored. Current value: lambda_l2=6.707122934148144\n",
      "[LightGBM] [Warning] lambda_l1 is set=8.869057241899329, reg_alpha=0.0 will be ignored. Current value: lambda_l1=8.869057241899329\n",
      "[LightGBM] [Warning] lambda_l2 is set=6.707122934148144, reg_lambda=0.0 will be ignored. Current value: lambda_l2=6.707122934148144\n",
      "[LightGBM] [Warning] lambda_l1 is set=8.869057241899329, reg_alpha=0.0 will be ignored. Current value: lambda_l1=8.869057241899329\n",
      "[LightGBM] [Warning] lambda_l2 is set=6.707122934148144, reg_lambda=0.0 will be ignored. Current value: lambda_l2=6.707122934148144\n",
      "[LightGBM] [Info] Total Bins 85024\n",
      "[LightGBM] [Info] Number of data points in the train set: 43199, number of used features: 395\n",
      "[LightGBM] [Info] Start training from score 5.914034\n"
     ]
    },
    {
     "name": "stderr",
     "output_type": "stream",
     "text": [
      "/Users/alexis/Projects/202502 Actuarial Loss Prediction/.env/lib/python3.10/site-packages/sklearn/utils/validation.py:2739: UserWarning: X does not have valid feature names, but LGBMRegressor was fitted with feature names\n",
      "  warnings.warn(\n"
     ]
    },
    {
     "name": "stdout",
     "output_type": "stream",
     "text": [
      "[LightGBM] [Warning] lambda_l1 is set=8.869057241899329, reg_alpha=0.0 will be ignored. Current value: lambda_l1=8.869057241899329\n",
      "[LightGBM] [Warning] lambda_l2 is set=6.707122934148144, reg_lambda=0.0 will be ignored. Current value: lambda_l2=6.707122934148144\n",
      "[LightGBM] [Warning] lambda_l1 is set=8.869057241899329, reg_alpha=0.0 will be ignored. Current value: lambda_l1=8.869057241899329\n",
      "[LightGBM] [Warning] lambda_l2 is set=6.707122934148144, reg_lambda=0.0 will be ignored. Current value: lambda_l2=6.707122934148144\n",
      "[LightGBM] [Warning] lambda_l1 is set=8.869057241899329, reg_alpha=0.0 will be ignored. Current value: lambda_l1=8.869057241899329\n",
      "[LightGBM] [Warning] lambda_l2 is set=6.707122934148144, reg_lambda=0.0 will be ignored. Current value: lambda_l2=6.707122934148144\n",
      "[LightGBM] [Info] Total Bins 85026\n",
      "[LightGBM] [Info] Number of data points in the train set: 43199, number of used features: 395\n",
      "[LightGBM] [Info] Start training from score 5.945550\n"
     ]
    },
    {
     "name": "stderr",
     "output_type": "stream",
     "text": [
      "/Users/alexis/Projects/202502 Actuarial Loss Prediction/.env/lib/python3.10/site-packages/sklearn/utils/validation.py:2739: UserWarning: X does not have valid feature names, but LGBMRegressor was fitted with feature names\n",
      "  warnings.warn(\n"
     ]
    },
    {
     "name": "stdout",
     "output_type": "stream",
     "text": [
      "[LightGBM] [Warning] lambda_l1 is set=8.869057241899329, reg_alpha=0.0 will be ignored. Current value: lambda_l1=8.869057241899329\n",
      "[LightGBM] [Warning] lambda_l2 is set=6.707122934148144, reg_lambda=0.0 will be ignored. Current value: lambda_l2=6.707122934148144\n",
      "[LightGBM] [Warning] lambda_l1 is set=8.869057241899329, reg_alpha=0.0 will be ignored. Current value: lambda_l1=8.869057241899329\n",
      "[LightGBM] [Warning] lambda_l2 is set=6.707122934148144, reg_lambda=0.0 will be ignored. Current value: lambda_l2=6.707122934148144\n",
      "[LightGBM] [Warning] lambda_l1 is set=8.869057241899329, reg_alpha=0.0 will be ignored. Current value: lambda_l1=8.869057241899329\n",
      "[LightGBM] [Warning] lambda_l2 is set=6.707122934148144, reg_lambda=0.0 will be ignored. Current value: lambda_l2=6.707122934148144\n",
      "[LightGBM] [Info] Total Bins 85029\n",
      "[LightGBM] [Info] Number of data points in the train set: 43199, number of used features: 395\n",
      "[LightGBM] [Info] Start training from score 5.959808\n"
     ]
    },
    {
     "name": "stderr",
     "output_type": "stream",
     "text": [
      "/Users/alexis/Projects/202502 Actuarial Loss Prediction/.env/lib/python3.10/site-packages/sklearn/utils/validation.py:2739: UserWarning: X does not have valid feature names, but LGBMRegressor was fitted with feature names\n",
      "  warnings.warn(\n"
     ]
    },
    {
     "name": "stdout",
     "output_type": "stream",
     "text": [
      "[LightGBM] [Warning] lambda_l1 is set=8.869057241899329, reg_alpha=0.0 will be ignored. Current value: lambda_l1=8.869057241899329\n",
      "[LightGBM] [Warning] lambda_l2 is set=6.707122934148144, reg_lambda=0.0 will be ignored. Current value: lambda_l2=6.707122934148144\n",
      "[LightGBM] [Warning] lambda_l1 is set=8.869057241899329, reg_alpha=0.0 will be ignored. Current value: lambda_l1=8.869057241899329\n",
      "[LightGBM] [Warning] lambda_l2 is set=6.707122934148144, reg_lambda=0.0 will be ignored. Current value: lambda_l2=6.707122934148144\n",
      "[LightGBM] [Warning] lambda_l1 is set=8.869057241899329, reg_alpha=0.0 will be ignored. Current value: lambda_l1=8.869057241899329\n",
      "[LightGBM] [Warning] lambda_l2 is set=6.707122934148144, reg_lambda=0.0 will be ignored. Current value: lambda_l2=6.707122934148144\n",
      "[LightGBM] [Info] Total Bins 85028\n",
      "[LightGBM] [Info] Number of data points in the train set: 43200, number of used features: 395\n",
      "[LightGBM] [Info] Start training from score 5.940370\n"
     ]
    },
    {
     "name": "stderr",
     "output_type": "stream",
     "text": [
      "/Users/alexis/Projects/202502 Actuarial Loss Prediction/.env/lib/python3.10/site-packages/sklearn/utils/validation.py:2739: UserWarning: X does not have valid feature names, but LGBMRegressor was fitted with feature names\n",
      "  warnings.warn(\n",
      "[I 2025-03-02 18:44:45,831] Trial 1 finished with value: 23983.11465233243 and parameters: {'max_depth': 15, 'learning_rate': 0.21863555571940108, 'n_estimators': 300, 'min_child_weight': 20, 'subsample': 0.566642206823366, 'colsample_bytree': 0.9051280832122182, 'lambda_l1': 8.869057241899329, 'lambda_l2': 6.707122934148144}. Best is trial 1 with value: 23983.11465233243.\n"
     ]
    },
    {
     "name": "stdout",
     "output_type": "stream",
     "text": [
      "[LightGBM] [Warning] lambda_l1 is set=8.869057241899329, reg_alpha=0.0 will be ignored. Current value: lambda_l1=8.869057241899329\n",
      "[LightGBM] [Warning] lambda_l2 is set=6.707122934148144, reg_lambda=0.0 will be ignored. Current value: lambda_l2=6.707122934148144\n",
      "RMSE Overall:  23983.115 | MAE: 5743.117\n",
      "RMSE for low y_true (<= 100k): 9631.953 | MAE: 3383.889\n",
      "RMSE for high y_true (> 100k): 163739.623 | MAE: 134046.426\n",
      "[LightGBM] [Warning] lambda_l1 is set=5.1356219667828515, reg_alpha=0.0 will be ignored. Current value: lambda_l1=5.1356219667828515\n",
      "[LightGBM] [Warning] lambda_l2 is set=1.0644079613652313, reg_lambda=0.0 will be ignored. Current value: lambda_l2=1.0644079613652313\n",
      "[LightGBM] [Warning] lambda_l1 is set=5.1356219667828515, reg_alpha=0.0 will be ignored. Current value: lambda_l1=5.1356219667828515\n",
      "[LightGBM] [Warning] lambda_l2 is set=1.0644079613652313, reg_lambda=0.0 will be ignored. Current value: lambda_l2=1.0644079613652313\n",
      "[LightGBM] [Info] Total Bins 85015\n",
      "[LightGBM] [Info] Number of data points in the train set: 43199, number of used features: 395\n",
      "[LightGBM] [Info] Start training from score 5.909642\n"
     ]
    },
    {
     "name": "stderr",
     "output_type": "stream",
     "text": [
      "/Users/alexis/Projects/202502 Actuarial Loss Prediction/.env/lib/python3.10/site-packages/sklearn/utils/validation.py:2739: UserWarning: X does not have valid feature names, but LGBMRegressor was fitted with feature names\n",
      "  warnings.warn(\n"
     ]
    },
    {
     "name": "stdout",
     "output_type": "stream",
     "text": [
      "[LightGBM] [Warning] lambda_l1 is set=5.1356219667828515, reg_alpha=0.0 will be ignored. Current value: lambda_l1=5.1356219667828515\n",
      "[LightGBM] [Warning] lambda_l2 is set=1.0644079613652313, reg_lambda=0.0 will be ignored. Current value: lambda_l2=1.0644079613652313\n",
      "[LightGBM] [Warning] lambda_l1 is set=5.1356219667828515, reg_alpha=0.0 will be ignored. Current value: lambda_l1=5.1356219667828515\n",
      "[LightGBM] [Warning] lambda_l2 is set=1.0644079613652313, reg_lambda=0.0 will be ignored. Current value: lambda_l2=1.0644079613652313\n",
      "[LightGBM] [Warning] lambda_l1 is set=5.1356219667828515, reg_alpha=0.0 will be ignored. Current value: lambda_l1=5.1356219667828515\n",
      "[LightGBM] [Warning] lambda_l2 is set=1.0644079613652313, reg_lambda=0.0 will be ignored. Current value: lambda_l2=1.0644079613652313\n",
      "[LightGBM] [Info] Total Bins 85024\n",
      "[LightGBM] [Info] Number of data points in the train set: 43199, number of used features: 395\n",
      "[LightGBM] [Info] Start training from score 5.914034\n"
     ]
    },
    {
     "name": "stderr",
     "output_type": "stream",
     "text": [
      "/Users/alexis/Projects/202502 Actuarial Loss Prediction/.env/lib/python3.10/site-packages/sklearn/utils/validation.py:2739: UserWarning: X does not have valid feature names, but LGBMRegressor was fitted with feature names\n",
      "  warnings.warn(\n"
     ]
    },
    {
     "name": "stdout",
     "output_type": "stream",
     "text": [
      "[LightGBM] [Warning] lambda_l1 is set=5.1356219667828515, reg_alpha=0.0 will be ignored. Current value: lambda_l1=5.1356219667828515\n",
      "[LightGBM] [Warning] lambda_l2 is set=1.0644079613652313, reg_lambda=0.0 will be ignored. Current value: lambda_l2=1.0644079613652313\n",
      "[LightGBM] [Warning] lambda_l1 is set=5.1356219667828515, reg_alpha=0.0 will be ignored. Current value: lambda_l1=5.1356219667828515\n",
      "[LightGBM] [Warning] lambda_l2 is set=1.0644079613652313, reg_lambda=0.0 will be ignored. Current value: lambda_l2=1.0644079613652313\n",
      "[LightGBM] [Warning] lambda_l1 is set=5.1356219667828515, reg_alpha=0.0 will be ignored. Current value: lambda_l1=5.1356219667828515\n",
      "[LightGBM] [Warning] lambda_l2 is set=1.0644079613652313, reg_lambda=0.0 will be ignored. Current value: lambda_l2=1.0644079613652313\n",
      "[LightGBM] [Info] Total Bins 85026\n",
      "[LightGBM] [Info] Number of data points in the train set: 43199, number of used features: 395\n",
      "[LightGBM] [Info] Start training from score 5.945550\n"
     ]
    },
    {
     "name": "stderr",
     "output_type": "stream",
     "text": [
      "/Users/alexis/Projects/202502 Actuarial Loss Prediction/.env/lib/python3.10/site-packages/sklearn/utils/validation.py:2739: UserWarning: X does not have valid feature names, but LGBMRegressor was fitted with feature names\n",
      "  warnings.warn(\n"
     ]
    },
    {
     "name": "stdout",
     "output_type": "stream",
     "text": [
      "[LightGBM] [Warning] lambda_l1 is set=5.1356219667828515, reg_alpha=0.0 will be ignored. Current value: lambda_l1=5.1356219667828515\n",
      "[LightGBM] [Warning] lambda_l2 is set=1.0644079613652313, reg_lambda=0.0 will be ignored. Current value: lambda_l2=1.0644079613652313\n",
      "[LightGBM] [Warning] lambda_l1 is set=5.1356219667828515, reg_alpha=0.0 will be ignored. Current value: lambda_l1=5.1356219667828515\n",
      "[LightGBM] [Warning] lambda_l2 is set=1.0644079613652313, reg_lambda=0.0 will be ignored. Current value: lambda_l2=1.0644079613652313\n",
      "[LightGBM] [Warning] lambda_l1 is set=5.1356219667828515, reg_alpha=0.0 will be ignored. Current value: lambda_l1=5.1356219667828515\n",
      "[LightGBM] [Warning] lambda_l2 is set=1.0644079613652313, reg_lambda=0.0 will be ignored. Current value: lambda_l2=1.0644079613652313\n",
      "[LightGBM] [Info] Total Bins 85029\n",
      "[LightGBM] [Info] Number of data points in the train set: 43199, number of used features: 395\n",
      "[LightGBM] [Info] Start training from score 5.959808\n"
     ]
    },
    {
     "name": "stderr",
     "output_type": "stream",
     "text": [
      "/Users/alexis/Projects/202502 Actuarial Loss Prediction/.env/lib/python3.10/site-packages/sklearn/utils/validation.py:2739: UserWarning: X does not have valid feature names, but LGBMRegressor was fitted with feature names\n",
      "  warnings.warn(\n"
     ]
    },
    {
     "name": "stdout",
     "output_type": "stream",
     "text": [
      "[LightGBM] [Warning] lambda_l1 is set=5.1356219667828515, reg_alpha=0.0 will be ignored. Current value: lambda_l1=5.1356219667828515\n",
      "[LightGBM] [Warning] lambda_l2 is set=1.0644079613652313, reg_lambda=0.0 will be ignored. Current value: lambda_l2=1.0644079613652313\n",
      "[LightGBM] [Warning] lambda_l1 is set=5.1356219667828515, reg_alpha=0.0 will be ignored. Current value: lambda_l1=5.1356219667828515\n",
      "[LightGBM] [Warning] lambda_l2 is set=1.0644079613652313, reg_lambda=0.0 will be ignored. Current value: lambda_l2=1.0644079613652313\n",
      "[LightGBM] [Warning] lambda_l1 is set=5.1356219667828515, reg_alpha=0.0 will be ignored. Current value: lambda_l1=5.1356219667828515\n",
      "[LightGBM] [Warning] lambda_l2 is set=1.0644079613652313, reg_lambda=0.0 will be ignored. Current value: lambda_l2=1.0644079613652313\n",
      "[LightGBM] [Info] Total Bins 85028\n",
      "[LightGBM] [Info] Number of data points in the train set: 43200, number of used features: 395\n",
      "[LightGBM] [Info] Start training from score 5.940370\n"
     ]
    },
    {
     "name": "stderr",
     "output_type": "stream",
     "text": [
      "/Users/alexis/Projects/202502 Actuarial Loss Prediction/.env/lib/python3.10/site-packages/sklearn/utils/validation.py:2739: UserWarning: X does not have valid feature names, but LGBMRegressor was fitted with feature names\n",
      "  warnings.warn(\n",
      "[I 2025-03-02 18:44:56,472] Trial 2 finished with value: 23999.85250042222 and parameters: {'max_depth': 14, 'learning_rate': 0.27135319214539444, 'n_estimators': 100, 'min_child_weight': 7, 'subsample': 0.8180419077972416, 'colsample_bytree': 0.5777426106868437, 'lambda_l1': 5.1356219667828515, 'lambda_l2': 1.0644079613652313}. Best is trial 1 with value: 23983.11465233243.\n"
     ]
    },
    {
     "name": "stdout",
     "output_type": "stream",
     "text": [
      "[LightGBM] [Warning] lambda_l1 is set=5.1356219667828515, reg_alpha=0.0 will be ignored. Current value: lambda_l1=5.1356219667828515\n",
      "[LightGBM] [Warning] lambda_l2 is set=1.0644079613652313, reg_lambda=0.0 will be ignored. Current value: lambda_l2=1.0644079613652313\n",
      "RMSE Overall:  23999.853 | MAE: 5755.346\n",
      "RMSE for low y_true (<= 100k): 9677.867 | MAE: 3399.797\n",
      "RMSE for high y_true (> 100k): 163728.213 | MAE: 133858.598\n",
      "[LightGBM] [Warning] lambda_l1 is set=2.4516650754091565, reg_alpha=0.0 will be ignored. Current value: lambda_l1=2.4516650754091565\n",
      "[LightGBM] [Warning] lambda_l2 is set=7.100085364277814, reg_lambda=0.0 will be ignored. Current value: lambda_l2=7.100085364277814\n",
      "[LightGBM] [Warning] lambda_l1 is set=2.4516650754091565, reg_alpha=0.0 will be ignored. Current value: lambda_l1=2.4516650754091565\n",
      "[LightGBM] [Warning] lambda_l2 is set=7.100085364277814, reg_lambda=0.0 will be ignored. Current value: lambda_l2=7.100085364277814\n",
      "[LightGBM] [Info] Total Bins 85015\n",
      "[LightGBM] [Info] Number of data points in the train set: 43199, number of used features: 395\n",
      "[LightGBM] [Info] Start training from score 5.909642\n",
      "[LightGBM] [Warning] No further splits with positive gain, best gain: -inf\n",
      "[LightGBM] [Warning] No further splits with positive gain, best gain: -inf\n",
      "[LightGBM] [Warning] No further splits with positive gain, best gain: -inf\n",
      "[LightGBM] [Warning] No further splits with positive gain, best gain: -inf\n",
      "[LightGBM] [Warning] No further splits with positive gain, best gain: -inf\n",
      "[LightGBM] [Warning] No further splits with positive gain, best gain: -inf\n",
      "[LightGBM] [Warning] No further splits with positive gain, best gain: -inf\n",
      "[LightGBM] [Warning] No further splits with positive gain, best gain: -inf\n",
      "[LightGBM] [Warning] No further splits with positive gain, best gain: -inf\n",
      "[LightGBM] [Warning] No further splits with positive gain, best gain: -inf\n",
      "[LightGBM] [Warning] No further splits with positive gain, best gain: -inf\n",
      "[LightGBM] [Warning] No further splits with positive gain, best gain: -inf\n",
      "[LightGBM] [Warning] No further splits with positive gain, best gain: -inf\n",
      "[LightGBM] [Warning] No further splits with positive gain, best gain: -inf\n",
      "[LightGBM] [Warning] No further splits with positive gain, best gain: -inf\n",
      "[LightGBM] [Warning] No further splits with positive gain, best gain: -inf\n",
      "[LightGBM] [Warning] No further splits with positive gain, best gain: -inf\n",
      "[LightGBM] [Warning] No further splits with positive gain, best gain: -inf\n",
      "[LightGBM] [Warning] No further splits with positive gain, best gain: -inf\n",
      "[LightGBM] [Warning] No further splits with positive gain, best gain: -inf\n",
      "[LightGBM] [Warning] No further splits with positive gain, best gain: -inf\n",
      "[LightGBM] [Warning] No further splits with positive gain, best gain: -inf\n",
      "[LightGBM] [Warning] No further splits with positive gain, best gain: -inf\n",
      "[LightGBM] [Warning] No further splits with positive gain, best gain: -inf\n",
      "[LightGBM] [Warning] No further splits with positive gain, best gain: -inf\n",
      "[LightGBM] [Warning] No further splits with positive gain, best gain: -inf\n",
      "[LightGBM] [Warning] No further splits with positive gain, best gain: -inf\n",
      "[LightGBM] [Warning] No further splits with positive gain, best gain: -inf\n",
      "[LightGBM] [Warning] No further splits with positive gain, best gain: -inf\n",
      "[LightGBM] [Warning] No further splits with positive gain, best gain: -inf\n",
      "[LightGBM] [Warning] No further splits with positive gain, best gain: -inf\n",
      "[LightGBM] [Warning] No further splits with positive gain, best gain: -inf\n",
      "[LightGBM] [Warning] No further splits with positive gain, best gain: -inf\n",
      "[LightGBM] [Warning] No further splits with positive gain, best gain: -inf\n",
      "[LightGBM] [Warning] No further splits with positive gain, best gain: -inf\n",
      "[LightGBM] [Warning] No further splits with positive gain, best gain: -inf\n",
      "[LightGBM] [Warning] No further splits with positive gain, best gain: -inf\n",
      "[LightGBM] [Warning] No further splits with positive gain, best gain: -inf\n",
      "[LightGBM] [Warning] No further splits with positive gain, best gain: -inf\n",
      "[LightGBM] [Warning] No further splits with positive gain, best gain: -inf\n",
      "[LightGBM] [Warning] No further splits with positive gain, best gain: -inf\n",
      "[LightGBM] [Warning] No further splits with positive gain, best gain: -inf\n",
      "[LightGBM] [Warning] No further splits with positive gain, best gain: -inf\n",
      "[LightGBM] [Warning] No further splits with positive gain, best gain: -inf\n",
      "[LightGBM] [Warning] No further splits with positive gain, best gain: -inf\n",
      "[LightGBM] [Warning] No further splits with positive gain, best gain: -inf\n",
      "[LightGBM] [Warning] No further splits with positive gain, best gain: -inf\n",
      "[LightGBM] [Warning] No further splits with positive gain, best gain: -inf\n",
      "[LightGBM] [Warning] No further splits with positive gain, best gain: -inf\n",
      "[LightGBM] [Warning] No further splits with positive gain, best gain: -inf\n",
      "[LightGBM] [Warning] No further splits with positive gain, best gain: -inf\n",
      "[LightGBM] [Warning] No further splits with positive gain, best gain: -inf\n",
      "[LightGBM] [Warning] No further splits with positive gain, best gain: -inf\n",
      "[LightGBM] [Warning] No further splits with positive gain, best gain: -inf\n",
      "[LightGBM] [Warning] No further splits with positive gain, best gain: -inf\n",
      "[LightGBM] [Warning] No further splits with positive gain, best gain: -inf\n",
      "[LightGBM] [Warning] No further splits with positive gain, best gain: -inf\n",
      "[LightGBM] [Warning] No further splits with positive gain, best gain: -inf\n",
      "[LightGBM] [Warning] No further splits with positive gain, best gain: -inf\n",
      "[LightGBM] [Warning] No further splits with positive gain, best gain: -inf\n",
      "[LightGBM] [Warning] No further splits with positive gain, best gain: -inf\n",
      "[LightGBM] [Warning] No further splits with positive gain, best gain: -inf\n",
      "[LightGBM] [Warning] No further splits with positive gain, best gain: -inf\n",
      "[LightGBM] [Warning] No further splits with positive gain, best gain: -inf\n",
      "[LightGBM] [Warning] No further splits with positive gain, best gain: -inf\n",
      "[LightGBM] [Warning] No further splits with positive gain, best gain: -inf\n",
      "[LightGBM] [Warning] No further splits with positive gain, best gain: -inf\n",
      "[LightGBM] [Warning] No further splits with positive gain, best gain: -inf\n",
      "[LightGBM] [Warning] No further splits with positive gain, best gain: -inf\n",
      "[LightGBM] [Warning] No further splits with positive gain, best gain: -inf\n",
      "[LightGBM] [Warning] No further splits with positive gain, best gain: -inf\n",
      "[LightGBM] [Warning] No further splits with positive gain, best gain: -inf\n",
      "[LightGBM] [Warning] No further splits with positive gain, best gain: -inf\n",
      "[LightGBM] [Warning] No further splits with positive gain, best gain: -inf\n",
      "[LightGBM] [Warning] No further splits with positive gain, best gain: -inf\n",
      "[LightGBM] [Warning] No further splits with positive gain, best gain: -inf\n",
      "[LightGBM] [Warning] No further splits with positive gain, best gain: -inf\n",
      "[LightGBM] [Warning] No further splits with positive gain, best gain: -inf\n",
      "[LightGBM] [Warning] No further splits with positive gain, best gain: -inf\n",
      "[LightGBM] [Warning] No further splits with positive gain, best gain: -inf\n",
      "[LightGBM] [Warning] No further splits with positive gain, best gain: -inf\n",
      "[LightGBM] [Warning] No further splits with positive gain, best gain: -inf\n",
      "[LightGBM] [Warning] No further splits with positive gain, best gain: -inf\n",
      "[LightGBM] [Warning] No further splits with positive gain, best gain: -inf\n",
      "[LightGBM] [Warning] No further splits with positive gain, best gain: -inf\n",
      "[LightGBM] [Warning] No further splits with positive gain, best gain: -inf\n",
      "[LightGBM] [Warning] No further splits with positive gain, best gain: -inf\n",
      "[LightGBM] [Warning] No further splits with positive gain, best gain: -inf\n",
      "[LightGBM] [Warning] No further splits with positive gain, best gain: -inf\n",
      "[LightGBM] [Warning] No further splits with positive gain, best gain: -inf\n",
      "[LightGBM] [Warning] No further splits with positive gain, best gain: -inf\n",
      "[LightGBM] [Warning] No further splits with positive gain, best gain: -inf\n",
      "[LightGBM] [Warning] No further splits with positive gain, best gain: -inf\n",
      "[LightGBM] [Warning] No further splits with positive gain, best gain: -inf\n",
      "[LightGBM] [Warning] No further splits with positive gain, best gain: -inf\n",
      "[LightGBM] [Warning] No further splits with positive gain, best gain: -inf\n",
      "[LightGBM] [Warning] No further splits with positive gain, best gain: -inf\n",
      "[LightGBM] [Warning] No further splits with positive gain, best gain: -inf\n",
      "[LightGBM] [Warning] No further splits with positive gain, best gain: -inf\n",
      "[LightGBM] [Warning] No further splits with positive gain, best gain: -inf\n"
     ]
    },
    {
     "name": "stderr",
     "output_type": "stream",
     "text": [
      "/Users/alexis/Projects/202502 Actuarial Loss Prediction/.env/lib/python3.10/site-packages/sklearn/utils/validation.py:2739: UserWarning: X does not have valid feature names, but LGBMRegressor was fitted with feature names\n",
      "  warnings.warn(\n"
     ]
    },
    {
     "name": "stdout",
     "output_type": "stream",
     "text": [
      "[LightGBM] [Warning] lambda_l1 is set=2.4516650754091565, reg_alpha=0.0 will be ignored. Current value: lambda_l1=2.4516650754091565\n",
      "[LightGBM] [Warning] lambda_l2 is set=7.100085364277814, reg_lambda=0.0 will be ignored. Current value: lambda_l2=7.100085364277814\n",
      "[LightGBM] [Warning] lambda_l1 is set=2.4516650754091565, reg_alpha=0.0 will be ignored. Current value: lambda_l1=2.4516650754091565\n",
      "[LightGBM] [Warning] lambda_l2 is set=7.100085364277814, reg_lambda=0.0 will be ignored. Current value: lambda_l2=7.100085364277814\n",
      "[LightGBM] [Warning] lambda_l1 is set=2.4516650754091565, reg_alpha=0.0 will be ignored. Current value: lambda_l1=2.4516650754091565\n",
      "[LightGBM] [Warning] lambda_l2 is set=7.100085364277814, reg_lambda=0.0 will be ignored. Current value: lambda_l2=7.100085364277814\n",
      "[LightGBM] [Info] Total Bins 85024\n",
      "[LightGBM] [Info] Number of data points in the train set: 43199, number of used features: 395\n",
      "[LightGBM] [Info] Start training from score 5.914034\n",
      "[LightGBM] [Warning] No further splits with positive gain, best gain: -inf\n",
      "[LightGBM] [Warning] No further splits with positive gain, best gain: -inf\n",
      "[LightGBM] [Warning] No further splits with positive gain, best gain: -inf\n",
      "[LightGBM] [Warning] No further splits with positive gain, best gain: -inf\n",
      "[LightGBM] [Warning] No further splits with positive gain, best gain: -inf\n",
      "[LightGBM] [Warning] No further splits with positive gain, best gain: -inf\n",
      "[LightGBM] [Warning] No further splits with positive gain, best gain: -inf\n",
      "[LightGBM] [Warning] No further splits with positive gain, best gain: -inf\n",
      "[LightGBM] [Warning] No further splits with positive gain, best gain: -inf\n",
      "[LightGBM] [Warning] No further splits with positive gain, best gain: -inf\n",
      "[LightGBM] [Warning] No further splits with positive gain, best gain: -inf\n",
      "[LightGBM] [Warning] No further splits with positive gain, best gain: -inf\n",
      "[LightGBM] [Warning] No further splits with positive gain, best gain: -inf\n",
      "[LightGBM] [Warning] No further splits with positive gain, best gain: -inf\n",
      "[LightGBM] [Warning] No further splits with positive gain, best gain: -inf\n",
      "[LightGBM] [Warning] No further splits with positive gain, best gain: -inf\n",
      "[LightGBM] [Warning] No further splits with positive gain, best gain: -inf\n",
      "[LightGBM] [Warning] No further splits with positive gain, best gain: -inf\n",
      "[LightGBM] [Warning] No further splits with positive gain, best gain: -inf\n",
      "[LightGBM] [Warning] No further splits with positive gain, best gain: -inf\n",
      "[LightGBM] [Warning] No further splits with positive gain, best gain: -inf\n",
      "[LightGBM] [Warning] No further splits with positive gain, best gain: -inf\n",
      "[LightGBM] [Warning] No further splits with positive gain, best gain: -inf\n",
      "[LightGBM] [Warning] No further splits with positive gain, best gain: -inf\n",
      "[LightGBM] [Warning] No further splits with positive gain, best gain: -inf\n",
      "[LightGBM] [Warning] No further splits with positive gain, best gain: -inf\n",
      "[LightGBM] [Warning] No further splits with positive gain, best gain: -inf\n",
      "[LightGBM] [Warning] No further splits with positive gain, best gain: -inf\n",
      "[LightGBM] [Warning] No further splits with positive gain, best gain: -inf\n",
      "[LightGBM] [Warning] No further splits with positive gain, best gain: -inf\n",
      "[LightGBM] [Warning] No further splits with positive gain, best gain: -inf\n",
      "[LightGBM] [Warning] No further splits with positive gain, best gain: -inf\n",
      "[LightGBM] [Warning] No further splits with positive gain, best gain: -inf\n",
      "[LightGBM] [Warning] No further splits with positive gain, best gain: -inf\n",
      "[LightGBM] [Warning] No further splits with positive gain, best gain: -inf\n",
      "[LightGBM] [Warning] No further splits with positive gain, best gain: -inf\n",
      "[LightGBM] [Warning] No further splits with positive gain, best gain: -inf\n",
      "[LightGBM] [Warning] No further splits with positive gain, best gain: -inf\n",
      "[LightGBM] [Warning] No further splits with positive gain, best gain: -inf\n",
      "[LightGBM] [Warning] No further splits with positive gain, best gain: -inf\n",
      "[LightGBM] [Warning] No further splits with positive gain, best gain: -inf\n",
      "[LightGBM] [Warning] No further splits with positive gain, best gain: -inf\n",
      "[LightGBM] [Warning] No further splits with positive gain, best gain: -inf\n",
      "[LightGBM] [Warning] No further splits with positive gain, best gain: -inf\n",
      "[LightGBM] [Warning] No further splits with positive gain, best gain: -inf\n",
      "[LightGBM] [Warning] No further splits with positive gain, best gain: -inf\n",
      "[LightGBM] [Warning] No further splits with positive gain, best gain: -inf\n",
      "[LightGBM] [Warning] No further splits with positive gain, best gain: -inf\n",
      "[LightGBM] [Warning] No further splits with positive gain, best gain: -inf\n",
      "[LightGBM] [Warning] No further splits with positive gain, best gain: -inf\n",
      "[LightGBM] [Warning] No further splits with positive gain, best gain: -inf\n",
      "[LightGBM] [Warning] No further splits with positive gain, best gain: -inf\n",
      "[LightGBM] [Warning] No further splits with positive gain, best gain: -inf\n",
      "[LightGBM] [Warning] No further splits with positive gain, best gain: -inf\n",
      "[LightGBM] [Warning] No further splits with positive gain, best gain: -inf\n",
      "[LightGBM] [Warning] No further splits with positive gain, best gain: -inf\n",
      "[LightGBM] [Warning] No further splits with positive gain, best gain: -inf\n",
      "[LightGBM] [Warning] No further splits with positive gain, best gain: -inf\n",
      "[LightGBM] [Warning] No further splits with positive gain, best gain: -inf\n",
      "[LightGBM] [Warning] No further splits with positive gain, best gain: -inf\n",
      "[LightGBM] [Warning] No further splits with positive gain, best gain: -inf\n",
      "[LightGBM] [Warning] No further splits with positive gain, best gain: -inf\n",
      "[LightGBM] [Warning] No further splits with positive gain, best gain: -inf\n",
      "[LightGBM] [Warning] No further splits with positive gain, best gain: -inf\n",
      "[LightGBM] [Warning] No further splits with positive gain, best gain: -inf\n",
      "[LightGBM] [Warning] No further splits with positive gain, best gain: -inf\n",
      "[LightGBM] [Warning] No further splits with positive gain, best gain: -inf\n",
      "[LightGBM] [Warning] No further splits with positive gain, best gain: -inf\n",
      "[LightGBM] [Warning] No further splits with positive gain, best gain: -inf\n",
      "[LightGBM] [Warning] No further splits with positive gain, best gain: -inf\n",
      "[LightGBM] [Warning] No further splits with positive gain, best gain: -inf\n",
      "[LightGBM] [Warning] No further splits with positive gain, best gain: -inf\n",
      "[LightGBM] [Warning] No further splits with positive gain, best gain: -inf\n",
      "[LightGBM] [Warning] No further splits with positive gain, best gain: -inf\n",
      "[LightGBM] [Warning] No further splits with positive gain, best gain: -inf\n",
      "[LightGBM] [Warning] No further splits with positive gain, best gain: -inf\n",
      "[LightGBM] [Warning] No further splits with positive gain, best gain: -inf\n",
      "[LightGBM] [Warning] No further splits with positive gain, best gain: -inf\n",
      "[LightGBM] [Warning] No further splits with positive gain, best gain: -inf\n",
      "[LightGBM] [Warning] No further splits with positive gain, best gain: -inf\n",
      "[LightGBM] [Warning] No further splits with positive gain, best gain: -inf\n",
      "[LightGBM] [Warning] No further splits with positive gain, best gain: -inf\n",
      "[LightGBM] [Warning] No further splits with positive gain, best gain: -inf\n",
      "[LightGBM] [Warning] No further splits with positive gain, best gain: -inf\n",
      "[LightGBM] [Warning] No further splits with positive gain, best gain: -inf\n",
      "[LightGBM] [Warning] No further splits with positive gain, best gain: -inf\n",
      "[LightGBM] [Warning] No further splits with positive gain, best gain: -inf\n",
      "[LightGBM] [Warning] No further splits with positive gain, best gain: -inf\n",
      "[LightGBM] [Warning] No further splits with positive gain, best gain: -inf\n",
      "[LightGBM] [Warning] No further splits with positive gain, best gain: -inf\n",
      "[LightGBM] [Warning] No further splits with positive gain, best gain: -inf\n",
      "[LightGBM] [Warning] No further splits with positive gain, best gain: -inf\n",
      "[LightGBM] [Warning] No further splits with positive gain, best gain: -inf\n",
      "[LightGBM] [Warning] No further splits with positive gain, best gain: -inf\n",
      "[LightGBM] [Warning] No further splits with positive gain, best gain: -inf\n",
      "[LightGBM] [Warning] No further splits with positive gain, best gain: -inf\n",
      "[LightGBM] [Warning] No further splits with positive gain, best gain: -inf\n",
      "[LightGBM] [Warning] No further splits with positive gain, best gain: -inf\n",
      "[LightGBM] [Warning] No further splits with positive gain, best gain: -inf\n",
      "[LightGBM] [Warning] No further splits with positive gain, best gain: -inf\n"
     ]
    },
    {
     "name": "stderr",
     "output_type": "stream",
     "text": [
      "/Users/alexis/Projects/202502 Actuarial Loss Prediction/.env/lib/python3.10/site-packages/sklearn/utils/validation.py:2739: UserWarning: X does not have valid feature names, but LGBMRegressor was fitted with feature names\n",
      "  warnings.warn(\n"
     ]
    },
    {
     "name": "stdout",
     "output_type": "stream",
     "text": [
      "[LightGBM] [Warning] lambda_l1 is set=2.4516650754091565, reg_alpha=0.0 will be ignored. Current value: lambda_l1=2.4516650754091565\n",
      "[LightGBM] [Warning] lambda_l2 is set=7.100085364277814, reg_lambda=0.0 will be ignored. Current value: lambda_l2=7.100085364277814\n",
      "[LightGBM] [Warning] lambda_l1 is set=2.4516650754091565, reg_alpha=0.0 will be ignored. Current value: lambda_l1=2.4516650754091565\n",
      "[LightGBM] [Warning] lambda_l2 is set=7.100085364277814, reg_lambda=0.0 will be ignored. Current value: lambda_l2=7.100085364277814\n",
      "[LightGBM] [Warning] lambda_l1 is set=2.4516650754091565, reg_alpha=0.0 will be ignored. Current value: lambda_l1=2.4516650754091565\n",
      "[LightGBM] [Warning] lambda_l2 is set=7.100085364277814, reg_lambda=0.0 will be ignored. Current value: lambda_l2=7.100085364277814\n",
      "[LightGBM] [Info] Total Bins 85026\n",
      "[LightGBM] [Info] Number of data points in the train set: 43199, number of used features: 395\n",
      "[LightGBM] [Info] Start training from score 5.945550\n",
      "[LightGBM] [Warning] No further splits with positive gain, best gain: -inf\n",
      "[LightGBM] [Warning] No further splits with positive gain, best gain: -inf\n",
      "[LightGBM] [Warning] No further splits with positive gain, best gain: -inf\n",
      "[LightGBM] [Warning] No further splits with positive gain, best gain: -inf\n",
      "[LightGBM] [Warning] No further splits with positive gain, best gain: -inf\n",
      "[LightGBM] [Warning] No further splits with positive gain, best gain: -inf\n",
      "[LightGBM] [Warning] No further splits with positive gain, best gain: -inf\n",
      "[LightGBM] [Warning] No further splits with positive gain, best gain: -inf\n",
      "[LightGBM] [Warning] No further splits with positive gain, best gain: -inf\n",
      "[LightGBM] [Warning] No further splits with positive gain, best gain: -inf\n",
      "[LightGBM] [Warning] No further splits with positive gain, best gain: -inf\n",
      "[LightGBM] [Warning] No further splits with positive gain, best gain: -inf\n",
      "[LightGBM] [Warning] No further splits with positive gain, best gain: -inf\n",
      "[LightGBM] [Warning] No further splits with positive gain, best gain: -inf\n",
      "[LightGBM] [Warning] No further splits with positive gain, best gain: -inf\n",
      "[LightGBM] [Warning] No further splits with positive gain, best gain: -inf\n",
      "[LightGBM] [Warning] No further splits with positive gain, best gain: -inf\n",
      "[LightGBM] [Warning] No further splits with positive gain, best gain: -inf\n",
      "[LightGBM] [Warning] No further splits with positive gain, best gain: -inf\n",
      "[LightGBM] [Warning] No further splits with positive gain, best gain: -inf\n",
      "[LightGBM] [Warning] No further splits with positive gain, best gain: -inf\n",
      "[LightGBM] [Warning] No further splits with positive gain, best gain: -inf\n",
      "[LightGBM] [Warning] No further splits with positive gain, best gain: -inf\n",
      "[LightGBM] [Warning] No further splits with positive gain, best gain: -inf\n",
      "[LightGBM] [Warning] No further splits with positive gain, best gain: -inf\n",
      "[LightGBM] [Warning] No further splits with positive gain, best gain: -inf\n",
      "[LightGBM] [Warning] No further splits with positive gain, best gain: -inf\n",
      "[LightGBM] [Warning] No further splits with positive gain, best gain: -inf\n",
      "[LightGBM] [Warning] No further splits with positive gain, best gain: -inf\n",
      "[LightGBM] [Warning] No further splits with positive gain, best gain: -inf\n",
      "[LightGBM] [Warning] No further splits with positive gain, best gain: -inf\n",
      "[LightGBM] [Warning] No further splits with positive gain, best gain: -inf\n",
      "[LightGBM] [Warning] No further splits with positive gain, best gain: -inf\n",
      "[LightGBM] [Warning] No further splits with positive gain, best gain: -inf\n",
      "[LightGBM] [Warning] No further splits with positive gain, best gain: -inf\n",
      "[LightGBM] [Warning] No further splits with positive gain, best gain: -inf\n",
      "[LightGBM] [Warning] No further splits with positive gain, best gain: -inf\n",
      "[LightGBM] [Warning] No further splits with positive gain, best gain: -inf\n",
      "[LightGBM] [Warning] No further splits with positive gain, best gain: -inf\n",
      "[LightGBM] [Warning] No further splits with positive gain, best gain: -inf\n",
      "[LightGBM] [Warning] No further splits with positive gain, best gain: -inf\n",
      "[LightGBM] [Warning] No further splits with positive gain, best gain: -inf\n",
      "[LightGBM] [Warning] No further splits with positive gain, best gain: -inf\n",
      "[LightGBM] [Warning] No further splits with positive gain, best gain: -inf\n",
      "[LightGBM] [Warning] No further splits with positive gain, best gain: -inf\n",
      "[LightGBM] [Warning] No further splits with positive gain, best gain: -inf\n",
      "[LightGBM] [Warning] No further splits with positive gain, best gain: -inf\n",
      "[LightGBM] [Warning] No further splits with positive gain, best gain: -inf\n",
      "[LightGBM] [Warning] No further splits with positive gain, best gain: -inf\n",
      "[LightGBM] [Warning] No further splits with positive gain, best gain: -inf\n",
      "[LightGBM] [Warning] No further splits with positive gain, best gain: -inf\n",
      "[LightGBM] [Warning] No further splits with positive gain, best gain: -inf\n",
      "[LightGBM] [Warning] No further splits with positive gain, best gain: -inf\n",
      "[LightGBM] [Warning] No further splits with positive gain, best gain: -inf\n",
      "[LightGBM] [Warning] No further splits with positive gain, best gain: -inf\n",
      "[LightGBM] [Warning] No further splits with positive gain, best gain: -inf\n",
      "[LightGBM] [Warning] No further splits with positive gain, best gain: -inf\n",
      "[LightGBM] [Warning] No further splits with positive gain, best gain: -inf\n",
      "[LightGBM] [Warning] No further splits with positive gain, best gain: -inf\n",
      "[LightGBM] [Warning] No further splits with positive gain, best gain: -inf\n",
      "[LightGBM] [Warning] No further splits with positive gain, best gain: -inf\n",
      "[LightGBM] [Warning] No further splits with positive gain, best gain: -inf\n",
      "[LightGBM] [Warning] No further splits with positive gain, best gain: -inf\n",
      "[LightGBM] [Warning] No further splits with positive gain, best gain: -inf\n",
      "[LightGBM] [Warning] No further splits with positive gain, best gain: -inf\n",
      "[LightGBM] [Warning] No further splits with positive gain, best gain: -inf\n",
      "[LightGBM] [Warning] No further splits with positive gain, best gain: -inf\n",
      "[LightGBM] [Warning] No further splits with positive gain, best gain: -inf\n",
      "[LightGBM] [Warning] No further splits with positive gain, best gain: -inf\n",
      "[LightGBM] [Warning] No further splits with positive gain, best gain: -inf\n",
      "[LightGBM] [Warning] No further splits with positive gain, best gain: -inf\n",
      "[LightGBM] [Warning] No further splits with positive gain, best gain: -inf\n",
      "[LightGBM] [Warning] No further splits with positive gain, best gain: -inf\n",
      "[LightGBM] [Warning] No further splits with positive gain, best gain: -inf\n",
      "[LightGBM] [Warning] No further splits with positive gain, best gain: -inf\n",
      "[LightGBM] [Warning] No further splits with positive gain, best gain: -inf\n",
      "[LightGBM] [Warning] No further splits with positive gain, best gain: -inf\n",
      "[LightGBM] [Warning] No further splits with positive gain, best gain: -inf\n",
      "[LightGBM] [Warning] No further splits with positive gain, best gain: -inf\n",
      "[LightGBM] [Warning] No further splits with positive gain, best gain: -inf\n",
      "[LightGBM] [Warning] No further splits with positive gain, best gain: -inf\n",
      "[LightGBM] [Warning] No further splits with positive gain, best gain: -inf\n",
      "[LightGBM] [Warning] No further splits with positive gain, best gain: -inf\n",
      "[LightGBM] [Warning] No further splits with positive gain, best gain: -inf\n",
      "[LightGBM] [Warning] No further splits with positive gain, best gain: -inf\n",
      "[LightGBM] [Warning] No further splits with positive gain, best gain: -inf\n",
      "[LightGBM] [Warning] No further splits with positive gain, best gain: -inf\n",
      "[LightGBM] [Warning] No further splits with positive gain, best gain: -inf\n",
      "[LightGBM] [Warning] No further splits with positive gain, best gain: -inf\n",
      "[LightGBM] [Warning] No further splits with positive gain, best gain: -inf\n",
      "[LightGBM] [Warning] No further splits with positive gain, best gain: -inf\n",
      "[LightGBM] [Warning] No further splits with positive gain, best gain: -inf\n",
      "[LightGBM] [Warning] No further splits with positive gain, best gain: -inf\n",
      "[LightGBM] [Warning] No further splits with positive gain, best gain: -inf\n",
      "[LightGBM] [Warning] No further splits with positive gain, best gain: -inf\n",
      "[LightGBM] [Warning] No further splits with positive gain, best gain: -inf\n",
      "[LightGBM] [Warning] No further splits with positive gain, best gain: -inf\n",
      "[LightGBM] [Warning] No further splits with positive gain, best gain: -inf\n",
      "[LightGBM] [Warning] No further splits with positive gain, best gain: -inf\n",
      "[LightGBM] [Warning] No further splits with positive gain, best gain: -inf\n"
     ]
    },
    {
     "name": "stderr",
     "output_type": "stream",
     "text": [
      "/Users/alexis/Projects/202502 Actuarial Loss Prediction/.env/lib/python3.10/site-packages/sklearn/utils/validation.py:2739: UserWarning: X does not have valid feature names, but LGBMRegressor was fitted with feature names\n",
      "  warnings.warn(\n"
     ]
    },
    {
     "name": "stdout",
     "output_type": "stream",
     "text": [
      "[LightGBM] [Warning] lambda_l1 is set=2.4516650754091565, reg_alpha=0.0 will be ignored. Current value: lambda_l1=2.4516650754091565\n",
      "[LightGBM] [Warning] lambda_l2 is set=7.100085364277814, reg_lambda=0.0 will be ignored. Current value: lambda_l2=7.100085364277814\n",
      "[LightGBM] [Warning] lambda_l1 is set=2.4516650754091565, reg_alpha=0.0 will be ignored. Current value: lambda_l1=2.4516650754091565\n",
      "[LightGBM] [Warning] lambda_l2 is set=7.100085364277814, reg_lambda=0.0 will be ignored. Current value: lambda_l2=7.100085364277814\n",
      "[LightGBM] [Warning] lambda_l1 is set=2.4516650754091565, reg_alpha=0.0 will be ignored. Current value: lambda_l1=2.4516650754091565\n",
      "[LightGBM] [Warning] lambda_l2 is set=7.100085364277814, reg_lambda=0.0 will be ignored. Current value: lambda_l2=7.100085364277814\n",
      "[LightGBM] [Info] Total Bins 85029\n",
      "[LightGBM] [Info] Number of data points in the train set: 43199, number of used features: 395\n",
      "[LightGBM] [Info] Start training from score 5.959808\n",
      "[LightGBM] [Warning] No further splits with positive gain, best gain: -inf\n",
      "[LightGBM] [Warning] No further splits with positive gain, best gain: -inf\n",
      "[LightGBM] [Warning] No further splits with positive gain, best gain: -inf\n",
      "[LightGBM] [Warning] No further splits with positive gain, best gain: -inf\n",
      "[LightGBM] [Warning] No further splits with positive gain, best gain: -inf\n",
      "[LightGBM] [Warning] No further splits with positive gain, best gain: -inf\n",
      "[LightGBM] [Warning] No further splits with positive gain, best gain: -inf\n",
      "[LightGBM] [Warning] No further splits with positive gain, best gain: -inf\n",
      "[LightGBM] [Warning] No further splits with positive gain, best gain: -inf\n",
      "[LightGBM] [Warning] No further splits with positive gain, best gain: -inf\n",
      "[LightGBM] [Warning] No further splits with positive gain, best gain: -inf\n",
      "[LightGBM] [Warning] No further splits with positive gain, best gain: -inf\n",
      "[LightGBM] [Warning] No further splits with positive gain, best gain: -inf\n",
      "[LightGBM] [Warning] No further splits with positive gain, best gain: -inf\n",
      "[LightGBM] [Warning] No further splits with positive gain, best gain: -inf\n",
      "[LightGBM] [Warning] No further splits with positive gain, best gain: -inf\n",
      "[LightGBM] [Warning] No further splits with positive gain, best gain: -inf\n",
      "[LightGBM] [Warning] No further splits with positive gain, best gain: -inf\n",
      "[LightGBM] [Warning] No further splits with positive gain, best gain: -inf\n",
      "[LightGBM] [Warning] No further splits with positive gain, best gain: -inf\n",
      "[LightGBM] [Warning] No further splits with positive gain, best gain: -inf\n",
      "[LightGBM] [Warning] No further splits with positive gain, best gain: -inf\n",
      "[LightGBM] [Warning] No further splits with positive gain, best gain: -inf\n",
      "[LightGBM] [Warning] No further splits with positive gain, best gain: -inf\n",
      "[LightGBM] [Warning] No further splits with positive gain, best gain: -inf\n",
      "[LightGBM] [Warning] No further splits with positive gain, best gain: -inf\n",
      "[LightGBM] [Warning] No further splits with positive gain, best gain: -inf\n",
      "[LightGBM] [Warning] No further splits with positive gain, best gain: -inf\n",
      "[LightGBM] [Warning] No further splits with positive gain, best gain: -inf\n",
      "[LightGBM] [Warning] No further splits with positive gain, best gain: -inf\n",
      "[LightGBM] [Warning] No further splits with positive gain, best gain: -inf\n",
      "[LightGBM] [Warning] No further splits with positive gain, best gain: -inf\n",
      "[LightGBM] [Warning] No further splits with positive gain, best gain: -inf\n",
      "[LightGBM] [Warning] No further splits with positive gain, best gain: -inf\n",
      "[LightGBM] [Warning] No further splits with positive gain, best gain: -inf\n",
      "[LightGBM] [Warning] No further splits with positive gain, best gain: -inf\n",
      "[LightGBM] [Warning] No further splits with positive gain, best gain: -inf\n",
      "[LightGBM] [Warning] No further splits with positive gain, best gain: -inf\n",
      "[LightGBM] [Warning] No further splits with positive gain, best gain: -inf\n",
      "[LightGBM] [Warning] No further splits with positive gain, best gain: -inf\n",
      "[LightGBM] [Warning] No further splits with positive gain, best gain: -inf\n",
      "[LightGBM] [Warning] No further splits with positive gain, best gain: -inf\n",
      "[LightGBM] [Warning] No further splits with positive gain, best gain: -inf\n",
      "[LightGBM] [Warning] No further splits with positive gain, best gain: -inf\n",
      "[LightGBM] [Warning] No further splits with positive gain, best gain: -inf\n",
      "[LightGBM] [Warning] No further splits with positive gain, best gain: -inf\n",
      "[LightGBM] [Warning] No further splits with positive gain, best gain: -inf\n",
      "[LightGBM] [Warning] No further splits with positive gain, best gain: -inf\n",
      "[LightGBM] [Warning] No further splits with positive gain, best gain: -inf\n",
      "[LightGBM] [Warning] No further splits with positive gain, best gain: -inf\n",
      "[LightGBM] [Warning] No further splits with positive gain, best gain: -inf\n",
      "[LightGBM] [Warning] No further splits with positive gain, best gain: -inf\n",
      "[LightGBM] [Warning] No further splits with positive gain, best gain: -inf\n",
      "[LightGBM] [Warning] No further splits with positive gain, best gain: -inf\n",
      "[LightGBM] [Warning] No further splits with positive gain, best gain: -inf\n",
      "[LightGBM] [Warning] No further splits with positive gain, best gain: -inf\n",
      "[LightGBM] [Warning] No further splits with positive gain, best gain: -inf\n",
      "[LightGBM] [Warning] No further splits with positive gain, best gain: -inf\n",
      "[LightGBM] [Warning] No further splits with positive gain, best gain: -inf\n",
      "[LightGBM] [Warning] No further splits with positive gain, best gain: -inf\n",
      "[LightGBM] [Warning] No further splits with positive gain, best gain: -inf\n",
      "[LightGBM] [Warning] No further splits with positive gain, best gain: -inf\n",
      "[LightGBM] [Warning] No further splits with positive gain, best gain: -inf\n",
      "[LightGBM] [Warning] No further splits with positive gain, best gain: -inf\n",
      "[LightGBM] [Warning] No further splits with positive gain, best gain: -inf\n",
      "[LightGBM] [Warning] No further splits with positive gain, best gain: -inf\n",
      "[LightGBM] [Warning] No further splits with positive gain, best gain: -inf\n",
      "[LightGBM] [Warning] No further splits with positive gain, best gain: -inf\n",
      "[LightGBM] [Warning] No further splits with positive gain, best gain: -inf\n",
      "[LightGBM] [Warning] No further splits with positive gain, best gain: -inf\n",
      "[LightGBM] [Warning] No further splits with positive gain, best gain: -inf\n",
      "[LightGBM] [Warning] No further splits with positive gain, best gain: -inf\n",
      "[LightGBM] [Warning] No further splits with positive gain, best gain: -inf\n",
      "[LightGBM] [Warning] No further splits with positive gain, best gain: -inf\n",
      "[LightGBM] [Warning] No further splits with positive gain, best gain: -inf\n",
      "[LightGBM] [Warning] No further splits with positive gain, best gain: -inf\n",
      "[LightGBM] [Warning] No further splits with positive gain, best gain: -inf\n",
      "[LightGBM] [Warning] No further splits with positive gain, best gain: -inf\n",
      "[LightGBM] [Warning] No further splits with positive gain, best gain: -inf\n",
      "[LightGBM] [Warning] No further splits with positive gain, best gain: -inf\n",
      "[LightGBM] [Warning] No further splits with positive gain, best gain: -inf\n",
      "[LightGBM] [Warning] No further splits with positive gain, best gain: -inf\n",
      "[LightGBM] [Warning] No further splits with positive gain, best gain: -inf\n",
      "[LightGBM] [Warning] No further splits with positive gain, best gain: -inf\n",
      "[LightGBM] [Warning] No further splits with positive gain, best gain: -inf\n",
      "[LightGBM] [Warning] No further splits with positive gain, best gain: -inf\n",
      "[LightGBM] [Warning] No further splits with positive gain, best gain: -inf\n",
      "[LightGBM] [Warning] No further splits with positive gain, best gain: -inf\n",
      "[LightGBM] [Warning] No further splits with positive gain, best gain: -inf\n",
      "[LightGBM] [Warning] No further splits with positive gain, best gain: -inf\n",
      "[LightGBM] [Warning] No further splits with positive gain, best gain: -inf\n",
      "[LightGBM] [Warning] No further splits with positive gain, best gain: -inf\n",
      "[LightGBM] [Warning] No further splits with positive gain, best gain: -inf\n",
      "[LightGBM] [Warning] No further splits with positive gain, best gain: -inf\n",
      "[LightGBM] [Warning] No further splits with positive gain, best gain: -inf\n",
      "[LightGBM] [Warning] No further splits with positive gain, best gain: -inf\n",
      "[LightGBM] [Warning] No further splits with positive gain, best gain: -inf\n",
      "[LightGBM] [Warning] No further splits with positive gain, best gain: -inf\n",
      "[LightGBM] [Warning] No further splits with positive gain, best gain: -inf\n",
      "[LightGBM] [Warning] No further splits with positive gain, best gain: -inf\n"
     ]
    },
    {
     "name": "stderr",
     "output_type": "stream",
     "text": [
      "/Users/alexis/Projects/202502 Actuarial Loss Prediction/.env/lib/python3.10/site-packages/sklearn/utils/validation.py:2739: UserWarning: X does not have valid feature names, but LGBMRegressor was fitted with feature names\n",
      "  warnings.warn(\n"
     ]
    },
    {
     "name": "stdout",
     "output_type": "stream",
     "text": [
      "[LightGBM] [Warning] lambda_l1 is set=2.4516650754091565, reg_alpha=0.0 will be ignored. Current value: lambda_l1=2.4516650754091565\n",
      "[LightGBM] [Warning] lambda_l2 is set=7.100085364277814, reg_lambda=0.0 will be ignored. Current value: lambda_l2=7.100085364277814\n",
      "[LightGBM] [Warning] lambda_l1 is set=2.4516650754091565, reg_alpha=0.0 will be ignored. Current value: lambda_l1=2.4516650754091565\n",
      "[LightGBM] [Warning] lambda_l2 is set=7.100085364277814, reg_lambda=0.0 will be ignored. Current value: lambda_l2=7.100085364277814\n",
      "[LightGBM] [Warning] lambda_l1 is set=2.4516650754091565, reg_alpha=0.0 will be ignored. Current value: lambda_l1=2.4516650754091565\n",
      "[LightGBM] [Warning] lambda_l2 is set=7.100085364277814, reg_lambda=0.0 will be ignored. Current value: lambda_l2=7.100085364277814\n",
      "[LightGBM] [Info] Total Bins 85028\n",
      "[LightGBM] [Info] Number of data points in the train set: 43200, number of used features: 395\n",
      "[LightGBM] [Info] Start training from score 5.940370\n",
      "[LightGBM] [Warning] No further splits with positive gain, best gain: -inf\n",
      "[LightGBM] [Warning] No further splits with positive gain, best gain: -inf\n",
      "[LightGBM] [Warning] No further splits with positive gain, best gain: -inf\n",
      "[LightGBM] [Warning] No further splits with positive gain, best gain: -inf\n",
      "[LightGBM] [Warning] No further splits with positive gain, best gain: -inf\n",
      "[LightGBM] [Warning] No further splits with positive gain, best gain: -inf\n",
      "[LightGBM] [Warning] No further splits with positive gain, best gain: -inf\n",
      "[LightGBM] [Warning] No further splits with positive gain, best gain: -inf\n",
      "[LightGBM] [Warning] No further splits with positive gain, best gain: -inf\n",
      "[LightGBM] [Warning] No further splits with positive gain, best gain: -inf\n",
      "[LightGBM] [Warning] No further splits with positive gain, best gain: -inf\n",
      "[LightGBM] [Warning] No further splits with positive gain, best gain: -inf\n",
      "[LightGBM] [Warning] No further splits with positive gain, best gain: -inf\n",
      "[LightGBM] [Warning] No further splits with positive gain, best gain: -inf\n",
      "[LightGBM] [Warning] No further splits with positive gain, best gain: -inf\n",
      "[LightGBM] [Warning] No further splits with positive gain, best gain: -inf\n",
      "[LightGBM] [Warning] No further splits with positive gain, best gain: -inf\n",
      "[LightGBM] [Warning] No further splits with positive gain, best gain: -inf\n",
      "[LightGBM] [Warning] No further splits with positive gain, best gain: -inf\n",
      "[LightGBM] [Warning] No further splits with positive gain, best gain: -inf\n",
      "[LightGBM] [Warning] No further splits with positive gain, best gain: -inf\n",
      "[LightGBM] [Warning] No further splits with positive gain, best gain: -inf\n",
      "[LightGBM] [Warning] No further splits with positive gain, best gain: -inf\n",
      "[LightGBM] [Warning] No further splits with positive gain, best gain: -inf\n",
      "[LightGBM] [Warning] No further splits with positive gain, best gain: -inf\n",
      "[LightGBM] [Warning] No further splits with positive gain, best gain: -inf\n",
      "[LightGBM] [Warning] No further splits with positive gain, best gain: -inf\n",
      "[LightGBM] [Warning] No further splits with positive gain, best gain: -inf\n",
      "[LightGBM] [Warning] No further splits with positive gain, best gain: -inf\n",
      "[LightGBM] [Warning] No further splits with positive gain, best gain: -inf\n",
      "[LightGBM] [Warning] No further splits with positive gain, best gain: -inf\n",
      "[LightGBM] [Warning] No further splits with positive gain, best gain: -inf\n",
      "[LightGBM] [Warning] No further splits with positive gain, best gain: -inf\n",
      "[LightGBM] [Warning] No further splits with positive gain, best gain: -inf\n",
      "[LightGBM] [Warning] No further splits with positive gain, best gain: -inf\n",
      "[LightGBM] [Warning] No further splits with positive gain, best gain: -inf\n",
      "[LightGBM] [Warning] No further splits with positive gain, best gain: -inf\n",
      "[LightGBM] [Warning] No further splits with positive gain, best gain: -inf\n",
      "[LightGBM] [Warning] No further splits with positive gain, best gain: -inf\n",
      "[LightGBM] [Warning] No further splits with positive gain, best gain: -inf\n",
      "[LightGBM] [Warning] No further splits with positive gain, best gain: -inf\n",
      "[LightGBM] [Warning] No further splits with positive gain, best gain: -inf\n",
      "[LightGBM] [Warning] No further splits with positive gain, best gain: -inf\n",
      "[LightGBM] [Warning] No further splits with positive gain, best gain: -inf\n",
      "[LightGBM] [Warning] No further splits with positive gain, best gain: -inf\n",
      "[LightGBM] [Warning] No further splits with positive gain, best gain: -inf\n",
      "[LightGBM] [Warning] No further splits with positive gain, best gain: -inf\n",
      "[LightGBM] [Warning] No further splits with positive gain, best gain: -inf\n",
      "[LightGBM] [Warning] No further splits with positive gain, best gain: -inf\n",
      "[LightGBM] [Warning] No further splits with positive gain, best gain: -inf\n",
      "[LightGBM] [Warning] No further splits with positive gain, best gain: -inf\n",
      "[LightGBM] [Warning] No further splits with positive gain, best gain: -inf\n",
      "[LightGBM] [Warning] No further splits with positive gain, best gain: -inf\n",
      "[LightGBM] [Warning] No further splits with positive gain, best gain: -inf\n",
      "[LightGBM] [Warning] No further splits with positive gain, best gain: -inf\n",
      "[LightGBM] [Warning] No further splits with positive gain, best gain: -inf\n",
      "[LightGBM] [Warning] No further splits with positive gain, best gain: -inf\n",
      "[LightGBM] [Warning] No further splits with positive gain, best gain: -inf\n",
      "[LightGBM] [Warning] No further splits with positive gain, best gain: -inf\n",
      "[LightGBM] [Warning] No further splits with positive gain, best gain: -inf\n",
      "[LightGBM] [Warning] No further splits with positive gain, best gain: -inf\n",
      "[LightGBM] [Warning] No further splits with positive gain, best gain: -inf\n",
      "[LightGBM] [Warning] No further splits with positive gain, best gain: -inf\n",
      "[LightGBM] [Warning] No further splits with positive gain, best gain: -inf\n",
      "[LightGBM] [Warning] No further splits with positive gain, best gain: -inf\n",
      "[LightGBM] [Warning] No further splits with positive gain, best gain: -inf\n",
      "[LightGBM] [Warning] No further splits with positive gain, best gain: -inf\n",
      "[LightGBM] [Warning] No further splits with positive gain, best gain: -inf\n",
      "[LightGBM] [Warning] No further splits with positive gain, best gain: -inf\n",
      "[LightGBM] [Warning] No further splits with positive gain, best gain: -inf\n",
      "[LightGBM] [Warning] No further splits with positive gain, best gain: -inf\n",
      "[LightGBM] [Warning] No further splits with positive gain, best gain: -inf\n",
      "[LightGBM] [Warning] No further splits with positive gain, best gain: -inf\n",
      "[LightGBM] [Warning] No further splits with positive gain, best gain: -inf\n",
      "[LightGBM] [Warning] No further splits with positive gain, best gain: -inf\n",
      "[LightGBM] [Warning] No further splits with positive gain, best gain: -inf\n",
      "[LightGBM] [Warning] No further splits with positive gain, best gain: -inf\n",
      "[LightGBM] [Warning] No further splits with positive gain, best gain: -inf\n",
      "[LightGBM] [Warning] No further splits with positive gain, best gain: -inf\n",
      "[LightGBM] [Warning] No further splits with positive gain, best gain: -inf\n",
      "[LightGBM] [Warning] No further splits with positive gain, best gain: -inf\n",
      "[LightGBM] [Warning] No further splits with positive gain, best gain: -inf\n",
      "[LightGBM] [Warning] No further splits with positive gain, best gain: -inf\n",
      "[LightGBM] [Warning] No further splits with positive gain, best gain: -inf\n",
      "[LightGBM] [Warning] No further splits with positive gain, best gain: -inf\n",
      "[LightGBM] [Warning] No further splits with positive gain, best gain: -inf\n",
      "[LightGBM] [Warning] No further splits with positive gain, best gain: -inf\n",
      "[LightGBM] [Warning] No further splits with positive gain, best gain: -inf\n",
      "[LightGBM] [Warning] No further splits with positive gain, best gain: -inf\n",
      "[LightGBM] [Warning] No further splits with positive gain, best gain: -inf\n",
      "[LightGBM] [Warning] No further splits with positive gain, best gain: -inf\n",
      "[LightGBM] [Warning] No further splits with positive gain, best gain: -inf\n",
      "[LightGBM] [Warning] No further splits with positive gain, best gain: -inf\n",
      "[LightGBM] [Warning] No further splits with positive gain, best gain: -inf\n",
      "[LightGBM] [Warning] No further splits with positive gain, best gain: -inf\n",
      "[LightGBM] [Warning] No further splits with positive gain, best gain: -inf\n",
      "[LightGBM] [Warning] No further splits with positive gain, best gain: -inf\n",
      "[LightGBM] [Warning] No further splits with positive gain, best gain: -inf\n",
      "[LightGBM] [Warning] No further splits with positive gain, best gain: -inf\n",
      "[LightGBM] [Warning] No further splits with positive gain, best gain: -inf\n"
     ]
    },
    {
     "name": "stderr",
     "output_type": "stream",
     "text": [
      "/Users/alexis/Projects/202502 Actuarial Loss Prediction/.env/lib/python3.10/site-packages/sklearn/utils/validation.py:2739: UserWarning: X does not have valid feature names, but LGBMRegressor was fitted with feature names\n",
      "  warnings.warn(\n",
      "[I 2025-03-02 18:45:04,179] Trial 3 finished with value: 23924.15147951742 and parameters: {'max_depth': 4, 'learning_rate': 0.2928749936708286, 'n_estimators': 100, 'min_child_weight': 16, 'subsample': 0.9043634155245212, 'colsample_bytree': 0.7147813438088808, 'lambda_l1': 2.4516650754091565, 'lambda_l2': 7.100085364277814}. Best is trial 3 with value: 23924.15147951742.\n"
     ]
    },
    {
     "name": "stdout",
     "output_type": "stream",
     "text": [
      "[LightGBM] [Warning] lambda_l1 is set=2.4516650754091565, reg_alpha=0.0 will be ignored. Current value: lambda_l1=2.4516650754091565\n",
      "[LightGBM] [Warning] lambda_l2 is set=7.100085364277814, reg_lambda=0.0 will be ignored. Current value: lambda_l2=7.100085364277814\n",
      "RMSE Overall:  23924.151 | MAE: 5736.033\n",
      "RMSE for low y_true (<= 100k): 9665.416 | MAE: 3387.037\n",
      "RMSE for high y_true (> 100k): 163153.609 | MAE: 133482.850\n",
      "[LightGBM] [Warning] lambda_l1 is set=5.361959787147869, reg_alpha=0.0 will be ignored. Current value: lambda_l1=5.361959787147869\n",
      "[LightGBM] [Warning] lambda_l2 is set=2.3099452006353216, reg_lambda=0.0 will be ignored. Current value: lambda_l2=2.3099452006353216\n",
      "[LightGBM] [Warning] lambda_l1 is set=5.361959787147869, reg_alpha=0.0 will be ignored. Current value: lambda_l1=5.361959787147869\n",
      "[LightGBM] [Warning] lambda_l2 is set=2.3099452006353216, reg_lambda=0.0 will be ignored. Current value: lambda_l2=2.3099452006353216\n",
      "[LightGBM] [Info] Total Bins 85015\n",
      "[LightGBM] [Info] Number of data points in the train set: 43199, number of used features: 395\n",
      "[LightGBM] [Info] Start training from score 5.909642\n"
     ]
    },
    {
     "name": "stderr",
     "output_type": "stream",
     "text": [
      "/Users/alexis/Projects/202502 Actuarial Loss Prediction/.env/lib/python3.10/site-packages/sklearn/utils/validation.py:2739: UserWarning: X does not have valid feature names, but LGBMRegressor was fitted with feature names\n",
      "  warnings.warn(\n"
     ]
    },
    {
     "name": "stdout",
     "output_type": "stream",
     "text": [
      "[LightGBM] [Warning] lambda_l1 is set=5.361959787147869, reg_alpha=0.0 will be ignored. Current value: lambda_l1=5.361959787147869\n",
      "[LightGBM] [Warning] lambda_l2 is set=2.3099452006353216, reg_lambda=0.0 will be ignored. Current value: lambda_l2=2.3099452006353216\n",
      "[LightGBM] [Warning] lambda_l1 is set=5.361959787147869, reg_alpha=0.0 will be ignored. Current value: lambda_l1=5.361959787147869\n",
      "[LightGBM] [Warning] lambda_l2 is set=2.3099452006353216, reg_lambda=0.0 will be ignored. Current value: lambda_l2=2.3099452006353216\n",
      "[LightGBM] [Warning] lambda_l1 is set=5.361959787147869, reg_alpha=0.0 will be ignored. Current value: lambda_l1=5.361959787147869\n",
      "[LightGBM] [Warning] lambda_l2 is set=2.3099452006353216, reg_lambda=0.0 will be ignored. Current value: lambda_l2=2.3099452006353216\n",
      "[LightGBM] [Info] Total Bins 85024\n",
      "[LightGBM] [Info] Number of data points in the train set: 43199, number of used features: 395\n",
      "[LightGBM] [Info] Start training from score 5.914034\n"
     ]
    },
    {
     "name": "stderr",
     "output_type": "stream",
     "text": [
      "/Users/alexis/Projects/202502 Actuarial Loss Prediction/.env/lib/python3.10/site-packages/sklearn/utils/validation.py:2739: UserWarning: X does not have valid feature names, but LGBMRegressor was fitted with feature names\n",
      "  warnings.warn(\n"
     ]
    },
    {
     "name": "stdout",
     "output_type": "stream",
     "text": [
      "[LightGBM] [Warning] lambda_l1 is set=5.361959787147869, reg_alpha=0.0 will be ignored. Current value: lambda_l1=5.361959787147869\n",
      "[LightGBM] [Warning] lambda_l2 is set=2.3099452006353216, reg_lambda=0.0 will be ignored. Current value: lambda_l2=2.3099452006353216\n",
      "[LightGBM] [Warning] lambda_l1 is set=5.361959787147869, reg_alpha=0.0 will be ignored. Current value: lambda_l1=5.361959787147869\n",
      "[LightGBM] [Warning] lambda_l2 is set=2.3099452006353216, reg_lambda=0.0 will be ignored. Current value: lambda_l2=2.3099452006353216\n",
      "[LightGBM] [Warning] lambda_l1 is set=5.361959787147869, reg_alpha=0.0 will be ignored. Current value: lambda_l1=5.361959787147869\n",
      "[LightGBM] [Warning] lambda_l2 is set=2.3099452006353216, reg_lambda=0.0 will be ignored. Current value: lambda_l2=2.3099452006353216\n",
      "[LightGBM] [Info] Total Bins 85026\n",
      "[LightGBM] [Info] Number of data points in the train set: 43199, number of used features: 395\n",
      "[LightGBM] [Info] Start training from score 5.945550\n"
     ]
    },
    {
     "name": "stderr",
     "output_type": "stream",
     "text": [
      "/Users/alexis/Projects/202502 Actuarial Loss Prediction/.env/lib/python3.10/site-packages/sklearn/utils/validation.py:2739: UserWarning: X does not have valid feature names, but LGBMRegressor was fitted with feature names\n",
      "  warnings.warn(\n"
     ]
    },
    {
     "name": "stdout",
     "output_type": "stream",
     "text": [
      "[LightGBM] [Warning] lambda_l1 is set=5.361959787147869, reg_alpha=0.0 will be ignored. Current value: lambda_l1=5.361959787147869\n",
      "[LightGBM] [Warning] lambda_l2 is set=2.3099452006353216, reg_lambda=0.0 will be ignored. Current value: lambda_l2=2.3099452006353216\n",
      "[LightGBM] [Warning] lambda_l1 is set=5.361959787147869, reg_alpha=0.0 will be ignored. Current value: lambda_l1=5.361959787147869\n",
      "[LightGBM] [Warning] lambda_l2 is set=2.3099452006353216, reg_lambda=0.0 will be ignored. Current value: lambda_l2=2.3099452006353216\n",
      "[LightGBM] [Warning] lambda_l1 is set=5.361959787147869, reg_alpha=0.0 will be ignored. Current value: lambda_l1=5.361959787147869\n",
      "[LightGBM] [Warning] lambda_l2 is set=2.3099452006353216, reg_lambda=0.0 will be ignored. Current value: lambda_l2=2.3099452006353216\n",
      "[LightGBM] [Info] Total Bins 85029\n",
      "[LightGBM] [Info] Number of data points in the train set: 43199, number of used features: 395\n",
      "[LightGBM] [Info] Start training from score 5.959808\n"
     ]
    },
    {
     "name": "stderr",
     "output_type": "stream",
     "text": [
      "/Users/alexis/Projects/202502 Actuarial Loss Prediction/.env/lib/python3.10/site-packages/sklearn/utils/validation.py:2739: UserWarning: X does not have valid feature names, but LGBMRegressor was fitted with feature names\n",
      "  warnings.warn(\n"
     ]
    },
    {
     "name": "stdout",
     "output_type": "stream",
     "text": [
      "[LightGBM] [Warning] lambda_l1 is set=5.361959787147869, reg_alpha=0.0 will be ignored. Current value: lambda_l1=5.361959787147869\n",
      "[LightGBM] [Warning] lambda_l2 is set=2.3099452006353216, reg_lambda=0.0 will be ignored. Current value: lambda_l2=2.3099452006353216\n",
      "[LightGBM] [Warning] lambda_l1 is set=5.361959787147869, reg_alpha=0.0 will be ignored. Current value: lambda_l1=5.361959787147869\n",
      "[LightGBM] [Warning] lambda_l2 is set=2.3099452006353216, reg_lambda=0.0 will be ignored. Current value: lambda_l2=2.3099452006353216\n",
      "[LightGBM] [Warning] lambda_l1 is set=5.361959787147869, reg_alpha=0.0 will be ignored. Current value: lambda_l1=5.361959787147869\n",
      "[LightGBM] [Warning] lambda_l2 is set=2.3099452006353216, reg_lambda=0.0 will be ignored. Current value: lambda_l2=2.3099452006353216\n",
      "[LightGBM] [Info] Total Bins 85028\n",
      "[LightGBM] [Info] Number of data points in the train set: 43200, number of used features: 395\n",
      "[LightGBM] [Info] Start training from score 5.940370\n"
     ]
    },
    {
     "name": "stderr",
     "output_type": "stream",
     "text": [
      "/Users/alexis/Projects/202502 Actuarial Loss Prediction/.env/lib/python3.10/site-packages/sklearn/utils/validation.py:2739: UserWarning: X does not have valid feature names, but LGBMRegressor was fitted with feature names\n",
      "  warnings.warn(\n",
      "[I 2025-03-02 18:45:44,159] Trial 4 finished with value: 24002.079542376265 and parameters: {'max_depth': 12, 'learning_rate': 0.21714970630665492, 'n_estimators': 600, 'min_child_weight': 15, 'subsample': 0.669960692599745, 'colsample_bytree': 0.9832036320114681, 'lambda_l1': 5.361959787147869, 'lambda_l2': 2.3099452006353216}. Best is trial 3 with value: 23924.15147951742.\n"
     ]
    },
    {
     "name": "stdout",
     "output_type": "stream",
     "text": [
      "[LightGBM] [Warning] lambda_l1 is set=5.361959787147869, reg_alpha=0.0 will be ignored. Current value: lambda_l1=5.361959787147869\n",
      "[LightGBM] [Warning] lambda_l2 is set=2.3099452006353216, reg_lambda=0.0 will be ignored. Current value: lambda_l2=2.3099452006353216\n",
      "RMSE Overall:  24002.080 | MAE: 5841.156\n",
      "RMSE for low y_true (<= 100k): 9904.804 | MAE: 3496.098\n",
      "RMSE for high y_true (> 100k): 163006.644 | MAE: 133373.867\n",
      "[LightGBM] [Warning] lambda_l1 is set=0.42213821897392423, reg_alpha=0.0 will be ignored. Current value: lambda_l1=0.42213821897392423\n",
      "[LightGBM] [Warning] lambda_l2 is set=7.850669836868018, reg_lambda=0.0 will be ignored. Current value: lambda_l2=7.850669836868018\n",
      "[LightGBM] [Warning] lambda_l1 is set=0.42213821897392423, reg_alpha=0.0 will be ignored. Current value: lambda_l1=0.42213821897392423\n",
      "[LightGBM] [Warning] lambda_l2 is set=7.850669836868018, reg_lambda=0.0 will be ignored. Current value: lambda_l2=7.850669836868018\n",
      "[LightGBM] [Info] Total Bins 85015\n",
      "[LightGBM] [Info] Number of data points in the train set: 43199, number of used features: 395\n",
      "[LightGBM] [Info] Start training from score 5.909642\n"
     ]
    },
    {
     "name": "stderr",
     "output_type": "stream",
     "text": [
      "/Users/alexis/Projects/202502 Actuarial Loss Prediction/.env/lib/python3.10/site-packages/sklearn/utils/validation.py:2739: UserWarning: X does not have valid feature names, but LGBMRegressor was fitted with feature names\n",
      "  warnings.warn(\n"
     ]
    },
    {
     "name": "stdout",
     "output_type": "stream",
     "text": [
      "[LightGBM] [Warning] lambda_l1 is set=0.42213821897392423, reg_alpha=0.0 will be ignored. Current value: lambda_l1=0.42213821897392423\n",
      "[LightGBM] [Warning] lambda_l2 is set=7.850669836868018, reg_lambda=0.0 will be ignored. Current value: lambda_l2=7.850669836868018\n",
      "[LightGBM] [Warning] lambda_l1 is set=0.42213821897392423, reg_alpha=0.0 will be ignored. Current value: lambda_l1=0.42213821897392423\n",
      "[LightGBM] [Warning] lambda_l2 is set=7.850669836868018, reg_lambda=0.0 will be ignored. Current value: lambda_l2=7.850669836868018\n",
      "[LightGBM] [Warning] lambda_l1 is set=0.42213821897392423, reg_alpha=0.0 will be ignored. Current value: lambda_l1=0.42213821897392423\n",
      "[LightGBM] [Warning] lambda_l2 is set=7.850669836868018, reg_lambda=0.0 will be ignored. Current value: lambda_l2=7.850669836868018\n",
      "[LightGBM] [Info] Total Bins 85024\n",
      "[LightGBM] [Info] Number of data points in the train set: 43199, number of used features: 395\n",
      "[LightGBM] [Info] Start training from score 5.914034\n"
     ]
    },
    {
     "name": "stderr",
     "output_type": "stream",
     "text": [
      "/Users/alexis/Projects/202502 Actuarial Loss Prediction/.env/lib/python3.10/site-packages/sklearn/utils/validation.py:2739: UserWarning: X does not have valid feature names, but LGBMRegressor was fitted with feature names\n",
      "  warnings.warn(\n"
     ]
    },
    {
     "name": "stdout",
     "output_type": "stream",
     "text": [
      "[LightGBM] [Warning] lambda_l1 is set=0.42213821897392423, reg_alpha=0.0 will be ignored. Current value: lambda_l1=0.42213821897392423\n",
      "[LightGBM] [Warning] lambda_l2 is set=7.850669836868018, reg_lambda=0.0 will be ignored. Current value: lambda_l2=7.850669836868018\n",
      "[LightGBM] [Warning] lambda_l1 is set=0.42213821897392423, reg_alpha=0.0 will be ignored. Current value: lambda_l1=0.42213821897392423\n",
      "[LightGBM] [Warning] lambda_l2 is set=7.850669836868018, reg_lambda=0.0 will be ignored. Current value: lambda_l2=7.850669836868018\n",
      "[LightGBM] [Warning] lambda_l1 is set=0.42213821897392423, reg_alpha=0.0 will be ignored. Current value: lambda_l1=0.42213821897392423\n",
      "[LightGBM] [Warning] lambda_l2 is set=7.850669836868018, reg_lambda=0.0 will be ignored. Current value: lambda_l2=7.850669836868018\n",
      "[LightGBM] [Info] Total Bins 85026\n",
      "[LightGBM] [Info] Number of data points in the train set: 43199, number of used features: 395\n",
      "[LightGBM] [Info] Start training from score 5.945550\n"
     ]
    },
    {
     "name": "stderr",
     "output_type": "stream",
     "text": [
      "/Users/alexis/Projects/202502 Actuarial Loss Prediction/.env/lib/python3.10/site-packages/sklearn/utils/validation.py:2739: UserWarning: X does not have valid feature names, but LGBMRegressor was fitted with feature names\n",
      "  warnings.warn(\n"
     ]
    },
    {
     "name": "stdout",
     "output_type": "stream",
     "text": [
      "[LightGBM] [Warning] lambda_l1 is set=0.42213821897392423, reg_alpha=0.0 will be ignored. Current value: lambda_l1=0.42213821897392423\n",
      "[LightGBM] [Warning] lambda_l2 is set=7.850669836868018, reg_lambda=0.0 will be ignored. Current value: lambda_l2=7.850669836868018\n",
      "[LightGBM] [Warning] lambda_l1 is set=0.42213821897392423, reg_alpha=0.0 will be ignored. Current value: lambda_l1=0.42213821897392423\n",
      "[LightGBM] [Warning] lambda_l2 is set=7.850669836868018, reg_lambda=0.0 will be ignored. Current value: lambda_l2=7.850669836868018\n",
      "[LightGBM] [Warning] lambda_l1 is set=0.42213821897392423, reg_alpha=0.0 will be ignored. Current value: lambda_l1=0.42213821897392423\n",
      "[LightGBM] [Warning] lambda_l2 is set=7.850669836868018, reg_lambda=0.0 will be ignored. Current value: lambda_l2=7.850669836868018\n",
      "[LightGBM] [Info] Total Bins 85029\n",
      "[LightGBM] [Info] Number of data points in the train set: 43199, number of used features: 395\n",
      "[LightGBM] [Info] Start training from score 5.959808\n"
     ]
    },
    {
     "name": "stderr",
     "output_type": "stream",
     "text": [
      "/Users/alexis/Projects/202502 Actuarial Loss Prediction/.env/lib/python3.10/site-packages/sklearn/utils/validation.py:2739: UserWarning: X does not have valid feature names, but LGBMRegressor was fitted with feature names\n",
      "  warnings.warn(\n"
     ]
    },
    {
     "name": "stdout",
     "output_type": "stream",
     "text": [
      "[LightGBM] [Warning] lambda_l1 is set=0.42213821897392423, reg_alpha=0.0 will be ignored. Current value: lambda_l1=0.42213821897392423\n",
      "[LightGBM] [Warning] lambda_l2 is set=7.850669836868018, reg_lambda=0.0 will be ignored. Current value: lambda_l2=7.850669836868018\n",
      "[LightGBM] [Warning] lambda_l1 is set=0.42213821897392423, reg_alpha=0.0 will be ignored. Current value: lambda_l1=0.42213821897392423\n",
      "[LightGBM] [Warning] lambda_l2 is set=7.850669836868018, reg_lambda=0.0 will be ignored. Current value: lambda_l2=7.850669836868018\n",
      "[LightGBM] [Warning] lambda_l1 is set=0.42213821897392423, reg_alpha=0.0 will be ignored. Current value: lambda_l1=0.42213821897392423\n",
      "[LightGBM] [Warning] lambda_l2 is set=7.850669836868018, reg_lambda=0.0 will be ignored. Current value: lambda_l2=7.850669836868018\n",
      "[LightGBM] [Info] Total Bins 85028\n",
      "[LightGBM] [Info] Number of data points in the train set: 43200, number of used features: 395\n",
      "[LightGBM] [Info] Start training from score 5.940370\n"
     ]
    },
    {
     "name": "stderr",
     "output_type": "stream",
     "text": [
      "/Users/alexis/Projects/202502 Actuarial Loss Prediction/.env/lib/python3.10/site-packages/sklearn/utils/validation.py:2739: UserWarning: X does not have valid feature names, but LGBMRegressor was fitted with feature names\n",
      "  warnings.warn(\n",
      "[I 2025-03-02 18:46:03,331] Trial 5 finished with value: 23862.926693452253 and parameters: {'max_depth': 10, 'learning_rate': 0.09590855249809059, 'n_estimators': 200, 'min_child_weight': 5, 'subsample': 0.7165726002125996, 'colsample_bytree': 0.9960603943441494, 'lambda_l1': 0.42213821897392423, 'lambda_l2': 7.850669836868018}. Best is trial 5 with value: 23862.926693452253.\n"
     ]
    },
    {
     "name": "stdout",
     "output_type": "stream",
     "text": [
      "[LightGBM] [Warning] lambda_l1 is set=0.42213821897392423, reg_alpha=0.0 will be ignored. Current value: lambda_l1=0.42213821897392423\n",
      "[LightGBM] [Warning] lambda_l2 is set=7.850669836868018, reg_lambda=0.0 will be ignored. Current value: lambda_l2=7.850669836868018\n",
      "RMSE Overall:  23862.927 | MAE: 5603.022\n",
      "RMSE for low y_true (<= 100k): 9304.513 | MAE: 3231.245\n",
      "RMSE for high y_true (> 100k): 163796.788 | MAE: 134588.757\n",
      "[LightGBM] [Warning] lambda_l1 is set=7.125593924827976, reg_alpha=0.0 will be ignored. Current value: lambda_l1=7.125593924827976\n",
      "[LightGBM] [Warning] lambda_l2 is set=6.59842307278784, reg_lambda=0.0 will be ignored. Current value: lambda_l2=6.59842307278784\n",
      "[LightGBM] [Warning] lambda_l1 is set=7.125593924827976, reg_alpha=0.0 will be ignored. Current value: lambda_l1=7.125593924827976\n",
      "[LightGBM] [Warning] lambda_l2 is set=6.59842307278784, reg_lambda=0.0 will be ignored. Current value: lambda_l2=6.59842307278784\n",
      "[LightGBM] [Info] Total Bins 85015\n",
      "[LightGBM] [Info] Number of data points in the train set: 43199, number of used features: 395\n",
      "[LightGBM] [Info] Start training from score 5.909642\n"
     ]
    },
    {
     "name": "stderr",
     "output_type": "stream",
     "text": [
      "/Users/alexis/Projects/202502 Actuarial Loss Prediction/.env/lib/python3.10/site-packages/sklearn/utils/validation.py:2739: UserWarning: X does not have valid feature names, but LGBMRegressor was fitted with feature names\n",
      "  warnings.warn(\n"
     ]
    },
    {
     "name": "stdout",
     "output_type": "stream",
     "text": [
      "[LightGBM] [Warning] lambda_l1 is set=7.125593924827976, reg_alpha=0.0 will be ignored. Current value: lambda_l1=7.125593924827976\n",
      "[LightGBM] [Warning] lambda_l2 is set=6.59842307278784, reg_lambda=0.0 will be ignored. Current value: lambda_l2=6.59842307278784\n",
      "[LightGBM] [Warning] lambda_l1 is set=7.125593924827976, reg_alpha=0.0 will be ignored. Current value: lambda_l1=7.125593924827976\n",
      "[LightGBM] [Warning] lambda_l2 is set=6.59842307278784, reg_lambda=0.0 will be ignored. Current value: lambda_l2=6.59842307278784\n",
      "[LightGBM] [Warning] lambda_l1 is set=7.125593924827976, reg_alpha=0.0 will be ignored. Current value: lambda_l1=7.125593924827976\n",
      "[LightGBM] [Warning] lambda_l2 is set=6.59842307278784, reg_lambda=0.0 will be ignored. Current value: lambda_l2=6.59842307278784\n",
      "[LightGBM] [Info] Total Bins 85024\n",
      "[LightGBM] [Info] Number of data points in the train set: 43199, number of used features: 395\n",
      "[LightGBM] [Info] Start training from score 5.914034\n"
     ]
    },
    {
     "name": "stderr",
     "output_type": "stream",
     "text": [
      "/Users/alexis/Projects/202502 Actuarial Loss Prediction/.env/lib/python3.10/site-packages/sklearn/utils/validation.py:2739: UserWarning: X does not have valid feature names, but LGBMRegressor was fitted with feature names\n",
      "  warnings.warn(\n"
     ]
    },
    {
     "name": "stdout",
     "output_type": "stream",
     "text": [
      "[LightGBM] [Warning] lambda_l1 is set=7.125593924827976, reg_alpha=0.0 will be ignored. Current value: lambda_l1=7.125593924827976\n",
      "[LightGBM] [Warning] lambda_l2 is set=6.59842307278784, reg_lambda=0.0 will be ignored. Current value: lambda_l2=6.59842307278784\n",
      "[LightGBM] [Warning] lambda_l1 is set=7.125593924827976, reg_alpha=0.0 will be ignored. Current value: lambda_l1=7.125593924827976\n",
      "[LightGBM] [Warning] lambda_l2 is set=6.59842307278784, reg_lambda=0.0 will be ignored. Current value: lambda_l2=6.59842307278784\n",
      "[LightGBM] [Warning] lambda_l1 is set=7.125593924827976, reg_alpha=0.0 will be ignored. Current value: lambda_l1=7.125593924827976\n",
      "[LightGBM] [Warning] lambda_l2 is set=6.59842307278784, reg_lambda=0.0 will be ignored. Current value: lambda_l2=6.59842307278784\n",
      "[LightGBM] [Info] Total Bins 85026\n",
      "[LightGBM] [Info] Number of data points in the train set: 43199, number of used features: 395\n",
      "[LightGBM] [Info] Start training from score 5.945550\n"
     ]
    },
    {
     "name": "stderr",
     "output_type": "stream",
     "text": [
      "/Users/alexis/Projects/202502 Actuarial Loss Prediction/.env/lib/python3.10/site-packages/sklearn/utils/validation.py:2739: UserWarning: X does not have valid feature names, but LGBMRegressor was fitted with feature names\n",
      "  warnings.warn(\n"
     ]
    },
    {
     "name": "stdout",
     "output_type": "stream",
     "text": [
      "[LightGBM] [Warning] lambda_l1 is set=7.125593924827976, reg_alpha=0.0 will be ignored. Current value: lambda_l1=7.125593924827976\n",
      "[LightGBM] [Warning] lambda_l2 is set=6.59842307278784, reg_lambda=0.0 will be ignored. Current value: lambda_l2=6.59842307278784\n",
      "[LightGBM] [Warning] lambda_l1 is set=7.125593924827976, reg_alpha=0.0 will be ignored. Current value: lambda_l1=7.125593924827976\n",
      "[LightGBM] [Warning] lambda_l2 is set=6.59842307278784, reg_lambda=0.0 will be ignored. Current value: lambda_l2=6.59842307278784\n",
      "[LightGBM] [Warning] lambda_l1 is set=7.125593924827976, reg_alpha=0.0 will be ignored. Current value: lambda_l1=7.125593924827976\n",
      "[LightGBM] [Warning] lambda_l2 is set=6.59842307278784, reg_lambda=0.0 will be ignored. Current value: lambda_l2=6.59842307278784\n",
      "[LightGBM] [Info] Total Bins 85029\n",
      "[LightGBM] [Info] Number of data points in the train set: 43199, number of used features: 395\n",
      "[LightGBM] [Info] Start training from score 5.959808\n"
     ]
    },
    {
     "name": "stderr",
     "output_type": "stream",
     "text": [
      "/Users/alexis/Projects/202502 Actuarial Loss Prediction/.env/lib/python3.10/site-packages/sklearn/utils/validation.py:2739: UserWarning: X does not have valid feature names, but LGBMRegressor was fitted with feature names\n",
      "  warnings.warn(\n"
     ]
    },
    {
     "name": "stdout",
     "output_type": "stream",
     "text": [
      "[LightGBM] [Warning] lambda_l1 is set=7.125593924827976, reg_alpha=0.0 will be ignored. Current value: lambda_l1=7.125593924827976\n",
      "[LightGBM] [Warning] lambda_l2 is set=6.59842307278784, reg_lambda=0.0 will be ignored. Current value: lambda_l2=6.59842307278784\n",
      "[LightGBM] [Warning] lambda_l1 is set=7.125593924827976, reg_alpha=0.0 will be ignored. Current value: lambda_l1=7.125593924827976\n",
      "[LightGBM] [Warning] lambda_l2 is set=6.59842307278784, reg_lambda=0.0 will be ignored. Current value: lambda_l2=6.59842307278784\n",
      "[LightGBM] [Warning] lambda_l1 is set=7.125593924827976, reg_alpha=0.0 will be ignored. Current value: lambda_l1=7.125593924827976\n",
      "[LightGBM] [Warning] lambda_l2 is set=6.59842307278784, reg_lambda=0.0 will be ignored. Current value: lambda_l2=6.59842307278784\n",
      "[LightGBM] [Info] Total Bins 85028\n",
      "[LightGBM] [Info] Number of data points in the train set: 43200, number of used features: 395\n",
      "[LightGBM] [Info] Start training from score 5.940370\n"
     ]
    },
    {
     "name": "stderr",
     "output_type": "stream",
     "text": [
      "/Users/alexis/Projects/202502 Actuarial Loss Prediction/.env/lib/python3.10/site-packages/sklearn/utils/validation.py:2739: UserWarning: X does not have valid feature names, but LGBMRegressor was fitted with feature names\n",
      "  warnings.warn(\n",
      "[I 2025-03-02 18:46:56,757] Trial 6 finished with value: 24007.836997327573 and parameters: {'max_depth': 9, 'learning_rate': 0.11503972896145787, 'n_estimators': 1000, 'min_child_weight': 19, 'subsample': 0.6031092390991818, 'colsample_bytree': 0.5086492039038086, 'lambda_l1': 7.125593924827976, 'lambda_l2': 6.59842307278784}. Best is trial 5 with value: 23862.926693452253.\n"
     ]
    },
    {
     "name": "stdout",
     "output_type": "stream",
     "text": [
      "[LightGBM] [Warning] lambda_l1 is set=7.125593924827976, reg_alpha=0.0 will be ignored. Current value: lambda_l1=7.125593924827976\n",
      "[LightGBM] [Warning] lambda_l2 is set=6.59842307278784, reg_lambda=0.0 will be ignored. Current value: lambda_l2=6.59842307278784\n",
      "RMSE Overall:  24007.837 | MAE: 5803.550\n",
      "RMSE for low y_true (<= 100k): 9913.107 | MAE: 3456.893\n",
      "RMSE for high y_true (> 100k): 163026.152 | MAE: 133423.179\n",
      "[LightGBM] [Warning] lambda_l1 is set=7.756439199344609, reg_alpha=0.0 will be ignored. Current value: lambda_l1=7.756439199344609\n",
      "[LightGBM] [Warning] lambda_l2 is set=7.779931227077293, reg_lambda=0.0 will be ignored. Current value: lambda_l2=7.779931227077293\n",
      "[LightGBM] [Warning] lambda_l1 is set=7.756439199344609, reg_alpha=0.0 will be ignored. Current value: lambda_l1=7.756439199344609\n",
      "[LightGBM] [Warning] lambda_l2 is set=7.779931227077293, reg_lambda=0.0 will be ignored. Current value: lambda_l2=7.779931227077293\n",
      "[LightGBM] [Info] Total Bins 85015\n",
      "[LightGBM] [Info] Number of data points in the train set: 43199, number of used features: 395\n",
      "[LightGBM] [Info] Start training from score 5.909642\n",
      "[LightGBM] [Warning] No further splits with positive gain, best gain: -inf\n",
      "[LightGBM] [Warning] No further splits with positive gain, best gain: -inf\n",
      "[LightGBM] [Warning] No further splits with positive gain, best gain: -inf\n",
      "[LightGBM] [Warning] No further splits with positive gain, best gain: -inf\n",
      "[LightGBM] [Warning] No further splits with positive gain, best gain: -inf\n",
      "[LightGBM] [Warning] No further splits with positive gain, best gain: -inf\n",
      "[LightGBM] [Warning] No further splits with positive gain, best gain: -inf\n",
      "[LightGBM] [Warning] No further splits with positive gain, best gain: -inf\n",
      "[LightGBM] [Warning] No further splits with positive gain, best gain: -inf\n",
      "[LightGBM] [Warning] No further splits with positive gain, best gain: -inf\n",
      "[LightGBM] [Warning] No further splits with positive gain, best gain: -inf\n",
      "[LightGBM] [Warning] No further splits with positive gain, best gain: -inf\n",
      "[LightGBM] [Warning] No further splits with positive gain, best gain: -inf\n",
      "[LightGBM] [Warning] No further splits with positive gain, best gain: -inf\n",
      "[LightGBM] [Warning] No further splits with positive gain, best gain: -inf\n",
      "[LightGBM] [Warning] No further splits with positive gain, best gain: -inf\n",
      "[LightGBM] [Warning] No further splits with positive gain, best gain: -inf\n",
      "[LightGBM] [Warning] No further splits with positive gain, best gain: -inf\n",
      "[LightGBM] [Warning] No further splits with positive gain, best gain: -inf\n",
      "[LightGBM] [Warning] No further splits with positive gain, best gain: -inf\n",
      "[LightGBM] [Warning] No further splits with positive gain, best gain: -inf\n",
      "[LightGBM] [Warning] No further splits with positive gain, best gain: -inf\n",
      "[LightGBM] [Warning] No further splits with positive gain, best gain: -inf\n",
      "[LightGBM] [Warning] No further splits with positive gain, best gain: -inf\n",
      "[LightGBM] [Warning] No further splits with positive gain, best gain: -inf\n",
      "[LightGBM] [Warning] No further splits with positive gain, best gain: -inf\n",
      "[LightGBM] [Warning] No further splits with positive gain, best gain: -inf\n",
      "[LightGBM] [Warning] No further splits with positive gain, best gain: -inf\n",
      "[LightGBM] [Warning] No further splits with positive gain, best gain: -inf\n",
      "[LightGBM] [Warning] No further splits with positive gain, best gain: -inf\n",
      "[LightGBM] [Warning] No further splits with positive gain, best gain: -inf\n",
      "[LightGBM] [Warning] No further splits with positive gain, best gain: -inf\n",
      "[LightGBM] [Warning] No further splits with positive gain, best gain: -inf\n",
      "[LightGBM] [Warning] No further splits with positive gain, best gain: -inf\n",
      "[LightGBM] [Warning] No further splits with positive gain, best gain: -inf\n",
      "[LightGBM] [Warning] No further splits with positive gain, best gain: -inf\n",
      "[LightGBM] [Warning] No further splits with positive gain, best gain: -inf\n",
      "[LightGBM] [Warning] No further splits with positive gain, best gain: -inf\n",
      "[LightGBM] [Warning] No further splits with positive gain, best gain: -inf\n",
      "[LightGBM] [Warning] No further splits with positive gain, best gain: -inf\n",
      "[LightGBM] [Warning] No further splits with positive gain, best gain: -inf\n",
      "[LightGBM] [Warning] No further splits with positive gain, best gain: -inf\n",
      "[LightGBM] [Warning] No further splits with positive gain, best gain: -inf\n",
      "[LightGBM] [Warning] No further splits with positive gain, best gain: -inf\n",
      "[LightGBM] [Warning] No further splits with positive gain, best gain: -inf\n",
      "[LightGBM] [Warning] No further splits with positive gain, best gain: -inf\n",
      "[LightGBM] [Warning] No further splits with positive gain, best gain: -inf\n",
      "[LightGBM] [Warning] No further splits with positive gain, best gain: -inf\n",
      "[LightGBM] [Warning] No further splits with positive gain, best gain: -inf\n",
      "[LightGBM] [Warning] No further splits with positive gain, best gain: -inf\n",
      "[LightGBM] [Warning] No further splits with positive gain, best gain: -inf\n",
      "[LightGBM] [Warning] No further splits with positive gain, best gain: -inf\n",
      "[LightGBM] [Warning] No further splits with positive gain, best gain: -inf\n",
      "[LightGBM] [Warning] No further splits with positive gain, best gain: -inf\n",
      "[LightGBM] [Warning] No further splits with positive gain, best gain: -inf\n",
      "[LightGBM] [Warning] No further splits with positive gain, best gain: -inf\n"
     ]
    },
    {
     "name": "stderr",
     "output_type": "stream",
     "text": [
      "/Users/alexis/Projects/202502 Actuarial Loss Prediction/.env/lib/python3.10/site-packages/sklearn/utils/validation.py:2739: UserWarning: X does not have valid feature names, but LGBMRegressor was fitted with feature names\n",
      "  warnings.warn(\n"
     ]
    },
    {
     "name": "stdout",
     "output_type": "stream",
     "text": [
      "[LightGBM] [Warning] lambda_l1 is set=7.756439199344609, reg_alpha=0.0 will be ignored. Current value: lambda_l1=7.756439199344609\n",
      "[LightGBM] [Warning] lambda_l2 is set=7.779931227077293, reg_lambda=0.0 will be ignored. Current value: lambda_l2=7.779931227077293\n",
      "[LightGBM] [Warning] lambda_l1 is set=7.756439199344609, reg_alpha=0.0 will be ignored. Current value: lambda_l1=7.756439199344609\n",
      "[LightGBM] [Warning] lambda_l2 is set=7.779931227077293, reg_lambda=0.0 will be ignored. Current value: lambda_l2=7.779931227077293\n",
      "[LightGBM] [Warning] lambda_l1 is set=7.756439199344609, reg_alpha=0.0 will be ignored. Current value: lambda_l1=7.756439199344609\n",
      "[LightGBM] [Warning] lambda_l2 is set=7.779931227077293, reg_lambda=0.0 will be ignored. Current value: lambda_l2=7.779931227077293\n",
      "[LightGBM] [Info] Total Bins 85024\n",
      "[LightGBM] [Info] Number of data points in the train set: 43199, number of used features: 395\n",
      "[LightGBM] [Info] Start training from score 5.914034\n",
      "[LightGBM] [Warning] No further splits with positive gain, best gain: -inf\n",
      "[LightGBM] [Warning] No further splits with positive gain, best gain: -inf\n",
      "[LightGBM] [Warning] No further splits with positive gain, best gain: -inf\n",
      "[LightGBM] [Warning] No further splits with positive gain, best gain: -inf\n",
      "[LightGBM] [Warning] No further splits with positive gain, best gain: -inf\n",
      "[LightGBM] [Warning] No further splits with positive gain, best gain: -inf\n",
      "[LightGBM] [Warning] No further splits with positive gain, best gain: -inf\n",
      "[LightGBM] [Warning] No further splits with positive gain, best gain: -inf\n",
      "[LightGBM] [Warning] No further splits with positive gain, best gain: -inf\n",
      "[LightGBM] [Warning] No further splits with positive gain, best gain: -inf\n",
      "[LightGBM] [Warning] No further splits with positive gain, best gain: -inf\n",
      "[LightGBM] [Warning] No further splits with positive gain, best gain: -inf\n",
      "[LightGBM] [Warning] No further splits with positive gain, best gain: -inf\n",
      "[LightGBM] [Warning] No further splits with positive gain, best gain: -inf\n",
      "[LightGBM] [Warning] No further splits with positive gain, best gain: -inf\n",
      "[LightGBM] [Warning] No further splits with positive gain, best gain: -inf\n",
      "[LightGBM] [Warning] No further splits with positive gain, best gain: -inf\n",
      "[LightGBM] [Warning] No further splits with positive gain, best gain: -inf\n",
      "[LightGBM] [Warning] No further splits with positive gain, best gain: -inf\n",
      "[LightGBM] [Warning] No further splits with positive gain, best gain: -inf\n",
      "[LightGBM] [Warning] No further splits with positive gain, best gain: -inf\n",
      "[LightGBM] [Warning] No further splits with positive gain, best gain: -inf\n",
      "[LightGBM] [Warning] No further splits with positive gain, best gain: -inf\n",
      "[LightGBM] [Warning] No further splits with positive gain, best gain: -inf\n",
      "[LightGBM] [Warning] No further splits with positive gain, best gain: -inf\n",
      "[LightGBM] [Warning] No further splits with positive gain, best gain: -inf\n",
      "[LightGBM] [Warning] No further splits with positive gain, best gain: -inf\n",
      "[LightGBM] [Warning] No further splits with positive gain, best gain: -inf\n",
      "[LightGBM] [Warning] No further splits with positive gain, best gain: -inf\n",
      "[LightGBM] [Warning] No further splits with positive gain, best gain: -inf\n",
      "[LightGBM] [Warning] No further splits with positive gain, best gain: -inf\n",
      "[LightGBM] [Warning] No further splits with positive gain, best gain: -inf\n",
      "[LightGBM] [Warning] No further splits with positive gain, best gain: -inf\n",
      "[LightGBM] [Warning] No further splits with positive gain, best gain: -inf\n",
      "[LightGBM] [Warning] No further splits with positive gain, best gain: -inf\n",
      "[LightGBM] [Warning] No further splits with positive gain, best gain: -inf\n",
      "[LightGBM] [Warning] No further splits with positive gain, best gain: -inf\n",
      "[LightGBM] [Warning] No further splits with positive gain, best gain: -inf\n",
      "[LightGBM] [Warning] No further splits with positive gain, best gain: -inf\n",
      "[LightGBM] [Warning] No further splits with positive gain, best gain: -inf\n",
      "[LightGBM] [Warning] No further splits with positive gain, best gain: -inf\n",
      "[LightGBM] [Warning] No further splits with positive gain, best gain: -inf\n",
      "[LightGBM] [Warning] No further splits with positive gain, best gain: -inf\n",
      "[LightGBM] [Warning] No further splits with positive gain, best gain: -inf\n",
      "[LightGBM] [Warning] No further splits with positive gain, best gain: -inf\n",
      "[LightGBM] [Warning] No further splits with positive gain, best gain: -inf\n",
      "[LightGBM] [Warning] No further splits with positive gain, best gain: -inf\n",
      "[LightGBM] [Warning] No further splits with positive gain, best gain: -inf\n",
      "[LightGBM] [Warning] No further splits with positive gain, best gain: -inf\n",
      "[LightGBM] [Warning] No further splits with positive gain, best gain: -inf\n",
      "[LightGBM] [Warning] No further splits with positive gain, best gain: -inf\n",
      "[LightGBM] [Warning] No further splits with positive gain, best gain: -inf\n",
      "[LightGBM] [Warning] No further splits with positive gain, best gain: -inf\n",
      "[LightGBM] [Warning] No further splits with positive gain, best gain: -inf\n",
      "[LightGBM] [Warning] No further splits with positive gain, best gain: -inf\n",
      "[LightGBM] [Warning] lambda_l1 is set=7.756439199344609, reg_alpha=0.0 will be ignored. Current value: lambda_l1=7.756439199344609\n",
      "[LightGBM] [Warning] lambda_l2 is set=7.779931227077293, reg_lambda=0.0 will be ignored. Current value: lambda_l2=7.779931227077293\n"
     ]
    },
    {
     "name": "stderr",
     "output_type": "stream",
     "text": [
      "/Users/alexis/Projects/202502 Actuarial Loss Prediction/.env/lib/python3.10/site-packages/sklearn/utils/validation.py:2739: UserWarning: X does not have valid feature names, but LGBMRegressor was fitted with feature names\n",
      "  warnings.warn(\n"
     ]
    },
    {
     "name": "stdout",
     "output_type": "stream",
     "text": [
      "[LightGBM] [Warning] lambda_l1 is set=7.756439199344609, reg_alpha=0.0 will be ignored. Current value: lambda_l1=7.756439199344609\n",
      "[LightGBM] [Warning] lambda_l2 is set=7.779931227077293, reg_lambda=0.0 will be ignored. Current value: lambda_l2=7.779931227077293\n",
      "[LightGBM] [Warning] lambda_l1 is set=7.756439199344609, reg_alpha=0.0 will be ignored. Current value: lambda_l1=7.756439199344609\n",
      "[LightGBM] [Warning] lambda_l2 is set=7.779931227077293, reg_lambda=0.0 will be ignored. Current value: lambda_l2=7.779931227077293\n",
      "[LightGBM] [Info] Total Bins 85026\n",
      "[LightGBM] [Info] Number of data points in the train set: 43199, number of used features: 395\n",
      "[LightGBM] [Info] Start training from score 5.945550\n",
      "[LightGBM] [Warning] No further splits with positive gain, best gain: -inf\n",
      "[LightGBM] [Warning] No further splits with positive gain, best gain: -inf\n",
      "[LightGBM] [Warning] No further splits with positive gain, best gain: -inf\n",
      "[LightGBM] [Warning] No further splits with positive gain, best gain: -inf\n",
      "[LightGBM] [Warning] No further splits with positive gain, best gain: -inf\n",
      "[LightGBM] [Warning] No further splits with positive gain, best gain: -inf\n",
      "[LightGBM] [Warning] No further splits with positive gain, best gain: -inf\n",
      "[LightGBM] [Warning] No further splits with positive gain, best gain: -inf\n",
      "[LightGBM] [Warning] No further splits with positive gain, best gain: -inf\n",
      "[LightGBM] [Warning] No further splits with positive gain, best gain: -inf\n",
      "[LightGBM] [Warning] No further splits with positive gain, best gain: -inf\n",
      "[LightGBM] [Warning] No further splits with positive gain, best gain: -inf\n",
      "[LightGBM] [Warning] No further splits with positive gain, best gain: -inf\n",
      "[LightGBM] [Warning] No further splits with positive gain, best gain: -inf\n",
      "[LightGBM] [Warning] No further splits with positive gain, best gain: -inf\n",
      "[LightGBM] [Warning] No further splits with positive gain, best gain: -inf\n",
      "[LightGBM] [Warning] No further splits with positive gain, best gain: -inf\n",
      "[LightGBM] [Warning] No further splits with positive gain, best gain: -inf\n",
      "[LightGBM] [Warning] No further splits with positive gain, best gain: -inf\n",
      "[LightGBM] [Warning] No further splits with positive gain, best gain: -inf\n",
      "[LightGBM] [Warning] No further splits with positive gain, best gain: -inf\n",
      "[LightGBM] [Warning] No further splits with positive gain, best gain: -inf\n",
      "[LightGBM] [Warning] No further splits with positive gain, best gain: -inf\n",
      "[LightGBM] [Warning] No further splits with positive gain, best gain: -inf\n",
      "[LightGBM] [Warning] No further splits with positive gain, best gain: -inf\n",
      "[LightGBM] [Warning] No further splits with positive gain, best gain: -inf\n",
      "[LightGBM] [Warning] No further splits with positive gain, best gain: -inf\n",
      "[LightGBM] [Warning] No further splits with positive gain, best gain: -inf\n",
      "[LightGBM] [Warning] No further splits with positive gain, best gain: -inf\n",
      "[LightGBM] [Warning] No further splits with positive gain, best gain: -inf\n",
      "[LightGBM] [Warning] No further splits with positive gain, best gain: -inf\n",
      "[LightGBM] [Warning] No further splits with positive gain, best gain: -inf\n",
      "[LightGBM] [Warning] No further splits with positive gain, best gain: -inf\n",
      "[LightGBM] [Warning] No further splits with positive gain, best gain: -inf\n",
      "[LightGBM] [Warning] No further splits with positive gain, best gain: -inf\n",
      "[LightGBM] [Warning] No further splits with positive gain, best gain: -inf\n",
      "[LightGBM] [Warning] No further splits with positive gain, best gain: -inf\n",
      "[LightGBM] [Warning] No further splits with positive gain, best gain: -inf\n",
      "[LightGBM] [Warning] No further splits with positive gain, best gain: -inf\n",
      "[LightGBM] [Warning] No further splits with positive gain, best gain: -inf\n",
      "[LightGBM] [Warning] No further splits with positive gain, best gain: -inf\n",
      "[LightGBM] [Warning] No further splits with positive gain, best gain: -inf\n",
      "[LightGBM] [Warning] No further splits with positive gain, best gain: -inf\n",
      "[LightGBM] [Warning] No further splits with positive gain, best gain: -inf\n",
      "[LightGBM] [Warning] No further splits with positive gain, best gain: -inf\n",
      "[LightGBM] [Warning] No further splits with positive gain, best gain: -inf\n",
      "[LightGBM] [Warning] No further splits with positive gain, best gain: -inf\n",
      "[LightGBM] [Warning] No further splits with positive gain, best gain: -inf\n",
      "[LightGBM] [Warning] No further splits with positive gain, best gain: -inf\n",
      "[LightGBM] [Warning] No further splits with positive gain, best gain: -inf\n",
      "[LightGBM] [Warning] No further splits with positive gain, best gain: -inf\n",
      "[LightGBM] [Warning] No further splits with positive gain, best gain: -inf\n"
     ]
    },
    {
     "name": "stderr",
     "output_type": "stream",
     "text": [
      "/Users/alexis/Projects/202502 Actuarial Loss Prediction/.env/lib/python3.10/site-packages/sklearn/utils/validation.py:2739: UserWarning: X does not have valid feature names, but LGBMRegressor was fitted with feature names\n",
      "  warnings.warn(\n"
     ]
    },
    {
     "name": "stdout",
     "output_type": "stream",
     "text": [
      "[LightGBM] [Warning] lambda_l1 is set=7.756439199344609, reg_alpha=0.0 will be ignored. Current value: lambda_l1=7.756439199344609\n",
      "[LightGBM] [Warning] lambda_l2 is set=7.779931227077293, reg_lambda=0.0 will be ignored. Current value: lambda_l2=7.779931227077293\n",
      "[LightGBM] [Warning] lambda_l1 is set=7.756439199344609, reg_alpha=0.0 will be ignored. Current value: lambda_l1=7.756439199344609\n",
      "[LightGBM] [Warning] lambda_l2 is set=7.779931227077293, reg_lambda=0.0 will be ignored. Current value: lambda_l2=7.779931227077293\n",
      "[LightGBM] [Warning] lambda_l1 is set=7.756439199344609, reg_alpha=0.0 will be ignored. Current value: lambda_l1=7.756439199344609\n",
      "[LightGBM] [Warning] lambda_l2 is set=7.779931227077293, reg_lambda=0.0 will be ignored. Current value: lambda_l2=7.779931227077293\n",
      "[LightGBM] [Info] Total Bins 85029\n",
      "[LightGBM] [Info] Number of data points in the train set: 43199, number of used features: 395\n",
      "[LightGBM] [Info] Start training from score 5.959808\n",
      "[LightGBM] [Warning] No further splits with positive gain, best gain: -inf\n",
      "[LightGBM] [Warning] No further splits with positive gain, best gain: -inf\n",
      "[LightGBM] [Warning] No further splits with positive gain, best gain: -inf\n",
      "[LightGBM] [Warning] No further splits with positive gain, best gain: -inf\n",
      "[LightGBM] [Warning] No further splits with positive gain, best gain: -inf\n",
      "[LightGBM] [Warning] No further splits with positive gain, best gain: -inf\n",
      "[LightGBM] [Warning] No further splits with positive gain, best gain: -inf\n",
      "[LightGBM] [Warning] No further splits with positive gain, best gain: -inf\n",
      "[LightGBM] [Warning] No further splits with positive gain, best gain: -inf\n",
      "[LightGBM] [Warning] No further splits with positive gain, best gain: -inf\n",
      "[LightGBM] [Warning] No further splits with positive gain, best gain: -inf\n",
      "[LightGBM] [Warning] No further splits with positive gain, best gain: -inf\n",
      "[LightGBM] [Warning] No further splits with positive gain, best gain: -inf\n",
      "[LightGBM] [Warning] No further splits with positive gain, best gain: -inf\n",
      "[LightGBM] [Warning] No further splits with positive gain, best gain: -inf\n",
      "[LightGBM] [Warning] No further splits with positive gain, best gain: -inf\n",
      "[LightGBM] [Warning] No further splits with positive gain, best gain: -inf\n",
      "[LightGBM] [Warning] No further splits with positive gain, best gain: -inf\n",
      "[LightGBM] [Warning] No further splits with positive gain, best gain: -inf\n",
      "[LightGBM] [Warning] No further splits with positive gain, best gain: -inf\n",
      "[LightGBM] [Warning] No further splits with positive gain, best gain: -inf\n",
      "[LightGBM] [Warning] No further splits with positive gain, best gain: -inf\n",
      "[LightGBM] [Warning] No further splits with positive gain, best gain: -inf\n",
      "[LightGBM] [Warning] No further splits with positive gain, best gain: -inf\n",
      "[LightGBM] [Warning] No further splits with positive gain, best gain: -inf\n",
      "[LightGBM] [Warning] No further splits with positive gain, best gain: -inf\n",
      "[LightGBM] [Warning] No further splits with positive gain, best gain: -inf\n",
      "[LightGBM] [Warning] No further splits with positive gain, best gain: -inf\n",
      "[LightGBM] [Warning] No further splits with positive gain, best gain: -inf\n",
      "[LightGBM] [Warning] No further splits with positive gain, best gain: -inf\n",
      "[LightGBM] [Warning] No further splits with positive gain, best gain: -inf\n",
      "[LightGBM] [Warning] No further splits with positive gain, best gain: -inf\n",
      "[LightGBM] [Warning] No further splits with positive gain, best gain: -inf\n",
      "[LightGBM] [Warning] No further splits with positive gain, best gain: -inf\n",
      "[LightGBM] [Warning] No further splits with positive gain, best gain: -inf\n",
      "[LightGBM] [Warning] No further splits with positive gain, best gain: -inf\n",
      "[LightGBM] [Warning] No further splits with positive gain, best gain: -inf\n",
      "[LightGBM] [Warning] No further splits with positive gain, best gain: -inf\n",
      "[LightGBM] [Warning] No further splits with positive gain, best gain: -inf\n",
      "[LightGBM] [Warning] No further splits with positive gain, best gain: -inf\n",
      "[LightGBM] [Warning] No further splits with positive gain, best gain: -inf\n",
      "[LightGBM] [Warning] No further splits with positive gain, best gain: -inf\n",
      "[LightGBM] [Warning] No further splits with positive gain, best gain: -inf\n",
      "[LightGBM] [Warning] No further splits with positive gain, best gain: -inf\n",
      "[LightGBM] [Warning] No further splits with positive gain, best gain: -inf\n",
      "[LightGBM] [Warning] No further splits with positive gain, best gain: -inf\n",
      "[LightGBM] [Warning] No further splits with positive gain, best gain: -inf\n",
      "[LightGBM] [Warning] No further splits with positive gain, best gain: -inf\n",
      "[LightGBM] [Warning] No further splits with positive gain, best gain: -inf\n",
      "[LightGBM] [Warning] No further splits with positive gain, best gain: -inf\n",
      "[LightGBM] [Warning] No further splits with positive gain, best gain: -inf\n",
      "[LightGBM] [Warning] No further splits with positive gain, best gain: -inf\n",
      "[LightGBM] [Warning] No further splits with positive gain, best gain: -inf\n",
      "[LightGBM] [Warning] No further splits with positive gain, best gain: -inf\n",
      "[LightGBM] [Warning] No further splits with positive gain, best gain: -inf\n",
      "[LightGBM] [Warning] No further splits with positive gain, best gain: -inf\n",
      "[LightGBM] [Warning] lambda_l1 is set=7.756439199344609, reg_alpha=0.0 will be ignored. Current value: lambda_l1=7.756439199344609\n",
      "[LightGBM] [Warning] lambda_l2 is set=7.779931227077293, reg_lambda=0.0 will be ignored. Current value: lambda_l2=7.779931227077293\n"
     ]
    },
    {
     "name": "stderr",
     "output_type": "stream",
     "text": [
      "/Users/alexis/Projects/202502 Actuarial Loss Prediction/.env/lib/python3.10/site-packages/sklearn/utils/validation.py:2739: UserWarning: X does not have valid feature names, but LGBMRegressor was fitted with feature names\n",
      "  warnings.warn(\n"
     ]
    },
    {
     "name": "stdout",
     "output_type": "stream",
     "text": [
      "[LightGBM] [Warning] lambda_l1 is set=7.756439199344609, reg_alpha=0.0 will be ignored. Current value: lambda_l1=7.756439199344609\n",
      "[LightGBM] [Warning] lambda_l2 is set=7.779931227077293, reg_lambda=0.0 will be ignored. Current value: lambda_l2=7.779931227077293\n",
      "[LightGBM] [Warning] lambda_l1 is set=7.756439199344609, reg_alpha=0.0 will be ignored. Current value: lambda_l1=7.756439199344609\n",
      "[LightGBM] [Warning] lambda_l2 is set=7.779931227077293, reg_lambda=0.0 will be ignored. Current value: lambda_l2=7.779931227077293\n",
      "[LightGBM] [Info] Total Bins 85028\n",
      "[LightGBM] [Info] Number of data points in the train set: 43200, number of used features: 395\n",
      "[LightGBM] [Info] Start training from score 5.940370\n",
      "[LightGBM] [Warning] No further splits with positive gain, best gain: -inf\n",
      "[LightGBM] [Warning] No further splits with positive gain, best gain: -inf\n",
      "[LightGBM] [Warning] No further splits with positive gain, best gain: -inf\n",
      "[LightGBM] [Warning] No further splits with positive gain, best gain: -inf\n",
      "[LightGBM] [Warning] No further splits with positive gain, best gain: -inf\n",
      "[LightGBM] [Warning] No further splits with positive gain, best gain: -inf\n",
      "[LightGBM] [Warning] No further splits with positive gain, best gain: -inf\n",
      "[LightGBM] [Warning] No further splits with positive gain, best gain: -inf\n",
      "[LightGBM] [Warning] No further splits with positive gain, best gain: -inf\n",
      "[LightGBM] [Warning] No further splits with positive gain, best gain: -inf\n",
      "[LightGBM] [Warning] No further splits with positive gain, best gain: -inf\n",
      "[LightGBM] [Warning] No further splits with positive gain, best gain: -inf\n",
      "[LightGBM] [Warning] No further splits with positive gain, best gain: -inf\n",
      "[LightGBM] [Warning] No further splits with positive gain, best gain: -inf\n",
      "[LightGBM] [Warning] No further splits with positive gain, best gain: -inf\n",
      "[LightGBM] [Warning] No further splits with positive gain, best gain: -inf\n",
      "[LightGBM] [Warning] No further splits with positive gain, best gain: -inf\n",
      "[LightGBM] [Warning] No further splits with positive gain, best gain: -inf\n",
      "[LightGBM] [Warning] No further splits with positive gain, best gain: -inf\n",
      "[LightGBM] [Warning] No further splits with positive gain, best gain: -inf\n",
      "[LightGBM] [Warning] No further splits with positive gain, best gain: -inf\n",
      "[LightGBM] [Warning] No further splits with positive gain, best gain: -inf\n",
      "[LightGBM] [Warning] No further splits with positive gain, best gain: -inf\n",
      "[LightGBM] [Warning] No further splits with positive gain, best gain: -inf\n",
      "[LightGBM] [Warning] No further splits with positive gain, best gain: -inf\n",
      "[LightGBM] [Warning] No further splits with positive gain, best gain: -inf\n",
      "[LightGBM] [Warning] No further splits with positive gain, best gain: -inf\n",
      "[LightGBM] [Warning] No further splits with positive gain, best gain: -inf\n",
      "[LightGBM] [Warning] No further splits with positive gain, best gain: -inf\n",
      "[LightGBM] [Warning] No further splits with positive gain, best gain: -inf\n",
      "[LightGBM] [Warning] No further splits with positive gain, best gain: -inf\n",
      "[LightGBM] [Warning] No further splits with positive gain, best gain: -inf\n",
      "[LightGBM] [Warning] No further splits with positive gain, best gain: -inf\n",
      "[LightGBM] [Warning] No further splits with positive gain, best gain: -inf\n",
      "[LightGBM] [Warning] No further splits with positive gain, best gain: -inf\n",
      "[LightGBM] [Warning] No further splits with positive gain, best gain: -inf\n",
      "[LightGBM] [Warning] No further splits with positive gain, best gain: -inf\n",
      "[LightGBM] [Warning] No further splits with positive gain, best gain: -inf\n",
      "[LightGBM] [Warning] No further splits with positive gain, best gain: -inf\n",
      "[LightGBM] [Warning] No further splits with positive gain, best gain: -inf\n",
      "[LightGBM] [Warning] No further splits with positive gain, best gain: -inf\n",
      "[LightGBM] [Warning] No further splits with positive gain, best gain: -inf\n",
      "[LightGBM] [Warning] No further splits with positive gain, best gain: -inf\n",
      "[LightGBM] [Warning] No further splits with positive gain, best gain: -inf\n",
      "[LightGBM] [Warning] No further splits with positive gain, best gain: -inf\n",
      "[LightGBM] [Warning] No further splits with positive gain, best gain: -inf\n",
      "[LightGBM] [Warning] No further splits with positive gain, best gain: -inf\n",
      "[LightGBM] [Warning] No further splits with positive gain, best gain: -inf\n",
      "[LightGBM] [Warning] No further splits with positive gain, best gain: -inf\n",
      "[LightGBM] [Warning] No further splits with positive gain, best gain: -inf\n",
      "[LightGBM] [Warning] No further splits with positive gain, best gain: -inf\n",
      "[LightGBM] [Warning] No further splits with positive gain, best gain: -inf\n"
     ]
    },
    {
     "name": "stderr",
     "output_type": "stream",
     "text": [
      "/Users/alexis/Projects/202502 Actuarial Loss Prediction/.env/lib/python3.10/site-packages/sklearn/utils/validation.py:2739: UserWarning: X does not have valid feature names, but LGBMRegressor was fitted with feature names\n",
      "  warnings.warn(\n",
      "[I 2025-03-02 18:47:06,084] Trial 7 finished with value: 23974.177551149474 and parameters: {'max_depth': 5, 'learning_rate': 0.12166567336745643, 'n_estimators': 100, 'min_child_weight': 6, 'subsample': 0.7200974369215347, 'colsample_bytree': 0.5686802943018593, 'lambda_l1': 7.756439199344609, 'lambda_l2': 7.779931227077293}. Best is trial 5 with value: 23862.926693452253.\n"
     ]
    },
    {
     "name": "stdout",
     "output_type": "stream",
     "text": [
      "[LightGBM] [Warning] No further splits with positive gain, best gain: -inf\n",
      "[LightGBM] [Warning] No further splits with positive gain, best gain: -inf\n",
      "[LightGBM] [Warning] lambda_l1 is set=7.756439199344609, reg_alpha=0.0 will be ignored. Current value: lambda_l1=7.756439199344609\n",
      "[LightGBM] [Warning] lambda_l2 is set=7.779931227077293, reg_lambda=0.0 will be ignored. Current value: lambda_l2=7.779931227077293\n",
      "RMSE Overall:  23974.178 | MAE: 5642.636\n",
      "RMSE for low y_true (<= 100k): 9325.965 | MAE: 3261.582\n",
      "RMSE for high y_true (> 100k): 164628.066 | MAE: 135132.906\n",
      "[LightGBM] [Warning] lambda_l1 is set=2.4819749915142006, reg_alpha=0.0 will be ignored. Current value: lambda_l1=2.4819749915142006\n",
      "[LightGBM] [Warning] lambda_l2 is set=9.591036290399522, reg_lambda=0.0 will be ignored. Current value: lambda_l2=9.591036290399522\n",
      "[LightGBM] [Warning] lambda_l1 is set=2.4819749915142006, reg_alpha=0.0 will be ignored. Current value: lambda_l1=2.4819749915142006\n",
      "[LightGBM] [Warning] lambda_l2 is set=9.591036290399522, reg_lambda=0.0 will be ignored. Current value: lambda_l2=9.591036290399522\n",
      "[LightGBM] [Info] Total Bins 85015\n",
      "[LightGBM] [Info] Number of data points in the train set: 43199, number of used features: 395\n",
      "[LightGBM] [Info] Start training from score 5.909642\n"
     ]
    },
    {
     "name": "stderr",
     "output_type": "stream",
     "text": [
      "/Users/alexis/Projects/202502 Actuarial Loss Prediction/.env/lib/python3.10/site-packages/sklearn/utils/validation.py:2739: UserWarning: X does not have valid feature names, but LGBMRegressor was fitted with feature names\n",
      "  warnings.warn(\n"
     ]
    },
    {
     "name": "stdout",
     "output_type": "stream",
     "text": [
      "[LightGBM] [Warning] lambda_l1 is set=2.4819749915142006, reg_alpha=0.0 will be ignored. Current value: lambda_l1=2.4819749915142006\n",
      "[LightGBM] [Warning] lambda_l2 is set=9.591036290399522, reg_lambda=0.0 will be ignored. Current value: lambda_l2=9.591036290399522\n",
      "[LightGBM] [Warning] lambda_l1 is set=2.4819749915142006, reg_alpha=0.0 will be ignored. Current value: lambda_l1=2.4819749915142006\n",
      "[LightGBM] [Warning] lambda_l2 is set=9.591036290399522, reg_lambda=0.0 will be ignored. Current value: lambda_l2=9.591036290399522\n",
      "[LightGBM] [Warning] lambda_l1 is set=2.4819749915142006, reg_alpha=0.0 will be ignored. Current value: lambda_l1=2.4819749915142006\n",
      "[LightGBM] [Warning] lambda_l2 is set=9.591036290399522, reg_lambda=0.0 will be ignored. Current value: lambda_l2=9.591036290399522\n",
      "[LightGBM] [Info] Total Bins 85024\n",
      "[LightGBM] [Info] Number of data points in the train set: 43199, number of used features: 395\n",
      "[LightGBM] [Info] Start training from score 5.914034\n"
     ]
    },
    {
     "name": "stderr",
     "output_type": "stream",
     "text": [
      "/Users/alexis/Projects/202502 Actuarial Loss Prediction/.env/lib/python3.10/site-packages/sklearn/utils/validation.py:2739: UserWarning: X does not have valid feature names, but LGBMRegressor was fitted with feature names\n",
      "  warnings.warn(\n"
     ]
    },
    {
     "name": "stdout",
     "output_type": "stream",
     "text": [
      "[LightGBM] [Warning] lambda_l1 is set=2.4819749915142006, reg_alpha=0.0 will be ignored. Current value: lambda_l1=2.4819749915142006\n",
      "[LightGBM] [Warning] lambda_l2 is set=9.591036290399522, reg_lambda=0.0 will be ignored. Current value: lambda_l2=9.591036290399522\n",
      "[LightGBM] [Warning] lambda_l1 is set=2.4819749915142006, reg_alpha=0.0 will be ignored. Current value: lambda_l1=2.4819749915142006\n",
      "[LightGBM] [Warning] lambda_l2 is set=9.591036290399522, reg_lambda=0.0 will be ignored. Current value: lambda_l2=9.591036290399522\n",
      "[LightGBM] [Warning] lambda_l1 is set=2.4819749915142006, reg_alpha=0.0 will be ignored. Current value: lambda_l1=2.4819749915142006\n",
      "[LightGBM] [Warning] lambda_l2 is set=9.591036290399522, reg_lambda=0.0 will be ignored. Current value: lambda_l2=9.591036290399522\n",
      "[LightGBM] [Info] Total Bins 85026\n",
      "[LightGBM] [Info] Number of data points in the train set: 43199, number of used features: 395\n",
      "[LightGBM] [Info] Start training from score 5.945550\n"
     ]
    },
    {
     "name": "stderr",
     "output_type": "stream",
     "text": [
      "/Users/alexis/Projects/202502 Actuarial Loss Prediction/.env/lib/python3.10/site-packages/sklearn/utils/validation.py:2739: UserWarning: X does not have valid feature names, but LGBMRegressor was fitted with feature names\n",
      "  warnings.warn(\n"
     ]
    },
    {
     "name": "stdout",
     "output_type": "stream",
     "text": [
      "[LightGBM] [Warning] lambda_l1 is set=2.4819749915142006, reg_alpha=0.0 will be ignored. Current value: lambda_l1=2.4819749915142006\n",
      "[LightGBM] [Warning] lambda_l2 is set=9.591036290399522, reg_lambda=0.0 will be ignored. Current value: lambda_l2=9.591036290399522\n",
      "[LightGBM] [Warning] lambda_l1 is set=2.4819749915142006, reg_alpha=0.0 will be ignored. Current value: lambda_l1=2.4819749915142006\n",
      "[LightGBM] [Warning] lambda_l2 is set=9.591036290399522, reg_lambda=0.0 will be ignored. Current value: lambda_l2=9.591036290399522\n",
      "[LightGBM] [Warning] lambda_l1 is set=2.4819749915142006, reg_alpha=0.0 will be ignored. Current value: lambda_l1=2.4819749915142006\n",
      "[LightGBM] [Warning] lambda_l2 is set=9.591036290399522, reg_lambda=0.0 will be ignored. Current value: lambda_l2=9.591036290399522\n",
      "[LightGBM] [Info] Total Bins 85029\n",
      "[LightGBM] [Info] Number of data points in the train set: 43199, number of used features: 395\n",
      "[LightGBM] [Info] Start training from score 5.959808\n"
     ]
    },
    {
     "name": "stderr",
     "output_type": "stream",
     "text": [
      "/Users/alexis/Projects/202502 Actuarial Loss Prediction/.env/lib/python3.10/site-packages/sklearn/utils/validation.py:2739: UserWarning: X does not have valid feature names, but LGBMRegressor was fitted with feature names\n",
      "  warnings.warn(\n"
     ]
    },
    {
     "name": "stdout",
     "output_type": "stream",
     "text": [
      "[LightGBM] [Warning] lambda_l1 is set=2.4819749915142006, reg_alpha=0.0 will be ignored. Current value: lambda_l1=2.4819749915142006\n",
      "[LightGBM] [Warning] lambda_l2 is set=9.591036290399522, reg_lambda=0.0 will be ignored. Current value: lambda_l2=9.591036290399522\n",
      "[LightGBM] [Warning] lambda_l1 is set=2.4819749915142006, reg_alpha=0.0 will be ignored. Current value: lambda_l1=2.4819749915142006\n",
      "[LightGBM] [Warning] lambda_l2 is set=9.591036290399522, reg_lambda=0.0 will be ignored. Current value: lambda_l2=9.591036290399522\n",
      "[LightGBM] [Warning] lambda_l1 is set=2.4819749915142006, reg_alpha=0.0 will be ignored. Current value: lambda_l1=2.4819749915142006\n",
      "[LightGBM] [Warning] lambda_l2 is set=9.591036290399522, reg_lambda=0.0 will be ignored. Current value: lambda_l2=9.591036290399522\n",
      "[LightGBM] [Info] Total Bins 85028\n",
      "[LightGBM] [Info] Number of data points in the train set: 43200, number of used features: 395\n",
      "[LightGBM] [Info] Start training from score 5.940370\n"
     ]
    },
    {
     "name": "stderr",
     "output_type": "stream",
     "text": [
      "/Users/alexis/Projects/202502 Actuarial Loss Prediction/.env/lib/python3.10/site-packages/sklearn/utils/validation.py:2739: UserWarning: X does not have valid feature names, but LGBMRegressor was fitted with feature names\n",
      "  warnings.warn(\n",
      "[I 2025-03-02 18:47:40,403] Trial 8 finished with value: 24384.51334796267 and parameters: {'max_depth': 13, 'learning_rate': 0.3836031081380503, 'n_estimators': 500, 'min_child_weight': 11, 'subsample': 0.5919979352669787, 'colsample_bytree': 0.9958736712530989, 'lambda_l1': 2.4819749915142006, 'lambda_l2': 9.591036290399522}. Best is trial 5 with value: 23862.926693452253.\n"
     ]
    },
    {
     "name": "stdout",
     "output_type": "stream",
     "text": [
      "[LightGBM] [Warning] lambda_l1 is set=2.4819749915142006, reg_alpha=0.0 will be ignored. Current value: lambda_l1=2.4819749915142006\n",
      "[LightGBM] [Warning] lambda_l2 is set=9.591036290399522, reg_lambda=0.0 will be ignored. Current value: lambda_l2=9.591036290399522\n",
      "RMSE Overall:  24384.513 | MAE: 6132.605\n",
      "RMSE for low y_true (<= 100k): 10755.375 | MAE: 3792.862\n",
      "RMSE for high y_true (> 100k): 163218.693 | MAE: 133376.197\n",
      "[LightGBM] [Warning] lambda_l1 is set=5.366392424141364, reg_alpha=0.0 will be ignored. Current value: lambda_l1=5.366392424141364\n",
      "[LightGBM] [Warning] lambda_l2 is set=8.318545624620215, reg_lambda=0.0 will be ignored. Current value: lambda_l2=8.318545624620215\n",
      "[LightGBM] [Warning] lambda_l1 is set=5.366392424141364, reg_alpha=0.0 will be ignored. Current value: lambda_l1=5.366392424141364\n",
      "[LightGBM] [Warning] lambda_l2 is set=8.318545624620215, reg_lambda=0.0 will be ignored. Current value: lambda_l2=8.318545624620215\n",
      "[LightGBM] [Info] Total Bins 85015\n",
      "[LightGBM] [Info] Number of data points in the train set: 43199, number of used features: 395\n",
      "[LightGBM] [Info] Start training from score 5.909642\n"
     ]
    },
    {
     "name": "stderr",
     "output_type": "stream",
     "text": [
      "/Users/alexis/Projects/202502 Actuarial Loss Prediction/.env/lib/python3.10/site-packages/sklearn/utils/validation.py:2739: UserWarning: X does not have valid feature names, but LGBMRegressor was fitted with feature names\n",
      "  warnings.warn(\n"
     ]
    },
    {
     "name": "stdout",
     "output_type": "stream",
     "text": [
      "[LightGBM] [Warning] lambda_l1 is set=5.366392424141364, reg_alpha=0.0 will be ignored. Current value: lambda_l1=5.366392424141364\n",
      "[LightGBM] [Warning] lambda_l2 is set=8.318545624620215, reg_lambda=0.0 will be ignored. Current value: lambda_l2=8.318545624620215\n",
      "[LightGBM] [Warning] lambda_l1 is set=5.366392424141364, reg_alpha=0.0 will be ignored. Current value: lambda_l1=5.366392424141364\n",
      "[LightGBM] [Warning] lambda_l2 is set=8.318545624620215, reg_lambda=0.0 will be ignored. Current value: lambda_l2=8.318545624620215\n",
      "[LightGBM] [Warning] lambda_l1 is set=5.366392424141364, reg_alpha=0.0 will be ignored. Current value: lambda_l1=5.366392424141364\n",
      "[LightGBM] [Warning] lambda_l2 is set=8.318545624620215, reg_lambda=0.0 will be ignored. Current value: lambda_l2=8.318545624620215\n",
      "[LightGBM] [Info] Total Bins 85024\n",
      "[LightGBM] [Info] Number of data points in the train set: 43199, number of used features: 395\n",
      "[LightGBM] [Info] Start training from score 5.914034\n"
     ]
    },
    {
     "name": "stderr",
     "output_type": "stream",
     "text": [
      "/Users/alexis/Projects/202502 Actuarial Loss Prediction/.env/lib/python3.10/site-packages/sklearn/utils/validation.py:2739: UserWarning: X does not have valid feature names, but LGBMRegressor was fitted with feature names\n",
      "  warnings.warn(\n"
     ]
    },
    {
     "name": "stdout",
     "output_type": "stream",
     "text": [
      "[LightGBM] [Warning] lambda_l1 is set=5.366392424141364, reg_alpha=0.0 will be ignored. Current value: lambda_l1=5.366392424141364\n",
      "[LightGBM] [Warning] lambda_l2 is set=8.318545624620215, reg_lambda=0.0 will be ignored. Current value: lambda_l2=8.318545624620215\n",
      "[LightGBM] [Warning] lambda_l1 is set=5.366392424141364, reg_alpha=0.0 will be ignored. Current value: lambda_l1=5.366392424141364\n",
      "[LightGBM] [Warning] lambda_l2 is set=8.318545624620215, reg_lambda=0.0 will be ignored. Current value: lambda_l2=8.318545624620215\n",
      "[LightGBM] [Warning] lambda_l1 is set=5.366392424141364, reg_alpha=0.0 will be ignored. Current value: lambda_l1=5.366392424141364\n",
      "[LightGBM] [Warning] lambda_l2 is set=8.318545624620215, reg_lambda=0.0 will be ignored. Current value: lambda_l2=8.318545624620215\n",
      "[LightGBM] [Info] Total Bins 85026\n",
      "[LightGBM] [Info] Number of data points in the train set: 43199, number of used features: 395\n",
      "[LightGBM] [Info] Start training from score 5.945550\n"
     ]
    },
    {
     "name": "stderr",
     "output_type": "stream",
     "text": [
      "/Users/alexis/Projects/202502 Actuarial Loss Prediction/.env/lib/python3.10/site-packages/sklearn/utils/validation.py:2739: UserWarning: X does not have valid feature names, but LGBMRegressor was fitted with feature names\n",
      "  warnings.warn(\n"
     ]
    },
    {
     "name": "stdout",
     "output_type": "stream",
     "text": [
      "[LightGBM] [Warning] lambda_l1 is set=5.366392424141364, reg_alpha=0.0 will be ignored. Current value: lambda_l1=5.366392424141364\n",
      "[LightGBM] [Warning] lambda_l2 is set=8.318545624620215, reg_lambda=0.0 will be ignored. Current value: lambda_l2=8.318545624620215\n",
      "[LightGBM] [Warning] lambda_l1 is set=5.366392424141364, reg_alpha=0.0 will be ignored. Current value: lambda_l1=5.366392424141364\n",
      "[LightGBM] [Warning] lambda_l2 is set=8.318545624620215, reg_lambda=0.0 will be ignored. Current value: lambda_l2=8.318545624620215\n",
      "[LightGBM] [Warning] lambda_l1 is set=5.366392424141364, reg_alpha=0.0 will be ignored. Current value: lambda_l1=5.366392424141364\n",
      "[LightGBM] [Warning] lambda_l2 is set=8.318545624620215, reg_lambda=0.0 will be ignored. Current value: lambda_l2=8.318545624620215\n",
      "[LightGBM] [Info] Total Bins 85029\n",
      "[LightGBM] [Info] Number of data points in the train set: 43199, number of used features: 395\n",
      "[LightGBM] [Info] Start training from score 5.959808\n"
     ]
    },
    {
     "name": "stderr",
     "output_type": "stream",
     "text": [
      "/Users/alexis/Projects/202502 Actuarial Loss Prediction/.env/lib/python3.10/site-packages/sklearn/utils/validation.py:2739: UserWarning: X does not have valid feature names, but LGBMRegressor was fitted with feature names\n",
      "  warnings.warn(\n"
     ]
    },
    {
     "name": "stdout",
     "output_type": "stream",
     "text": [
      "[LightGBM] [Warning] lambda_l1 is set=5.366392424141364, reg_alpha=0.0 will be ignored. Current value: lambda_l1=5.366392424141364\n",
      "[LightGBM] [Warning] lambda_l2 is set=8.318545624620215, reg_lambda=0.0 will be ignored. Current value: lambda_l2=8.318545624620215\n",
      "[LightGBM] [Warning] lambda_l1 is set=5.366392424141364, reg_alpha=0.0 will be ignored. Current value: lambda_l1=5.366392424141364\n",
      "[LightGBM] [Warning] lambda_l2 is set=8.318545624620215, reg_lambda=0.0 will be ignored. Current value: lambda_l2=8.318545624620215\n",
      "[LightGBM] [Warning] lambda_l1 is set=5.366392424141364, reg_alpha=0.0 will be ignored. Current value: lambda_l1=5.366392424141364\n",
      "[LightGBM] [Warning] lambda_l2 is set=8.318545624620215, reg_lambda=0.0 will be ignored. Current value: lambda_l2=8.318545624620215\n",
      "[LightGBM] [Info] Total Bins 85028\n",
      "[LightGBM] [Info] Number of data points in the train set: 43200, number of used features: 395\n",
      "[LightGBM] [Info] Start training from score 5.940370\n"
     ]
    },
    {
     "name": "stderr",
     "output_type": "stream",
     "text": [
      "/Users/alexis/Projects/202502 Actuarial Loss Prediction/.env/lib/python3.10/site-packages/sklearn/utils/validation.py:2739: UserWarning: X does not have valid feature names, but LGBMRegressor was fitted with feature names\n",
      "  warnings.warn(\n",
      "[I 2025-03-02 18:48:40,675] Trial 9 finished with value: 24023.987113127838 and parameters: {'max_depth': 8, 'learning_rate': 0.17343065428308233, 'n_estimators': 1000, 'min_child_weight': 3, 'subsample': 0.9866953896675671, 'colsample_bytree': 0.8710946292676356, 'lambda_l1': 5.366392424141364, 'lambda_l2': 8.318545624620215}. Best is trial 5 with value: 23862.926693452253.\n"
     ]
    },
    {
     "name": "stdout",
     "output_type": "stream",
     "text": [
      "[LightGBM] [Warning] lambda_l1 is set=5.366392424141364, reg_alpha=0.0 will be ignored. Current value: lambda_l1=5.366392424141364\n",
      "[LightGBM] [Warning] lambda_l2 is set=8.318545624620215, reg_lambda=0.0 will be ignored. Current value: lambda_l2=8.318545624620215\n",
      "RMSE Overall:  24023.987 | MAE: 5850.294\n",
      "RMSE for low y_true (<= 100k): 9989.499 | MAE: 3508.618\n",
      "RMSE for high y_true (> 100k): 162904.277 | MAE: 133199.066\n",
      "[LightGBM] [Warning] lambda_l1 is set=0.5764750745208156, reg_alpha=0.0 will be ignored. Current value: lambda_l1=0.5764750745208156\n",
      "[LightGBM] [Warning] lambda_l2 is set=4.686383181300215, reg_lambda=0.0 will be ignored. Current value: lambda_l2=4.686383181300215\n",
      "[LightGBM] [Warning] lambda_l1 is set=0.5764750745208156, reg_alpha=0.0 will be ignored. Current value: lambda_l1=0.5764750745208156\n",
      "[LightGBM] [Warning] lambda_l2 is set=4.686383181300215, reg_lambda=0.0 will be ignored. Current value: lambda_l2=4.686383181300215\n",
      "[LightGBM] [Info] Total Bins 85015\n",
      "[LightGBM] [Info] Number of data points in the train set: 43199, number of used features: 395\n",
      "[LightGBM] [Info] Start training from score 5.909642\n"
     ]
    },
    {
     "name": "stderr",
     "output_type": "stream",
     "text": [
      "/Users/alexis/Projects/202502 Actuarial Loss Prediction/.env/lib/python3.10/site-packages/sklearn/utils/validation.py:2739: UserWarning: X does not have valid feature names, but LGBMRegressor was fitted with feature names\n",
      "  warnings.warn(\n"
     ]
    },
    {
     "name": "stdout",
     "output_type": "stream",
     "text": [
      "[LightGBM] [Warning] lambda_l1 is set=0.5764750745208156, reg_alpha=0.0 will be ignored. Current value: lambda_l1=0.5764750745208156\n",
      "[LightGBM] [Warning] lambda_l2 is set=4.686383181300215, reg_lambda=0.0 will be ignored. Current value: lambda_l2=4.686383181300215\n",
      "[LightGBM] [Warning] lambda_l1 is set=0.5764750745208156, reg_alpha=0.0 will be ignored. Current value: lambda_l1=0.5764750745208156\n",
      "[LightGBM] [Warning] lambda_l2 is set=4.686383181300215, reg_lambda=0.0 will be ignored. Current value: lambda_l2=4.686383181300215\n",
      "[LightGBM] [Warning] lambda_l1 is set=0.5764750745208156, reg_alpha=0.0 will be ignored. Current value: lambda_l1=0.5764750745208156\n",
      "[LightGBM] [Warning] lambda_l2 is set=4.686383181300215, reg_lambda=0.0 will be ignored. Current value: lambda_l2=4.686383181300215\n",
      "[LightGBM] [Info] Total Bins 85024\n",
      "[LightGBM] [Info] Number of data points in the train set: 43199, number of used features: 395\n",
      "[LightGBM] [Info] Start training from score 5.914034\n"
     ]
    },
    {
     "name": "stderr",
     "output_type": "stream",
     "text": [
      "/Users/alexis/Projects/202502 Actuarial Loss Prediction/.env/lib/python3.10/site-packages/sklearn/utils/validation.py:2739: UserWarning: X does not have valid feature names, but LGBMRegressor was fitted with feature names\n",
      "  warnings.warn(\n"
     ]
    },
    {
     "name": "stdout",
     "output_type": "stream",
     "text": [
      "[LightGBM] [Warning] lambda_l1 is set=0.5764750745208156, reg_alpha=0.0 will be ignored. Current value: lambda_l1=0.5764750745208156\n",
      "[LightGBM] [Warning] lambda_l2 is set=4.686383181300215, reg_lambda=0.0 will be ignored. Current value: lambda_l2=4.686383181300215\n",
      "[LightGBM] [Warning] lambda_l1 is set=0.5764750745208156, reg_alpha=0.0 will be ignored. Current value: lambda_l1=0.5764750745208156\n",
      "[LightGBM] [Warning] lambda_l2 is set=4.686383181300215, reg_lambda=0.0 will be ignored. Current value: lambda_l2=4.686383181300215\n",
      "[LightGBM] [Warning] lambda_l1 is set=0.5764750745208156, reg_alpha=0.0 will be ignored. Current value: lambda_l1=0.5764750745208156\n",
      "[LightGBM] [Warning] lambda_l2 is set=4.686383181300215, reg_lambda=0.0 will be ignored. Current value: lambda_l2=4.686383181300215\n",
      "[LightGBM] [Info] Total Bins 85026\n",
      "[LightGBM] [Info] Number of data points in the train set: 43199, number of used features: 395\n",
      "[LightGBM] [Info] Start training from score 5.945550\n"
     ]
    },
    {
     "name": "stderr",
     "output_type": "stream",
     "text": [
      "/Users/alexis/Projects/202502 Actuarial Loss Prediction/.env/lib/python3.10/site-packages/sklearn/utils/validation.py:2739: UserWarning: X does not have valid feature names, but LGBMRegressor was fitted with feature names\n",
      "  warnings.warn(\n"
     ]
    },
    {
     "name": "stdout",
     "output_type": "stream",
     "text": [
      "[LightGBM] [Warning] lambda_l1 is set=0.5764750745208156, reg_alpha=0.0 will be ignored. Current value: lambda_l1=0.5764750745208156\n",
      "[LightGBM] [Warning] lambda_l2 is set=4.686383181300215, reg_lambda=0.0 will be ignored. Current value: lambda_l2=4.686383181300215\n",
      "[LightGBM] [Warning] lambda_l1 is set=0.5764750745208156, reg_alpha=0.0 will be ignored. Current value: lambda_l1=0.5764750745208156\n",
      "[LightGBM] [Warning] lambda_l2 is set=4.686383181300215, reg_lambda=0.0 will be ignored. Current value: lambda_l2=4.686383181300215\n",
      "[LightGBM] [Warning] lambda_l1 is set=0.5764750745208156, reg_alpha=0.0 will be ignored. Current value: lambda_l1=0.5764750745208156\n",
      "[LightGBM] [Warning] lambda_l2 is set=4.686383181300215, reg_lambda=0.0 will be ignored. Current value: lambda_l2=4.686383181300215\n",
      "[LightGBM] [Info] Total Bins 85029\n",
      "[LightGBM] [Info] Number of data points in the train set: 43199, number of used features: 395\n",
      "[LightGBM] [Info] Start training from score 5.959808\n"
     ]
    },
    {
     "name": "stderr",
     "output_type": "stream",
     "text": [
      "/Users/alexis/Projects/202502 Actuarial Loss Prediction/.env/lib/python3.10/site-packages/sklearn/utils/validation.py:2739: UserWarning: X does not have valid feature names, but LGBMRegressor was fitted with feature names\n",
      "  warnings.warn(\n"
     ]
    },
    {
     "name": "stdout",
     "output_type": "stream",
     "text": [
      "[LightGBM] [Warning] lambda_l1 is set=0.5764750745208156, reg_alpha=0.0 will be ignored. Current value: lambda_l1=0.5764750745208156\n",
      "[LightGBM] [Warning] lambda_l2 is set=4.686383181300215, reg_lambda=0.0 will be ignored. Current value: lambda_l2=4.686383181300215\n",
      "[LightGBM] [Warning] lambda_l1 is set=0.5764750745208156, reg_alpha=0.0 will be ignored. Current value: lambda_l1=0.5764750745208156\n",
      "[LightGBM] [Warning] lambda_l2 is set=4.686383181300215, reg_lambda=0.0 will be ignored. Current value: lambda_l2=4.686383181300215\n",
      "[LightGBM] [Warning] lambda_l1 is set=0.5764750745208156, reg_alpha=0.0 will be ignored. Current value: lambda_l1=0.5764750745208156\n",
      "[LightGBM] [Warning] lambda_l2 is set=4.686383181300215, reg_lambda=0.0 will be ignored. Current value: lambda_l2=4.686383181300215\n",
      "[LightGBM] [Info] Total Bins 85028\n",
      "[LightGBM] [Info] Number of data points in the train set: 43200, number of used features: 395\n",
      "[LightGBM] [Info] Start training from score 5.940370\n"
     ]
    },
    {
     "name": "stderr",
     "output_type": "stream",
     "text": [
      "/Users/alexis/Projects/202502 Actuarial Loss Prediction/.env/lib/python3.10/site-packages/sklearn/utils/validation.py:2739: UserWarning: X does not have valid feature names, but LGBMRegressor was fitted with feature names\n",
      "  warnings.warn(\n",
      "[I 2025-03-02 18:49:10,686] Trial 10 finished with value: 23929.79071639841 and parameters: {'max_depth': 11, 'learning_rate': 0.101183096460023, 'n_estimators': 400, 'min_child_weight': 1, 'subsample': 0.8041729391572938, 'colsample_bytree': 0.8341872132304209, 'lambda_l1': 0.5764750745208156, 'lambda_l2': 4.686383181300215}. Best is trial 5 with value: 23862.926693452253.\n"
     ]
    },
    {
     "name": "stdout",
     "output_type": "stream",
     "text": [
      "[LightGBM] [Warning] lambda_l1 is set=0.5764750745208156, reg_alpha=0.0 will be ignored. Current value: lambda_l1=0.5764750745208156\n",
      "[LightGBM] [Warning] lambda_l2 is set=4.686383181300215, reg_lambda=0.0 will be ignored. Current value: lambda_l2=4.686383181300215\n",
      "RMSE Overall:  23929.791 | MAE: 5706.240\n",
      "RMSE for low y_true (<= 100k): 9661.545 | MAE: 3354.946\n",
      "RMSE for high y_true (> 100k): 163211.872 | MAE: 133578.039\n",
      "[LightGBM] [Warning] lambda_l1 is set=0.9099914228212082, reg_alpha=0.0 will be ignored. Current value: lambda_l1=0.9099914228212082\n",
      "[LightGBM] [Warning] lambda_l2 is set=5.120832470876403, reg_lambda=0.0 will be ignored. Current value: lambda_l2=5.120832470876403\n",
      "[LightGBM] [Warning] lambda_l1 is set=0.9099914228212082, reg_alpha=0.0 will be ignored. Current value: lambda_l1=0.9099914228212082\n",
      "[LightGBM] [Warning] lambda_l2 is set=5.120832470876403, reg_lambda=0.0 will be ignored. Current value: lambda_l2=5.120832470876403\n",
      "[LightGBM] [Info] Total Bins 85015\n",
      "[LightGBM] [Info] Number of data points in the train set: 43199, number of used features: 395\n",
      "[LightGBM] [Info] Start training from score 5.909642\n",
      "[LightGBM] [Warning] No further splits with positive gain, best gain: -inf\n",
      "[LightGBM] [Warning] No further splits with positive gain, best gain: -inf\n",
      "[LightGBM] [Warning] No further splits with positive gain, best gain: -inf\n",
      "[LightGBM] [Warning] No further splits with positive gain, best gain: -inf\n",
      "[LightGBM] [Warning] No further splits with positive gain, best gain: -inf\n",
      "[LightGBM] [Warning] No further splits with positive gain, best gain: -inf\n",
      "[LightGBM] [Warning] No further splits with positive gain, best gain: -inf\n",
      "[LightGBM] [Warning] No further splits with positive gain, best gain: -inf\n",
      "[LightGBM] [Warning] No further splits with positive gain, best gain: -inf\n",
      "[LightGBM] [Warning] No further splits with positive gain, best gain: -inf\n",
      "[LightGBM] [Warning] No further splits with positive gain, best gain: -inf\n",
      "[LightGBM] [Warning] No further splits with positive gain, best gain: -inf\n",
      "[LightGBM] [Warning] No further splits with positive gain, best gain: -inf\n",
      "[LightGBM] [Warning] No further splits with positive gain, best gain: -inf\n",
      "[LightGBM] [Warning] No further splits with positive gain, best gain: -inf\n",
      "[LightGBM] [Warning] No further splits with positive gain, best gain: -inf\n",
      "[LightGBM] [Warning] No further splits with positive gain, best gain: -inf\n",
      "[LightGBM] [Warning] No further splits with positive gain, best gain: -inf\n",
      "[LightGBM] [Warning] No further splits with positive gain, best gain: -inf\n",
      "[LightGBM] [Warning] No further splits with positive gain, best gain: -inf\n",
      "[LightGBM] [Warning] No further splits with positive gain, best gain: -inf\n",
      "[LightGBM] [Warning] No further splits with positive gain, best gain: -inf\n",
      "[LightGBM] [Warning] No further splits with positive gain, best gain: -inf\n",
      "[LightGBM] [Warning] No further splits with positive gain, best gain: -inf\n",
      "[LightGBM] [Warning] No further splits with positive gain, best gain: -inf\n",
      "[LightGBM] [Warning] No further splits with positive gain, best gain: -inf\n",
      "[LightGBM] [Warning] No further splits with positive gain, best gain: -inf\n",
      "[LightGBM] [Warning] No further splits with positive gain, best gain: -inf\n",
      "[LightGBM] [Warning] No further splits with positive gain, best gain: -inf\n",
      "[LightGBM] [Warning] No further splits with positive gain, best gain: -inf\n",
      "[LightGBM] [Warning] No further splits with positive gain, best gain: -inf\n",
      "[LightGBM] [Warning] No further splits with positive gain, best gain: -inf\n",
      "[LightGBM] [Warning] No further splits with positive gain, best gain: -inf\n",
      "[LightGBM] [Warning] No further splits with positive gain, best gain: -inf\n",
      "[LightGBM] [Warning] No further splits with positive gain, best gain: -inf\n",
      "[LightGBM] [Warning] No further splits with positive gain, best gain: -inf\n",
      "[LightGBM] [Warning] No further splits with positive gain, best gain: -inf\n",
      "[LightGBM] [Warning] No further splits with positive gain, best gain: -inf\n",
      "[LightGBM] [Warning] No further splits with positive gain, best gain: -inf\n",
      "[LightGBM] [Warning] No further splits with positive gain, best gain: -inf\n",
      "[LightGBM] [Warning] No further splits with positive gain, best gain: -inf\n",
      "[LightGBM] [Warning] No further splits with positive gain, best gain: -inf\n",
      "[LightGBM] [Warning] No further splits with positive gain, best gain: -inf\n",
      "[LightGBM] [Warning] No further splits with positive gain, best gain: -inf\n",
      "[LightGBM] [Warning] No further splits with positive gain, best gain: -inf\n",
      "[LightGBM] [Warning] No further splits with positive gain, best gain: -inf\n",
      "[LightGBM] [Warning] No further splits with positive gain, best gain: -inf\n",
      "[LightGBM] [Warning] No further splits with positive gain, best gain: -inf\n",
      "[LightGBM] [Warning] No further splits with positive gain, best gain: -inf\n",
      "[LightGBM] [Warning] No further splits with positive gain, best gain: -inf\n",
      "[LightGBM] [Warning] No further splits with positive gain, best gain: -inf\n",
      "[LightGBM] [Warning] No further splits with positive gain, best gain: -inf\n",
      "[LightGBM] [Warning] No further splits with positive gain, best gain: -inf\n",
      "[LightGBM] [Warning] No further splits with positive gain, best gain: -inf\n",
      "[LightGBM] [Warning] No further splits with positive gain, best gain: -inf\n",
      "[LightGBM] [Warning] No further splits with positive gain, best gain: -inf\n",
      "[LightGBM] [Warning] No further splits with positive gain, best gain: -inf\n",
      "[LightGBM] [Warning] No further splits with positive gain, best gain: -inf\n",
      "[LightGBM] [Warning] No further splits with positive gain, best gain: -inf\n",
      "[LightGBM] [Warning] No further splits with positive gain, best gain: -inf\n",
      "[LightGBM] [Warning] No further splits with positive gain, best gain: -inf\n",
      "[LightGBM] [Warning] No further splits with positive gain, best gain: -inf\n",
      "[LightGBM] [Warning] No further splits with positive gain, best gain: -inf\n",
      "[LightGBM] [Warning] No further splits with positive gain, best gain: -inf\n",
      "[LightGBM] [Warning] No further splits with positive gain, best gain: -inf\n",
      "[LightGBM] [Warning] No further splits with positive gain, best gain: -inf\n",
      "[LightGBM] [Warning] No further splits with positive gain, best gain: -inf\n",
      "[LightGBM] [Warning] No further splits with positive gain, best gain: -inf\n",
      "[LightGBM] [Warning] No further splits with positive gain, best gain: -inf\n",
      "[LightGBM] [Warning] No further splits with positive gain, best gain: -inf\n",
      "[LightGBM] [Warning] No further splits with positive gain, best gain: -inf\n",
      "[LightGBM] [Warning] No further splits with positive gain, best gain: -inf\n",
      "[LightGBM] [Warning] No further splits with positive gain, best gain: -inf\n",
      "[LightGBM] [Warning] No further splits with positive gain, best gain: -inf\n",
      "[LightGBM] [Warning] No further splits with positive gain, best gain: -inf\n",
      "[LightGBM] [Warning] No further splits with positive gain, best gain: -inf\n",
      "[LightGBM] [Warning] No further splits with positive gain, best gain: -inf\n",
      "[LightGBM] [Warning] No further splits with positive gain, best gain: -inf\n",
      "[LightGBM] [Warning] No further splits with positive gain, best gain: -inf\n",
      "[LightGBM] [Warning] No further splits with positive gain, best gain: -inf\n",
      "[LightGBM] [Warning] No further splits with positive gain, best gain: -inf\n",
      "[LightGBM] [Warning] No further splits with positive gain, best gain: -inf\n",
      "[LightGBM] [Warning] No further splits with positive gain, best gain: -inf\n",
      "[LightGBM] [Warning] No further splits with positive gain, best gain: -inf\n",
      "[LightGBM] [Warning] No further splits with positive gain, best gain: -inf\n",
      "[LightGBM] [Warning] No further splits with positive gain, best gain: -inf\n",
      "[LightGBM] [Warning] No further splits with positive gain, best gain: -inf\n",
      "[LightGBM] [Warning] No further splits with positive gain, best gain: -inf\n",
      "[LightGBM] [Warning] No further splits with positive gain, best gain: -inf\n",
      "[LightGBM] [Warning] No further splits with positive gain, best gain: -inf\n",
      "[LightGBM] [Warning] No further splits with positive gain, best gain: -inf\n",
      "[LightGBM] [Warning] No further splits with positive gain, best gain: -inf\n",
      "[LightGBM] [Warning] No further splits with positive gain, best gain: -inf\n",
      "[LightGBM] [Warning] No further splits with positive gain, best gain: -inf\n",
      "[LightGBM] [Warning] No further splits with positive gain, best gain: -inf\n",
      "[LightGBM] [Warning] No further splits with positive gain, best gain: -inf\n",
      "[LightGBM] [Warning] No further splits with positive gain, best gain: -inf\n",
      "[LightGBM] [Warning] No further splits with positive gain, best gain: -inf\n",
      "[LightGBM] [Warning] No further splits with positive gain, best gain: -inf\n",
      "[LightGBM] [Warning] No further splits with positive gain, best gain: -inf\n",
      "[LightGBM] [Warning] No further splits with positive gain, best gain: -inf\n",
      "[LightGBM] [Warning] No further splits with positive gain, best gain: -inf\n",
      "[LightGBM] [Warning] No further splits with positive gain, best gain: -inf\n",
      "[LightGBM] [Warning] No further splits with positive gain, best gain: -inf\n",
      "[LightGBM] [Warning] No further splits with positive gain, best gain: -inf\n",
      "[LightGBM] [Warning] No further splits with positive gain, best gain: -inf\n",
      "[LightGBM] [Warning] No further splits with positive gain, best gain: -inf\n",
      "[LightGBM] [Warning] No further splits with positive gain, best gain: -inf\n",
      "[LightGBM] [Warning] No further splits with positive gain, best gain: -inf\n",
      "[LightGBM] [Warning] No further splits with positive gain, best gain: -inf\n",
      "[LightGBM] [Warning] No further splits with positive gain, best gain: -inf\n",
      "[LightGBM] [Warning] No further splits with positive gain, best gain: -inf\n",
      "[LightGBM] [Warning] No further splits with positive gain, best gain: -inf\n",
      "[LightGBM] [Warning] No further splits with positive gain, best gain: -inf\n",
      "[LightGBM] [Warning] No further splits with positive gain, best gain: -inf\n",
      "[LightGBM] [Warning] No further splits with positive gain, best gain: -inf\n",
      "[LightGBM] [Warning] No further splits with positive gain, best gain: -inf\n",
      "[LightGBM] [Warning] No further splits with positive gain, best gain: -inf\n",
      "[LightGBM] [Warning] No further splits with positive gain, best gain: -inf\n",
      "[LightGBM] [Warning] No further splits with positive gain, best gain: -inf\n",
      "[LightGBM] [Warning] No further splits with positive gain, best gain: -inf\n",
      "[LightGBM] [Warning] No further splits with positive gain, best gain: -inf\n",
      "[LightGBM] [Warning] No further splits with positive gain, best gain: -inf\n",
      "[LightGBM] [Warning] No further splits with positive gain, best gain: -inf\n",
      "[LightGBM] [Warning] No further splits with positive gain, best gain: -inf\n",
      "[LightGBM] [Warning] No further splits with positive gain, best gain: -inf\n",
      "[LightGBM] [Warning] No further splits with positive gain, best gain: -inf\n",
      "[LightGBM] [Warning] No further splits with positive gain, best gain: -inf\n",
      "[LightGBM] [Warning] No further splits with positive gain, best gain: -inf\n",
      "[LightGBM] [Warning] No further splits with positive gain, best gain: -inf\n",
      "[LightGBM] [Warning] No further splits with positive gain, best gain: -inf\n",
      "[LightGBM] [Warning] No further splits with positive gain, best gain: -inf\n",
      "[LightGBM] [Warning] No further splits with positive gain, best gain: -inf\n",
      "[LightGBM] [Warning] No further splits with positive gain, best gain: -inf\n",
      "[LightGBM] [Warning] No further splits with positive gain, best gain: -inf\n",
      "[LightGBM] [Warning] No further splits with positive gain, best gain: -inf\n",
      "[LightGBM] [Warning] No further splits with positive gain, best gain: -inf\n",
      "[LightGBM] [Warning] No further splits with positive gain, best gain: -inf\n",
      "[LightGBM] [Warning] No further splits with positive gain, best gain: -inf\n",
      "[LightGBM] [Warning] No further splits with positive gain, best gain: -inf\n",
      "[LightGBM] [Warning] No further splits with positive gain, best gain: -inf\n",
      "[LightGBM] [Warning] No further splits with positive gain, best gain: -inf\n",
      "[LightGBM] [Warning] No further splits with positive gain, best gain: -inf\n",
      "[LightGBM] [Warning] No further splits with positive gain, best gain: -inf\n",
      "[LightGBM] [Warning] No further splits with positive gain, best gain: -inf\n",
      "[LightGBM] [Warning] No further splits with positive gain, best gain: -inf\n",
      "[LightGBM] [Warning] No further splits with positive gain, best gain: -inf\n",
      "[LightGBM] [Warning] No further splits with positive gain, best gain: -inf\n",
      "[LightGBM] [Warning] No further splits with positive gain, best gain: -inf\n",
      "[LightGBM] [Warning] No further splits with positive gain, best gain: -inf\n",
      "[LightGBM] [Warning] No further splits with positive gain, best gain: -inf\n",
      "[LightGBM] [Warning] No further splits with positive gain, best gain: -inf\n",
      "[LightGBM] [Warning] No further splits with positive gain, best gain: -inf\n",
      "[LightGBM] [Warning] No further splits with positive gain, best gain: -inf\n",
      "[LightGBM] [Warning] No further splits with positive gain, best gain: -inf\n",
      "[LightGBM] [Warning] No further splits with positive gain, best gain: -inf\n",
      "[LightGBM] [Warning] No further splits with positive gain, best gain: -inf\n",
      "[LightGBM] [Warning] No further splits with positive gain, best gain: -inf\n",
      "[LightGBM] [Warning] No further splits with positive gain, best gain: -inf\n",
      "[LightGBM] [Warning] No further splits with positive gain, best gain: -inf\n",
      "[LightGBM] [Warning] No further splits with positive gain, best gain: -inf\n",
      "[LightGBM] [Warning] No further splits with positive gain, best gain: -inf\n",
      "[LightGBM] [Warning] No further splits with positive gain, best gain: -inf\n",
      "[LightGBM] [Warning] No further splits with positive gain, best gain: -inf\n",
      "[LightGBM] [Warning] No further splits with positive gain, best gain: -inf\n",
      "[LightGBM] [Warning] No further splits with positive gain, best gain: -inf\n",
      "[LightGBM] [Warning] No further splits with positive gain, best gain: -inf\n",
      "[LightGBM] [Warning] No further splits with positive gain, best gain: -inf\n",
      "[LightGBM] [Warning] No further splits with positive gain, best gain: -inf\n",
      "[LightGBM] [Warning] No further splits with positive gain, best gain: -inf\n",
      "[LightGBM] [Warning] No further splits with positive gain, best gain: -inf\n",
      "[LightGBM] [Warning] No further splits with positive gain, best gain: -inf\n",
      "[LightGBM] [Warning] No further splits with positive gain, best gain: -inf\n",
      "[LightGBM] [Warning] No further splits with positive gain, best gain: -inf\n",
      "[LightGBM] [Warning] No further splits with positive gain, best gain: -inf\n",
      "[LightGBM] [Warning] No further splits with positive gain, best gain: -inf\n",
      "[LightGBM] [Warning] No further splits with positive gain, best gain: -inf\n",
      "[LightGBM] [Warning] No further splits with positive gain, best gain: -inf\n",
      "[LightGBM] [Warning] No further splits with positive gain, best gain: -inf\n",
      "[LightGBM] [Warning] No further splits with positive gain, best gain: -inf\n",
      "[LightGBM] [Warning] No further splits with positive gain, best gain: -inf\n",
      "[LightGBM] [Warning] No further splits with positive gain, best gain: -inf\n",
      "[LightGBM] [Warning] No further splits with positive gain, best gain: -inf\n",
      "[LightGBM] [Warning] No further splits with positive gain, best gain: -inf\n",
      "[LightGBM] [Warning] No further splits with positive gain, best gain: -inf\n",
      "[LightGBM] [Warning] No further splits with positive gain, best gain: -inf\n",
      "[LightGBM] [Warning] No further splits with positive gain, best gain: -inf\n",
      "[LightGBM] [Warning] No further splits with positive gain, best gain: -inf\n",
      "[LightGBM] [Warning] No further splits with positive gain, best gain: -inf\n",
      "[LightGBM] [Warning] No further splits with positive gain, best gain: -inf\n",
      "[LightGBM] [Warning] No further splits with positive gain, best gain: -inf\n",
      "[LightGBM] [Warning] No further splits with positive gain, best gain: -inf\n",
      "[LightGBM] [Warning] No further splits with positive gain, best gain: -inf\n",
      "[LightGBM] [Warning] No further splits with positive gain, best gain: -inf\n",
      "[LightGBM] [Warning] No further splits with positive gain, best gain: -inf\n",
      "[LightGBM] [Warning] No further splits with positive gain, best gain: -inf\n",
      "[LightGBM] [Warning] No further splits with positive gain, best gain: -inf\n",
      "[LightGBM] [Warning] No further splits with positive gain, best gain: -inf\n",
      "[LightGBM] [Warning] No further splits with positive gain, best gain: -inf\n",
      "[LightGBM] [Warning] No further splits with positive gain, best gain: -inf\n",
      "[LightGBM] [Warning] lambda_l1 is set=0.9099914228212082, reg_alpha=0.0 will be ignored. Current value: lambda_l1=0.9099914228212082\n",
      "[LightGBM] [Warning] lambda_l2 is set=5.120832470876403, reg_lambda=0.0 will be ignored. Current value: lambda_l2=5.120832470876403\n"
     ]
    },
    {
     "name": "stderr",
     "output_type": "stream",
     "text": [
      "/Users/alexis/Projects/202502 Actuarial Loss Prediction/.env/lib/python3.10/site-packages/sklearn/utils/validation.py:2739: UserWarning: X does not have valid feature names, but LGBMRegressor was fitted with feature names\n",
      "  warnings.warn(\n"
     ]
    },
    {
     "name": "stdout",
     "output_type": "stream",
     "text": [
      "[LightGBM] [Warning] lambda_l1 is set=0.9099914228212082, reg_alpha=0.0 will be ignored. Current value: lambda_l1=0.9099914228212082\n",
      "[LightGBM] [Warning] lambda_l2 is set=5.120832470876403, reg_lambda=0.0 will be ignored. Current value: lambda_l2=5.120832470876403\n",
      "[LightGBM] [Warning] lambda_l1 is set=0.9099914228212082, reg_alpha=0.0 will be ignored. Current value: lambda_l1=0.9099914228212082\n",
      "[LightGBM] [Warning] lambda_l2 is set=5.120832470876403, reg_lambda=0.0 will be ignored. Current value: lambda_l2=5.120832470876403\n",
      "[LightGBM] [Info] Total Bins 85024\n",
      "[LightGBM] [Info] Number of data points in the train set: 43199, number of used features: 395\n",
      "[LightGBM] [Info] Start training from score 5.914034\n",
      "[LightGBM] [Warning] No further splits with positive gain, best gain: -inf\n",
      "[LightGBM] [Warning] No further splits with positive gain, best gain: -inf\n",
      "[LightGBM] [Warning] No further splits with positive gain, best gain: -inf\n",
      "[LightGBM] [Warning] No further splits with positive gain, best gain: -inf\n",
      "[LightGBM] [Warning] No further splits with positive gain, best gain: -inf\n",
      "[LightGBM] [Warning] No further splits with positive gain, best gain: -inf\n",
      "[LightGBM] [Warning] No further splits with positive gain, best gain: -inf\n",
      "[LightGBM] [Warning] No further splits with positive gain, best gain: -inf\n",
      "[LightGBM] [Warning] No further splits with positive gain, best gain: -inf\n",
      "[LightGBM] [Warning] No further splits with positive gain, best gain: -inf\n",
      "[LightGBM] [Warning] No further splits with positive gain, best gain: -inf\n",
      "[LightGBM] [Warning] No further splits with positive gain, best gain: -inf\n",
      "[LightGBM] [Warning] No further splits with positive gain, best gain: -inf\n",
      "[LightGBM] [Warning] No further splits with positive gain, best gain: -inf\n",
      "[LightGBM] [Warning] No further splits with positive gain, best gain: -inf\n",
      "[LightGBM] [Warning] No further splits with positive gain, best gain: -inf\n",
      "[LightGBM] [Warning] No further splits with positive gain, best gain: -inf\n",
      "[LightGBM] [Warning] No further splits with positive gain, best gain: -inf\n",
      "[LightGBM] [Warning] No further splits with positive gain, best gain: -inf\n",
      "[LightGBM] [Warning] No further splits with positive gain, best gain: -inf\n",
      "[LightGBM] [Warning] No further splits with positive gain, best gain: -inf\n",
      "[LightGBM] [Warning] No further splits with positive gain, best gain: -inf\n",
      "[LightGBM] [Warning] No further splits with positive gain, best gain: -inf\n",
      "[LightGBM] [Warning] No further splits with positive gain, best gain: -inf\n",
      "[LightGBM] [Warning] No further splits with positive gain, best gain: -inf\n",
      "[LightGBM] [Warning] No further splits with positive gain, best gain: -inf\n",
      "[LightGBM] [Warning] No further splits with positive gain, best gain: -inf\n",
      "[LightGBM] [Warning] No further splits with positive gain, best gain: -inf\n",
      "[LightGBM] [Warning] No further splits with positive gain, best gain: -inf\n",
      "[LightGBM] [Warning] No further splits with positive gain, best gain: -inf\n",
      "[LightGBM] [Warning] No further splits with positive gain, best gain: -inf\n",
      "[LightGBM] [Warning] No further splits with positive gain, best gain: -inf\n",
      "[LightGBM] [Warning] No further splits with positive gain, best gain: -inf\n",
      "[LightGBM] [Warning] No further splits with positive gain, best gain: -inf\n",
      "[LightGBM] [Warning] No further splits with positive gain, best gain: -inf\n",
      "[LightGBM] [Warning] No further splits with positive gain, best gain: -inf\n",
      "[LightGBM] [Warning] No further splits with positive gain, best gain: -inf\n",
      "[LightGBM] [Warning] No further splits with positive gain, best gain: -inf\n",
      "[LightGBM] [Warning] No further splits with positive gain, best gain: -inf\n",
      "[LightGBM] [Warning] No further splits with positive gain, best gain: -inf\n",
      "[LightGBM] [Warning] No further splits with positive gain, best gain: -inf\n",
      "[LightGBM] [Warning] No further splits with positive gain, best gain: -inf\n",
      "[LightGBM] [Warning] No further splits with positive gain, best gain: -inf\n",
      "[LightGBM] [Warning] No further splits with positive gain, best gain: -inf\n",
      "[LightGBM] [Warning] No further splits with positive gain, best gain: -inf\n",
      "[LightGBM] [Warning] No further splits with positive gain, best gain: -inf\n",
      "[LightGBM] [Warning] No further splits with positive gain, best gain: -inf\n",
      "[LightGBM] [Warning] No further splits with positive gain, best gain: -inf\n",
      "[LightGBM] [Warning] No further splits with positive gain, best gain: -inf\n",
      "[LightGBM] [Warning] No further splits with positive gain, best gain: -inf\n",
      "[LightGBM] [Warning] No further splits with positive gain, best gain: -inf\n",
      "[LightGBM] [Warning] No further splits with positive gain, best gain: -inf\n",
      "[LightGBM] [Warning] No further splits with positive gain, best gain: -inf\n",
      "[LightGBM] [Warning] No further splits with positive gain, best gain: -inf\n",
      "[LightGBM] [Warning] No further splits with positive gain, best gain: -inf\n",
      "[LightGBM] [Warning] No further splits with positive gain, best gain: -inf\n",
      "[LightGBM] [Warning] No further splits with positive gain, best gain: -inf\n",
      "[LightGBM] [Warning] No further splits with positive gain, best gain: -inf\n",
      "[LightGBM] [Warning] No further splits with positive gain, best gain: -inf\n",
      "[LightGBM] [Warning] No further splits with positive gain, best gain: -inf\n",
      "[LightGBM] [Warning] No further splits with positive gain, best gain: -inf\n",
      "[LightGBM] [Warning] No further splits with positive gain, best gain: -inf\n",
      "[LightGBM] [Warning] No further splits with positive gain, best gain: -inf\n",
      "[LightGBM] [Warning] No further splits with positive gain, best gain: -inf\n",
      "[LightGBM] [Warning] No further splits with positive gain, best gain: -inf\n",
      "[LightGBM] [Warning] No further splits with positive gain, best gain: -inf\n",
      "[LightGBM] [Warning] No further splits with positive gain, best gain: -inf\n",
      "[LightGBM] [Warning] No further splits with positive gain, best gain: -inf\n",
      "[LightGBM] [Warning] No further splits with positive gain, best gain: -inf\n",
      "[LightGBM] [Warning] No further splits with positive gain, best gain: -inf\n",
      "[LightGBM] [Warning] No further splits with positive gain, best gain: -inf\n",
      "[LightGBM] [Warning] No further splits with positive gain, best gain: -inf\n",
      "[LightGBM] [Warning] No further splits with positive gain, best gain: -inf\n",
      "[LightGBM] [Warning] No further splits with positive gain, best gain: -inf\n",
      "[LightGBM] [Warning] No further splits with positive gain, best gain: -inf\n",
      "[LightGBM] [Warning] No further splits with positive gain, best gain: -inf\n",
      "[LightGBM] [Warning] No further splits with positive gain, best gain: -inf\n",
      "[LightGBM] [Warning] No further splits with positive gain, best gain: -inf\n",
      "[LightGBM] [Warning] No further splits with positive gain, best gain: -inf\n",
      "[LightGBM] [Warning] No further splits with positive gain, best gain: -inf\n",
      "[LightGBM] [Warning] No further splits with positive gain, best gain: -inf\n",
      "[LightGBM] [Warning] No further splits with positive gain, best gain: -inf\n",
      "[LightGBM] [Warning] No further splits with positive gain, best gain: -inf\n",
      "[LightGBM] [Warning] No further splits with positive gain, best gain: -inf\n",
      "[LightGBM] [Warning] No further splits with positive gain, best gain: -inf\n",
      "[LightGBM] [Warning] No further splits with positive gain, best gain: -inf\n",
      "[LightGBM] [Warning] No further splits with positive gain, best gain: -inf\n",
      "[LightGBM] [Warning] No further splits with positive gain, best gain: -inf\n",
      "[LightGBM] [Warning] No further splits with positive gain, best gain: -inf\n",
      "[LightGBM] [Warning] No further splits with positive gain, best gain: -inf\n",
      "[LightGBM] [Warning] No further splits with positive gain, best gain: -inf\n",
      "[LightGBM] [Warning] No further splits with positive gain, best gain: -inf\n",
      "[LightGBM] [Warning] No further splits with positive gain, best gain: -inf\n",
      "[LightGBM] [Warning] No further splits with positive gain, best gain: -inf\n",
      "[LightGBM] [Warning] No further splits with positive gain, best gain: -inf\n",
      "[LightGBM] [Warning] No further splits with positive gain, best gain: -inf\n",
      "[LightGBM] [Warning] No further splits with positive gain, best gain: -inf\n",
      "[LightGBM] [Warning] No further splits with positive gain, best gain: -inf\n",
      "[LightGBM] [Warning] No further splits with positive gain, best gain: -inf\n",
      "[LightGBM] [Warning] No further splits with positive gain, best gain: -inf\n",
      "[LightGBM] [Warning] No further splits with positive gain, best gain: -inf\n",
      "[LightGBM] [Warning] No further splits with positive gain, best gain: -inf\n",
      "[LightGBM] [Warning] No further splits with positive gain, best gain: -inf\n",
      "[LightGBM] [Warning] No further splits with positive gain, best gain: -inf\n",
      "[LightGBM] [Warning] No further splits with positive gain, best gain: -inf\n",
      "[LightGBM] [Warning] No further splits with positive gain, best gain: -inf\n",
      "[LightGBM] [Warning] No further splits with positive gain, best gain: -inf\n",
      "[LightGBM] [Warning] No further splits with positive gain, best gain: -inf\n",
      "[LightGBM] [Warning] No further splits with positive gain, best gain: -inf\n",
      "[LightGBM] [Warning] No further splits with positive gain, best gain: -inf\n",
      "[LightGBM] [Warning] No further splits with positive gain, best gain: -inf\n",
      "[LightGBM] [Warning] No further splits with positive gain, best gain: -inf\n",
      "[LightGBM] [Warning] No further splits with positive gain, best gain: -inf\n",
      "[LightGBM] [Warning] No further splits with positive gain, best gain: -inf\n",
      "[LightGBM] [Warning] No further splits with positive gain, best gain: -inf\n",
      "[LightGBM] [Warning] No further splits with positive gain, best gain: -inf\n",
      "[LightGBM] [Warning] No further splits with positive gain, best gain: -inf\n",
      "[LightGBM] [Warning] No further splits with positive gain, best gain: -inf\n",
      "[LightGBM] [Warning] No further splits with positive gain, best gain: -inf\n",
      "[LightGBM] [Warning] No further splits with positive gain, best gain: -inf\n",
      "[LightGBM] [Warning] No further splits with positive gain, best gain: -inf\n",
      "[LightGBM] [Warning] No further splits with positive gain, best gain: -inf\n",
      "[LightGBM] [Warning] No further splits with positive gain, best gain: -inf\n",
      "[LightGBM] [Warning] No further splits with positive gain, best gain: -inf\n",
      "[LightGBM] [Warning] No further splits with positive gain, best gain: -inf\n",
      "[LightGBM] [Warning] No further splits with positive gain, best gain: -inf\n",
      "[LightGBM] [Warning] No further splits with positive gain, best gain: -inf\n",
      "[LightGBM] [Warning] No further splits with positive gain, best gain: -inf\n",
      "[LightGBM] [Warning] No further splits with positive gain, best gain: -inf\n",
      "[LightGBM] [Warning] No further splits with positive gain, best gain: -inf\n",
      "[LightGBM] [Warning] No further splits with positive gain, best gain: -inf\n",
      "[LightGBM] [Warning] No further splits with positive gain, best gain: -inf\n",
      "[LightGBM] [Warning] No further splits with positive gain, best gain: -inf\n",
      "[LightGBM] [Warning] No further splits with positive gain, best gain: -inf\n",
      "[LightGBM] [Warning] No further splits with positive gain, best gain: -inf\n",
      "[LightGBM] [Warning] No further splits with positive gain, best gain: -inf\n",
      "[LightGBM] [Warning] No further splits with positive gain, best gain: -inf\n",
      "[LightGBM] [Warning] No further splits with positive gain, best gain: -inf\n",
      "[LightGBM] [Warning] No further splits with positive gain, best gain: -inf\n",
      "[LightGBM] [Warning] No further splits with positive gain, best gain: -inf\n",
      "[LightGBM] [Warning] No further splits with positive gain, best gain: -inf\n",
      "[LightGBM] [Warning] No further splits with positive gain, best gain: -inf\n",
      "[LightGBM] [Warning] No further splits with positive gain, best gain: -inf\n",
      "[LightGBM] [Warning] No further splits with positive gain, best gain: -inf\n",
      "[LightGBM] [Warning] No further splits with positive gain, best gain: -inf\n",
      "[LightGBM] [Warning] No further splits with positive gain, best gain: -inf\n",
      "[LightGBM] [Warning] No further splits with positive gain, best gain: -inf\n",
      "[LightGBM] [Warning] No further splits with positive gain, best gain: -inf\n",
      "[LightGBM] [Warning] No further splits with positive gain, best gain: -inf\n",
      "[LightGBM] [Warning] No further splits with positive gain, best gain: -inf\n",
      "[LightGBM] [Warning] No further splits with positive gain, best gain: -inf\n",
      "[LightGBM] [Warning] No further splits with positive gain, best gain: -inf\n",
      "[LightGBM] [Warning] No further splits with positive gain, best gain: -inf\n",
      "[LightGBM] [Warning] No further splits with positive gain, best gain: -inf\n",
      "[LightGBM] [Warning] No further splits with positive gain, best gain: -inf\n",
      "[LightGBM] [Warning] No further splits with positive gain, best gain: -inf\n",
      "[LightGBM] [Warning] No further splits with positive gain, best gain: -inf\n",
      "[LightGBM] [Warning] No further splits with positive gain, best gain: -inf\n",
      "[LightGBM] [Warning] No further splits with positive gain, best gain: -inf\n",
      "[LightGBM] [Warning] No further splits with positive gain, best gain: -inf\n",
      "[LightGBM] [Warning] No further splits with positive gain, best gain: -inf\n",
      "[LightGBM] [Warning] No further splits with positive gain, best gain: -inf\n",
      "[LightGBM] [Warning] No further splits with positive gain, best gain: -inf\n",
      "[LightGBM] [Warning] No further splits with positive gain, best gain: -inf\n",
      "[LightGBM] [Warning] No further splits with positive gain, best gain: -inf\n",
      "[LightGBM] [Warning] No further splits with positive gain, best gain: -inf\n",
      "[LightGBM] [Warning] No further splits with positive gain, best gain: -inf\n",
      "[LightGBM] [Warning] No further splits with positive gain, best gain: -inf\n",
      "[LightGBM] [Warning] No further splits with positive gain, best gain: -inf\n",
      "[LightGBM] [Warning] No further splits with positive gain, best gain: -inf\n",
      "[LightGBM] [Warning] No further splits with positive gain, best gain: -inf\n",
      "[LightGBM] [Warning] No further splits with positive gain, best gain: -inf\n",
      "[LightGBM] [Warning] No further splits with positive gain, best gain: -inf\n",
      "[LightGBM] [Warning] No further splits with positive gain, best gain: -inf\n",
      "[LightGBM] [Warning] No further splits with positive gain, best gain: -inf\n",
      "[LightGBM] [Warning] No further splits with positive gain, best gain: -inf\n",
      "[LightGBM] [Warning] No further splits with positive gain, best gain: -inf\n",
      "[LightGBM] [Warning] No further splits with positive gain, best gain: -inf\n",
      "[LightGBM] [Warning] No further splits with positive gain, best gain: -inf\n",
      "[LightGBM] [Warning] No further splits with positive gain, best gain: -inf\n",
      "[LightGBM] [Warning] No further splits with positive gain, best gain: -inf\n",
      "[LightGBM] [Warning] No further splits with positive gain, best gain: -inf\n",
      "[LightGBM] [Warning] No further splits with positive gain, best gain: -inf\n",
      "[LightGBM] [Warning] No further splits with positive gain, best gain: -inf\n",
      "[LightGBM] [Warning] No further splits with positive gain, best gain: -inf\n",
      "[LightGBM] [Warning] No further splits with positive gain, best gain: -inf\n",
      "[LightGBM] [Warning] No further splits with positive gain, best gain: -inf\n",
      "[LightGBM] [Warning] No further splits with positive gain, best gain: -inf\n",
      "[LightGBM] [Warning] No further splits with positive gain, best gain: -inf\n",
      "[LightGBM] [Warning] No further splits with positive gain, best gain: -inf\n",
      "[LightGBM] [Warning] No further splits with positive gain, best gain: -inf\n",
      "[LightGBM] [Warning] No further splits with positive gain, best gain: -inf\n",
      "[LightGBM] [Warning] No further splits with positive gain, best gain: -inf\n",
      "[LightGBM] [Warning] No further splits with positive gain, best gain: -inf\n",
      "[LightGBM] [Warning] No further splits with positive gain, best gain: -inf\n",
      "[LightGBM] [Warning] No further splits with positive gain, best gain: -inf\n",
      "[LightGBM] [Warning] No further splits with positive gain, best gain: -inf\n",
      "[LightGBM] [Warning] No further splits with positive gain, best gain: -inf\n",
      "[LightGBM] [Warning] No further splits with positive gain, best gain: -inf\n",
      "[LightGBM] [Warning] No further splits with positive gain, best gain: -inf\n",
      "[LightGBM] [Warning] lambda_l1 is set=0.9099914228212082, reg_alpha=0.0 will be ignored. Current value: lambda_l1=0.9099914228212082\n",
      "[LightGBM] [Warning] lambda_l2 is set=5.120832470876403, reg_lambda=0.0 will be ignored. Current value: lambda_l2=5.120832470876403\n"
     ]
    },
    {
     "name": "stderr",
     "output_type": "stream",
     "text": [
      "/Users/alexis/Projects/202502 Actuarial Loss Prediction/.env/lib/python3.10/site-packages/sklearn/utils/validation.py:2739: UserWarning: X does not have valid feature names, but LGBMRegressor was fitted with feature names\n",
      "  warnings.warn(\n"
     ]
    },
    {
     "name": "stdout",
     "output_type": "stream",
     "text": [
      "[LightGBM] [Warning] lambda_l1 is set=0.9099914228212082, reg_alpha=0.0 will be ignored. Current value: lambda_l1=0.9099914228212082\n",
      "[LightGBM] [Warning] lambda_l2 is set=5.120832470876403, reg_lambda=0.0 will be ignored. Current value: lambda_l2=5.120832470876403\n",
      "[LightGBM] [Warning] lambda_l1 is set=0.9099914228212082, reg_alpha=0.0 will be ignored. Current value: lambda_l1=0.9099914228212082\n",
      "[LightGBM] [Warning] lambda_l2 is set=5.120832470876403, reg_lambda=0.0 will be ignored. Current value: lambda_l2=5.120832470876403\n",
      "[LightGBM] [Info] Total Bins 85026\n",
      "[LightGBM] [Info] Number of data points in the train set: 43199, number of used features: 395\n",
      "[LightGBM] [Info] Start training from score 5.945550\n",
      "[LightGBM] [Warning] No further splits with positive gain, best gain: -inf\n",
      "[LightGBM] [Warning] No further splits with positive gain, best gain: -inf\n",
      "[LightGBM] [Warning] No further splits with positive gain, best gain: -inf\n",
      "[LightGBM] [Warning] No further splits with positive gain, best gain: -inf\n",
      "[LightGBM] [Warning] No further splits with positive gain, best gain: -inf\n",
      "[LightGBM] [Warning] No further splits with positive gain, best gain: -inf\n",
      "[LightGBM] [Warning] No further splits with positive gain, best gain: -inf\n",
      "[LightGBM] [Warning] No further splits with positive gain, best gain: -inf\n",
      "[LightGBM] [Warning] No further splits with positive gain, best gain: -inf\n",
      "[LightGBM] [Warning] No further splits with positive gain, best gain: -inf\n",
      "[LightGBM] [Warning] No further splits with positive gain, best gain: -inf\n",
      "[LightGBM] [Warning] No further splits with positive gain, best gain: -inf\n",
      "[LightGBM] [Warning] No further splits with positive gain, best gain: -inf\n",
      "[LightGBM] [Warning] No further splits with positive gain, best gain: -inf\n",
      "[LightGBM] [Warning] No further splits with positive gain, best gain: -inf\n",
      "[LightGBM] [Warning] No further splits with positive gain, best gain: -inf\n",
      "[LightGBM] [Warning] No further splits with positive gain, best gain: -inf\n",
      "[LightGBM] [Warning] No further splits with positive gain, best gain: -inf\n",
      "[LightGBM] [Warning] No further splits with positive gain, best gain: -inf\n",
      "[LightGBM] [Warning] No further splits with positive gain, best gain: -inf\n",
      "[LightGBM] [Warning] No further splits with positive gain, best gain: -inf\n",
      "[LightGBM] [Warning] No further splits with positive gain, best gain: -inf\n",
      "[LightGBM] [Warning] No further splits with positive gain, best gain: -inf\n",
      "[LightGBM] [Warning] No further splits with positive gain, best gain: -inf\n",
      "[LightGBM] [Warning] No further splits with positive gain, best gain: -inf\n",
      "[LightGBM] [Warning] No further splits with positive gain, best gain: -inf\n",
      "[LightGBM] [Warning] No further splits with positive gain, best gain: -inf\n",
      "[LightGBM] [Warning] No further splits with positive gain, best gain: -inf\n",
      "[LightGBM] [Warning] No further splits with positive gain, best gain: -inf\n",
      "[LightGBM] [Warning] No further splits with positive gain, best gain: -inf\n",
      "[LightGBM] [Warning] No further splits with positive gain, best gain: -inf\n",
      "[LightGBM] [Warning] No further splits with positive gain, best gain: -inf\n",
      "[LightGBM] [Warning] No further splits with positive gain, best gain: -inf\n",
      "[LightGBM] [Warning] No further splits with positive gain, best gain: -inf\n",
      "[LightGBM] [Warning] No further splits with positive gain, best gain: -inf\n",
      "[LightGBM] [Warning] No further splits with positive gain, best gain: -inf\n",
      "[LightGBM] [Warning] No further splits with positive gain, best gain: -inf\n",
      "[LightGBM] [Warning] No further splits with positive gain, best gain: -inf\n",
      "[LightGBM] [Warning] No further splits with positive gain, best gain: -inf\n",
      "[LightGBM] [Warning] No further splits with positive gain, best gain: -inf\n",
      "[LightGBM] [Warning] No further splits with positive gain, best gain: -inf\n",
      "[LightGBM] [Warning] No further splits with positive gain, best gain: -inf\n",
      "[LightGBM] [Warning] No further splits with positive gain, best gain: -inf\n",
      "[LightGBM] [Warning] No further splits with positive gain, best gain: -inf\n",
      "[LightGBM] [Warning] No further splits with positive gain, best gain: -inf\n",
      "[LightGBM] [Warning] No further splits with positive gain, best gain: -inf\n",
      "[LightGBM] [Warning] No further splits with positive gain, best gain: -inf\n",
      "[LightGBM] [Warning] No further splits with positive gain, best gain: -inf\n",
      "[LightGBM] [Warning] No further splits with positive gain, best gain: -inf\n",
      "[LightGBM] [Warning] No further splits with positive gain, best gain: -inf\n",
      "[LightGBM] [Warning] No further splits with positive gain, best gain: -inf\n",
      "[LightGBM] [Warning] No further splits with positive gain, best gain: -inf\n",
      "[LightGBM] [Warning] No further splits with positive gain, best gain: -inf\n",
      "[LightGBM] [Warning] No further splits with positive gain, best gain: -inf\n",
      "[LightGBM] [Warning] No further splits with positive gain, best gain: -inf\n",
      "[LightGBM] [Warning] No further splits with positive gain, best gain: -inf\n",
      "[LightGBM] [Warning] No further splits with positive gain, best gain: -inf\n",
      "[LightGBM] [Warning] No further splits with positive gain, best gain: -inf\n",
      "[LightGBM] [Warning] No further splits with positive gain, best gain: -inf\n",
      "[LightGBM] [Warning] No further splits with positive gain, best gain: -inf\n",
      "[LightGBM] [Warning] No further splits with positive gain, best gain: -inf\n",
      "[LightGBM] [Warning] No further splits with positive gain, best gain: -inf\n",
      "[LightGBM] [Warning] No further splits with positive gain, best gain: -inf\n",
      "[LightGBM] [Warning] No further splits with positive gain, best gain: -inf\n",
      "[LightGBM] [Warning] No further splits with positive gain, best gain: -inf\n",
      "[LightGBM] [Warning] No further splits with positive gain, best gain: -inf\n",
      "[LightGBM] [Warning] No further splits with positive gain, best gain: -inf\n",
      "[LightGBM] [Warning] No further splits with positive gain, best gain: -inf\n",
      "[LightGBM] [Warning] No further splits with positive gain, best gain: -inf\n",
      "[LightGBM] [Warning] No further splits with positive gain, best gain: -inf\n",
      "[LightGBM] [Warning] No further splits with positive gain, best gain: -inf\n",
      "[LightGBM] [Warning] No further splits with positive gain, best gain: -inf\n",
      "[LightGBM] [Warning] No further splits with positive gain, best gain: -inf\n",
      "[LightGBM] [Warning] No further splits with positive gain, best gain: -inf\n",
      "[LightGBM] [Warning] No further splits with positive gain, best gain: -inf\n",
      "[LightGBM] [Warning] No further splits with positive gain, best gain: -inf\n",
      "[LightGBM] [Warning] No further splits with positive gain, best gain: -inf\n",
      "[LightGBM] [Warning] No further splits with positive gain, best gain: -inf\n",
      "[LightGBM] [Warning] No further splits with positive gain, best gain: -inf\n",
      "[LightGBM] [Warning] No further splits with positive gain, best gain: -inf\n",
      "[LightGBM] [Warning] No further splits with positive gain, best gain: -inf\n",
      "[LightGBM] [Warning] No further splits with positive gain, best gain: -inf\n",
      "[LightGBM] [Warning] No further splits with positive gain, best gain: -inf\n",
      "[LightGBM] [Warning] No further splits with positive gain, best gain: -inf\n",
      "[LightGBM] [Warning] No further splits with positive gain, best gain: -inf\n",
      "[LightGBM] [Warning] No further splits with positive gain, best gain: -inf\n",
      "[LightGBM] [Warning] No further splits with positive gain, best gain: -inf\n",
      "[LightGBM] [Warning] No further splits with positive gain, best gain: -inf\n",
      "[LightGBM] [Warning] No further splits with positive gain, best gain: -inf\n",
      "[LightGBM] [Warning] No further splits with positive gain, best gain: -inf\n",
      "[LightGBM] [Warning] No further splits with positive gain, best gain: -inf\n",
      "[LightGBM] [Warning] No further splits with positive gain, best gain: -inf\n",
      "[LightGBM] [Warning] No further splits with positive gain, best gain: -inf\n",
      "[LightGBM] [Warning] No further splits with positive gain, best gain: -inf\n",
      "[LightGBM] [Warning] No further splits with positive gain, best gain: -inf\n",
      "[LightGBM] [Warning] No further splits with positive gain, best gain: -inf\n",
      "[LightGBM] [Warning] No further splits with positive gain, best gain: -inf\n",
      "[LightGBM] [Warning] No further splits with positive gain, best gain: -inf\n",
      "[LightGBM] [Warning] No further splits with positive gain, best gain: -inf\n",
      "[LightGBM] [Warning] No further splits with positive gain, best gain: -inf\n",
      "[LightGBM] [Warning] No further splits with positive gain, best gain: -inf\n",
      "[LightGBM] [Warning] No further splits with positive gain, best gain: -inf\n",
      "[LightGBM] [Warning] No further splits with positive gain, best gain: -inf\n",
      "[LightGBM] [Warning] No further splits with positive gain, best gain: -inf\n",
      "[LightGBM] [Warning] No further splits with positive gain, best gain: -inf\n",
      "[LightGBM] [Warning] No further splits with positive gain, best gain: -inf\n",
      "[LightGBM] [Warning] No further splits with positive gain, best gain: -inf\n",
      "[LightGBM] [Warning] No further splits with positive gain, best gain: -inf\n",
      "[LightGBM] [Warning] No further splits with positive gain, best gain: -inf\n",
      "[LightGBM] [Warning] No further splits with positive gain, best gain: -inf\n",
      "[LightGBM] [Warning] No further splits with positive gain, best gain: -inf\n",
      "[LightGBM] [Warning] No further splits with positive gain, best gain: -inf\n",
      "[LightGBM] [Warning] No further splits with positive gain, best gain: -inf\n",
      "[LightGBM] [Warning] No further splits with positive gain, best gain: -inf\n",
      "[LightGBM] [Warning] No further splits with positive gain, best gain: -inf\n",
      "[LightGBM] [Warning] No further splits with positive gain, best gain: -inf\n",
      "[LightGBM] [Warning] No further splits with positive gain, best gain: -inf\n",
      "[LightGBM] [Warning] No further splits with positive gain, best gain: -inf\n",
      "[LightGBM] [Warning] No further splits with positive gain, best gain: -inf\n",
      "[LightGBM] [Warning] No further splits with positive gain, best gain: -inf\n",
      "[LightGBM] [Warning] No further splits with positive gain, best gain: -inf\n",
      "[LightGBM] [Warning] No further splits with positive gain, best gain: -inf\n",
      "[LightGBM] [Warning] No further splits with positive gain, best gain: -inf\n",
      "[LightGBM] [Warning] No further splits with positive gain, best gain: -inf\n",
      "[LightGBM] [Warning] No further splits with positive gain, best gain: -inf\n",
      "[LightGBM] [Warning] No further splits with positive gain, best gain: -inf\n",
      "[LightGBM] [Warning] No further splits with positive gain, best gain: -inf\n",
      "[LightGBM] [Warning] No further splits with positive gain, best gain: -inf\n",
      "[LightGBM] [Warning] No further splits with positive gain, best gain: -inf\n",
      "[LightGBM] [Warning] No further splits with positive gain, best gain: -inf\n",
      "[LightGBM] [Warning] No further splits with positive gain, best gain: -inf\n",
      "[LightGBM] [Warning] No further splits with positive gain, best gain: -inf\n",
      "[LightGBM] [Warning] No further splits with positive gain, best gain: -inf\n",
      "[LightGBM] [Warning] No further splits with positive gain, best gain: -inf\n",
      "[LightGBM] [Warning] No further splits with positive gain, best gain: -inf\n",
      "[LightGBM] [Warning] No further splits with positive gain, best gain: -inf\n",
      "[LightGBM] [Warning] No further splits with positive gain, best gain: -inf\n",
      "[LightGBM] [Warning] No further splits with positive gain, best gain: -inf\n",
      "[LightGBM] [Warning] No further splits with positive gain, best gain: -inf\n",
      "[LightGBM] [Warning] No further splits with positive gain, best gain: -inf\n",
      "[LightGBM] [Warning] No further splits with positive gain, best gain: -inf\n",
      "[LightGBM] [Warning] No further splits with positive gain, best gain: -inf\n",
      "[LightGBM] [Warning] No further splits with positive gain, best gain: -inf\n",
      "[LightGBM] [Warning] No further splits with positive gain, best gain: -inf\n",
      "[LightGBM] [Warning] No further splits with positive gain, best gain: -inf\n",
      "[LightGBM] [Warning] No further splits with positive gain, best gain: -inf\n",
      "[LightGBM] [Warning] No further splits with positive gain, best gain: -inf\n",
      "[LightGBM] [Warning] No further splits with positive gain, best gain: -inf\n",
      "[LightGBM] [Warning] No further splits with positive gain, best gain: -inf\n",
      "[LightGBM] [Warning] No further splits with positive gain, best gain: -inf\n",
      "[LightGBM] [Warning] No further splits with positive gain, best gain: -inf\n",
      "[LightGBM] [Warning] No further splits with positive gain, best gain: -inf\n",
      "[LightGBM] [Warning] No further splits with positive gain, best gain: -inf\n",
      "[LightGBM] [Warning] No further splits with positive gain, best gain: -inf\n",
      "[LightGBM] [Warning] No further splits with positive gain, best gain: -inf\n",
      "[LightGBM] [Warning] No further splits with positive gain, best gain: -inf\n",
      "[LightGBM] [Warning] No further splits with positive gain, best gain: -inf\n",
      "[LightGBM] [Warning] No further splits with positive gain, best gain: -inf\n",
      "[LightGBM] [Warning] No further splits with positive gain, best gain: -inf\n",
      "[LightGBM] [Warning] No further splits with positive gain, best gain: -inf\n",
      "[LightGBM] [Warning] No further splits with positive gain, best gain: -inf\n",
      "[LightGBM] [Warning] No further splits with positive gain, best gain: -inf\n",
      "[LightGBM] [Warning] No further splits with positive gain, best gain: -inf\n",
      "[LightGBM] [Warning] No further splits with positive gain, best gain: -inf\n",
      "[LightGBM] [Warning] No further splits with positive gain, best gain: -inf\n",
      "[LightGBM] [Warning] No further splits with positive gain, best gain: -inf\n",
      "[LightGBM] [Warning] No further splits with positive gain, best gain: -inf\n",
      "[LightGBM] [Warning] No further splits with positive gain, best gain: -inf\n",
      "[LightGBM] [Warning] No further splits with positive gain, best gain: -inf\n",
      "[LightGBM] [Warning] No further splits with positive gain, best gain: -inf\n",
      "[LightGBM] [Warning] No further splits with positive gain, best gain: -inf\n",
      "[LightGBM] [Warning] No further splits with positive gain, best gain: -inf\n",
      "[LightGBM] [Warning] No further splits with positive gain, best gain: -inf\n",
      "[LightGBM] [Warning] No further splits with positive gain, best gain: -inf\n",
      "[LightGBM] [Warning] No further splits with positive gain, best gain: -inf\n",
      "[LightGBM] [Warning] No further splits with positive gain, best gain: -inf\n",
      "[LightGBM] [Warning] No further splits with positive gain, best gain: -inf\n",
      "[LightGBM] [Warning] No further splits with positive gain, best gain: -inf\n",
      "[LightGBM] [Warning] No further splits with positive gain, best gain: -inf\n",
      "[LightGBM] [Warning] No further splits with positive gain, best gain: -inf\n",
      "[LightGBM] [Warning] No further splits with positive gain, best gain: -inf\n",
      "[LightGBM] [Warning] No further splits with positive gain, best gain: -inf\n",
      "[LightGBM] [Warning] No further splits with positive gain, best gain: -inf\n",
      "[LightGBM] [Warning] No further splits with positive gain, best gain: -inf\n",
      "[LightGBM] [Warning] No further splits with positive gain, best gain: -inf\n",
      "[LightGBM] [Warning] No further splits with positive gain, best gain: -inf\n",
      "[LightGBM] [Warning] No further splits with positive gain, best gain: -inf\n",
      "[LightGBM] [Warning] No further splits with positive gain, best gain: -inf\n",
      "[LightGBM] [Warning] No further splits with positive gain, best gain: -inf\n",
      "[LightGBM] [Warning] No further splits with positive gain, best gain: -inf\n",
      "[LightGBM] [Warning] No further splits with positive gain, best gain: -inf\n",
      "[LightGBM] [Warning] No further splits with positive gain, best gain: -inf\n",
      "[LightGBM] [Warning] No further splits with positive gain, best gain: -inf\n",
      "[LightGBM] [Warning] No further splits with positive gain, best gain: -inf\n",
      "[LightGBM] [Warning] No further splits with positive gain, best gain: -inf\n",
      "[LightGBM] [Warning] No further splits with positive gain, best gain: -inf\n",
      "[LightGBM] [Warning] No further splits with positive gain, best gain: -inf\n",
      "[LightGBM] [Warning] No further splits with positive gain, best gain: -inf\n",
      "[LightGBM] [Warning] No further splits with positive gain, best gain: -inf\n",
      "[LightGBM] [Warning] No further splits with positive gain, best gain: -inf\n",
      "[LightGBM] [Warning] lambda_l1 is set=0.9099914228212082, reg_alpha=0.0 will be ignored. Current value: lambda_l1=0.9099914228212082\n",
      "[LightGBM] [Warning] lambda_l2 is set=5.120832470876403, reg_lambda=0.0 will be ignored. Current value: lambda_l2=5.120832470876403\n"
     ]
    },
    {
     "name": "stderr",
     "output_type": "stream",
     "text": [
      "/Users/alexis/Projects/202502 Actuarial Loss Prediction/.env/lib/python3.10/site-packages/sklearn/utils/validation.py:2739: UserWarning: X does not have valid feature names, but LGBMRegressor was fitted with feature names\n",
      "  warnings.warn(\n"
     ]
    },
    {
     "name": "stdout",
     "output_type": "stream",
     "text": [
      "[LightGBM] [Warning] lambda_l1 is set=0.9099914228212082, reg_alpha=0.0 will be ignored. Current value: lambda_l1=0.9099914228212082\n",
      "[LightGBM] [Warning] lambda_l2 is set=5.120832470876403, reg_lambda=0.0 will be ignored. Current value: lambda_l2=5.120832470876403\n",
      "[LightGBM] [Warning] lambda_l1 is set=0.9099914228212082, reg_alpha=0.0 will be ignored. Current value: lambda_l1=0.9099914228212082\n",
      "[LightGBM] [Warning] lambda_l2 is set=5.120832470876403, reg_lambda=0.0 will be ignored. Current value: lambda_l2=5.120832470876403\n",
      "[LightGBM] [Info] Total Bins 85029\n",
      "[LightGBM] [Info] Number of data points in the train set: 43199, number of used features: 395\n",
      "[LightGBM] [Info] Start training from score 5.959808\n",
      "[LightGBM] [Warning] No further splits with positive gain, best gain: -inf\n",
      "[LightGBM] [Warning] No further splits with positive gain, best gain: -inf\n",
      "[LightGBM] [Warning] No further splits with positive gain, best gain: -inf\n",
      "[LightGBM] [Warning] No further splits with positive gain, best gain: -inf\n",
      "[LightGBM] [Warning] No further splits with positive gain, best gain: -inf\n",
      "[LightGBM] [Warning] No further splits with positive gain, best gain: -inf\n",
      "[LightGBM] [Warning] No further splits with positive gain, best gain: -inf\n",
      "[LightGBM] [Warning] No further splits with positive gain, best gain: -inf\n",
      "[LightGBM] [Warning] No further splits with positive gain, best gain: -inf\n",
      "[LightGBM] [Warning] No further splits with positive gain, best gain: -inf\n",
      "[LightGBM] [Warning] No further splits with positive gain, best gain: -inf\n",
      "[LightGBM] [Warning] No further splits with positive gain, best gain: -inf\n",
      "[LightGBM] [Warning] No further splits with positive gain, best gain: -inf\n",
      "[LightGBM] [Warning] No further splits with positive gain, best gain: -inf\n",
      "[LightGBM] [Warning] No further splits with positive gain, best gain: -inf\n",
      "[LightGBM] [Warning] No further splits with positive gain, best gain: -inf\n",
      "[LightGBM] [Warning] No further splits with positive gain, best gain: -inf\n",
      "[LightGBM] [Warning] No further splits with positive gain, best gain: -inf\n",
      "[LightGBM] [Warning] No further splits with positive gain, best gain: -inf\n",
      "[LightGBM] [Warning] No further splits with positive gain, best gain: -inf\n",
      "[LightGBM] [Warning] No further splits with positive gain, best gain: -inf\n",
      "[LightGBM] [Warning] No further splits with positive gain, best gain: -inf\n",
      "[LightGBM] [Warning] No further splits with positive gain, best gain: -inf\n",
      "[LightGBM] [Warning] No further splits with positive gain, best gain: -inf\n",
      "[LightGBM] [Warning] No further splits with positive gain, best gain: -inf\n",
      "[LightGBM] [Warning] No further splits with positive gain, best gain: -inf\n",
      "[LightGBM] [Warning] No further splits with positive gain, best gain: -inf\n",
      "[LightGBM] [Warning] No further splits with positive gain, best gain: -inf\n",
      "[LightGBM] [Warning] No further splits with positive gain, best gain: -inf\n",
      "[LightGBM] [Warning] No further splits with positive gain, best gain: -inf\n",
      "[LightGBM] [Warning] No further splits with positive gain, best gain: -inf\n",
      "[LightGBM] [Warning] No further splits with positive gain, best gain: -inf\n",
      "[LightGBM] [Warning] No further splits with positive gain, best gain: -inf\n",
      "[LightGBM] [Warning] No further splits with positive gain, best gain: -inf\n",
      "[LightGBM] [Warning] No further splits with positive gain, best gain: -inf\n",
      "[LightGBM] [Warning] No further splits with positive gain, best gain: -inf\n",
      "[LightGBM] [Warning] No further splits with positive gain, best gain: -inf\n",
      "[LightGBM] [Warning] No further splits with positive gain, best gain: -inf\n",
      "[LightGBM] [Warning] No further splits with positive gain, best gain: -inf\n",
      "[LightGBM] [Warning] No further splits with positive gain, best gain: -inf\n",
      "[LightGBM] [Warning] No further splits with positive gain, best gain: -inf\n",
      "[LightGBM] [Warning] No further splits with positive gain, best gain: -inf\n",
      "[LightGBM] [Warning] No further splits with positive gain, best gain: -inf\n",
      "[LightGBM] [Warning] No further splits with positive gain, best gain: -inf\n",
      "[LightGBM] [Warning] No further splits with positive gain, best gain: -inf\n",
      "[LightGBM] [Warning] No further splits with positive gain, best gain: -inf\n",
      "[LightGBM] [Warning] No further splits with positive gain, best gain: -inf\n",
      "[LightGBM] [Warning] No further splits with positive gain, best gain: -inf\n",
      "[LightGBM] [Warning] No further splits with positive gain, best gain: -inf\n",
      "[LightGBM] [Warning] No further splits with positive gain, best gain: -inf\n",
      "[LightGBM] [Warning] No further splits with positive gain, best gain: -inf\n",
      "[LightGBM] [Warning] No further splits with positive gain, best gain: -inf\n",
      "[LightGBM] [Warning] No further splits with positive gain, best gain: -inf\n",
      "[LightGBM] [Warning] No further splits with positive gain, best gain: -inf\n",
      "[LightGBM] [Warning] No further splits with positive gain, best gain: -inf\n",
      "[LightGBM] [Warning] No further splits with positive gain, best gain: -inf\n",
      "[LightGBM] [Warning] No further splits with positive gain, best gain: -inf\n",
      "[LightGBM] [Warning] No further splits with positive gain, best gain: -inf\n",
      "[LightGBM] [Warning] No further splits with positive gain, best gain: -inf\n",
      "[LightGBM] [Warning] No further splits with positive gain, best gain: -inf\n",
      "[LightGBM] [Warning] No further splits with positive gain, best gain: -inf\n",
      "[LightGBM] [Warning] No further splits with positive gain, best gain: -inf\n",
      "[LightGBM] [Warning] No further splits with positive gain, best gain: -inf\n",
      "[LightGBM] [Warning] No further splits with positive gain, best gain: -inf\n",
      "[LightGBM] [Warning] No further splits with positive gain, best gain: -inf\n",
      "[LightGBM] [Warning] No further splits with positive gain, best gain: -inf\n",
      "[LightGBM] [Warning] No further splits with positive gain, best gain: -inf\n",
      "[LightGBM] [Warning] No further splits with positive gain, best gain: -inf\n",
      "[LightGBM] [Warning] No further splits with positive gain, best gain: -inf\n",
      "[LightGBM] [Warning] No further splits with positive gain, best gain: -inf\n",
      "[LightGBM] [Warning] No further splits with positive gain, best gain: -inf\n",
      "[LightGBM] [Warning] No further splits with positive gain, best gain: -inf\n",
      "[LightGBM] [Warning] No further splits with positive gain, best gain: -inf\n",
      "[LightGBM] [Warning] No further splits with positive gain, best gain: -inf\n",
      "[LightGBM] [Warning] No further splits with positive gain, best gain: -inf\n",
      "[LightGBM] [Warning] No further splits with positive gain, best gain: -inf\n",
      "[LightGBM] [Warning] No further splits with positive gain, best gain: -inf\n",
      "[LightGBM] [Warning] No further splits with positive gain, best gain: -inf\n",
      "[LightGBM] [Warning] No further splits with positive gain, best gain: -inf\n",
      "[LightGBM] [Warning] No further splits with positive gain, best gain: -inf\n",
      "[LightGBM] [Warning] No further splits with positive gain, best gain: -inf\n",
      "[LightGBM] [Warning] No further splits with positive gain, best gain: -inf\n",
      "[LightGBM] [Warning] No further splits with positive gain, best gain: -inf\n",
      "[LightGBM] [Warning] No further splits with positive gain, best gain: -inf\n",
      "[LightGBM] [Warning] No further splits with positive gain, best gain: -inf\n",
      "[LightGBM] [Warning] No further splits with positive gain, best gain: -inf\n",
      "[LightGBM] [Warning] No further splits with positive gain, best gain: -inf\n",
      "[LightGBM] [Warning] No further splits with positive gain, best gain: -inf\n",
      "[LightGBM] [Warning] No further splits with positive gain, best gain: -inf\n",
      "[LightGBM] [Warning] No further splits with positive gain, best gain: -inf\n",
      "[LightGBM] [Warning] No further splits with positive gain, best gain: -inf\n",
      "[LightGBM] [Warning] No further splits with positive gain, best gain: -inf\n",
      "[LightGBM] [Warning] No further splits with positive gain, best gain: -inf\n",
      "[LightGBM] [Warning] No further splits with positive gain, best gain: -inf\n",
      "[LightGBM] [Warning] No further splits with positive gain, best gain: -inf\n",
      "[LightGBM] [Warning] No further splits with positive gain, best gain: -inf\n",
      "[LightGBM] [Warning] No further splits with positive gain, best gain: -inf\n",
      "[LightGBM] [Warning] No further splits with positive gain, best gain: -inf\n",
      "[LightGBM] [Warning] No further splits with positive gain, best gain: -inf\n",
      "[LightGBM] [Warning] No further splits with positive gain, best gain: -inf\n",
      "[LightGBM] [Warning] No further splits with positive gain, best gain: -inf\n",
      "[LightGBM] [Warning] No further splits with positive gain, best gain: -inf\n",
      "[LightGBM] [Warning] No further splits with positive gain, best gain: -inf\n",
      "[LightGBM] [Warning] No further splits with positive gain, best gain: -inf\n",
      "[LightGBM] [Warning] No further splits with positive gain, best gain: -inf\n",
      "[LightGBM] [Warning] No further splits with positive gain, best gain: -inf\n",
      "[LightGBM] [Warning] No further splits with positive gain, best gain: -inf\n",
      "[LightGBM] [Warning] No further splits with positive gain, best gain: -inf\n",
      "[LightGBM] [Warning] No further splits with positive gain, best gain: -inf\n",
      "[LightGBM] [Warning] No further splits with positive gain, best gain: -inf\n",
      "[LightGBM] [Warning] No further splits with positive gain, best gain: -inf\n",
      "[LightGBM] [Warning] No further splits with positive gain, best gain: -inf\n",
      "[LightGBM] [Warning] No further splits with positive gain, best gain: -inf\n",
      "[LightGBM] [Warning] No further splits with positive gain, best gain: -inf\n",
      "[LightGBM] [Warning] No further splits with positive gain, best gain: -inf\n",
      "[LightGBM] [Warning] No further splits with positive gain, best gain: -inf\n",
      "[LightGBM] [Warning] No further splits with positive gain, best gain: -inf\n",
      "[LightGBM] [Warning] No further splits with positive gain, best gain: -inf\n",
      "[LightGBM] [Warning] No further splits with positive gain, best gain: -inf\n",
      "[LightGBM] [Warning] No further splits with positive gain, best gain: -inf\n",
      "[LightGBM] [Warning] No further splits with positive gain, best gain: -inf\n",
      "[LightGBM] [Warning] No further splits with positive gain, best gain: -inf\n",
      "[LightGBM] [Warning] No further splits with positive gain, best gain: -inf\n",
      "[LightGBM] [Warning] No further splits with positive gain, best gain: -inf\n",
      "[LightGBM] [Warning] No further splits with positive gain, best gain: -inf\n",
      "[LightGBM] [Warning] No further splits with positive gain, best gain: -inf\n",
      "[LightGBM] [Warning] No further splits with positive gain, best gain: -inf\n",
      "[LightGBM] [Warning] No further splits with positive gain, best gain: -inf\n",
      "[LightGBM] [Warning] No further splits with positive gain, best gain: -inf\n",
      "[LightGBM] [Warning] No further splits with positive gain, best gain: -inf\n",
      "[LightGBM] [Warning] No further splits with positive gain, best gain: -inf\n",
      "[LightGBM] [Warning] No further splits with positive gain, best gain: -inf\n",
      "[LightGBM] [Warning] No further splits with positive gain, best gain: -inf\n",
      "[LightGBM] [Warning] No further splits with positive gain, best gain: -inf\n",
      "[LightGBM] [Warning] No further splits with positive gain, best gain: -inf\n",
      "[LightGBM] [Warning] No further splits with positive gain, best gain: -inf\n",
      "[LightGBM] [Warning] No further splits with positive gain, best gain: -inf\n",
      "[LightGBM] [Warning] No further splits with positive gain, best gain: -inf\n",
      "[LightGBM] [Warning] No further splits with positive gain, best gain: -inf\n",
      "[LightGBM] [Warning] No further splits with positive gain, best gain: -inf\n",
      "[LightGBM] [Warning] No further splits with positive gain, best gain: -inf\n",
      "[LightGBM] [Warning] No further splits with positive gain, best gain: -inf\n",
      "[LightGBM] [Warning] No further splits with positive gain, best gain: -inf\n",
      "[LightGBM] [Warning] No further splits with positive gain, best gain: -inf\n",
      "[LightGBM] [Warning] No further splits with positive gain, best gain: -inf\n",
      "[LightGBM] [Warning] No further splits with positive gain, best gain: -inf\n",
      "[LightGBM] [Warning] No further splits with positive gain, best gain: -inf\n",
      "[LightGBM] [Warning] No further splits with positive gain, best gain: -inf\n",
      "[LightGBM] [Warning] No further splits with positive gain, best gain: -inf\n",
      "[LightGBM] [Warning] No further splits with positive gain, best gain: -inf\n",
      "[LightGBM] [Warning] No further splits with positive gain, best gain: -inf\n",
      "[LightGBM] [Warning] No further splits with positive gain, best gain: -inf\n",
      "[LightGBM] [Warning] No further splits with positive gain, best gain: -inf\n",
      "[LightGBM] [Warning] No further splits with positive gain, best gain: -inf\n",
      "[LightGBM] [Warning] No further splits with positive gain, best gain: -inf\n",
      "[LightGBM] [Warning] No further splits with positive gain, best gain: -inf\n",
      "[LightGBM] [Warning] No further splits with positive gain, best gain: -inf\n",
      "[LightGBM] [Warning] No further splits with positive gain, best gain: -inf\n",
      "[LightGBM] [Warning] No further splits with positive gain, best gain: -inf\n",
      "[LightGBM] [Warning] No further splits with positive gain, best gain: -inf\n",
      "[LightGBM] [Warning] No further splits with positive gain, best gain: -inf\n",
      "[LightGBM] [Warning] No further splits with positive gain, best gain: -inf\n",
      "[LightGBM] [Warning] No further splits with positive gain, best gain: -inf\n",
      "[LightGBM] [Warning] No further splits with positive gain, best gain: -inf\n",
      "[LightGBM] [Warning] No further splits with positive gain, best gain: -inf\n",
      "[LightGBM] [Warning] No further splits with positive gain, best gain: -inf\n",
      "[LightGBM] [Warning] No further splits with positive gain, best gain: -inf\n",
      "[LightGBM] [Warning] No further splits with positive gain, best gain: -inf\n",
      "[LightGBM] [Warning] No further splits with positive gain, best gain: -inf\n",
      "[LightGBM] [Warning] No further splits with positive gain, best gain: -inf\n",
      "[LightGBM] [Warning] No further splits with positive gain, best gain: -inf\n",
      "[LightGBM] [Warning] No further splits with positive gain, best gain: -inf\n",
      "[LightGBM] [Warning] No further splits with positive gain, best gain: -inf\n",
      "[LightGBM] [Warning] No further splits with positive gain, best gain: -inf\n",
      "[LightGBM] [Warning] No further splits with positive gain, best gain: -inf\n",
      "[LightGBM] [Warning] No further splits with positive gain, best gain: -inf\n",
      "[LightGBM] [Warning] No further splits with positive gain, best gain: -inf\n",
      "[LightGBM] [Warning] No further splits with positive gain, best gain: -inf\n",
      "[LightGBM] [Warning] No further splits with positive gain, best gain: -inf\n",
      "[LightGBM] [Warning] No further splits with positive gain, best gain: -inf\n",
      "[LightGBM] [Warning] No further splits with positive gain, best gain: -inf\n",
      "[LightGBM] [Warning] No further splits with positive gain, best gain: -inf\n",
      "[LightGBM] [Warning] No further splits with positive gain, best gain: -inf\n",
      "[LightGBM] [Warning] No further splits with positive gain, best gain: -inf\n",
      "[LightGBM] [Warning] No further splits with positive gain, best gain: -inf\n",
      "[LightGBM] [Warning] No further splits with positive gain, best gain: -inf\n",
      "[LightGBM] [Warning] No further splits with positive gain, best gain: -inf\n",
      "[LightGBM] [Warning] No further splits with positive gain, best gain: -inf\n",
      "[LightGBM] [Warning] No further splits with positive gain, best gain: -inf\n",
      "[LightGBM] [Warning] No further splits with positive gain, best gain: -inf\n",
      "[LightGBM] [Warning] No further splits with positive gain, best gain: -inf\n",
      "[LightGBM] [Warning] No further splits with positive gain, best gain: -inf\n",
      "[LightGBM] [Warning] No further splits with positive gain, best gain: -inf\n",
      "[LightGBM] [Warning] No further splits with positive gain, best gain: -inf\n",
      "[LightGBM] [Warning] No further splits with positive gain, best gain: -inf\n",
      "[LightGBM] [Warning] No further splits with positive gain, best gain: -inf\n",
      "[LightGBM] [Warning] No further splits with positive gain, best gain: -inf\n",
      "[LightGBM] [Warning] No further splits with positive gain, best gain: -inf\n",
      "[LightGBM] [Warning] No further splits with positive gain, best gain: -inf\n",
      "[LightGBM] [Warning] No further splits with positive gain, best gain: -inf\n",
      "[LightGBM] [Warning] lambda_l1 is set=0.9099914228212082, reg_alpha=0.0 will be ignored. Current value: lambda_l1=0.9099914228212082\n",
      "[LightGBM] [Warning] lambda_l2 is set=5.120832470876403, reg_lambda=0.0 will be ignored. Current value: lambda_l2=5.120832470876403\n"
     ]
    },
    {
     "name": "stderr",
     "output_type": "stream",
     "text": [
      "/Users/alexis/Projects/202502 Actuarial Loss Prediction/.env/lib/python3.10/site-packages/sklearn/utils/validation.py:2739: UserWarning: X does not have valid feature names, but LGBMRegressor was fitted with feature names\n",
      "  warnings.warn(\n"
     ]
    },
    {
     "name": "stdout",
     "output_type": "stream",
     "text": [
      "[LightGBM] [Warning] lambda_l1 is set=0.9099914228212082, reg_alpha=0.0 will be ignored. Current value: lambda_l1=0.9099914228212082\n",
      "[LightGBM] [Warning] lambda_l2 is set=5.120832470876403, reg_lambda=0.0 will be ignored. Current value: lambda_l2=5.120832470876403\n",
      "[LightGBM] [Warning] lambda_l1 is set=0.9099914228212082, reg_alpha=0.0 will be ignored. Current value: lambda_l1=0.9099914228212082\n",
      "[LightGBM] [Warning] lambda_l2 is set=5.120832470876403, reg_lambda=0.0 will be ignored. Current value: lambda_l2=5.120832470876403\n",
      "[LightGBM] [Info] Total Bins 85028\n",
      "[LightGBM] [Info] Number of data points in the train set: 43200, number of used features: 395\n",
      "[LightGBM] [Info] Start training from score 5.940370\n",
      "[LightGBM] [Warning] No further splits with positive gain, best gain: -inf\n",
      "[LightGBM] [Warning] No further splits with positive gain, best gain: -inf\n",
      "[LightGBM] [Warning] No further splits with positive gain, best gain: -inf\n",
      "[LightGBM] [Warning] No further splits with positive gain, best gain: -inf\n",
      "[LightGBM] [Warning] No further splits with positive gain, best gain: -inf\n",
      "[LightGBM] [Warning] No further splits with positive gain, best gain: -inf\n",
      "[LightGBM] [Warning] No further splits with positive gain, best gain: -inf\n",
      "[LightGBM] [Warning] No further splits with positive gain, best gain: -inf\n",
      "[LightGBM] [Warning] No further splits with positive gain, best gain: -inf\n",
      "[LightGBM] [Warning] No further splits with positive gain, best gain: -inf\n",
      "[LightGBM] [Warning] No further splits with positive gain, best gain: -inf\n",
      "[LightGBM] [Warning] No further splits with positive gain, best gain: -inf\n",
      "[LightGBM] [Warning] No further splits with positive gain, best gain: -inf\n",
      "[LightGBM] [Warning] No further splits with positive gain, best gain: -inf\n",
      "[LightGBM] [Warning] No further splits with positive gain, best gain: -inf\n",
      "[LightGBM] [Warning] No further splits with positive gain, best gain: -inf\n",
      "[LightGBM] [Warning] No further splits with positive gain, best gain: -inf\n",
      "[LightGBM] [Warning] No further splits with positive gain, best gain: -inf\n",
      "[LightGBM] [Warning] No further splits with positive gain, best gain: -inf\n",
      "[LightGBM] [Warning] No further splits with positive gain, best gain: -inf\n",
      "[LightGBM] [Warning] No further splits with positive gain, best gain: -inf\n",
      "[LightGBM] [Warning] No further splits with positive gain, best gain: -inf\n",
      "[LightGBM] [Warning] No further splits with positive gain, best gain: -inf\n",
      "[LightGBM] [Warning] No further splits with positive gain, best gain: -inf\n",
      "[LightGBM] [Warning] No further splits with positive gain, best gain: -inf\n",
      "[LightGBM] [Warning] No further splits with positive gain, best gain: -inf\n",
      "[LightGBM] [Warning] No further splits with positive gain, best gain: -inf\n",
      "[LightGBM] [Warning] No further splits with positive gain, best gain: -inf\n",
      "[LightGBM] [Warning] No further splits with positive gain, best gain: -inf\n",
      "[LightGBM] [Warning] No further splits with positive gain, best gain: -inf\n",
      "[LightGBM] [Warning] No further splits with positive gain, best gain: -inf\n",
      "[LightGBM] [Warning] No further splits with positive gain, best gain: -inf\n",
      "[LightGBM] [Warning] No further splits with positive gain, best gain: -inf\n",
      "[LightGBM] [Warning] No further splits with positive gain, best gain: -inf\n",
      "[LightGBM] [Warning] No further splits with positive gain, best gain: -inf\n",
      "[LightGBM] [Warning] No further splits with positive gain, best gain: -inf\n",
      "[LightGBM] [Warning] No further splits with positive gain, best gain: -inf\n",
      "[LightGBM] [Warning] No further splits with positive gain, best gain: -inf\n",
      "[LightGBM] [Warning] No further splits with positive gain, best gain: -inf\n",
      "[LightGBM] [Warning] No further splits with positive gain, best gain: -inf\n",
      "[LightGBM] [Warning] No further splits with positive gain, best gain: -inf\n",
      "[LightGBM] [Warning] No further splits with positive gain, best gain: -inf\n",
      "[LightGBM] [Warning] No further splits with positive gain, best gain: -inf\n",
      "[LightGBM] [Warning] No further splits with positive gain, best gain: -inf\n",
      "[LightGBM] [Warning] No further splits with positive gain, best gain: -inf\n",
      "[LightGBM] [Warning] No further splits with positive gain, best gain: -inf\n",
      "[LightGBM] [Warning] No further splits with positive gain, best gain: -inf\n",
      "[LightGBM] [Warning] No further splits with positive gain, best gain: -inf\n",
      "[LightGBM] [Warning] No further splits with positive gain, best gain: -inf\n",
      "[LightGBM] [Warning] No further splits with positive gain, best gain: -inf\n",
      "[LightGBM] [Warning] No further splits with positive gain, best gain: -inf\n",
      "[LightGBM] [Warning] No further splits with positive gain, best gain: -inf\n",
      "[LightGBM] [Warning] No further splits with positive gain, best gain: -inf\n",
      "[LightGBM] [Warning] No further splits with positive gain, best gain: -inf\n",
      "[LightGBM] [Warning] No further splits with positive gain, best gain: -inf\n",
      "[LightGBM] [Warning] No further splits with positive gain, best gain: -inf\n",
      "[LightGBM] [Warning] No further splits with positive gain, best gain: -inf\n",
      "[LightGBM] [Warning] No further splits with positive gain, best gain: -inf\n",
      "[LightGBM] [Warning] No further splits with positive gain, best gain: -inf\n",
      "[LightGBM] [Warning] No further splits with positive gain, best gain: -inf\n",
      "[LightGBM] [Warning] No further splits with positive gain, best gain: -inf\n",
      "[LightGBM] [Warning] No further splits with positive gain, best gain: -inf\n",
      "[LightGBM] [Warning] No further splits with positive gain, best gain: -inf\n",
      "[LightGBM] [Warning] No further splits with positive gain, best gain: -inf\n",
      "[LightGBM] [Warning] No further splits with positive gain, best gain: -inf\n",
      "[LightGBM] [Warning] No further splits with positive gain, best gain: -inf\n",
      "[LightGBM] [Warning] No further splits with positive gain, best gain: -inf\n",
      "[LightGBM] [Warning] No further splits with positive gain, best gain: -inf\n",
      "[LightGBM] [Warning] No further splits with positive gain, best gain: -inf\n",
      "[LightGBM] [Warning] No further splits with positive gain, best gain: -inf\n",
      "[LightGBM] [Warning] No further splits with positive gain, best gain: -inf\n",
      "[LightGBM] [Warning] No further splits with positive gain, best gain: -inf\n",
      "[LightGBM] [Warning] No further splits with positive gain, best gain: -inf\n",
      "[LightGBM] [Warning] No further splits with positive gain, best gain: -inf\n",
      "[LightGBM] [Warning] No further splits with positive gain, best gain: -inf\n",
      "[LightGBM] [Warning] No further splits with positive gain, best gain: -inf\n",
      "[LightGBM] [Warning] No further splits with positive gain, best gain: -inf\n",
      "[LightGBM] [Warning] No further splits with positive gain, best gain: -inf\n",
      "[LightGBM] [Warning] No further splits with positive gain, best gain: -inf\n",
      "[LightGBM] [Warning] No further splits with positive gain, best gain: -inf\n",
      "[LightGBM] [Warning] No further splits with positive gain, best gain: -inf\n",
      "[LightGBM] [Warning] No further splits with positive gain, best gain: -inf\n",
      "[LightGBM] [Warning] No further splits with positive gain, best gain: -inf\n",
      "[LightGBM] [Warning] No further splits with positive gain, best gain: -inf\n",
      "[LightGBM] [Warning] No further splits with positive gain, best gain: -inf\n",
      "[LightGBM] [Warning] No further splits with positive gain, best gain: -inf\n",
      "[LightGBM] [Warning] No further splits with positive gain, best gain: -inf\n",
      "[LightGBM] [Warning] No further splits with positive gain, best gain: -inf\n",
      "[LightGBM] [Warning] No further splits with positive gain, best gain: -inf\n",
      "[LightGBM] [Warning] No further splits with positive gain, best gain: -inf\n",
      "[LightGBM] [Warning] No further splits with positive gain, best gain: -inf\n",
      "[LightGBM] [Warning] No further splits with positive gain, best gain: -inf\n",
      "[LightGBM] [Warning] No further splits with positive gain, best gain: -inf\n",
      "[LightGBM] [Warning] No further splits with positive gain, best gain: -inf\n",
      "[LightGBM] [Warning] No further splits with positive gain, best gain: -inf\n",
      "[LightGBM] [Warning] No further splits with positive gain, best gain: -inf\n",
      "[LightGBM] [Warning] No further splits with positive gain, best gain: -inf\n",
      "[LightGBM] [Warning] No further splits with positive gain, best gain: -inf\n",
      "[LightGBM] [Warning] No further splits with positive gain, best gain: -inf\n",
      "[LightGBM] [Warning] No further splits with positive gain, best gain: -inf\n",
      "[LightGBM] [Warning] No further splits with positive gain, best gain: -inf\n",
      "[LightGBM] [Warning] No further splits with positive gain, best gain: -inf\n",
      "[LightGBM] [Warning] No further splits with positive gain, best gain: -inf\n",
      "[LightGBM] [Warning] No further splits with positive gain, best gain: -inf\n",
      "[LightGBM] [Warning] No further splits with positive gain, best gain: -inf\n",
      "[LightGBM] [Warning] No further splits with positive gain, best gain: -inf\n",
      "[LightGBM] [Warning] No further splits with positive gain, best gain: -inf\n",
      "[LightGBM] [Warning] No further splits with positive gain, best gain: -inf\n",
      "[LightGBM] [Warning] No further splits with positive gain, best gain: -inf\n",
      "[LightGBM] [Warning] No further splits with positive gain, best gain: -inf\n",
      "[LightGBM] [Warning] No further splits with positive gain, best gain: -inf\n",
      "[LightGBM] [Warning] No further splits with positive gain, best gain: -inf\n",
      "[LightGBM] [Warning] No further splits with positive gain, best gain: -inf\n",
      "[LightGBM] [Warning] No further splits with positive gain, best gain: -inf\n",
      "[LightGBM] [Warning] No further splits with positive gain, best gain: -inf\n",
      "[LightGBM] [Warning] No further splits with positive gain, best gain: -inf\n",
      "[LightGBM] [Warning] No further splits with positive gain, best gain: -inf\n",
      "[LightGBM] [Warning] No further splits with positive gain, best gain: -inf\n",
      "[LightGBM] [Warning] No further splits with positive gain, best gain: -inf\n",
      "[LightGBM] [Warning] No further splits with positive gain, best gain: -inf\n",
      "[LightGBM] [Warning] No further splits with positive gain, best gain: -inf\n",
      "[LightGBM] [Warning] No further splits with positive gain, best gain: -inf\n",
      "[LightGBM] [Warning] No further splits with positive gain, best gain: -inf\n",
      "[LightGBM] [Warning] No further splits with positive gain, best gain: -inf\n",
      "[LightGBM] [Warning] No further splits with positive gain, best gain: -inf\n",
      "[LightGBM] [Warning] No further splits with positive gain, best gain: -inf\n",
      "[LightGBM] [Warning] No further splits with positive gain, best gain: -inf\n",
      "[LightGBM] [Warning] No further splits with positive gain, best gain: -inf\n",
      "[LightGBM] [Warning] No further splits with positive gain, best gain: -inf\n",
      "[LightGBM] [Warning] No further splits with positive gain, best gain: -inf\n",
      "[LightGBM] [Warning] No further splits with positive gain, best gain: -inf\n",
      "[LightGBM] [Warning] No further splits with positive gain, best gain: -inf\n",
      "[LightGBM] [Warning] No further splits with positive gain, best gain: -inf\n",
      "[LightGBM] [Warning] No further splits with positive gain, best gain: -inf\n",
      "[LightGBM] [Warning] No further splits with positive gain, best gain: -inf\n",
      "[LightGBM] [Warning] No further splits with positive gain, best gain: -inf\n",
      "[LightGBM] [Warning] No further splits with positive gain, best gain: -inf\n",
      "[LightGBM] [Warning] No further splits with positive gain, best gain: -inf\n",
      "[LightGBM] [Warning] No further splits with positive gain, best gain: -inf\n",
      "[LightGBM] [Warning] No further splits with positive gain, best gain: -inf\n",
      "[LightGBM] [Warning] No further splits with positive gain, best gain: -inf\n",
      "[LightGBM] [Warning] No further splits with positive gain, best gain: -inf\n",
      "[LightGBM] [Warning] No further splits with positive gain, best gain: -inf\n",
      "[LightGBM] [Warning] No further splits with positive gain, best gain: -inf\n",
      "[LightGBM] [Warning] No further splits with positive gain, best gain: -inf\n",
      "[LightGBM] [Warning] No further splits with positive gain, best gain: -inf\n",
      "[LightGBM] [Warning] No further splits with positive gain, best gain: -inf\n",
      "[LightGBM] [Warning] No further splits with positive gain, best gain: -inf\n",
      "[LightGBM] [Warning] No further splits with positive gain, best gain: -inf\n",
      "[LightGBM] [Warning] No further splits with positive gain, best gain: -inf\n",
      "[LightGBM] [Warning] No further splits with positive gain, best gain: -inf\n",
      "[LightGBM] [Warning] No further splits with positive gain, best gain: -inf\n",
      "[LightGBM] [Warning] No further splits with positive gain, best gain: -inf\n",
      "[LightGBM] [Warning] No further splits with positive gain, best gain: -inf\n",
      "[LightGBM] [Warning] No further splits with positive gain, best gain: -inf\n",
      "[LightGBM] [Warning] No further splits with positive gain, best gain: -inf\n",
      "[LightGBM] [Warning] No further splits with positive gain, best gain: -inf\n",
      "[LightGBM] [Warning] No further splits with positive gain, best gain: -inf\n",
      "[LightGBM] [Warning] No further splits with positive gain, best gain: -inf\n",
      "[LightGBM] [Warning] No further splits with positive gain, best gain: -inf\n",
      "[LightGBM] [Warning] No further splits with positive gain, best gain: -inf\n",
      "[LightGBM] [Warning] No further splits with positive gain, best gain: -inf\n",
      "[LightGBM] [Warning] No further splits with positive gain, best gain: -inf\n",
      "[LightGBM] [Warning] No further splits with positive gain, best gain: -inf\n",
      "[LightGBM] [Warning] No further splits with positive gain, best gain: -inf\n",
      "[LightGBM] [Warning] No further splits with positive gain, best gain: -inf\n",
      "[LightGBM] [Warning] No further splits with positive gain, best gain: -inf\n"
     ]
    },
    {
     "name": "stderr",
     "output_type": "stream",
     "text": [
      "/Users/alexis/Projects/202502 Actuarial Loss Prediction/.env/lib/python3.10/site-packages/sklearn/utils/validation.py:2739: UserWarning: X does not have valid feature names, but LGBMRegressor was fitted with feature names\n",
      "  warnings.warn(\n",
      "[I 2025-03-02 18:49:19,201] Trial 11 finished with value: 23926.881242414525 and parameters: {'max_depth': 3, 'learning_rate': 0.3671701925377869, 'n_estimators': 200, 'min_child_weight': 13, 'subsample': 0.9775618414788, 'colsample_bytree': 0.7191138011656809, 'lambda_l1': 0.9099914228212082, 'lambda_l2': 5.120832470876403}. Best is trial 5 with value: 23862.926693452253.\n"
     ]
    },
    {
     "name": "stdout",
     "output_type": "stream",
     "text": [
      "[LightGBM] [Warning] No further splits with positive gain, best gain: -inf\n",
      "[LightGBM] [Warning] No further splits with positive gain, best gain: -inf\n",
      "[LightGBM] [Warning] No further splits with positive gain, best gain: -inf\n",
      "[LightGBM] [Warning] No further splits with positive gain, best gain: -inf\n",
      "[LightGBM] [Warning] No further splits with positive gain, best gain: -inf\n",
      "[LightGBM] [Warning] No further splits with positive gain, best gain: -inf\n",
      "[LightGBM] [Warning] No further splits with positive gain, best gain: -inf\n",
      "[LightGBM] [Warning] No further splits with positive gain, best gain: -inf\n",
      "[LightGBM] [Warning] No further splits with positive gain, best gain: -inf\n",
      "[LightGBM] [Warning] No further splits with positive gain, best gain: -inf\n",
      "[LightGBM] [Warning] No further splits with positive gain, best gain: -inf\n",
      "[LightGBM] [Warning] No further splits with positive gain, best gain: -inf\n",
      "[LightGBM] [Warning] No further splits with positive gain, best gain: -inf\n",
      "[LightGBM] [Warning] No further splits with positive gain, best gain: -inf\n",
      "[LightGBM] [Warning] No further splits with positive gain, best gain: -inf\n",
      "[LightGBM] [Warning] No further splits with positive gain, best gain: -inf\n",
      "[LightGBM] [Warning] No further splits with positive gain, best gain: -inf\n",
      "[LightGBM] [Warning] No further splits with positive gain, best gain: -inf\n",
      "[LightGBM] [Warning] No further splits with positive gain, best gain: -inf\n",
      "[LightGBM] [Warning] No further splits with positive gain, best gain: -inf\n",
      "[LightGBM] [Warning] No further splits with positive gain, best gain: -inf\n",
      "[LightGBM] [Warning] No further splits with positive gain, best gain: -inf\n",
      "[LightGBM] [Warning] No further splits with positive gain, best gain: -inf\n",
      "[LightGBM] [Warning] No further splits with positive gain, best gain: -inf\n",
      "[LightGBM] [Warning] No further splits with positive gain, best gain: -inf\n",
      "[LightGBM] [Warning] No further splits with positive gain, best gain: -inf\n",
      "[LightGBM] [Warning] No further splits with positive gain, best gain: -inf\n",
      "[LightGBM] [Warning] No further splits with positive gain, best gain: -inf\n",
      "[LightGBM] [Warning] No further splits with positive gain, best gain: -inf\n",
      "[LightGBM] [Warning] No further splits with positive gain, best gain: -inf\n",
      "[LightGBM] [Warning] No further splits with positive gain, best gain: -inf\n",
      "[LightGBM] [Warning] No further splits with positive gain, best gain: -inf\n",
      "[LightGBM] [Warning] No further splits with positive gain, best gain: -inf\n",
      "[LightGBM] [Warning] lambda_l1 is set=0.9099914228212082, reg_alpha=0.0 will be ignored. Current value: lambda_l1=0.9099914228212082\n",
      "[LightGBM] [Warning] lambda_l2 is set=5.120832470876403, reg_lambda=0.0 will be ignored. Current value: lambda_l2=5.120832470876403\n",
      "RMSE Overall:  23926.881 | MAE: 5784.030\n",
      "RMSE for low y_true (<= 100k): 9840.887 | MAE: 3449.595\n",
      "RMSE for high y_true (> 100k): 162604.401 | MAE: 132738.998\n",
      "[LightGBM] [Warning] lambda_l1 is set=2.788438694939502, reg_alpha=0.0 will be ignored. Current value: lambda_l1=2.788438694939502\n",
      "[LightGBM] [Warning] lambda_l2 is set=9.996940005069435, reg_lambda=0.0 will be ignored. Current value: lambda_l2=9.996940005069435\n",
      "[LightGBM] [Warning] lambda_l1 is set=2.788438694939502, reg_alpha=0.0 will be ignored. Current value: lambda_l1=2.788438694939502\n",
      "[LightGBM] [Warning] lambda_l2 is set=9.996940005069435, reg_lambda=0.0 will be ignored. Current value: lambda_l2=9.996940005069435\n",
      "[LightGBM] [Info] Total Bins 85015\n",
      "[LightGBM] [Info] Number of data points in the train set: 43199, number of used features: 395\n",
      "[LightGBM] [Info] Start training from score 5.909642\n"
     ]
    },
    {
     "name": "stderr",
     "output_type": "stream",
     "text": [
      "/Users/alexis/Projects/202502 Actuarial Loss Prediction/.env/lib/python3.10/site-packages/sklearn/utils/validation.py:2739: UserWarning: X does not have valid feature names, but LGBMRegressor was fitted with feature names\n",
      "  warnings.warn(\n"
     ]
    },
    {
     "name": "stdout",
     "output_type": "stream",
     "text": [
      "[LightGBM] [Warning] lambda_l1 is set=2.788438694939502, reg_alpha=0.0 will be ignored. Current value: lambda_l1=2.788438694939502\n",
      "[LightGBM] [Warning] lambda_l2 is set=9.996940005069435, reg_lambda=0.0 will be ignored. Current value: lambda_l2=9.996940005069435\n",
      "[LightGBM] [Warning] lambda_l1 is set=2.788438694939502, reg_alpha=0.0 will be ignored. Current value: lambda_l1=2.788438694939502\n",
      "[LightGBM] [Warning] lambda_l2 is set=9.996940005069435, reg_lambda=0.0 will be ignored. Current value: lambda_l2=9.996940005069435\n",
      "[LightGBM] [Warning] lambda_l1 is set=2.788438694939502, reg_alpha=0.0 will be ignored. Current value: lambda_l1=2.788438694939502\n",
      "[LightGBM] [Warning] lambda_l2 is set=9.996940005069435, reg_lambda=0.0 will be ignored. Current value: lambda_l2=9.996940005069435\n",
      "[LightGBM] [Info] Total Bins 85024\n",
      "[LightGBM] [Info] Number of data points in the train set: 43199, number of used features: 395\n",
      "[LightGBM] [Info] Start training from score 5.914034\n"
     ]
    },
    {
     "name": "stderr",
     "output_type": "stream",
     "text": [
      "/Users/alexis/Projects/202502 Actuarial Loss Prediction/.env/lib/python3.10/site-packages/sklearn/utils/validation.py:2739: UserWarning: X does not have valid feature names, but LGBMRegressor was fitted with feature names\n",
      "  warnings.warn(\n"
     ]
    },
    {
     "name": "stdout",
     "output_type": "stream",
     "text": [
      "[LightGBM] [Warning] lambda_l1 is set=2.788438694939502, reg_alpha=0.0 will be ignored. Current value: lambda_l1=2.788438694939502\n",
      "[LightGBM] [Warning] lambda_l2 is set=9.996940005069435, reg_lambda=0.0 will be ignored. Current value: lambda_l2=9.996940005069435\n",
      "[LightGBM] [Warning] lambda_l1 is set=2.788438694939502, reg_alpha=0.0 will be ignored. Current value: lambda_l1=2.788438694939502\n",
      "[LightGBM] [Warning] lambda_l2 is set=9.996940005069435, reg_lambda=0.0 will be ignored. Current value: lambda_l2=9.996940005069435\n",
      "[LightGBM] [Warning] lambda_l1 is set=2.788438694939502, reg_alpha=0.0 will be ignored. Current value: lambda_l1=2.788438694939502\n",
      "[LightGBM] [Warning] lambda_l2 is set=9.996940005069435, reg_lambda=0.0 will be ignored. Current value: lambda_l2=9.996940005069435\n",
      "[LightGBM] [Info] Total Bins 85026\n",
      "[LightGBM] [Info] Number of data points in the train set: 43199, number of used features: 395\n",
      "[LightGBM] [Info] Start training from score 5.945550\n"
     ]
    },
    {
     "name": "stderr",
     "output_type": "stream",
     "text": [
      "/Users/alexis/Projects/202502 Actuarial Loss Prediction/.env/lib/python3.10/site-packages/sklearn/utils/validation.py:2739: UserWarning: X does not have valid feature names, but LGBMRegressor was fitted with feature names\n",
      "  warnings.warn(\n"
     ]
    },
    {
     "name": "stdout",
     "output_type": "stream",
     "text": [
      "[LightGBM] [Warning] lambda_l1 is set=2.788438694939502, reg_alpha=0.0 will be ignored. Current value: lambda_l1=2.788438694939502\n",
      "[LightGBM] [Warning] lambda_l2 is set=9.996940005069435, reg_lambda=0.0 will be ignored. Current value: lambda_l2=9.996940005069435\n",
      "[LightGBM] [Warning] lambda_l1 is set=2.788438694939502, reg_alpha=0.0 will be ignored. Current value: lambda_l1=2.788438694939502\n",
      "[LightGBM] [Warning] lambda_l2 is set=9.996940005069435, reg_lambda=0.0 will be ignored. Current value: lambda_l2=9.996940005069435\n",
      "[LightGBM] [Warning] lambda_l1 is set=2.788438694939502, reg_alpha=0.0 will be ignored. Current value: lambda_l1=2.788438694939502\n",
      "[LightGBM] [Warning] lambda_l2 is set=9.996940005069435, reg_lambda=0.0 will be ignored. Current value: lambda_l2=9.996940005069435\n",
      "[LightGBM] [Info] Total Bins 85029\n",
      "[LightGBM] [Info] Number of data points in the train set: 43199, number of used features: 395\n",
      "[LightGBM] [Info] Start training from score 5.959808\n"
     ]
    },
    {
     "name": "stderr",
     "output_type": "stream",
     "text": [
      "/Users/alexis/Projects/202502 Actuarial Loss Prediction/.env/lib/python3.10/site-packages/sklearn/utils/validation.py:2739: UserWarning: X does not have valid feature names, but LGBMRegressor was fitted with feature names\n",
      "  warnings.warn(\n"
     ]
    },
    {
     "name": "stdout",
     "output_type": "stream",
     "text": [
      "[LightGBM] [Warning] lambda_l1 is set=2.788438694939502, reg_alpha=0.0 will be ignored. Current value: lambda_l1=2.788438694939502\n",
      "[LightGBM] [Warning] lambda_l2 is set=9.996940005069435, reg_lambda=0.0 will be ignored. Current value: lambda_l2=9.996940005069435\n",
      "[LightGBM] [Warning] lambda_l1 is set=2.788438694939502, reg_alpha=0.0 will be ignored. Current value: lambda_l1=2.788438694939502\n",
      "[LightGBM] [Warning] lambda_l2 is set=9.996940005069435, reg_lambda=0.0 will be ignored. Current value: lambda_l2=9.996940005069435\n",
      "[LightGBM] [Warning] lambda_l1 is set=2.788438694939502, reg_alpha=0.0 will be ignored. Current value: lambda_l1=2.788438694939502\n",
      "[LightGBM] [Warning] lambda_l2 is set=9.996940005069435, reg_lambda=0.0 will be ignored. Current value: lambda_l2=9.996940005069435\n",
      "[LightGBM] [Info] Total Bins 85028\n",
      "[LightGBM] [Info] Number of data points in the train set: 43200, number of used features: 395\n",
      "[LightGBM] [Info] Start training from score 5.940370\n"
     ]
    },
    {
     "name": "stderr",
     "output_type": "stream",
     "text": [
      "/Users/alexis/Projects/202502 Actuarial Loss Prediction/.env/lib/python3.10/site-packages/sklearn/utils/validation.py:2739: UserWarning: X does not have valid feature names, but LGBMRegressor was fitted with feature names\n",
      "  warnings.warn(\n",
      "[I 2025-03-02 18:49:59,928] Trial 12 finished with value: 24077.630605380204 and parameters: {'max_depth': 7, 'learning_rate': 0.16582573061788158, 'n_estimators': 700, 'min_child_weight': 16, 'subsample': 0.8735715060037933, 'colsample_bytree': 0.6821753751104394, 'lambda_l1': 2.788438694939502, 'lambda_l2': 9.996940005069435}. Best is trial 5 with value: 23862.926693452253.\n"
     ]
    },
    {
     "name": "stdout",
     "output_type": "stream",
     "text": [
      "[LightGBM] [Warning] lambda_l1 is set=2.788438694939502, reg_alpha=0.0 will be ignored. Current value: lambda_l1=2.788438694939502\n",
      "[LightGBM] [Warning] lambda_l2 is set=9.996940005069435, reg_lambda=0.0 will be ignored. Current value: lambda_l2=9.996940005069435\n",
      "RMSE Overall:  24077.631 | MAE: 5852.847\n",
      "RMSE for low y_true (<= 100k): 10071.595 | MAE: 3509.481\n",
      "RMSE for high y_true (> 100k): 163067.918 | MAE: 133293.514\n",
      "[LightGBM] [Warning] lambda_l1 is set=2.4766731090087455, reg_alpha=0.0 will be ignored. Current value: lambda_l1=2.4766731090087455\n",
      "[LightGBM] [Warning] lambda_l2 is set=5.48420412445619, reg_lambda=0.0 will be ignored. Current value: lambda_l2=5.48420412445619\n",
      "[LightGBM] [Warning] lambda_l1 is set=2.4766731090087455, reg_alpha=0.0 will be ignored. Current value: lambda_l1=2.4766731090087455\n",
      "[LightGBM] [Warning] lambda_l2 is set=5.48420412445619, reg_lambda=0.0 will be ignored. Current value: lambda_l2=5.48420412445619\n",
      "[LightGBM] [Info] Total Bins 85015\n",
      "[LightGBM] [Info] Number of data points in the train set: 43199, number of used features: 395\n",
      "[LightGBM] [Info] Start training from score 5.909642\n",
      "[LightGBM] [Warning] No further splits with positive gain, best gain: -inf\n",
      "[LightGBM] [Warning] No further splits with positive gain, best gain: -inf\n",
      "[LightGBM] [Warning] No further splits with positive gain, best gain: -inf\n",
      "[LightGBM] [Warning] No further splits with positive gain, best gain: -inf\n",
      "[LightGBM] [Warning] No further splits with positive gain, best gain: -inf\n",
      "[LightGBM] [Warning] No further splits with positive gain, best gain: -inf\n",
      "[LightGBM] [Warning] No further splits with positive gain, best gain: -inf\n",
      "[LightGBM] [Warning] No further splits with positive gain, best gain: -inf\n",
      "[LightGBM] [Warning] No further splits with positive gain, best gain: -inf\n",
      "[LightGBM] [Warning] No further splits with positive gain, best gain: -inf\n",
      "[LightGBM] [Warning] No further splits with positive gain, best gain: -inf\n",
      "[LightGBM] [Warning] No further splits with positive gain, best gain: -inf\n",
      "[LightGBM] [Warning] No further splits with positive gain, best gain: -inf\n",
      "[LightGBM] [Warning] No further splits with positive gain, best gain: -inf\n",
      "[LightGBM] [Warning] No further splits with positive gain, best gain: -inf\n",
      "[LightGBM] [Warning] No further splits with positive gain, best gain: -inf\n",
      "[LightGBM] [Warning] No further splits with positive gain, best gain: -inf\n",
      "[LightGBM] [Warning] No further splits with positive gain, best gain: -inf\n",
      "[LightGBM] [Warning] No further splits with positive gain, best gain: -inf\n",
      "[LightGBM] [Warning] No further splits with positive gain, best gain: -inf\n",
      "[LightGBM] [Warning] No further splits with positive gain, best gain: -inf\n",
      "[LightGBM] [Warning] No further splits with positive gain, best gain: -inf\n",
      "[LightGBM] [Warning] No further splits with positive gain, best gain: -inf\n",
      "[LightGBM] [Warning] No further splits with positive gain, best gain: -inf\n",
      "[LightGBM] [Warning] No further splits with positive gain, best gain: -inf\n",
      "[LightGBM] [Warning] No further splits with positive gain, best gain: -inf\n",
      "[LightGBM] [Warning] No further splits with positive gain, best gain: -inf\n",
      "[LightGBM] [Warning] No further splits with positive gain, best gain: -inf\n",
      "[LightGBM] [Warning] No further splits with positive gain, best gain: -inf\n",
      "[LightGBM] [Warning] No further splits with positive gain, best gain: -inf\n",
      "[LightGBM] [Warning] No further splits with positive gain, best gain: -inf\n",
      "[LightGBM] [Warning] No further splits with positive gain, best gain: -inf\n",
      "[LightGBM] [Warning] No further splits with positive gain, best gain: -inf\n",
      "[LightGBM] [Warning] No further splits with positive gain, best gain: -inf\n",
      "[LightGBM] [Warning] No further splits with positive gain, best gain: -inf\n",
      "[LightGBM] [Warning] No further splits with positive gain, best gain: -inf\n",
      "[LightGBM] [Warning] No further splits with positive gain, best gain: -inf\n",
      "[LightGBM] [Warning] No further splits with positive gain, best gain: -inf\n",
      "[LightGBM] [Warning] No further splits with positive gain, best gain: -inf\n",
      "[LightGBM] [Warning] No further splits with positive gain, best gain: -inf\n",
      "[LightGBM] [Warning] No further splits with positive gain, best gain: -inf\n",
      "[LightGBM] [Warning] No further splits with positive gain, best gain: -inf\n",
      "[LightGBM] [Warning] No further splits with positive gain, best gain: -inf\n",
      "[LightGBM] [Warning] No further splits with positive gain, best gain: -inf\n",
      "[LightGBM] [Warning] No further splits with positive gain, best gain: -inf\n",
      "[LightGBM] [Warning] No further splits with positive gain, best gain: -inf\n",
      "[LightGBM] [Warning] No further splits with positive gain, best gain: -inf\n",
      "[LightGBM] [Warning] No further splits with positive gain, best gain: -inf\n",
      "[LightGBM] [Warning] No further splits with positive gain, best gain: -inf\n",
      "[LightGBM] [Warning] No further splits with positive gain, best gain: -inf\n",
      "[LightGBM] [Warning] No further splits with positive gain, best gain: -inf\n",
      "[LightGBM] [Warning] No further splits with positive gain, best gain: -inf\n",
      "[LightGBM] [Warning] No further splits with positive gain, best gain: -inf\n",
      "[LightGBM] [Warning] No further splits with positive gain, best gain: -inf\n",
      "[LightGBM] [Warning] No further splits with positive gain, best gain: -inf\n",
      "[LightGBM] [Warning] No further splits with positive gain, best gain: -inf\n",
      "[LightGBM] [Warning] No further splits with positive gain, best gain: -inf\n",
      "[LightGBM] [Warning] No further splits with positive gain, best gain: -inf\n",
      "[LightGBM] [Warning] No further splits with positive gain, best gain: -inf\n",
      "[LightGBM] [Warning] No further splits with positive gain, best gain: -inf\n",
      "[LightGBM] [Warning] No further splits with positive gain, best gain: -inf\n",
      "[LightGBM] [Warning] No further splits with positive gain, best gain: -inf\n",
      "[LightGBM] [Warning] No further splits with positive gain, best gain: -inf\n",
      "[LightGBM] [Warning] No further splits with positive gain, best gain: -inf\n",
      "[LightGBM] [Warning] No further splits with positive gain, best gain: -inf\n",
      "[LightGBM] [Warning] No further splits with positive gain, best gain: -inf\n",
      "[LightGBM] [Warning] No further splits with positive gain, best gain: -inf\n",
      "[LightGBM] [Warning] No further splits with positive gain, best gain: -inf\n",
      "[LightGBM] [Warning] No further splits with positive gain, best gain: -inf\n",
      "[LightGBM] [Warning] No further splits with positive gain, best gain: -inf\n",
      "[LightGBM] [Warning] No further splits with positive gain, best gain: -inf\n",
      "[LightGBM] [Warning] No further splits with positive gain, best gain: -inf\n",
      "[LightGBM] [Warning] No further splits with positive gain, best gain: -inf\n",
      "[LightGBM] [Warning] No further splits with positive gain, best gain: -inf\n",
      "[LightGBM] [Warning] No further splits with positive gain, best gain: -inf\n",
      "[LightGBM] [Warning] No further splits with positive gain, best gain: -inf\n",
      "[LightGBM] [Warning] No further splits with positive gain, best gain: -inf\n",
      "[LightGBM] [Warning] No further splits with positive gain, best gain: -inf\n",
      "[LightGBM] [Warning] No further splits with positive gain, best gain: -inf\n",
      "[LightGBM] [Warning] No further splits with positive gain, best gain: -inf\n",
      "[LightGBM] [Warning] No further splits with positive gain, best gain: -inf\n",
      "[LightGBM] [Warning] No further splits with positive gain, best gain: -inf\n",
      "[LightGBM] [Warning] No further splits with positive gain, best gain: -inf\n",
      "[LightGBM] [Warning] No further splits with positive gain, best gain: -inf\n",
      "[LightGBM] [Warning] No further splits with positive gain, best gain: -inf\n",
      "[LightGBM] [Warning] No further splits with positive gain, best gain: -inf\n",
      "[LightGBM] [Warning] No further splits with positive gain, best gain: -inf\n",
      "[LightGBM] [Warning] No further splits with positive gain, best gain: -inf\n",
      "[LightGBM] [Warning] No further splits with positive gain, best gain: -inf\n",
      "[LightGBM] [Warning] No further splits with positive gain, best gain: -inf\n",
      "[LightGBM] [Warning] No further splits with positive gain, best gain: -inf\n",
      "[LightGBM] [Warning] No further splits with positive gain, best gain: -inf\n",
      "[LightGBM] [Warning] No further splits with positive gain, best gain: -inf\n",
      "[LightGBM] [Warning] lambda_l1 is set=2.4766731090087455, reg_alpha=0.0 will be ignored. Current value: lambda_l1=2.4766731090087455\n",
      "[LightGBM] [Warning] lambda_l2 is set=5.48420412445619, reg_lambda=0.0 will be ignored. Current value: lambda_l2=5.48420412445619\n"
     ]
    },
    {
     "name": "stderr",
     "output_type": "stream",
     "text": [
      "/Users/alexis/Projects/202502 Actuarial Loss Prediction/.env/lib/python3.10/site-packages/sklearn/utils/validation.py:2739: UserWarning: X does not have valid feature names, but LGBMRegressor was fitted with feature names\n",
      "  warnings.warn(\n"
     ]
    },
    {
     "name": "stdout",
     "output_type": "stream",
     "text": [
      "[LightGBM] [Warning] lambda_l1 is set=2.4766731090087455, reg_alpha=0.0 will be ignored. Current value: lambda_l1=2.4766731090087455\n",
      "[LightGBM] [Warning] lambda_l2 is set=5.48420412445619, reg_lambda=0.0 will be ignored. Current value: lambda_l2=5.48420412445619\n",
      "[LightGBM] [Warning] lambda_l1 is set=2.4766731090087455, reg_alpha=0.0 will be ignored. Current value: lambda_l1=2.4766731090087455\n",
      "[LightGBM] [Warning] lambda_l2 is set=5.48420412445619, reg_lambda=0.0 will be ignored. Current value: lambda_l2=5.48420412445619\n",
      "[LightGBM] [Info] Total Bins 85024\n",
      "[LightGBM] [Info] Number of data points in the train set: 43199, number of used features: 395\n",
      "[LightGBM] [Info] Start training from score 5.914034\n",
      "[LightGBM] [Warning] No further splits with positive gain, best gain: -inf\n",
      "[LightGBM] [Warning] No further splits with positive gain, best gain: -inf\n",
      "[LightGBM] [Warning] No further splits with positive gain, best gain: -inf\n",
      "[LightGBM] [Warning] No further splits with positive gain, best gain: -inf\n",
      "[LightGBM] [Warning] No further splits with positive gain, best gain: -inf\n",
      "[LightGBM] [Warning] No further splits with positive gain, best gain: -inf\n",
      "[LightGBM] [Warning] No further splits with positive gain, best gain: -inf\n",
      "[LightGBM] [Warning] No further splits with positive gain, best gain: -inf\n",
      "[LightGBM] [Warning] No further splits with positive gain, best gain: -inf\n",
      "[LightGBM] [Warning] No further splits with positive gain, best gain: -inf\n",
      "[LightGBM] [Warning] No further splits with positive gain, best gain: -inf\n",
      "[LightGBM] [Warning] No further splits with positive gain, best gain: -inf\n",
      "[LightGBM] [Warning] No further splits with positive gain, best gain: -inf\n",
      "[LightGBM] [Warning] No further splits with positive gain, best gain: -inf\n",
      "[LightGBM] [Warning] No further splits with positive gain, best gain: -inf\n",
      "[LightGBM] [Warning] No further splits with positive gain, best gain: -inf\n",
      "[LightGBM] [Warning] No further splits with positive gain, best gain: -inf\n",
      "[LightGBM] [Warning] No further splits with positive gain, best gain: -inf\n",
      "[LightGBM] [Warning] No further splits with positive gain, best gain: -inf\n",
      "[LightGBM] [Warning] No further splits with positive gain, best gain: -inf\n",
      "[LightGBM] [Warning] No further splits with positive gain, best gain: -inf\n",
      "[LightGBM] [Warning] No further splits with positive gain, best gain: -inf\n",
      "[LightGBM] [Warning] No further splits with positive gain, best gain: -inf\n",
      "[LightGBM] [Warning] No further splits with positive gain, best gain: -inf\n",
      "[LightGBM] [Warning] No further splits with positive gain, best gain: -inf\n",
      "[LightGBM] [Warning] No further splits with positive gain, best gain: -inf\n",
      "[LightGBM] [Warning] No further splits with positive gain, best gain: -inf\n",
      "[LightGBM] [Warning] No further splits with positive gain, best gain: -inf\n",
      "[LightGBM] [Warning] No further splits with positive gain, best gain: -inf\n",
      "[LightGBM] [Warning] No further splits with positive gain, best gain: -inf\n",
      "[LightGBM] [Warning] No further splits with positive gain, best gain: -inf\n",
      "[LightGBM] [Warning] No further splits with positive gain, best gain: -inf\n",
      "[LightGBM] [Warning] No further splits with positive gain, best gain: -inf\n",
      "[LightGBM] [Warning] No further splits with positive gain, best gain: -inf\n",
      "[LightGBM] [Warning] No further splits with positive gain, best gain: -inf\n",
      "[LightGBM] [Warning] No further splits with positive gain, best gain: -inf\n",
      "[LightGBM] [Warning] No further splits with positive gain, best gain: -inf\n",
      "[LightGBM] [Warning] No further splits with positive gain, best gain: -inf\n",
      "[LightGBM] [Warning] No further splits with positive gain, best gain: -inf\n",
      "[LightGBM] [Warning] No further splits with positive gain, best gain: -inf\n",
      "[LightGBM] [Warning] No further splits with positive gain, best gain: -inf\n",
      "[LightGBM] [Warning] No further splits with positive gain, best gain: -inf\n",
      "[LightGBM] [Warning] No further splits with positive gain, best gain: -inf\n",
      "[LightGBM] [Warning] No further splits with positive gain, best gain: -inf\n",
      "[LightGBM] [Warning] No further splits with positive gain, best gain: -inf\n",
      "[LightGBM] [Warning] No further splits with positive gain, best gain: -inf\n",
      "[LightGBM] [Warning] No further splits with positive gain, best gain: -inf\n",
      "[LightGBM] [Warning] No further splits with positive gain, best gain: -inf\n",
      "[LightGBM] [Warning] No further splits with positive gain, best gain: -inf\n",
      "[LightGBM] [Warning] No further splits with positive gain, best gain: -inf\n",
      "[LightGBM] [Warning] No further splits with positive gain, best gain: -inf\n",
      "[LightGBM] [Warning] No further splits with positive gain, best gain: -inf\n",
      "[LightGBM] [Warning] No further splits with positive gain, best gain: -inf\n",
      "[LightGBM] [Warning] No further splits with positive gain, best gain: -inf\n",
      "[LightGBM] [Warning] No further splits with positive gain, best gain: -inf\n",
      "[LightGBM] [Warning] No further splits with positive gain, best gain: -inf\n",
      "[LightGBM] [Warning] No further splits with positive gain, best gain: -inf\n",
      "[LightGBM] [Warning] No further splits with positive gain, best gain: -inf\n",
      "[LightGBM] [Warning] No further splits with positive gain, best gain: -inf\n",
      "[LightGBM] [Warning] No further splits with positive gain, best gain: -inf\n",
      "[LightGBM] [Warning] No further splits with positive gain, best gain: -inf\n",
      "[LightGBM] [Warning] No further splits with positive gain, best gain: -inf\n",
      "[LightGBM] [Warning] No further splits with positive gain, best gain: -inf\n",
      "[LightGBM] [Warning] No further splits with positive gain, best gain: -inf\n",
      "[LightGBM] [Warning] No further splits with positive gain, best gain: -inf\n",
      "[LightGBM] [Warning] No further splits with positive gain, best gain: -inf\n",
      "[LightGBM] [Warning] No further splits with positive gain, best gain: -inf\n",
      "[LightGBM] [Warning] No further splits with positive gain, best gain: -inf\n",
      "[LightGBM] [Warning] No further splits with positive gain, best gain: -inf\n",
      "[LightGBM] [Warning] No further splits with positive gain, best gain: -inf\n",
      "[LightGBM] [Warning] No further splits with positive gain, best gain: -inf\n",
      "[LightGBM] [Warning] No further splits with positive gain, best gain: -inf\n",
      "[LightGBM] [Warning] No further splits with positive gain, best gain: -inf\n",
      "[LightGBM] [Warning] No further splits with positive gain, best gain: -inf\n",
      "[LightGBM] [Warning] No further splits with positive gain, best gain: -inf\n",
      "[LightGBM] [Warning] No further splits with positive gain, best gain: -inf\n",
      "[LightGBM] [Warning] No further splits with positive gain, best gain: -inf\n",
      "[LightGBM] [Warning] No further splits with positive gain, best gain: -inf\n",
      "[LightGBM] [Warning] No further splits with positive gain, best gain: -inf\n",
      "[LightGBM] [Warning] No further splits with positive gain, best gain: -inf\n",
      "[LightGBM] [Warning] No further splits with positive gain, best gain: -inf\n",
      "[LightGBM] [Warning] No further splits with positive gain, best gain: -inf\n",
      "[LightGBM] [Warning] No further splits with positive gain, best gain: -inf\n",
      "[LightGBM] [Warning] No further splits with positive gain, best gain: -inf\n",
      "[LightGBM] [Warning] No further splits with positive gain, best gain: -inf\n",
      "[LightGBM] [Warning] No further splits with positive gain, best gain: -inf\n",
      "[LightGBM] [Warning] No further splits with positive gain, best gain: -inf\n",
      "[LightGBM] [Warning] No further splits with positive gain, best gain: -inf\n",
      "[LightGBM] [Warning] No further splits with positive gain, best gain: -inf\n",
      "[LightGBM] [Warning] No further splits with positive gain, best gain: -inf\n",
      "[LightGBM] [Warning] No further splits with positive gain, best gain: -inf\n",
      "[LightGBM] [Warning] No further splits with positive gain, best gain: -inf\n",
      "[LightGBM] [Warning] No further splits with positive gain, best gain: -inf\n",
      "[LightGBM] [Warning] No further splits with positive gain, best gain: -inf\n",
      "[LightGBM] [Warning] No further splits with positive gain, best gain: -inf\n",
      "[LightGBM] [Warning] No further splits with positive gain, best gain: -inf\n",
      "[LightGBM] [Warning] No further splits with positive gain, best gain: -inf\n",
      "[LightGBM] [Warning] No further splits with positive gain, best gain: -inf\n",
      "[LightGBM] [Warning] No further splits with positive gain, best gain: -inf\n",
      "[LightGBM] [Warning] No further splits with positive gain, best gain: -inf\n",
      "[LightGBM] [Warning] No further splits with positive gain, best gain: -inf\n",
      "[LightGBM] [Warning] No further splits with positive gain, best gain: -inf\n",
      "[LightGBM] [Warning] No further splits with positive gain, best gain: -inf\n",
      "[LightGBM] [Warning] lambda_l1 is set=2.4766731090087455, reg_alpha=0.0 will be ignored. Current value: lambda_l1=2.4766731090087455\n",
      "[LightGBM] [Warning] lambda_l2 is set=5.48420412445619, reg_lambda=0.0 will be ignored. Current value: lambda_l2=5.48420412445619\n"
     ]
    },
    {
     "name": "stderr",
     "output_type": "stream",
     "text": [
      "/Users/alexis/Projects/202502 Actuarial Loss Prediction/.env/lib/python3.10/site-packages/sklearn/utils/validation.py:2739: UserWarning: X does not have valid feature names, but LGBMRegressor was fitted with feature names\n",
      "  warnings.warn(\n"
     ]
    },
    {
     "name": "stdout",
     "output_type": "stream",
     "text": [
      "[LightGBM] [Warning] lambda_l1 is set=2.4766731090087455, reg_alpha=0.0 will be ignored. Current value: lambda_l1=2.4766731090087455\n",
      "[LightGBM] [Warning] lambda_l2 is set=5.48420412445619, reg_lambda=0.0 will be ignored. Current value: lambda_l2=5.48420412445619\n",
      "[LightGBM] [Warning] lambda_l1 is set=2.4766731090087455, reg_alpha=0.0 will be ignored. Current value: lambda_l1=2.4766731090087455\n",
      "[LightGBM] [Warning] lambda_l2 is set=5.48420412445619, reg_lambda=0.0 will be ignored. Current value: lambda_l2=5.48420412445619\n",
      "[LightGBM] [Info] Total Bins 85026\n",
      "[LightGBM] [Info] Number of data points in the train set: 43199, number of used features: 395\n",
      "[LightGBM] [Info] Start training from score 5.945550\n",
      "[LightGBM] [Warning] No further splits with positive gain, best gain: -inf\n",
      "[LightGBM] [Warning] No further splits with positive gain, best gain: -inf\n",
      "[LightGBM] [Warning] No further splits with positive gain, best gain: -inf\n",
      "[LightGBM] [Warning] No further splits with positive gain, best gain: -inf\n",
      "[LightGBM] [Warning] No further splits with positive gain, best gain: -inf\n",
      "[LightGBM] [Warning] No further splits with positive gain, best gain: -inf\n",
      "[LightGBM] [Warning] No further splits with positive gain, best gain: -inf\n",
      "[LightGBM] [Warning] No further splits with positive gain, best gain: -inf\n",
      "[LightGBM] [Warning] No further splits with positive gain, best gain: -inf\n",
      "[LightGBM] [Warning] No further splits with positive gain, best gain: -inf\n",
      "[LightGBM] [Warning] No further splits with positive gain, best gain: -inf\n",
      "[LightGBM] [Warning] No further splits with positive gain, best gain: -inf\n",
      "[LightGBM] [Warning] No further splits with positive gain, best gain: -inf\n",
      "[LightGBM] [Warning] No further splits with positive gain, best gain: -inf\n",
      "[LightGBM] [Warning] No further splits with positive gain, best gain: -inf\n",
      "[LightGBM] [Warning] No further splits with positive gain, best gain: -inf\n",
      "[LightGBM] [Warning] No further splits with positive gain, best gain: -inf\n",
      "[LightGBM] [Warning] No further splits with positive gain, best gain: -inf\n",
      "[LightGBM] [Warning] No further splits with positive gain, best gain: -inf\n",
      "[LightGBM] [Warning] No further splits with positive gain, best gain: -inf\n",
      "[LightGBM] [Warning] No further splits with positive gain, best gain: -inf\n",
      "[LightGBM] [Warning] No further splits with positive gain, best gain: -inf\n",
      "[LightGBM] [Warning] No further splits with positive gain, best gain: -inf\n",
      "[LightGBM] [Warning] No further splits with positive gain, best gain: -inf\n",
      "[LightGBM] [Warning] No further splits with positive gain, best gain: -inf\n",
      "[LightGBM] [Warning] No further splits with positive gain, best gain: -inf\n",
      "[LightGBM] [Warning] No further splits with positive gain, best gain: -inf\n",
      "[LightGBM] [Warning] No further splits with positive gain, best gain: -inf\n",
      "[LightGBM] [Warning] No further splits with positive gain, best gain: -inf\n",
      "[LightGBM] [Warning] No further splits with positive gain, best gain: -inf\n",
      "[LightGBM] [Warning] No further splits with positive gain, best gain: -inf\n",
      "[LightGBM] [Warning] No further splits with positive gain, best gain: -inf\n",
      "[LightGBM] [Warning] No further splits with positive gain, best gain: -inf\n",
      "[LightGBM] [Warning] No further splits with positive gain, best gain: -inf\n",
      "[LightGBM] [Warning] No further splits with positive gain, best gain: -inf\n",
      "[LightGBM] [Warning] No further splits with positive gain, best gain: -inf\n",
      "[LightGBM] [Warning] No further splits with positive gain, best gain: -inf\n",
      "[LightGBM] [Warning] No further splits with positive gain, best gain: -inf\n",
      "[LightGBM] [Warning] No further splits with positive gain, best gain: -inf\n",
      "[LightGBM] [Warning] No further splits with positive gain, best gain: -inf\n",
      "[LightGBM] [Warning] No further splits with positive gain, best gain: -inf\n",
      "[LightGBM] [Warning] No further splits with positive gain, best gain: -inf\n",
      "[LightGBM] [Warning] No further splits with positive gain, best gain: -inf\n",
      "[LightGBM] [Warning] No further splits with positive gain, best gain: -inf\n",
      "[LightGBM] [Warning] No further splits with positive gain, best gain: -inf\n",
      "[LightGBM] [Warning] No further splits with positive gain, best gain: -inf\n",
      "[LightGBM] [Warning] No further splits with positive gain, best gain: -inf\n",
      "[LightGBM] [Warning] No further splits with positive gain, best gain: -inf\n",
      "[LightGBM] [Warning] No further splits with positive gain, best gain: -inf\n",
      "[LightGBM] [Warning] No further splits with positive gain, best gain: -inf\n",
      "[LightGBM] [Warning] No further splits with positive gain, best gain: -inf\n",
      "[LightGBM] [Warning] No further splits with positive gain, best gain: -inf\n",
      "[LightGBM] [Warning] No further splits with positive gain, best gain: -inf\n",
      "[LightGBM] [Warning] No further splits with positive gain, best gain: -inf\n",
      "[LightGBM] [Warning] No further splits with positive gain, best gain: -inf\n",
      "[LightGBM] [Warning] No further splits with positive gain, best gain: -inf\n",
      "[LightGBM] [Warning] No further splits with positive gain, best gain: -inf\n",
      "[LightGBM] [Warning] No further splits with positive gain, best gain: -inf\n",
      "[LightGBM] [Warning] No further splits with positive gain, best gain: -inf\n",
      "[LightGBM] [Warning] No further splits with positive gain, best gain: -inf\n",
      "[LightGBM] [Warning] No further splits with positive gain, best gain: -inf\n",
      "[LightGBM] [Warning] No further splits with positive gain, best gain: -inf\n",
      "[LightGBM] [Warning] No further splits with positive gain, best gain: -inf\n",
      "[LightGBM] [Warning] No further splits with positive gain, best gain: -inf\n",
      "[LightGBM] [Warning] No further splits with positive gain, best gain: -inf\n",
      "[LightGBM] [Warning] No further splits with positive gain, best gain: -inf\n",
      "[LightGBM] [Warning] No further splits with positive gain, best gain: -inf\n",
      "[LightGBM] [Warning] No further splits with positive gain, best gain: -inf\n",
      "[LightGBM] [Warning] No further splits with positive gain, best gain: -inf\n",
      "[LightGBM] [Warning] No further splits with positive gain, best gain: -inf\n",
      "[LightGBM] [Warning] No further splits with positive gain, best gain: -inf\n",
      "[LightGBM] [Warning] No further splits with positive gain, best gain: -inf\n",
      "[LightGBM] [Warning] No further splits with positive gain, best gain: -inf\n",
      "[LightGBM] [Warning] No further splits with positive gain, best gain: -inf\n",
      "[LightGBM] [Warning] No further splits with positive gain, best gain: -inf\n",
      "[LightGBM] [Warning] No further splits with positive gain, best gain: -inf\n",
      "[LightGBM] [Warning] No further splits with positive gain, best gain: -inf\n",
      "[LightGBM] [Warning] No further splits with positive gain, best gain: -inf\n",
      "[LightGBM] [Warning] No further splits with positive gain, best gain: -inf\n",
      "[LightGBM] [Warning] No further splits with positive gain, best gain: -inf\n",
      "[LightGBM] [Warning] No further splits with positive gain, best gain: -inf\n",
      "[LightGBM] [Warning] No further splits with positive gain, best gain: -inf\n",
      "[LightGBM] [Warning] No further splits with positive gain, best gain: -inf\n",
      "[LightGBM] [Warning] No further splits with positive gain, best gain: -inf\n",
      "[LightGBM] [Warning] No further splits with positive gain, best gain: -inf\n",
      "[LightGBM] [Warning] No further splits with positive gain, best gain: -inf\n",
      "[LightGBM] [Warning] No further splits with positive gain, best gain: -inf\n",
      "[LightGBM] [Warning] No further splits with positive gain, best gain: -inf\n",
      "[LightGBM] [Warning] No further splits with positive gain, best gain: -inf\n",
      "[LightGBM] [Warning] No further splits with positive gain, best gain: -inf\n",
      "[LightGBM] [Warning] No further splits with positive gain, best gain: -inf\n",
      "[LightGBM] [Warning] No further splits with positive gain, best gain: -inf\n"
     ]
    },
    {
     "name": "stderr",
     "output_type": "stream",
     "text": [
      "/Users/alexis/Projects/202502 Actuarial Loss Prediction/.env/lib/python3.10/site-packages/sklearn/utils/validation.py:2739: UserWarning: X does not have valid feature names, but LGBMRegressor was fitted with feature names\n",
      "  warnings.warn(\n"
     ]
    },
    {
     "name": "stdout",
     "output_type": "stream",
     "text": [
      "[LightGBM] [Warning] lambda_l1 is set=2.4766731090087455, reg_alpha=0.0 will be ignored. Current value: lambda_l1=2.4766731090087455\n",
      "[LightGBM] [Warning] lambda_l2 is set=5.48420412445619, reg_lambda=0.0 will be ignored. Current value: lambda_l2=5.48420412445619\n",
      "[LightGBM] [Warning] lambda_l1 is set=2.4766731090087455, reg_alpha=0.0 will be ignored. Current value: lambda_l1=2.4766731090087455\n",
      "[LightGBM] [Warning] lambda_l2 is set=5.48420412445619, reg_lambda=0.0 will be ignored. Current value: lambda_l2=5.48420412445619\n",
      "[LightGBM] [Warning] lambda_l1 is set=2.4766731090087455, reg_alpha=0.0 will be ignored. Current value: lambda_l1=2.4766731090087455\n",
      "[LightGBM] [Warning] lambda_l2 is set=5.48420412445619, reg_lambda=0.0 will be ignored. Current value: lambda_l2=5.48420412445619\n",
      "[LightGBM] [Info] Total Bins 85029\n",
      "[LightGBM] [Info] Number of data points in the train set: 43199, number of used features: 395\n",
      "[LightGBM] [Info] Start training from score 5.959808\n",
      "[LightGBM] [Warning] No further splits with positive gain, best gain: -inf\n",
      "[LightGBM] [Warning] No further splits with positive gain, best gain: -inf\n",
      "[LightGBM] [Warning] No further splits with positive gain, best gain: -inf\n",
      "[LightGBM] [Warning] No further splits with positive gain, best gain: -inf\n",
      "[LightGBM] [Warning] No further splits with positive gain, best gain: -inf\n",
      "[LightGBM] [Warning] No further splits with positive gain, best gain: -inf\n",
      "[LightGBM] [Warning] No further splits with positive gain, best gain: -inf\n",
      "[LightGBM] [Warning] No further splits with positive gain, best gain: -inf\n",
      "[LightGBM] [Warning] No further splits with positive gain, best gain: -inf\n",
      "[LightGBM] [Warning] No further splits with positive gain, best gain: -inf\n",
      "[LightGBM] [Warning] No further splits with positive gain, best gain: -inf\n",
      "[LightGBM] [Warning] No further splits with positive gain, best gain: -inf\n",
      "[LightGBM] [Warning] No further splits with positive gain, best gain: -inf\n",
      "[LightGBM] [Warning] No further splits with positive gain, best gain: -inf\n",
      "[LightGBM] [Warning] No further splits with positive gain, best gain: -inf\n",
      "[LightGBM] [Warning] No further splits with positive gain, best gain: -inf\n",
      "[LightGBM] [Warning] No further splits with positive gain, best gain: -inf\n",
      "[LightGBM] [Warning] No further splits with positive gain, best gain: -inf\n",
      "[LightGBM] [Warning] No further splits with positive gain, best gain: -inf\n",
      "[LightGBM] [Warning] No further splits with positive gain, best gain: -inf\n",
      "[LightGBM] [Warning] No further splits with positive gain, best gain: -inf\n",
      "[LightGBM] [Warning] No further splits with positive gain, best gain: -inf\n",
      "[LightGBM] [Warning] No further splits with positive gain, best gain: -inf\n",
      "[LightGBM] [Warning] No further splits with positive gain, best gain: -inf\n",
      "[LightGBM] [Warning] No further splits with positive gain, best gain: -inf\n",
      "[LightGBM] [Warning] No further splits with positive gain, best gain: -inf\n",
      "[LightGBM] [Warning] No further splits with positive gain, best gain: -inf\n",
      "[LightGBM] [Warning] No further splits with positive gain, best gain: -inf\n",
      "[LightGBM] [Warning] No further splits with positive gain, best gain: -inf\n",
      "[LightGBM] [Warning] No further splits with positive gain, best gain: -inf\n",
      "[LightGBM] [Warning] No further splits with positive gain, best gain: -inf\n",
      "[LightGBM] [Warning] No further splits with positive gain, best gain: -inf\n",
      "[LightGBM] [Warning] No further splits with positive gain, best gain: -inf\n",
      "[LightGBM] [Warning] No further splits with positive gain, best gain: -inf\n",
      "[LightGBM] [Warning] No further splits with positive gain, best gain: -inf\n",
      "[LightGBM] [Warning] No further splits with positive gain, best gain: -inf\n",
      "[LightGBM] [Warning] No further splits with positive gain, best gain: -inf\n",
      "[LightGBM] [Warning] No further splits with positive gain, best gain: -inf\n",
      "[LightGBM] [Warning] No further splits with positive gain, best gain: -inf\n",
      "[LightGBM] [Warning] No further splits with positive gain, best gain: -inf\n",
      "[LightGBM] [Warning] No further splits with positive gain, best gain: -inf\n",
      "[LightGBM] [Warning] No further splits with positive gain, best gain: -inf\n",
      "[LightGBM] [Warning] No further splits with positive gain, best gain: -inf\n",
      "[LightGBM] [Warning] No further splits with positive gain, best gain: -inf\n",
      "[LightGBM] [Warning] No further splits with positive gain, best gain: -inf\n",
      "[LightGBM] [Warning] No further splits with positive gain, best gain: -inf\n",
      "[LightGBM] [Warning] No further splits with positive gain, best gain: -inf\n",
      "[LightGBM] [Warning] No further splits with positive gain, best gain: -inf\n",
      "[LightGBM] [Warning] No further splits with positive gain, best gain: -inf\n",
      "[LightGBM] [Warning] No further splits with positive gain, best gain: -inf\n",
      "[LightGBM] [Warning] No further splits with positive gain, best gain: -inf\n",
      "[LightGBM] [Warning] No further splits with positive gain, best gain: -inf\n",
      "[LightGBM] [Warning] No further splits with positive gain, best gain: -inf\n",
      "[LightGBM] [Warning] No further splits with positive gain, best gain: -inf\n",
      "[LightGBM] [Warning] No further splits with positive gain, best gain: -inf\n",
      "[LightGBM] [Warning] No further splits with positive gain, best gain: -inf\n",
      "[LightGBM] [Warning] No further splits with positive gain, best gain: -inf\n",
      "[LightGBM] [Warning] No further splits with positive gain, best gain: -inf\n",
      "[LightGBM] [Warning] No further splits with positive gain, best gain: -inf\n",
      "[LightGBM] [Warning] No further splits with positive gain, best gain: -inf\n",
      "[LightGBM] [Warning] No further splits with positive gain, best gain: -inf\n",
      "[LightGBM] [Warning] No further splits with positive gain, best gain: -inf\n",
      "[LightGBM] [Warning] No further splits with positive gain, best gain: -inf\n",
      "[LightGBM] [Warning] No further splits with positive gain, best gain: -inf\n",
      "[LightGBM] [Warning] No further splits with positive gain, best gain: -inf\n",
      "[LightGBM] [Warning] No further splits with positive gain, best gain: -inf\n",
      "[LightGBM] [Warning] No further splits with positive gain, best gain: -inf\n",
      "[LightGBM] [Warning] No further splits with positive gain, best gain: -inf\n",
      "[LightGBM] [Warning] No further splits with positive gain, best gain: -inf\n",
      "[LightGBM] [Warning] No further splits with positive gain, best gain: -inf\n",
      "[LightGBM] [Warning] No further splits with positive gain, best gain: -inf\n",
      "[LightGBM] [Warning] No further splits with positive gain, best gain: -inf\n",
      "[LightGBM] [Warning] No further splits with positive gain, best gain: -inf\n",
      "[LightGBM] [Warning] No further splits with positive gain, best gain: -inf\n",
      "[LightGBM] [Warning] No further splits with positive gain, best gain: -inf\n",
      "[LightGBM] [Warning] No further splits with positive gain, best gain: -inf\n",
      "[LightGBM] [Warning] No further splits with positive gain, best gain: -inf\n",
      "[LightGBM] [Warning] No further splits with positive gain, best gain: -inf\n",
      "[LightGBM] [Warning] No further splits with positive gain, best gain: -inf\n",
      "[LightGBM] [Warning] No further splits with positive gain, best gain: -inf\n",
      "[LightGBM] [Warning] No further splits with positive gain, best gain: -inf\n",
      "[LightGBM] [Warning] No further splits with positive gain, best gain: -inf\n",
      "[LightGBM] [Warning] No further splits with positive gain, best gain: -inf\n",
      "[LightGBM] [Warning] No further splits with positive gain, best gain: -inf\n",
      "[LightGBM] [Warning] No further splits with positive gain, best gain: -inf\n",
      "[LightGBM] [Warning] No further splits with positive gain, best gain: -inf\n",
      "[LightGBM] [Warning] No further splits with positive gain, best gain: -inf\n",
      "[LightGBM] [Warning] lambda_l1 is set=2.4766731090087455, reg_alpha=0.0 will be ignored. Current value: lambda_l1=2.4766731090087455\n",
      "[LightGBM] [Warning] lambda_l2 is set=5.48420412445619, reg_lambda=0.0 will be ignored. Current value: lambda_l2=5.48420412445619\n"
     ]
    },
    {
     "name": "stderr",
     "output_type": "stream",
     "text": [
      "/Users/alexis/Projects/202502 Actuarial Loss Prediction/.env/lib/python3.10/site-packages/sklearn/utils/validation.py:2739: UserWarning: X does not have valid feature names, but LGBMRegressor was fitted with feature names\n",
      "  warnings.warn(\n"
     ]
    },
    {
     "name": "stdout",
     "output_type": "stream",
     "text": [
      "[LightGBM] [Warning] lambda_l1 is set=2.4766731090087455, reg_alpha=0.0 will be ignored. Current value: lambda_l1=2.4766731090087455\n",
      "[LightGBM] [Warning] lambda_l2 is set=5.48420412445619, reg_lambda=0.0 will be ignored. Current value: lambda_l2=5.48420412445619\n",
      "[LightGBM] [Warning] lambda_l1 is set=2.4766731090087455, reg_alpha=0.0 will be ignored. Current value: lambda_l1=2.4766731090087455\n",
      "[LightGBM] [Warning] lambda_l2 is set=5.48420412445619, reg_lambda=0.0 will be ignored. Current value: lambda_l2=5.48420412445619\n",
      "[LightGBM] [Info] Total Bins 85028\n",
      "[LightGBM] [Info] Number of data points in the train set: 43200, number of used features: 395\n",
      "[LightGBM] [Info] Start training from score 5.940370\n",
      "[LightGBM] [Warning] No further splits with positive gain, best gain: -inf\n",
      "[LightGBM] [Warning] No further splits with positive gain, best gain: -inf\n",
      "[LightGBM] [Warning] No further splits with positive gain, best gain: -inf\n",
      "[LightGBM] [Warning] No further splits with positive gain, best gain: -inf\n",
      "[LightGBM] [Warning] No further splits with positive gain, best gain: -inf\n",
      "[LightGBM] [Warning] No further splits with positive gain, best gain: -inf\n",
      "[LightGBM] [Warning] No further splits with positive gain, best gain: -inf\n",
      "[LightGBM] [Warning] No further splits with positive gain, best gain: -inf\n",
      "[LightGBM] [Warning] No further splits with positive gain, best gain: -inf\n",
      "[LightGBM] [Warning] No further splits with positive gain, best gain: -inf\n",
      "[LightGBM] [Warning] No further splits with positive gain, best gain: -inf\n",
      "[LightGBM] [Warning] No further splits with positive gain, best gain: -inf\n",
      "[LightGBM] [Warning] No further splits with positive gain, best gain: -inf\n",
      "[LightGBM] [Warning] No further splits with positive gain, best gain: -inf\n",
      "[LightGBM] [Warning] No further splits with positive gain, best gain: -inf\n",
      "[LightGBM] [Warning] No further splits with positive gain, best gain: -inf\n",
      "[LightGBM] [Warning] No further splits with positive gain, best gain: -inf\n",
      "[LightGBM] [Warning] No further splits with positive gain, best gain: -inf\n",
      "[LightGBM] [Warning] No further splits with positive gain, best gain: -inf\n",
      "[LightGBM] [Warning] No further splits with positive gain, best gain: -inf\n",
      "[LightGBM] [Warning] No further splits with positive gain, best gain: -inf\n",
      "[LightGBM] [Warning] No further splits with positive gain, best gain: -inf\n",
      "[LightGBM] [Warning] No further splits with positive gain, best gain: -inf\n",
      "[LightGBM] [Warning] No further splits with positive gain, best gain: -inf\n",
      "[LightGBM] [Warning] No further splits with positive gain, best gain: -inf\n",
      "[LightGBM] [Warning] No further splits with positive gain, best gain: -inf\n",
      "[LightGBM] [Warning] No further splits with positive gain, best gain: -inf\n",
      "[LightGBM] [Warning] No further splits with positive gain, best gain: -inf\n",
      "[LightGBM] [Warning] No further splits with positive gain, best gain: -inf\n",
      "[LightGBM] [Warning] No further splits with positive gain, best gain: -inf\n",
      "[LightGBM] [Warning] No further splits with positive gain, best gain: -inf\n",
      "[LightGBM] [Warning] No further splits with positive gain, best gain: -inf\n",
      "[LightGBM] [Warning] No further splits with positive gain, best gain: -inf\n",
      "[LightGBM] [Warning] No further splits with positive gain, best gain: -inf\n",
      "[LightGBM] [Warning] No further splits with positive gain, best gain: -inf\n",
      "[LightGBM] [Warning] No further splits with positive gain, best gain: -inf\n",
      "[LightGBM] [Warning] No further splits with positive gain, best gain: -inf\n",
      "[LightGBM] [Warning] No further splits with positive gain, best gain: -inf\n",
      "[LightGBM] [Warning] No further splits with positive gain, best gain: -inf\n",
      "[LightGBM] [Warning] No further splits with positive gain, best gain: -inf\n",
      "[LightGBM] [Warning] No further splits with positive gain, best gain: -inf\n",
      "[LightGBM] [Warning] No further splits with positive gain, best gain: -inf\n",
      "[LightGBM] [Warning] No further splits with positive gain, best gain: -inf\n",
      "[LightGBM] [Warning] No further splits with positive gain, best gain: -inf\n",
      "[LightGBM] [Warning] No further splits with positive gain, best gain: -inf\n",
      "[LightGBM] [Warning] No further splits with positive gain, best gain: -inf\n",
      "[LightGBM] [Warning] No further splits with positive gain, best gain: -inf\n",
      "[LightGBM] [Warning] No further splits with positive gain, best gain: -inf\n",
      "[LightGBM] [Warning] No further splits with positive gain, best gain: -inf\n",
      "[LightGBM] [Warning] No further splits with positive gain, best gain: -inf\n",
      "[LightGBM] [Warning] No further splits with positive gain, best gain: -inf\n",
      "[LightGBM] [Warning] No further splits with positive gain, best gain: -inf\n",
      "[LightGBM] [Warning] No further splits with positive gain, best gain: -inf\n",
      "[LightGBM] [Warning] No further splits with positive gain, best gain: -inf\n",
      "[LightGBM] [Warning] No further splits with positive gain, best gain: -inf\n",
      "[LightGBM] [Warning] No further splits with positive gain, best gain: -inf\n",
      "[LightGBM] [Warning] No further splits with positive gain, best gain: -inf\n",
      "[LightGBM] [Warning] No further splits with positive gain, best gain: -inf\n",
      "[LightGBM] [Warning] No further splits with positive gain, best gain: -inf\n",
      "[LightGBM] [Warning] No further splits with positive gain, best gain: -inf\n",
      "[LightGBM] [Warning] No further splits with positive gain, best gain: -inf\n",
      "[LightGBM] [Warning] No further splits with positive gain, best gain: -inf\n",
      "[LightGBM] [Warning] No further splits with positive gain, best gain: -inf\n",
      "[LightGBM] [Warning] No further splits with positive gain, best gain: -inf\n",
      "[LightGBM] [Warning] No further splits with positive gain, best gain: -inf\n",
      "[LightGBM] [Warning] No further splits with positive gain, best gain: -inf\n",
      "[LightGBM] [Warning] No further splits with positive gain, best gain: -inf\n",
      "[LightGBM] [Warning] No further splits with positive gain, best gain: -inf\n",
      "[LightGBM] [Warning] No further splits with positive gain, best gain: -inf\n",
      "[LightGBM] [Warning] No further splits with positive gain, best gain: -inf\n",
      "[LightGBM] [Warning] No further splits with positive gain, best gain: -inf\n",
      "[LightGBM] [Warning] No further splits with positive gain, best gain: -inf\n",
      "[LightGBM] [Warning] No further splits with positive gain, best gain: -inf\n",
      "[LightGBM] [Warning] No further splits with positive gain, best gain: -inf\n",
      "[LightGBM] [Warning] No further splits with positive gain, best gain: -inf\n",
      "[LightGBM] [Warning] No further splits with positive gain, best gain: -inf\n",
      "[LightGBM] [Warning] No further splits with positive gain, best gain: -inf\n",
      "[LightGBM] [Warning] No further splits with positive gain, best gain: -inf\n",
      "[LightGBM] [Warning] No further splits with positive gain, best gain: -inf\n",
      "[LightGBM] [Warning] No further splits with positive gain, best gain: -inf\n",
      "[LightGBM] [Warning] No further splits with positive gain, best gain: -inf\n",
      "[LightGBM] [Warning] No further splits with positive gain, best gain: -inf\n",
      "[LightGBM] [Warning] No further splits with positive gain, best gain: -inf\n",
      "[LightGBM] [Warning] No further splits with positive gain, best gain: -inf\n",
      "[LightGBM] [Warning] No further splits with positive gain, best gain: -inf\n",
      "[LightGBM] [Warning] No further splits with positive gain, best gain: -inf\n",
      "[LightGBM] [Warning] No further splits with positive gain, best gain: -inf\n",
      "[LightGBM] [Warning] No further splits with positive gain, best gain: -inf\n",
      "[LightGBM] [Warning] No further splits with positive gain, best gain: -inf\n",
      "[LightGBM] [Warning] No further splits with positive gain, best gain: -inf\n",
      "[LightGBM] [Warning] No further splits with positive gain, best gain: -inf\n",
      "[LightGBM] [Warning] No further splits with positive gain, best gain: -inf\n",
      "[LightGBM] [Warning] No further splits with positive gain, best gain: -inf\n",
      "[LightGBM] [Warning] No further splits with positive gain, best gain: -inf\n"
     ]
    },
    {
     "name": "stderr",
     "output_type": "stream",
     "text": [
      "/Users/alexis/Projects/202502 Actuarial Loss Prediction/.env/lib/python3.10/site-packages/sklearn/utils/validation.py:2739: UserWarning: X does not have valid feature names, but LGBMRegressor was fitted with feature names\n",
      "  warnings.warn(\n",
      "[I 2025-03-02 18:50:19,139] Trial 13 finished with value: 24164.74881917839 and parameters: {'max_depth': 5, 'learning_rate': 0.29242327485448044, 'n_estimators': 300, 'min_child_weight': 10, 'subsample': 0.8995308023670932, 'colsample_bytree': 0.8040066001810885, 'lambda_l1': 2.4766731090087455, 'lambda_l2': 5.48420412445619}. Best is trial 5 with value: 23862.926693452253.\n"
     ]
    },
    {
     "name": "stdout",
     "output_type": "stream",
     "text": [
      "[LightGBM] [Warning] lambda_l1 is set=2.4766731090087455, reg_alpha=0.0 will be ignored. Current value: lambda_l1=2.4766731090087455\n",
      "[LightGBM] [Warning] lambda_l2 is set=5.48420412445619, reg_lambda=0.0 will be ignored. Current value: lambda_l2=5.48420412445619\n",
      "RMSE Overall:  24164.749 | MAE: 5916.638\n",
      "RMSE for low y_true (<= 100k): 10380.616 | MAE: 3578.708\n",
      "RMSE for high y_true (> 100k): 162727.373 | MAE: 133061.680\n",
      "[LightGBM] [Warning] lambda_l1 is set=0.06360182462587716, reg_alpha=0.0 will be ignored. Current value: lambda_l1=0.06360182462587716\n",
      "[LightGBM] [Warning] lambda_l2 is set=8.158149082928414, reg_lambda=0.0 will be ignored. Current value: lambda_l2=8.158149082928414\n",
      "[LightGBM] [Warning] lambda_l1 is set=0.06360182462587716, reg_alpha=0.0 will be ignored. Current value: lambda_l1=0.06360182462587716\n",
      "[LightGBM] [Warning] lambda_l2 is set=8.158149082928414, reg_lambda=0.0 will be ignored. Current value: lambda_l2=8.158149082928414\n",
      "[LightGBM] [Info] Total Bins 85015\n",
      "[LightGBM] [Info] Number of data points in the train set: 43199, number of used features: 395\n",
      "[LightGBM] [Info] Start training from score 5.909642\n"
     ]
    },
    {
     "name": "stderr",
     "output_type": "stream",
     "text": [
      "/Users/alexis/Projects/202502 Actuarial Loss Prediction/.env/lib/python3.10/site-packages/sklearn/utils/validation.py:2739: UserWarning: X does not have valid feature names, but LGBMRegressor was fitted with feature names\n",
      "  warnings.warn(\n"
     ]
    },
    {
     "name": "stdout",
     "output_type": "stream",
     "text": [
      "[LightGBM] [Warning] lambda_l1 is set=0.06360182462587716, reg_alpha=0.0 will be ignored. Current value: lambda_l1=0.06360182462587716\n",
      "[LightGBM] [Warning] lambda_l2 is set=8.158149082928414, reg_lambda=0.0 will be ignored. Current value: lambda_l2=8.158149082928414\n",
      "[LightGBM] [Warning] lambda_l1 is set=0.06360182462587716, reg_alpha=0.0 will be ignored. Current value: lambda_l1=0.06360182462587716\n",
      "[LightGBM] [Warning] lambda_l2 is set=8.158149082928414, reg_lambda=0.0 will be ignored. Current value: lambda_l2=8.158149082928414\n",
      "[LightGBM] [Warning] lambda_l1 is set=0.06360182462587716, reg_alpha=0.0 will be ignored. Current value: lambda_l1=0.06360182462587716\n",
      "[LightGBM] [Warning] lambda_l2 is set=8.158149082928414, reg_lambda=0.0 will be ignored. Current value: lambda_l2=8.158149082928414\n",
      "[LightGBM] [Info] Total Bins 85024\n",
      "[LightGBM] [Info] Number of data points in the train set: 43199, number of used features: 395\n",
      "[LightGBM] [Info] Start training from score 5.914034\n"
     ]
    },
    {
     "name": "stderr",
     "output_type": "stream",
     "text": [
      "/Users/alexis/Projects/202502 Actuarial Loss Prediction/.env/lib/python3.10/site-packages/sklearn/utils/validation.py:2739: UserWarning: X does not have valid feature names, but LGBMRegressor was fitted with feature names\n",
      "  warnings.warn(\n"
     ]
    },
    {
     "name": "stdout",
     "output_type": "stream",
     "text": [
      "[LightGBM] [Warning] lambda_l1 is set=0.06360182462587716, reg_alpha=0.0 will be ignored. Current value: lambda_l1=0.06360182462587716\n",
      "[LightGBM] [Warning] lambda_l2 is set=8.158149082928414, reg_lambda=0.0 will be ignored. Current value: lambda_l2=8.158149082928414\n",
      "[LightGBM] [Warning] lambda_l1 is set=0.06360182462587716, reg_alpha=0.0 will be ignored. Current value: lambda_l1=0.06360182462587716\n",
      "[LightGBM] [Warning] lambda_l2 is set=8.158149082928414, reg_lambda=0.0 will be ignored. Current value: lambda_l2=8.158149082928414\n",
      "[LightGBM] [Warning] lambda_l1 is set=0.06360182462587716, reg_alpha=0.0 will be ignored. Current value: lambda_l1=0.06360182462587716\n",
      "[LightGBM] [Warning] lambda_l2 is set=8.158149082928414, reg_lambda=0.0 will be ignored. Current value: lambda_l2=8.158149082928414\n",
      "[LightGBM] [Info] Total Bins 85026\n",
      "[LightGBM] [Info] Number of data points in the train set: 43199, number of used features: 395\n",
      "[LightGBM] [Info] Start training from score 5.945550\n"
     ]
    },
    {
     "name": "stderr",
     "output_type": "stream",
     "text": [
      "/Users/alexis/Projects/202502 Actuarial Loss Prediction/.env/lib/python3.10/site-packages/sklearn/utils/validation.py:2739: UserWarning: X does not have valid feature names, but LGBMRegressor was fitted with feature names\n",
      "  warnings.warn(\n"
     ]
    },
    {
     "name": "stdout",
     "output_type": "stream",
     "text": [
      "[LightGBM] [Warning] lambda_l1 is set=0.06360182462587716, reg_alpha=0.0 will be ignored. Current value: lambda_l1=0.06360182462587716\n",
      "[LightGBM] [Warning] lambda_l2 is set=8.158149082928414, reg_lambda=0.0 will be ignored. Current value: lambda_l2=8.158149082928414\n",
      "[LightGBM] [Warning] lambda_l1 is set=0.06360182462587716, reg_alpha=0.0 will be ignored. Current value: lambda_l1=0.06360182462587716\n",
      "[LightGBM] [Warning] lambda_l2 is set=8.158149082928414, reg_lambda=0.0 will be ignored. Current value: lambda_l2=8.158149082928414\n",
      "[LightGBM] [Warning] lambda_l1 is set=0.06360182462587716, reg_alpha=0.0 will be ignored. Current value: lambda_l1=0.06360182462587716\n",
      "[LightGBM] [Warning] lambda_l2 is set=8.158149082928414, reg_lambda=0.0 will be ignored. Current value: lambda_l2=8.158149082928414\n",
      "[LightGBM] [Info] Total Bins 85029\n",
      "[LightGBM] [Info] Number of data points in the train set: 43199, number of used features: 395\n",
      "[LightGBM] [Info] Start training from score 5.959808\n"
     ]
    },
    {
     "name": "stderr",
     "output_type": "stream",
     "text": [
      "/Users/alexis/Projects/202502 Actuarial Loss Prediction/.env/lib/python3.10/site-packages/sklearn/utils/validation.py:2739: UserWarning: X does not have valid feature names, but LGBMRegressor was fitted with feature names\n",
      "  warnings.warn(\n"
     ]
    },
    {
     "name": "stdout",
     "output_type": "stream",
     "text": [
      "[LightGBM] [Warning] lambda_l1 is set=0.06360182462587716, reg_alpha=0.0 will be ignored. Current value: lambda_l1=0.06360182462587716\n",
      "[LightGBM] [Warning] lambda_l2 is set=8.158149082928414, reg_lambda=0.0 will be ignored. Current value: lambda_l2=8.158149082928414\n",
      "[LightGBM] [Warning] lambda_l1 is set=0.06360182462587716, reg_alpha=0.0 will be ignored. Current value: lambda_l1=0.06360182462587716\n",
      "[LightGBM] [Warning] lambda_l2 is set=8.158149082928414, reg_lambda=0.0 will be ignored. Current value: lambda_l2=8.158149082928414\n",
      "[LightGBM] [Warning] lambda_l1 is set=0.06360182462587716, reg_alpha=0.0 will be ignored. Current value: lambda_l1=0.06360182462587716\n",
      "[LightGBM] [Warning] lambda_l2 is set=8.158149082928414, reg_lambda=0.0 will be ignored. Current value: lambda_l2=8.158149082928414\n",
      "[LightGBM] [Info] Total Bins 85028\n",
      "[LightGBM] [Info] Number of data points in the train set: 43200, number of used features: 395\n",
      "[LightGBM] [Info] Start training from score 5.940370\n"
     ]
    },
    {
     "name": "stderr",
     "output_type": "stream",
     "text": [
      "/Users/alexis/Projects/202502 Actuarial Loss Prediction/.env/lib/python3.10/site-packages/sklearn/utils/validation.py:2739: UserWarning: X does not have valid feature names, but LGBMRegressor was fitted with feature names\n",
      "  warnings.warn(\n",
      "[I 2025-03-02 18:50:31,161] Trial 14 finished with value: 23907.868899830588 and parameters: {'max_depth': 10, 'learning_rate': 0.09436636860716799, 'n_estimators': 100, 'min_child_weight': 4, 'subsample': 0.7340741609124537, 'colsample_bytree': 0.6637863621794857, 'lambda_l1': 0.06360182462587716, 'lambda_l2': 8.158149082928414}. Best is trial 5 with value: 23862.926693452253.\n"
     ]
    },
    {
     "name": "stdout",
     "output_type": "stream",
     "text": [
      "[LightGBM] [Warning] lambda_l1 is set=0.06360182462587716, reg_alpha=0.0 will be ignored. Current value: lambda_l1=0.06360182462587716\n",
      "[LightGBM] [Warning] lambda_l2 is set=8.158149082928414, reg_lambda=0.0 will be ignored. Current value: lambda_l2=8.158149082928414\n",
      "RMSE Overall:  23907.869 | MAE: 5587.282\n",
      "RMSE for low y_true (<= 100k): 9260.716 | MAE: 3210.373\n",
      "RMSE for high y_true (> 100k): 164293.980 | MAE: 134852.125\n",
      "[LightGBM] [Warning] lambda_l1 is set=0.19908147636274304, reg_alpha=0.0 will be ignored. Current value: lambda_l1=0.19908147636274304\n",
      "[LightGBM] [Warning] lambda_l2 is set=8.792472077388188, reg_lambda=0.0 will be ignored. Current value: lambda_l2=8.792472077388188\n",
      "[LightGBM] [Warning] lambda_l1 is set=0.19908147636274304, reg_alpha=0.0 will be ignored. Current value: lambda_l1=0.19908147636274304\n",
      "[LightGBM] [Warning] lambda_l2 is set=8.792472077388188, reg_lambda=0.0 will be ignored. Current value: lambda_l2=8.792472077388188\n",
      "[LightGBM] [Info] Total Bins 85015\n",
      "[LightGBM] [Info] Number of data points in the train set: 43199, number of used features: 395\n",
      "[LightGBM] [Info] Start training from score 5.909642\n"
     ]
    },
    {
     "name": "stderr",
     "output_type": "stream",
     "text": [
      "/Users/alexis/Projects/202502 Actuarial Loss Prediction/.env/lib/python3.10/site-packages/sklearn/utils/validation.py:2739: UserWarning: X does not have valid feature names, but LGBMRegressor was fitted with feature names\n",
      "  warnings.warn(\n"
     ]
    },
    {
     "name": "stdout",
     "output_type": "stream",
     "text": [
      "[LightGBM] [Warning] lambda_l1 is set=0.19908147636274304, reg_alpha=0.0 will be ignored. Current value: lambda_l1=0.19908147636274304\n",
      "[LightGBM] [Warning] lambda_l2 is set=8.792472077388188, reg_lambda=0.0 will be ignored. Current value: lambda_l2=8.792472077388188\n",
      "[LightGBM] [Warning] lambda_l1 is set=0.19908147636274304, reg_alpha=0.0 will be ignored. Current value: lambda_l1=0.19908147636274304\n",
      "[LightGBM] [Warning] lambda_l2 is set=8.792472077388188, reg_lambda=0.0 will be ignored. Current value: lambda_l2=8.792472077388188\n",
      "[LightGBM] [Warning] lambda_l1 is set=0.19908147636274304, reg_alpha=0.0 will be ignored. Current value: lambda_l1=0.19908147636274304\n",
      "[LightGBM] [Warning] lambda_l2 is set=8.792472077388188, reg_lambda=0.0 will be ignored. Current value: lambda_l2=8.792472077388188\n",
      "[LightGBM] [Info] Total Bins 85024\n",
      "[LightGBM] [Info] Number of data points in the train set: 43199, number of used features: 395\n",
      "[LightGBM] [Info] Start training from score 5.914034\n"
     ]
    },
    {
     "name": "stderr",
     "output_type": "stream",
     "text": [
      "/Users/alexis/Projects/202502 Actuarial Loss Prediction/.env/lib/python3.10/site-packages/sklearn/utils/validation.py:2739: UserWarning: X does not have valid feature names, but LGBMRegressor was fitted with feature names\n",
      "  warnings.warn(\n"
     ]
    },
    {
     "name": "stdout",
     "output_type": "stream",
     "text": [
      "[LightGBM] [Warning] lambda_l1 is set=0.19908147636274304, reg_alpha=0.0 will be ignored. Current value: lambda_l1=0.19908147636274304\n",
      "[LightGBM] [Warning] lambda_l2 is set=8.792472077388188, reg_lambda=0.0 will be ignored. Current value: lambda_l2=8.792472077388188\n",
      "[LightGBM] [Warning] lambda_l1 is set=0.19908147636274304, reg_alpha=0.0 will be ignored. Current value: lambda_l1=0.19908147636274304\n",
      "[LightGBM] [Warning] lambda_l2 is set=8.792472077388188, reg_lambda=0.0 will be ignored. Current value: lambda_l2=8.792472077388188\n",
      "[LightGBM] [Warning] lambda_l1 is set=0.19908147636274304, reg_alpha=0.0 will be ignored. Current value: lambda_l1=0.19908147636274304\n",
      "[LightGBM] [Warning] lambda_l2 is set=8.792472077388188, reg_lambda=0.0 will be ignored. Current value: lambda_l2=8.792472077388188\n",
      "[LightGBM] [Info] Total Bins 85026\n",
      "[LightGBM] [Info] Number of data points in the train set: 43199, number of used features: 395\n",
      "[LightGBM] [Info] Start training from score 5.945550\n"
     ]
    },
    {
     "name": "stderr",
     "output_type": "stream",
     "text": [
      "/Users/alexis/Projects/202502 Actuarial Loss Prediction/.env/lib/python3.10/site-packages/sklearn/utils/validation.py:2739: UserWarning: X does not have valid feature names, but LGBMRegressor was fitted with feature names\n",
      "  warnings.warn(\n"
     ]
    },
    {
     "name": "stdout",
     "output_type": "stream",
     "text": [
      "[LightGBM] [Warning] lambda_l1 is set=0.19908147636274304, reg_alpha=0.0 will be ignored. Current value: lambda_l1=0.19908147636274304\n",
      "[LightGBM] [Warning] lambda_l2 is set=8.792472077388188, reg_lambda=0.0 will be ignored. Current value: lambda_l2=8.792472077388188\n",
      "[LightGBM] [Warning] lambda_l1 is set=0.19908147636274304, reg_alpha=0.0 will be ignored. Current value: lambda_l1=0.19908147636274304\n",
      "[LightGBM] [Warning] lambda_l2 is set=8.792472077388188, reg_lambda=0.0 will be ignored. Current value: lambda_l2=8.792472077388188\n",
      "[LightGBM] [Warning] lambda_l1 is set=0.19908147636274304, reg_alpha=0.0 will be ignored. Current value: lambda_l1=0.19908147636274304\n",
      "[LightGBM] [Warning] lambda_l2 is set=8.792472077388188, reg_lambda=0.0 will be ignored. Current value: lambda_l2=8.792472077388188\n",
      "[LightGBM] [Info] Total Bins 85029\n",
      "[LightGBM] [Info] Number of data points in the train set: 43199, number of used features: 395\n",
      "[LightGBM] [Info] Start training from score 5.959808\n"
     ]
    },
    {
     "name": "stderr",
     "output_type": "stream",
     "text": [
      "/Users/alexis/Projects/202502 Actuarial Loss Prediction/.env/lib/python3.10/site-packages/sklearn/utils/validation.py:2739: UserWarning: X does not have valid feature names, but LGBMRegressor was fitted with feature names\n",
      "  warnings.warn(\n"
     ]
    },
    {
     "name": "stdout",
     "output_type": "stream",
     "text": [
      "[LightGBM] [Warning] lambda_l1 is set=0.19908147636274304, reg_alpha=0.0 will be ignored. Current value: lambda_l1=0.19908147636274304\n",
      "[LightGBM] [Warning] lambda_l2 is set=8.792472077388188, reg_lambda=0.0 will be ignored. Current value: lambda_l2=8.792472077388188\n",
      "[LightGBM] [Warning] lambda_l1 is set=0.19908147636274304, reg_alpha=0.0 will be ignored. Current value: lambda_l1=0.19908147636274304\n",
      "[LightGBM] [Warning] lambda_l2 is set=8.792472077388188, reg_lambda=0.0 will be ignored. Current value: lambda_l2=8.792472077388188\n",
      "[LightGBM] [Warning] lambda_l1 is set=0.19908147636274304, reg_alpha=0.0 will be ignored. Current value: lambda_l1=0.19908147636274304\n",
      "[LightGBM] [Warning] lambda_l2 is set=8.792472077388188, reg_lambda=0.0 will be ignored. Current value: lambda_l2=8.792472077388188\n",
      "[LightGBM] [Info] Total Bins 85028\n",
      "[LightGBM] [Info] Number of data points in the train set: 43200, number of used features: 395\n",
      "[LightGBM] [Info] Start training from score 5.940370\n"
     ]
    },
    {
     "name": "stderr",
     "output_type": "stream",
     "text": [
      "/Users/alexis/Projects/202502 Actuarial Loss Prediction/.env/lib/python3.10/site-packages/sklearn/utils/validation.py:2739: UserWarning: X does not have valid feature names, but LGBMRegressor was fitted with feature names\n",
      "  warnings.warn(\n",
      "[I 2025-03-02 18:50:54,236] Trial 15 finished with value: 23935.597151500675 and parameters: {'max_depth': 10, 'learning_rate': 0.10231215317074795, 'n_estimators': 300, 'min_child_weight': 3, 'subsample': 0.6963974213575781, 'colsample_bytree': 0.6458479747756705, 'lambda_l1': 0.19908147636274304, 'lambda_l2': 8.792472077388188}. Best is trial 5 with value: 23862.926693452253.\n"
     ]
    },
    {
     "name": "stdout",
     "output_type": "stream",
     "text": [
      "[LightGBM] [Warning] lambda_l1 is set=0.19908147636274304, reg_alpha=0.0 will be ignored. Current value: lambda_l1=0.19908147636274304\n",
      "[LightGBM] [Warning] lambda_l2 is set=8.792472077388188, reg_lambda=0.0 will be ignored. Current value: lambda_l2=8.792472077388188\n",
      "RMSE Overall:  23935.597 | MAE: 5674.980\n",
      "RMSE for low y_true (<= 100k): 9610.849 | MAE: 3324.537\n",
      "RMSE for high y_true (> 100k): 163421.669 | MAE: 133500.507\n",
      "[LightGBM] [Warning] lambda_l1 is set=3.8711112157315886, reg_alpha=0.0 will be ignored. Current value: lambda_l1=3.8711112157315886\n",
      "[LightGBM] [Warning] lambda_l2 is set=4.010579398627382, reg_lambda=0.0 will be ignored. Current value: lambda_l2=4.010579398627382\n",
      "[LightGBM] [Warning] lambda_l1 is set=3.8711112157315886, reg_alpha=0.0 will be ignored. Current value: lambda_l1=3.8711112157315886\n",
      "[LightGBM] [Warning] lambda_l2 is set=4.010579398627382, reg_lambda=0.0 will be ignored. Current value: lambda_l2=4.010579398627382\n",
      "[LightGBM] [Info] Total Bins 85015\n",
      "[LightGBM] [Info] Number of data points in the train set: 43199, number of used features: 395\n",
      "[LightGBM] [Info] Start training from score 5.909642\n"
     ]
    },
    {
     "name": "stderr",
     "output_type": "stream",
     "text": [
      "/Users/alexis/Projects/202502 Actuarial Loss Prediction/.env/lib/python3.10/site-packages/sklearn/utils/validation.py:2739: UserWarning: X does not have valid feature names, but LGBMRegressor was fitted with feature names\n",
      "  warnings.warn(\n"
     ]
    },
    {
     "name": "stdout",
     "output_type": "stream",
     "text": [
      "[LightGBM] [Warning] lambda_l1 is set=3.8711112157315886, reg_alpha=0.0 will be ignored. Current value: lambda_l1=3.8711112157315886\n",
      "[LightGBM] [Warning] lambda_l2 is set=4.010579398627382, reg_lambda=0.0 will be ignored. Current value: lambda_l2=4.010579398627382\n",
      "[LightGBM] [Warning] lambda_l1 is set=3.8711112157315886, reg_alpha=0.0 will be ignored. Current value: lambda_l1=3.8711112157315886\n",
      "[LightGBM] [Warning] lambda_l2 is set=4.010579398627382, reg_lambda=0.0 will be ignored. Current value: lambda_l2=4.010579398627382\n",
      "[LightGBM] [Warning] lambda_l1 is set=3.8711112157315886, reg_alpha=0.0 will be ignored. Current value: lambda_l1=3.8711112157315886\n",
      "[LightGBM] [Warning] lambda_l2 is set=4.010579398627382, reg_lambda=0.0 will be ignored. Current value: lambda_l2=4.010579398627382\n",
      "[LightGBM] [Info] Total Bins 85024\n",
      "[LightGBM] [Info] Number of data points in the train set: 43199, number of used features: 395\n",
      "[LightGBM] [Info] Start training from score 5.914034\n"
     ]
    },
    {
     "name": "stderr",
     "output_type": "stream",
     "text": [
      "/Users/alexis/Projects/202502 Actuarial Loss Prediction/.env/lib/python3.10/site-packages/sklearn/utils/validation.py:2739: UserWarning: X does not have valid feature names, but LGBMRegressor was fitted with feature names\n",
      "  warnings.warn(\n"
     ]
    },
    {
     "name": "stdout",
     "output_type": "stream",
     "text": [
      "[LightGBM] [Warning] lambda_l1 is set=3.8711112157315886, reg_alpha=0.0 will be ignored. Current value: lambda_l1=3.8711112157315886\n",
      "[LightGBM] [Warning] lambda_l2 is set=4.010579398627382, reg_lambda=0.0 will be ignored. Current value: lambda_l2=4.010579398627382\n",
      "[LightGBM] [Warning] lambda_l1 is set=3.8711112157315886, reg_alpha=0.0 will be ignored. Current value: lambda_l1=3.8711112157315886\n",
      "[LightGBM] [Warning] lambda_l2 is set=4.010579398627382, reg_lambda=0.0 will be ignored. Current value: lambda_l2=4.010579398627382\n",
      "[LightGBM] [Warning] lambda_l1 is set=3.8711112157315886, reg_alpha=0.0 will be ignored. Current value: lambda_l1=3.8711112157315886\n",
      "[LightGBM] [Warning] lambda_l2 is set=4.010579398627382, reg_lambda=0.0 will be ignored. Current value: lambda_l2=4.010579398627382\n",
      "[LightGBM] [Info] Total Bins 85026\n",
      "[LightGBM] [Info] Number of data points in the train set: 43199, number of used features: 395\n",
      "[LightGBM] [Info] Start training from score 5.945550\n"
     ]
    },
    {
     "name": "stderr",
     "output_type": "stream",
     "text": [
      "/Users/alexis/Projects/202502 Actuarial Loss Prediction/.env/lib/python3.10/site-packages/sklearn/utils/validation.py:2739: UserWarning: X does not have valid feature names, but LGBMRegressor was fitted with feature names\n",
      "  warnings.warn(\n"
     ]
    },
    {
     "name": "stdout",
     "output_type": "stream",
     "text": [
      "[LightGBM] [Warning] lambda_l1 is set=3.8711112157315886, reg_alpha=0.0 will be ignored. Current value: lambda_l1=3.8711112157315886\n",
      "[LightGBM] [Warning] lambda_l2 is set=4.010579398627382, reg_lambda=0.0 will be ignored. Current value: lambda_l2=4.010579398627382\n",
      "[LightGBM] [Warning] lambda_l1 is set=3.8711112157315886, reg_alpha=0.0 will be ignored. Current value: lambda_l1=3.8711112157315886\n",
      "[LightGBM] [Warning] lambda_l2 is set=4.010579398627382, reg_lambda=0.0 will be ignored. Current value: lambda_l2=4.010579398627382\n",
      "[LightGBM] [Warning] lambda_l1 is set=3.8711112157315886, reg_alpha=0.0 will be ignored. Current value: lambda_l1=3.8711112157315886\n",
      "[LightGBM] [Warning] lambda_l2 is set=4.010579398627382, reg_lambda=0.0 will be ignored. Current value: lambda_l2=4.010579398627382\n",
      "[LightGBM] [Info] Total Bins 85029\n",
      "[LightGBM] [Info] Number of data points in the train set: 43199, number of used features: 395\n",
      "[LightGBM] [Info] Start training from score 5.959808\n"
     ]
    },
    {
     "name": "stderr",
     "output_type": "stream",
     "text": [
      "/Users/alexis/Projects/202502 Actuarial Loss Prediction/.env/lib/python3.10/site-packages/sklearn/utils/validation.py:2739: UserWarning: X does not have valid feature names, but LGBMRegressor was fitted with feature names\n",
      "  warnings.warn(\n"
     ]
    },
    {
     "name": "stdout",
     "output_type": "stream",
     "text": [
      "[LightGBM] [Warning] lambda_l1 is set=3.8711112157315886, reg_alpha=0.0 will be ignored. Current value: lambda_l1=3.8711112157315886\n",
      "[LightGBM] [Warning] lambda_l2 is set=4.010579398627382, reg_lambda=0.0 will be ignored. Current value: lambda_l2=4.010579398627382\n",
      "[LightGBM] [Warning] lambda_l1 is set=3.8711112157315886, reg_alpha=0.0 will be ignored. Current value: lambda_l1=3.8711112157315886\n",
      "[LightGBM] [Warning] lambda_l2 is set=4.010579398627382, reg_lambda=0.0 will be ignored. Current value: lambda_l2=4.010579398627382\n",
      "[LightGBM] [Warning] lambda_l1 is set=3.8711112157315886, reg_alpha=0.0 will be ignored. Current value: lambda_l1=3.8711112157315886\n",
      "[LightGBM] [Warning] lambda_l2 is set=4.010579398627382, reg_lambda=0.0 will be ignored. Current value: lambda_l2=4.010579398627382\n",
      "[LightGBM] [Info] Total Bins 85028\n",
      "[LightGBM] [Info] Number of data points in the train set: 43200, number of used features: 395\n",
      "[LightGBM] [Info] Start training from score 5.940370\n"
     ]
    },
    {
     "name": "stderr",
     "output_type": "stream",
     "text": [
      "/Users/alexis/Projects/202502 Actuarial Loss Prediction/.env/lib/python3.10/site-packages/sklearn/utils/validation.py:2739: UserWarning: X does not have valid feature names, but LGBMRegressor was fitted with feature names\n",
      "  warnings.warn(\n",
      "[I 2025-03-02 18:51:10,594] Trial 16 finished with value: 23868.97572225675 and parameters: {'max_depth': 7, 'learning_rate': 0.0914778136748221, 'n_estimators': 200, 'min_child_weight': 5, 'subsample': 0.7709756488155141, 'colsample_bytree': 0.6217059644236205, 'lambda_l1': 3.8711112157315886, 'lambda_l2': 4.010579398627382}. Best is trial 5 with value: 23862.926693452253.\n"
     ]
    },
    {
     "name": "stdout",
     "output_type": "stream",
     "text": [
      "[LightGBM] [Warning] lambda_l1 is set=3.8711112157315886, reg_alpha=0.0 will be ignored. Current value: lambda_l1=3.8711112157315886\n",
      "[LightGBM] [Warning] lambda_l2 is set=4.010579398627382, reg_lambda=0.0 will be ignored. Current value: lambda_l2=4.010579398627382\n",
      "RMSE Overall:  23868.976 | MAE: 5624.800\n",
      "RMSE for low y_true (<= 100k): 9411.194 | MAE: 3268.382\n",
      "RMSE for high y_true (> 100k): 163513.902 | MAE: 133775.269\n",
      "[LightGBM] [Warning] lambda_l1 is set=3.9510746527316174, reg_alpha=0.0 will be ignored. Current value: lambda_l1=3.9510746527316174\n",
      "[LightGBM] [Warning] lambda_l2 is set=3.4398405790287137, reg_lambda=0.0 will be ignored. Current value: lambda_l2=3.4398405790287137\n",
      "[LightGBM] [Warning] lambda_l1 is set=3.9510746527316174, reg_alpha=0.0 will be ignored. Current value: lambda_l1=3.9510746527316174\n",
      "[LightGBM] [Warning] lambda_l2 is set=3.4398405790287137, reg_lambda=0.0 will be ignored. Current value: lambda_l2=3.4398405790287137\n",
      "[LightGBM] [Info] Total Bins 85015\n",
      "[LightGBM] [Info] Number of data points in the train set: 43199, number of used features: 395\n",
      "[LightGBM] [Info] Start training from score 5.909642\n"
     ]
    },
    {
     "name": "stderr",
     "output_type": "stream",
     "text": [
      "/Users/alexis/Projects/202502 Actuarial Loss Prediction/.env/lib/python3.10/site-packages/sklearn/utils/validation.py:2739: UserWarning: X does not have valid feature names, but LGBMRegressor was fitted with feature names\n",
      "  warnings.warn(\n"
     ]
    },
    {
     "name": "stdout",
     "output_type": "stream",
     "text": [
      "[LightGBM] [Warning] lambda_l1 is set=3.9510746527316174, reg_alpha=0.0 will be ignored. Current value: lambda_l1=3.9510746527316174\n",
      "[LightGBM] [Warning] lambda_l2 is set=3.4398405790287137, reg_lambda=0.0 will be ignored. Current value: lambda_l2=3.4398405790287137\n",
      "[LightGBM] [Warning] lambda_l1 is set=3.9510746527316174, reg_alpha=0.0 will be ignored. Current value: lambda_l1=3.9510746527316174\n",
      "[LightGBM] [Warning] lambda_l2 is set=3.4398405790287137, reg_lambda=0.0 will be ignored. Current value: lambda_l2=3.4398405790287137\n",
      "[LightGBM] [Warning] lambda_l1 is set=3.9510746527316174, reg_alpha=0.0 will be ignored. Current value: lambda_l1=3.9510746527316174\n",
      "[LightGBM] [Warning] lambda_l2 is set=3.4398405790287137, reg_lambda=0.0 will be ignored. Current value: lambda_l2=3.4398405790287137\n",
      "[LightGBM] [Info] Total Bins 85024\n",
      "[LightGBM] [Info] Number of data points in the train set: 43199, number of used features: 395\n",
      "[LightGBM] [Info] Start training from score 5.914034\n"
     ]
    },
    {
     "name": "stderr",
     "output_type": "stream",
     "text": [
      "/Users/alexis/Projects/202502 Actuarial Loss Prediction/.env/lib/python3.10/site-packages/sklearn/utils/validation.py:2739: UserWarning: X does not have valid feature names, but LGBMRegressor was fitted with feature names\n",
      "  warnings.warn(\n"
     ]
    },
    {
     "name": "stdout",
     "output_type": "stream",
     "text": [
      "[LightGBM] [Warning] lambda_l1 is set=3.9510746527316174, reg_alpha=0.0 will be ignored. Current value: lambda_l1=3.9510746527316174\n",
      "[LightGBM] [Warning] lambda_l2 is set=3.4398405790287137, reg_lambda=0.0 will be ignored. Current value: lambda_l2=3.4398405790287137\n",
      "[LightGBM] [Warning] lambda_l1 is set=3.9510746527316174, reg_alpha=0.0 will be ignored. Current value: lambda_l1=3.9510746527316174\n",
      "[LightGBM] [Warning] lambda_l2 is set=3.4398405790287137, reg_lambda=0.0 will be ignored. Current value: lambda_l2=3.4398405790287137\n",
      "[LightGBM] [Warning] lambda_l1 is set=3.9510746527316174, reg_alpha=0.0 will be ignored. Current value: lambda_l1=3.9510746527316174\n",
      "[LightGBM] [Warning] lambda_l2 is set=3.4398405790287137, reg_lambda=0.0 will be ignored. Current value: lambda_l2=3.4398405790287137\n",
      "[LightGBM] [Info] Total Bins 85026\n",
      "[LightGBM] [Info] Number of data points in the train set: 43199, number of used features: 395\n",
      "[LightGBM] [Info] Start training from score 5.945550\n"
     ]
    },
    {
     "name": "stderr",
     "output_type": "stream",
     "text": [
      "/Users/alexis/Projects/202502 Actuarial Loss Prediction/.env/lib/python3.10/site-packages/sklearn/utils/validation.py:2739: UserWarning: X does not have valid feature names, but LGBMRegressor was fitted with feature names\n",
      "  warnings.warn(\n"
     ]
    },
    {
     "name": "stdout",
     "output_type": "stream",
     "text": [
      "[LightGBM] [Warning] lambda_l1 is set=3.9510746527316174, reg_alpha=0.0 will be ignored. Current value: lambda_l1=3.9510746527316174\n",
      "[LightGBM] [Warning] lambda_l2 is set=3.4398405790287137, reg_lambda=0.0 will be ignored. Current value: lambda_l2=3.4398405790287137\n",
      "[LightGBM] [Warning] lambda_l1 is set=3.9510746527316174, reg_alpha=0.0 will be ignored. Current value: lambda_l1=3.9510746527316174\n",
      "[LightGBM] [Warning] lambda_l2 is set=3.4398405790287137, reg_lambda=0.0 will be ignored. Current value: lambda_l2=3.4398405790287137\n",
      "[LightGBM] [Warning] lambda_l1 is set=3.9510746527316174, reg_alpha=0.0 will be ignored. Current value: lambda_l1=3.9510746527316174\n",
      "[LightGBM] [Warning] lambda_l2 is set=3.4398405790287137, reg_lambda=0.0 will be ignored. Current value: lambda_l2=3.4398405790287137\n",
      "[LightGBM] [Info] Total Bins 85029\n",
      "[LightGBM] [Info] Number of data points in the train set: 43199, number of used features: 395\n",
      "[LightGBM] [Info] Start training from score 5.959808\n"
     ]
    },
    {
     "name": "stderr",
     "output_type": "stream",
     "text": [
      "/Users/alexis/Projects/202502 Actuarial Loss Prediction/.env/lib/python3.10/site-packages/sklearn/utils/validation.py:2739: UserWarning: X does not have valid feature names, but LGBMRegressor was fitted with feature names\n",
      "  warnings.warn(\n"
     ]
    },
    {
     "name": "stdout",
     "output_type": "stream",
     "text": [
      "[LightGBM] [Warning] lambda_l1 is set=3.9510746527316174, reg_alpha=0.0 will be ignored. Current value: lambda_l1=3.9510746527316174\n",
      "[LightGBM] [Warning] lambda_l2 is set=3.4398405790287137, reg_lambda=0.0 will be ignored. Current value: lambda_l2=3.4398405790287137\n",
      "[LightGBM] [Warning] lambda_l1 is set=3.9510746527316174, reg_alpha=0.0 will be ignored. Current value: lambda_l1=3.9510746527316174\n",
      "[LightGBM] [Warning] lambda_l2 is set=3.4398405790287137, reg_lambda=0.0 will be ignored. Current value: lambda_l2=3.4398405790287137\n",
      "[LightGBM] [Warning] lambda_l1 is set=3.9510746527316174, reg_alpha=0.0 will be ignored. Current value: lambda_l1=3.9510746527316174\n",
      "[LightGBM] [Warning] lambda_l2 is set=3.4398405790287137, reg_lambda=0.0 will be ignored. Current value: lambda_l2=3.4398405790287137\n",
      "[LightGBM] [Info] Total Bins 85028\n",
      "[LightGBM] [Info] Number of data points in the train set: 43200, number of used features: 395\n",
      "[LightGBM] [Info] Start training from score 5.940370\n"
     ]
    },
    {
     "name": "stderr",
     "output_type": "stream",
     "text": [
      "/Users/alexis/Projects/202502 Actuarial Loss Prediction/.env/lib/python3.10/site-packages/sklearn/utils/validation.py:2739: UserWarning: X does not have valid feature names, but LGBMRegressor was fitted with feature names\n",
      "  warnings.warn(\n",
      "[I 2025-03-02 18:51:55,957] Trial 17 finished with value: 24008.333011210594 and parameters: {'max_depth': 7, 'learning_rate': 0.14569560958011368, 'n_estimators': 800, 'min_child_weight': 9, 'subsample': 0.8016687987586186, 'colsample_bytree': 0.6167539544797879, 'lambda_l1': 3.9510746527316174, 'lambda_l2': 3.4398405790287137}. Best is trial 5 with value: 23862.926693452253.\n"
     ]
    },
    {
     "name": "stdout",
     "output_type": "stream",
     "text": [
      "[LightGBM] [Warning] lambda_l1 is set=3.9510746527316174, reg_alpha=0.0 will be ignored. Current value: lambda_l1=3.9510746527316174\n",
      "[LightGBM] [Warning] lambda_l2 is set=3.4398405790287137, reg_lambda=0.0 will be ignored. Current value: lambda_l2=3.4398405790287137\n",
      "RMSE Overall:  24008.333 | MAE: 5813.207\n",
      "RMSE for low y_true (<= 100k): 9985.854 | MAE: 3477.234\n",
      "RMSE for high y_true (> 100k): 162788.577 | MAE: 132851.801\n",
      "[LightGBM] [Warning] lambda_l1 is set=3.9483293541487754, reg_alpha=0.0 will be ignored. Current value: lambda_l1=3.9483293541487754\n",
      "[LightGBM] [Warning] lambda_l2 is set=4.103545119932238, reg_lambda=0.0 will be ignored. Current value: lambda_l2=4.103545119932238\n",
      "[LightGBM] [Warning] lambda_l1 is set=3.9483293541487754, reg_alpha=0.0 will be ignored. Current value: lambda_l1=3.9483293541487754\n",
      "[LightGBM] [Warning] lambda_l2 is set=4.103545119932238, reg_lambda=0.0 will be ignored. Current value: lambda_l2=4.103545119932238\n",
      "[LightGBM] [Info] Total Bins 85015\n",
      "[LightGBM] [Info] Number of data points in the train set: 43199, number of used features: 395\n",
      "[LightGBM] [Info] Start training from score 5.909642\n",
      "[LightGBM] [Warning] No further splits with positive gain, best gain: -inf\n"
     ]
    },
    {
     "name": "stderr",
     "output_type": "stream",
     "text": [
      "/Users/alexis/Projects/202502 Actuarial Loss Prediction/.env/lib/python3.10/site-packages/sklearn/utils/validation.py:2739: UserWarning: X does not have valid feature names, but LGBMRegressor was fitted with feature names\n",
      "  warnings.warn(\n"
     ]
    },
    {
     "name": "stdout",
     "output_type": "stream",
     "text": [
      "[LightGBM] [Warning] lambda_l1 is set=3.9483293541487754, reg_alpha=0.0 will be ignored. Current value: lambda_l1=3.9483293541487754\n",
      "[LightGBM] [Warning] lambda_l2 is set=4.103545119932238, reg_lambda=0.0 will be ignored. Current value: lambda_l2=4.103545119932238\n",
      "[LightGBM] [Warning] lambda_l1 is set=3.9483293541487754, reg_alpha=0.0 will be ignored. Current value: lambda_l1=3.9483293541487754\n",
      "[LightGBM] [Warning] lambda_l2 is set=4.103545119932238, reg_lambda=0.0 will be ignored. Current value: lambda_l2=4.103545119932238\n",
      "[LightGBM] [Warning] lambda_l1 is set=3.9483293541487754, reg_alpha=0.0 will be ignored. Current value: lambda_l1=3.9483293541487754\n",
      "[LightGBM] [Warning] lambda_l2 is set=4.103545119932238, reg_lambda=0.0 will be ignored. Current value: lambda_l2=4.103545119932238\n",
      "[LightGBM] [Info] Total Bins 85024\n",
      "[LightGBM] [Info] Number of data points in the train set: 43199, number of used features: 395\n",
      "[LightGBM] [Info] Start training from score 5.914034\n"
     ]
    },
    {
     "name": "stderr",
     "output_type": "stream",
     "text": [
      "/Users/alexis/Projects/202502 Actuarial Loss Prediction/.env/lib/python3.10/site-packages/sklearn/utils/validation.py:2739: UserWarning: X does not have valid feature names, but LGBMRegressor was fitted with feature names\n",
      "  warnings.warn(\n"
     ]
    },
    {
     "name": "stdout",
     "output_type": "stream",
     "text": [
      "[LightGBM] [Warning] lambda_l1 is set=3.9483293541487754, reg_alpha=0.0 will be ignored. Current value: lambda_l1=3.9483293541487754\n",
      "[LightGBM] [Warning] lambda_l2 is set=4.103545119932238, reg_lambda=0.0 will be ignored. Current value: lambda_l2=4.103545119932238\n",
      "[LightGBM] [Warning] lambda_l1 is set=3.9483293541487754, reg_alpha=0.0 will be ignored. Current value: lambda_l1=3.9483293541487754\n",
      "[LightGBM] [Warning] lambda_l2 is set=4.103545119932238, reg_lambda=0.0 will be ignored. Current value: lambda_l2=4.103545119932238\n",
      "[LightGBM] [Warning] lambda_l1 is set=3.9483293541487754, reg_alpha=0.0 will be ignored. Current value: lambda_l1=3.9483293541487754\n",
      "[LightGBM] [Warning] lambda_l2 is set=4.103545119932238, reg_lambda=0.0 will be ignored. Current value: lambda_l2=4.103545119932238\n",
      "[LightGBM] [Info] Total Bins 85026\n",
      "[LightGBM] [Info] Number of data points in the train set: 43199, number of used features: 395\n",
      "[LightGBM] [Info] Start training from score 5.945550\n"
     ]
    },
    {
     "name": "stderr",
     "output_type": "stream",
     "text": [
      "/Users/alexis/Projects/202502 Actuarial Loss Prediction/.env/lib/python3.10/site-packages/sklearn/utils/validation.py:2739: UserWarning: X does not have valid feature names, but LGBMRegressor was fitted with feature names\n",
      "  warnings.warn(\n"
     ]
    },
    {
     "name": "stdout",
     "output_type": "stream",
     "text": [
      "[LightGBM] [Warning] lambda_l1 is set=3.9483293541487754, reg_alpha=0.0 will be ignored. Current value: lambda_l1=3.9483293541487754\n",
      "[LightGBM] [Warning] lambda_l2 is set=4.103545119932238, reg_lambda=0.0 will be ignored. Current value: lambda_l2=4.103545119932238\n",
      "[LightGBM] [Warning] lambda_l1 is set=3.9483293541487754, reg_alpha=0.0 will be ignored. Current value: lambda_l1=3.9483293541487754\n",
      "[LightGBM] [Warning] lambda_l2 is set=4.103545119932238, reg_lambda=0.0 will be ignored. Current value: lambda_l2=4.103545119932238\n",
      "[LightGBM] [Warning] lambda_l1 is set=3.9483293541487754, reg_alpha=0.0 will be ignored. Current value: lambda_l1=3.9483293541487754\n",
      "[LightGBM] [Warning] lambda_l2 is set=4.103545119932238, reg_lambda=0.0 will be ignored. Current value: lambda_l2=4.103545119932238\n",
      "[LightGBM] [Info] Total Bins 85029\n",
      "[LightGBM] [Info] Number of data points in the train set: 43199, number of used features: 395\n",
      "[LightGBM] [Info] Start training from score 5.959808\n"
     ]
    },
    {
     "name": "stderr",
     "output_type": "stream",
     "text": [
      "/Users/alexis/Projects/202502 Actuarial Loss Prediction/.env/lib/python3.10/site-packages/sklearn/utils/validation.py:2739: UserWarning: X does not have valid feature names, but LGBMRegressor was fitted with feature names\n",
      "  warnings.warn(\n"
     ]
    },
    {
     "name": "stdout",
     "output_type": "stream",
     "text": [
      "[LightGBM] [Warning] lambda_l1 is set=3.9483293541487754, reg_alpha=0.0 will be ignored. Current value: lambda_l1=3.9483293541487754\n",
      "[LightGBM] [Warning] lambda_l2 is set=4.103545119932238, reg_lambda=0.0 will be ignored. Current value: lambda_l2=4.103545119932238\n",
      "[LightGBM] [Warning] lambda_l1 is set=3.9483293541487754, reg_alpha=0.0 will be ignored. Current value: lambda_l1=3.9483293541487754\n",
      "[LightGBM] [Warning] lambda_l2 is set=4.103545119932238, reg_lambda=0.0 will be ignored. Current value: lambda_l2=4.103545119932238\n",
      "[LightGBM] [Warning] lambda_l1 is set=3.9483293541487754, reg_alpha=0.0 will be ignored. Current value: lambda_l1=3.9483293541487754\n",
      "[LightGBM] [Warning] lambda_l2 is set=4.103545119932238, reg_lambda=0.0 will be ignored. Current value: lambda_l2=4.103545119932238\n",
      "[LightGBM] [Info] Total Bins 85028\n",
      "[LightGBM] [Info] Number of data points in the train set: 43200, number of used features: 395\n",
      "[LightGBM] [Info] Start training from score 5.940370\n"
     ]
    },
    {
     "name": "stderr",
     "output_type": "stream",
     "text": [
      "/Users/alexis/Projects/202502 Actuarial Loss Prediction/.env/lib/python3.10/site-packages/sklearn/utils/validation.py:2739: UserWarning: X does not have valid feature names, but LGBMRegressor was fitted with feature names\n",
      "  warnings.warn(\n",
      "[I 2025-03-02 18:52:30,919] Trial 18 finished with value: 23915.436400909857 and parameters: {'max_depth': 7, 'learning_rate': 0.09003371713997294, 'n_estimators': 500, 'min_child_weight': 1, 'subsample': 0.6577457759036539, 'colsample_bytree': 0.9296456823854494, 'lambda_l1': 3.9483293541487754, 'lambda_l2': 4.103545119932238}. Best is trial 5 with value: 23862.926693452253.\n"
     ]
    },
    {
     "name": "stdout",
     "output_type": "stream",
     "text": [
      "[LightGBM] [Warning] lambda_l1 is set=3.9483293541487754, reg_alpha=0.0 will be ignored. Current value: lambda_l1=3.9483293541487754\n",
      "[LightGBM] [Warning] lambda_l2 is set=4.103545119932238, reg_lambda=0.0 will be ignored. Current value: lambda_l2=4.103545119932238\n",
      "RMSE Overall:  23915.436 | MAE: 5666.875\n",
      "RMSE for low y_true (<= 100k): 9526.597 | MAE: 3306.340\n",
      "RMSE for high y_true (> 100k): 163526.446 | MAE: 134041.230\n",
      "[LightGBM] [Warning] lambda_l1 is set=1.453736695323396, reg_alpha=0.0 will be ignored. Current value: lambda_l1=1.453736695323396\n",
      "[LightGBM] [Warning] lambda_l2 is set=0.799451382768245, reg_lambda=0.0 will be ignored. Current value: lambda_l2=0.799451382768245\n",
      "[LightGBM] [Warning] lambda_l1 is set=1.453736695323396, reg_alpha=0.0 will be ignored. Current value: lambda_l1=1.453736695323396\n",
      "[LightGBM] [Warning] lambda_l2 is set=0.799451382768245, reg_lambda=0.0 will be ignored. Current value: lambda_l2=0.799451382768245\n",
      "[LightGBM] [Info] Total Bins 85015\n",
      "[LightGBM] [Info] Number of data points in the train set: 43199, number of used features: 395\n",
      "[LightGBM] [Info] Start training from score 5.909642\n"
     ]
    },
    {
     "name": "stderr",
     "output_type": "stream",
     "text": [
      "/Users/alexis/Projects/202502 Actuarial Loss Prediction/.env/lib/python3.10/site-packages/sklearn/utils/validation.py:2739: UserWarning: X does not have valid feature names, but LGBMRegressor was fitted with feature names\n",
      "  warnings.warn(\n"
     ]
    },
    {
     "name": "stdout",
     "output_type": "stream",
     "text": [
      "[LightGBM] [Warning] lambda_l1 is set=1.453736695323396, reg_alpha=0.0 will be ignored. Current value: lambda_l1=1.453736695323396\n",
      "[LightGBM] [Warning] lambda_l2 is set=0.799451382768245, reg_lambda=0.0 will be ignored. Current value: lambda_l2=0.799451382768245\n",
      "[LightGBM] [Warning] lambda_l1 is set=1.453736695323396, reg_alpha=0.0 will be ignored. Current value: lambda_l1=1.453736695323396\n",
      "[LightGBM] [Warning] lambda_l2 is set=0.799451382768245, reg_lambda=0.0 will be ignored. Current value: lambda_l2=0.799451382768245\n",
      "[LightGBM] [Warning] lambda_l1 is set=1.453736695323396, reg_alpha=0.0 will be ignored. Current value: lambda_l1=1.453736695323396\n",
      "[LightGBM] [Warning] lambda_l2 is set=0.799451382768245, reg_lambda=0.0 will be ignored. Current value: lambda_l2=0.799451382768245\n",
      "[LightGBM] [Info] Total Bins 85024\n",
      "[LightGBM] [Info] Number of data points in the train set: 43199, number of used features: 395\n",
      "[LightGBM] [Info] Start training from score 5.914034\n"
     ]
    },
    {
     "name": "stderr",
     "output_type": "stream",
     "text": [
      "/Users/alexis/Projects/202502 Actuarial Loss Prediction/.env/lib/python3.10/site-packages/sklearn/utils/validation.py:2739: UserWarning: X does not have valid feature names, but LGBMRegressor was fitted with feature names\n",
      "  warnings.warn(\n"
     ]
    },
    {
     "name": "stdout",
     "output_type": "stream",
     "text": [
      "[LightGBM] [Warning] lambda_l1 is set=1.453736695323396, reg_alpha=0.0 will be ignored. Current value: lambda_l1=1.453736695323396\n",
      "[LightGBM] [Warning] lambda_l2 is set=0.799451382768245, reg_lambda=0.0 will be ignored. Current value: lambda_l2=0.799451382768245\n",
      "[LightGBM] [Warning] lambda_l1 is set=1.453736695323396, reg_alpha=0.0 will be ignored. Current value: lambda_l1=1.453736695323396\n",
      "[LightGBM] [Warning] lambda_l2 is set=0.799451382768245, reg_lambda=0.0 will be ignored. Current value: lambda_l2=0.799451382768245\n",
      "[LightGBM] [Warning] lambda_l1 is set=1.453736695323396, reg_alpha=0.0 will be ignored. Current value: lambda_l1=1.453736695323396\n",
      "[LightGBM] [Warning] lambda_l2 is set=0.799451382768245, reg_lambda=0.0 will be ignored. Current value: lambda_l2=0.799451382768245\n",
      "[LightGBM] [Info] Total Bins 85026\n",
      "[LightGBM] [Info] Number of data points in the train set: 43199, number of used features: 395\n",
      "[LightGBM] [Info] Start training from score 5.945550\n"
     ]
    },
    {
     "name": "stderr",
     "output_type": "stream",
     "text": [
      "/Users/alexis/Projects/202502 Actuarial Loss Prediction/.env/lib/python3.10/site-packages/sklearn/utils/validation.py:2739: UserWarning: X does not have valid feature names, but LGBMRegressor was fitted with feature names\n",
      "  warnings.warn(\n"
     ]
    },
    {
     "name": "stdout",
     "output_type": "stream",
     "text": [
      "[LightGBM] [Warning] lambda_l1 is set=1.453736695323396, reg_alpha=0.0 will be ignored. Current value: lambda_l1=1.453736695323396\n",
      "[LightGBM] [Warning] lambda_l2 is set=0.799451382768245, reg_lambda=0.0 will be ignored. Current value: lambda_l2=0.799451382768245\n",
      "[LightGBM] [Warning] lambda_l1 is set=1.453736695323396, reg_alpha=0.0 will be ignored. Current value: lambda_l1=1.453736695323396\n",
      "[LightGBM] [Warning] lambda_l2 is set=0.799451382768245, reg_lambda=0.0 will be ignored. Current value: lambda_l2=0.799451382768245\n",
      "[LightGBM] [Warning] lambda_l1 is set=1.453736695323396, reg_alpha=0.0 will be ignored. Current value: lambda_l1=1.453736695323396\n",
      "[LightGBM] [Warning] lambda_l2 is set=0.799451382768245, reg_lambda=0.0 will be ignored. Current value: lambda_l2=0.799451382768245\n",
      "[LightGBM] [Info] Total Bins 85029\n",
      "[LightGBM] [Info] Number of data points in the train set: 43199, number of used features: 395\n",
      "[LightGBM] [Info] Start training from score 5.959808\n"
     ]
    },
    {
     "name": "stderr",
     "output_type": "stream",
     "text": [
      "/Users/alexis/Projects/202502 Actuarial Loss Prediction/.env/lib/python3.10/site-packages/sklearn/utils/validation.py:2739: UserWarning: X does not have valid feature names, but LGBMRegressor was fitted with feature names\n",
      "  warnings.warn(\n"
     ]
    },
    {
     "name": "stdout",
     "output_type": "stream",
     "text": [
      "[LightGBM] [Warning] lambda_l1 is set=1.453736695323396, reg_alpha=0.0 will be ignored. Current value: lambda_l1=1.453736695323396\n",
      "[LightGBM] [Warning] lambda_l2 is set=0.799451382768245, reg_lambda=0.0 will be ignored. Current value: lambda_l2=0.799451382768245\n",
      "[LightGBM] [Warning] lambda_l1 is set=1.453736695323396, reg_alpha=0.0 will be ignored. Current value: lambda_l1=1.453736695323396\n",
      "[LightGBM] [Warning] lambda_l2 is set=0.799451382768245, reg_lambda=0.0 will be ignored. Current value: lambda_l2=0.799451382768245\n",
      "[LightGBM] [Warning] lambda_l1 is set=1.453736695323396, reg_alpha=0.0 will be ignored. Current value: lambda_l1=1.453736695323396\n",
      "[LightGBM] [Warning] lambda_l2 is set=0.799451382768245, reg_lambda=0.0 will be ignored. Current value: lambda_l2=0.799451382768245\n",
      "[LightGBM] [Info] Total Bins 85028\n",
      "[LightGBM] [Info] Number of data points in the train set: 43200, number of used features: 395\n",
      "[LightGBM] [Info] Start training from score 5.940370\n"
     ]
    },
    {
     "name": "stderr",
     "output_type": "stream",
     "text": [
      "/Users/alexis/Projects/202502 Actuarial Loss Prediction/.env/lib/python3.10/site-packages/sklearn/utils/validation.py:2739: UserWarning: X does not have valid feature names, but LGBMRegressor was fitted with feature names\n",
      "  warnings.warn(\n",
      "[I 2025-03-02 18:52:59,270] Trial 19 finished with value: 24038.174407562787 and parameters: {'max_depth': 9, 'learning_rate': 0.1451524574090323, 'n_estimators': 400, 'min_child_weight': 5, 'subsample': 0.7714255210860502, 'colsample_bytree': 0.7913573575163179, 'lambda_l1': 1.453736695323396, 'lambda_l2': 0.799451382768245}. Best is trial 5 with value: 23862.926693452253.\n"
     ]
    },
    {
     "name": "stdout",
     "output_type": "stream",
     "text": [
      "[LightGBM] [Warning] lambda_l1 is set=1.453736695323396, reg_alpha=0.0 will be ignored. Current value: lambda_l1=1.453736695323396\n",
      "[LightGBM] [Warning] lambda_l2 is set=0.799451382768245, reg_lambda=0.0 will be ignored. Current value: lambda_l2=0.799451382768245\n",
      "RMSE Overall:  24038.174 | MAE: 5762.272\n",
      "RMSE for low y_true (<= 100k): 9846.699 | MAE: 3425.295\n",
      "RMSE for high y_true (> 100k): 163491.945 | MAE: 132855.437\n",
      "[LightGBM] [Warning] lambda_l1 is set=6.401525933666015, reg_alpha=0.0 will be ignored. Current value: lambda_l1=6.401525933666015\n",
      "[LightGBM] [Warning] lambda_l2 is set=5.681421544467383, reg_lambda=0.0 will be ignored. Current value: lambda_l2=5.681421544467383\n",
      "[LightGBM] [Warning] lambda_l1 is set=6.401525933666015, reg_alpha=0.0 will be ignored. Current value: lambda_l1=6.401525933666015\n",
      "[LightGBM] [Warning] lambda_l2 is set=5.681421544467383, reg_lambda=0.0 will be ignored. Current value: lambda_l2=5.681421544467383\n",
      "[LightGBM] [Info] Total Bins 85015\n",
      "[LightGBM] [Info] Number of data points in the train set: 43199, number of used features: 395\n",
      "[LightGBM] [Info] Start training from score 5.909642\n"
     ]
    },
    {
     "name": "stderr",
     "output_type": "stream",
     "text": [
      "/Users/alexis/Projects/202502 Actuarial Loss Prediction/.env/lib/python3.10/site-packages/sklearn/utils/validation.py:2739: UserWarning: X does not have valid feature names, but LGBMRegressor was fitted with feature names\n",
      "  warnings.warn(\n"
     ]
    },
    {
     "name": "stdout",
     "output_type": "stream",
     "text": [
      "[LightGBM] [Warning] lambda_l1 is set=6.401525933666015, reg_alpha=0.0 will be ignored. Current value: lambda_l1=6.401525933666015\n",
      "[LightGBM] [Warning] lambda_l2 is set=5.681421544467383, reg_lambda=0.0 will be ignored. Current value: lambda_l2=5.681421544467383\n",
      "[LightGBM] [Warning] lambda_l1 is set=6.401525933666015, reg_alpha=0.0 will be ignored. Current value: lambda_l1=6.401525933666015\n",
      "[LightGBM] [Warning] lambda_l2 is set=5.681421544467383, reg_lambda=0.0 will be ignored. Current value: lambda_l2=5.681421544467383\n",
      "[LightGBM] [Warning] lambda_l1 is set=6.401525933666015, reg_alpha=0.0 will be ignored. Current value: lambda_l1=6.401525933666015\n",
      "[LightGBM] [Warning] lambda_l2 is set=5.681421544467383, reg_lambda=0.0 will be ignored. Current value: lambda_l2=5.681421544467383\n",
      "[LightGBM] [Info] Total Bins 85024\n",
      "[LightGBM] [Info] Number of data points in the train set: 43199, number of used features: 395\n",
      "[LightGBM] [Info] Start training from score 5.914034\n"
     ]
    },
    {
     "name": "stderr",
     "output_type": "stream",
     "text": [
      "/Users/alexis/Projects/202502 Actuarial Loss Prediction/.env/lib/python3.10/site-packages/sklearn/utils/validation.py:2739: UserWarning: X does not have valid feature names, but LGBMRegressor was fitted with feature names\n",
      "  warnings.warn(\n"
     ]
    },
    {
     "name": "stdout",
     "output_type": "stream",
     "text": [
      "[LightGBM] [Warning] lambda_l1 is set=6.401525933666015, reg_alpha=0.0 will be ignored. Current value: lambda_l1=6.401525933666015\n",
      "[LightGBM] [Warning] lambda_l2 is set=5.681421544467383, reg_lambda=0.0 will be ignored. Current value: lambda_l2=5.681421544467383\n",
      "[LightGBM] [Warning] lambda_l1 is set=6.401525933666015, reg_alpha=0.0 will be ignored. Current value: lambda_l1=6.401525933666015\n",
      "[LightGBM] [Warning] lambda_l2 is set=5.681421544467383, reg_lambda=0.0 will be ignored. Current value: lambda_l2=5.681421544467383\n",
      "[LightGBM] [Warning] lambda_l1 is set=6.401525933666015, reg_alpha=0.0 will be ignored. Current value: lambda_l1=6.401525933666015\n",
      "[LightGBM] [Warning] lambda_l2 is set=5.681421544467383, reg_lambda=0.0 will be ignored. Current value: lambda_l2=5.681421544467383\n",
      "[LightGBM] [Info] Total Bins 85026\n",
      "[LightGBM] [Info] Number of data points in the train set: 43199, number of used features: 395\n",
      "[LightGBM] [Info] Start training from score 5.945550\n"
     ]
    },
    {
     "name": "stderr",
     "output_type": "stream",
     "text": [
      "/Users/alexis/Projects/202502 Actuarial Loss Prediction/.env/lib/python3.10/site-packages/sklearn/utils/validation.py:2739: UserWarning: X does not have valid feature names, but LGBMRegressor was fitted with feature names\n",
      "  warnings.warn(\n"
     ]
    },
    {
     "name": "stdout",
     "output_type": "stream",
     "text": [
      "[LightGBM] [Warning] lambda_l1 is set=6.401525933666015, reg_alpha=0.0 will be ignored. Current value: lambda_l1=6.401525933666015\n",
      "[LightGBM] [Warning] lambda_l2 is set=5.681421544467383, reg_lambda=0.0 will be ignored. Current value: lambda_l2=5.681421544467383\n",
      "[LightGBM] [Warning] lambda_l1 is set=6.401525933666015, reg_alpha=0.0 will be ignored. Current value: lambda_l1=6.401525933666015\n",
      "[LightGBM] [Warning] lambda_l2 is set=5.681421544467383, reg_lambda=0.0 will be ignored. Current value: lambda_l2=5.681421544467383\n",
      "[LightGBM] [Warning] lambda_l1 is set=6.401525933666015, reg_alpha=0.0 will be ignored. Current value: lambda_l1=6.401525933666015\n",
      "[LightGBM] [Warning] lambda_l2 is set=5.681421544467383, reg_lambda=0.0 will be ignored. Current value: lambda_l2=5.681421544467383\n",
      "[LightGBM] [Info] Total Bins 85029\n",
      "[LightGBM] [Info] Number of data points in the train set: 43199, number of used features: 395\n",
      "[LightGBM] [Info] Start training from score 5.959808\n"
     ]
    },
    {
     "name": "stderr",
     "output_type": "stream",
     "text": [
      "/Users/alexis/Projects/202502 Actuarial Loss Prediction/.env/lib/python3.10/site-packages/sklearn/utils/validation.py:2739: UserWarning: X does not have valid feature names, but LGBMRegressor was fitted with feature names\n",
      "  warnings.warn(\n"
     ]
    },
    {
     "name": "stdout",
     "output_type": "stream",
     "text": [
      "[LightGBM] [Warning] lambda_l1 is set=6.401525933666015, reg_alpha=0.0 will be ignored. Current value: lambda_l1=6.401525933666015\n",
      "[LightGBM] [Warning] lambda_l2 is set=5.681421544467383, reg_lambda=0.0 will be ignored. Current value: lambda_l2=5.681421544467383\n",
      "[LightGBM] [Warning] lambda_l1 is set=6.401525933666015, reg_alpha=0.0 will be ignored. Current value: lambda_l1=6.401525933666015\n",
      "[LightGBM] [Warning] lambda_l2 is set=5.681421544467383, reg_lambda=0.0 will be ignored. Current value: lambda_l2=5.681421544467383\n",
      "[LightGBM] [Warning] lambda_l1 is set=6.401525933666015, reg_alpha=0.0 will be ignored. Current value: lambda_l1=6.401525933666015\n",
      "[LightGBM] [Warning] lambda_l2 is set=5.681421544467383, reg_lambda=0.0 will be ignored. Current value: lambda_l2=5.681421544467383\n",
      "[LightGBM] [Info] Total Bins 85028\n",
      "[LightGBM] [Info] Number of data points in the train set: 43200, number of used features: 395\n",
      "[LightGBM] [Info] Start training from score 5.940370\n"
     ]
    },
    {
     "name": "stderr",
     "output_type": "stream",
     "text": [
      "/Users/alexis/Projects/202502 Actuarial Loss Prediction/.env/lib/python3.10/site-packages/sklearn/utils/validation.py:2739: UserWarning: X does not have valid feature names, but LGBMRegressor was fitted with feature names\n",
      "  warnings.warn(\n",
      "[I 2025-03-02 18:53:15,729] Trial 20 finished with value: 23970.350065197934 and parameters: {'max_depth': 11, 'learning_rate': 0.10932467237664849, 'n_estimators': 200, 'min_child_weight': 8, 'subsample': 0.8447977348467888, 'colsample_bytree': 0.5058670045138022, 'lambda_l1': 6.401525933666015, 'lambda_l2': 5.681421544467383}. Best is trial 5 with value: 23862.926693452253.\n"
     ]
    },
    {
     "name": "stdout",
     "output_type": "stream",
     "text": [
      "[LightGBM] [Warning] lambda_l1 is set=6.401525933666015, reg_alpha=0.0 will be ignored. Current value: lambda_l1=6.401525933666015\n",
      "[LightGBM] [Warning] lambda_l2 is set=5.681421544467383, reg_lambda=0.0 will be ignored. Current value: lambda_l2=5.681421544467383\n",
      "RMSE Overall:  23970.350 | MAE: 5666.565\n",
      "RMSE for low y_true (<= 100k): 9500.342 | MAE: 3303.750\n",
      "RMSE for high y_true (> 100k): 164053.963 | MAE: 134164.948\n",
      "[LightGBM] [Warning] lambda_l1 is set=1.5854842816691632, reg_alpha=0.0 will be ignored. Current value: lambda_l1=1.5854842816691632\n",
      "[LightGBM] [Warning] lambda_l2 is set=8.833659109656566, reg_lambda=0.0 will be ignored. Current value: lambda_l2=8.833659109656566\n",
      "[LightGBM] [Warning] lambda_l1 is set=1.5854842816691632, reg_alpha=0.0 will be ignored. Current value: lambda_l1=1.5854842816691632\n",
      "[LightGBM] [Warning] lambda_l2 is set=8.833659109656566, reg_lambda=0.0 will be ignored. Current value: lambda_l2=8.833659109656566\n",
      "[LightGBM] [Info] Total Bins 85015\n",
      "[LightGBM] [Info] Number of data points in the train set: 43199, number of used features: 395\n",
      "[LightGBM] [Info] Start training from score 5.909642\n"
     ]
    },
    {
     "name": "stderr",
     "output_type": "stream",
     "text": [
      "/Users/alexis/Projects/202502 Actuarial Loss Prediction/.env/lib/python3.10/site-packages/sklearn/utils/validation.py:2739: UserWarning: X does not have valid feature names, but LGBMRegressor was fitted with feature names\n",
      "  warnings.warn(\n"
     ]
    },
    {
     "name": "stdout",
     "output_type": "stream",
     "text": [
      "[LightGBM] [Warning] lambda_l1 is set=1.5854842816691632, reg_alpha=0.0 will be ignored. Current value: lambda_l1=1.5854842816691632\n",
      "[LightGBM] [Warning] lambda_l2 is set=8.833659109656566, reg_lambda=0.0 will be ignored. Current value: lambda_l2=8.833659109656566\n",
      "[LightGBM] [Warning] lambda_l1 is set=1.5854842816691632, reg_alpha=0.0 will be ignored. Current value: lambda_l1=1.5854842816691632\n",
      "[LightGBM] [Warning] lambda_l2 is set=8.833659109656566, reg_lambda=0.0 will be ignored. Current value: lambda_l2=8.833659109656566\n",
      "[LightGBM] [Warning] lambda_l1 is set=1.5854842816691632, reg_alpha=0.0 will be ignored. Current value: lambda_l1=1.5854842816691632\n",
      "[LightGBM] [Warning] lambda_l2 is set=8.833659109656566, reg_lambda=0.0 will be ignored. Current value: lambda_l2=8.833659109656566\n",
      "[LightGBM] [Info] Total Bins 85024\n",
      "[LightGBM] [Info] Number of data points in the train set: 43199, number of used features: 395\n",
      "[LightGBM] [Info] Start training from score 5.914034\n"
     ]
    },
    {
     "name": "stderr",
     "output_type": "stream",
     "text": [
      "/Users/alexis/Projects/202502 Actuarial Loss Prediction/.env/lib/python3.10/site-packages/sklearn/utils/validation.py:2739: UserWarning: X does not have valid feature names, but LGBMRegressor was fitted with feature names\n",
      "  warnings.warn(\n"
     ]
    },
    {
     "name": "stdout",
     "output_type": "stream",
     "text": [
      "[LightGBM] [Warning] lambda_l1 is set=1.5854842816691632, reg_alpha=0.0 will be ignored. Current value: lambda_l1=1.5854842816691632\n",
      "[LightGBM] [Warning] lambda_l2 is set=8.833659109656566, reg_lambda=0.0 will be ignored. Current value: lambda_l2=8.833659109656566\n",
      "[LightGBM] [Warning] lambda_l1 is set=1.5854842816691632, reg_alpha=0.0 will be ignored. Current value: lambda_l1=1.5854842816691632\n",
      "[LightGBM] [Warning] lambda_l2 is set=8.833659109656566, reg_lambda=0.0 will be ignored. Current value: lambda_l2=8.833659109656566\n",
      "[LightGBM] [Warning] lambda_l1 is set=1.5854842816691632, reg_alpha=0.0 will be ignored. Current value: lambda_l1=1.5854842816691632\n",
      "[LightGBM] [Warning] lambda_l2 is set=8.833659109656566, reg_lambda=0.0 will be ignored. Current value: lambda_l2=8.833659109656566\n",
      "[LightGBM] [Info] Total Bins 85026\n",
      "[LightGBM] [Info] Number of data points in the train set: 43199, number of used features: 395\n",
      "[LightGBM] [Info] Start training from score 5.945550\n"
     ]
    },
    {
     "name": "stderr",
     "output_type": "stream",
     "text": [
      "/Users/alexis/Projects/202502 Actuarial Loss Prediction/.env/lib/python3.10/site-packages/sklearn/utils/validation.py:2739: UserWarning: X does not have valid feature names, but LGBMRegressor was fitted with feature names\n",
      "  warnings.warn(\n"
     ]
    },
    {
     "name": "stdout",
     "output_type": "stream",
     "text": [
      "[LightGBM] [Warning] lambda_l1 is set=1.5854842816691632, reg_alpha=0.0 will be ignored. Current value: lambda_l1=1.5854842816691632\n",
      "[LightGBM] [Warning] lambda_l2 is set=8.833659109656566, reg_lambda=0.0 will be ignored. Current value: lambda_l2=8.833659109656566\n",
      "[LightGBM] [Warning] lambda_l1 is set=1.5854842816691632, reg_alpha=0.0 will be ignored. Current value: lambda_l1=1.5854842816691632\n",
      "[LightGBM] [Warning] lambda_l2 is set=8.833659109656566, reg_lambda=0.0 will be ignored. Current value: lambda_l2=8.833659109656566\n",
      "[LightGBM] [Warning] lambda_l1 is set=1.5854842816691632, reg_alpha=0.0 will be ignored. Current value: lambda_l1=1.5854842816691632\n",
      "[LightGBM] [Warning] lambda_l2 is set=8.833659109656566, reg_lambda=0.0 will be ignored. Current value: lambda_l2=8.833659109656566\n",
      "[LightGBM] [Info] Total Bins 85029\n",
      "[LightGBM] [Info] Number of data points in the train set: 43199, number of used features: 395\n",
      "[LightGBM] [Info] Start training from score 5.959808\n"
     ]
    },
    {
     "name": "stderr",
     "output_type": "stream",
     "text": [
      "/Users/alexis/Projects/202502 Actuarial Loss Prediction/.env/lib/python3.10/site-packages/sklearn/utils/validation.py:2739: UserWarning: X does not have valid feature names, but LGBMRegressor was fitted with feature names\n",
      "  warnings.warn(\n"
     ]
    },
    {
     "name": "stdout",
     "output_type": "stream",
     "text": [
      "[LightGBM] [Warning] lambda_l1 is set=1.5854842816691632, reg_alpha=0.0 will be ignored. Current value: lambda_l1=1.5854842816691632\n",
      "[LightGBM] [Warning] lambda_l2 is set=8.833659109656566, reg_lambda=0.0 will be ignored. Current value: lambda_l2=8.833659109656566\n",
      "[LightGBM] [Warning] lambda_l1 is set=1.5854842816691632, reg_alpha=0.0 will be ignored. Current value: lambda_l1=1.5854842816691632\n",
      "[LightGBM] [Warning] lambda_l2 is set=8.833659109656566, reg_lambda=0.0 will be ignored. Current value: lambda_l2=8.833659109656566\n",
      "[LightGBM] [Warning] lambda_l1 is set=1.5854842816691632, reg_alpha=0.0 will be ignored. Current value: lambda_l1=1.5854842816691632\n",
      "[LightGBM] [Warning] lambda_l2 is set=8.833659109656566, reg_lambda=0.0 will be ignored. Current value: lambda_l2=8.833659109656566\n",
      "[LightGBM] [Info] Total Bins 85028\n",
      "[LightGBM] [Info] Number of data points in the train set: 43200, number of used features: 395\n",
      "[LightGBM] [Info] Start training from score 5.940370\n"
     ]
    },
    {
     "name": "stderr",
     "output_type": "stream",
     "text": [
      "/Users/alexis/Projects/202502 Actuarial Loss Prediction/.env/lib/python3.10/site-packages/sklearn/utils/validation.py:2739: UserWarning: X does not have valid feature names, but LGBMRegressor was fitted with feature names\n",
      "  warnings.warn(\n",
      "[I 2025-03-02 18:53:33,361] Trial 21 finished with value: 23853.022562628455 and parameters: {'max_depth': 10, 'learning_rate': 0.09134879752884997, 'n_estimators': 200, 'min_child_weight': 4, 'subsample': 0.7406110320807305, 'colsample_bytree': 0.6527923965773857, 'lambda_l1': 1.5854842816691632, 'lambda_l2': 8.833659109656566}. Best is trial 21 with value: 23853.022562628455.\n"
     ]
    },
    {
     "name": "stdout",
     "output_type": "stream",
     "text": [
      "[LightGBM] [Warning] lambda_l1 is set=1.5854842816691632, reg_alpha=0.0 will be ignored. Current value: lambda_l1=1.5854842816691632\n",
      "[LightGBM] [Warning] lambda_l2 is set=8.833659109656566, reg_lambda=0.0 will be ignored. Current value: lambda_l2=8.833659109656566\n",
      "RMSE Overall:  23853.023 | MAE: 5615.321\n",
      "RMSE for low y_true (<= 100k): 9403.465 | MAE: 3262.643\n",
      "RMSE for high y_true (> 100k): 163409.119 | MAE: 133562.416\n",
      "[LightGBM] [Warning] lambda_l1 is set=1.4954135113628837, reg_alpha=0.0 will be ignored. Current value: lambda_l1=1.4954135113628837\n",
      "[LightGBM] [Warning] lambda_l2 is set=9.217553539589007, reg_lambda=0.0 will be ignored. Current value: lambda_l2=9.217553539589007\n",
      "[LightGBM] [Warning] lambda_l1 is set=1.4954135113628837, reg_alpha=0.0 will be ignored. Current value: lambda_l1=1.4954135113628837\n",
      "[LightGBM] [Warning] lambda_l2 is set=9.217553539589007, reg_lambda=0.0 will be ignored. Current value: lambda_l2=9.217553539589007\n",
      "[LightGBM] [Info] Total Bins 85015\n",
      "[LightGBM] [Info] Number of data points in the train set: 43199, number of used features: 395\n",
      "[LightGBM] [Info] Start training from score 5.909642\n"
     ]
    },
    {
     "name": "stderr",
     "output_type": "stream",
     "text": [
      "/Users/alexis/Projects/202502 Actuarial Loss Prediction/.env/lib/python3.10/site-packages/sklearn/utils/validation.py:2739: UserWarning: X does not have valid feature names, but LGBMRegressor was fitted with feature names\n",
      "  warnings.warn(\n"
     ]
    },
    {
     "name": "stdout",
     "output_type": "stream",
     "text": [
      "[LightGBM] [Warning] lambda_l1 is set=1.4954135113628837, reg_alpha=0.0 will be ignored. Current value: lambda_l1=1.4954135113628837\n",
      "[LightGBM] [Warning] lambda_l2 is set=9.217553539589007, reg_lambda=0.0 will be ignored. Current value: lambda_l2=9.217553539589007\n",
      "[LightGBM] [Warning] lambda_l1 is set=1.4954135113628837, reg_alpha=0.0 will be ignored. Current value: lambda_l1=1.4954135113628837\n",
      "[LightGBM] [Warning] lambda_l2 is set=9.217553539589007, reg_lambda=0.0 will be ignored. Current value: lambda_l2=9.217553539589007\n",
      "[LightGBM] [Warning] lambda_l1 is set=1.4954135113628837, reg_alpha=0.0 will be ignored. Current value: lambda_l1=1.4954135113628837\n",
      "[LightGBM] [Warning] lambda_l2 is set=9.217553539589007, reg_lambda=0.0 will be ignored. Current value: lambda_l2=9.217553539589007\n",
      "[LightGBM] [Info] Total Bins 85024\n",
      "[LightGBM] [Info] Number of data points in the train set: 43199, number of used features: 395\n",
      "[LightGBM] [Info] Start training from score 5.914034\n"
     ]
    },
    {
     "name": "stderr",
     "output_type": "stream",
     "text": [
      "/Users/alexis/Projects/202502 Actuarial Loss Prediction/.env/lib/python3.10/site-packages/sklearn/utils/validation.py:2739: UserWarning: X does not have valid feature names, but LGBMRegressor was fitted with feature names\n",
      "  warnings.warn(\n"
     ]
    },
    {
     "name": "stdout",
     "output_type": "stream",
     "text": [
      "[LightGBM] [Warning] lambda_l1 is set=1.4954135113628837, reg_alpha=0.0 will be ignored. Current value: lambda_l1=1.4954135113628837\n",
      "[LightGBM] [Warning] lambda_l2 is set=9.217553539589007, reg_lambda=0.0 will be ignored. Current value: lambda_l2=9.217553539589007\n",
      "[LightGBM] [Warning] lambda_l1 is set=1.4954135113628837, reg_alpha=0.0 will be ignored. Current value: lambda_l1=1.4954135113628837\n",
      "[LightGBM] [Warning] lambda_l2 is set=9.217553539589007, reg_lambda=0.0 will be ignored. Current value: lambda_l2=9.217553539589007\n",
      "[LightGBM] [Warning] lambda_l1 is set=1.4954135113628837, reg_alpha=0.0 will be ignored. Current value: lambda_l1=1.4954135113628837\n",
      "[LightGBM] [Warning] lambda_l2 is set=9.217553539589007, reg_lambda=0.0 will be ignored. Current value: lambda_l2=9.217553539589007\n",
      "[LightGBM] [Info] Total Bins 85026\n",
      "[LightGBM] [Info] Number of data points in the train set: 43199, number of used features: 395\n",
      "[LightGBM] [Info] Start training from score 5.945550\n"
     ]
    },
    {
     "name": "stderr",
     "output_type": "stream",
     "text": [
      "/Users/alexis/Projects/202502 Actuarial Loss Prediction/.env/lib/python3.10/site-packages/sklearn/utils/validation.py:2739: UserWarning: X does not have valid feature names, but LGBMRegressor was fitted with feature names\n",
      "  warnings.warn(\n"
     ]
    },
    {
     "name": "stdout",
     "output_type": "stream",
     "text": [
      "[LightGBM] [Warning] lambda_l1 is set=1.4954135113628837, reg_alpha=0.0 will be ignored. Current value: lambda_l1=1.4954135113628837\n",
      "[LightGBM] [Warning] lambda_l2 is set=9.217553539589007, reg_lambda=0.0 will be ignored. Current value: lambda_l2=9.217553539589007\n",
      "[LightGBM] [Warning] lambda_l1 is set=1.4954135113628837, reg_alpha=0.0 will be ignored. Current value: lambda_l1=1.4954135113628837\n",
      "[LightGBM] [Warning] lambda_l2 is set=9.217553539589007, reg_lambda=0.0 will be ignored. Current value: lambda_l2=9.217553539589007\n",
      "[LightGBM] [Warning] lambda_l1 is set=1.4954135113628837, reg_alpha=0.0 will be ignored. Current value: lambda_l1=1.4954135113628837\n",
      "[LightGBM] [Warning] lambda_l2 is set=9.217553539589007, reg_lambda=0.0 will be ignored. Current value: lambda_l2=9.217553539589007\n",
      "[LightGBM] [Info] Total Bins 85029\n",
      "[LightGBM] [Info] Number of data points in the train set: 43199, number of used features: 395\n",
      "[LightGBM] [Info] Start training from score 5.959808\n"
     ]
    },
    {
     "name": "stderr",
     "output_type": "stream",
     "text": [
      "/Users/alexis/Projects/202502 Actuarial Loss Prediction/.env/lib/python3.10/site-packages/sklearn/utils/validation.py:2739: UserWarning: X does not have valid feature names, but LGBMRegressor was fitted with feature names\n",
      "  warnings.warn(\n"
     ]
    },
    {
     "name": "stdout",
     "output_type": "stream",
     "text": [
      "[LightGBM] [Warning] lambda_l1 is set=1.4954135113628837, reg_alpha=0.0 will be ignored. Current value: lambda_l1=1.4954135113628837\n",
      "[LightGBM] [Warning] lambda_l2 is set=9.217553539589007, reg_lambda=0.0 will be ignored. Current value: lambda_l2=9.217553539589007\n",
      "[LightGBM] [Warning] lambda_l1 is set=1.4954135113628837, reg_alpha=0.0 will be ignored. Current value: lambda_l1=1.4954135113628837\n",
      "[LightGBM] [Warning] lambda_l2 is set=9.217553539589007, reg_lambda=0.0 will be ignored. Current value: lambda_l2=9.217553539589007\n",
      "[LightGBM] [Warning] lambda_l1 is set=1.4954135113628837, reg_alpha=0.0 will be ignored. Current value: lambda_l1=1.4954135113628837\n",
      "[LightGBM] [Warning] lambda_l2 is set=9.217553539589007, reg_lambda=0.0 will be ignored. Current value: lambda_l2=9.217553539589007\n",
      "[LightGBM] [Info] Total Bins 85028\n",
      "[LightGBM] [Info] Number of data points in the train set: 43200, number of used features: 395\n",
      "[LightGBM] [Info] Start training from score 5.940370\n"
     ]
    },
    {
     "name": "stderr",
     "output_type": "stream",
     "text": [
      "/Users/alexis/Projects/202502 Actuarial Loss Prediction/.env/lib/python3.10/site-packages/sklearn/utils/validation.py:2739: UserWarning: X does not have valid feature names, but LGBMRegressor was fitted with feature names\n",
      "  warnings.warn(\n",
      "[I 2025-03-02 18:53:49,838] Trial 22 finished with value: 23887.439448845646 and parameters: {'max_depth': 8, 'learning_rate': 0.13400553889592817, 'n_estimators': 200, 'min_child_weight': 5, 'subsample': 0.7656698223651479, 'colsample_bytree': 0.5995308389710214, 'lambda_l1': 1.4954135113628837, 'lambda_l2': 9.217553539589007}. Best is trial 21 with value: 23853.022562628455.\n"
     ]
    },
    {
     "name": "stdout",
     "output_type": "stream",
     "text": [
      "[LightGBM] [Warning] lambda_l1 is set=1.4954135113628837, reg_alpha=0.0 will be ignored. Current value: lambda_l1=1.4954135113628837\n",
      "[LightGBM] [Warning] lambda_l2 is set=9.217553539589007, reg_lambda=0.0 will be ignored. Current value: lambda_l2=9.217553539589007\n",
      "RMSE Overall:  23887.439 | MAE: 5685.289\n",
      "RMSE for low y_true (<= 100k): 9627.620 | MAE: 3337.679\n",
      "RMSE for high y_true (> 100k): 162977.127 | MAE: 133356.735\n",
      "[LightGBM] [Warning] lambda_l1 is set=3.774825063757851, reg_alpha=0.0 will be ignored. Current value: lambda_l1=3.774825063757851\n",
      "[LightGBM] [Warning] lambda_l2 is set=7.470485593504138, reg_lambda=0.0 will be ignored. Current value: lambda_l2=7.470485593504138\n",
      "[LightGBM] [Warning] lambda_l1 is set=3.774825063757851, reg_alpha=0.0 will be ignored. Current value: lambda_l1=3.774825063757851\n",
      "[LightGBM] [Warning] lambda_l2 is set=7.470485593504138, reg_lambda=0.0 will be ignored. Current value: lambda_l2=7.470485593504138\n",
      "[LightGBM] [Info] Total Bins 85015\n",
      "[LightGBM] [Info] Number of data points in the train set: 43199, number of used features: 395\n",
      "[LightGBM] [Info] Start training from score 5.909642\n",
      "[LightGBM] [Warning] No further splits with positive gain, best gain: -inf\n",
      "[LightGBM] [Warning] No further splits with positive gain, best gain: -inf\n",
      "[LightGBM] [Warning] No further splits with positive gain, best gain: -inf\n",
      "[LightGBM] [Warning] No further splits with positive gain, best gain: -inf\n"
     ]
    },
    {
     "name": "stderr",
     "output_type": "stream",
     "text": [
      "/Users/alexis/Projects/202502 Actuarial Loss Prediction/.env/lib/python3.10/site-packages/sklearn/utils/validation.py:2739: UserWarning: X does not have valid feature names, but LGBMRegressor was fitted with feature names\n",
      "  warnings.warn(\n"
     ]
    },
    {
     "name": "stdout",
     "output_type": "stream",
     "text": [
      "[LightGBM] [Warning] lambda_l1 is set=3.774825063757851, reg_alpha=0.0 will be ignored. Current value: lambda_l1=3.774825063757851\n",
      "[LightGBM] [Warning] lambda_l2 is set=7.470485593504138, reg_lambda=0.0 will be ignored. Current value: lambda_l2=7.470485593504138\n",
      "[LightGBM] [Warning] lambda_l1 is set=3.774825063757851, reg_alpha=0.0 will be ignored. Current value: lambda_l1=3.774825063757851\n",
      "[LightGBM] [Warning] lambda_l2 is set=7.470485593504138, reg_lambda=0.0 will be ignored. Current value: lambda_l2=7.470485593504138\n",
      "[LightGBM] [Warning] lambda_l1 is set=3.774825063757851, reg_alpha=0.0 will be ignored. Current value: lambda_l1=3.774825063757851\n",
      "[LightGBM] [Warning] lambda_l2 is set=7.470485593504138, reg_lambda=0.0 will be ignored. Current value: lambda_l2=7.470485593504138\n",
      "[LightGBM] [Info] Total Bins 85024\n",
      "[LightGBM] [Info] Number of data points in the train set: 43199, number of used features: 395\n",
      "[LightGBM] [Info] Start training from score 5.914034\n",
      "[LightGBM] [Warning] No further splits with positive gain, best gain: -inf\n"
     ]
    },
    {
     "name": "stderr",
     "output_type": "stream",
     "text": [
      "/Users/alexis/Projects/202502 Actuarial Loss Prediction/.env/lib/python3.10/site-packages/sklearn/utils/validation.py:2739: UserWarning: X does not have valid feature names, but LGBMRegressor was fitted with feature names\n",
      "  warnings.warn(\n"
     ]
    },
    {
     "name": "stdout",
     "output_type": "stream",
     "text": [
      "[LightGBM] [Warning] lambda_l1 is set=3.774825063757851, reg_alpha=0.0 will be ignored. Current value: lambda_l1=3.774825063757851\n",
      "[LightGBM] [Warning] lambda_l2 is set=7.470485593504138, reg_lambda=0.0 will be ignored. Current value: lambda_l2=7.470485593504138\n",
      "[LightGBM] [Warning] lambda_l1 is set=3.774825063757851, reg_alpha=0.0 will be ignored. Current value: lambda_l1=3.774825063757851\n",
      "[LightGBM] [Warning] lambda_l2 is set=7.470485593504138, reg_lambda=0.0 will be ignored. Current value: lambda_l2=7.470485593504138\n",
      "[LightGBM] [Warning] lambda_l1 is set=3.774825063757851, reg_alpha=0.0 will be ignored. Current value: lambda_l1=3.774825063757851\n",
      "[LightGBM] [Warning] lambda_l2 is set=7.470485593504138, reg_lambda=0.0 will be ignored. Current value: lambda_l2=7.470485593504138\n",
      "[LightGBM] [Info] Total Bins 85026\n",
      "[LightGBM] [Info] Number of data points in the train set: 43199, number of used features: 395\n",
      "[LightGBM] [Info] Start training from score 5.945550\n",
      "[LightGBM] [Warning] No further splits with positive gain, best gain: -inf\n",
      "[LightGBM] [Warning] No further splits with positive gain, best gain: -inf\n",
      "[LightGBM] [Warning] No further splits with positive gain, best gain: -inf\n"
     ]
    },
    {
     "name": "stderr",
     "output_type": "stream",
     "text": [
      "/Users/alexis/Projects/202502 Actuarial Loss Prediction/.env/lib/python3.10/site-packages/sklearn/utils/validation.py:2739: UserWarning: X does not have valid feature names, but LGBMRegressor was fitted with feature names\n",
      "  warnings.warn(\n"
     ]
    },
    {
     "name": "stdout",
     "output_type": "stream",
     "text": [
      "[LightGBM] [Warning] lambda_l1 is set=3.774825063757851, reg_alpha=0.0 will be ignored. Current value: lambda_l1=3.774825063757851\n",
      "[LightGBM] [Warning] lambda_l2 is set=7.470485593504138, reg_lambda=0.0 will be ignored. Current value: lambda_l2=7.470485593504138\n",
      "[LightGBM] [Warning] lambda_l1 is set=3.774825063757851, reg_alpha=0.0 will be ignored. Current value: lambda_l1=3.774825063757851\n",
      "[LightGBM] [Warning] lambda_l2 is set=7.470485593504138, reg_lambda=0.0 will be ignored. Current value: lambda_l2=7.470485593504138\n",
      "[LightGBM] [Warning] lambda_l1 is set=3.774825063757851, reg_alpha=0.0 will be ignored. Current value: lambda_l1=3.774825063757851\n",
      "[LightGBM] [Warning] lambda_l2 is set=7.470485593504138, reg_lambda=0.0 will be ignored. Current value: lambda_l2=7.470485593504138\n",
      "[LightGBM] [Info] Total Bins 85029\n",
      "[LightGBM] [Info] Number of data points in the train set: 43199, number of used features: 395\n",
      "[LightGBM] [Info] Start training from score 5.959808\n",
      "[LightGBM] [Warning] No further splits with positive gain, best gain: -inf\n",
      "[LightGBM] [Warning] No further splits with positive gain, best gain: -inf\n",
      "[LightGBM] [Warning] No further splits with positive gain, best gain: -inf\n",
      "[LightGBM] [Warning] No further splits with positive gain, best gain: -inf\n",
      "[LightGBM] [Warning] No further splits with positive gain, best gain: -inf\n",
      "[LightGBM] [Warning] No further splits with positive gain, best gain: -inf\n"
     ]
    },
    {
     "name": "stderr",
     "output_type": "stream",
     "text": [
      "/Users/alexis/Projects/202502 Actuarial Loss Prediction/.env/lib/python3.10/site-packages/sklearn/utils/validation.py:2739: UserWarning: X does not have valid feature names, but LGBMRegressor was fitted with feature names\n",
      "  warnings.warn(\n"
     ]
    },
    {
     "name": "stdout",
     "output_type": "stream",
     "text": [
      "[LightGBM] [Warning] lambda_l1 is set=3.774825063757851, reg_alpha=0.0 will be ignored. Current value: lambda_l1=3.774825063757851\n",
      "[LightGBM] [Warning] lambda_l2 is set=7.470485593504138, reg_lambda=0.0 will be ignored. Current value: lambda_l2=7.470485593504138\n",
      "[LightGBM] [Warning] lambda_l1 is set=3.774825063757851, reg_alpha=0.0 will be ignored. Current value: lambda_l1=3.774825063757851\n",
      "[LightGBM] [Warning] lambda_l2 is set=7.470485593504138, reg_lambda=0.0 will be ignored. Current value: lambda_l2=7.470485593504138\n",
      "[LightGBM] [Warning] lambda_l1 is set=3.774825063757851, reg_alpha=0.0 will be ignored. Current value: lambda_l1=3.774825063757851\n",
      "[LightGBM] [Warning] lambda_l2 is set=7.470485593504138, reg_lambda=0.0 will be ignored. Current value: lambda_l2=7.470485593504138\n",
      "[LightGBM] [Info] Total Bins 85028\n",
      "[LightGBM] [Info] Number of data points in the train set: 43200, number of used features: 395\n",
      "[LightGBM] [Info] Start training from score 5.940370\n"
     ]
    },
    {
     "name": "stderr",
     "output_type": "stream",
     "text": [
      "/Users/alexis/Projects/202502 Actuarial Loss Prediction/.env/lib/python3.10/site-packages/sklearn/utils/validation.py:2739: UserWarning: X does not have valid feature names, but LGBMRegressor was fitted with feature names\n",
      "  warnings.warn(\n",
      "[I 2025-03-02 18:54:16,664] Trial 23 finished with value: 23884.695405752853 and parameters: {'max_depth': 6, 'learning_rate': 0.09350482776322516, 'n_estimators': 400, 'min_child_weight': 3, 'subsample': 0.6726528258845504, 'colsample_bytree': 0.7790942778223344, 'lambda_l1': 3.774825063757851, 'lambda_l2': 7.470485593504138}. Best is trial 21 with value: 23853.022562628455.\n"
     ]
    },
    {
     "name": "stdout",
     "output_type": "stream",
     "text": [
      "[LightGBM] [Warning] lambda_l1 is set=3.774825063757851, reg_alpha=0.0 will be ignored. Current value: lambda_l1=3.774825063757851\n",
      "[LightGBM] [Warning] lambda_l2 is set=7.470485593504138, reg_lambda=0.0 will be ignored. Current value: lambda_l2=7.470485593504138\n",
      "RMSE Overall:  23884.695 | MAE: 5679.230\n",
      "RMSE for low y_true (<= 100k): 9535.179 | MAE: 3326.703\n",
      "RMSE for high y_true (> 100k): 163250.178 | MAE: 133618.080\n",
      "[LightGBM] [Warning] lambda_l1 is set=1.5989453348025777, reg_alpha=0.0 will be ignored. Current value: lambda_l1=1.5989453348025777\n",
      "[LightGBM] [Warning] lambda_l2 is set=6.168286056278208, reg_lambda=0.0 will be ignored. Current value: lambda_l2=6.168286056278208\n",
      "[LightGBM] [Warning] lambda_l1 is set=1.5989453348025777, reg_alpha=0.0 will be ignored. Current value: lambda_l1=1.5989453348025777\n",
      "[LightGBM] [Warning] lambda_l2 is set=6.168286056278208, reg_lambda=0.0 will be ignored. Current value: lambda_l2=6.168286056278208\n",
      "[LightGBM] [Info] Total Bins 85015\n",
      "[LightGBM] [Info] Number of data points in the train set: 43199, number of used features: 395\n",
      "[LightGBM] [Info] Start training from score 5.909642\n"
     ]
    },
    {
     "name": "stderr",
     "output_type": "stream",
     "text": [
      "/Users/alexis/Projects/202502 Actuarial Loss Prediction/.env/lib/python3.10/site-packages/sklearn/utils/validation.py:2739: UserWarning: X does not have valid feature names, but LGBMRegressor was fitted with feature names\n",
      "  warnings.warn(\n"
     ]
    },
    {
     "name": "stdout",
     "output_type": "stream",
     "text": [
      "[LightGBM] [Warning] lambda_l1 is set=1.5989453348025777, reg_alpha=0.0 will be ignored. Current value: lambda_l1=1.5989453348025777\n",
      "[LightGBM] [Warning] lambda_l2 is set=6.168286056278208, reg_lambda=0.0 will be ignored. Current value: lambda_l2=6.168286056278208\n",
      "[LightGBM] [Warning] lambda_l1 is set=1.5989453348025777, reg_alpha=0.0 will be ignored. Current value: lambda_l1=1.5989453348025777\n",
      "[LightGBM] [Warning] lambda_l2 is set=6.168286056278208, reg_lambda=0.0 will be ignored. Current value: lambda_l2=6.168286056278208\n",
      "[LightGBM] [Warning] lambda_l1 is set=1.5989453348025777, reg_alpha=0.0 will be ignored. Current value: lambda_l1=1.5989453348025777\n",
      "[LightGBM] [Warning] lambda_l2 is set=6.168286056278208, reg_lambda=0.0 will be ignored. Current value: lambda_l2=6.168286056278208\n",
      "[LightGBM] [Info] Total Bins 85024\n",
      "[LightGBM] [Info] Number of data points in the train set: 43199, number of used features: 395\n",
      "[LightGBM] [Info] Start training from score 5.914034\n"
     ]
    },
    {
     "name": "stderr",
     "output_type": "stream",
     "text": [
      "/Users/alexis/Projects/202502 Actuarial Loss Prediction/.env/lib/python3.10/site-packages/sklearn/utils/validation.py:2739: UserWarning: X does not have valid feature names, but LGBMRegressor was fitted with feature names\n",
      "  warnings.warn(\n"
     ]
    },
    {
     "name": "stdout",
     "output_type": "stream",
     "text": [
      "[LightGBM] [Warning] lambda_l1 is set=1.5989453348025777, reg_alpha=0.0 will be ignored. Current value: lambda_l1=1.5989453348025777\n",
      "[LightGBM] [Warning] lambda_l2 is set=6.168286056278208, reg_lambda=0.0 will be ignored. Current value: lambda_l2=6.168286056278208\n",
      "[LightGBM] [Warning] lambda_l1 is set=1.5989453348025777, reg_alpha=0.0 will be ignored. Current value: lambda_l1=1.5989453348025777\n",
      "[LightGBM] [Warning] lambda_l2 is set=6.168286056278208, reg_lambda=0.0 will be ignored. Current value: lambda_l2=6.168286056278208\n",
      "[LightGBM] [Warning] lambda_l1 is set=1.5989453348025777, reg_alpha=0.0 will be ignored. Current value: lambda_l1=1.5989453348025777\n",
      "[LightGBM] [Warning] lambda_l2 is set=6.168286056278208, reg_lambda=0.0 will be ignored. Current value: lambda_l2=6.168286056278208\n",
      "[LightGBM] [Info] Total Bins 85026\n",
      "[LightGBM] [Info] Number of data points in the train set: 43199, number of used features: 395\n",
      "[LightGBM] [Info] Start training from score 5.945550\n"
     ]
    },
    {
     "name": "stderr",
     "output_type": "stream",
     "text": [
      "/Users/alexis/Projects/202502 Actuarial Loss Prediction/.env/lib/python3.10/site-packages/sklearn/utils/validation.py:2739: UserWarning: X does not have valid feature names, but LGBMRegressor was fitted with feature names\n",
      "  warnings.warn(\n"
     ]
    },
    {
     "name": "stdout",
     "output_type": "stream",
     "text": [
      "[LightGBM] [Warning] lambda_l1 is set=1.5989453348025777, reg_alpha=0.0 will be ignored. Current value: lambda_l1=1.5989453348025777\n",
      "[LightGBM] [Warning] lambda_l2 is set=6.168286056278208, reg_lambda=0.0 will be ignored. Current value: lambda_l2=6.168286056278208\n",
      "[LightGBM] [Warning] lambda_l1 is set=1.5989453348025777, reg_alpha=0.0 will be ignored. Current value: lambda_l1=1.5989453348025777\n",
      "[LightGBM] [Warning] lambda_l2 is set=6.168286056278208, reg_lambda=0.0 will be ignored. Current value: lambda_l2=6.168286056278208\n",
      "[LightGBM] [Warning] lambda_l1 is set=1.5989453348025777, reg_alpha=0.0 will be ignored. Current value: lambda_l1=1.5989453348025777\n",
      "[LightGBM] [Warning] lambda_l2 is set=6.168286056278208, reg_lambda=0.0 will be ignored. Current value: lambda_l2=6.168286056278208\n",
      "[LightGBM] [Info] Total Bins 85029\n",
      "[LightGBM] [Info] Number of data points in the train set: 43199, number of used features: 395\n",
      "[LightGBM] [Info] Start training from score 5.959808\n"
     ]
    },
    {
     "name": "stderr",
     "output_type": "stream",
     "text": [
      "/Users/alexis/Projects/202502 Actuarial Loss Prediction/.env/lib/python3.10/site-packages/sklearn/utils/validation.py:2739: UserWarning: X does not have valid feature names, but LGBMRegressor was fitted with feature names\n",
      "  warnings.warn(\n"
     ]
    },
    {
     "name": "stdout",
     "output_type": "stream",
     "text": [
      "[LightGBM] [Warning] lambda_l1 is set=1.5989453348025777, reg_alpha=0.0 will be ignored. Current value: lambda_l1=1.5989453348025777\n",
      "[LightGBM] [Warning] lambda_l2 is set=6.168286056278208, reg_lambda=0.0 will be ignored. Current value: lambda_l2=6.168286056278208\n",
      "[LightGBM] [Warning] lambda_l1 is set=1.5989453348025777, reg_alpha=0.0 will be ignored. Current value: lambda_l1=1.5989453348025777\n",
      "[LightGBM] [Warning] lambda_l2 is set=6.168286056278208, reg_lambda=0.0 will be ignored. Current value: lambda_l2=6.168286056278208\n",
      "[LightGBM] [Warning] lambda_l1 is set=1.5989453348025777, reg_alpha=0.0 will be ignored. Current value: lambda_l1=1.5989453348025777\n",
      "[LightGBM] [Warning] lambda_l2 is set=6.168286056278208, reg_lambda=0.0 will be ignored. Current value: lambda_l2=6.168286056278208\n",
      "[LightGBM] [Info] Total Bins 85028\n",
      "[LightGBM] [Info] Number of data points in the train set: 43200, number of used features: 395\n",
      "[LightGBM] [Info] Start training from score 5.940370\n"
     ]
    },
    {
     "name": "stderr",
     "output_type": "stream",
     "text": [
      "/Users/alexis/Projects/202502 Actuarial Loss Prediction/.env/lib/python3.10/site-packages/sklearn/utils/validation.py:2739: UserWarning: X does not have valid feature names, but LGBMRegressor was fitted with feature names\n",
      "  warnings.warn(\n",
      "[I 2025-03-02 18:54:33,536] Trial 24 finished with value: 23953.967410649682 and parameters: {'max_depth': 9, 'learning_rate': 0.10974750642690526, 'n_estimators': 200, 'min_child_weight': 2, 'subsample': 0.7334621078176972, 'colsample_bytree': 0.5584001136239846, 'lambda_l1': 1.5989453348025777, 'lambda_l2': 6.168286056278208}. Best is trial 21 with value: 23853.022562628455.\n"
     ]
    },
    {
     "name": "stdout",
     "output_type": "stream",
     "text": [
      "[LightGBM] [Warning] lambda_l1 is set=1.5989453348025777, reg_alpha=0.0 will be ignored. Current value: lambda_l1=1.5989453348025777\n",
      "[LightGBM] [Warning] lambda_l2 is set=6.168286056278208, reg_lambda=0.0 will be ignored. Current value: lambda_l2=6.168286056278208\n",
      "RMSE Overall:  23953.967 | MAE: 5666.533\n",
      "RMSE for low y_true (<= 100k): 9519.638 | MAE: 3307.008\n",
      "RMSE for high y_true (> 100k): 163860.490 | MAE: 133985.971\n",
      "[LightGBM] [Warning] lambda_l1 is set=2.9649946290844458, reg_alpha=0.0 will be ignored. Current value: lambda_l1=2.9649946290844458\n",
      "[LightGBM] [Warning] lambda_l2 is set=1.8144777901302218, reg_lambda=0.0 will be ignored. Current value: lambda_l2=1.8144777901302218\n",
      "[LightGBM] [Warning] lambda_l1 is set=2.9649946290844458, reg_alpha=0.0 will be ignored. Current value: lambda_l1=2.9649946290844458\n",
      "[LightGBM] [Warning] lambda_l2 is set=1.8144777901302218, reg_lambda=0.0 will be ignored. Current value: lambda_l2=1.8144777901302218\n",
      "[LightGBM] [Info] Total Bins 85015\n",
      "[LightGBM] [Info] Number of data points in the train set: 43199, number of used features: 395\n",
      "[LightGBM] [Info] Start training from score 5.909642\n"
     ]
    },
    {
     "name": "stderr",
     "output_type": "stream",
     "text": [
      "/Users/alexis/Projects/202502 Actuarial Loss Prediction/.env/lib/python3.10/site-packages/sklearn/utils/validation.py:2739: UserWarning: X does not have valid feature names, but LGBMRegressor was fitted with feature names\n",
      "  warnings.warn(\n"
     ]
    },
    {
     "name": "stdout",
     "output_type": "stream",
     "text": [
      "[LightGBM] [Warning] lambda_l1 is set=2.9649946290844458, reg_alpha=0.0 will be ignored. Current value: lambda_l1=2.9649946290844458\n",
      "[LightGBM] [Warning] lambda_l2 is set=1.8144777901302218, reg_lambda=0.0 will be ignored. Current value: lambda_l2=1.8144777901302218\n",
      "[LightGBM] [Warning] lambda_l1 is set=2.9649946290844458, reg_alpha=0.0 will be ignored. Current value: lambda_l1=2.9649946290844458\n",
      "[LightGBM] [Warning] lambda_l2 is set=1.8144777901302218, reg_lambda=0.0 will be ignored. Current value: lambda_l2=1.8144777901302218\n",
      "[LightGBM] [Warning] lambda_l1 is set=2.9649946290844458, reg_alpha=0.0 will be ignored. Current value: lambda_l1=2.9649946290844458\n",
      "[LightGBM] [Warning] lambda_l2 is set=1.8144777901302218, reg_lambda=0.0 will be ignored. Current value: lambda_l2=1.8144777901302218\n",
      "[LightGBM] [Info] Total Bins 85024\n",
      "[LightGBM] [Info] Number of data points in the train set: 43199, number of used features: 395\n",
      "[LightGBM] [Info] Start training from score 5.914034\n"
     ]
    },
    {
     "name": "stderr",
     "output_type": "stream",
     "text": [
      "/Users/alexis/Projects/202502 Actuarial Loss Prediction/.env/lib/python3.10/site-packages/sklearn/utils/validation.py:2739: UserWarning: X does not have valid feature names, but LGBMRegressor was fitted with feature names\n",
      "  warnings.warn(\n"
     ]
    },
    {
     "name": "stdout",
     "output_type": "stream",
     "text": [
      "[LightGBM] [Warning] lambda_l1 is set=2.9649946290844458, reg_alpha=0.0 will be ignored. Current value: lambda_l1=2.9649946290844458\n",
      "[LightGBM] [Warning] lambda_l2 is set=1.8144777901302218, reg_lambda=0.0 will be ignored. Current value: lambda_l2=1.8144777901302218\n",
      "[LightGBM] [Warning] lambda_l1 is set=2.9649946290844458, reg_alpha=0.0 will be ignored. Current value: lambda_l1=2.9649946290844458\n",
      "[LightGBM] [Warning] lambda_l2 is set=1.8144777901302218, reg_lambda=0.0 will be ignored. Current value: lambda_l2=1.8144777901302218\n",
      "[LightGBM] [Warning] lambda_l1 is set=2.9649946290844458, reg_alpha=0.0 will be ignored. Current value: lambda_l1=2.9649946290844458\n",
      "[LightGBM] [Warning] lambda_l2 is set=1.8144777901302218, reg_lambda=0.0 will be ignored. Current value: lambda_l2=1.8144777901302218\n",
      "[LightGBM] [Info] Total Bins 85026\n",
      "[LightGBM] [Info] Number of data points in the train set: 43199, number of used features: 395\n",
      "[LightGBM] [Info] Start training from score 5.945550\n"
     ]
    },
    {
     "name": "stderr",
     "output_type": "stream",
     "text": [
      "/Users/alexis/Projects/202502 Actuarial Loss Prediction/.env/lib/python3.10/site-packages/sklearn/utils/validation.py:2739: UserWarning: X does not have valid feature names, but LGBMRegressor was fitted with feature names\n",
      "  warnings.warn(\n"
     ]
    },
    {
     "name": "stdout",
     "output_type": "stream",
     "text": [
      "[LightGBM] [Warning] lambda_l1 is set=2.9649946290844458, reg_alpha=0.0 will be ignored. Current value: lambda_l1=2.9649946290844458\n",
      "[LightGBM] [Warning] lambda_l2 is set=1.8144777901302218, reg_lambda=0.0 will be ignored. Current value: lambda_l2=1.8144777901302218\n",
      "[LightGBM] [Warning] lambda_l1 is set=2.9649946290844458, reg_alpha=0.0 will be ignored. Current value: lambda_l1=2.9649946290844458\n",
      "[LightGBM] [Warning] lambda_l2 is set=1.8144777901302218, reg_lambda=0.0 will be ignored. Current value: lambda_l2=1.8144777901302218\n",
      "[LightGBM] [Warning] lambda_l1 is set=2.9649946290844458, reg_alpha=0.0 will be ignored. Current value: lambda_l1=2.9649946290844458\n",
      "[LightGBM] [Warning] lambda_l2 is set=1.8144777901302218, reg_lambda=0.0 will be ignored. Current value: lambda_l2=1.8144777901302218\n",
      "[LightGBM] [Info] Total Bins 85029\n",
      "[LightGBM] [Info] Number of data points in the train set: 43199, number of used features: 395\n",
      "[LightGBM] [Info] Start training from score 5.959808\n"
     ]
    },
    {
     "name": "stderr",
     "output_type": "stream",
     "text": [
      "/Users/alexis/Projects/202502 Actuarial Loss Prediction/.env/lib/python3.10/site-packages/sklearn/utils/validation.py:2739: UserWarning: X does not have valid feature names, but LGBMRegressor was fitted with feature names\n",
      "  warnings.warn(\n"
     ]
    },
    {
     "name": "stdout",
     "output_type": "stream",
     "text": [
      "[LightGBM] [Warning] lambda_l1 is set=2.9649946290844458, reg_alpha=0.0 will be ignored. Current value: lambda_l1=2.9649946290844458\n",
      "[LightGBM] [Warning] lambda_l2 is set=1.8144777901302218, reg_lambda=0.0 will be ignored. Current value: lambda_l2=1.8144777901302218\n",
      "[LightGBM] [Warning] lambda_l1 is set=2.9649946290844458, reg_alpha=0.0 will be ignored. Current value: lambda_l1=2.9649946290844458\n",
      "[LightGBM] [Warning] lambda_l2 is set=1.8144777901302218, reg_lambda=0.0 will be ignored. Current value: lambda_l2=1.8144777901302218\n",
      "[LightGBM] [Warning] lambda_l1 is set=2.9649946290844458, reg_alpha=0.0 will be ignored. Current value: lambda_l1=2.9649946290844458\n",
      "[LightGBM] [Warning] lambda_l2 is set=1.8144777901302218, reg_lambda=0.0 will be ignored. Current value: lambda_l2=1.8144777901302218\n",
      "[LightGBM] [Info] Total Bins 85028\n",
      "[LightGBM] [Info] Number of data points in the train set: 43200, number of used features: 395\n",
      "[LightGBM] [Info] Start training from score 5.940370\n"
     ]
    },
    {
     "name": "stderr",
     "output_type": "stream",
     "text": [
      "/Users/alexis/Projects/202502 Actuarial Loss Prediction/.env/lib/python3.10/site-packages/sklearn/utils/validation.py:2739: UserWarning: X does not have valid feature names, but LGBMRegressor was fitted with feature names\n",
      "  warnings.warn(\n",
      "[I 2025-03-02 18:54:55,938] Trial 25 finished with value: 23892.029030320216 and parameters: {'max_depth': 11, 'learning_rate': 0.10127260813510691, 'n_estimators': 300, 'min_child_weight': 5, 'subsample': 0.6449016736590364, 'colsample_bytree': 0.6327544953789176, 'lambda_l1': 2.9649946290844458, 'lambda_l2': 1.8144777901302218}. Best is trial 21 with value: 23853.022562628455.\n"
     ]
    },
    {
     "name": "stdout",
     "output_type": "stream",
     "text": [
      "[LightGBM] [Warning] lambda_l1 is set=2.9649946290844458, reg_alpha=0.0 will be ignored. Current value: lambda_l1=2.9649946290844458\n",
      "[LightGBM] [Warning] lambda_l2 is set=1.8144777901302218, reg_lambda=0.0 will be ignored. Current value: lambda_l2=1.8144777901302218\n",
      "RMSE Overall:  23892.029 | MAE: 5666.543\n",
      "RMSE for low y_true (<= 100k): 9588.387 | MAE: 3318.718\n",
      "RMSE for high y_true (> 100k): 163140.089 | MAE: 133349.695\n",
      "[LightGBM] [Warning] lambda_l1 is set=1.1165961984365846, reg_alpha=0.0 will be ignored. Current value: lambda_l1=1.1165961984365846\n",
      "[LightGBM] [Warning] lambda_l2 is set=8.822202868423425, reg_lambda=0.0 will be ignored. Current value: lambda_l2=8.822202868423425\n",
      "[LightGBM] [Warning] lambda_l1 is set=1.1165961984365846, reg_alpha=0.0 will be ignored. Current value: lambda_l1=1.1165961984365846\n",
      "[LightGBM] [Warning] lambda_l2 is set=8.822202868423425, reg_lambda=0.0 will be ignored. Current value: lambda_l2=8.822202868423425\n",
      "[LightGBM] [Info] Total Bins 85015\n",
      "[LightGBM] [Info] Number of data points in the train set: 43199, number of used features: 395\n",
      "[LightGBM] [Info] Start training from score 5.909642\n"
     ]
    },
    {
     "name": "stderr",
     "output_type": "stream",
     "text": [
      "/Users/alexis/Projects/202502 Actuarial Loss Prediction/.env/lib/python3.10/site-packages/sklearn/utils/validation.py:2739: UserWarning: X does not have valid feature names, but LGBMRegressor was fitted with feature names\n",
      "  warnings.warn(\n"
     ]
    },
    {
     "name": "stdout",
     "output_type": "stream",
     "text": [
      "[LightGBM] [Warning] lambda_l1 is set=1.1165961984365846, reg_alpha=0.0 will be ignored. Current value: lambda_l1=1.1165961984365846\n",
      "[LightGBM] [Warning] lambda_l2 is set=8.822202868423425, reg_lambda=0.0 will be ignored. Current value: lambda_l2=8.822202868423425\n",
      "[LightGBM] [Warning] lambda_l1 is set=1.1165961984365846, reg_alpha=0.0 will be ignored. Current value: lambda_l1=1.1165961984365846\n",
      "[LightGBM] [Warning] lambda_l2 is set=8.822202868423425, reg_lambda=0.0 will be ignored. Current value: lambda_l2=8.822202868423425\n",
      "[LightGBM] [Warning] lambda_l1 is set=1.1165961984365846, reg_alpha=0.0 will be ignored. Current value: lambda_l1=1.1165961984365846\n",
      "[LightGBM] [Warning] lambda_l2 is set=8.822202868423425, reg_lambda=0.0 will be ignored. Current value: lambda_l2=8.822202868423425\n",
      "[LightGBM] [Info] Total Bins 85024\n",
      "[LightGBM] [Info] Number of data points in the train set: 43199, number of used features: 395\n",
      "[LightGBM] [Info] Start training from score 5.914034\n"
     ]
    },
    {
     "name": "stderr",
     "output_type": "stream",
     "text": [
      "/Users/alexis/Projects/202502 Actuarial Loss Prediction/.env/lib/python3.10/site-packages/sklearn/utils/validation.py:2739: UserWarning: X does not have valid feature names, but LGBMRegressor was fitted with feature names\n",
      "  warnings.warn(\n"
     ]
    },
    {
     "name": "stdout",
     "output_type": "stream",
     "text": [
      "[LightGBM] [Warning] lambda_l1 is set=1.1165961984365846, reg_alpha=0.0 will be ignored. Current value: lambda_l1=1.1165961984365846\n",
      "[LightGBM] [Warning] lambda_l2 is set=8.822202868423425, reg_lambda=0.0 will be ignored. Current value: lambda_l2=8.822202868423425\n",
      "[LightGBM] [Warning] lambda_l1 is set=1.1165961984365846, reg_alpha=0.0 will be ignored. Current value: lambda_l1=1.1165961984365846\n",
      "[LightGBM] [Warning] lambda_l2 is set=8.822202868423425, reg_lambda=0.0 will be ignored. Current value: lambda_l2=8.822202868423425\n",
      "[LightGBM] [Warning] lambda_l1 is set=1.1165961984365846, reg_alpha=0.0 will be ignored. Current value: lambda_l1=1.1165961984365846\n",
      "[LightGBM] [Warning] lambda_l2 is set=8.822202868423425, reg_lambda=0.0 will be ignored. Current value: lambda_l2=8.822202868423425\n",
      "[LightGBM] [Info] Total Bins 85026\n",
      "[LightGBM] [Info] Number of data points in the train set: 43199, number of used features: 395\n",
      "[LightGBM] [Info] Start training from score 5.945550\n"
     ]
    },
    {
     "name": "stderr",
     "output_type": "stream",
     "text": [
      "/Users/alexis/Projects/202502 Actuarial Loss Prediction/.env/lib/python3.10/site-packages/sklearn/utils/validation.py:2739: UserWarning: X does not have valid feature names, but LGBMRegressor was fitted with feature names\n",
      "  warnings.warn(\n"
     ]
    },
    {
     "name": "stdout",
     "output_type": "stream",
     "text": [
      "[LightGBM] [Warning] lambda_l1 is set=1.1165961984365846, reg_alpha=0.0 will be ignored. Current value: lambda_l1=1.1165961984365846\n",
      "[LightGBM] [Warning] lambda_l2 is set=8.822202868423425, reg_lambda=0.0 will be ignored. Current value: lambda_l2=8.822202868423425\n",
      "[LightGBM] [Warning] lambda_l1 is set=1.1165961984365846, reg_alpha=0.0 will be ignored. Current value: lambda_l1=1.1165961984365846\n",
      "[LightGBM] [Warning] lambda_l2 is set=8.822202868423425, reg_lambda=0.0 will be ignored. Current value: lambda_l2=8.822202868423425\n",
      "[LightGBM] [Warning] lambda_l1 is set=1.1165961984365846, reg_alpha=0.0 will be ignored. Current value: lambda_l1=1.1165961984365846\n",
      "[LightGBM] [Warning] lambda_l2 is set=8.822202868423425, reg_lambda=0.0 will be ignored. Current value: lambda_l2=8.822202868423425\n",
      "[LightGBM] [Info] Total Bins 85029\n",
      "[LightGBM] [Info] Number of data points in the train set: 43199, number of used features: 395\n",
      "[LightGBM] [Info] Start training from score 5.959808\n"
     ]
    },
    {
     "name": "stderr",
     "output_type": "stream",
     "text": [
      "/Users/alexis/Projects/202502 Actuarial Loss Prediction/.env/lib/python3.10/site-packages/sklearn/utils/validation.py:2739: UserWarning: X does not have valid feature names, but LGBMRegressor was fitted with feature names\n",
      "  warnings.warn(\n"
     ]
    },
    {
     "name": "stdout",
     "output_type": "stream",
     "text": [
      "[LightGBM] [Warning] lambda_l1 is set=1.1165961984365846, reg_alpha=0.0 will be ignored. Current value: lambda_l1=1.1165961984365846\n",
      "[LightGBM] [Warning] lambda_l2 is set=8.822202868423425, reg_lambda=0.0 will be ignored. Current value: lambda_l2=8.822202868423425\n",
      "[LightGBM] [Warning] lambda_l1 is set=1.1165961984365846, reg_alpha=0.0 will be ignored. Current value: lambda_l1=1.1165961984365846\n",
      "[LightGBM] [Warning] lambda_l2 is set=8.822202868423425, reg_lambda=0.0 will be ignored. Current value: lambda_l2=8.822202868423425\n",
      "[LightGBM] [Warning] lambda_l1 is set=1.1165961984365846, reg_alpha=0.0 will be ignored. Current value: lambda_l1=1.1165961984365846\n",
      "[LightGBM] [Warning] lambda_l2 is set=8.822202868423425, reg_lambda=0.0 will be ignored. Current value: lambda_l2=8.822202868423425\n",
      "[LightGBM] [Info] Total Bins 85028\n",
      "[LightGBM] [Info] Number of data points in the train set: 43200, number of used features: 395\n",
      "[LightGBM] [Info] Start training from score 5.940370\n"
     ]
    },
    {
     "name": "stderr",
     "output_type": "stream",
     "text": [
      "/Users/alexis/Projects/202502 Actuarial Loss Prediction/.env/lib/python3.10/site-packages/sklearn/utils/validation.py:2739: UserWarning: X does not have valid feature names, but LGBMRegressor was fitted with feature names\n",
      "  warnings.warn(\n",
      "[I 2025-03-02 18:55:13,265] Trial 26 finished with value: 23871.190551663687 and parameters: {'max_depth': 10, 'learning_rate': 0.11917616530894631, 'n_estimators': 200, 'min_child_weight': 11, 'subsample': 0.7621706106518572, 'colsample_bytree': 0.6976311221591945, 'lambda_l1': 1.1165961984365846, 'lambda_l2': 8.822202868423425}. Best is trial 21 with value: 23853.022562628455.\n"
     ]
    },
    {
     "name": "stdout",
     "output_type": "stream",
     "text": [
      "[LightGBM] [Warning] lambda_l1 is set=1.1165961984365846, reg_alpha=0.0 will be ignored. Current value: lambda_l1=1.1165961984365846\n",
      "[LightGBM] [Warning] lambda_l2 is set=8.822202868423425, reg_lambda=0.0 will be ignored. Current value: lambda_l2=8.822202868423425\n",
      "RMSE Overall:  23871.191 | MAE: 5647.521\n",
      "RMSE for low y_true (<= 100k): 9483.526 | MAE: 3299.161\n",
      "RMSE for high y_true (> 100k): 163304.399 | MAE: 133359.730\n",
      "[LightGBM] [Warning] lambda_l1 is set=1.8871554288543453, reg_alpha=0.0 will be ignored. Current value: lambda_l1=1.8871554288543453\n",
      "[LightGBM] [Warning] lambda_l2 is set=0.07620691752046849, reg_lambda=0.0 will be ignored. Current value: lambda_l2=0.07620691752046849\n",
      "[LightGBM] [Warning] lambda_l1 is set=1.8871554288543453, reg_alpha=0.0 will be ignored. Current value: lambda_l1=1.8871554288543453\n",
      "[LightGBM] [Warning] lambda_l2 is set=0.07620691752046849, reg_lambda=0.0 will be ignored. Current value: lambda_l2=0.07620691752046849\n",
      "[LightGBM] [Info] Total Bins 85015\n",
      "[LightGBM] [Info] Number of data points in the train set: 43199, number of used features: 395\n",
      "[LightGBM] [Info] Start training from score 5.909642\n"
     ]
    },
    {
     "name": "stderr",
     "output_type": "stream",
     "text": [
      "/Users/alexis/Projects/202502 Actuarial Loss Prediction/.env/lib/python3.10/site-packages/sklearn/utils/validation.py:2739: UserWarning: X does not have valid feature names, but LGBMRegressor was fitted with feature names\n",
      "  warnings.warn(\n"
     ]
    },
    {
     "name": "stdout",
     "output_type": "stream",
     "text": [
      "[LightGBM] [Warning] lambda_l1 is set=1.8871554288543453, reg_alpha=0.0 will be ignored. Current value: lambda_l1=1.8871554288543453\n",
      "[LightGBM] [Warning] lambda_l2 is set=0.07620691752046849, reg_lambda=0.0 will be ignored. Current value: lambda_l2=0.07620691752046849\n",
      "[LightGBM] [Warning] lambda_l1 is set=1.8871554288543453, reg_alpha=0.0 will be ignored. Current value: lambda_l1=1.8871554288543453\n",
      "[LightGBM] [Warning] lambda_l2 is set=0.07620691752046849, reg_lambda=0.0 will be ignored. Current value: lambda_l2=0.07620691752046849\n",
      "[LightGBM] [Warning] lambda_l1 is set=1.8871554288543453, reg_alpha=0.0 will be ignored. Current value: lambda_l1=1.8871554288543453\n",
      "[LightGBM] [Warning] lambda_l2 is set=0.07620691752046849, reg_lambda=0.0 will be ignored. Current value: lambda_l2=0.07620691752046849\n",
      "[LightGBM] [Info] Total Bins 85024\n",
      "[LightGBM] [Info] Number of data points in the train set: 43199, number of used features: 395\n",
      "[LightGBM] [Info] Start training from score 5.914034\n"
     ]
    },
    {
     "name": "stderr",
     "output_type": "stream",
     "text": [
      "/Users/alexis/Projects/202502 Actuarial Loss Prediction/.env/lib/python3.10/site-packages/sklearn/utils/validation.py:2739: UserWarning: X does not have valid feature names, but LGBMRegressor was fitted with feature names\n",
      "  warnings.warn(\n"
     ]
    },
    {
     "name": "stdout",
     "output_type": "stream",
     "text": [
      "[LightGBM] [Warning] lambda_l1 is set=1.8871554288543453, reg_alpha=0.0 will be ignored. Current value: lambda_l1=1.8871554288543453\n",
      "[LightGBM] [Warning] lambda_l2 is set=0.07620691752046849, reg_lambda=0.0 will be ignored. Current value: lambda_l2=0.07620691752046849\n",
      "[LightGBM] [Warning] lambda_l1 is set=1.8871554288543453, reg_alpha=0.0 will be ignored. Current value: lambda_l1=1.8871554288543453\n",
      "[LightGBM] [Warning] lambda_l2 is set=0.07620691752046849, reg_lambda=0.0 will be ignored. Current value: lambda_l2=0.07620691752046849\n",
      "[LightGBM] [Warning] lambda_l1 is set=1.8871554288543453, reg_alpha=0.0 will be ignored. Current value: lambda_l1=1.8871554288543453\n",
      "[LightGBM] [Warning] lambda_l2 is set=0.07620691752046849, reg_lambda=0.0 will be ignored. Current value: lambda_l2=0.07620691752046849\n",
      "[LightGBM] [Info] Total Bins 85026\n",
      "[LightGBM] [Info] Number of data points in the train set: 43199, number of used features: 395\n",
      "[LightGBM] [Info] Start training from score 5.945550\n"
     ]
    },
    {
     "name": "stderr",
     "output_type": "stream",
     "text": [
      "/Users/alexis/Projects/202502 Actuarial Loss Prediction/.env/lib/python3.10/site-packages/sklearn/utils/validation.py:2739: UserWarning: X does not have valid feature names, but LGBMRegressor was fitted with feature names\n",
      "  warnings.warn(\n"
     ]
    },
    {
     "name": "stdout",
     "output_type": "stream",
     "text": [
      "[LightGBM] [Warning] lambda_l1 is set=1.8871554288543453, reg_alpha=0.0 will be ignored. Current value: lambda_l1=1.8871554288543453\n",
      "[LightGBM] [Warning] lambda_l2 is set=0.07620691752046849, reg_lambda=0.0 will be ignored. Current value: lambda_l2=0.07620691752046849\n",
      "[LightGBM] [Warning] lambda_l1 is set=1.8871554288543453, reg_alpha=0.0 will be ignored. Current value: lambda_l1=1.8871554288543453\n",
      "[LightGBM] [Warning] lambda_l2 is set=0.07620691752046849, reg_lambda=0.0 will be ignored. Current value: lambda_l2=0.07620691752046849\n",
      "[LightGBM] [Warning] lambda_l1 is set=1.8871554288543453, reg_alpha=0.0 will be ignored. Current value: lambda_l1=1.8871554288543453\n",
      "[LightGBM] [Warning] lambda_l2 is set=0.07620691752046849, reg_lambda=0.0 will be ignored. Current value: lambda_l2=0.07620691752046849\n",
      "[LightGBM] [Info] Total Bins 85029\n",
      "[LightGBM] [Info] Number of data points in the train set: 43199, number of used features: 395\n",
      "[LightGBM] [Info] Start training from score 5.959808\n"
     ]
    },
    {
     "name": "stderr",
     "output_type": "stream",
     "text": [
      "/Users/alexis/Projects/202502 Actuarial Loss Prediction/.env/lib/python3.10/site-packages/sklearn/utils/validation.py:2739: UserWarning: X does not have valid feature names, but LGBMRegressor was fitted with feature names\n",
      "  warnings.warn(\n"
     ]
    },
    {
     "name": "stdout",
     "output_type": "stream",
     "text": [
      "[LightGBM] [Warning] lambda_l1 is set=1.8871554288543453, reg_alpha=0.0 will be ignored. Current value: lambda_l1=1.8871554288543453\n",
      "[LightGBM] [Warning] lambda_l2 is set=0.07620691752046849, reg_lambda=0.0 will be ignored. Current value: lambda_l2=0.07620691752046849\n",
      "[LightGBM] [Warning] lambda_l1 is set=1.8871554288543453, reg_alpha=0.0 will be ignored. Current value: lambda_l1=1.8871554288543453\n",
      "[LightGBM] [Warning] lambda_l2 is set=0.07620691752046849, reg_lambda=0.0 will be ignored. Current value: lambda_l2=0.07620691752046849\n",
      "[LightGBM] [Warning] lambda_l1 is set=1.8871554288543453, reg_alpha=0.0 will be ignored. Current value: lambda_l1=1.8871554288543453\n",
      "[LightGBM] [Warning] lambda_l2 is set=0.07620691752046849, reg_lambda=0.0 will be ignored. Current value: lambda_l2=0.07620691752046849\n",
      "[LightGBM] [Info] Total Bins 85028\n",
      "[LightGBM] [Info] Number of data points in the train set: 43200, number of used features: 395\n",
      "[LightGBM] [Info] Start training from score 5.940370\n"
     ]
    },
    {
     "name": "stderr",
     "output_type": "stream",
     "text": [
      "/Users/alexis/Projects/202502 Actuarial Loss Prediction/.env/lib/python3.10/site-packages/sklearn/utils/validation.py:2739: UserWarning: X does not have valid feature names, but LGBMRegressor was fitted with feature names\n",
      "  warnings.warn(\n",
      "[I 2025-03-02 18:55:39,495] Trial 27 finished with value: 24073.174760453123 and parameters: {'max_depth': 12, 'learning_rate': 0.1493512832586195, 'n_estimators': 400, 'min_child_weight': 7, 'subsample': 0.7039941853156342, 'colsample_bytree': 0.543314901701833, 'lambda_l1': 1.8871554288543453, 'lambda_l2': 0.07620691752046849}. Best is trial 21 with value: 23853.022562628455.\n"
     ]
    },
    {
     "name": "stdout",
     "output_type": "stream",
     "text": [
      "[LightGBM] [Warning] lambda_l1 is set=1.8871554288543453, reg_alpha=0.0 will be ignored. Current value: lambda_l1=1.8871554288543453\n",
      "[LightGBM] [Warning] lambda_l2 is set=0.07620691752046849, reg_lambda=0.0 will be ignored. Current value: lambda_l2=0.07620691752046849\n",
      "RMSE Overall:  24073.175 | MAE: 5813.946\n",
      "RMSE for low y_true (<= 100k): 10029.547 | MAE: 3468.025\n",
      "RMSE for high y_true (> 100k): 163172.391 | MAE: 133393.562\n",
      "[LightGBM] [Warning] lambda_l1 is set=4.431430644751475, reg_alpha=0.0 will be ignored. Current value: lambda_l1=4.431430644751475\n",
      "[LightGBM] [Warning] lambda_l2 is set=4.272069812072836, reg_lambda=0.0 will be ignored. Current value: lambda_l2=4.272069812072836\n",
      "[LightGBM] [Warning] lambda_l1 is set=4.431430644751475, reg_alpha=0.0 will be ignored. Current value: lambda_l1=4.431430644751475\n",
      "[LightGBM] [Warning] lambda_l2 is set=4.272069812072836, reg_lambda=0.0 will be ignored. Current value: lambda_l2=4.272069812072836\n",
      "[LightGBM] [Info] Total Bins 85015\n",
      "[LightGBM] [Info] Number of data points in the train set: 43199, number of used features: 395\n",
      "[LightGBM] [Info] Start training from score 5.909642\n"
     ]
    },
    {
     "name": "stderr",
     "output_type": "stream",
     "text": [
      "/Users/alexis/Projects/202502 Actuarial Loss Prediction/.env/lib/python3.10/site-packages/sklearn/utils/validation.py:2739: UserWarning: X does not have valid feature names, but LGBMRegressor was fitted with feature names\n",
      "  warnings.warn(\n"
     ]
    },
    {
     "name": "stdout",
     "output_type": "stream",
     "text": [
      "[LightGBM] [Warning] lambda_l1 is set=4.431430644751475, reg_alpha=0.0 will be ignored. Current value: lambda_l1=4.431430644751475\n",
      "[LightGBM] [Warning] lambda_l2 is set=4.272069812072836, reg_lambda=0.0 will be ignored. Current value: lambda_l2=4.272069812072836\n",
      "[LightGBM] [Warning] lambda_l1 is set=4.431430644751475, reg_alpha=0.0 will be ignored. Current value: lambda_l1=4.431430644751475\n",
      "[LightGBM] [Warning] lambda_l2 is set=4.272069812072836, reg_lambda=0.0 will be ignored. Current value: lambda_l2=4.272069812072836\n",
      "[LightGBM] [Warning] lambda_l1 is set=4.431430644751475, reg_alpha=0.0 will be ignored. Current value: lambda_l1=4.431430644751475\n",
      "[LightGBM] [Warning] lambda_l2 is set=4.272069812072836, reg_lambda=0.0 will be ignored. Current value: lambda_l2=4.272069812072836\n",
      "[LightGBM] [Info] Total Bins 85024\n",
      "[LightGBM] [Info] Number of data points in the train set: 43199, number of used features: 395\n",
      "[LightGBM] [Info] Start training from score 5.914034\n"
     ]
    },
    {
     "name": "stderr",
     "output_type": "stream",
     "text": [
      "/Users/alexis/Projects/202502 Actuarial Loss Prediction/.env/lib/python3.10/site-packages/sklearn/utils/validation.py:2739: UserWarning: X does not have valid feature names, but LGBMRegressor was fitted with feature names\n",
      "  warnings.warn(\n"
     ]
    },
    {
     "name": "stdout",
     "output_type": "stream",
     "text": [
      "[LightGBM] [Warning] lambda_l1 is set=4.431430644751475, reg_alpha=0.0 will be ignored. Current value: lambda_l1=4.431430644751475\n",
      "[LightGBM] [Warning] lambda_l2 is set=4.272069812072836, reg_lambda=0.0 will be ignored. Current value: lambda_l2=4.272069812072836\n",
      "[LightGBM] [Warning] lambda_l1 is set=4.431430644751475, reg_alpha=0.0 will be ignored. Current value: lambda_l1=4.431430644751475\n",
      "[LightGBM] [Warning] lambda_l2 is set=4.272069812072836, reg_lambda=0.0 will be ignored. Current value: lambda_l2=4.272069812072836\n",
      "[LightGBM] [Warning] lambda_l1 is set=4.431430644751475, reg_alpha=0.0 will be ignored. Current value: lambda_l1=4.431430644751475\n",
      "[LightGBM] [Warning] lambda_l2 is set=4.272069812072836, reg_lambda=0.0 will be ignored. Current value: lambda_l2=4.272069812072836\n",
      "[LightGBM] [Info] Total Bins 85026\n",
      "[LightGBM] [Info] Number of data points in the train set: 43199, number of used features: 395\n",
      "[LightGBM] [Info] Start training from score 5.945550\n"
     ]
    },
    {
     "name": "stderr",
     "output_type": "stream",
     "text": [
      "/Users/alexis/Projects/202502 Actuarial Loss Prediction/.env/lib/python3.10/site-packages/sklearn/utils/validation.py:2739: UserWarning: X does not have valid feature names, but LGBMRegressor was fitted with feature names\n",
      "  warnings.warn(\n"
     ]
    },
    {
     "name": "stdout",
     "output_type": "stream",
     "text": [
      "[LightGBM] [Warning] lambda_l1 is set=4.431430644751475, reg_alpha=0.0 will be ignored. Current value: lambda_l1=4.431430644751475\n",
      "[LightGBM] [Warning] lambda_l2 is set=4.272069812072836, reg_lambda=0.0 will be ignored. Current value: lambda_l2=4.272069812072836\n",
      "[LightGBM] [Warning] lambda_l1 is set=4.431430644751475, reg_alpha=0.0 will be ignored. Current value: lambda_l1=4.431430644751475\n",
      "[LightGBM] [Warning] lambda_l2 is set=4.272069812072836, reg_lambda=0.0 will be ignored. Current value: lambda_l2=4.272069812072836\n",
      "[LightGBM] [Warning] lambda_l1 is set=4.431430644751475, reg_alpha=0.0 will be ignored. Current value: lambda_l1=4.431430644751475\n",
      "[LightGBM] [Warning] lambda_l2 is set=4.272069812072836, reg_lambda=0.0 will be ignored. Current value: lambda_l2=4.272069812072836\n",
      "[LightGBM] [Info] Total Bins 85029\n",
      "[LightGBM] [Info] Number of data points in the train set: 43199, number of used features: 395\n",
      "[LightGBM] [Info] Start training from score 5.959808\n"
     ]
    },
    {
     "name": "stderr",
     "output_type": "stream",
     "text": [
      "/Users/alexis/Projects/202502 Actuarial Loss Prediction/.env/lib/python3.10/site-packages/sklearn/utils/validation.py:2739: UserWarning: X does not have valid feature names, but LGBMRegressor was fitted with feature names\n",
      "  warnings.warn(\n"
     ]
    },
    {
     "name": "stdout",
     "output_type": "stream",
     "text": [
      "[LightGBM] [Warning] lambda_l1 is set=4.431430644751475, reg_alpha=0.0 will be ignored. Current value: lambda_l1=4.431430644751475\n",
      "[LightGBM] [Warning] lambda_l2 is set=4.272069812072836, reg_lambda=0.0 will be ignored. Current value: lambda_l2=4.272069812072836\n",
      "[LightGBM] [Warning] lambda_l1 is set=4.431430644751475, reg_alpha=0.0 will be ignored. Current value: lambda_l1=4.431430644751475\n",
      "[LightGBM] [Warning] lambda_l2 is set=4.272069812072836, reg_lambda=0.0 will be ignored. Current value: lambda_l2=4.272069812072836\n",
      "[LightGBM] [Warning] lambda_l1 is set=4.431430644751475, reg_alpha=0.0 will be ignored. Current value: lambda_l1=4.431430644751475\n",
      "[LightGBM] [Warning] lambda_l2 is set=4.272069812072836, reg_lambda=0.0 will be ignored. Current value: lambda_l2=4.272069812072836\n",
      "[LightGBM] [Info] Total Bins 85028\n",
      "[LightGBM] [Info] Number of data points in the train set: 43200, number of used features: 395\n",
      "[LightGBM] [Info] Start training from score 5.940370\n"
     ]
    },
    {
     "name": "stderr",
     "output_type": "stream",
     "text": [
      "/Users/alexis/Projects/202502 Actuarial Loss Prediction/.env/lib/python3.10/site-packages/sklearn/utils/validation.py:2739: UserWarning: X does not have valid feature names, but LGBMRegressor was fitted with feature names\n",
      "  warnings.warn(\n",
      "[I 2025-03-02 18:56:17,846] Trial 28 finished with value: 23893.45183377283 and parameters: {'max_depth': 8, 'learning_rate': 0.10235023504128188, 'n_estimators': 600, 'min_child_weight': 9, 'subsample': 0.8480887150059457, 'colsample_bytree': 0.7529913510217863, 'lambda_l1': 4.431430644751475, 'lambda_l2': 4.272069812072836}. Best is trial 21 with value: 23853.022562628455.\n"
     ]
    },
    {
     "name": "stdout",
     "output_type": "stream",
     "text": [
      "[LightGBM] [Warning] lambda_l1 is set=4.431430644751475, reg_alpha=0.0 will be ignored. Current value: lambda_l1=4.431430644751475\n",
      "[LightGBM] [Warning] lambda_l2 is set=4.272069812072836, reg_lambda=0.0 will be ignored. Current value: lambda_l2=4.272069812072836\n",
      "RMSE Overall:  23893.452 | MAE: 5717.441\n",
      "RMSE for low y_true (<= 100k): 9705.378 | MAE: 3377.394\n",
      "RMSE for high y_true (> 100k): 162774.998 | MAE: 132977.598\n",
      "[LightGBM] [Warning] lambda_l1 is set=9.950091867420355, reg_alpha=0.0 will be ignored. Current value: lambda_l1=9.950091867420355\n",
      "[LightGBM] [Warning] lambda_l2 is set=2.9622599387055653, reg_lambda=0.0 will be ignored. Current value: lambda_l2=2.9622599387055653\n",
      "[LightGBM] [Warning] lambda_l1 is set=9.950091867420355, reg_alpha=0.0 will be ignored. Current value: lambda_l1=9.950091867420355\n",
      "[LightGBM] [Warning] lambda_l2 is set=2.9622599387055653, reg_lambda=0.0 will be ignored. Current value: lambda_l2=2.9622599387055653\n",
      "[LightGBM] [Info] Total Bins 85015\n",
      "[LightGBM] [Info] Number of data points in the train set: 43199, number of used features: 395\n",
      "[LightGBM] [Info] Start training from score 5.909642\n"
     ]
    },
    {
     "name": "stderr",
     "output_type": "stream",
     "text": [
      "/Users/alexis/Projects/202502 Actuarial Loss Prediction/.env/lib/python3.10/site-packages/sklearn/utils/validation.py:2739: UserWarning: X does not have valid feature names, but LGBMRegressor was fitted with feature names\n",
      "  warnings.warn(\n"
     ]
    },
    {
     "name": "stdout",
     "output_type": "stream",
     "text": [
      "[LightGBM] [Warning] lambda_l1 is set=9.950091867420355, reg_alpha=0.0 will be ignored. Current value: lambda_l1=9.950091867420355\n",
      "[LightGBM] [Warning] lambda_l2 is set=2.9622599387055653, reg_lambda=0.0 will be ignored. Current value: lambda_l2=2.9622599387055653\n",
      "[LightGBM] [Warning] lambda_l1 is set=9.950091867420355, reg_alpha=0.0 will be ignored. Current value: lambda_l1=9.950091867420355\n",
      "[LightGBM] [Warning] lambda_l2 is set=2.9622599387055653, reg_lambda=0.0 will be ignored. Current value: lambda_l2=2.9622599387055653\n",
      "[LightGBM] [Warning] lambda_l1 is set=9.950091867420355, reg_alpha=0.0 will be ignored. Current value: lambda_l1=9.950091867420355\n",
      "[LightGBM] [Warning] lambda_l2 is set=2.9622599387055653, reg_lambda=0.0 will be ignored. Current value: lambda_l2=2.9622599387055653\n",
      "[LightGBM] [Info] Total Bins 85024\n",
      "[LightGBM] [Info] Number of data points in the train set: 43199, number of used features: 395\n",
      "[LightGBM] [Info] Start training from score 5.914034\n"
     ]
    },
    {
     "name": "stderr",
     "output_type": "stream",
     "text": [
      "/Users/alexis/Projects/202502 Actuarial Loss Prediction/.env/lib/python3.10/site-packages/sklearn/utils/validation.py:2739: UserWarning: X does not have valid feature names, but LGBMRegressor was fitted with feature names\n",
      "  warnings.warn(\n"
     ]
    },
    {
     "name": "stdout",
     "output_type": "stream",
     "text": [
      "[LightGBM] [Warning] lambda_l1 is set=9.950091867420355, reg_alpha=0.0 will be ignored. Current value: lambda_l1=9.950091867420355\n",
      "[LightGBM] [Warning] lambda_l2 is set=2.9622599387055653, reg_lambda=0.0 will be ignored. Current value: lambda_l2=2.9622599387055653\n",
      "[LightGBM] [Warning] lambda_l1 is set=9.950091867420355, reg_alpha=0.0 will be ignored. Current value: lambda_l1=9.950091867420355\n",
      "[LightGBM] [Warning] lambda_l2 is set=2.9622599387055653, reg_lambda=0.0 will be ignored. Current value: lambda_l2=2.9622599387055653\n",
      "[LightGBM] [Warning] lambda_l1 is set=9.950091867420355, reg_alpha=0.0 will be ignored. Current value: lambda_l1=9.950091867420355\n",
      "[LightGBM] [Warning] lambda_l2 is set=2.9622599387055653, reg_lambda=0.0 will be ignored. Current value: lambda_l2=2.9622599387055653\n",
      "[LightGBM] [Info] Total Bins 85026\n",
      "[LightGBM] [Info] Number of data points in the train set: 43199, number of used features: 395\n",
      "[LightGBM] [Info] Start training from score 5.945550\n"
     ]
    },
    {
     "name": "stderr",
     "output_type": "stream",
     "text": [
      "/Users/alexis/Projects/202502 Actuarial Loss Prediction/.env/lib/python3.10/site-packages/sklearn/utils/validation.py:2739: UserWarning: X does not have valid feature names, but LGBMRegressor was fitted with feature names\n",
      "  warnings.warn(\n"
     ]
    },
    {
     "name": "stdout",
     "output_type": "stream",
     "text": [
      "[LightGBM] [Warning] lambda_l1 is set=9.950091867420355, reg_alpha=0.0 will be ignored. Current value: lambda_l1=9.950091867420355\n",
      "[LightGBM] [Warning] lambda_l2 is set=2.9622599387055653, reg_lambda=0.0 will be ignored. Current value: lambda_l2=2.9622599387055653\n",
      "[LightGBM] [Warning] lambda_l1 is set=9.950091867420355, reg_alpha=0.0 will be ignored. Current value: lambda_l1=9.950091867420355\n",
      "[LightGBM] [Warning] lambda_l2 is set=2.9622599387055653, reg_lambda=0.0 will be ignored. Current value: lambda_l2=2.9622599387055653\n",
      "[LightGBM] [Warning] lambda_l1 is set=9.950091867420355, reg_alpha=0.0 will be ignored. Current value: lambda_l1=9.950091867420355\n",
      "[LightGBM] [Warning] lambda_l2 is set=2.9622599387055653, reg_lambda=0.0 will be ignored. Current value: lambda_l2=2.9622599387055653\n",
      "[LightGBM] [Info] Total Bins 85029\n",
      "[LightGBM] [Info] Number of data points in the train set: 43199, number of used features: 395\n",
      "[LightGBM] [Info] Start training from score 5.959808\n"
     ]
    },
    {
     "name": "stderr",
     "output_type": "stream",
     "text": [
      "/Users/alexis/Projects/202502 Actuarial Loss Prediction/.env/lib/python3.10/site-packages/sklearn/utils/validation.py:2739: UserWarning: X does not have valid feature names, but LGBMRegressor was fitted with feature names\n",
      "  warnings.warn(\n"
     ]
    },
    {
     "name": "stdout",
     "output_type": "stream",
     "text": [
      "[LightGBM] [Warning] lambda_l1 is set=9.950091867420355, reg_alpha=0.0 will be ignored. Current value: lambda_l1=9.950091867420355\n",
      "[LightGBM] [Warning] lambda_l2 is set=2.9622599387055653, reg_lambda=0.0 will be ignored. Current value: lambda_l2=2.9622599387055653\n",
      "[LightGBM] [Warning] lambda_l1 is set=9.950091867420355, reg_alpha=0.0 will be ignored. Current value: lambda_l1=9.950091867420355\n",
      "[LightGBM] [Warning] lambda_l2 is set=2.9622599387055653, reg_lambda=0.0 will be ignored. Current value: lambda_l2=2.9622599387055653\n",
      "[LightGBM] [Warning] lambda_l1 is set=9.950091867420355, reg_alpha=0.0 will be ignored. Current value: lambda_l1=9.950091867420355\n",
      "[LightGBM] [Warning] lambda_l2 is set=2.9622599387055653, reg_lambda=0.0 will be ignored. Current value: lambda_l2=2.9622599387055653\n",
      "[LightGBM] [Info] Total Bins 85028\n",
      "[LightGBM] [Info] Number of data points in the train set: 43200, number of used features: 395\n",
      "[LightGBM] [Info] Start training from score 5.940370\n"
     ]
    },
    {
     "name": "stderr",
     "output_type": "stream",
     "text": [
      "/Users/alexis/Projects/202502 Actuarial Loss Prediction/.env/lib/python3.10/site-packages/sklearn/utils/validation.py:2739: UserWarning: X does not have valid feature names, but LGBMRegressor was fitted with feature names\n",
      "  warnings.warn(\n",
      "[I 2025-03-02 18:56:40,120] Trial 29 finished with value: 23908.90388612706 and parameters: {'max_depth': 12, 'learning_rate': 0.1309189166335609, 'n_estimators': 300, 'min_child_weight': 7, 'subsample': 0.501247159704613, 'colsample_bytree': 0.7489672081831672, 'lambda_l1': 9.950091867420355, 'lambda_l2': 2.9622599387055653}. Best is trial 21 with value: 23853.022562628455.\n"
     ]
    },
    {
     "name": "stdout",
     "output_type": "stream",
     "text": [
      "[LightGBM] [Warning] lambda_l1 is set=9.950091867420355, reg_alpha=0.0 will be ignored. Current value: lambda_l1=9.950091867420355\n",
      "[LightGBM] [Warning] lambda_l2 is set=2.9622599387055653, reg_lambda=0.0 will be ignored. Current value: lambda_l2=2.9622599387055653\n",
      "RMSE Overall:  23908.904 | MAE: 5675.396\n",
      "RMSE for low y_true (<= 100k): 9471.342 | MAE: 3318.939\n",
      "RMSE for high y_true (> 100k): 163648.051 | MAE: 133827.961\n",
      "[LightGBM] [Warning] lambda_l1 is set=3.26588829707755, reg_alpha=0.0 will be ignored. Current value: lambda_l1=3.26588829707755\n",
      "[LightGBM] [Warning] lambda_l2 is set=3.6380093741949704, reg_lambda=0.0 will be ignored. Current value: lambda_l2=3.6380093741949704\n",
      "[LightGBM] [Warning] lambda_l1 is set=3.26588829707755, reg_alpha=0.0 will be ignored. Current value: lambda_l1=3.26588829707755\n",
      "[LightGBM] [Warning] lambda_l2 is set=3.6380093741949704, reg_lambda=0.0 will be ignored. Current value: lambda_l2=3.6380093741949704\n",
      "[LightGBM] [Info] Total Bins 85015\n",
      "[LightGBM] [Info] Number of data points in the train set: 43199, number of used features: 395\n",
      "[LightGBM] [Info] Start training from score 5.909642\n",
      "[LightGBM] [Warning] No further splits with positive gain, best gain: -inf\n",
      "[LightGBM] [Warning] No further splits with positive gain, best gain: -inf\n",
      "[LightGBM] [Warning] No further splits with positive gain, best gain: -inf\n",
      "[LightGBM] [Warning] No further splits with positive gain, best gain: -inf\n"
     ]
    },
    {
     "name": "stderr",
     "output_type": "stream",
     "text": [
      "/Users/alexis/Projects/202502 Actuarial Loss Prediction/.env/lib/python3.10/site-packages/sklearn/utils/validation.py:2739: UserWarning: X does not have valid feature names, but LGBMRegressor was fitted with feature names\n",
      "  warnings.warn(\n"
     ]
    },
    {
     "name": "stdout",
     "output_type": "stream",
     "text": [
      "[LightGBM] [Warning] lambda_l1 is set=3.26588829707755, reg_alpha=0.0 will be ignored. Current value: lambda_l1=3.26588829707755\n",
      "[LightGBM] [Warning] lambda_l2 is set=3.6380093741949704, reg_lambda=0.0 will be ignored. Current value: lambda_l2=3.6380093741949704\n",
      "[LightGBM] [Warning] lambda_l1 is set=3.26588829707755, reg_alpha=0.0 will be ignored. Current value: lambda_l1=3.26588829707755\n",
      "[LightGBM] [Warning] lambda_l2 is set=3.6380093741949704, reg_lambda=0.0 will be ignored. Current value: lambda_l2=3.6380093741949704\n",
      "[LightGBM] [Warning] lambda_l1 is set=3.26588829707755, reg_alpha=0.0 will be ignored. Current value: lambda_l1=3.26588829707755\n",
      "[LightGBM] [Warning] lambda_l2 is set=3.6380093741949704, reg_lambda=0.0 will be ignored. Current value: lambda_l2=3.6380093741949704\n",
      "[LightGBM] [Info] Total Bins 85024\n",
      "[LightGBM] [Info] Number of data points in the train set: 43199, number of used features: 395\n",
      "[LightGBM] [Info] Start training from score 5.914034\n"
     ]
    },
    {
     "name": "stderr",
     "output_type": "stream",
     "text": [
      "/Users/alexis/Projects/202502 Actuarial Loss Prediction/.env/lib/python3.10/site-packages/sklearn/utils/validation.py:2739: UserWarning: X does not have valid feature names, but LGBMRegressor was fitted with feature names\n",
      "  warnings.warn(\n"
     ]
    },
    {
     "name": "stdout",
     "output_type": "stream",
     "text": [
      "[LightGBM] [Warning] lambda_l1 is set=3.26588829707755, reg_alpha=0.0 will be ignored. Current value: lambda_l1=3.26588829707755\n",
      "[LightGBM] [Warning] lambda_l2 is set=3.6380093741949704, reg_lambda=0.0 will be ignored. Current value: lambda_l2=3.6380093741949704\n",
      "[LightGBM] [Warning] lambda_l1 is set=3.26588829707755, reg_alpha=0.0 will be ignored. Current value: lambda_l1=3.26588829707755\n",
      "[LightGBM] [Warning] lambda_l2 is set=3.6380093741949704, reg_lambda=0.0 will be ignored. Current value: lambda_l2=3.6380093741949704\n",
      "[LightGBM] [Warning] lambda_l1 is set=3.26588829707755, reg_alpha=0.0 will be ignored. Current value: lambda_l1=3.26588829707755\n",
      "[LightGBM] [Warning] lambda_l2 is set=3.6380093741949704, reg_lambda=0.0 will be ignored. Current value: lambda_l2=3.6380093741949704\n",
      "[LightGBM] [Info] Total Bins 85026\n",
      "[LightGBM] [Info] Number of data points in the train set: 43199, number of used features: 395\n",
      "[LightGBM] [Info] Start training from score 5.945550\n",
      "[LightGBM] [Warning] No further splits with positive gain, best gain: -inf\n"
     ]
    },
    {
     "name": "stderr",
     "output_type": "stream",
     "text": [
      "/Users/alexis/Projects/202502 Actuarial Loss Prediction/.env/lib/python3.10/site-packages/sklearn/utils/validation.py:2739: UserWarning: X does not have valid feature names, but LGBMRegressor was fitted with feature names\n",
      "  warnings.warn(\n"
     ]
    },
    {
     "name": "stdout",
     "output_type": "stream",
     "text": [
      "[LightGBM] [Warning] lambda_l1 is set=3.26588829707755, reg_alpha=0.0 will be ignored. Current value: lambda_l1=3.26588829707755\n",
      "[LightGBM] [Warning] lambda_l2 is set=3.6380093741949704, reg_lambda=0.0 will be ignored. Current value: lambda_l2=3.6380093741949704\n",
      "[LightGBM] [Warning] lambda_l1 is set=3.26588829707755, reg_alpha=0.0 will be ignored. Current value: lambda_l1=3.26588829707755\n",
      "[LightGBM] [Warning] lambda_l2 is set=3.6380093741949704, reg_lambda=0.0 will be ignored. Current value: lambda_l2=3.6380093741949704\n",
      "[LightGBM] [Warning] lambda_l1 is set=3.26588829707755, reg_alpha=0.0 will be ignored. Current value: lambda_l1=3.26588829707755\n",
      "[LightGBM] [Warning] lambda_l2 is set=3.6380093741949704, reg_lambda=0.0 will be ignored. Current value: lambda_l2=3.6380093741949704\n",
      "[LightGBM] [Info] Total Bins 85029\n",
      "[LightGBM] [Info] Number of data points in the train set: 43199, number of used features: 395\n",
      "[LightGBM] [Info] Start training from score 5.959808\n",
      "[LightGBM] [Warning] No further splits with positive gain, best gain: -inf\n",
      "[LightGBM] [Warning] No further splits with positive gain, best gain: -inf\n",
      "[LightGBM] [Warning] No further splits with positive gain, best gain: -inf\n",
      "[LightGBM] [Warning] No further splits with positive gain, best gain: -inf\n"
     ]
    },
    {
     "name": "stderr",
     "output_type": "stream",
     "text": [
      "/Users/alexis/Projects/202502 Actuarial Loss Prediction/.env/lib/python3.10/site-packages/sklearn/utils/validation.py:2739: UserWarning: X does not have valid feature names, but LGBMRegressor was fitted with feature names\n",
      "  warnings.warn(\n"
     ]
    },
    {
     "name": "stdout",
     "output_type": "stream",
     "text": [
      "[LightGBM] [Warning] lambda_l1 is set=3.26588829707755, reg_alpha=0.0 will be ignored. Current value: lambda_l1=3.26588829707755\n",
      "[LightGBM] [Warning] lambda_l2 is set=3.6380093741949704, reg_lambda=0.0 will be ignored. Current value: lambda_l2=3.6380093741949704\n",
      "[LightGBM] [Warning] lambda_l1 is set=3.26588829707755, reg_alpha=0.0 will be ignored. Current value: lambda_l1=3.26588829707755\n",
      "[LightGBM] [Warning] lambda_l2 is set=3.6380093741949704, reg_lambda=0.0 will be ignored. Current value: lambda_l2=3.6380093741949704\n",
      "[LightGBM] [Warning] lambda_l1 is set=3.26588829707755, reg_alpha=0.0 will be ignored. Current value: lambda_l1=3.26588829707755\n",
      "[LightGBM] [Warning] lambda_l2 is set=3.6380093741949704, reg_lambda=0.0 will be ignored. Current value: lambda_l2=3.6380093741949704\n",
      "[LightGBM] [Info] Total Bins 85028\n",
      "[LightGBM] [Info] Number of data points in the train set: 43200, number of used features: 395\n",
      "[LightGBM] [Info] Start training from score 5.940370\n"
     ]
    },
    {
     "name": "stderr",
     "output_type": "stream",
     "text": [
      "/Users/alexis/Projects/202502 Actuarial Loss Prediction/.env/lib/python3.10/site-packages/sklearn/utils/validation.py:2739: UserWarning: X does not have valid feature names, but LGBMRegressor was fitted with feature names\n",
      "  warnings.warn(\n",
      "[I 2025-03-02 18:57:30,980] Trial 30 finished with value: 23971.982427211493 and parameters: {'max_depth': 6, 'learning_rate': 0.09231745157909571, 'n_estimators': 900, 'min_child_weight': 4, 'subsample': 0.6331119941062888, 'colsample_bytree': 0.672846519559568, 'lambda_l1': 3.26588829707755, 'lambda_l2': 3.6380093741949704}. Best is trial 21 with value: 23853.022562628455.\n"
     ]
    },
    {
     "name": "stdout",
     "output_type": "stream",
     "text": [
      "[LightGBM] [Warning] lambda_l1 is set=3.26588829707755, reg_alpha=0.0 will be ignored. Current value: lambda_l1=3.26588829707755\n",
      "[LightGBM] [Warning] lambda_l2 is set=3.6380093741949704, reg_lambda=0.0 will be ignored. Current value: lambda_l2=3.6380093741949704\n",
      "RMSE Overall:  23971.982 | MAE: 5759.556\n",
      "RMSE for low y_true (<= 100k): 9910.647 | MAE: 3422.555\n",
      "RMSE for high y_true (> 100k): 162741.827 | MAE: 132854.076\n",
      "[LightGBM] [Warning] lambda_l1 is set=0.9732192704080953, reg_alpha=0.0 will be ignored. Current value: lambda_l1=0.9732192704080953\n",
      "[LightGBM] [Warning] lambda_l2 is set=8.773043243768084, reg_lambda=0.0 will be ignored. Current value: lambda_l2=8.773043243768084\n",
      "[LightGBM] [Warning] lambda_l1 is set=0.9732192704080953, reg_alpha=0.0 will be ignored. Current value: lambda_l1=0.9732192704080953\n",
      "[LightGBM] [Warning] lambda_l2 is set=8.773043243768084, reg_lambda=0.0 will be ignored. Current value: lambda_l2=8.773043243768084\n",
      "[LightGBM] [Info] Total Bins 85015\n",
      "[LightGBM] [Info] Number of data points in the train set: 43199, number of used features: 395\n",
      "[LightGBM] [Info] Start training from score 5.909642\n"
     ]
    },
    {
     "name": "stderr",
     "output_type": "stream",
     "text": [
      "/Users/alexis/Projects/202502 Actuarial Loss Prediction/.env/lib/python3.10/site-packages/sklearn/utils/validation.py:2739: UserWarning: X does not have valid feature names, but LGBMRegressor was fitted with feature names\n",
      "  warnings.warn(\n"
     ]
    },
    {
     "name": "stdout",
     "output_type": "stream",
     "text": [
      "[LightGBM] [Warning] lambda_l1 is set=0.9732192704080953, reg_alpha=0.0 will be ignored. Current value: lambda_l1=0.9732192704080953\n",
      "[LightGBM] [Warning] lambda_l2 is set=8.773043243768084, reg_lambda=0.0 will be ignored. Current value: lambda_l2=8.773043243768084\n",
      "[LightGBM] [Warning] lambda_l1 is set=0.9732192704080953, reg_alpha=0.0 will be ignored. Current value: lambda_l1=0.9732192704080953\n",
      "[LightGBM] [Warning] lambda_l2 is set=8.773043243768084, reg_lambda=0.0 will be ignored. Current value: lambda_l2=8.773043243768084\n",
      "[LightGBM] [Warning] lambda_l1 is set=0.9732192704080953, reg_alpha=0.0 will be ignored. Current value: lambda_l1=0.9732192704080953\n",
      "[LightGBM] [Warning] lambda_l2 is set=8.773043243768084, reg_lambda=0.0 will be ignored. Current value: lambda_l2=8.773043243768084\n",
      "[LightGBM] [Info] Total Bins 85024\n",
      "[LightGBM] [Info] Number of data points in the train set: 43199, number of used features: 395\n",
      "[LightGBM] [Info] Start training from score 5.914034\n"
     ]
    },
    {
     "name": "stderr",
     "output_type": "stream",
     "text": [
      "/Users/alexis/Projects/202502 Actuarial Loss Prediction/.env/lib/python3.10/site-packages/sklearn/utils/validation.py:2739: UserWarning: X does not have valid feature names, but LGBMRegressor was fitted with feature names\n",
      "  warnings.warn(\n"
     ]
    },
    {
     "name": "stdout",
     "output_type": "stream",
     "text": [
      "[LightGBM] [Warning] lambda_l1 is set=0.9732192704080953, reg_alpha=0.0 will be ignored. Current value: lambda_l1=0.9732192704080953\n",
      "[LightGBM] [Warning] lambda_l2 is set=8.773043243768084, reg_lambda=0.0 will be ignored. Current value: lambda_l2=8.773043243768084\n",
      "[LightGBM] [Warning] lambda_l1 is set=0.9732192704080953, reg_alpha=0.0 will be ignored. Current value: lambda_l1=0.9732192704080953\n",
      "[LightGBM] [Warning] lambda_l2 is set=8.773043243768084, reg_lambda=0.0 will be ignored. Current value: lambda_l2=8.773043243768084\n",
      "[LightGBM] [Warning] lambda_l1 is set=0.9732192704080953, reg_alpha=0.0 will be ignored. Current value: lambda_l1=0.9732192704080953\n",
      "[LightGBM] [Warning] lambda_l2 is set=8.773043243768084, reg_lambda=0.0 will be ignored. Current value: lambda_l2=8.773043243768084\n",
      "[LightGBM] [Info] Total Bins 85026\n",
      "[LightGBM] [Info] Number of data points in the train set: 43199, number of used features: 395\n",
      "[LightGBM] [Info] Start training from score 5.945550\n"
     ]
    },
    {
     "name": "stderr",
     "output_type": "stream",
     "text": [
      "/Users/alexis/Projects/202502 Actuarial Loss Prediction/.env/lib/python3.10/site-packages/sklearn/utils/validation.py:2739: UserWarning: X does not have valid feature names, but LGBMRegressor was fitted with feature names\n",
      "  warnings.warn(\n"
     ]
    },
    {
     "name": "stdout",
     "output_type": "stream",
     "text": [
      "[LightGBM] [Warning] lambda_l1 is set=0.9732192704080953, reg_alpha=0.0 will be ignored. Current value: lambda_l1=0.9732192704080953\n",
      "[LightGBM] [Warning] lambda_l2 is set=8.773043243768084, reg_lambda=0.0 will be ignored. Current value: lambda_l2=8.773043243768084\n",
      "[LightGBM] [Warning] lambda_l1 is set=0.9732192704080953, reg_alpha=0.0 will be ignored. Current value: lambda_l1=0.9732192704080953\n",
      "[LightGBM] [Warning] lambda_l2 is set=8.773043243768084, reg_lambda=0.0 will be ignored. Current value: lambda_l2=8.773043243768084\n",
      "[LightGBM] [Warning] lambda_l1 is set=0.9732192704080953, reg_alpha=0.0 will be ignored. Current value: lambda_l1=0.9732192704080953\n",
      "[LightGBM] [Warning] lambda_l2 is set=8.773043243768084, reg_lambda=0.0 will be ignored. Current value: lambda_l2=8.773043243768084\n",
      "[LightGBM] [Info] Total Bins 85029\n",
      "[LightGBM] [Info] Number of data points in the train set: 43199, number of used features: 395\n",
      "[LightGBM] [Info] Start training from score 5.959808\n"
     ]
    },
    {
     "name": "stderr",
     "output_type": "stream",
     "text": [
      "/Users/alexis/Projects/202502 Actuarial Loss Prediction/.env/lib/python3.10/site-packages/sklearn/utils/validation.py:2739: UserWarning: X does not have valid feature names, but LGBMRegressor was fitted with feature names\n",
      "  warnings.warn(\n"
     ]
    },
    {
     "name": "stdout",
     "output_type": "stream",
     "text": [
      "[LightGBM] [Warning] lambda_l1 is set=0.9732192704080953, reg_alpha=0.0 will be ignored. Current value: lambda_l1=0.9732192704080953\n",
      "[LightGBM] [Warning] lambda_l2 is set=8.773043243768084, reg_lambda=0.0 will be ignored. Current value: lambda_l2=8.773043243768084\n",
      "[LightGBM] [Warning] lambda_l1 is set=0.9732192704080953, reg_alpha=0.0 will be ignored. Current value: lambda_l1=0.9732192704080953\n",
      "[LightGBM] [Warning] lambda_l2 is set=8.773043243768084, reg_lambda=0.0 will be ignored. Current value: lambda_l2=8.773043243768084\n",
      "[LightGBM] [Warning] lambda_l1 is set=0.9732192704080953, reg_alpha=0.0 will be ignored. Current value: lambda_l1=0.9732192704080953\n",
      "[LightGBM] [Warning] lambda_l2 is set=8.773043243768084, reg_lambda=0.0 will be ignored. Current value: lambda_l2=8.773043243768084\n",
      "[LightGBM] [Info] Total Bins 85028\n",
      "[LightGBM] [Info] Number of data points in the train set: 43200, number of used features: 395\n",
      "[LightGBM] [Info] Start training from score 5.940370\n"
     ]
    },
    {
     "name": "stderr",
     "output_type": "stream",
     "text": [
      "/Users/alexis/Projects/202502 Actuarial Loss Prediction/.env/lib/python3.10/site-packages/sklearn/utils/validation.py:2739: UserWarning: X does not have valid feature names, but LGBMRegressor was fitted with feature names\n",
      "  warnings.warn(\n",
      "[I 2025-03-02 18:57:48,253] Trial 31 finished with value: 23882.49480164726 and parameters: {'max_depth': 10, 'learning_rate': 0.1224753816249068, 'n_estimators': 200, 'min_child_weight': 12, 'subsample': 0.7707044146912992, 'colsample_bytree': 0.7063925812901664, 'lambda_l1': 0.9732192704080953, 'lambda_l2': 8.773043243768084}. Best is trial 21 with value: 23853.022562628455.\n"
     ]
    },
    {
     "name": "stdout",
     "output_type": "stream",
     "text": [
      "[LightGBM] [Warning] lambda_l1 is set=0.9732192704080953, reg_alpha=0.0 will be ignored. Current value: lambda_l1=0.9732192704080953\n",
      "[LightGBM] [Warning] lambda_l2 is set=8.773043243768084, reg_lambda=0.0 will be ignored. Current value: lambda_l2=8.773043243768084\n",
      "RMSE Overall:  23882.495 | MAE: 5662.945\n",
      "RMSE for low y_true (<= 100k): 9535.849 | MAE: 3313.197\n",
      "RMSE for high y_true (> 100k): 163230.219 | MAE: 133450.688\n",
      "[LightGBM] [Warning] lambda_l1 is set=1.9633662413198514, reg_alpha=0.0 will be ignored. Current value: lambda_l1=1.9633662413198514\n",
      "[LightGBM] [Warning] lambda_l2 is set=8.973808528197504, reg_lambda=0.0 will be ignored. Current value: lambda_l2=8.973808528197504\n",
      "[LightGBM] [Warning] lambda_l1 is set=1.9633662413198514, reg_alpha=0.0 will be ignored. Current value: lambda_l1=1.9633662413198514\n",
      "[LightGBM] [Warning] lambda_l2 is set=8.973808528197504, reg_lambda=0.0 will be ignored. Current value: lambda_l2=8.973808528197504\n",
      "[LightGBM] [Info] Total Bins 85015\n",
      "[LightGBM] [Info] Number of data points in the train set: 43199, number of used features: 395\n",
      "[LightGBM] [Info] Start training from score 5.909642\n"
     ]
    },
    {
     "name": "stderr",
     "output_type": "stream",
     "text": [
      "/Users/alexis/Projects/202502 Actuarial Loss Prediction/.env/lib/python3.10/site-packages/sklearn/utils/validation.py:2739: UserWarning: X does not have valid feature names, but LGBMRegressor was fitted with feature names\n",
      "  warnings.warn(\n"
     ]
    },
    {
     "name": "stdout",
     "output_type": "stream",
     "text": [
      "[LightGBM] [Warning] lambda_l1 is set=1.9633662413198514, reg_alpha=0.0 will be ignored. Current value: lambda_l1=1.9633662413198514\n",
      "[LightGBM] [Warning] lambda_l2 is set=8.973808528197504, reg_lambda=0.0 will be ignored. Current value: lambda_l2=8.973808528197504\n",
      "[LightGBM] [Warning] lambda_l1 is set=1.9633662413198514, reg_alpha=0.0 will be ignored. Current value: lambda_l1=1.9633662413198514\n",
      "[LightGBM] [Warning] lambda_l2 is set=8.973808528197504, reg_lambda=0.0 will be ignored. Current value: lambda_l2=8.973808528197504\n",
      "[LightGBM] [Warning] lambda_l1 is set=1.9633662413198514, reg_alpha=0.0 will be ignored. Current value: lambda_l1=1.9633662413198514\n",
      "[LightGBM] [Warning] lambda_l2 is set=8.973808528197504, reg_lambda=0.0 will be ignored. Current value: lambda_l2=8.973808528197504\n",
      "[LightGBM] [Info] Total Bins 85024\n",
      "[LightGBM] [Info] Number of data points in the train set: 43199, number of used features: 395\n",
      "[LightGBM] [Info] Start training from score 5.914034\n"
     ]
    },
    {
     "name": "stderr",
     "output_type": "stream",
     "text": [
      "/Users/alexis/Projects/202502 Actuarial Loss Prediction/.env/lib/python3.10/site-packages/sklearn/utils/validation.py:2739: UserWarning: X does not have valid feature names, but LGBMRegressor was fitted with feature names\n",
      "  warnings.warn(\n"
     ]
    },
    {
     "name": "stdout",
     "output_type": "stream",
     "text": [
      "[LightGBM] [Warning] lambda_l1 is set=1.9633662413198514, reg_alpha=0.0 will be ignored. Current value: lambda_l1=1.9633662413198514\n",
      "[LightGBM] [Warning] lambda_l2 is set=8.973808528197504, reg_lambda=0.0 will be ignored. Current value: lambda_l2=8.973808528197504\n",
      "[LightGBM] [Warning] lambda_l1 is set=1.9633662413198514, reg_alpha=0.0 will be ignored. Current value: lambda_l1=1.9633662413198514\n",
      "[LightGBM] [Warning] lambda_l2 is set=8.973808528197504, reg_lambda=0.0 will be ignored. Current value: lambda_l2=8.973808528197504\n",
      "[LightGBM] [Warning] lambda_l1 is set=1.9633662413198514, reg_alpha=0.0 will be ignored. Current value: lambda_l1=1.9633662413198514\n",
      "[LightGBM] [Warning] lambda_l2 is set=8.973808528197504, reg_lambda=0.0 will be ignored. Current value: lambda_l2=8.973808528197504\n",
      "[LightGBM] [Info] Total Bins 85026\n",
      "[LightGBM] [Info] Number of data points in the train set: 43199, number of used features: 395\n",
      "[LightGBM] [Info] Start training from score 5.945550\n"
     ]
    },
    {
     "name": "stderr",
     "output_type": "stream",
     "text": [
      "/Users/alexis/Projects/202502 Actuarial Loss Prediction/.env/lib/python3.10/site-packages/sklearn/utils/validation.py:2739: UserWarning: X does not have valid feature names, but LGBMRegressor was fitted with feature names\n",
      "  warnings.warn(\n"
     ]
    },
    {
     "name": "stdout",
     "output_type": "stream",
     "text": [
      "[LightGBM] [Warning] lambda_l1 is set=1.9633662413198514, reg_alpha=0.0 will be ignored. Current value: lambda_l1=1.9633662413198514\n",
      "[LightGBM] [Warning] lambda_l2 is set=8.973808528197504, reg_lambda=0.0 will be ignored. Current value: lambda_l2=8.973808528197504\n",
      "[LightGBM] [Warning] lambda_l1 is set=1.9633662413198514, reg_alpha=0.0 will be ignored. Current value: lambda_l1=1.9633662413198514\n",
      "[LightGBM] [Warning] lambda_l2 is set=8.973808528197504, reg_lambda=0.0 will be ignored. Current value: lambda_l2=8.973808528197504\n",
      "[LightGBM] [Warning] lambda_l1 is set=1.9633662413198514, reg_alpha=0.0 will be ignored. Current value: lambda_l1=1.9633662413198514\n",
      "[LightGBM] [Warning] lambda_l2 is set=8.973808528197504, reg_lambda=0.0 will be ignored. Current value: lambda_l2=8.973808528197504\n",
      "[LightGBM] [Info] Total Bins 85029\n",
      "[LightGBM] [Info] Number of data points in the train set: 43199, number of used features: 395\n",
      "[LightGBM] [Info] Start training from score 5.959808\n"
     ]
    },
    {
     "name": "stderr",
     "output_type": "stream",
     "text": [
      "/Users/alexis/Projects/202502 Actuarial Loss Prediction/.env/lib/python3.10/site-packages/sklearn/utils/validation.py:2739: UserWarning: X does not have valid feature names, but LGBMRegressor was fitted with feature names\n",
      "  warnings.warn(\n"
     ]
    },
    {
     "name": "stdout",
     "output_type": "stream",
     "text": [
      "[LightGBM] [Warning] lambda_l1 is set=1.9633662413198514, reg_alpha=0.0 will be ignored. Current value: lambda_l1=1.9633662413198514\n",
      "[LightGBM] [Warning] lambda_l2 is set=8.973808528197504, reg_lambda=0.0 will be ignored. Current value: lambda_l2=8.973808528197504\n",
      "[LightGBM] [Warning] lambda_l1 is set=1.9633662413198514, reg_alpha=0.0 will be ignored. Current value: lambda_l1=1.9633662413198514\n",
      "[LightGBM] [Warning] lambda_l2 is set=8.973808528197504, reg_lambda=0.0 will be ignored. Current value: lambda_l2=8.973808528197504\n",
      "[LightGBM] [Warning] lambda_l1 is set=1.9633662413198514, reg_alpha=0.0 will be ignored. Current value: lambda_l1=1.9633662413198514\n",
      "[LightGBM] [Warning] lambda_l2 is set=8.973808528197504, reg_lambda=0.0 will be ignored. Current value: lambda_l2=8.973808528197504\n",
      "[LightGBM] [Info] Total Bins 85028\n",
      "[LightGBM] [Info] Number of data points in the train set: 43200, number of used features: 395\n",
      "[LightGBM] [Info] Start training from score 5.940370\n"
     ]
    },
    {
     "name": "stderr",
     "output_type": "stream",
     "text": [
      "/Users/alexis/Projects/202502 Actuarial Loss Prediction/.env/lib/python3.10/site-packages/sklearn/utils/validation.py:2739: UserWarning: X does not have valid feature names, but LGBMRegressor was fitted with feature names\n",
      "  warnings.warn(\n",
      "[I 2025-03-02 18:58:05,413] Trial 32 finished with value: 23902.149466206698 and parameters: {'max_depth': 10, 'learning_rate': 0.11023736057534292, 'n_estimators': 200, 'min_child_weight': 13, 'subsample': 0.7585393067196997, 'colsample_bytree': 0.5970551698522931, 'lambda_l1': 1.9633662413198514, 'lambda_l2': 8.973808528197504}. Best is trial 21 with value: 23853.022562628455.\n"
     ]
    },
    {
     "name": "stdout",
     "output_type": "stream",
     "text": [
      "[LightGBM] [Warning] lambda_l1 is set=1.9633662413198514, reg_alpha=0.0 will be ignored. Current value: lambda_l1=1.9633662413198514\n",
      "[LightGBM] [Warning] lambda_l2 is set=8.973808528197504, reg_lambda=0.0 will be ignored. Current value: lambda_l2=8.973808528197504\n",
      "RMSE Overall:  23902.149 | MAE: 5659.098\n",
      "RMSE for low y_true (<= 100k): 9521.499 | MAE: 3304.300\n",
      "RMSE for high y_true (> 100k): 163434.979 | MAE: 133721.484\n",
      "[LightGBM] [Warning] lambda_l1 is set=0.8042821660851418, reg_alpha=0.0 will be ignored. Current value: lambda_l1=0.8042821660851418\n",
      "[LightGBM] [Warning] lambda_l2 is set=8.109573468009915, reg_lambda=0.0 will be ignored. Current value: lambda_l2=8.109573468009915\n",
      "[LightGBM] [Warning] lambda_l1 is set=0.8042821660851418, reg_alpha=0.0 will be ignored. Current value: lambda_l1=0.8042821660851418\n",
      "[LightGBM] [Warning] lambda_l2 is set=8.109573468009915, reg_lambda=0.0 will be ignored. Current value: lambda_l2=8.109573468009915\n",
      "[LightGBM] [Info] Total Bins 85015\n",
      "[LightGBM] [Info] Number of data points in the train set: 43199, number of used features: 395\n",
      "[LightGBM] [Info] Start training from score 5.909642\n"
     ]
    },
    {
     "name": "stderr",
     "output_type": "stream",
     "text": [
      "/Users/alexis/Projects/202502 Actuarial Loss Prediction/.env/lib/python3.10/site-packages/sklearn/utils/validation.py:2739: UserWarning: X does not have valid feature names, but LGBMRegressor was fitted with feature names\n",
      "  warnings.warn(\n"
     ]
    },
    {
     "name": "stdout",
     "output_type": "stream",
     "text": [
      "[LightGBM] [Warning] lambda_l1 is set=0.8042821660851418, reg_alpha=0.0 will be ignored. Current value: lambda_l1=0.8042821660851418\n",
      "[LightGBM] [Warning] lambda_l2 is set=8.109573468009915, reg_lambda=0.0 will be ignored. Current value: lambda_l2=8.109573468009915\n",
      "[LightGBM] [Warning] lambda_l1 is set=0.8042821660851418, reg_alpha=0.0 will be ignored. Current value: lambda_l1=0.8042821660851418\n",
      "[LightGBM] [Warning] lambda_l2 is set=8.109573468009915, reg_lambda=0.0 will be ignored. Current value: lambda_l2=8.109573468009915\n",
      "[LightGBM] [Warning] lambda_l1 is set=0.8042821660851418, reg_alpha=0.0 will be ignored. Current value: lambda_l1=0.8042821660851418\n",
      "[LightGBM] [Warning] lambda_l2 is set=8.109573468009915, reg_lambda=0.0 will be ignored. Current value: lambda_l2=8.109573468009915\n",
      "[LightGBM] [Info] Total Bins 85024\n",
      "[LightGBM] [Info] Number of data points in the train set: 43199, number of used features: 395\n",
      "[LightGBM] [Info] Start training from score 5.914034\n"
     ]
    },
    {
     "name": "stderr",
     "output_type": "stream",
     "text": [
      "/Users/alexis/Projects/202502 Actuarial Loss Prediction/.env/lib/python3.10/site-packages/sklearn/utils/validation.py:2739: UserWarning: X does not have valid feature names, but LGBMRegressor was fitted with feature names\n",
      "  warnings.warn(\n"
     ]
    },
    {
     "name": "stdout",
     "output_type": "stream",
     "text": [
      "[LightGBM] [Warning] lambda_l1 is set=0.8042821660851418, reg_alpha=0.0 will be ignored. Current value: lambda_l1=0.8042821660851418\n",
      "[LightGBM] [Warning] lambda_l2 is set=8.109573468009915, reg_lambda=0.0 will be ignored. Current value: lambda_l2=8.109573468009915\n",
      "[LightGBM] [Warning] lambda_l1 is set=0.8042821660851418, reg_alpha=0.0 will be ignored. Current value: lambda_l1=0.8042821660851418\n",
      "[LightGBM] [Warning] lambda_l2 is set=8.109573468009915, reg_lambda=0.0 will be ignored. Current value: lambda_l2=8.109573468009915\n",
      "[LightGBM] [Warning] lambda_l1 is set=0.8042821660851418, reg_alpha=0.0 will be ignored. Current value: lambda_l1=0.8042821660851418\n",
      "[LightGBM] [Warning] lambda_l2 is set=8.109573468009915, reg_lambda=0.0 will be ignored. Current value: lambda_l2=8.109573468009915\n",
      "[LightGBM] [Info] Total Bins 85026\n",
      "[LightGBM] [Info] Number of data points in the train set: 43199, number of used features: 395\n",
      "[LightGBM] [Info] Start training from score 5.945550\n"
     ]
    },
    {
     "name": "stderr",
     "output_type": "stream",
     "text": [
      "/Users/alexis/Projects/202502 Actuarial Loss Prediction/.env/lib/python3.10/site-packages/sklearn/utils/validation.py:2739: UserWarning: X does not have valid feature names, but LGBMRegressor was fitted with feature names\n",
      "  warnings.warn(\n"
     ]
    },
    {
     "name": "stdout",
     "output_type": "stream",
     "text": [
      "[LightGBM] [Warning] lambda_l1 is set=0.8042821660851418, reg_alpha=0.0 will be ignored. Current value: lambda_l1=0.8042821660851418\n",
      "[LightGBM] [Warning] lambda_l2 is set=8.109573468009915, reg_lambda=0.0 will be ignored. Current value: lambda_l2=8.109573468009915\n",
      "[LightGBM] [Warning] lambda_l1 is set=0.8042821660851418, reg_alpha=0.0 will be ignored. Current value: lambda_l1=0.8042821660851418\n",
      "[LightGBM] [Warning] lambda_l2 is set=8.109573468009915, reg_lambda=0.0 will be ignored. Current value: lambda_l2=8.109573468009915\n",
      "[LightGBM] [Warning] lambda_l1 is set=0.8042821660851418, reg_alpha=0.0 will be ignored. Current value: lambda_l1=0.8042821660851418\n",
      "[LightGBM] [Warning] lambda_l2 is set=8.109573468009915, reg_lambda=0.0 will be ignored. Current value: lambda_l2=8.109573468009915\n",
      "[LightGBM] [Info] Total Bins 85029\n",
      "[LightGBM] [Info] Number of data points in the train set: 43199, number of used features: 395\n",
      "[LightGBM] [Info] Start training from score 5.959808\n"
     ]
    },
    {
     "name": "stderr",
     "output_type": "stream",
     "text": [
      "/Users/alexis/Projects/202502 Actuarial Loss Prediction/.env/lib/python3.10/site-packages/sklearn/utils/validation.py:2739: UserWarning: X does not have valid feature names, but LGBMRegressor was fitted with feature names\n",
      "  warnings.warn(\n"
     ]
    },
    {
     "name": "stdout",
     "output_type": "stream",
     "text": [
      "[LightGBM] [Warning] lambda_l1 is set=0.8042821660851418, reg_alpha=0.0 will be ignored. Current value: lambda_l1=0.8042821660851418\n",
      "[LightGBM] [Warning] lambda_l2 is set=8.109573468009915, reg_lambda=0.0 will be ignored. Current value: lambda_l2=8.109573468009915\n",
      "[LightGBM] [Warning] lambda_l1 is set=0.8042821660851418, reg_alpha=0.0 will be ignored. Current value: lambda_l1=0.8042821660851418\n",
      "[LightGBM] [Warning] lambda_l2 is set=8.109573468009915, reg_lambda=0.0 will be ignored. Current value: lambda_l2=8.109573468009915\n",
      "[LightGBM] [Warning] lambda_l1 is set=0.8042821660851418, reg_alpha=0.0 will be ignored. Current value: lambda_l1=0.8042821660851418\n",
      "[LightGBM] [Warning] lambda_l2 is set=8.109573468009915, reg_lambda=0.0 will be ignored. Current value: lambda_l2=8.109573468009915\n",
      "[LightGBM] [Info] Total Bins 85028\n",
      "[LightGBM] [Info] Number of data points in the train set: 43200, number of used features: 395\n",
      "[LightGBM] [Info] Start training from score 5.940370\n"
     ]
    },
    {
     "name": "stderr",
     "output_type": "stream",
     "text": [
      "/Users/alexis/Projects/202502 Actuarial Loss Prediction/.env/lib/python3.10/site-packages/sklearn/utils/validation.py:2739: UserWarning: X does not have valid feature names, but LGBMRegressor was fitted with feature names\n",
      "  warnings.warn(\n",
      "[I 2025-03-02 18:58:17,154] Trial 33 finished with value: 23909.40903619132 and parameters: {'max_depth': 15, 'learning_rate': 0.11973168903348029, 'n_estimators': 100, 'min_child_weight': 9, 'subsample': 0.7982394633839943, 'colsample_bytree': 0.6987844809849639, 'lambda_l1': 0.8042821660851418, 'lambda_l2': 8.109573468009915}. Best is trial 21 with value: 23853.022562628455.\n"
     ]
    },
    {
     "name": "stdout",
     "output_type": "stream",
     "text": [
      "[LightGBM] [Warning] lambda_l1 is set=0.8042821660851418, reg_alpha=0.0 will be ignored. Current value: lambda_l1=0.8042821660851418\n",
      "[LightGBM] [Warning] lambda_l2 is set=8.109573468009915, reg_lambda=0.0 will be ignored. Current value: lambda_l2=8.109573468009915\n",
      "RMSE Overall:  23909.409 | MAE: 5612.096\n",
      "RMSE for low y_true (<= 100k): 9322.263 | MAE: 3243.300\n",
      "RMSE for high y_true (> 100k): 164117.004 | MAE: 134435.755\n",
      "[LightGBM] [Warning] lambda_l1 is set=1.220999422387717, reg_alpha=0.0 will be ignored. Current value: lambda_l1=1.220999422387717\n",
      "[LightGBM] [Warning] lambda_l2 is set=7.232289905627115, reg_lambda=0.0 will be ignored. Current value: lambda_l2=7.232289905627115\n",
      "[LightGBM] [Warning] lambda_l1 is set=1.220999422387717, reg_alpha=0.0 will be ignored. Current value: lambda_l1=1.220999422387717\n",
      "[LightGBM] [Warning] lambda_l2 is set=7.232289905627115, reg_lambda=0.0 will be ignored. Current value: lambda_l2=7.232289905627115\n",
      "[LightGBM] [Info] Total Bins 85015\n",
      "[LightGBM] [Info] Number of data points in the train set: 43199, number of used features: 395\n",
      "[LightGBM] [Info] Start training from score 5.909642\n"
     ]
    },
    {
     "name": "stderr",
     "output_type": "stream",
     "text": [
      "/Users/alexis/Projects/202502 Actuarial Loss Prediction/.env/lib/python3.10/site-packages/sklearn/utils/validation.py:2739: UserWarning: X does not have valid feature names, but LGBMRegressor was fitted with feature names\n",
      "  warnings.warn(\n"
     ]
    },
    {
     "name": "stdout",
     "output_type": "stream",
     "text": [
      "[LightGBM] [Warning] lambda_l1 is set=1.220999422387717, reg_alpha=0.0 will be ignored. Current value: lambda_l1=1.220999422387717\n",
      "[LightGBM] [Warning] lambda_l2 is set=7.232289905627115, reg_lambda=0.0 will be ignored. Current value: lambda_l2=7.232289905627115\n",
      "[LightGBM] [Warning] lambda_l1 is set=1.220999422387717, reg_alpha=0.0 will be ignored. Current value: lambda_l1=1.220999422387717\n",
      "[LightGBM] [Warning] lambda_l2 is set=7.232289905627115, reg_lambda=0.0 will be ignored. Current value: lambda_l2=7.232289905627115\n",
      "[LightGBM] [Warning] lambda_l1 is set=1.220999422387717, reg_alpha=0.0 will be ignored. Current value: lambda_l1=1.220999422387717\n",
      "[LightGBM] [Warning] lambda_l2 is set=7.232289905627115, reg_lambda=0.0 will be ignored. Current value: lambda_l2=7.232289905627115\n",
      "[LightGBM] [Info] Total Bins 85024\n",
      "[LightGBM] [Info] Number of data points in the train set: 43199, number of used features: 395\n",
      "[LightGBM] [Info] Start training from score 5.914034\n"
     ]
    },
    {
     "name": "stderr",
     "output_type": "stream",
     "text": [
      "/Users/alexis/Projects/202502 Actuarial Loss Prediction/.env/lib/python3.10/site-packages/sklearn/utils/validation.py:2739: UserWarning: X does not have valid feature names, but LGBMRegressor was fitted with feature names\n",
      "  warnings.warn(\n"
     ]
    },
    {
     "name": "stdout",
     "output_type": "stream",
     "text": [
      "[LightGBM] [Warning] lambda_l1 is set=1.220999422387717, reg_alpha=0.0 will be ignored. Current value: lambda_l1=1.220999422387717\n",
      "[LightGBM] [Warning] lambda_l2 is set=7.232289905627115, reg_lambda=0.0 will be ignored. Current value: lambda_l2=7.232289905627115\n",
      "[LightGBM] [Warning] lambda_l1 is set=1.220999422387717, reg_alpha=0.0 will be ignored. Current value: lambda_l1=1.220999422387717\n",
      "[LightGBM] [Warning] lambda_l2 is set=7.232289905627115, reg_lambda=0.0 will be ignored. Current value: lambda_l2=7.232289905627115\n",
      "[LightGBM] [Warning] lambda_l1 is set=1.220999422387717, reg_alpha=0.0 will be ignored. Current value: lambda_l1=1.220999422387717\n",
      "[LightGBM] [Warning] lambda_l2 is set=7.232289905627115, reg_lambda=0.0 will be ignored. Current value: lambda_l2=7.232289905627115\n",
      "[LightGBM] [Info] Total Bins 85026\n",
      "[LightGBM] [Info] Number of data points in the train set: 43199, number of used features: 395\n",
      "[LightGBM] [Info] Start training from score 5.945550\n"
     ]
    },
    {
     "name": "stderr",
     "output_type": "stream",
     "text": [
      "/Users/alexis/Projects/202502 Actuarial Loss Prediction/.env/lib/python3.10/site-packages/sklearn/utils/validation.py:2739: UserWarning: X does not have valid feature names, but LGBMRegressor was fitted with feature names\n",
      "  warnings.warn(\n"
     ]
    },
    {
     "name": "stdout",
     "output_type": "stream",
     "text": [
      "[LightGBM] [Warning] lambda_l1 is set=1.220999422387717, reg_alpha=0.0 will be ignored. Current value: lambda_l1=1.220999422387717\n",
      "[LightGBM] [Warning] lambda_l2 is set=7.232289905627115, reg_lambda=0.0 will be ignored. Current value: lambda_l2=7.232289905627115\n",
      "[LightGBM] [Warning] lambda_l1 is set=1.220999422387717, reg_alpha=0.0 will be ignored. Current value: lambda_l1=1.220999422387717\n",
      "[LightGBM] [Warning] lambda_l2 is set=7.232289905627115, reg_lambda=0.0 will be ignored. Current value: lambda_l2=7.232289905627115\n",
      "[LightGBM] [Warning] lambda_l1 is set=1.220999422387717, reg_alpha=0.0 will be ignored. Current value: lambda_l1=1.220999422387717\n",
      "[LightGBM] [Warning] lambda_l2 is set=7.232289905627115, reg_lambda=0.0 will be ignored. Current value: lambda_l2=7.232289905627115\n",
      "[LightGBM] [Info] Total Bins 85029\n",
      "[LightGBM] [Info] Number of data points in the train set: 43199, number of used features: 395\n",
      "[LightGBM] [Info] Start training from score 5.959808\n"
     ]
    },
    {
     "name": "stderr",
     "output_type": "stream",
     "text": [
      "/Users/alexis/Projects/202502 Actuarial Loss Prediction/.env/lib/python3.10/site-packages/sklearn/utils/validation.py:2739: UserWarning: X does not have valid feature names, but LGBMRegressor was fitted with feature names\n",
      "  warnings.warn(\n"
     ]
    },
    {
     "name": "stdout",
     "output_type": "stream",
     "text": [
      "[LightGBM] [Warning] lambda_l1 is set=1.220999422387717, reg_alpha=0.0 will be ignored. Current value: lambda_l1=1.220999422387717\n",
      "[LightGBM] [Warning] lambda_l2 is set=7.232289905627115, reg_lambda=0.0 will be ignored. Current value: lambda_l2=7.232289905627115\n",
      "[LightGBM] [Warning] lambda_l1 is set=1.220999422387717, reg_alpha=0.0 will be ignored. Current value: lambda_l1=1.220999422387717\n",
      "[LightGBM] [Warning] lambda_l2 is set=7.232289905627115, reg_lambda=0.0 will be ignored. Current value: lambda_l2=7.232289905627115\n",
      "[LightGBM] [Warning] lambda_l1 is set=1.220999422387717, reg_alpha=0.0 will be ignored. Current value: lambda_l1=1.220999422387717\n",
      "[LightGBM] [Warning] lambda_l2 is set=7.232289905627115, reg_lambda=0.0 will be ignored. Current value: lambda_l2=7.232289905627115\n",
      "[LightGBM] [Info] Total Bins 85028\n",
      "[LightGBM] [Info] Number of data points in the train set: 43200, number of used features: 395\n",
      "[LightGBM] [Info] Start training from score 5.940370\n"
     ]
    },
    {
     "name": "stderr",
     "output_type": "stream",
     "text": [
      "/Users/alexis/Projects/202502 Actuarial Loss Prediction/.env/lib/python3.10/site-packages/sklearn/utils/validation.py:2739: UserWarning: X does not have valid feature names, but LGBMRegressor was fitted with feature names\n",
      "  warnings.warn(\n",
      "[I 2025-03-02 18:58:28,857] Trial 34 finished with value: 23903.81890669048 and parameters: {'max_depth': 9, 'learning_rate': 0.09993424828472007, 'n_estimators': 100, 'min_child_weight': 6, 'subsample': 0.6967379799988431, 'colsample_bytree': 0.6479796728670014, 'lambda_l1': 1.220999422387717, 'lambda_l2': 7.232289905627115}. Best is trial 21 with value: 23853.022562628455.\n"
     ]
    },
    {
     "name": "stdout",
     "output_type": "stream",
     "text": [
      "[LightGBM] [Warning] lambda_l1 is set=1.220999422387717, reg_alpha=0.0 will be ignored. Current value: lambda_l1=1.220999422387717\n",
      "[LightGBM] [Warning] lambda_l2 is set=7.232289905627115, reg_lambda=0.0 will be ignored. Current value: lambda_l2=7.232289905627115\n",
      "RMSE Overall:  23903.819 | MAE: 5593.308\n",
      "RMSE for low y_true (<= 100k): 9273.440 | MAE: 3219.726\n",
      "RMSE for high y_true (> 100k): 164222.296 | MAE: 134677.207\n",
      "Best trial: {'max_depth': 10, 'learning_rate': 0.09134879752884997, 'n_estimators': 200, 'min_child_weight': 4, 'subsample': 0.7406110320807305, 'colsample_bytree': 0.6527923965773857, 'lambda_l1': 1.5854842816691632, 'lambda_l2': 8.833659109656566}\n"
     ]
    }
   ],
   "source": [
    "study = optuna.create_study(direction=\"minimize\")\n",
    "study.optimize(objective, n_trials=35)\n",
    "\n",
    "# Print the best result\n",
    "print(f\"Best trial: {study.best_trial.params}\")\n"
   ]
  },
  {
   "cell_type": "code",
   "execution_count": 13,
   "metadata": {},
   "outputs": [
    {
     "data": {
      "application/vnd.plotly.v1+json": {
       "config": {
        "plotlyServerURL": "https://plot.ly"
       },
       "data": [
        {
         "mode": "markers",
         "name": "Objective Value",
         "type": "scatter",
         "x": [
          0,
          1,
          2,
          3,
          4,
          5,
          6,
          7,
          8,
          9,
          10,
          11,
          12,
          13,
          14,
          15,
          16,
          17,
          18,
          19,
          20,
          21,
          22,
          23,
          24,
          25,
          26,
          27,
          28,
          29,
          30,
          31,
          32,
          33,
          34
         ],
         "y": [
          23983.244624546845,
          23983.11465233243,
          23999.85250042222,
          23924.15147951742,
          24002.079542376265,
          23862.926693452253,
          24007.836997327573,
          23974.177551149474,
          24384.51334796267,
          24023.987113127838,
          23929.79071639841,
          23926.881242414525,
          24077.630605380204,
          24164.74881917839,
          23907.868899830588,
          23935.597151500675,
          23868.97572225675,
          24008.333011210594,
          23915.436400909857,
          24038.174407562787,
          23970.350065197934,
          23853.022562628455,
          23887.439448845646,
          23884.695405752853,
          23953.967410649682,
          23892.029030320216,
          23871.190551663687,
          24073.174760453123,
          23893.45183377283,
          23908.90388612706,
          23971.982427211493,
          23882.49480164726,
          23902.149466206698,
          23909.40903619132,
          23903.81890669048
         ]
        },
        {
         "mode": "lines",
         "name": "Best Value",
         "type": "scatter",
         "x": [
          0,
          1,
          2,
          3,
          4,
          5,
          6,
          7,
          8,
          9,
          10,
          11,
          12,
          13,
          14,
          15,
          16,
          17,
          18,
          19,
          20,
          21,
          22,
          23,
          24,
          25,
          26,
          27,
          28,
          29,
          30,
          31,
          32,
          33,
          34
         ],
         "y": [
          23983.244624546845,
          23983.11465233243,
          23983.11465233243,
          23924.15147951742,
          23924.15147951742,
          23862.926693452253,
          23862.926693452253,
          23862.926693452253,
          23862.926693452253,
          23862.926693452253,
          23862.926693452253,
          23862.926693452253,
          23862.926693452253,
          23862.926693452253,
          23862.926693452253,
          23862.926693452253,
          23862.926693452253,
          23862.926693452253,
          23862.926693452253,
          23862.926693452253,
          23862.926693452253,
          23853.022562628455,
          23853.022562628455,
          23853.022562628455,
          23853.022562628455,
          23853.022562628455,
          23853.022562628455,
          23853.022562628455,
          23853.022562628455,
          23853.022562628455,
          23853.022562628455,
          23853.022562628455,
          23853.022562628455,
          23853.022562628455,
          23853.022562628455
         ]
        },
        {
         "marker": {
          "color": "#cccccc"
         },
         "mode": "markers",
         "name": "Infeasible Trial",
         "showlegend": false,
         "type": "scatter",
         "x": [],
         "y": []
        }
       ],
       "layout": {
        "template": {
         "data": {
          "bar": [
           {
            "error_x": {
             "color": "#2a3f5f"
            },
            "error_y": {
             "color": "#2a3f5f"
            },
            "marker": {
             "line": {
              "color": "#E5ECF6",
              "width": 0.5
             },
             "pattern": {
              "fillmode": "overlay",
              "size": 10,
              "solidity": 0.2
             }
            },
            "type": "bar"
           }
          ],
          "barpolar": [
           {
            "marker": {
             "line": {
              "color": "#E5ECF6",
              "width": 0.5
             },
             "pattern": {
              "fillmode": "overlay",
              "size": 10,
              "solidity": 0.2
             }
            },
            "type": "barpolar"
           }
          ],
          "carpet": [
           {
            "aaxis": {
             "endlinecolor": "#2a3f5f",
             "gridcolor": "white",
             "linecolor": "white",
             "minorgridcolor": "white",
             "startlinecolor": "#2a3f5f"
            },
            "baxis": {
             "endlinecolor": "#2a3f5f",
             "gridcolor": "white",
             "linecolor": "white",
             "minorgridcolor": "white",
             "startlinecolor": "#2a3f5f"
            },
            "type": "carpet"
           }
          ],
          "choropleth": [
           {
            "colorbar": {
             "outlinewidth": 0,
             "ticks": ""
            },
            "type": "choropleth"
           }
          ],
          "contour": [
           {
            "colorbar": {
             "outlinewidth": 0,
             "ticks": ""
            },
            "colorscale": [
             [
              0,
              "#0d0887"
             ],
             [
              0.1111111111111111,
              "#46039f"
             ],
             [
              0.2222222222222222,
              "#7201a8"
             ],
             [
              0.3333333333333333,
              "#9c179e"
             ],
             [
              0.4444444444444444,
              "#bd3786"
             ],
             [
              0.5555555555555556,
              "#d8576b"
             ],
             [
              0.6666666666666666,
              "#ed7953"
             ],
             [
              0.7777777777777778,
              "#fb9f3a"
             ],
             [
              0.8888888888888888,
              "#fdca26"
             ],
             [
              1,
              "#f0f921"
             ]
            ],
            "type": "contour"
           }
          ],
          "contourcarpet": [
           {
            "colorbar": {
             "outlinewidth": 0,
             "ticks": ""
            },
            "type": "contourcarpet"
           }
          ],
          "heatmap": [
           {
            "colorbar": {
             "outlinewidth": 0,
             "ticks": ""
            },
            "colorscale": [
             [
              0,
              "#0d0887"
             ],
             [
              0.1111111111111111,
              "#46039f"
             ],
             [
              0.2222222222222222,
              "#7201a8"
             ],
             [
              0.3333333333333333,
              "#9c179e"
             ],
             [
              0.4444444444444444,
              "#bd3786"
             ],
             [
              0.5555555555555556,
              "#d8576b"
             ],
             [
              0.6666666666666666,
              "#ed7953"
             ],
             [
              0.7777777777777778,
              "#fb9f3a"
             ],
             [
              0.8888888888888888,
              "#fdca26"
             ],
             [
              1,
              "#f0f921"
             ]
            ],
            "type": "heatmap"
           }
          ],
          "histogram": [
           {
            "marker": {
             "pattern": {
              "fillmode": "overlay",
              "size": 10,
              "solidity": 0.2
             }
            },
            "type": "histogram"
           }
          ],
          "histogram2d": [
           {
            "colorbar": {
             "outlinewidth": 0,
             "ticks": ""
            },
            "colorscale": [
             [
              0,
              "#0d0887"
             ],
             [
              0.1111111111111111,
              "#46039f"
             ],
             [
              0.2222222222222222,
              "#7201a8"
             ],
             [
              0.3333333333333333,
              "#9c179e"
             ],
             [
              0.4444444444444444,
              "#bd3786"
             ],
             [
              0.5555555555555556,
              "#d8576b"
             ],
             [
              0.6666666666666666,
              "#ed7953"
             ],
             [
              0.7777777777777778,
              "#fb9f3a"
             ],
             [
              0.8888888888888888,
              "#fdca26"
             ],
             [
              1,
              "#f0f921"
             ]
            ],
            "type": "histogram2d"
           }
          ],
          "histogram2dcontour": [
           {
            "colorbar": {
             "outlinewidth": 0,
             "ticks": ""
            },
            "colorscale": [
             [
              0,
              "#0d0887"
             ],
             [
              0.1111111111111111,
              "#46039f"
             ],
             [
              0.2222222222222222,
              "#7201a8"
             ],
             [
              0.3333333333333333,
              "#9c179e"
             ],
             [
              0.4444444444444444,
              "#bd3786"
             ],
             [
              0.5555555555555556,
              "#d8576b"
             ],
             [
              0.6666666666666666,
              "#ed7953"
             ],
             [
              0.7777777777777778,
              "#fb9f3a"
             ],
             [
              0.8888888888888888,
              "#fdca26"
             ],
             [
              1,
              "#f0f921"
             ]
            ],
            "type": "histogram2dcontour"
           }
          ],
          "mesh3d": [
           {
            "colorbar": {
             "outlinewidth": 0,
             "ticks": ""
            },
            "type": "mesh3d"
           }
          ],
          "parcoords": [
           {
            "line": {
             "colorbar": {
              "outlinewidth": 0,
              "ticks": ""
             }
            },
            "type": "parcoords"
           }
          ],
          "pie": [
           {
            "automargin": true,
            "type": "pie"
           }
          ],
          "scatter": [
           {
            "fillpattern": {
             "fillmode": "overlay",
             "size": 10,
             "solidity": 0.2
            },
            "type": "scatter"
           }
          ],
          "scatter3d": [
           {
            "line": {
             "colorbar": {
              "outlinewidth": 0,
              "ticks": ""
             }
            },
            "marker": {
             "colorbar": {
              "outlinewidth": 0,
              "ticks": ""
             }
            },
            "type": "scatter3d"
           }
          ],
          "scattercarpet": [
           {
            "marker": {
             "colorbar": {
              "outlinewidth": 0,
              "ticks": ""
             }
            },
            "type": "scattercarpet"
           }
          ],
          "scattergeo": [
           {
            "marker": {
             "colorbar": {
              "outlinewidth": 0,
              "ticks": ""
             }
            },
            "type": "scattergeo"
           }
          ],
          "scattergl": [
           {
            "marker": {
             "colorbar": {
              "outlinewidth": 0,
              "ticks": ""
             }
            },
            "type": "scattergl"
           }
          ],
          "scattermap": [
           {
            "marker": {
             "colorbar": {
              "outlinewidth": 0,
              "ticks": ""
             }
            },
            "type": "scattermap"
           }
          ],
          "scattermapbox": [
           {
            "marker": {
             "colorbar": {
              "outlinewidth": 0,
              "ticks": ""
             }
            },
            "type": "scattermapbox"
           }
          ],
          "scatterpolar": [
           {
            "marker": {
             "colorbar": {
              "outlinewidth": 0,
              "ticks": ""
             }
            },
            "type": "scatterpolar"
           }
          ],
          "scatterpolargl": [
           {
            "marker": {
             "colorbar": {
              "outlinewidth": 0,
              "ticks": ""
             }
            },
            "type": "scatterpolargl"
           }
          ],
          "scatterternary": [
           {
            "marker": {
             "colorbar": {
              "outlinewidth": 0,
              "ticks": ""
             }
            },
            "type": "scatterternary"
           }
          ],
          "surface": [
           {
            "colorbar": {
             "outlinewidth": 0,
             "ticks": ""
            },
            "colorscale": [
             [
              0,
              "#0d0887"
             ],
             [
              0.1111111111111111,
              "#46039f"
             ],
             [
              0.2222222222222222,
              "#7201a8"
             ],
             [
              0.3333333333333333,
              "#9c179e"
             ],
             [
              0.4444444444444444,
              "#bd3786"
             ],
             [
              0.5555555555555556,
              "#d8576b"
             ],
             [
              0.6666666666666666,
              "#ed7953"
             ],
             [
              0.7777777777777778,
              "#fb9f3a"
             ],
             [
              0.8888888888888888,
              "#fdca26"
             ],
             [
              1,
              "#f0f921"
             ]
            ],
            "type": "surface"
           }
          ],
          "table": [
           {
            "cells": {
             "fill": {
              "color": "#EBF0F8"
             },
             "line": {
              "color": "white"
             }
            },
            "header": {
             "fill": {
              "color": "#C8D4E3"
             },
             "line": {
              "color": "white"
             }
            },
            "type": "table"
           }
          ]
         },
         "layout": {
          "annotationdefaults": {
           "arrowcolor": "#2a3f5f",
           "arrowhead": 0,
           "arrowwidth": 1
          },
          "autotypenumbers": "strict",
          "coloraxis": {
           "colorbar": {
            "outlinewidth": 0,
            "ticks": ""
           }
          },
          "colorscale": {
           "diverging": [
            [
             0,
             "#8e0152"
            ],
            [
             0.1,
             "#c51b7d"
            ],
            [
             0.2,
             "#de77ae"
            ],
            [
             0.3,
             "#f1b6da"
            ],
            [
             0.4,
             "#fde0ef"
            ],
            [
             0.5,
             "#f7f7f7"
            ],
            [
             0.6,
             "#e6f5d0"
            ],
            [
             0.7,
             "#b8e186"
            ],
            [
             0.8,
             "#7fbc41"
            ],
            [
             0.9,
             "#4d9221"
            ],
            [
             1,
             "#276419"
            ]
           ],
           "sequential": [
            [
             0,
             "#0d0887"
            ],
            [
             0.1111111111111111,
             "#46039f"
            ],
            [
             0.2222222222222222,
             "#7201a8"
            ],
            [
             0.3333333333333333,
             "#9c179e"
            ],
            [
             0.4444444444444444,
             "#bd3786"
            ],
            [
             0.5555555555555556,
             "#d8576b"
            ],
            [
             0.6666666666666666,
             "#ed7953"
            ],
            [
             0.7777777777777778,
             "#fb9f3a"
            ],
            [
             0.8888888888888888,
             "#fdca26"
            ],
            [
             1,
             "#f0f921"
            ]
           ],
           "sequentialminus": [
            [
             0,
             "#0d0887"
            ],
            [
             0.1111111111111111,
             "#46039f"
            ],
            [
             0.2222222222222222,
             "#7201a8"
            ],
            [
             0.3333333333333333,
             "#9c179e"
            ],
            [
             0.4444444444444444,
             "#bd3786"
            ],
            [
             0.5555555555555556,
             "#d8576b"
            ],
            [
             0.6666666666666666,
             "#ed7953"
            ],
            [
             0.7777777777777778,
             "#fb9f3a"
            ],
            [
             0.8888888888888888,
             "#fdca26"
            ],
            [
             1,
             "#f0f921"
            ]
           ]
          },
          "colorway": [
           "#636efa",
           "#EF553B",
           "#00cc96",
           "#ab63fa",
           "#FFA15A",
           "#19d3f3",
           "#FF6692",
           "#B6E880",
           "#FF97FF",
           "#FECB52"
          ],
          "font": {
           "color": "#2a3f5f"
          },
          "geo": {
           "bgcolor": "white",
           "lakecolor": "white",
           "landcolor": "#E5ECF6",
           "showlakes": true,
           "showland": true,
           "subunitcolor": "white"
          },
          "hoverlabel": {
           "align": "left"
          },
          "hovermode": "closest",
          "mapbox": {
           "style": "light"
          },
          "paper_bgcolor": "white",
          "plot_bgcolor": "#E5ECF6",
          "polar": {
           "angularaxis": {
            "gridcolor": "white",
            "linecolor": "white",
            "ticks": ""
           },
           "bgcolor": "#E5ECF6",
           "radialaxis": {
            "gridcolor": "white",
            "linecolor": "white",
            "ticks": ""
           }
          },
          "scene": {
           "xaxis": {
            "backgroundcolor": "#E5ECF6",
            "gridcolor": "white",
            "gridwidth": 2,
            "linecolor": "white",
            "showbackground": true,
            "ticks": "",
            "zerolinecolor": "white"
           },
           "yaxis": {
            "backgroundcolor": "#E5ECF6",
            "gridcolor": "white",
            "gridwidth": 2,
            "linecolor": "white",
            "showbackground": true,
            "ticks": "",
            "zerolinecolor": "white"
           },
           "zaxis": {
            "backgroundcolor": "#E5ECF6",
            "gridcolor": "white",
            "gridwidth": 2,
            "linecolor": "white",
            "showbackground": true,
            "ticks": "",
            "zerolinecolor": "white"
           }
          },
          "shapedefaults": {
           "line": {
            "color": "#2a3f5f"
           }
          },
          "ternary": {
           "aaxis": {
            "gridcolor": "white",
            "linecolor": "white",
            "ticks": ""
           },
           "baxis": {
            "gridcolor": "white",
            "linecolor": "white",
            "ticks": ""
           },
           "bgcolor": "#E5ECF6",
           "caxis": {
            "gridcolor": "white",
            "linecolor": "white",
            "ticks": ""
           }
          },
          "title": {
           "x": 0.05
          },
          "xaxis": {
           "automargin": true,
           "gridcolor": "white",
           "linecolor": "white",
           "ticks": "",
           "title": {
            "standoff": 15
           },
           "zerolinecolor": "white",
           "zerolinewidth": 2
          },
          "yaxis": {
           "automargin": true,
           "gridcolor": "white",
           "linecolor": "white",
           "ticks": "",
           "title": {
            "standoff": 15
           },
           "zerolinecolor": "white",
           "zerolinewidth": 2
          }
         }
        },
        "title": {
         "text": "Optimization History Plot"
        },
        "xaxis": {
         "title": {
          "text": "Trial"
         }
        },
        "yaxis": {
         "title": {
          "text": "Objective Value"
         }
        }
       }
      }
     },
     "metadata": {},
     "output_type": "display_data"
    }
   ],
   "source": [
    "import optuna.visualization as vis\n",
    "\n",
    "fig = vis.plot_optimization_history(study)\n",
    "fig.show()\n"
   ]
  },
  {
   "cell_type": "code",
   "execution_count": 15,
   "metadata": {},
   "outputs": [
    {
     "data": {
      "application/vnd.plotly.v1+json": {
       "config": {
        "plotlyServerURL": "https://plot.ly"
       },
       "data": [
        {
         "cliponaxis": false,
         "hovertemplate": [
          "min_child_weight (IntDistribution): 0.042301002655031984<extra></extra>",
          "n_estimators (IntDistribution): 0.04900100865077996<extra></extra>",
          "subsample (FloatDistribution): 0.05003865465508683<extra></extra>",
          "colsample_bytree (FloatDistribution): 0.055944994680760904<extra></extra>",
          "max_depth (IntDistribution): 0.05639792261833479<extra></extra>",
          "lambda_l2 (FloatDistribution): 0.05764629721607429<extra></extra>",
          "lambda_l1 (FloatDistribution): 0.06379418223386873<extra></extra>",
          "learning_rate (FloatDistribution): 0.6248759372900625<extra></extra>"
         ],
         "name": "Objective Value",
         "orientation": "h",
         "text": [
          "0.04",
          "0.05",
          "0.05",
          "0.06",
          "0.06",
          "0.06",
          "0.06",
          "0.62"
         ],
         "textposition": "outside",
         "type": "bar",
         "x": [
          0.042301002655031984,
          0.04900100865077996,
          0.05003865465508683,
          0.055944994680760904,
          0.05639792261833479,
          0.05764629721607429,
          0.06379418223386873,
          0.6248759372900625
         ],
         "y": [
          "min_child_weight",
          "n_estimators",
          "subsample",
          "colsample_bytree",
          "max_depth",
          "lambda_l2",
          "lambda_l1",
          "learning_rate"
         ]
        }
       ],
       "layout": {
        "template": {
         "data": {
          "bar": [
           {
            "error_x": {
             "color": "#2a3f5f"
            },
            "error_y": {
             "color": "#2a3f5f"
            },
            "marker": {
             "line": {
              "color": "#E5ECF6",
              "width": 0.5
             },
             "pattern": {
              "fillmode": "overlay",
              "size": 10,
              "solidity": 0.2
             }
            },
            "type": "bar"
           }
          ],
          "barpolar": [
           {
            "marker": {
             "line": {
              "color": "#E5ECF6",
              "width": 0.5
             },
             "pattern": {
              "fillmode": "overlay",
              "size": 10,
              "solidity": 0.2
             }
            },
            "type": "barpolar"
           }
          ],
          "carpet": [
           {
            "aaxis": {
             "endlinecolor": "#2a3f5f",
             "gridcolor": "white",
             "linecolor": "white",
             "minorgridcolor": "white",
             "startlinecolor": "#2a3f5f"
            },
            "baxis": {
             "endlinecolor": "#2a3f5f",
             "gridcolor": "white",
             "linecolor": "white",
             "minorgridcolor": "white",
             "startlinecolor": "#2a3f5f"
            },
            "type": "carpet"
           }
          ],
          "choropleth": [
           {
            "colorbar": {
             "outlinewidth": 0,
             "ticks": ""
            },
            "type": "choropleth"
           }
          ],
          "contour": [
           {
            "colorbar": {
             "outlinewidth": 0,
             "ticks": ""
            },
            "colorscale": [
             [
              0,
              "#0d0887"
             ],
             [
              0.1111111111111111,
              "#46039f"
             ],
             [
              0.2222222222222222,
              "#7201a8"
             ],
             [
              0.3333333333333333,
              "#9c179e"
             ],
             [
              0.4444444444444444,
              "#bd3786"
             ],
             [
              0.5555555555555556,
              "#d8576b"
             ],
             [
              0.6666666666666666,
              "#ed7953"
             ],
             [
              0.7777777777777778,
              "#fb9f3a"
             ],
             [
              0.8888888888888888,
              "#fdca26"
             ],
             [
              1,
              "#f0f921"
             ]
            ],
            "type": "contour"
           }
          ],
          "contourcarpet": [
           {
            "colorbar": {
             "outlinewidth": 0,
             "ticks": ""
            },
            "type": "contourcarpet"
           }
          ],
          "heatmap": [
           {
            "colorbar": {
             "outlinewidth": 0,
             "ticks": ""
            },
            "colorscale": [
             [
              0,
              "#0d0887"
             ],
             [
              0.1111111111111111,
              "#46039f"
             ],
             [
              0.2222222222222222,
              "#7201a8"
             ],
             [
              0.3333333333333333,
              "#9c179e"
             ],
             [
              0.4444444444444444,
              "#bd3786"
             ],
             [
              0.5555555555555556,
              "#d8576b"
             ],
             [
              0.6666666666666666,
              "#ed7953"
             ],
             [
              0.7777777777777778,
              "#fb9f3a"
             ],
             [
              0.8888888888888888,
              "#fdca26"
             ],
             [
              1,
              "#f0f921"
             ]
            ],
            "type": "heatmap"
           }
          ],
          "histogram": [
           {
            "marker": {
             "pattern": {
              "fillmode": "overlay",
              "size": 10,
              "solidity": 0.2
             }
            },
            "type": "histogram"
           }
          ],
          "histogram2d": [
           {
            "colorbar": {
             "outlinewidth": 0,
             "ticks": ""
            },
            "colorscale": [
             [
              0,
              "#0d0887"
             ],
             [
              0.1111111111111111,
              "#46039f"
             ],
             [
              0.2222222222222222,
              "#7201a8"
             ],
             [
              0.3333333333333333,
              "#9c179e"
             ],
             [
              0.4444444444444444,
              "#bd3786"
             ],
             [
              0.5555555555555556,
              "#d8576b"
             ],
             [
              0.6666666666666666,
              "#ed7953"
             ],
             [
              0.7777777777777778,
              "#fb9f3a"
             ],
             [
              0.8888888888888888,
              "#fdca26"
             ],
             [
              1,
              "#f0f921"
             ]
            ],
            "type": "histogram2d"
           }
          ],
          "histogram2dcontour": [
           {
            "colorbar": {
             "outlinewidth": 0,
             "ticks": ""
            },
            "colorscale": [
             [
              0,
              "#0d0887"
             ],
             [
              0.1111111111111111,
              "#46039f"
             ],
             [
              0.2222222222222222,
              "#7201a8"
             ],
             [
              0.3333333333333333,
              "#9c179e"
             ],
             [
              0.4444444444444444,
              "#bd3786"
             ],
             [
              0.5555555555555556,
              "#d8576b"
             ],
             [
              0.6666666666666666,
              "#ed7953"
             ],
             [
              0.7777777777777778,
              "#fb9f3a"
             ],
             [
              0.8888888888888888,
              "#fdca26"
             ],
             [
              1,
              "#f0f921"
             ]
            ],
            "type": "histogram2dcontour"
           }
          ],
          "mesh3d": [
           {
            "colorbar": {
             "outlinewidth": 0,
             "ticks": ""
            },
            "type": "mesh3d"
           }
          ],
          "parcoords": [
           {
            "line": {
             "colorbar": {
              "outlinewidth": 0,
              "ticks": ""
             }
            },
            "type": "parcoords"
           }
          ],
          "pie": [
           {
            "automargin": true,
            "type": "pie"
           }
          ],
          "scatter": [
           {
            "fillpattern": {
             "fillmode": "overlay",
             "size": 10,
             "solidity": 0.2
            },
            "type": "scatter"
           }
          ],
          "scatter3d": [
           {
            "line": {
             "colorbar": {
              "outlinewidth": 0,
              "ticks": ""
             }
            },
            "marker": {
             "colorbar": {
              "outlinewidth": 0,
              "ticks": ""
             }
            },
            "type": "scatter3d"
           }
          ],
          "scattercarpet": [
           {
            "marker": {
             "colorbar": {
              "outlinewidth": 0,
              "ticks": ""
             }
            },
            "type": "scattercarpet"
           }
          ],
          "scattergeo": [
           {
            "marker": {
             "colorbar": {
              "outlinewidth": 0,
              "ticks": ""
             }
            },
            "type": "scattergeo"
           }
          ],
          "scattergl": [
           {
            "marker": {
             "colorbar": {
              "outlinewidth": 0,
              "ticks": ""
             }
            },
            "type": "scattergl"
           }
          ],
          "scattermap": [
           {
            "marker": {
             "colorbar": {
              "outlinewidth": 0,
              "ticks": ""
             }
            },
            "type": "scattermap"
           }
          ],
          "scattermapbox": [
           {
            "marker": {
             "colorbar": {
              "outlinewidth": 0,
              "ticks": ""
             }
            },
            "type": "scattermapbox"
           }
          ],
          "scatterpolar": [
           {
            "marker": {
             "colorbar": {
              "outlinewidth": 0,
              "ticks": ""
             }
            },
            "type": "scatterpolar"
           }
          ],
          "scatterpolargl": [
           {
            "marker": {
             "colorbar": {
              "outlinewidth": 0,
              "ticks": ""
             }
            },
            "type": "scatterpolargl"
           }
          ],
          "scatterternary": [
           {
            "marker": {
             "colorbar": {
              "outlinewidth": 0,
              "ticks": ""
             }
            },
            "type": "scatterternary"
           }
          ],
          "surface": [
           {
            "colorbar": {
             "outlinewidth": 0,
             "ticks": ""
            },
            "colorscale": [
             [
              0,
              "#0d0887"
             ],
             [
              0.1111111111111111,
              "#46039f"
             ],
             [
              0.2222222222222222,
              "#7201a8"
             ],
             [
              0.3333333333333333,
              "#9c179e"
             ],
             [
              0.4444444444444444,
              "#bd3786"
             ],
             [
              0.5555555555555556,
              "#d8576b"
             ],
             [
              0.6666666666666666,
              "#ed7953"
             ],
             [
              0.7777777777777778,
              "#fb9f3a"
             ],
             [
              0.8888888888888888,
              "#fdca26"
             ],
             [
              1,
              "#f0f921"
             ]
            ],
            "type": "surface"
           }
          ],
          "table": [
           {
            "cells": {
             "fill": {
              "color": "#EBF0F8"
             },
             "line": {
              "color": "white"
             }
            },
            "header": {
             "fill": {
              "color": "#C8D4E3"
             },
             "line": {
              "color": "white"
             }
            },
            "type": "table"
           }
          ]
         },
         "layout": {
          "annotationdefaults": {
           "arrowcolor": "#2a3f5f",
           "arrowhead": 0,
           "arrowwidth": 1
          },
          "autotypenumbers": "strict",
          "coloraxis": {
           "colorbar": {
            "outlinewidth": 0,
            "ticks": ""
           }
          },
          "colorscale": {
           "diverging": [
            [
             0,
             "#8e0152"
            ],
            [
             0.1,
             "#c51b7d"
            ],
            [
             0.2,
             "#de77ae"
            ],
            [
             0.3,
             "#f1b6da"
            ],
            [
             0.4,
             "#fde0ef"
            ],
            [
             0.5,
             "#f7f7f7"
            ],
            [
             0.6,
             "#e6f5d0"
            ],
            [
             0.7,
             "#b8e186"
            ],
            [
             0.8,
             "#7fbc41"
            ],
            [
             0.9,
             "#4d9221"
            ],
            [
             1,
             "#276419"
            ]
           ],
           "sequential": [
            [
             0,
             "#0d0887"
            ],
            [
             0.1111111111111111,
             "#46039f"
            ],
            [
             0.2222222222222222,
             "#7201a8"
            ],
            [
             0.3333333333333333,
             "#9c179e"
            ],
            [
             0.4444444444444444,
             "#bd3786"
            ],
            [
             0.5555555555555556,
             "#d8576b"
            ],
            [
             0.6666666666666666,
             "#ed7953"
            ],
            [
             0.7777777777777778,
             "#fb9f3a"
            ],
            [
             0.8888888888888888,
             "#fdca26"
            ],
            [
             1,
             "#f0f921"
            ]
           ],
           "sequentialminus": [
            [
             0,
             "#0d0887"
            ],
            [
             0.1111111111111111,
             "#46039f"
            ],
            [
             0.2222222222222222,
             "#7201a8"
            ],
            [
             0.3333333333333333,
             "#9c179e"
            ],
            [
             0.4444444444444444,
             "#bd3786"
            ],
            [
             0.5555555555555556,
             "#d8576b"
            ],
            [
             0.6666666666666666,
             "#ed7953"
            ],
            [
             0.7777777777777778,
             "#fb9f3a"
            ],
            [
             0.8888888888888888,
             "#fdca26"
            ],
            [
             1,
             "#f0f921"
            ]
           ]
          },
          "colorway": [
           "#636efa",
           "#EF553B",
           "#00cc96",
           "#ab63fa",
           "#FFA15A",
           "#19d3f3",
           "#FF6692",
           "#B6E880",
           "#FF97FF",
           "#FECB52"
          ],
          "font": {
           "color": "#2a3f5f"
          },
          "geo": {
           "bgcolor": "white",
           "lakecolor": "white",
           "landcolor": "#E5ECF6",
           "showlakes": true,
           "showland": true,
           "subunitcolor": "white"
          },
          "hoverlabel": {
           "align": "left"
          },
          "hovermode": "closest",
          "mapbox": {
           "style": "light"
          },
          "paper_bgcolor": "white",
          "plot_bgcolor": "#E5ECF6",
          "polar": {
           "angularaxis": {
            "gridcolor": "white",
            "linecolor": "white",
            "ticks": ""
           },
           "bgcolor": "#E5ECF6",
           "radialaxis": {
            "gridcolor": "white",
            "linecolor": "white",
            "ticks": ""
           }
          },
          "scene": {
           "xaxis": {
            "backgroundcolor": "#E5ECF6",
            "gridcolor": "white",
            "gridwidth": 2,
            "linecolor": "white",
            "showbackground": true,
            "ticks": "",
            "zerolinecolor": "white"
           },
           "yaxis": {
            "backgroundcolor": "#E5ECF6",
            "gridcolor": "white",
            "gridwidth": 2,
            "linecolor": "white",
            "showbackground": true,
            "ticks": "",
            "zerolinecolor": "white"
           },
           "zaxis": {
            "backgroundcolor": "#E5ECF6",
            "gridcolor": "white",
            "gridwidth": 2,
            "linecolor": "white",
            "showbackground": true,
            "ticks": "",
            "zerolinecolor": "white"
           }
          },
          "shapedefaults": {
           "line": {
            "color": "#2a3f5f"
           }
          },
          "ternary": {
           "aaxis": {
            "gridcolor": "white",
            "linecolor": "white",
            "ticks": ""
           },
           "baxis": {
            "gridcolor": "white",
            "linecolor": "white",
            "ticks": ""
           },
           "bgcolor": "#E5ECF6",
           "caxis": {
            "gridcolor": "white",
            "linecolor": "white",
            "ticks": ""
           }
          },
          "title": {
           "x": 0.05
          },
          "xaxis": {
           "automargin": true,
           "gridcolor": "white",
           "linecolor": "white",
           "ticks": "",
           "title": {
            "standoff": 15
           },
           "zerolinecolor": "white",
           "zerolinewidth": 2
          },
          "yaxis": {
           "automargin": true,
           "gridcolor": "white",
           "linecolor": "white",
           "ticks": "",
           "title": {
            "standoff": 15
           },
           "zerolinecolor": "white",
           "zerolinewidth": 2
          }
         }
        },
        "title": {
         "text": "Hyperparameter Importances"
        },
        "xaxis": {
         "title": {
          "text": "Hyperparameter Importance"
         }
        },
        "yaxis": {
         "title": {
          "text": "Hyperparameter"
         }
        }
       }
      }
     },
     "metadata": {},
     "output_type": "display_data"
    }
   ],
   "source": [
    "fig = vis.plot_param_importances(study)\n",
    "fig.show()\n"
   ]
  },
  {
   "cell_type": "code",
   "execution_count": 16,
   "metadata": {},
   "outputs": [],
   "source": [
    "best_params = study.best_trial.params\n",
    "\n",
    "\n",
    "regressor_pipeline = Pipeline([\n",
    "    ('preprocessor', preprocessor),\n",
    "    ('linear_model', LGBMRegressor(**best_params))\n",
    "])\n",
    "\n",
    "model = TransformedTargetRegressor(\n",
    "    regressor=regressor_pipeline,\n",
    "    transformer=PowerTransformer(method='box-cox', standardize=False)\n",
    ")"
   ]
  },
  {
   "cell_type": "code",
   "execution_count": 17,
   "metadata": {},
   "outputs": [
    {
     "name": "stdout",
     "output_type": "stream",
     "text": [
      "[LightGBM] [Warning] lambda_l1 is set=1.5854842816691632, reg_alpha=0.0 will be ignored. Current value: lambda_l1=1.5854842816691632\n",
      "[LightGBM] [Warning] lambda_l2 is set=8.833659109656566, reg_lambda=0.0 will be ignored. Current value: lambda_l2=8.833659109656566\n",
      "[LightGBM] [Warning] lambda_l1 is set=1.5854842816691632, reg_alpha=0.0 will be ignored. Current value: lambda_l1=1.5854842816691632\n",
      "[LightGBM] [Warning] lambda_l2 is set=8.833659109656566, reg_lambda=0.0 will be ignored. Current value: lambda_l2=8.833659109656566\n",
      "[LightGBM] [Info] Auto-choosing col-wise multi-threading, the overhead of testing was 0.018197 seconds.\n",
      "You can set `force_col_wise=true` to remove the overhead.\n",
      "[LightGBM] [Info] Total Bins 85037\n",
      "[LightGBM] [Info] Number of data points in the train set: 53999, number of used features: 395\n",
      "[LightGBM] [Info] Start training from score 5.933758\n"
     ]
    },
    {
     "data": {
      "text/html": [
       "<style>#sk-container-id-1 {\n",
       "  /* Definition of color scheme common for light and dark mode */\n",
       "  --sklearn-color-text: #000;\n",
       "  --sklearn-color-text-muted: #666;\n",
       "  --sklearn-color-line: gray;\n",
       "  /* Definition of color scheme for unfitted estimators */\n",
       "  --sklearn-color-unfitted-level-0: #fff5e6;\n",
       "  --sklearn-color-unfitted-level-1: #f6e4d2;\n",
       "  --sklearn-color-unfitted-level-2: #ffe0b3;\n",
       "  --sklearn-color-unfitted-level-3: chocolate;\n",
       "  /* Definition of color scheme for fitted estimators */\n",
       "  --sklearn-color-fitted-level-0: #f0f8ff;\n",
       "  --sklearn-color-fitted-level-1: #d4ebff;\n",
       "  --sklearn-color-fitted-level-2: #b3dbfd;\n",
       "  --sklearn-color-fitted-level-3: cornflowerblue;\n",
       "\n",
       "  /* Specific color for light theme */\n",
       "  --sklearn-color-text-on-default-background: var(--sg-text-color, var(--theme-code-foreground, var(--jp-content-font-color1, black)));\n",
       "  --sklearn-color-background: var(--sg-background-color, var(--theme-background, var(--jp-layout-color0, white)));\n",
       "  --sklearn-color-border-box: var(--sg-text-color, var(--theme-code-foreground, var(--jp-content-font-color1, black)));\n",
       "  --sklearn-color-icon: #696969;\n",
       "\n",
       "  @media (prefers-color-scheme: dark) {\n",
       "    /* Redefinition of color scheme for dark theme */\n",
       "    --sklearn-color-text-on-default-background: var(--sg-text-color, var(--theme-code-foreground, var(--jp-content-font-color1, white)));\n",
       "    --sklearn-color-background: var(--sg-background-color, var(--theme-background, var(--jp-layout-color0, #111)));\n",
       "    --sklearn-color-border-box: var(--sg-text-color, var(--theme-code-foreground, var(--jp-content-font-color1, white)));\n",
       "    --sklearn-color-icon: #878787;\n",
       "  }\n",
       "}\n",
       "\n",
       "#sk-container-id-1 {\n",
       "  color: var(--sklearn-color-text);\n",
       "}\n",
       "\n",
       "#sk-container-id-1 pre {\n",
       "  padding: 0;\n",
       "}\n",
       "\n",
       "#sk-container-id-1 input.sk-hidden--visually {\n",
       "  border: 0;\n",
       "  clip: rect(1px 1px 1px 1px);\n",
       "  clip: rect(1px, 1px, 1px, 1px);\n",
       "  height: 1px;\n",
       "  margin: -1px;\n",
       "  overflow: hidden;\n",
       "  padding: 0;\n",
       "  position: absolute;\n",
       "  width: 1px;\n",
       "}\n",
       "\n",
       "#sk-container-id-1 div.sk-dashed-wrapped {\n",
       "  border: 1px dashed var(--sklearn-color-line);\n",
       "  margin: 0 0.4em 0.5em 0.4em;\n",
       "  box-sizing: border-box;\n",
       "  padding-bottom: 0.4em;\n",
       "  background-color: var(--sklearn-color-background);\n",
       "}\n",
       "\n",
       "#sk-container-id-1 div.sk-container {\n",
       "  /* jupyter's `normalize.less` sets `[hidden] { display: none; }`\n",
       "     but bootstrap.min.css set `[hidden] { display: none !important; }`\n",
       "     so we also need the `!important` here to be able to override the\n",
       "     default hidden behavior on the sphinx rendered scikit-learn.org.\n",
       "     See: https://github.com/scikit-learn/scikit-learn/issues/21755 */\n",
       "  display: inline-block !important;\n",
       "  position: relative;\n",
       "}\n",
       "\n",
       "#sk-container-id-1 div.sk-text-repr-fallback {\n",
       "  display: none;\n",
       "}\n",
       "\n",
       "div.sk-parallel-item,\n",
       "div.sk-serial,\n",
       "div.sk-item {\n",
       "  /* draw centered vertical line to link estimators */\n",
       "  background-image: linear-gradient(var(--sklearn-color-text-on-default-background), var(--sklearn-color-text-on-default-background));\n",
       "  background-size: 2px 100%;\n",
       "  background-repeat: no-repeat;\n",
       "  background-position: center center;\n",
       "}\n",
       "\n",
       "/* Parallel-specific style estimator block */\n",
       "\n",
       "#sk-container-id-1 div.sk-parallel-item::after {\n",
       "  content: \"\";\n",
       "  width: 100%;\n",
       "  border-bottom: 2px solid var(--sklearn-color-text-on-default-background);\n",
       "  flex-grow: 1;\n",
       "}\n",
       "\n",
       "#sk-container-id-1 div.sk-parallel {\n",
       "  display: flex;\n",
       "  align-items: stretch;\n",
       "  justify-content: center;\n",
       "  background-color: var(--sklearn-color-background);\n",
       "  position: relative;\n",
       "}\n",
       "\n",
       "#sk-container-id-1 div.sk-parallel-item {\n",
       "  display: flex;\n",
       "  flex-direction: column;\n",
       "}\n",
       "\n",
       "#sk-container-id-1 div.sk-parallel-item:first-child::after {\n",
       "  align-self: flex-end;\n",
       "  width: 50%;\n",
       "}\n",
       "\n",
       "#sk-container-id-1 div.sk-parallel-item:last-child::after {\n",
       "  align-self: flex-start;\n",
       "  width: 50%;\n",
       "}\n",
       "\n",
       "#sk-container-id-1 div.sk-parallel-item:only-child::after {\n",
       "  width: 0;\n",
       "}\n",
       "\n",
       "/* Serial-specific style estimator block */\n",
       "\n",
       "#sk-container-id-1 div.sk-serial {\n",
       "  display: flex;\n",
       "  flex-direction: column;\n",
       "  align-items: center;\n",
       "  background-color: var(--sklearn-color-background);\n",
       "  padding-right: 1em;\n",
       "  padding-left: 1em;\n",
       "}\n",
       "\n",
       "\n",
       "/* Toggleable style: style used for estimator/Pipeline/ColumnTransformer box that is\n",
       "clickable and can be expanded/collapsed.\n",
       "- Pipeline and ColumnTransformer use this feature and define the default style\n",
       "- Estimators will overwrite some part of the style using the `sk-estimator` class\n",
       "*/\n",
       "\n",
       "/* Pipeline and ColumnTransformer style (default) */\n",
       "\n",
       "#sk-container-id-1 div.sk-toggleable {\n",
       "  /* Default theme specific background. It is overwritten whether we have a\n",
       "  specific estimator or a Pipeline/ColumnTransformer */\n",
       "  background-color: var(--sklearn-color-background);\n",
       "}\n",
       "\n",
       "/* Toggleable label */\n",
       "#sk-container-id-1 label.sk-toggleable__label {\n",
       "  cursor: pointer;\n",
       "  display: flex;\n",
       "  width: 100%;\n",
       "  margin-bottom: 0;\n",
       "  padding: 0.5em;\n",
       "  box-sizing: border-box;\n",
       "  text-align: center;\n",
       "  align-items: start;\n",
       "  justify-content: space-between;\n",
       "  gap: 0.5em;\n",
       "}\n",
       "\n",
       "#sk-container-id-1 label.sk-toggleable__label .caption {\n",
       "  font-size: 0.6rem;\n",
       "  font-weight: lighter;\n",
       "  color: var(--sklearn-color-text-muted);\n",
       "}\n",
       "\n",
       "#sk-container-id-1 label.sk-toggleable__label-arrow:before {\n",
       "  /* Arrow on the left of the label */\n",
       "  content: \"▸\";\n",
       "  float: left;\n",
       "  margin-right: 0.25em;\n",
       "  color: var(--sklearn-color-icon);\n",
       "}\n",
       "\n",
       "#sk-container-id-1 label.sk-toggleable__label-arrow:hover:before {\n",
       "  color: var(--sklearn-color-text);\n",
       "}\n",
       "\n",
       "/* Toggleable content - dropdown */\n",
       "\n",
       "#sk-container-id-1 div.sk-toggleable__content {\n",
       "  max-height: 0;\n",
       "  max-width: 0;\n",
       "  overflow: hidden;\n",
       "  text-align: left;\n",
       "  /* unfitted */\n",
       "  background-color: var(--sklearn-color-unfitted-level-0);\n",
       "}\n",
       "\n",
       "#sk-container-id-1 div.sk-toggleable__content.fitted {\n",
       "  /* fitted */\n",
       "  background-color: var(--sklearn-color-fitted-level-0);\n",
       "}\n",
       "\n",
       "#sk-container-id-1 div.sk-toggleable__content pre {\n",
       "  margin: 0.2em;\n",
       "  border-radius: 0.25em;\n",
       "  color: var(--sklearn-color-text);\n",
       "  /* unfitted */\n",
       "  background-color: var(--sklearn-color-unfitted-level-0);\n",
       "}\n",
       "\n",
       "#sk-container-id-1 div.sk-toggleable__content.fitted pre {\n",
       "  /* unfitted */\n",
       "  background-color: var(--sklearn-color-fitted-level-0);\n",
       "}\n",
       "\n",
       "#sk-container-id-1 input.sk-toggleable__control:checked~div.sk-toggleable__content {\n",
       "  /* Expand drop-down */\n",
       "  max-height: 200px;\n",
       "  max-width: 100%;\n",
       "  overflow: auto;\n",
       "}\n",
       "\n",
       "#sk-container-id-1 input.sk-toggleable__control:checked~label.sk-toggleable__label-arrow:before {\n",
       "  content: \"▾\";\n",
       "}\n",
       "\n",
       "/* Pipeline/ColumnTransformer-specific style */\n",
       "\n",
       "#sk-container-id-1 div.sk-label input.sk-toggleable__control:checked~label.sk-toggleable__label {\n",
       "  color: var(--sklearn-color-text);\n",
       "  background-color: var(--sklearn-color-unfitted-level-2);\n",
       "}\n",
       "\n",
       "#sk-container-id-1 div.sk-label.fitted input.sk-toggleable__control:checked~label.sk-toggleable__label {\n",
       "  background-color: var(--sklearn-color-fitted-level-2);\n",
       "}\n",
       "\n",
       "/* Estimator-specific style */\n",
       "\n",
       "/* Colorize estimator box */\n",
       "#sk-container-id-1 div.sk-estimator input.sk-toggleable__control:checked~label.sk-toggleable__label {\n",
       "  /* unfitted */\n",
       "  background-color: var(--sklearn-color-unfitted-level-2);\n",
       "}\n",
       "\n",
       "#sk-container-id-1 div.sk-estimator.fitted input.sk-toggleable__control:checked~label.sk-toggleable__label {\n",
       "  /* fitted */\n",
       "  background-color: var(--sklearn-color-fitted-level-2);\n",
       "}\n",
       "\n",
       "#sk-container-id-1 div.sk-label label.sk-toggleable__label,\n",
       "#sk-container-id-1 div.sk-label label {\n",
       "  /* The background is the default theme color */\n",
       "  color: var(--sklearn-color-text-on-default-background);\n",
       "}\n",
       "\n",
       "/* On hover, darken the color of the background */\n",
       "#sk-container-id-1 div.sk-label:hover label.sk-toggleable__label {\n",
       "  color: var(--sklearn-color-text);\n",
       "  background-color: var(--sklearn-color-unfitted-level-2);\n",
       "}\n",
       "\n",
       "/* Label box, darken color on hover, fitted */\n",
       "#sk-container-id-1 div.sk-label.fitted:hover label.sk-toggleable__label.fitted {\n",
       "  color: var(--sklearn-color-text);\n",
       "  background-color: var(--sklearn-color-fitted-level-2);\n",
       "}\n",
       "\n",
       "/* Estimator label */\n",
       "\n",
       "#sk-container-id-1 div.sk-label label {\n",
       "  font-family: monospace;\n",
       "  font-weight: bold;\n",
       "  display: inline-block;\n",
       "  line-height: 1.2em;\n",
       "}\n",
       "\n",
       "#sk-container-id-1 div.sk-label-container {\n",
       "  text-align: center;\n",
       "}\n",
       "\n",
       "/* Estimator-specific */\n",
       "#sk-container-id-1 div.sk-estimator {\n",
       "  font-family: monospace;\n",
       "  border: 1px dotted var(--sklearn-color-border-box);\n",
       "  border-radius: 0.25em;\n",
       "  box-sizing: border-box;\n",
       "  margin-bottom: 0.5em;\n",
       "  /* unfitted */\n",
       "  background-color: var(--sklearn-color-unfitted-level-0);\n",
       "}\n",
       "\n",
       "#sk-container-id-1 div.sk-estimator.fitted {\n",
       "  /* fitted */\n",
       "  background-color: var(--sklearn-color-fitted-level-0);\n",
       "}\n",
       "\n",
       "/* on hover */\n",
       "#sk-container-id-1 div.sk-estimator:hover {\n",
       "  /* unfitted */\n",
       "  background-color: var(--sklearn-color-unfitted-level-2);\n",
       "}\n",
       "\n",
       "#sk-container-id-1 div.sk-estimator.fitted:hover {\n",
       "  /* fitted */\n",
       "  background-color: var(--sklearn-color-fitted-level-2);\n",
       "}\n",
       "\n",
       "/* Specification for estimator info (e.g. \"i\" and \"?\") */\n",
       "\n",
       "/* Common style for \"i\" and \"?\" */\n",
       "\n",
       ".sk-estimator-doc-link,\n",
       "a:link.sk-estimator-doc-link,\n",
       "a:visited.sk-estimator-doc-link {\n",
       "  float: right;\n",
       "  font-size: smaller;\n",
       "  line-height: 1em;\n",
       "  font-family: monospace;\n",
       "  background-color: var(--sklearn-color-background);\n",
       "  border-radius: 1em;\n",
       "  height: 1em;\n",
       "  width: 1em;\n",
       "  text-decoration: none !important;\n",
       "  margin-left: 0.5em;\n",
       "  text-align: center;\n",
       "  /* unfitted */\n",
       "  border: var(--sklearn-color-unfitted-level-1) 1pt solid;\n",
       "  color: var(--sklearn-color-unfitted-level-1);\n",
       "}\n",
       "\n",
       ".sk-estimator-doc-link.fitted,\n",
       "a:link.sk-estimator-doc-link.fitted,\n",
       "a:visited.sk-estimator-doc-link.fitted {\n",
       "  /* fitted */\n",
       "  border: var(--sklearn-color-fitted-level-1) 1pt solid;\n",
       "  color: var(--sklearn-color-fitted-level-1);\n",
       "}\n",
       "\n",
       "/* On hover */\n",
       "div.sk-estimator:hover .sk-estimator-doc-link:hover,\n",
       ".sk-estimator-doc-link:hover,\n",
       "div.sk-label-container:hover .sk-estimator-doc-link:hover,\n",
       ".sk-estimator-doc-link:hover {\n",
       "  /* unfitted */\n",
       "  background-color: var(--sklearn-color-unfitted-level-3);\n",
       "  color: var(--sklearn-color-background);\n",
       "  text-decoration: none;\n",
       "}\n",
       "\n",
       "div.sk-estimator.fitted:hover .sk-estimator-doc-link.fitted:hover,\n",
       ".sk-estimator-doc-link.fitted:hover,\n",
       "div.sk-label-container:hover .sk-estimator-doc-link.fitted:hover,\n",
       ".sk-estimator-doc-link.fitted:hover {\n",
       "  /* fitted */\n",
       "  background-color: var(--sklearn-color-fitted-level-3);\n",
       "  color: var(--sklearn-color-background);\n",
       "  text-decoration: none;\n",
       "}\n",
       "\n",
       "/* Span, style for the box shown on hovering the info icon */\n",
       ".sk-estimator-doc-link span {\n",
       "  display: none;\n",
       "  z-index: 9999;\n",
       "  position: relative;\n",
       "  font-weight: normal;\n",
       "  right: .2ex;\n",
       "  padding: .5ex;\n",
       "  margin: .5ex;\n",
       "  width: min-content;\n",
       "  min-width: 20ex;\n",
       "  max-width: 50ex;\n",
       "  color: var(--sklearn-color-text);\n",
       "  box-shadow: 2pt 2pt 4pt #999;\n",
       "  /* unfitted */\n",
       "  background: var(--sklearn-color-unfitted-level-0);\n",
       "  border: .5pt solid var(--sklearn-color-unfitted-level-3);\n",
       "}\n",
       "\n",
       ".sk-estimator-doc-link.fitted span {\n",
       "  /* fitted */\n",
       "  background: var(--sklearn-color-fitted-level-0);\n",
       "  border: var(--sklearn-color-fitted-level-3);\n",
       "}\n",
       "\n",
       ".sk-estimator-doc-link:hover span {\n",
       "  display: block;\n",
       "}\n",
       "\n",
       "/* \"?\"-specific style due to the `<a>` HTML tag */\n",
       "\n",
       "#sk-container-id-1 a.estimator_doc_link {\n",
       "  float: right;\n",
       "  font-size: 1rem;\n",
       "  line-height: 1em;\n",
       "  font-family: monospace;\n",
       "  background-color: var(--sklearn-color-background);\n",
       "  border-radius: 1rem;\n",
       "  height: 1rem;\n",
       "  width: 1rem;\n",
       "  text-decoration: none;\n",
       "  /* unfitted */\n",
       "  color: var(--sklearn-color-unfitted-level-1);\n",
       "  border: var(--sklearn-color-unfitted-level-1) 1pt solid;\n",
       "}\n",
       "\n",
       "#sk-container-id-1 a.estimator_doc_link.fitted {\n",
       "  /* fitted */\n",
       "  border: var(--sklearn-color-fitted-level-1) 1pt solid;\n",
       "  color: var(--sklearn-color-fitted-level-1);\n",
       "}\n",
       "\n",
       "/* On hover */\n",
       "#sk-container-id-1 a.estimator_doc_link:hover {\n",
       "  /* unfitted */\n",
       "  background-color: var(--sklearn-color-unfitted-level-3);\n",
       "  color: var(--sklearn-color-background);\n",
       "  text-decoration: none;\n",
       "}\n",
       "\n",
       "#sk-container-id-1 a.estimator_doc_link.fitted:hover {\n",
       "  /* fitted */\n",
       "  background-color: var(--sklearn-color-fitted-level-3);\n",
       "}\n",
       "</style><div id=\"sk-container-id-1\" class=\"sk-top-container\"><div class=\"sk-text-repr-fallback\"><pre>TransformedTargetRegressor(regressor=Pipeline(steps=[(&#x27;preprocessor&#x27;,\n",
       "                                                      ColumnTransformer(transformers=[(&#x27;log_inc&#x27;,\n",
       "                                                                                       Pipeline(steps=[(&#x27;log&#x27;,\n",
       "                                                                                                        FunctionTransformer(func=&lt;ufunc &#x27;log&#x27;&gt;)),\n",
       "                                                                                                       (&#x27;scaler&#x27;,\n",
       "                                                                                                        StandardScaler())]),\n",
       "                                                                                       [&#x27;InitialIncurredCalimsCost&#x27;,\n",
       "                                                                                        &#x27;WeeklyWages&#x27;]),\n",
       "                                                                                      (&#x27;minmax_scaler&#x27;,\n",
       "                                                                                       MinMaxScaler(),\n",
       "                                                                                       [&#x27;Age&#x27;,\n",
       "                                                                                        &#x27;YearAccident&#x27;]),\n",
       "                                                                                      (&#x27;gender_bool&#x27;,\n",
       "                                                                                       FunctionTransformer(func=&lt;fun...\n",
       "                                                                                      (&#x27;std_scaler&#x27;,\n",
       "                                                                                       StandardScaler(),\n",
       "                                                                                       [&#x27;event_median_cost&#x27;])])),\n",
       "                                                     (&#x27;linear_model&#x27;,\n",
       "                                                      LGBMRegressor(colsample_bytree=0.6527923965773857,\n",
       "                                                                    lambda_l1=1.5854842816691632,\n",
       "                                                                    lambda_l2=8.833659109656566,\n",
       "                                                                    learning_rate=0.09134879752884997,\n",
       "                                                                    max_depth=10,\n",
       "                                                                    min_child_weight=4,\n",
       "                                                                    n_estimators=200,\n",
       "                                                                    subsample=0.7406110320807305))]),\n",
       "                           transformer=PowerTransformer(method=&#x27;box-cox&#x27;,\n",
       "                                                        standardize=False))</pre><b>In a Jupyter environment, please rerun this cell to show the HTML representation or trust the notebook. <br />On GitHub, the HTML representation is unable to render, please try loading this page with nbviewer.org.</b></div><div class=\"sk-container\" hidden><div class=\"sk-item sk-dashed-wrapped\"><div class=\"sk-label-container\"><div class=\"sk-label fitted sk-toggleable\"><input class=\"sk-toggleable__control sk-hidden--visually\" id=\"sk-estimator-id-1\" type=\"checkbox\" ><label for=\"sk-estimator-id-1\" class=\"sk-toggleable__label fitted sk-toggleable__label-arrow\"><div><div>TransformedTargetRegressor</div></div><div><a class=\"sk-estimator-doc-link fitted\" rel=\"noreferrer\" target=\"_blank\" href=\"https://scikit-learn.org/1.6/modules/generated/sklearn.compose.TransformedTargetRegressor.html\">?<span>Documentation for TransformedTargetRegressor</span></a><span class=\"sk-estimator-doc-link fitted\">i<span>Fitted</span></span></div></label><div class=\"sk-toggleable__content fitted\"><pre>TransformedTargetRegressor(regressor=Pipeline(steps=[(&#x27;preprocessor&#x27;,\n",
       "                                                      ColumnTransformer(transformers=[(&#x27;log_inc&#x27;,\n",
       "                                                                                       Pipeline(steps=[(&#x27;log&#x27;,\n",
       "                                                                                                        FunctionTransformer(func=&lt;ufunc &#x27;log&#x27;&gt;)),\n",
       "                                                                                                       (&#x27;scaler&#x27;,\n",
       "                                                                                                        StandardScaler())]),\n",
       "                                                                                       [&#x27;InitialIncurredCalimsCost&#x27;,\n",
       "                                                                                        &#x27;WeeklyWages&#x27;]),\n",
       "                                                                                      (&#x27;minmax_scaler&#x27;,\n",
       "                                                                                       MinMaxScaler(),\n",
       "                                                                                       [&#x27;Age&#x27;,\n",
       "                                                                                        &#x27;YearAccident&#x27;]),\n",
       "                                                                                      (&#x27;gender_bool&#x27;,\n",
       "                                                                                       FunctionTransformer(func=&lt;fun...\n",
       "                                                                                      (&#x27;std_scaler&#x27;,\n",
       "                                                                                       StandardScaler(),\n",
       "                                                                                       [&#x27;event_median_cost&#x27;])])),\n",
       "                                                     (&#x27;linear_model&#x27;,\n",
       "                                                      LGBMRegressor(colsample_bytree=0.6527923965773857,\n",
       "                                                                    lambda_l1=1.5854842816691632,\n",
       "                                                                    lambda_l2=8.833659109656566,\n",
       "                                                                    learning_rate=0.09134879752884997,\n",
       "                                                                    max_depth=10,\n",
       "                                                                    min_child_weight=4,\n",
       "                                                                    n_estimators=200,\n",
       "                                                                    subsample=0.7406110320807305))]),\n",
       "                           transformer=PowerTransformer(method=&#x27;box-cox&#x27;,\n",
       "                                                        standardize=False))</pre></div> </div></div><div class=\"sk-parallel\"><div class=\"sk-parallel-item\"><div class=\"sk-item\"><div class=\"sk-label-container\"><div class=\"sk-label fitted sk-toggleable\"><input class=\"sk-toggleable__control sk-hidden--visually\" id=\"sk-estimator-id-2\" type=\"checkbox\" ><label for=\"sk-estimator-id-2\" class=\"sk-toggleable__label fitted sk-toggleable__label-arrow\"><div><div>regressor: Pipeline</div></div></label><div class=\"sk-toggleable__content fitted\"><pre>Pipeline(steps=[(&#x27;preprocessor&#x27;,\n",
       "                 ColumnTransformer(transformers=[(&#x27;log_inc&#x27;,\n",
       "                                                  Pipeline(steps=[(&#x27;log&#x27;,\n",
       "                                                                   FunctionTransformer(func=&lt;ufunc &#x27;log&#x27;&gt;)),\n",
       "                                                                  (&#x27;scaler&#x27;,\n",
       "                                                                   StandardScaler())]),\n",
       "                                                  [&#x27;InitialIncurredCalimsCost&#x27;,\n",
       "                                                   &#x27;WeeklyWages&#x27;]),\n",
       "                                                 (&#x27;minmax_scaler&#x27;,\n",
       "                                                  MinMaxScaler(),\n",
       "                                                  [&#x27;Age&#x27;, &#x27;YearAccident&#x27;]),\n",
       "                                                 (&#x27;gender_bool&#x27;,\n",
       "                                                  FunctionTransformer(func=&lt;function gender_to_bool at 0x1293917e0&gt;),\n",
       "                                                  [&#x27;...\n",
       "                                                   &#x27;body_feat_26&#x27;,\n",
       "                                                   &#x27;body_feat_27&#x27;,\n",
       "                                                   &#x27;body_feat_28&#x27;,\n",
       "                                                   &#x27;body_feat_29&#x27;, ...]),\n",
       "                                                 (&#x27;std_scaler&#x27;,\n",
       "                                                  StandardScaler(),\n",
       "                                                  [&#x27;event_median_cost&#x27;])])),\n",
       "                (&#x27;linear_model&#x27;,\n",
       "                 LGBMRegressor(colsample_bytree=0.6527923965773857,\n",
       "                               lambda_l1=1.5854842816691632,\n",
       "                               lambda_l2=8.833659109656566,\n",
       "                               learning_rate=0.09134879752884997, max_depth=10,\n",
       "                               min_child_weight=4, n_estimators=200,\n",
       "                               subsample=0.7406110320807305))])</pre></div> </div></div><div class=\"sk-serial\"><div class=\"sk-item\"><div class=\"sk-serial\"><div class=\"sk-item sk-dashed-wrapped\"><div class=\"sk-label-container\"><div class=\"sk-label fitted sk-toggleable\"><input class=\"sk-toggleable__control sk-hidden--visually\" id=\"sk-estimator-id-3\" type=\"checkbox\" ><label for=\"sk-estimator-id-3\" class=\"sk-toggleable__label fitted sk-toggleable__label-arrow\"><div><div>preprocessor: ColumnTransformer</div></div><div><a class=\"sk-estimator-doc-link fitted\" rel=\"noreferrer\" target=\"_blank\" href=\"https://scikit-learn.org/1.6/modules/generated/sklearn.compose.ColumnTransformer.html\">?<span>Documentation for preprocessor: ColumnTransformer</span></a></div></label><div class=\"sk-toggleable__content fitted\"><pre>ColumnTransformer(transformers=[(&#x27;log_inc&#x27;,\n",
       "                                 Pipeline(steps=[(&#x27;log&#x27;,\n",
       "                                                  FunctionTransformer(func=&lt;ufunc &#x27;log&#x27;&gt;)),\n",
       "                                                 (&#x27;scaler&#x27;, StandardScaler())]),\n",
       "                                 [&#x27;InitialIncurredCalimsCost&#x27;, &#x27;WeeklyWages&#x27;]),\n",
       "                                (&#x27;minmax_scaler&#x27;, MinMaxScaler(),\n",
       "                                 [&#x27;Age&#x27;, &#x27;YearAccident&#x27;]),\n",
       "                                (&#x27;gender_bool&#x27;,\n",
       "                                 FunctionTransformer(func=&lt;function gender_to_bool at 0x1293917e0&gt;),\n",
       "                                 [&#x27;Gender&#x27;]),\n",
       "                                (&#x27;hww_bool_onehot&#x27;,\n",
       "                                 Pip...\n",
       "                                  &#x27;body_feat_9&#x27;, &#x27;body_feat_10&#x27;, &#x27;body_feat_11&#x27;,\n",
       "                                  &#x27;body_feat_12&#x27;, &#x27;body_feat_13&#x27;,\n",
       "                                  &#x27;body_feat_14&#x27;, &#x27;body_feat_15&#x27;,\n",
       "                                  &#x27;body_feat_16&#x27;, &#x27;body_feat_17&#x27;,\n",
       "                                  &#x27;body_feat_18&#x27;, &#x27;body_feat_19&#x27;,\n",
       "                                  &#x27;body_feat_20&#x27;, &#x27;body_feat_21&#x27;,\n",
       "                                  &#x27;body_feat_22&#x27;, &#x27;body_feat_23&#x27;,\n",
       "                                  &#x27;body_feat_24&#x27;, &#x27;body_feat_25&#x27;,\n",
       "                                  &#x27;body_feat_26&#x27;, &#x27;body_feat_27&#x27;,\n",
       "                                  &#x27;body_feat_28&#x27;, &#x27;body_feat_29&#x27;, ...]),\n",
       "                                (&#x27;std_scaler&#x27;, StandardScaler(),\n",
       "                                 [&#x27;event_median_cost&#x27;])])</pre></div> </div></div><div class=\"sk-parallel\"><div class=\"sk-parallel-item\"><div class=\"sk-item\"><div class=\"sk-label-container\"><div class=\"sk-label fitted sk-toggleable\"><input class=\"sk-toggleable__control sk-hidden--visually\" id=\"sk-estimator-id-4\" type=\"checkbox\" ><label for=\"sk-estimator-id-4\" class=\"sk-toggleable__label fitted sk-toggleable__label-arrow\"><div><div>log_inc</div></div></label><div class=\"sk-toggleable__content fitted\"><pre>[&#x27;InitialIncurredCalimsCost&#x27;, &#x27;WeeklyWages&#x27;]</pre></div> </div></div><div class=\"sk-serial\"><div class=\"sk-item\"><div class=\"sk-serial\"><div class=\"sk-item\"><div class=\"sk-estimator fitted sk-toggleable\"><input class=\"sk-toggleable__control sk-hidden--visually\" id=\"sk-estimator-id-5\" type=\"checkbox\" ><label for=\"sk-estimator-id-5\" class=\"sk-toggleable__label fitted sk-toggleable__label-arrow\"><div><div>log</div><div class=\"caption\">FunctionTransformer</div></div><div><a class=\"sk-estimator-doc-link fitted\" rel=\"noreferrer\" target=\"_blank\" href=\"https://scikit-learn.org/1.6/modules/generated/sklearn.preprocessing.FunctionTransformer.html\">?<span>Documentation for FunctionTransformer</span></a></div></label><div class=\"sk-toggleable__content fitted\"><pre>FunctionTransformer(func=&lt;ufunc &#x27;log&#x27;&gt;)</pre></div> </div></div><div class=\"sk-item\"><div class=\"sk-estimator fitted sk-toggleable\"><input class=\"sk-toggleable__control sk-hidden--visually\" id=\"sk-estimator-id-6\" type=\"checkbox\" ><label for=\"sk-estimator-id-6\" class=\"sk-toggleable__label fitted sk-toggleable__label-arrow\"><div><div>StandardScaler</div></div><div><a class=\"sk-estimator-doc-link fitted\" rel=\"noreferrer\" target=\"_blank\" href=\"https://scikit-learn.org/1.6/modules/generated/sklearn.preprocessing.StandardScaler.html\">?<span>Documentation for StandardScaler</span></a></div></label><div class=\"sk-toggleable__content fitted\"><pre>StandardScaler()</pre></div> </div></div></div></div></div></div></div><div class=\"sk-parallel-item\"><div class=\"sk-item\"><div class=\"sk-label-container\"><div class=\"sk-label fitted sk-toggleable\"><input class=\"sk-toggleable__control sk-hidden--visually\" id=\"sk-estimator-id-7\" type=\"checkbox\" ><label for=\"sk-estimator-id-7\" class=\"sk-toggleable__label fitted sk-toggleable__label-arrow\"><div><div>minmax_scaler</div></div></label><div class=\"sk-toggleable__content fitted\"><pre>[&#x27;Age&#x27;, &#x27;YearAccident&#x27;]</pre></div> </div></div><div class=\"sk-serial\"><div class=\"sk-item\"><div class=\"sk-estimator fitted sk-toggleable\"><input class=\"sk-toggleable__control sk-hidden--visually\" id=\"sk-estimator-id-8\" type=\"checkbox\" ><label for=\"sk-estimator-id-8\" class=\"sk-toggleable__label fitted sk-toggleable__label-arrow\"><div><div>MinMaxScaler</div></div><div><a class=\"sk-estimator-doc-link fitted\" rel=\"noreferrer\" target=\"_blank\" href=\"https://scikit-learn.org/1.6/modules/generated/sklearn.preprocessing.MinMaxScaler.html\">?<span>Documentation for MinMaxScaler</span></a></div></label><div class=\"sk-toggleable__content fitted\"><pre>MinMaxScaler()</pre></div> </div></div></div></div></div><div class=\"sk-parallel-item\"><div class=\"sk-item\"><div class=\"sk-label-container\"><div class=\"sk-label fitted sk-toggleable\"><input class=\"sk-toggleable__control sk-hidden--visually\" id=\"sk-estimator-id-9\" type=\"checkbox\" ><label for=\"sk-estimator-id-9\" class=\"sk-toggleable__label fitted sk-toggleable__label-arrow\"><div><div>gender_bool</div></div></label><div class=\"sk-toggleable__content fitted\"><pre>[&#x27;Gender&#x27;]</pre></div> </div></div><div class=\"sk-serial\"><div class=\"sk-item\"><div class=\"sk-estimator fitted sk-toggleable\"><input class=\"sk-toggleable__control sk-hidden--visually\" id=\"sk-estimator-id-10\" type=\"checkbox\" ><label for=\"sk-estimator-id-10\" class=\"sk-toggleable__label fitted sk-toggleable__label-arrow\"><div><div>gender_to_bool</div><div class=\"caption\">FunctionTransformer</div></div><div><a class=\"sk-estimator-doc-link fitted\" rel=\"noreferrer\" target=\"_blank\" href=\"https://scikit-learn.org/1.6/modules/generated/sklearn.preprocessing.FunctionTransformer.html\">?<span>Documentation for FunctionTransformer</span></a></div></label><div class=\"sk-toggleable__content fitted\"><pre>FunctionTransformer(func=&lt;function gender_to_bool at 0x1293917e0&gt;)</pre></div> </div></div></div></div></div><div class=\"sk-parallel-item\"><div class=\"sk-item\"><div class=\"sk-label-container\"><div class=\"sk-label fitted sk-toggleable\"><input class=\"sk-toggleable__control sk-hidden--visually\" id=\"sk-estimator-id-11\" type=\"checkbox\" ><label for=\"sk-estimator-id-11\" class=\"sk-toggleable__label fitted sk-toggleable__label-arrow\"><div><div>hww_bool_onehot</div></div></label><div class=\"sk-toggleable__content fitted\"><pre>[&#x27;HoursWorkedPerWeek&#x27;]</pre></div> </div></div><div class=\"sk-serial\"><div class=\"sk-item\"><div class=\"sk-serial\"><div class=\"sk-item\"><div class=\"sk-estimator fitted sk-toggleable\"><input class=\"sk-toggleable__control sk-hidden--visually\" id=\"sk-estimator-id-12\" type=\"checkbox\" ><label for=\"sk-estimator-id-12\" class=\"sk-toggleable__label fitted sk-toggleable__label-arrow\"><div><div>bucket_hours_worked</div><div class=\"caption\">FunctionTransformer</div></div><div><a class=\"sk-estimator-doc-link fitted\" rel=\"noreferrer\" target=\"_blank\" href=\"https://scikit-learn.org/1.6/modules/generated/sklearn.preprocessing.FunctionTransformer.html\">?<span>Documentation for FunctionTransformer</span></a></div></label><div class=\"sk-toggleable__content fitted\"><pre>FunctionTransformer(func=&lt;function bucket_hours_worked at 0x129391630&gt;)</pre></div> </div></div><div class=\"sk-item\"><div class=\"sk-estimator fitted sk-toggleable\"><input class=\"sk-toggleable__control sk-hidden--visually\" id=\"sk-estimator-id-13\" type=\"checkbox\" ><label for=\"sk-estimator-id-13\" class=\"sk-toggleable__label fitted sk-toggleable__label-arrow\"><div><div>OneHotEncoder</div></div><div><a class=\"sk-estimator-doc-link fitted\" rel=\"noreferrer\" target=\"_blank\" href=\"https://scikit-learn.org/1.6/modules/generated/sklearn.preprocessing.OneHotEncoder.html\">?<span>Documentation for OneHotEncoder</span></a></div></label><div class=\"sk-toggleable__content fitted\"><pre>OneHotEncoder(drop=&#x27;first&#x27;)</pre></div> </div></div></div></div></div></div></div><div class=\"sk-parallel-item\"><div class=\"sk-item\"><div class=\"sk-label-container\"><div class=\"sk-label fitted sk-toggleable\"><input class=\"sk-toggleable__control sk-hidden--visually\" id=\"sk-estimator-id-14\" type=\"checkbox\" ><label for=\"sk-estimator-id-14\" class=\"sk-toggleable__label fitted sk-toggleable__label-arrow\"><div><div>dtt_bool_onehot</div></div></label><div class=\"sk-toggleable__content fitted\"><pre>[&#x27;DaysToReport&#x27;]</pre></div> </div></div><div class=\"sk-serial\"><div class=\"sk-item\"><div class=\"sk-serial\"><div class=\"sk-item\"><div class=\"sk-estimator fitted sk-toggleable\"><input class=\"sk-toggleable__control sk-hidden--visually\" id=\"sk-estimator-id-15\" type=\"checkbox\" ><label for=\"sk-estimator-id-15\" class=\"sk-toggleable__label fitted sk-toggleable__label-arrow\"><div><div>bucket_days_to_report</div><div class=\"caption\">FunctionTransformer</div></div><div><a class=\"sk-estimator-doc-link fitted\" rel=\"noreferrer\" target=\"_blank\" href=\"https://scikit-learn.org/1.6/modules/generated/sklearn.preprocessing.FunctionTransformer.html\">?<span>Documentation for FunctionTransformer</span></a></div></label><div class=\"sk-toggleable__content fitted\"><pre>FunctionTransformer(func=&lt;function bucket_days_to_report at 0x1293916c0&gt;)</pre></div> </div></div><div class=\"sk-item\"><div class=\"sk-estimator fitted sk-toggleable\"><input class=\"sk-toggleable__control sk-hidden--visually\" id=\"sk-estimator-id-16\" type=\"checkbox\" ><label for=\"sk-estimator-id-16\" class=\"sk-toggleable__label fitted sk-toggleable__label-arrow\"><div><div>OneHotEncoder</div></div><div><a class=\"sk-estimator-doc-link fitted\" rel=\"noreferrer\" target=\"_blank\" href=\"https://scikit-learn.org/1.6/modules/generated/sklearn.preprocessing.OneHotEncoder.html\">?<span>Documentation for OneHotEncoder</span></a></div></label><div class=\"sk-toggleable__content fitted\"><pre>OneHotEncoder(drop=&#x27;first&#x27;)</pre></div> </div></div></div></div></div></div></div><div class=\"sk-parallel-item\"><div class=\"sk-item\"><div class=\"sk-label-container\"><div class=\"sk-label fitted sk-toggleable\"><input class=\"sk-toggleable__control sk-hidden--visually\" id=\"sk-estimator-id-17\" type=\"checkbox\" ><label for=\"sk-estimator-id-17\" class=\"sk-toggleable__label fitted sk-toggleable__label-arrow\"><div><div>has_dependent_bool</div></div></label><div class=\"sk-toggleable__content fitted\"><pre>[&#x27;DependentChildren&#x27;]</pre></div> </div></div><div class=\"sk-serial\"><div class=\"sk-item\"><div class=\"sk-estimator fitted sk-toggleable\"><input class=\"sk-toggleable__control sk-hidden--visually\" id=\"sk-estimator-id-18\" type=\"checkbox\" ><label for=\"sk-estimator-id-18\" class=\"sk-toggleable__label fitted sk-toggleable__label-arrow\"><div><div>Binarizer</div></div><div><a class=\"sk-estimator-doc-link fitted\" rel=\"noreferrer\" target=\"_blank\" href=\"https://scikit-learn.org/1.6/modules/generated/sklearn.preprocessing.Binarizer.html\">?<span>Documentation for Binarizer</span></a></div></label><div class=\"sk-toggleable__content fitted\"><pre>Binarizer(threshold=0)</pre></div> </div></div></div></div></div><div class=\"sk-parallel-item\"><div class=\"sk-item\"><div class=\"sk-label-container\"><div class=\"sk-label fitted sk-toggleable\"><input class=\"sk-toggleable__control sk-hidden--visually\" id=\"sk-estimator-id-19\" type=\"checkbox\" ><label for=\"sk-estimator-id-19\" class=\"sk-toggleable__label fitted sk-toggleable__label-arrow\"><div><div>worked_five_days_bool</div></div></label><div class=\"sk-toggleable__content fitted\"><pre>[&#x27;DaysWorkedPerWeek&#x27;]</pre></div> </div></div><div class=\"sk-serial\"><div class=\"sk-item\"><div class=\"sk-estimator fitted sk-toggleable\"><input class=\"sk-toggleable__control sk-hidden--visually\" id=\"sk-estimator-id-20\" type=\"checkbox\" ><label for=\"sk-estimator-id-20\" class=\"sk-toggleable__label fitted sk-toggleable__label-arrow\"><div><div>days_worked_binarize</div><div class=\"caption\">FunctionTransformer</div></div><div><a class=\"sk-estimator-doc-link fitted\" rel=\"noreferrer\" target=\"_blank\" href=\"https://scikit-learn.org/1.6/modules/generated/sklearn.preprocessing.FunctionTransformer.html\">?<span>Documentation for FunctionTransformer</span></a></div></label><div class=\"sk-toggleable__content fitted\"><pre>FunctionTransformer(func=&lt;function days_worked_binarize at 0x129391750&gt;)</pre></div> </div></div></div></div></div><div class=\"sk-parallel-item\"><div class=\"sk-item\"><div class=\"sk-label-container\"><div class=\"sk-label fitted sk-toggleable\"><input class=\"sk-toggleable__control sk-hidden--visually\" id=\"sk-estimator-id-21\" type=\"checkbox\" ><label for=\"sk-estimator-id-21\" class=\"sk-toggleable__label fitted sk-toggleable__label-arrow\"><div><div>onehot</div></div></label><div class=\"sk-toggleable__content fitted\"><pre>[&#x27;MaritalStatus&#x27;, &#x27;PartTimeFullTime&#x27;]</pre></div> </div></div><div class=\"sk-serial\"><div class=\"sk-item\"><div class=\"sk-estimator fitted sk-toggleable\"><input class=\"sk-toggleable__control sk-hidden--visually\" id=\"sk-estimator-id-22\" type=\"checkbox\" ><label for=\"sk-estimator-id-22\" class=\"sk-toggleable__label fitted sk-toggleable__label-arrow\"><div><div>OneHotEncoder</div></div><div><a class=\"sk-estimator-doc-link fitted\" rel=\"noreferrer\" target=\"_blank\" href=\"https://scikit-learn.org/1.6/modules/generated/sklearn.preprocessing.OneHotEncoder.html\">?<span>Documentation for OneHotEncoder</span></a></div></label><div class=\"sk-toggleable__content fitted\"><pre>OneHotEncoder(drop=&#x27;first&#x27;)</pre></div> </div></div></div></div></div><div class=\"sk-parallel-item\"><div class=\"sk-item\"><div class=\"sk-label-container\"><div class=\"sk-label fitted sk-toggleable\"><input class=\"sk-toggleable__control sk-hidden--visually\" id=\"sk-estimator-id-23\" type=\"checkbox\" ><label for=\"sk-estimator-id-23\" class=\"sk-toggleable__label fitted sk-toggleable__label-arrow\"><div><div>pca_event_embeddings</div></div></label><div class=\"sk-toggleable__content fitted\"><pre>[&#x27;event_feat_0&#x27;, &#x27;event_feat_1&#x27;, &#x27;event_feat_2&#x27;, &#x27;event_feat_3&#x27;, &#x27;event_feat_4&#x27;, &#x27;event_feat_5&#x27;, &#x27;event_feat_6&#x27;, &#x27;event_feat_7&#x27;, &#x27;event_feat_8&#x27;, &#x27;event_feat_9&#x27;, &#x27;event_feat_10&#x27;, &#x27;event_feat_11&#x27;, &#x27;event_feat_12&#x27;, &#x27;event_feat_13&#x27;, &#x27;event_feat_14&#x27;, &#x27;event_feat_15&#x27;, &#x27;event_feat_16&#x27;, &#x27;event_feat_17&#x27;, &#x27;event_feat_18&#x27;, &#x27;event_feat_19&#x27;, &#x27;event_feat_20&#x27;, &#x27;event_feat_21&#x27;, &#x27;event_feat_22&#x27;, &#x27;event_feat_23&#x27;, &#x27;event_feat_24&#x27;, &#x27;event_feat_25&#x27;, &#x27;event_feat_26&#x27;, &#x27;event_feat_27&#x27;, &#x27;event_feat_28&#x27;, &#x27;event_feat_29&#x27;, &#x27;event_feat_30&#x27;, &#x27;event_feat_31&#x27;, &#x27;event_feat_32&#x27;, &#x27;event_feat_33&#x27;, &#x27;event_feat_34&#x27;, &#x27;event_feat_35&#x27;, &#x27;event_feat_36&#x27;, &#x27;event_feat_37&#x27;, &#x27;event_feat_38&#x27;, &#x27;event_feat_39&#x27;, &#x27;event_feat_40&#x27;, &#x27;event_feat_41&#x27;, &#x27;event_feat_42&#x27;, &#x27;event_feat_43&#x27;, &#x27;event_feat_44&#x27;, &#x27;event_feat_45&#x27;, &#x27;event_feat_46&#x27;, &#x27;event_feat_47&#x27;, &#x27;event_feat_48&#x27;, &#x27;event_feat_49&#x27;, &#x27;event_feat_50&#x27;, &#x27;event_feat_51&#x27;, &#x27;event_feat_52&#x27;, &#x27;event_feat_53&#x27;, &#x27;event_feat_54&#x27;, &#x27;event_feat_55&#x27;, &#x27;event_feat_56&#x27;, &#x27;event_feat_57&#x27;, &#x27;event_feat_58&#x27;, &#x27;event_feat_59&#x27;, &#x27;event_feat_60&#x27;, &#x27;event_feat_61&#x27;, &#x27;event_feat_62&#x27;, &#x27;event_feat_63&#x27;, &#x27;event_feat_64&#x27;, &#x27;event_feat_65&#x27;, &#x27;event_feat_66&#x27;, &#x27;event_feat_67&#x27;, &#x27;event_feat_68&#x27;, &#x27;event_feat_69&#x27;, &#x27;event_feat_70&#x27;, &#x27;event_feat_71&#x27;, &#x27;event_feat_72&#x27;, &#x27;event_feat_73&#x27;, &#x27;event_feat_74&#x27;, &#x27;event_feat_75&#x27;, &#x27;event_feat_76&#x27;, &#x27;event_feat_77&#x27;, &#x27;event_feat_78&#x27;, &#x27;event_feat_79&#x27;, &#x27;event_feat_80&#x27;, &#x27;event_feat_81&#x27;, &#x27;event_feat_82&#x27;, &#x27;event_feat_83&#x27;, &#x27;event_feat_84&#x27;, &#x27;event_feat_85&#x27;, &#x27;event_feat_86&#x27;, &#x27;event_feat_87&#x27;, &#x27;event_feat_88&#x27;, &#x27;event_feat_89&#x27;, &#x27;event_feat_90&#x27;, &#x27;event_feat_91&#x27;, &#x27;event_feat_92&#x27;, &#x27;event_feat_93&#x27;, &#x27;event_feat_94&#x27;, &#x27;event_feat_95&#x27;, &#x27;event_feat_96&#x27;, &#x27;event_feat_97&#x27;, &#x27;event_feat_98&#x27;, &#x27;event_feat_99&#x27;, &#x27;event_feat_100&#x27;, &#x27;event_feat_101&#x27;, &#x27;event_feat_102&#x27;, &#x27;event_feat_103&#x27;, &#x27;event_feat_104&#x27;, &#x27;event_feat_105&#x27;, &#x27;event_feat_106&#x27;, &#x27;event_feat_107&#x27;, &#x27;event_feat_108&#x27;, &#x27;event_feat_109&#x27;, &#x27;event_feat_110&#x27;, &#x27;event_feat_111&#x27;, &#x27;event_feat_112&#x27;, &#x27;event_feat_113&#x27;, &#x27;event_feat_114&#x27;, &#x27;event_feat_115&#x27;, &#x27;event_feat_116&#x27;, &#x27;event_feat_117&#x27;, &#x27;event_feat_118&#x27;, &#x27;event_feat_119&#x27;, &#x27;event_feat_120&#x27;, &#x27;event_feat_121&#x27;, &#x27;event_feat_122&#x27;, &#x27;event_feat_123&#x27;, &#x27;event_feat_124&#x27;, &#x27;event_feat_125&#x27;, &#x27;event_feat_126&#x27;, &#x27;event_feat_127&#x27;, &#x27;event_feat_128&#x27;, &#x27;event_feat_129&#x27;, &#x27;event_feat_130&#x27;, &#x27;event_feat_131&#x27;, &#x27;event_feat_132&#x27;, &#x27;event_feat_133&#x27;, &#x27;event_feat_134&#x27;, &#x27;event_feat_135&#x27;, &#x27;event_feat_136&#x27;, &#x27;event_feat_137&#x27;, &#x27;event_feat_138&#x27;, &#x27;event_feat_139&#x27;, &#x27;event_feat_140&#x27;, &#x27;event_feat_141&#x27;, &#x27;event_feat_142&#x27;, &#x27;event_feat_143&#x27;, &#x27;event_feat_144&#x27;, &#x27;event_feat_145&#x27;, &#x27;event_feat_146&#x27;, &#x27;event_feat_147&#x27;, &#x27;event_feat_148&#x27;, &#x27;event_feat_149&#x27;, &#x27;event_feat_150&#x27;, &#x27;event_feat_151&#x27;, &#x27;event_feat_152&#x27;, &#x27;event_feat_153&#x27;, &#x27;event_feat_154&#x27;, &#x27;event_feat_155&#x27;, &#x27;event_feat_156&#x27;, &#x27;event_feat_157&#x27;, &#x27;event_feat_158&#x27;, &#x27;event_feat_159&#x27;, &#x27;event_feat_160&#x27;, &#x27;event_feat_161&#x27;, &#x27;event_feat_162&#x27;, &#x27;event_feat_163&#x27;, &#x27;event_feat_164&#x27;, &#x27;event_feat_165&#x27;, &#x27;event_feat_166&#x27;, &#x27;event_feat_167&#x27;, &#x27;event_feat_168&#x27;, &#x27;event_feat_169&#x27;, &#x27;event_feat_170&#x27;, &#x27;event_feat_171&#x27;, &#x27;event_feat_172&#x27;, &#x27;event_feat_173&#x27;, &#x27;event_feat_174&#x27;, &#x27;event_feat_175&#x27;, &#x27;event_feat_176&#x27;, &#x27;event_feat_177&#x27;, &#x27;event_feat_178&#x27;, &#x27;event_feat_179&#x27;, &#x27;event_feat_180&#x27;, &#x27;event_feat_181&#x27;, &#x27;event_feat_182&#x27;, &#x27;event_feat_183&#x27;, &#x27;event_feat_184&#x27;, &#x27;event_feat_185&#x27;, &#x27;event_feat_186&#x27;, &#x27;event_feat_187&#x27;, &#x27;event_feat_188&#x27;, &#x27;event_feat_189&#x27;, &#x27;event_feat_190&#x27;, &#x27;event_feat_191&#x27;, &#x27;event_feat_192&#x27;, &#x27;event_feat_193&#x27;, &#x27;event_feat_194&#x27;, &#x27;event_feat_195&#x27;, &#x27;event_feat_196&#x27;, &#x27;event_feat_197&#x27;, &#x27;event_feat_198&#x27;, &#x27;event_feat_199&#x27;, &#x27;event_feat_200&#x27;, &#x27;event_feat_201&#x27;, &#x27;event_feat_202&#x27;, &#x27;event_feat_203&#x27;, &#x27;event_feat_204&#x27;, &#x27;event_feat_205&#x27;, &#x27;event_feat_206&#x27;, &#x27;event_feat_207&#x27;, &#x27;event_feat_208&#x27;, &#x27;event_feat_209&#x27;, &#x27;event_feat_210&#x27;, &#x27;event_feat_211&#x27;, &#x27;event_feat_212&#x27;, &#x27;event_feat_213&#x27;, &#x27;event_feat_214&#x27;, &#x27;event_feat_215&#x27;, &#x27;event_feat_216&#x27;, &#x27;event_feat_217&#x27;, &#x27;event_feat_218&#x27;, &#x27;event_feat_219&#x27;, &#x27;event_feat_220&#x27;, &#x27;event_feat_221&#x27;, &#x27;event_feat_222&#x27;, &#x27;event_feat_223&#x27;, &#x27;event_feat_224&#x27;, &#x27;event_feat_225&#x27;, &#x27;event_feat_226&#x27;, &#x27;event_feat_227&#x27;, &#x27;event_feat_228&#x27;, &#x27;event_feat_229&#x27;, &#x27;event_feat_230&#x27;, &#x27;event_feat_231&#x27;, &#x27;event_feat_232&#x27;, &#x27;event_feat_233&#x27;, &#x27;event_feat_234&#x27;, &#x27;event_feat_235&#x27;, &#x27;event_feat_236&#x27;, &#x27;event_feat_237&#x27;, &#x27;event_feat_238&#x27;, &#x27;event_feat_239&#x27;, &#x27;event_feat_240&#x27;, &#x27;event_feat_241&#x27;, &#x27;event_feat_242&#x27;, &#x27;event_feat_243&#x27;, &#x27;event_feat_244&#x27;, &#x27;event_feat_245&#x27;, &#x27;event_feat_246&#x27;, &#x27;event_feat_247&#x27;, &#x27;event_feat_248&#x27;, &#x27;event_feat_249&#x27;, &#x27;event_feat_250&#x27;, &#x27;event_feat_251&#x27;, &#x27;event_feat_252&#x27;, &#x27;event_feat_253&#x27;, &#x27;event_feat_254&#x27;, &#x27;event_feat_255&#x27;, &#x27;event_feat_256&#x27;, &#x27;event_feat_257&#x27;, &#x27;event_feat_258&#x27;, &#x27;event_feat_259&#x27;, &#x27;event_feat_260&#x27;, &#x27;event_feat_261&#x27;, &#x27;event_feat_262&#x27;, &#x27;event_feat_263&#x27;, &#x27;event_feat_264&#x27;, &#x27;event_feat_265&#x27;, &#x27;event_feat_266&#x27;, &#x27;event_feat_267&#x27;, &#x27;event_feat_268&#x27;, &#x27;event_feat_269&#x27;, &#x27;event_feat_270&#x27;, &#x27;event_feat_271&#x27;, &#x27;event_feat_272&#x27;, &#x27;event_feat_273&#x27;, &#x27;event_feat_274&#x27;, &#x27;event_feat_275&#x27;, &#x27;event_feat_276&#x27;, &#x27;event_feat_277&#x27;, &#x27;event_feat_278&#x27;, &#x27;event_feat_279&#x27;, &#x27;event_feat_280&#x27;, &#x27;event_feat_281&#x27;, &#x27;event_feat_282&#x27;, &#x27;event_feat_283&#x27;, &#x27;event_feat_284&#x27;, &#x27;event_feat_285&#x27;, &#x27;event_feat_286&#x27;, &#x27;event_feat_287&#x27;, &#x27;event_feat_288&#x27;, &#x27;event_feat_289&#x27;, &#x27;event_feat_290&#x27;, &#x27;event_feat_291&#x27;, &#x27;event_feat_292&#x27;, &#x27;event_feat_293&#x27;, &#x27;event_feat_294&#x27;, &#x27;event_feat_295&#x27;, &#x27;event_feat_296&#x27;, &#x27;event_feat_297&#x27;, &#x27;event_feat_298&#x27;, &#x27;event_feat_299&#x27;, &#x27;event_feat_300&#x27;, &#x27;event_feat_301&#x27;, &#x27;event_feat_302&#x27;, &#x27;event_feat_303&#x27;, &#x27;event_feat_304&#x27;, &#x27;event_feat_305&#x27;, &#x27;event_feat_306&#x27;, &#x27;event_feat_307&#x27;, &#x27;event_feat_308&#x27;, &#x27;event_feat_309&#x27;, &#x27;event_feat_310&#x27;, &#x27;event_feat_311&#x27;, &#x27;event_feat_312&#x27;, &#x27;event_feat_313&#x27;, &#x27;event_feat_314&#x27;, &#x27;event_feat_315&#x27;, &#x27;event_feat_316&#x27;, &#x27;event_feat_317&#x27;, &#x27;event_feat_318&#x27;, &#x27;event_feat_319&#x27;, &#x27;event_feat_320&#x27;, &#x27;event_feat_321&#x27;, &#x27;event_feat_322&#x27;, &#x27;event_feat_323&#x27;, &#x27;event_feat_324&#x27;, &#x27;event_feat_325&#x27;, &#x27;event_feat_326&#x27;, &#x27;event_feat_327&#x27;, &#x27;event_feat_328&#x27;, &#x27;event_feat_329&#x27;, &#x27;event_feat_330&#x27;, &#x27;event_feat_331&#x27;, &#x27;event_feat_332&#x27;, &#x27;event_feat_333&#x27;, &#x27;event_feat_334&#x27;, &#x27;event_feat_335&#x27;, &#x27;event_feat_336&#x27;, &#x27;event_feat_337&#x27;, &#x27;event_feat_338&#x27;, &#x27;event_feat_339&#x27;, &#x27;event_feat_340&#x27;, &#x27;event_feat_341&#x27;, &#x27;event_feat_342&#x27;, &#x27;event_feat_343&#x27;, &#x27;event_feat_344&#x27;, &#x27;event_feat_345&#x27;, &#x27;event_feat_346&#x27;, &#x27;event_feat_347&#x27;, &#x27;event_feat_348&#x27;, &#x27;event_feat_349&#x27;, &#x27;event_feat_350&#x27;, &#x27;event_feat_351&#x27;, &#x27;event_feat_352&#x27;, &#x27;event_feat_353&#x27;, &#x27;event_feat_354&#x27;, &#x27;event_feat_355&#x27;, &#x27;event_feat_356&#x27;, &#x27;event_feat_357&#x27;, &#x27;event_feat_358&#x27;, &#x27;event_feat_359&#x27;, &#x27;event_feat_360&#x27;, &#x27;event_feat_361&#x27;, &#x27;event_feat_362&#x27;, &#x27;event_feat_363&#x27;, &#x27;event_feat_364&#x27;, &#x27;event_feat_365&#x27;, &#x27;event_feat_366&#x27;, &#x27;event_feat_367&#x27;, &#x27;event_feat_368&#x27;, &#x27;event_feat_369&#x27;, &#x27;event_feat_370&#x27;, &#x27;event_feat_371&#x27;, &#x27;event_feat_372&#x27;, &#x27;event_feat_373&#x27;, &#x27;event_feat_374&#x27;, &#x27;event_feat_375&#x27;, &#x27;event_feat_376&#x27;, &#x27;event_feat_377&#x27;, &#x27;event_feat_378&#x27;, &#x27;event_feat_379&#x27;, &#x27;event_feat_380&#x27;, &#x27;event_feat_381&#x27;, &#x27;event_feat_382&#x27;, &#x27;event_feat_383&#x27;, &#x27;event_feat_384&#x27;, &#x27;event_feat_385&#x27;, &#x27;event_feat_386&#x27;, &#x27;event_feat_387&#x27;, &#x27;event_feat_388&#x27;, &#x27;event_feat_389&#x27;, &#x27;event_feat_390&#x27;, &#x27;event_feat_391&#x27;, &#x27;event_feat_392&#x27;, &#x27;event_feat_393&#x27;, &#x27;event_feat_394&#x27;, &#x27;event_feat_395&#x27;, &#x27;event_feat_396&#x27;, &#x27;event_feat_397&#x27;, &#x27;event_feat_398&#x27;, &#x27;event_feat_399&#x27;, &#x27;event_feat_400&#x27;, &#x27;event_feat_401&#x27;, &#x27;event_feat_402&#x27;, &#x27;event_feat_403&#x27;, &#x27;event_feat_404&#x27;, &#x27;event_feat_405&#x27;, &#x27;event_feat_406&#x27;, &#x27;event_feat_407&#x27;, &#x27;event_feat_408&#x27;, &#x27;event_feat_409&#x27;, &#x27;event_feat_410&#x27;, &#x27;event_feat_411&#x27;, &#x27;event_feat_412&#x27;, &#x27;event_feat_413&#x27;, &#x27;event_feat_414&#x27;, &#x27;event_feat_415&#x27;, &#x27;event_feat_416&#x27;, &#x27;event_feat_417&#x27;, &#x27;event_feat_418&#x27;, &#x27;event_feat_419&#x27;, &#x27;event_feat_420&#x27;, &#x27;event_feat_421&#x27;, &#x27;event_feat_422&#x27;, &#x27;event_feat_423&#x27;, &#x27;event_feat_424&#x27;, &#x27;event_feat_425&#x27;, &#x27;event_feat_426&#x27;, &#x27;event_feat_427&#x27;, &#x27;event_feat_428&#x27;, &#x27;event_feat_429&#x27;, &#x27;event_feat_430&#x27;, &#x27;event_feat_431&#x27;, &#x27;event_feat_432&#x27;, &#x27;event_feat_433&#x27;, &#x27;event_feat_434&#x27;, &#x27;event_feat_435&#x27;, &#x27;event_feat_436&#x27;, &#x27;event_feat_437&#x27;, &#x27;event_feat_438&#x27;, &#x27;event_feat_439&#x27;, &#x27;event_feat_440&#x27;, &#x27;event_feat_441&#x27;, &#x27;event_feat_442&#x27;, &#x27;event_feat_443&#x27;, &#x27;event_feat_444&#x27;, &#x27;event_feat_445&#x27;, &#x27;event_feat_446&#x27;, &#x27;event_feat_447&#x27;, &#x27;event_feat_448&#x27;, &#x27;event_feat_449&#x27;, &#x27;event_feat_450&#x27;, &#x27;event_feat_451&#x27;, &#x27;event_feat_452&#x27;, &#x27;event_feat_453&#x27;, &#x27;event_feat_454&#x27;, &#x27;event_feat_455&#x27;, &#x27;event_feat_456&#x27;, &#x27;event_feat_457&#x27;, &#x27;event_feat_458&#x27;, &#x27;event_feat_459&#x27;, &#x27;event_feat_460&#x27;, &#x27;event_feat_461&#x27;, &#x27;event_feat_462&#x27;, &#x27;event_feat_463&#x27;, &#x27;event_feat_464&#x27;, &#x27;event_feat_465&#x27;, &#x27;event_feat_466&#x27;, &#x27;event_feat_467&#x27;, &#x27;event_feat_468&#x27;, &#x27;event_feat_469&#x27;, &#x27;event_feat_470&#x27;, &#x27;event_feat_471&#x27;, &#x27;event_feat_472&#x27;, &#x27;event_feat_473&#x27;, &#x27;event_feat_474&#x27;, &#x27;event_feat_475&#x27;, &#x27;event_feat_476&#x27;, &#x27;event_feat_477&#x27;, &#x27;event_feat_478&#x27;, &#x27;event_feat_479&#x27;, &#x27;event_feat_480&#x27;, &#x27;event_feat_481&#x27;, &#x27;event_feat_482&#x27;, &#x27;event_feat_483&#x27;, &#x27;event_feat_484&#x27;, &#x27;event_feat_485&#x27;, &#x27;event_feat_486&#x27;, &#x27;event_feat_487&#x27;, &#x27;event_feat_488&#x27;, &#x27;event_feat_489&#x27;, &#x27;event_feat_490&#x27;, &#x27;event_feat_491&#x27;, &#x27;event_feat_492&#x27;, &#x27;event_feat_493&#x27;, &#x27;event_feat_494&#x27;, &#x27;event_feat_495&#x27;, &#x27;event_feat_496&#x27;, &#x27;event_feat_497&#x27;, &#x27;event_feat_498&#x27;, &#x27;event_feat_499&#x27;, &#x27;event_feat_500&#x27;, &#x27;event_feat_501&#x27;, &#x27;event_feat_502&#x27;, &#x27;event_feat_503&#x27;, &#x27;event_feat_504&#x27;, &#x27;event_feat_505&#x27;, &#x27;event_feat_506&#x27;, &#x27;event_feat_507&#x27;, &#x27;event_feat_508&#x27;, &#x27;event_feat_509&#x27;, &#x27;event_feat_510&#x27;, &#x27;event_feat_511&#x27;, &#x27;event_feat_512&#x27;, &#x27;event_feat_513&#x27;, &#x27;event_feat_514&#x27;, &#x27;event_feat_515&#x27;, &#x27;event_feat_516&#x27;, &#x27;event_feat_517&#x27;, &#x27;event_feat_518&#x27;, &#x27;event_feat_519&#x27;, &#x27;event_feat_520&#x27;, &#x27;event_feat_521&#x27;, &#x27;event_feat_522&#x27;, &#x27;event_feat_523&#x27;, &#x27;event_feat_524&#x27;, &#x27;event_feat_525&#x27;, &#x27;event_feat_526&#x27;, &#x27;event_feat_527&#x27;, &#x27;event_feat_528&#x27;, &#x27;event_feat_529&#x27;, &#x27;event_feat_530&#x27;, &#x27;event_feat_531&#x27;, &#x27;event_feat_532&#x27;, &#x27;event_feat_533&#x27;, &#x27;event_feat_534&#x27;, &#x27;event_feat_535&#x27;, &#x27;event_feat_536&#x27;, &#x27;event_feat_537&#x27;, &#x27;event_feat_538&#x27;, &#x27;event_feat_539&#x27;, &#x27;event_feat_540&#x27;, &#x27;event_feat_541&#x27;, &#x27;event_feat_542&#x27;, &#x27;event_feat_543&#x27;, &#x27;event_feat_544&#x27;, &#x27;event_feat_545&#x27;, &#x27;event_feat_546&#x27;, &#x27;event_feat_547&#x27;, &#x27;event_feat_548&#x27;, &#x27;event_feat_549&#x27;, &#x27;event_feat_550&#x27;, &#x27;event_feat_551&#x27;, &#x27;event_feat_552&#x27;, &#x27;event_feat_553&#x27;, &#x27;event_feat_554&#x27;, &#x27;event_feat_555&#x27;, &#x27;event_feat_556&#x27;, &#x27;event_feat_557&#x27;, &#x27;event_feat_558&#x27;, &#x27;event_feat_559&#x27;, &#x27;event_feat_560&#x27;, &#x27;event_feat_561&#x27;, &#x27;event_feat_562&#x27;, &#x27;event_feat_563&#x27;, &#x27;event_feat_564&#x27;, &#x27;event_feat_565&#x27;, &#x27;event_feat_566&#x27;, &#x27;event_feat_567&#x27;, &#x27;event_feat_568&#x27;, &#x27;event_feat_569&#x27;, &#x27;event_feat_570&#x27;, &#x27;event_feat_571&#x27;, &#x27;event_feat_572&#x27;, &#x27;event_feat_573&#x27;, &#x27;event_feat_574&#x27;, &#x27;event_feat_575&#x27;, &#x27;event_feat_576&#x27;, &#x27;event_feat_577&#x27;, &#x27;event_feat_578&#x27;, &#x27;event_feat_579&#x27;, &#x27;event_feat_580&#x27;, &#x27;event_feat_581&#x27;, &#x27;event_feat_582&#x27;, &#x27;event_feat_583&#x27;, &#x27;event_feat_584&#x27;, &#x27;event_feat_585&#x27;, &#x27;event_feat_586&#x27;, &#x27;event_feat_587&#x27;, &#x27;event_feat_588&#x27;, &#x27;event_feat_589&#x27;, &#x27;event_feat_590&#x27;, &#x27;event_feat_591&#x27;, &#x27;event_feat_592&#x27;, &#x27;event_feat_593&#x27;, &#x27;event_feat_594&#x27;, &#x27;event_feat_595&#x27;, &#x27;event_feat_596&#x27;, &#x27;event_feat_597&#x27;, &#x27;event_feat_598&#x27;, &#x27;event_feat_599&#x27;, &#x27;event_feat_600&#x27;, &#x27;event_feat_601&#x27;, &#x27;event_feat_602&#x27;, &#x27;event_feat_603&#x27;, &#x27;event_feat_604&#x27;, &#x27;event_feat_605&#x27;, &#x27;event_feat_606&#x27;, &#x27;event_feat_607&#x27;, &#x27;event_feat_608&#x27;, &#x27;event_feat_609&#x27;, &#x27;event_feat_610&#x27;, &#x27;event_feat_611&#x27;, &#x27;event_feat_612&#x27;, &#x27;event_feat_613&#x27;, &#x27;event_feat_614&#x27;, &#x27;event_feat_615&#x27;, &#x27;event_feat_616&#x27;, &#x27;event_feat_617&#x27;, &#x27;event_feat_618&#x27;, &#x27;event_feat_619&#x27;, &#x27;event_feat_620&#x27;, &#x27;event_feat_621&#x27;, &#x27;event_feat_622&#x27;, &#x27;event_feat_623&#x27;, &#x27;event_feat_624&#x27;, &#x27;event_feat_625&#x27;, &#x27;event_feat_626&#x27;, &#x27;event_feat_627&#x27;, &#x27;event_feat_628&#x27;, &#x27;event_feat_629&#x27;, &#x27;event_feat_630&#x27;, &#x27;event_feat_631&#x27;, &#x27;event_feat_632&#x27;, &#x27;event_feat_633&#x27;, &#x27;event_feat_634&#x27;, &#x27;event_feat_635&#x27;, &#x27;event_feat_636&#x27;, &#x27;event_feat_637&#x27;, &#x27;event_feat_638&#x27;, &#x27;event_feat_639&#x27;, &#x27;event_feat_640&#x27;, &#x27;event_feat_641&#x27;, &#x27;event_feat_642&#x27;, &#x27;event_feat_643&#x27;, &#x27;event_feat_644&#x27;, &#x27;event_feat_645&#x27;, &#x27;event_feat_646&#x27;, &#x27;event_feat_647&#x27;, &#x27;event_feat_648&#x27;, &#x27;event_feat_649&#x27;, &#x27;event_feat_650&#x27;, &#x27;event_feat_651&#x27;, &#x27;event_feat_652&#x27;, &#x27;event_feat_653&#x27;, &#x27;event_feat_654&#x27;, &#x27;event_feat_655&#x27;, &#x27;event_feat_656&#x27;, &#x27;event_feat_657&#x27;, &#x27;event_feat_658&#x27;, &#x27;event_feat_659&#x27;, &#x27;event_feat_660&#x27;, &#x27;event_feat_661&#x27;, &#x27;event_feat_662&#x27;, &#x27;event_feat_663&#x27;, &#x27;event_feat_664&#x27;, &#x27;event_feat_665&#x27;, &#x27;event_feat_666&#x27;, &#x27;event_feat_667&#x27;, &#x27;event_feat_668&#x27;, &#x27;event_feat_669&#x27;, &#x27;event_feat_670&#x27;, &#x27;event_feat_671&#x27;, &#x27;event_feat_672&#x27;, &#x27;event_feat_673&#x27;, &#x27;event_feat_674&#x27;, &#x27;event_feat_675&#x27;, &#x27;event_feat_676&#x27;, &#x27;event_feat_677&#x27;, &#x27;event_feat_678&#x27;, &#x27;event_feat_679&#x27;, &#x27;event_feat_680&#x27;, &#x27;event_feat_681&#x27;, &#x27;event_feat_682&#x27;, &#x27;event_feat_683&#x27;, &#x27;event_feat_684&#x27;, &#x27;event_feat_685&#x27;, &#x27;event_feat_686&#x27;, &#x27;event_feat_687&#x27;, &#x27;event_feat_688&#x27;, &#x27;event_feat_689&#x27;, &#x27;event_feat_690&#x27;, &#x27;event_feat_691&#x27;, &#x27;event_feat_692&#x27;, &#x27;event_feat_693&#x27;, &#x27;event_feat_694&#x27;, &#x27;event_feat_695&#x27;, &#x27;event_feat_696&#x27;, &#x27;event_feat_697&#x27;, &#x27;event_feat_698&#x27;, &#x27;event_feat_699&#x27;, &#x27;event_feat_700&#x27;, &#x27;event_feat_701&#x27;, &#x27;event_feat_702&#x27;, &#x27;event_feat_703&#x27;, &#x27;event_feat_704&#x27;, &#x27;event_feat_705&#x27;, &#x27;event_feat_706&#x27;, &#x27;event_feat_707&#x27;, &#x27;event_feat_708&#x27;, &#x27;event_feat_709&#x27;, &#x27;event_feat_710&#x27;, &#x27;event_feat_711&#x27;, &#x27;event_feat_712&#x27;, &#x27;event_feat_713&#x27;, &#x27;event_feat_714&#x27;, &#x27;event_feat_715&#x27;, &#x27;event_feat_716&#x27;, &#x27;event_feat_717&#x27;, &#x27;event_feat_718&#x27;, &#x27;event_feat_719&#x27;, &#x27;event_feat_720&#x27;, &#x27;event_feat_721&#x27;, &#x27;event_feat_722&#x27;, &#x27;event_feat_723&#x27;, &#x27;event_feat_724&#x27;, &#x27;event_feat_725&#x27;, &#x27;event_feat_726&#x27;, &#x27;event_feat_727&#x27;, &#x27;event_feat_728&#x27;, &#x27;event_feat_729&#x27;, &#x27;event_feat_730&#x27;, &#x27;event_feat_731&#x27;, &#x27;event_feat_732&#x27;, &#x27;event_feat_733&#x27;, &#x27;event_feat_734&#x27;, &#x27;event_feat_735&#x27;, &#x27;event_feat_736&#x27;, &#x27;event_feat_737&#x27;, &#x27;event_feat_738&#x27;, &#x27;event_feat_739&#x27;, &#x27;event_feat_740&#x27;, &#x27;event_feat_741&#x27;, &#x27;event_feat_742&#x27;, &#x27;event_feat_743&#x27;, &#x27;event_feat_744&#x27;, &#x27;event_feat_745&#x27;, &#x27;event_feat_746&#x27;, &#x27;event_feat_747&#x27;, &#x27;event_feat_748&#x27;, &#x27;event_feat_749&#x27;, &#x27;event_feat_750&#x27;, &#x27;event_feat_751&#x27;, &#x27;event_feat_752&#x27;, &#x27;event_feat_753&#x27;, &#x27;event_feat_754&#x27;, &#x27;event_feat_755&#x27;, &#x27;event_feat_756&#x27;, &#x27;event_feat_757&#x27;, &#x27;event_feat_758&#x27;, &#x27;event_feat_759&#x27;, &#x27;event_feat_760&#x27;, &#x27;event_feat_761&#x27;, &#x27;event_feat_762&#x27;, &#x27;event_feat_763&#x27;, &#x27;event_feat_764&#x27;, &#x27;event_feat_765&#x27;, &#x27;event_feat_766&#x27;, &#x27;event_feat_767&#x27;]</pre></div> </div></div><div class=\"sk-serial\"><div class=\"sk-item\"><div class=\"sk-estimator fitted sk-toggleable\"><input class=\"sk-toggleable__control sk-hidden--visually\" id=\"sk-estimator-id-24\" type=\"checkbox\" ><label for=\"sk-estimator-id-24\" class=\"sk-toggleable__label fitted sk-toggleable__label-arrow\"><div><div>PCA</div></div><div><a class=\"sk-estimator-doc-link fitted\" rel=\"noreferrer\" target=\"_blank\" href=\"https://scikit-learn.org/1.6/modules/generated/sklearn.decomposition.PCA.html\">?<span>Documentation for PCA</span></a></div></label><div class=\"sk-toggleable__content fitted\"><pre>PCA(n_components=250)</pre></div> </div></div></div></div></div><div class=\"sk-parallel-item\"><div class=\"sk-item\"><div class=\"sk-label-container\"><div class=\"sk-label fitted sk-toggleable\"><input class=\"sk-toggleable__control sk-hidden--visually\" id=\"sk-estimator-id-25\" type=\"checkbox\" ><label for=\"sk-estimator-id-25\" class=\"sk-toggleable__label fitted sk-toggleable__label-arrow\"><div><div>passthrough_event_dummies</div></div></label><div class=\"sk-toggleable__content fitted\"><pre>[&#x27;BACK STRAIN&#x27;, &#x27;CLEANING INSTRUMENTS&#x27;, &#x27;CLEANING LEFT SHOULDER SPLINTER&#x27;, &#x27;CUT WITH KNIFE&#x27;, &#x27;DEALING CARDS RIGHT TENDON SYNOVITIS&#x27;, &#x27;FELL&#x27;, &#x27;FELL FROM LADDER&#x27;, &#x27;FELL OFF LADDER&#x27;, &#x27;FRACTURED LEFT WRIST FRACTURE&#x27;, &#x27;GRINDING FOREIGN BODY&#x27;, &#x27;GRINDING STEEL BEAM INFECTION&#x27;, &#x27;HIT AIR HOSE&#x27;, &#x27;HIT ELBOW&#x27;, &#x27;HIT FLOOR SHEET&#x27;, &#x27;INJURY&#x27;, &#x27;INJURY LIFTING&#x27;, &#x27;INJURY LIFTING STRAIN&#x27;, &#x27;JAMMED RIGHT HAND PUNCTURE&#x27;, &#x27;KNIFE LACERATION&#x27;, &#x27;KNIFE SLIPPED&#x27;, &#x27;LACERATION&#x27;, &#x27;LEFT LEG SNAKE BITE&#x27;, &#x27;LIFTING&#x27;, &#x27;LIFTING BOXES&#x27;, &#x27;LIFTING PATIENT&#x27;, &#x27;LIFTING TYRES&#x27;, &#x27;LOWER BACK STRAIN&#x27;, &#x27;MOTOR VEHICLE COLLISION&#x27;, &#x27;PREPARING PIPES FOR PAINTING PUNCTURE&#x27;, &#x27;PULLING CABLES&#x27;, &#x27;REDBACK SPIDER BITE&#x27;, &#x27;SLIPPED AND FELL&#x27;, &#x27;SLIPPED ON FLOOR&#x27;, &#x27;SLIPPED ON ROLLER&#x27;, &#x27;SLIPPED ON STAIRS&#x27;, &#x27;SLIPPED ON WET FLOOR&#x27;, &#x27;SLIPPED USING LATHE&#x27;, &#x27;SORTING ALUMINIUM BARS STRAIN&#x27;, &#x27;SPRAINED RIGHT ANKLE FRACTURE&#x27;, &#x27;STRAIN&#x27;, &#x27;STRAIN LIFTING PARTS&#x27;, &#x27;STRAIN LIFTING STRAIN&#x27;, &#x27;STRUCK KNIFE LACERATED&#x27;, &#x27;STRUCK KNIFE LACERATION&#x27;, &#x27;STRUCK PALLET&#x27;, &#x27;STRUCK WITH KNIFE&#x27;, &#x27;USING AIR HOSE STRAIN&#x27;, &#x27;USING DRILL&#x27;]</pre></div> </div></div><div class=\"sk-serial\"><div class=\"sk-item\"><div class=\"sk-estimator fitted sk-toggleable\"><input class=\"sk-toggleable__control sk-hidden--visually\" id=\"sk-estimator-id-26\" type=\"checkbox\" ><label for=\"sk-estimator-id-26\" class=\"sk-toggleable__label fitted sk-toggleable__label-arrow\"><div><div>passthrough</div></div></label><div class=\"sk-toggleable__content fitted\"><pre>passthrough</pre></div> </div></div></div></div></div><div class=\"sk-parallel-item\"><div class=\"sk-item\"><div class=\"sk-label-container\"><div class=\"sk-label fitted sk-toggleable\"><input class=\"sk-toggleable__control sk-hidden--visually\" id=\"sk-estimator-id-27\" type=\"checkbox\" ><label for=\"sk-estimator-id-27\" class=\"sk-toggleable__label fitted sk-toggleable__label-arrow\"><div><div>pca_body_parts_embeddings</div></div></label><div class=\"sk-toggleable__content fitted\"><pre>[&#x27;body_feat_0&#x27;, &#x27;body_feat_1&#x27;, &#x27;body_feat_2&#x27;, &#x27;body_feat_3&#x27;, &#x27;body_feat_4&#x27;, &#x27;body_feat_5&#x27;, &#x27;body_feat_6&#x27;, &#x27;body_feat_7&#x27;, &#x27;body_feat_8&#x27;, &#x27;body_feat_9&#x27;, &#x27;body_feat_10&#x27;, &#x27;body_feat_11&#x27;, &#x27;body_feat_12&#x27;, &#x27;body_feat_13&#x27;, &#x27;body_feat_14&#x27;, &#x27;body_feat_15&#x27;, &#x27;body_feat_16&#x27;, &#x27;body_feat_17&#x27;, &#x27;body_feat_18&#x27;, &#x27;body_feat_19&#x27;, &#x27;body_feat_20&#x27;, &#x27;body_feat_21&#x27;, &#x27;body_feat_22&#x27;, &#x27;body_feat_23&#x27;, &#x27;body_feat_24&#x27;, &#x27;body_feat_25&#x27;, &#x27;body_feat_26&#x27;, &#x27;body_feat_27&#x27;, &#x27;body_feat_28&#x27;, &#x27;body_feat_29&#x27;, &#x27;body_feat_30&#x27;, &#x27;body_feat_31&#x27;, &#x27;body_feat_32&#x27;, &#x27;body_feat_33&#x27;, &#x27;body_feat_34&#x27;, &#x27;body_feat_35&#x27;, &#x27;body_feat_36&#x27;, &#x27;body_feat_37&#x27;, &#x27;body_feat_38&#x27;, &#x27;body_feat_39&#x27;, &#x27;body_feat_40&#x27;, &#x27;body_feat_41&#x27;, &#x27;body_feat_42&#x27;, &#x27;body_feat_43&#x27;, &#x27;body_feat_44&#x27;, &#x27;body_feat_45&#x27;, &#x27;body_feat_46&#x27;, &#x27;body_feat_47&#x27;, &#x27;body_feat_48&#x27;, &#x27;body_feat_49&#x27;, &#x27;body_feat_50&#x27;, &#x27;body_feat_51&#x27;, &#x27;body_feat_52&#x27;, &#x27;body_feat_53&#x27;, &#x27;body_feat_54&#x27;, &#x27;body_feat_55&#x27;, &#x27;body_feat_56&#x27;, &#x27;body_feat_57&#x27;, &#x27;body_feat_58&#x27;, &#x27;body_feat_59&#x27;, &#x27;body_feat_60&#x27;, &#x27;body_feat_61&#x27;, &#x27;body_feat_62&#x27;, &#x27;body_feat_63&#x27;, &#x27;body_feat_64&#x27;, &#x27;body_feat_65&#x27;, &#x27;body_feat_66&#x27;, &#x27;body_feat_67&#x27;, &#x27;body_feat_68&#x27;, &#x27;body_feat_69&#x27;, &#x27;body_feat_70&#x27;, &#x27;body_feat_71&#x27;, &#x27;body_feat_72&#x27;, &#x27;body_feat_73&#x27;, &#x27;body_feat_74&#x27;, &#x27;body_feat_75&#x27;, &#x27;body_feat_76&#x27;, &#x27;body_feat_77&#x27;, &#x27;body_feat_78&#x27;, &#x27;body_feat_79&#x27;, &#x27;body_feat_80&#x27;, &#x27;body_feat_81&#x27;, &#x27;body_feat_82&#x27;, &#x27;body_feat_83&#x27;, &#x27;body_feat_84&#x27;, &#x27;body_feat_85&#x27;, &#x27;body_feat_86&#x27;, &#x27;body_feat_87&#x27;, &#x27;body_feat_88&#x27;, &#x27;body_feat_89&#x27;, &#x27;body_feat_90&#x27;, &#x27;body_feat_91&#x27;, &#x27;body_feat_92&#x27;, &#x27;body_feat_93&#x27;, &#x27;body_feat_94&#x27;, &#x27;body_feat_95&#x27;, &#x27;body_feat_96&#x27;, &#x27;body_feat_97&#x27;, &#x27;body_feat_98&#x27;, &#x27;body_feat_99&#x27;, &#x27;body_feat_100&#x27;, &#x27;body_feat_101&#x27;, &#x27;body_feat_102&#x27;, &#x27;body_feat_103&#x27;, &#x27;body_feat_104&#x27;, &#x27;body_feat_105&#x27;, &#x27;body_feat_106&#x27;, &#x27;body_feat_107&#x27;, &#x27;body_feat_108&#x27;, &#x27;body_feat_109&#x27;, &#x27;body_feat_110&#x27;, &#x27;body_feat_111&#x27;, &#x27;body_feat_112&#x27;, &#x27;body_feat_113&#x27;, &#x27;body_feat_114&#x27;, &#x27;body_feat_115&#x27;, &#x27;body_feat_116&#x27;, &#x27;body_feat_117&#x27;, &#x27;body_feat_118&#x27;, &#x27;body_feat_119&#x27;, &#x27;body_feat_120&#x27;, &#x27;body_feat_121&#x27;, &#x27;body_feat_122&#x27;, &#x27;body_feat_123&#x27;, &#x27;body_feat_124&#x27;, &#x27;body_feat_125&#x27;, &#x27;body_feat_126&#x27;, &#x27;body_feat_127&#x27;, &#x27;body_feat_128&#x27;, &#x27;body_feat_129&#x27;, &#x27;body_feat_130&#x27;, &#x27;body_feat_131&#x27;, &#x27;body_feat_132&#x27;, &#x27;body_feat_133&#x27;, &#x27;body_feat_134&#x27;, &#x27;body_feat_135&#x27;, &#x27;body_feat_136&#x27;, &#x27;body_feat_137&#x27;, &#x27;body_feat_138&#x27;, &#x27;body_feat_139&#x27;, &#x27;body_feat_140&#x27;, &#x27;body_feat_141&#x27;, &#x27;body_feat_142&#x27;, &#x27;body_feat_143&#x27;, &#x27;body_feat_144&#x27;, &#x27;body_feat_145&#x27;, &#x27;body_feat_146&#x27;, &#x27;body_feat_147&#x27;, &#x27;body_feat_148&#x27;, &#x27;body_feat_149&#x27;, &#x27;body_feat_150&#x27;, &#x27;body_feat_151&#x27;, &#x27;body_feat_152&#x27;, &#x27;body_feat_153&#x27;, &#x27;body_feat_154&#x27;, &#x27;body_feat_155&#x27;, &#x27;body_feat_156&#x27;, &#x27;body_feat_157&#x27;, &#x27;body_feat_158&#x27;, &#x27;body_feat_159&#x27;, &#x27;body_feat_160&#x27;, &#x27;body_feat_161&#x27;, &#x27;body_feat_162&#x27;, &#x27;body_feat_163&#x27;, &#x27;body_feat_164&#x27;, &#x27;body_feat_165&#x27;, &#x27;body_feat_166&#x27;, &#x27;body_feat_167&#x27;, &#x27;body_feat_168&#x27;, &#x27;body_feat_169&#x27;, &#x27;body_feat_170&#x27;, &#x27;body_feat_171&#x27;, &#x27;body_feat_172&#x27;, &#x27;body_feat_173&#x27;, &#x27;body_feat_174&#x27;, &#x27;body_feat_175&#x27;, &#x27;body_feat_176&#x27;, &#x27;body_feat_177&#x27;, &#x27;body_feat_178&#x27;, &#x27;body_feat_179&#x27;, &#x27;body_feat_180&#x27;, &#x27;body_feat_181&#x27;, &#x27;body_feat_182&#x27;, &#x27;body_feat_183&#x27;, &#x27;body_feat_184&#x27;, &#x27;body_feat_185&#x27;, &#x27;body_feat_186&#x27;, &#x27;body_feat_187&#x27;, &#x27;body_feat_188&#x27;, &#x27;body_feat_189&#x27;, &#x27;body_feat_190&#x27;, &#x27;body_feat_191&#x27;, &#x27;body_feat_192&#x27;, &#x27;body_feat_193&#x27;, &#x27;body_feat_194&#x27;, &#x27;body_feat_195&#x27;, &#x27;body_feat_196&#x27;, &#x27;body_feat_197&#x27;, &#x27;body_feat_198&#x27;, &#x27;body_feat_199&#x27;, &#x27;body_feat_200&#x27;, &#x27;body_feat_201&#x27;, &#x27;body_feat_202&#x27;, &#x27;body_feat_203&#x27;, &#x27;body_feat_204&#x27;, &#x27;body_feat_205&#x27;, &#x27;body_feat_206&#x27;, &#x27;body_feat_207&#x27;, &#x27;body_feat_208&#x27;, &#x27;body_feat_209&#x27;, &#x27;body_feat_210&#x27;, &#x27;body_feat_211&#x27;, &#x27;body_feat_212&#x27;, &#x27;body_feat_213&#x27;, &#x27;body_feat_214&#x27;, &#x27;body_feat_215&#x27;, &#x27;body_feat_216&#x27;, &#x27;body_feat_217&#x27;, &#x27;body_feat_218&#x27;, &#x27;body_feat_219&#x27;, &#x27;body_feat_220&#x27;, &#x27;body_feat_221&#x27;, &#x27;body_feat_222&#x27;, &#x27;body_feat_223&#x27;, &#x27;body_feat_224&#x27;, &#x27;body_feat_225&#x27;, &#x27;body_feat_226&#x27;, &#x27;body_feat_227&#x27;, &#x27;body_feat_228&#x27;, &#x27;body_feat_229&#x27;, &#x27;body_feat_230&#x27;, &#x27;body_feat_231&#x27;, &#x27;body_feat_232&#x27;, &#x27;body_feat_233&#x27;, &#x27;body_feat_234&#x27;, &#x27;body_feat_235&#x27;, &#x27;body_feat_236&#x27;, &#x27;body_feat_237&#x27;, &#x27;body_feat_238&#x27;, &#x27;body_feat_239&#x27;, &#x27;body_feat_240&#x27;, &#x27;body_feat_241&#x27;, &#x27;body_feat_242&#x27;, &#x27;body_feat_243&#x27;, &#x27;body_feat_244&#x27;, &#x27;body_feat_245&#x27;, &#x27;body_feat_246&#x27;, &#x27;body_feat_247&#x27;, &#x27;body_feat_248&#x27;, &#x27;body_feat_249&#x27;, &#x27;body_feat_250&#x27;, &#x27;body_feat_251&#x27;, &#x27;body_feat_252&#x27;, &#x27;body_feat_253&#x27;, &#x27;body_feat_254&#x27;, &#x27;body_feat_255&#x27;, &#x27;body_feat_256&#x27;, &#x27;body_feat_257&#x27;, &#x27;body_feat_258&#x27;, &#x27;body_feat_259&#x27;, &#x27;body_feat_260&#x27;, &#x27;body_feat_261&#x27;, &#x27;body_feat_262&#x27;, &#x27;body_feat_263&#x27;, &#x27;body_feat_264&#x27;, &#x27;body_feat_265&#x27;, &#x27;body_feat_266&#x27;, &#x27;body_feat_267&#x27;, &#x27;body_feat_268&#x27;, &#x27;body_feat_269&#x27;, &#x27;body_feat_270&#x27;, &#x27;body_feat_271&#x27;, &#x27;body_feat_272&#x27;, &#x27;body_feat_273&#x27;, &#x27;body_feat_274&#x27;, &#x27;body_feat_275&#x27;, &#x27;body_feat_276&#x27;, &#x27;body_feat_277&#x27;, &#x27;body_feat_278&#x27;, &#x27;body_feat_279&#x27;, &#x27;body_feat_280&#x27;, &#x27;body_feat_281&#x27;, &#x27;body_feat_282&#x27;, &#x27;body_feat_283&#x27;, &#x27;body_feat_284&#x27;, &#x27;body_feat_285&#x27;, &#x27;body_feat_286&#x27;, &#x27;body_feat_287&#x27;, &#x27;body_feat_288&#x27;, &#x27;body_feat_289&#x27;, &#x27;body_feat_290&#x27;, &#x27;body_feat_291&#x27;, &#x27;body_feat_292&#x27;, &#x27;body_feat_293&#x27;, &#x27;body_feat_294&#x27;, &#x27;body_feat_295&#x27;, &#x27;body_feat_296&#x27;, &#x27;body_feat_297&#x27;, &#x27;body_feat_298&#x27;, &#x27;body_feat_299&#x27;, &#x27;body_feat_300&#x27;, &#x27;body_feat_301&#x27;, &#x27;body_feat_302&#x27;, &#x27;body_feat_303&#x27;, &#x27;body_feat_304&#x27;, &#x27;body_feat_305&#x27;, &#x27;body_feat_306&#x27;, &#x27;body_feat_307&#x27;, &#x27;body_feat_308&#x27;, &#x27;body_feat_309&#x27;, &#x27;body_feat_310&#x27;, &#x27;body_feat_311&#x27;, &#x27;body_feat_312&#x27;, &#x27;body_feat_313&#x27;, &#x27;body_feat_314&#x27;, &#x27;body_feat_315&#x27;, &#x27;body_feat_316&#x27;, &#x27;body_feat_317&#x27;, &#x27;body_feat_318&#x27;, &#x27;body_feat_319&#x27;, &#x27;body_feat_320&#x27;, &#x27;body_feat_321&#x27;, &#x27;body_feat_322&#x27;, &#x27;body_feat_323&#x27;, &#x27;body_feat_324&#x27;, &#x27;body_feat_325&#x27;, &#x27;body_feat_326&#x27;, &#x27;body_feat_327&#x27;, &#x27;body_feat_328&#x27;, &#x27;body_feat_329&#x27;, &#x27;body_feat_330&#x27;, &#x27;body_feat_331&#x27;, &#x27;body_feat_332&#x27;, &#x27;body_feat_333&#x27;, &#x27;body_feat_334&#x27;, &#x27;body_feat_335&#x27;, &#x27;body_feat_336&#x27;, &#x27;body_feat_337&#x27;, &#x27;body_feat_338&#x27;, &#x27;body_feat_339&#x27;, &#x27;body_feat_340&#x27;, &#x27;body_feat_341&#x27;, &#x27;body_feat_342&#x27;, &#x27;body_feat_343&#x27;, &#x27;body_feat_344&#x27;, &#x27;body_feat_345&#x27;, &#x27;body_feat_346&#x27;, &#x27;body_feat_347&#x27;, &#x27;body_feat_348&#x27;, &#x27;body_feat_349&#x27;, &#x27;body_feat_350&#x27;, &#x27;body_feat_351&#x27;, &#x27;body_feat_352&#x27;, &#x27;body_feat_353&#x27;, &#x27;body_feat_354&#x27;, &#x27;body_feat_355&#x27;, &#x27;body_feat_356&#x27;, &#x27;body_feat_357&#x27;, &#x27;body_feat_358&#x27;, &#x27;body_feat_359&#x27;, &#x27;body_feat_360&#x27;, &#x27;body_feat_361&#x27;, &#x27;body_feat_362&#x27;, &#x27;body_feat_363&#x27;, &#x27;body_feat_364&#x27;, &#x27;body_feat_365&#x27;, &#x27;body_feat_366&#x27;, &#x27;body_feat_367&#x27;, &#x27;body_feat_368&#x27;, &#x27;body_feat_369&#x27;, &#x27;body_feat_370&#x27;, &#x27;body_feat_371&#x27;, &#x27;body_feat_372&#x27;, &#x27;body_feat_373&#x27;, &#x27;body_feat_374&#x27;, &#x27;body_feat_375&#x27;, &#x27;body_feat_376&#x27;, &#x27;body_feat_377&#x27;, &#x27;body_feat_378&#x27;, &#x27;body_feat_379&#x27;, &#x27;body_feat_380&#x27;, &#x27;body_feat_381&#x27;, &#x27;body_feat_382&#x27;, &#x27;body_feat_383&#x27;, &#x27;body_feat_384&#x27;, &#x27;body_feat_385&#x27;, &#x27;body_feat_386&#x27;, &#x27;body_feat_387&#x27;, &#x27;body_feat_388&#x27;, &#x27;body_feat_389&#x27;, &#x27;body_feat_390&#x27;, &#x27;body_feat_391&#x27;, &#x27;body_feat_392&#x27;, &#x27;body_feat_393&#x27;, &#x27;body_feat_394&#x27;, &#x27;body_feat_395&#x27;, &#x27;body_feat_396&#x27;, &#x27;body_feat_397&#x27;, &#x27;body_feat_398&#x27;, &#x27;body_feat_399&#x27;, &#x27;body_feat_400&#x27;, &#x27;body_feat_401&#x27;, &#x27;body_feat_402&#x27;, &#x27;body_feat_403&#x27;, &#x27;body_feat_404&#x27;, &#x27;body_feat_405&#x27;, &#x27;body_feat_406&#x27;, &#x27;body_feat_407&#x27;, &#x27;body_feat_408&#x27;, &#x27;body_feat_409&#x27;, &#x27;body_feat_410&#x27;, &#x27;body_feat_411&#x27;, &#x27;body_feat_412&#x27;, &#x27;body_feat_413&#x27;, &#x27;body_feat_414&#x27;, &#x27;body_feat_415&#x27;, &#x27;body_feat_416&#x27;, &#x27;body_feat_417&#x27;, &#x27;body_feat_418&#x27;, &#x27;body_feat_419&#x27;, &#x27;body_feat_420&#x27;, &#x27;body_feat_421&#x27;, &#x27;body_feat_422&#x27;, &#x27;body_feat_423&#x27;, &#x27;body_feat_424&#x27;, &#x27;body_feat_425&#x27;, &#x27;body_feat_426&#x27;, &#x27;body_feat_427&#x27;, &#x27;body_feat_428&#x27;, &#x27;body_feat_429&#x27;, &#x27;body_feat_430&#x27;, &#x27;body_feat_431&#x27;, &#x27;body_feat_432&#x27;, &#x27;body_feat_433&#x27;, &#x27;body_feat_434&#x27;, &#x27;body_feat_435&#x27;, &#x27;body_feat_436&#x27;, &#x27;body_feat_437&#x27;, &#x27;body_feat_438&#x27;, &#x27;body_feat_439&#x27;, &#x27;body_feat_440&#x27;, &#x27;body_feat_441&#x27;, &#x27;body_feat_442&#x27;, &#x27;body_feat_443&#x27;, &#x27;body_feat_444&#x27;, &#x27;body_feat_445&#x27;, &#x27;body_feat_446&#x27;, &#x27;body_feat_447&#x27;, &#x27;body_feat_448&#x27;, &#x27;body_feat_449&#x27;, &#x27;body_feat_450&#x27;, &#x27;body_feat_451&#x27;, &#x27;body_feat_452&#x27;, &#x27;body_feat_453&#x27;, &#x27;body_feat_454&#x27;, &#x27;body_feat_455&#x27;, &#x27;body_feat_456&#x27;, &#x27;body_feat_457&#x27;, &#x27;body_feat_458&#x27;, &#x27;body_feat_459&#x27;, &#x27;body_feat_460&#x27;, &#x27;body_feat_461&#x27;, &#x27;body_feat_462&#x27;, &#x27;body_feat_463&#x27;, &#x27;body_feat_464&#x27;, &#x27;body_feat_465&#x27;, &#x27;body_feat_466&#x27;, &#x27;body_feat_467&#x27;, &#x27;body_feat_468&#x27;, &#x27;body_feat_469&#x27;, &#x27;body_feat_470&#x27;, &#x27;body_feat_471&#x27;, &#x27;body_feat_472&#x27;, &#x27;body_feat_473&#x27;, &#x27;body_feat_474&#x27;, &#x27;body_feat_475&#x27;, &#x27;body_feat_476&#x27;, &#x27;body_feat_477&#x27;, &#x27;body_feat_478&#x27;, &#x27;body_feat_479&#x27;, &#x27;body_feat_480&#x27;, &#x27;body_feat_481&#x27;, &#x27;body_feat_482&#x27;, &#x27;body_feat_483&#x27;, &#x27;body_feat_484&#x27;, &#x27;body_feat_485&#x27;, &#x27;body_feat_486&#x27;, &#x27;body_feat_487&#x27;, &#x27;body_feat_488&#x27;, &#x27;body_feat_489&#x27;, &#x27;body_feat_490&#x27;, &#x27;body_feat_491&#x27;, &#x27;body_feat_492&#x27;, &#x27;body_feat_493&#x27;, &#x27;body_feat_494&#x27;, &#x27;body_feat_495&#x27;, &#x27;body_feat_496&#x27;, &#x27;body_feat_497&#x27;, &#x27;body_feat_498&#x27;, &#x27;body_feat_499&#x27;, &#x27;body_feat_500&#x27;, &#x27;body_feat_501&#x27;, &#x27;body_feat_502&#x27;, &#x27;body_feat_503&#x27;, &#x27;body_feat_504&#x27;, &#x27;body_feat_505&#x27;, &#x27;body_feat_506&#x27;, &#x27;body_feat_507&#x27;, &#x27;body_feat_508&#x27;, &#x27;body_feat_509&#x27;, &#x27;body_feat_510&#x27;, &#x27;body_feat_511&#x27;, &#x27;body_feat_512&#x27;, &#x27;body_feat_513&#x27;, &#x27;body_feat_514&#x27;, &#x27;body_feat_515&#x27;, &#x27;body_feat_516&#x27;, &#x27;body_feat_517&#x27;, &#x27;body_feat_518&#x27;, &#x27;body_feat_519&#x27;, &#x27;body_feat_520&#x27;, &#x27;body_feat_521&#x27;, &#x27;body_feat_522&#x27;, &#x27;body_feat_523&#x27;, &#x27;body_feat_524&#x27;, &#x27;body_feat_525&#x27;, &#x27;body_feat_526&#x27;, &#x27;body_feat_527&#x27;, &#x27;body_feat_528&#x27;, &#x27;body_feat_529&#x27;, &#x27;body_feat_530&#x27;, &#x27;body_feat_531&#x27;, &#x27;body_feat_532&#x27;, &#x27;body_feat_533&#x27;, &#x27;body_feat_534&#x27;, &#x27;body_feat_535&#x27;, &#x27;body_feat_536&#x27;, &#x27;body_feat_537&#x27;, &#x27;body_feat_538&#x27;, &#x27;body_feat_539&#x27;, &#x27;body_feat_540&#x27;, &#x27;body_feat_541&#x27;, &#x27;body_feat_542&#x27;, &#x27;body_feat_543&#x27;, &#x27;body_feat_544&#x27;, &#x27;body_feat_545&#x27;, &#x27;body_feat_546&#x27;, &#x27;body_feat_547&#x27;, &#x27;body_feat_548&#x27;, &#x27;body_feat_549&#x27;, &#x27;body_feat_550&#x27;, &#x27;body_feat_551&#x27;, &#x27;body_feat_552&#x27;, &#x27;body_feat_553&#x27;, &#x27;body_feat_554&#x27;, &#x27;body_feat_555&#x27;, &#x27;body_feat_556&#x27;, &#x27;body_feat_557&#x27;, &#x27;body_feat_558&#x27;, &#x27;body_feat_559&#x27;, &#x27;body_feat_560&#x27;, &#x27;body_feat_561&#x27;, &#x27;body_feat_562&#x27;, &#x27;body_feat_563&#x27;, &#x27;body_feat_564&#x27;, &#x27;body_feat_565&#x27;, &#x27;body_feat_566&#x27;, &#x27;body_feat_567&#x27;, &#x27;body_feat_568&#x27;, &#x27;body_feat_569&#x27;, &#x27;body_feat_570&#x27;, &#x27;body_feat_571&#x27;, &#x27;body_feat_572&#x27;, &#x27;body_feat_573&#x27;, &#x27;body_feat_574&#x27;, &#x27;body_feat_575&#x27;, &#x27;body_feat_576&#x27;, &#x27;body_feat_577&#x27;, &#x27;body_feat_578&#x27;, &#x27;body_feat_579&#x27;, &#x27;body_feat_580&#x27;, &#x27;body_feat_581&#x27;, &#x27;body_feat_582&#x27;, &#x27;body_feat_583&#x27;, &#x27;body_feat_584&#x27;, &#x27;body_feat_585&#x27;, &#x27;body_feat_586&#x27;, &#x27;body_feat_587&#x27;, &#x27;body_feat_588&#x27;, &#x27;body_feat_589&#x27;, &#x27;body_feat_590&#x27;, &#x27;body_feat_591&#x27;, &#x27;body_feat_592&#x27;, &#x27;body_feat_593&#x27;, &#x27;body_feat_594&#x27;, &#x27;body_feat_595&#x27;, &#x27;body_feat_596&#x27;, &#x27;body_feat_597&#x27;, &#x27;body_feat_598&#x27;, &#x27;body_feat_599&#x27;, &#x27;body_feat_600&#x27;, &#x27;body_feat_601&#x27;, &#x27;body_feat_602&#x27;, &#x27;body_feat_603&#x27;, &#x27;body_feat_604&#x27;, &#x27;body_feat_605&#x27;, &#x27;body_feat_606&#x27;, &#x27;body_feat_607&#x27;, &#x27;body_feat_608&#x27;, &#x27;body_feat_609&#x27;, &#x27;body_feat_610&#x27;, &#x27;body_feat_611&#x27;, &#x27;body_feat_612&#x27;, &#x27;body_feat_613&#x27;, &#x27;body_feat_614&#x27;, &#x27;body_feat_615&#x27;, &#x27;body_feat_616&#x27;, &#x27;body_feat_617&#x27;, &#x27;body_feat_618&#x27;, &#x27;body_feat_619&#x27;, &#x27;body_feat_620&#x27;, &#x27;body_feat_621&#x27;, &#x27;body_feat_622&#x27;, &#x27;body_feat_623&#x27;, &#x27;body_feat_624&#x27;, &#x27;body_feat_625&#x27;, &#x27;body_feat_626&#x27;, &#x27;body_feat_627&#x27;, &#x27;body_feat_628&#x27;, &#x27;body_feat_629&#x27;, &#x27;body_feat_630&#x27;, &#x27;body_feat_631&#x27;, &#x27;body_feat_632&#x27;, &#x27;body_feat_633&#x27;, &#x27;body_feat_634&#x27;, &#x27;body_feat_635&#x27;, &#x27;body_feat_636&#x27;, &#x27;body_feat_637&#x27;, &#x27;body_feat_638&#x27;, &#x27;body_feat_639&#x27;, &#x27;body_feat_640&#x27;, &#x27;body_feat_641&#x27;, &#x27;body_feat_642&#x27;, &#x27;body_feat_643&#x27;, &#x27;body_feat_644&#x27;, &#x27;body_feat_645&#x27;, &#x27;body_feat_646&#x27;, &#x27;body_feat_647&#x27;, &#x27;body_feat_648&#x27;, &#x27;body_feat_649&#x27;, &#x27;body_feat_650&#x27;, &#x27;body_feat_651&#x27;, &#x27;body_feat_652&#x27;, &#x27;body_feat_653&#x27;, &#x27;body_feat_654&#x27;, &#x27;body_feat_655&#x27;, &#x27;body_feat_656&#x27;, &#x27;body_feat_657&#x27;, &#x27;body_feat_658&#x27;, &#x27;body_feat_659&#x27;, &#x27;body_feat_660&#x27;, &#x27;body_feat_661&#x27;, &#x27;body_feat_662&#x27;, &#x27;body_feat_663&#x27;, &#x27;body_feat_664&#x27;, &#x27;body_feat_665&#x27;, &#x27;body_feat_666&#x27;, &#x27;body_feat_667&#x27;, &#x27;body_feat_668&#x27;, &#x27;body_feat_669&#x27;, &#x27;body_feat_670&#x27;, &#x27;body_feat_671&#x27;, &#x27;body_feat_672&#x27;, &#x27;body_feat_673&#x27;, &#x27;body_feat_674&#x27;, &#x27;body_feat_675&#x27;, &#x27;body_feat_676&#x27;, &#x27;body_feat_677&#x27;, &#x27;body_feat_678&#x27;, &#x27;body_feat_679&#x27;, &#x27;body_feat_680&#x27;, &#x27;body_feat_681&#x27;, &#x27;body_feat_682&#x27;, &#x27;body_feat_683&#x27;, &#x27;body_feat_684&#x27;, &#x27;body_feat_685&#x27;, &#x27;body_feat_686&#x27;, &#x27;body_feat_687&#x27;, &#x27;body_feat_688&#x27;, &#x27;body_feat_689&#x27;, &#x27;body_feat_690&#x27;, &#x27;body_feat_691&#x27;, &#x27;body_feat_692&#x27;, &#x27;body_feat_693&#x27;, &#x27;body_feat_694&#x27;, &#x27;body_feat_695&#x27;, &#x27;body_feat_696&#x27;, &#x27;body_feat_697&#x27;, &#x27;body_feat_698&#x27;, &#x27;body_feat_699&#x27;, &#x27;body_feat_700&#x27;, &#x27;body_feat_701&#x27;, &#x27;body_feat_702&#x27;, &#x27;body_feat_703&#x27;, &#x27;body_feat_704&#x27;, &#x27;body_feat_705&#x27;, &#x27;body_feat_706&#x27;, &#x27;body_feat_707&#x27;, &#x27;body_feat_708&#x27;, &#x27;body_feat_709&#x27;, &#x27;body_feat_710&#x27;, &#x27;body_feat_711&#x27;, &#x27;body_feat_712&#x27;, &#x27;body_feat_713&#x27;, &#x27;body_feat_714&#x27;, &#x27;body_feat_715&#x27;, &#x27;body_feat_716&#x27;, &#x27;body_feat_717&#x27;, &#x27;body_feat_718&#x27;, &#x27;body_feat_719&#x27;, &#x27;body_feat_720&#x27;, &#x27;body_feat_721&#x27;, &#x27;body_feat_722&#x27;, &#x27;body_feat_723&#x27;, &#x27;body_feat_724&#x27;, &#x27;body_feat_725&#x27;, &#x27;body_feat_726&#x27;, &#x27;body_feat_727&#x27;, &#x27;body_feat_728&#x27;, &#x27;body_feat_729&#x27;, &#x27;body_feat_730&#x27;, &#x27;body_feat_731&#x27;, &#x27;body_feat_732&#x27;, &#x27;body_feat_733&#x27;, &#x27;body_feat_734&#x27;, &#x27;body_feat_735&#x27;, &#x27;body_feat_736&#x27;, &#x27;body_feat_737&#x27;, &#x27;body_feat_738&#x27;, &#x27;body_feat_739&#x27;, &#x27;body_feat_740&#x27;, &#x27;body_feat_741&#x27;, &#x27;body_feat_742&#x27;, &#x27;body_feat_743&#x27;, &#x27;body_feat_744&#x27;, &#x27;body_feat_745&#x27;, &#x27;body_feat_746&#x27;, &#x27;body_feat_747&#x27;, &#x27;body_feat_748&#x27;, &#x27;body_feat_749&#x27;, &#x27;body_feat_750&#x27;, &#x27;body_feat_751&#x27;, &#x27;body_feat_752&#x27;, &#x27;body_feat_753&#x27;, &#x27;body_feat_754&#x27;, &#x27;body_feat_755&#x27;, &#x27;body_feat_756&#x27;, &#x27;body_feat_757&#x27;, &#x27;body_feat_758&#x27;, &#x27;body_feat_759&#x27;, &#x27;body_feat_760&#x27;, &#x27;body_feat_761&#x27;, &#x27;body_feat_762&#x27;, &#x27;body_feat_763&#x27;, &#x27;body_feat_764&#x27;, &#x27;body_feat_765&#x27;, &#x27;body_feat_766&#x27;, &#x27;body_feat_767&#x27;]</pre></div> </div></div><div class=\"sk-serial\"><div class=\"sk-item\"><div class=\"sk-estimator fitted sk-toggleable\"><input class=\"sk-toggleable__control sk-hidden--visually\" id=\"sk-estimator-id-28\" type=\"checkbox\" ><label for=\"sk-estimator-id-28\" class=\"sk-toggleable__label fitted sk-toggleable__label-arrow\"><div><div>PCA</div></div><div><a class=\"sk-estimator-doc-link fitted\" rel=\"noreferrer\" target=\"_blank\" href=\"https://scikit-learn.org/1.6/modules/generated/sklearn.decomposition.PCA.html\">?<span>Documentation for PCA</span></a></div></label><div class=\"sk-toggleable__content fitted\"><pre>PCA(n_components=80)</pre></div> </div></div></div></div></div><div class=\"sk-parallel-item\"><div class=\"sk-item\"><div class=\"sk-label-container\"><div class=\"sk-label fitted sk-toggleable\"><input class=\"sk-toggleable__control sk-hidden--visually\" id=\"sk-estimator-id-29\" type=\"checkbox\" ><label for=\"sk-estimator-id-29\" class=\"sk-toggleable__label fitted sk-toggleable__label-arrow\"><div><div>std_scaler</div></div></label><div class=\"sk-toggleable__content fitted\"><pre>[&#x27;event_median_cost&#x27;]</pre></div> </div></div><div class=\"sk-serial\"><div class=\"sk-item\"><div class=\"sk-estimator fitted sk-toggleable\"><input class=\"sk-toggleable__control sk-hidden--visually\" id=\"sk-estimator-id-30\" type=\"checkbox\" ><label for=\"sk-estimator-id-30\" class=\"sk-toggleable__label fitted sk-toggleable__label-arrow\"><div><div>StandardScaler</div></div><div><a class=\"sk-estimator-doc-link fitted\" rel=\"noreferrer\" target=\"_blank\" href=\"https://scikit-learn.org/1.6/modules/generated/sklearn.preprocessing.StandardScaler.html\">?<span>Documentation for StandardScaler</span></a></div></label><div class=\"sk-toggleable__content fitted\"><pre>StandardScaler()</pre></div> </div></div></div></div></div></div></div><div class=\"sk-item\"><div class=\"sk-estimator fitted sk-toggleable\"><input class=\"sk-toggleable__control sk-hidden--visually\" id=\"sk-estimator-id-31\" type=\"checkbox\" ><label for=\"sk-estimator-id-31\" class=\"sk-toggleable__label fitted sk-toggleable__label-arrow\"><div><div>LGBMRegressor</div></div></label><div class=\"sk-toggleable__content fitted\"><pre>LGBMRegressor(colsample_bytree=0.6527923965773857, lambda_l1=1.5854842816691632,\n",
       "              lambda_l2=8.833659109656566, learning_rate=0.09134879752884997,\n",
       "              max_depth=10, min_child_weight=4, n_estimators=200,\n",
       "              subsample=0.7406110320807305)</pre></div> </div></div></div></div></div></div></div><div class=\"sk-parallel-item\"><div class=\"sk-item\"><div class=\"sk-label-container\"><div class=\"sk-label fitted sk-toggleable\"><input class=\"sk-toggleable__control sk-hidden--visually\" id=\"sk-estimator-id-32\" type=\"checkbox\" ><label for=\"sk-estimator-id-32\" class=\"sk-toggleable__label fitted sk-toggleable__label-arrow\"><div><div>transformer: PowerTransformer</div></div></label><div class=\"sk-toggleable__content fitted\"><pre>PowerTransformer(method=&#x27;box-cox&#x27;, standardize=False)</pre></div> </div></div><div class=\"sk-serial\"><div class=\"sk-item\"><div class=\"sk-estimator fitted sk-toggleable\"><input class=\"sk-toggleable__control sk-hidden--visually\" id=\"sk-estimator-id-33\" type=\"checkbox\" ><label for=\"sk-estimator-id-33\" class=\"sk-toggleable__label fitted sk-toggleable__label-arrow\"><div><div>PowerTransformer</div></div><div><a class=\"sk-estimator-doc-link fitted\" rel=\"noreferrer\" target=\"_blank\" href=\"https://scikit-learn.org/1.6/modules/generated/sklearn.preprocessing.PowerTransformer.html\">?<span>Documentation for PowerTransformer</span></a></div></label><div class=\"sk-toggleable__content fitted\"><pre>PowerTransformer(method=&#x27;box-cox&#x27;, standardize=False)</pre></div> </div></div></div></div></div></div></div></div></div>"
      ],
      "text/plain": [
       "TransformedTargetRegressor(regressor=Pipeline(steps=[('preprocessor',\n",
       "                                                      ColumnTransformer(transformers=[('log_inc',\n",
       "                                                                                       Pipeline(steps=[('log',\n",
       "                                                                                                        FunctionTransformer(func=<ufunc 'log'>)),\n",
       "                                                                                                       ('scaler',\n",
       "                                                                                                        StandardScaler())]),\n",
       "                                                                                       ['InitialIncurredCalimsCost',\n",
       "                                                                                        'WeeklyWages']),\n",
       "                                                                                      ('minmax_scaler',\n",
       "                                                                                       MinMaxScaler(),\n",
       "                                                                                       ['Age',\n",
       "                                                                                        'YearAccident']),\n",
       "                                                                                      ('gender_bool',\n",
       "                                                                                       FunctionTransformer(func=<fun...\n",
       "                                                                                      ('std_scaler',\n",
       "                                                                                       StandardScaler(),\n",
       "                                                                                       ['event_median_cost'])])),\n",
       "                                                     ('linear_model',\n",
       "                                                      LGBMRegressor(colsample_bytree=0.6527923965773857,\n",
       "                                                                    lambda_l1=1.5854842816691632,\n",
       "                                                                    lambda_l2=8.833659109656566,\n",
       "                                                                    learning_rate=0.09134879752884997,\n",
       "                                                                    max_depth=10,\n",
       "                                                                    min_child_weight=4,\n",
       "                                                                    n_estimators=200,\n",
       "                                                                    subsample=0.7406110320807305))]),\n",
       "                           transformer=PowerTransformer(method='box-cox',\n",
       "                                                        standardize=False))"
      ]
     },
     "execution_count": 17,
     "metadata": {},
     "output_type": "execute_result"
    }
   ],
   "source": [
    "model.fit(X_train, y_train)"
   ]
  },
  {
   "cell_type": "code",
   "execution_count": 18,
   "metadata": {},
   "outputs": [
    {
     "name": "stdout",
     "output_type": "stream",
     "text": [
      "[LightGBM] [Warning] lambda_l1 is set=1.5854842816691632, reg_alpha=0.0 will be ignored. Current value: lambda_l1=1.5854842816691632\n",
      "[LightGBM] [Warning] lambda_l2 is set=8.833659109656566, reg_lambda=0.0 will be ignored. Current value: lambda_l2=8.833659109656566\n"
     ]
    },
    {
     "name": "stderr",
     "output_type": "stream",
     "text": [
      "/Users/alexis/Projects/202502 Actuarial Loss Prediction/.env/lib/python3.10/site-packages/sklearn/utils/validation.py:2739: UserWarning:\n",
      "\n",
      "X does not have valid feature names, but LGBMRegressor was fitted with feature names\n",
      "\n"
     ]
    },
    {
     "data": {
      "text/plain": [
       "array([ 6976.63844136,  2392.09955833, 20966.5537356 , ...,\n",
       "        7474.87164317,  7381.86565926,   380.62672658], shape=(36000,))"
      ]
     },
     "execution_count": 18,
     "metadata": {},
     "output_type": "execute_result"
    }
   ],
   "source": [
    "y_test_pred = model.predict(dataset_test)\n",
    "y_test_pred"
   ]
  },
  {
   "cell_type": "code",
   "execution_count": 19,
   "metadata": {},
   "outputs": [
    {
     "name": "stdout",
     "output_type": "stream",
     "text": [
      "(36000, 2)\n"
     ]
    },
    {
     "data": {
      "text/html": [
       "<div>\n",
       "<style scoped>\n",
       "    .dataframe tbody tr th:only-of-type {\n",
       "        vertical-align: middle;\n",
       "    }\n",
       "\n",
       "    .dataframe tbody tr th {\n",
       "        vertical-align: top;\n",
       "    }\n",
       "\n",
       "    .dataframe thead th {\n",
       "        text-align: right;\n",
       "    }\n",
       "</style>\n",
       "<table border=\"1\" class=\"dataframe\">\n",
       "  <thead>\n",
       "    <tr style=\"text-align: right;\">\n",
       "      <th></th>\n",
       "      <th>ClaimNumber</th>\n",
       "      <th>UltimateIncurredClaimCost</th>\n",
       "    </tr>\n",
       "  </thead>\n",
       "  <tbody>\n",
       "    <tr>\n",
       "      <th>0</th>\n",
       "      <td>WC8145235</td>\n",
       "      <td>6976.638441</td>\n",
       "    </tr>\n",
       "    <tr>\n",
       "      <th>1</th>\n",
       "      <td>WC2005111</td>\n",
       "      <td>2392.099558</td>\n",
       "    </tr>\n",
       "    <tr>\n",
       "      <th>2</th>\n",
       "      <td>WC6899143</td>\n",
       "      <td>20966.553736</td>\n",
       "    </tr>\n",
       "    <tr>\n",
       "      <th>3</th>\n",
       "      <td>WC5502023</td>\n",
       "      <td>308.760132</td>\n",
       "    </tr>\n",
       "    <tr>\n",
       "      <th>4</th>\n",
       "      <td>WC4785156</td>\n",
       "      <td>2855.345134</td>\n",
       "    </tr>\n",
       "  </tbody>\n",
       "</table>\n",
       "</div>"
      ],
      "text/plain": [
       "  ClaimNumber  UltimateIncurredClaimCost\n",
       "0   WC8145235                6976.638441\n",
       "1   WC2005111                2392.099558\n",
       "2   WC6899143               20966.553736\n",
       "3   WC5502023                 308.760132\n",
       "4   WC4785156                2855.345134"
      ]
     },
     "execution_count": 19,
     "metadata": {},
     "output_type": "execute_result"
    }
   ],
   "source": [
    "submission_df = pd.DataFrame(zip(dataset_test.index, y_test_pred), columns=['ClaimNumber', 'UltimateIncurredClaimCost'])\n",
    "\n",
    "print(submission_df.shape)\n",
    "submission_df.head()"
   ]
  },
  {
   "cell_type": "code",
   "execution_count": 20,
   "metadata": {},
   "outputs": [],
   "source": [
    "submission_df.to_csv('../data/output/submission_lgbm.csv', index=False)"
   ]
  },
  {
   "cell_type": "markdown",
   "metadata": {},
   "source": []
  }
 ],
 "metadata": {
  "kernelspec": {
   "display_name": ".env",
   "language": "python",
   "name": "python3"
  },
  "language_info": {
   "codemirror_mode": {
    "name": "ipython",
    "version": 3
   },
   "file_extension": ".py",
   "mimetype": "text/x-python",
   "name": "python",
   "nbconvert_exporter": "python",
   "pygments_lexer": "ipython3",
   "version": "3.10.15"
  }
 },
 "nbformat": 4,
 "nbformat_minor": 2
}

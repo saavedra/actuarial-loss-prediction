{
 "cells": [
  {
   "cell_type": "markdown",
   "metadata": {},
   "source": [
    "This time I am going to ignore the outliers."
   ]
  },
  {
   "cell_type": "code",
   "execution_count": 1,
   "metadata": {},
   "outputs": [],
   "source": [
    "import pandas as pd\n",
    "import numpy as np\n",
    "\n",
    "from sklearn.compose import ColumnTransformer, TransformedTargetRegressor\n",
    "from sklearn.preprocessing import (\n",
    "    FunctionTransformer,\n",
    "    PowerTransformer,\n",
    "    MinMaxScaler,\n",
    "    OneHotEncoder,\n",
    "    Binarizer,\n",
    "    StandardScaler\n",
    ")\n",
    "\n",
    "\n",
    "from sklearn.pipeline import Pipeline\n",
    "from sklearn.model_selection import cross_val_score, KFold, cross_val_predict\n",
    "from sklearn.metrics import mean_squared_error, mean_absolute_error\n",
    "from xgboost import XGBRegressor\n",
    "from lightgbm import LGBMRegressor\n",
    "from sklearn.decomposition import PCA\n",
    "\n",
    "\n",
    "import mlflow\n",
    "import mlflow.sklearn\n",
    "\n",
    "from matplotlib import pyplot as plt\n",
    "import seaborn as sns\n",
    "import optuna"
   ]
  },
  {
   "cell_type": "code",
   "execution_count": 2,
   "metadata": {},
   "outputs": [],
   "source": [
    "dataset_train = pd.read_csv('../data/processed/dataset_train.csv', index_col=0)\n",
    "dataset_test = pd.read_csv('../data/processed/dataset_test.csv', index_col=0)"
   ]
  },
  {
   "cell_type": "code",
   "execution_count": 3,
   "metadata": {},
   "outputs": [],
   "source": [
    "# column names\n",
    "cols_event_embeddings = [f'event_feat_{i}' for i in range(768)]\n",
    "cols_event_dummies = ['BACK STRAIN', 'CLEANING INSTRUMENTS', 'CLEANING LEFT SHOULDER SPLINTER', 'CUT WITH KNIFE', 'DEALING CARDS RIGHT TENDON SYNOVITIS', 'FELL', 'FELL FROM LADDER', 'FELL OFF LADDER', 'FRACTURED LEFT WRIST FRACTURE', 'GRINDING FOREIGN BODY', 'GRINDING STEEL BEAM INFECTION', 'HIT AIR HOSE', 'HIT ELBOW', 'HIT FLOOR SHEET', 'INJURY', 'INJURY LIFTING', 'INJURY LIFTING STRAIN', 'JAMMED RIGHT HAND PUNCTURE', 'KNIFE LACERATION', 'KNIFE SLIPPED', 'LACERATION', 'LEFT LEG SNAKE BITE', 'LIFTING', 'LIFTING BOXES', 'LIFTING PATIENT', 'LIFTING TYRES', 'LOWER BACK STRAIN', 'MOTOR VEHICLE COLLISION', 'PREPARING PIPES FOR PAINTING PUNCTURE', 'PULLING CABLES', 'REDBACK SPIDER BITE', 'SLIPPED AND FELL', 'SLIPPED ON FLOOR', 'SLIPPED ON ROLLER', 'SLIPPED ON STAIRS', 'SLIPPED ON WET FLOOR', 'SLIPPED USING LATHE', 'SORTING ALUMINIUM BARS STRAIN', 'SPRAINED RIGHT ANKLE FRACTURE', 'STRAIN', 'STRAIN LIFTING PARTS', 'STRAIN LIFTING STRAIN', 'STRUCK KNIFE LACERATED', 'STRUCK KNIFE LACERATION', 'STRUCK PALLET', 'STRUCK WITH KNIFE', 'USING AIR HOSE STRAIN', 'USING DRILL']\n",
    "cols_body_parts_embeddings = [f'body_feat_{i}' for i in range(768)]"
   ]
  },
  {
   "cell_type": "code",
   "execution_count": 4,
   "metadata": {},
   "outputs": [
    {
     "data": {
      "text/plain": [
       "np.int64(13)"
      ]
     },
     "execution_count": 4,
     "metadata": {},
     "output_type": "execute_result"
    }
   ],
   "source": [
    "(dataset_train['UltimateIncurredClaimCost'] > 5e5).sum()"
   ]
  },
  {
   "cell_type": "code",
   "execution_count": null,
   "metadata": {},
   "outputs": [],
   "source": [
    "# removing values over 500000 will erase 13 rows\n",
    "dataset_train = dataset_train[dataset_train['UltimateIncurredClaimCost'] < 5e5]"
   ]
  },
  {
   "cell_type": "code",
   "execution_count": 6,
   "metadata": {},
   "outputs": [],
   "source": [
    "def train_cv(model, X, y, metric = 'rmse', kfold = 5):\n",
    "\n",
    "    if metric != 'rmse':\n",
    "        raise NotImplemented\n",
    "\n",
    "    scores = cross_val_score(model, X, y, cv=kfold, scoring='neg_mean_squared_error')\n",
    "\n",
    "    mse_scores = -scores\n",
    "    rmse_scores = np.sqrt(mse_scores)\n",
    "\n",
    "    return rmse_scores.mean(), rmse_scores.std()"
   ]
  },
  {
   "cell_type": "code",
   "execution_count": 7,
   "metadata": {},
   "outputs": [],
   "source": [
    "log_transformer = Pipeline([\n",
    "    ('log', FunctionTransformer(np.log, validate=False)),\n",
    "    ('scaler', StandardScaler()) \n",
    "])\n",
    "\n",
    "# gender to bool \n",
    "def gender_to_bool(gender_column):\n",
    "    \"\"\"\n",
    "    - Fill missing values with 'M'\n",
    "    - Replace 'U' with 'M'\n",
    "    - Return a boolean-ish column: 1 for 'M', 0 otherwise\n",
    "    \"\"\"\n",
    "    g = pd.Series(gender_column.squeeze(), dtype=str).fillna('M').replace('U', 'M')\n",
    "    is_male = (g == 'M').astype(int)\n",
    "    return is_male.values.reshape(-1, 1)\n",
    "\n",
    "gender_transformer = FunctionTransformer(gender_to_bool, validate=False)\n",
    "\n",
    "# hours worked per week -> to buckets -> to one_hot\n",
    "def bucket_hours_worked(dtt_array):\n",
    "    return pd.cut(\n",
    "        dtt_array.squeeze(), \n",
    "        bins=[-np.inf, 37, 41, np.inf],\n",
    "        labels=[\"<=37\", \"37-41\", \">41\"]\n",
    "    ).astype(str).values.reshape(-1, 1)\n",
    "\n",
    "hours_worked_bucketer = FunctionTransformer(bucket_hours_worked, validate=False)\n",
    "hours_worked_encoder = OneHotEncoder(drop='first')\n",
    "hours_worked_pipeline = Pipeline([\n",
    "    ('bucketizer', hours_worked_bucketer),\n",
    "    ('encoder', hours_worked_encoder)\n",
    "])\n",
    "\n",
    "# DaysToReport (DateReported - DateTimeOfAccident) -> to buckets -> to one_hot\n",
    "def bucket_days_to_report(dtt_array):\n",
    "    return pd.cut(\n",
    "        dtt_array.squeeze(), \n",
    "        bins=[-np.inf, 80, 300, 500, np.inf],\n",
    "        labels=[\"<=80\", \"80-300\", \"300-500\", \">500\"]\n",
    "    ).astype(str).values.reshape(-1, 1)\n",
    "\n",
    "days_to_report_bucketer = FunctionTransformer(bucket_days_to_report, validate=False)\n",
    "days_to_report_encoder = OneHotEncoder(drop='first')\n",
    "days_to_report_pipeline = Pipeline([\n",
    "    ('bucketizer', days_to_report_bucketer),\n",
    "    ('encoder', days_to_report_encoder)\n",
    "])\n",
    "\n",
    "# DaysWorkedPerWeek -> 1 if equals 5, 0 in any other case \n",
    "def days_worked_binarize(days_array):\n",
    "    # Ensure we handle arrays or DataFrames by squeezing to 1D\n",
    "    days = days_array.squeeze()\n",
    "    binarized = (days == 5).astype(int)\n",
    "    # Return as 2D array: (n_samples x 1)\n",
    "    return binarized.values.reshape(-1, 1) if isinstance(days, pd.Series) else binarized.reshape(-1, 1)\n",
    "\n",
    "days_worked_transformer = FunctionTransformer(days_worked_binarize, validate=False)"
   ]
  },
  {
   "cell_type": "code",
   "execution_count": 8,
   "metadata": {},
   "outputs": [],
   "source": [
    "preprocessor = ColumnTransformer(\n",
    "    transformers=[\n",
    "        ('log_inc', log_transformer, ['InitialIncurredCalimsCost', 'WeeklyWages']),\n",
    "        ('minmax_scaler', MinMaxScaler(), ['Age', 'YearAccident']),\n",
    "        ('gender_bool', gender_transformer, ['Gender']),\n",
    "        ('hww_bool_onehot', hours_worked_pipeline, ['HoursWorkedPerWeek']),\n",
    "        ('dtt_bool_onehot', days_to_report_pipeline, ['DaysToReport']),\n",
    "        ('has_dependent_bool', Binarizer(threshold=0), ['DependentChildren']),\n",
    "        ('worked_five_days_bool', days_worked_transformer, ['DaysWorkedPerWeek']),\n",
    "        ('onehot', OneHotEncoder(drop='first'), ['MaritalStatus', 'PartTimeFullTime']),\n",
    "        ('pca_event_embeddings', PCA(n_components=250), cols_event_embeddings),\n",
    "        ('passthrough_event_dummies', 'passthrough', cols_event_dummies),\n",
    "        ('pca_body_parts_embeddings', PCA(n_components=80), cols_body_parts_embeddings),\n",
    "        ('std_scaler', StandardScaler(), ['event_median_cost'])\n",
    "    ],\n",
    "    remainder='drop'\n",
    ")"
   ]
  },
  {
   "cell_type": "code",
   "execution_count": 9,
   "metadata": {},
   "outputs": [],
   "source": [
    "regressor_pipeline = Pipeline([\n",
    "    ('preprocessor', preprocessor),\n",
    "    ('linear_model', XGBRegressor())\n",
    "])\n",
    "\n",
    "model = TransformedTargetRegressor(\n",
    "    regressor=regressor_pipeline,\n",
    "    transformer=PowerTransformer(method='box-cox', standardize=False)\n",
    ")"
   ]
  },
  {
   "cell_type": "code",
   "execution_count": 10,
   "metadata": {},
   "outputs": [
    {
     "name": "stdout",
     "output_type": "stream",
     "text": [
      "CV MSE:  499651363.017  (+/- 39383780.495)\n",
      "CV RMSE: 22335.797  (+/- 873.800)\n"
     ]
    }
   ],
   "source": [
    "\n",
    "scores = cross_val_score(\n",
    "    model, \n",
    "    dataset_train, \n",
    "    dataset_train['UltimateIncurredClaimCost'], \n",
    "    cv=5, \n",
    "    scoring='neg_mean_squared_error'\n",
    ")\n",
    "mse_scores = -scores\n",
    "rmse_scores = np.sqrt(mse_scores)\n",
    "\n",
    "print(f\"CV MSE:  {mse_scores.mean():.3f}  (+/- {mse_scores.std():.3f})\")\n",
    "print(f\"CV RMSE: {rmse_scores.mean():.3f}  (+/- {rmse_scores.std():.3f})\")"
   ]
  },
  {
   "cell_type": "markdown",
   "metadata": {},
   "source": [
    "As expected, even the out of the box version of xgboost has better error than previous attempts. "
   ]
  },
  {
   "cell_type": "code",
   "execution_count": 11,
   "metadata": {},
   "outputs": [],
   "source": [
    "X_train = dataset_train.drop(columns=['UltimateIncurredClaimCost'])\n",
    "y_train = dataset_train['UltimateIncurredClaimCost']\n",
    "\n",
    "def run_experiment(\n",
    "        experiment_name, \n",
    "        run_name, \n",
    "        regressor_object, \n",
    "        kfold=5, \n",
    "        save_model=True\n",
    "    ):\n",
    "    \"\"\"\n",
    "    Runs an ML experiment with cross-validation and logs metrics to MLflow,\n",
    "    tracking overall and segmented performance for targets above and below 100,000.\n",
    "\n",
    "    Parameters:\n",
    "    - experiment_name (str): Name of the MLflow experiment.\n",
    "    - run_name (str): Name of the MLflow run.\n",
    "    - regressor_object: The regression model.\n",
    "    - kfold (int): Number of folds for cross-validation.\n",
    "    - save_model (bool): Whether to save the trained model in MLflow.\n",
    "\n",
    "    Logs:\n",
    "    - Overall CV MSE, RMSE, and MAE\n",
    "    - MSE, RMSE, and MAE for y_true > 100,000\n",
    "    - MSE, RMSE, and MAE for y_true ≤ 100,000\n",
    "    \"\"\"\n",
    "\n",
    "    # Define pipeline with preprocessing and model\n",
    "    regressor_pipeline = Pipeline([\n",
    "        ('preprocessor', preprocessor),\n",
    "        ('linear_model', regressor_object)\n",
    "    ])\n",
    "\n",
    "    model = TransformedTargetRegressor(\n",
    "        regressor=regressor_pipeline,\n",
    "        transformer=PowerTransformer(method='box-cox', standardize=False)\n",
    "    )\n",
    "\n",
    "    # Set MLflow experiment\n",
    "    mlflow.set_experiment(experiment_name)\n",
    "\n",
    "    with mlflow.start_run(run_name=run_name):\n",
    "        # Log hyperparameters\n",
    "        params = model.get_params(deep=True)\n",
    "        for param_name, param_value in params.items():\n",
    "            if isinstance(param_value, (str, int, float, bool, type(None))):\n",
    "                mlflow.log_param(param_name, param_value)\n",
    "            else:\n",
    "                mlflow.log_param(param_name, str(param_value)[:5000])\n",
    "        \n",
    "        mlflow.log_param(\"n_features_in\", X_train.shape[1])\n",
    "\n",
    "        # Perform cross-validation with predictions\n",
    "        y_pred = cross_val_predict(model, X_train, y_train, cv=kfold)\n",
    "\n",
    "        # Compute overall errors\n",
    "        overall_mse = mean_squared_error(y_train, y_pred)\n",
    "        overall_rmse = np.sqrt(overall_mse)\n",
    "        overall_mae = mean_absolute_error(y_train, y_pred)\n",
    "\n",
    "        # Compute errors for high and low y_true\n",
    "        high_mask = y_train > 100000\n",
    "\n",
    "        high_mse = mean_squared_error(y_train[high_mask], y_pred[high_mask])\n",
    "        high_rmse = np.sqrt(high_mse)\n",
    "        high_mae = mean_absolute_error(y_train[high_mask], y_pred[high_mask])\n",
    "        \n",
    "        low_mse = mean_squared_error(y_train[~high_mask], y_pred[~high_mask])\n",
    "        low_rmse = np.sqrt(low_mse)\n",
    "        low_mae = mean_absolute_error(y_train[~high_mask], y_pred[~high_mask])\n",
    "    \n",
    "        print(f\"RMSE Overall:  {overall_rmse:.3f} | MAE: {overall_mae:.3f}\")\n",
    "        print(f\"RMSE for low y_true (<= 100k): {low_rmse:.3f} | MAE: {low_mae:.3f}\")\n",
    "        print(f\"RMSE for high y_true (> 100k): {high_rmse:.3f} | MAE: {high_mae:.3f}\")\n",
    "        \n",
    "\n",
    "        # Log overall metrics\n",
    "        mlflow.log_metric(\"cv_mse\", overall_mse)\n",
    "        mlflow.log_metric(\"cv_rmse\", overall_rmse)\n",
    "        mlflow.log_metric(\"cv_mae\", overall_mae)\n",
    "\n",
    "        # Log segmented metrics\n",
    "        mlflow.log_metric(\"cv_mse_high\", high_mse)\n",
    "        mlflow.log_metric(\"cv_rmse_high\", high_rmse)\n",
    "        mlflow.log_metric(\"cv_mae_high\", high_mae)\n",
    "        mlflow.log_metric(\"cv_mse_low\", low_mse)\n",
    "        mlflow.log_metric(\"cv_rmse_low\", low_rmse)\n",
    "        mlflow.log_metric(\"cv_mae_low\", low_mae)\n",
    "\n",
    "        # Fit final model on full dataset\n",
    "        if save_model:\n",
    "            model.fit(X_train, y_train)\n",
    "            mlflow.sklearn.log_model(model, artifact_path=\"models\")\n",
    "    \n",
    "    return overall_rmse\n"
   ]
  },
  {
   "cell_type": "code",
   "execution_count": 12,
   "metadata": {},
   "outputs": [],
   "source": [
    "\n",
    "def objective(trial):\n",
    "    \"\"\"Objective function for Optuna to optimize XGBoost hyperparameters.\"\"\"\n",
    "    \n",
    "    # Suggest hyperparameters to optimize\n",
    "    params = {\n",
    "        \"n_estimators\": trial.suggest_int(\"n_estimators\", 100, 1000, step=100),\n",
    "        \"max_depth\": trial.suggest_int(\"max_depth\", 2, 10),\n",
    "        \"learning_rate\": trial.suggest_float(\"learning_rate\", 0.01, 0.3, log=True),\n",
    "        \"min_child_weight\": trial.suggest_int(\"min_child_weight\", 1, 10),\n",
    "        \"subsample\": trial.suggest_float(\"subsample\", 0.5, 1.0),\n",
    "        \"colsample_bytree\": trial.suggest_float(\"colsample_bytree\", 0.5, 1.0),\n",
    "        \"reg_alpha\": trial.suggest_float(\"reg_alpha\", 0.0, 1.0),\n",
    "        \"reg_lambda\": trial.suggest_float(\"reg_lambda\", 0.0, 10.0),\n",
    "        \"gamma\": trial.suggest_float(\"gamma\", 0.0, 5.0),\n",
    "    }\n",
    "\n",
    "    rmse = run_experiment(\n",
    "        'Optuna XGBoost - no outliers',\n",
    "        'XGBoost optimization',\n",
    "        XGBRegressor(**params),\n",
    "        kfold=5,\n",
    "        save_model=False\n",
    "    )\n",
    "\n",
    "    return rmse\n"
   ]
  },
  {
   "cell_type": "code",
   "execution_count": 13,
   "metadata": {},
   "outputs": [
    {
     "name": "stderr",
     "output_type": "stream",
     "text": [
      "[I 2025-03-02 18:02:57,614] A new study created in memory with name: no-name-a5fd74d6-a3b7-4974-9e03-c000325bda38\n",
      "[I 2025-03-02 18:03:16,067] Trial 0 finished with value: 22068.84161051241 and parameters: {'n_estimators': 600, 'max_depth': 7, 'learning_rate': 0.05530492523604442, 'min_child_weight': 5, 'subsample': 0.8945426311715513, 'colsample_bytree': 0.56843185328282, 'reg_alpha': 0.5536031355636127, 'reg_lambda': 7.666209318263942, 'gamma': 3.953700546676619}. Best is trial 0 with value: 22068.84161051241.\n"
     ]
    },
    {
     "name": "stdout",
     "output_type": "stream",
     "text": [
      "RMSE Overall:  22068.842 | MAE: 5462.042\n",
      "RMSE for low y_true (<= 100k): 9149.135 | MAE: 3173.861\n",
      "RMSE for high y_true (> 100k): 150724.319 | MAE: 131583.146\n"
     ]
    },
    {
     "name": "stderr",
     "output_type": "stream",
     "text": [
      "[I 2025-03-02 18:03:34,217] Trial 1 finished with value: 21967.684197337636 and parameters: {'n_estimators': 800, 'max_depth': 6, 'learning_rate': 0.10651476051010814, 'min_child_weight': 2, 'subsample': 0.5872701543423388, 'colsample_bytree': 0.8842607026647225, 'reg_alpha': 0.3247646639166898, 'reg_lambda': 8.731439600303757, 'gamma': 2.3993869122683216}. Best is trial 1 with value: 21967.684197337636.\n"
     ]
    },
    {
     "name": "stdout",
     "output_type": "stream",
     "text": [
      "RMSE Overall:  21967.684 | MAE: 5418.965\n",
      "RMSE for low y_true (<= 100k): 9037.466 | MAE: 3142.340\n",
      "RMSE for high y_true (> 100k): 150265.671 | MAE: 130903.132\n"
     ]
    },
    {
     "name": "stderr",
     "output_type": "stream",
     "text": [
      "[I 2025-03-02 18:04:03,604] Trial 2 finished with value: 22043.37413065177 and parameters: {'n_estimators': 900, 'max_depth': 9, 'learning_rate': 0.0244694316952387, 'min_child_weight': 1, 'subsample': 0.5867588583826903, 'colsample_bytree': 0.8456542095932117, 'reg_alpha': 0.2137328826130912, 'reg_lambda': 6.119093515902776, 'gamma': 2.613877294731091}. Best is trial 1 with value: 21967.684197337636.\n"
     ]
    },
    {
     "name": "stdout",
     "output_type": "stream",
     "text": [
      "RMSE Overall:  22043.374 | MAE: 5376.165\n",
      "RMSE for low y_true (<= 100k): 8981.667 | MAE: 3078.292\n",
      "RMSE for high y_true (> 100k): 151069.958 | MAE: 132031.490\n"
     ]
    },
    {
     "name": "stderr",
     "output_type": "stream",
     "text": [
      "[I 2025-03-02 18:04:12,750] Trial 3 finished with value: 22037.794148419125 and parameters: {'n_estimators': 300, 'max_depth': 4, 'learning_rate': 0.2190143743379237, 'min_child_weight': 10, 'subsample': 0.6141006427957785, 'colsample_bytree': 0.6087609486478807, 'reg_alpha': 0.9127230203624705, 'reg_lambda': 6.428236287502665, 'gamma': 4.174116538058875}. Best is trial 1 with value: 21967.684197337636.\n"
     ]
    },
    {
     "name": "stdout",
     "output_type": "stream",
     "text": [
      "RMSE Overall:  22037.794 | MAE: 5513.132\n",
      "RMSE for low y_true (<= 100k): 9203.263 | MAE: 3237.058\n",
      "RMSE for high y_true (> 100k): 150287.118 | MAE: 130966.942\n"
     ]
    },
    {
     "name": "stderr",
     "output_type": "stream",
     "text": [
      "[I 2025-03-02 18:04:28,877] Trial 4 finished with value: 22297.936278959987 and parameters: {'n_estimators': 300, 'max_depth': 4, 'learning_rate': 0.014738805666152238, 'min_child_weight': 4, 'subsample': 0.9510445139186946, 'colsample_bytree': 0.7538919549321168, 'reg_alpha': 0.42039613219298066, 'reg_lambda': 2.727516639129063, 'gamma': 4.271688347316819}. Best is trial 1 with value: 21967.684197337636.\n"
     ]
    },
    {
     "name": "stdout",
     "output_type": "stream",
     "text": [
      "RMSE Overall:  22297.936 | MAE: 5371.026\n",
      "RMSE for low y_true (<= 100k): 9011.188 | MAE: 3024.402\n",
      "RMSE for high y_true (> 100k): 153056.524 | MAE: 134713.467\n"
     ]
    },
    {
     "name": "stderr",
     "output_type": "stream",
     "text": [
      "[I 2025-03-02 18:04:43,969] Trial 5 finished with value: 22137.13257330044 and parameters: {'n_estimators': 300, 'max_depth': 4, 'learning_rate': 0.01807952868948732, 'min_child_weight': 7, 'subsample': 0.8084832459565772, 'colsample_bytree': 0.6400612598434379, 'reg_alpha': 0.0821774916698973, 'reg_lambda': 1.4738027414213717, 'gamma': 3.710539010057676}. Best is trial 1 with value: 21967.684197337636.\n"
     ]
    },
    {
     "name": "stdout",
     "output_type": "stream",
     "text": [
      "RMSE Overall:  22137.133 | MAE: 5409.873\n",
      "RMSE for low y_true (<= 100k): 9061.102 | MAE: 3099.730\n",
      "RMSE for high y_true (> 100k): 151577.025 | MAE: 132741.515\n"
     ]
    },
    {
     "name": "stderr",
     "output_type": "stream",
     "text": [
      "[I 2025-03-02 18:04:52,255] Trial 6 finished with value: 21982.276506782106 and parameters: {'n_estimators': 100, 'max_depth': 7, 'learning_rate': 0.11384986781781738, 'min_child_weight': 9, 'subsample': 0.5580417296428011, 'colsample_bytree': 0.8736370030842543, 'reg_alpha': 0.5117779728819585, 'reg_lambda': 1.6180852134447132, 'gamma': 1.794115678081536}. Best is trial 1 with value: 21967.684197337636.\n"
     ]
    },
    {
     "name": "stdout",
     "output_type": "stream",
     "text": [
      "RMSE Overall:  21982.277 | MAE: 5405.111\n",
      "RMSE for low y_true (<= 100k): 9030.926 | MAE: 3122.113\n",
      "RMSE for high y_true (> 100k): 150407.033 | MAE: 131240.548\n"
     ]
    },
    {
     "name": "stderr",
     "output_type": "stream",
     "text": [
      "[I 2025-03-02 18:05:12,069] Trial 7 finished with value: 21982.990133687297 and parameters: {'n_estimators': 1000, 'max_depth': 6, 'learning_rate': 0.1457116894831324, 'min_child_weight': 9, 'subsample': 0.7142126481436597, 'colsample_bytree': 0.8258553341230326, 'reg_alpha': 0.292873039621521, 'reg_lambda': 7.787038549394808, 'gamma': 2.873239607257193}. Best is trial 1 with value: 21967.684197337636.\n"
     ]
    },
    {
     "name": "stdout",
     "output_type": "stream",
     "text": [
      "RMSE Overall:  21982.990 | MAE: 5411.914\n",
      "RMSE for low y_true (<= 100k): 9054.669 | MAE: 3134.279\n",
      "RMSE for high y_true (> 100k): 150334.190 | MAE: 130951.735\n"
     ]
    },
    {
     "name": "stderr",
     "output_type": "stream",
     "text": [
      "[I 2025-03-02 18:05:21,819] Trial 8 finished with value: 21969.159039996608 and parameters: {'n_estimators': 300, 'max_depth': 5, 'learning_rate': 0.17591897581868884, 'min_child_weight': 4, 'subsample': 0.8408845836419407, 'colsample_bytree': 0.725848266165589, 'reg_alpha': 0.8777512281681858, 'reg_lambda': 6.976652378917115, 'gamma': 2.8986964647858326}. Best is trial 1 with value: 21967.684197337636.\n"
     ]
    },
    {
     "name": "stdout",
     "output_type": "stream",
     "text": [
      "RMSE Overall:  21969.159 | MAE: 5434.725\n",
      "RMSE for low y_true (<= 100k): 9070.536 | MAE: 3161.334\n",
      "RMSE for high y_true (> 100k): 150167.913 | MAE: 130740.654\n"
     ]
    },
    {
     "name": "stderr",
     "output_type": "stream",
     "text": [
      "[I 2025-03-02 18:05:53,802] Trial 9 finished with value: 21998.52569491219 and parameters: {'n_estimators': 900, 'max_depth': 9, 'learning_rate': 0.024141627540025554, 'min_child_weight': 2, 'subsample': 0.6944153435273086, 'colsample_bytree': 0.7994139952822198, 'reg_alpha': 0.13269873382891229, 'reg_lambda': 7.572640908567346, 'gamma': 2.156708410193719}. Best is trial 1 with value: 21967.684197337636.\n"
     ]
    },
    {
     "name": "stdout",
     "output_type": "stream",
     "text": [
      "RMSE Overall:  21998.526 | MAE: 5368.360\n",
      "RMSE for low y_true (<= 100k): 8990.748 | MAE: 3080.301\n",
      "RMSE for high y_true (> 100k): 150672.795 | MAE: 131482.750\n"
     ]
    },
    {
     "name": "stderr",
     "output_type": "stream",
     "text": [
      "[I 2025-03-02 18:06:13,763] Trial 10 finished with value: 21872.584315956265 and parameters: {'n_estimators': 700, 'max_depth': 2, 'learning_rate': 0.06988017595492438, 'min_child_weight': 2, 'subsample': 0.5107856485527618, 'colsample_bytree': 0.9942620245240273, 'reg_alpha': 0.6560989608470564, 'reg_lambda': 9.988529998275391, 'gamma': 0.3699052056976946}. Best is trial 10 with value: 21872.584315956265.\n"
     ]
    },
    {
     "name": "stdout",
     "output_type": "stream",
     "text": [
      "RMSE Overall:  21872.584 | MAE: 5529.735\n",
      "RMSE for low y_true (<= 100k): 9462.503 | MAE: 3313.672\n",
      "RMSE for high y_true (> 100k): 148028.365 | MAE: 127675.823\n"
     ]
    },
    {
     "name": "stderr",
     "output_type": "stream",
     "text": [
      "[I 2025-03-02 18:06:33,416] Trial 11 finished with value: 21871.778486307026 and parameters: {'n_estimators': 700, 'max_depth': 2, 'learning_rate': 0.06706925446555424, 'min_child_weight': 2, 'subsample': 0.500118978152109, 'colsample_bytree': 0.9830524357474193, 'reg_alpha': 0.6976761426332289, 'reg_lambda': 9.977351292557234, 'gamma': 0.14941077072108033}. Best is trial 11 with value: 21871.778486307026.\n"
     ]
    },
    {
     "name": "stdout",
     "output_type": "stream",
     "text": [
      "RMSE Overall:  21871.778 | MAE: 5520.349\n",
      "RMSE for low y_true (<= 100k): 9439.895 | MAE: 3304.293\n",
      "RMSE for high y_true (> 100k): 148101.224 | MAE: 127666.032\n"
     ]
    },
    {
     "name": "stderr",
     "output_type": "stream",
     "text": [
      "[I 2025-03-02 18:06:50,978] Trial 12 finished with value: 21896.478006252157 and parameters: {'n_estimators': 600, 'max_depth': 2, 'learning_rate': 0.053269953552490146, 'min_child_weight': 3, 'subsample': 0.5010821950509589, 'colsample_bytree': 0.9896650613257924, 'reg_alpha': 0.7400879156319108, 'reg_lambda': 9.60262772373104, 'gamma': 0.03251918984173097}. Best is trial 11 with value: 21871.778486307026.\n"
     ]
    },
    {
     "name": "stdout",
     "output_type": "stream",
     "text": [
      "RMSE Overall:  21896.478 | MAE: 5502.257\n",
      "RMSE for low y_true (<= 100k): 9324.258 | MAE: 3268.928\n",
      "RMSE for high y_true (> 100k): 148708.567 | MAE: 128600.020\n"
     ]
    },
    {
     "name": "stderr",
     "output_type": "stream",
     "text": [
      "[I 2025-03-02 18:07:11,721] Trial 13 finished with value: 21872.405150391 and parameters: {'n_estimators': 700, 'max_depth': 2, 'learning_rate': 0.059177731122720637, 'min_child_weight': 1, 'subsample': 0.5151059435977651, 'colsample_bytree': 0.978115024606921, 'reg_alpha': 0.6869111108806304, 'reg_lambda': 9.897379626252569, 'gamma': 0.0609692523105414}. Best is trial 11 with value: 21871.778486307026.\n"
     ]
    },
    {
     "name": "stdout",
     "output_type": "stream",
     "text": [
      "RMSE Overall:  21872.405 | MAE: 5514.002\n",
      "RMSE for low y_true (<= 100k): 9387.590 | MAE: 3291.855\n",
      "RMSE for high y_true (> 100k): 148289.551 | MAE: 127995.459\n"
     ]
    },
    {
     "name": "stderr",
     "output_type": "stream",
     "text": [
      "[I 2025-03-02 18:07:28,436] Trial 14 finished with value: 21935.48794498943 and parameters: {'n_estimators': 500, 'max_depth': 2, 'learning_rate': 0.0383638658625009, 'min_child_weight': 1, 'subsample': 0.6590748699612663, 'colsample_bytree': 0.9279982954590396, 'reg_alpha': 0.7546015837753228, 'reg_lambda': 4.367482602127472, 'gamma': 0.9007593908035632}. Best is trial 11 with value: 21871.778486307026.\n"
     ]
    },
    {
     "name": "stdout",
     "output_type": "stream",
     "text": [
      "RMSE Overall:  21935.488 | MAE: 5495.093\n",
      "RMSE for low y_true (<= 100k): 9222.797 | MAE: 3245.218\n",
      "RMSE for high y_true (> 100k): 149378.433 | MAE: 129504.804\n"
     ]
    },
    {
     "name": "stderr",
     "output_type": "stream",
     "text": [
      "[I 2025-03-02 18:07:43,578] Trial 15 finished with value: 21869.44442915948 and parameters: {'n_estimators': 500, 'max_depth': 3, 'learning_rate': 0.08175440361141084, 'min_child_weight': 6, 'subsample': 0.7613552529295636, 'colsample_bytree': 0.9512894233479394, 'reg_alpha': 0.6334183097712719, 'reg_lambda': 8.900655701094166, 'gamma': 1.1579676935923378}. Best is trial 15 with value: 21869.44442915948.\n"
     ]
    },
    {
     "name": "stdout",
     "output_type": "stream",
     "text": [
      "RMSE Overall:  21869.444 | MAE: 5458.544\n",
      "RMSE for low y_true (<= 100k): 9261.516 | MAE: 3225.278\n",
      "RMSE for high y_true (> 100k): 148701.429 | MAE: 128552.804\n"
     ]
    },
    {
     "name": "stderr",
     "output_type": "stream",
     "text": [
      "[I 2025-03-02 18:07:58,194] Trial 16 finished with value: 21859.813298464473 and parameters: {'n_estimators': 500, 'max_depth': 3, 'learning_rate': 0.08932960022856933, 'min_child_weight': 7, 'subsample': 0.7794678867893635, 'colsample_bytree': 0.9252586533220631, 'reg_alpha': 0.6056550012858848, 'reg_lambda': 4.830070248663193, 'gamma': 1.2379156701115268}. Best is trial 16 with value: 21859.813298464473.\n"
     ]
    },
    {
     "name": "stdout",
     "output_type": "stream",
     "text": [
      "RMSE Overall:  21859.813 | MAE: 5452.334\n",
      "RMSE for low y_true (<= 100k): 9243.349 | MAE: 3220.208\n",
      "RMSE for high y_true (> 100k): 148684.263 | MAE: 128483.746\n"
     ]
    },
    {
     "name": "stderr",
     "output_type": "stream",
     "text": [
      "[I 2025-03-02 18:08:12,114] Trial 17 finished with value: 21876.95462036436 and parameters: {'n_estimators': 500, 'max_depth': 3, 'learning_rate': 0.10364914333995225, 'min_child_weight': 7, 'subsample': 0.7799343550129755, 'colsample_bytree': 0.9176591196173307, 'reg_alpha': 0.5799871773568667, 'reg_lambda': 4.166947877419478, 'gamma': 1.3234861856821656}. Best is trial 16 with value: 21859.813298464473.\n"
     ]
    },
    {
     "name": "stdout",
     "output_type": "stream",
     "text": [
      "RMSE Overall:  21876.955 | MAE: 5465.951\n",
      "RMSE for low y_true (<= 100k): 9271.230 | MAE: 3230.527\n",
      "RMSE for high y_true (> 100k): 148730.056 | MAE: 128679.198\n"
     ]
    },
    {
     "name": "stderr",
     "output_type": "stream",
     "text": [
      "[I 2025-03-02 18:08:23,088] Trial 18 finished with value: 21876.363795707137 and parameters: {'n_estimators': 400, 'max_depth': 5, 'learning_rate': 0.26544104141208513, 'min_child_weight': 7, 'subsample': 0.857185283238507, 'colsample_bytree': 0.5061872578775527, 'reg_alpha': 0.9972628859331508, 'reg_lambda': 5.379115512562503, 'gamma': 1.0675922957838824}. Best is trial 16 with value: 21859.813298464473.\n"
     ]
    },
    {
     "name": "stdout",
     "output_type": "stream",
     "text": [
      "RMSE Overall:  21876.364 | MAE: 5521.330\n",
      "RMSE for low y_true (<= 100k): 9339.258 | MAE: 3289.120\n",
      "RMSE for high y_true (> 100k): 148490.396 | MAE: 128557.366\n"
     ]
    },
    {
     "name": "stderr",
     "output_type": "stream",
     "text": [
      "[I 2025-03-02 18:08:38,746] Trial 19 finished with value: 22534.186319630808 and parameters: {'n_estimators': 400, 'max_depth': 3, 'learning_rate': 0.01017014772205781, 'min_child_weight': 6, 'subsample': 0.7530592531866515, 'colsample_bytree': 0.7187555436074761, 'reg_alpha': 0.4019475328917279, 'reg_lambda': 3.1672368976637806, 'gamma': 1.5980136323529923}. Best is trial 16 with value: 21859.813298464473.\n"
     ]
    },
    {
     "name": "stdout",
     "output_type": "stream",
     "text": [
      "RMSE Overall:  22534.186 | MAE: 5403.887\n",
      "RMSE for low y_true (<= 100k): 9081.336 | MAE: 3016.723\n",
      "RMSE for high y_true (> 100k): 154760.235 | MAE: 136980.776\n"
     ]
    },
    {
     "name": "stderr",
     "output_type": "stream",
     "text": [
      "[I 2025-03-02 18:08:45,585] Trial 20 finished with value: 22659.647212286203 and parameters: {'n_estimators': 100, 'max_depth': 3, 'learning_rate': 0.04090895634062447, 'min_child_weight': 8, 'subsample': 0.9742920448936326, 'colsample_bytree': 0.9259396878378807, 'reg_alpha': 0.8305789286135719, 'reg_lambda': 0.019550390450806532, 'gamma': 0.8771679153327243}. Best is trial 16 with value: 21859.813298464473.\n"
     ]
    },
    {
     "name": "stdout",
     "output_type": "stream",
     "text": [
      "RMSE Overall:  22659.647 | MAE: 5425.234\n",
      "RMSE for low y_true (<= 100k): 9085.208 | MAE: 3015.176\n",
      "RMSE for high y_true (> 100k): 155772.423 | MAE: 138264.024\n"
     ]
    },
    {
     "name": "stderr",
     "output_type": "stream",
     "text": [
      "[I 2025-03-02 18:09:08,419] Trial 21 finished with value: 21861.103097973762 and parameters: {'n_estimators': 700, 'max_depth': 3, 'learning_rate': 0.07931529835224439, 'min_child_weight': 5, 'subsample': 0.7124411422483973, 'colsample_bytree': 0.9498568886316814, 'reg_alpha': 0.6231967576014658, 'reg_lambda': 8.75889211660226, 'gamma': 0.5208317884106287}. Best is trial 16 with value: 21859.813298464473.\n"
     ]
    },
    {
     "name": "stdout",
     "output_type": "stream",
     "text": [
      "RMSE Overall:  21861.103 | MAE: 5491.260\n",
      "RMSE for low y_true (<= 100k): 9440.451 | MAE: 3276.426\n",
      "RMSE for high y_true (> 100k): 148010.790 | MAE: 127569.564\n"
     ]
    },
    {
     "name": "stderr",
     "output_type": "stream",
     "text": [
      "[I 2025-03-02 18:09:28,691] Trial 22 finished with value: 21878.213482379142 and parameters: {'n_estimators': 500, 'max_depth': 5, 'learning_rate': 0.0864043252241174, 'min_child_weight': 5, 'subsample': 0.7057166104741744, 'colsample_bytree': 0.9364670473923316, 'reg_alpha': 0.44110424025227735, 'reg_lambda': 8.574548783027861, 'gamma': 0.6475140588213777}. Best is trial 16 with value: 21859.813298464473.\n"
     ]
    },
    {
     "name": "stdout",
     "output_type": "stream",
     "text": [
      "RMSE Overall:  21878.213 | MAE: 5484.647\n",
      "RMSE for low y_true (<= 100k): 9350.622 | MAE: 3257.310\n",
      "RMSE for high y_true (> 100k): 148466.267 | MAE: 128252.168\n"
     ]
    },
    {
     "name": "stderr",
     "output_type": "stream",
     "text": [
      "[I 2025-03-02 18:09:42,293] Trial 23 finished with value: 22064.791356004112 and parameters: {'n_estimators': 600, 'max_depth': 3, 'learning_rate': 0.14645864518498145, 'min_child_weight': 6, 'subsample': 0.7533585768445136, 'colsample_bytree': 0.8849891640398009, 'reg_alpha': 0.606426673393346, 'reg_lambda': 5.570592598386893, 'gamma': 4.95948137744373}. Best is trial 16 with value: 21859.813298464473.\n"
     ]
    },
    {
     "name": "stdout",
     "output_type": "stream",
     "text": [
      "RMSE Overall:  22064.791 | MAE: 5473.691\n",
      "RMSE for low y_true (<= 100k): 9060.670 | MAE: 3177.869\n",
      "RMSE for high y_true (> 100k): 150985.364 | MAE: 132015.951\n"
     ]
    },
    {
     "name": "stderr",
     "output_type": "stream",
     "text": [
      "[I 2025-03-02 18:10:05,301] Trial 24 finished with value: 21897.884434277836 and parameters: {'n_estimators': 800, 'max_depth': 4, 'learning_rate': 0.042178324181261745, 'min_child_weight': 6, 'subsample': 0.6623604265357363, 'colsample_bytree': 0.9487139781564986, 'reg_alpha': 0.8029028161148553, 'reg_lambda': 8.639086201478884, 'gamma': 1.642318032369448}. Best is trial 16 with value: 21859.813298464473.\n"
     ]
    },
    {
     "name": "stdout",
     "output_type": "stream",
     "text": [
      "RMSE Overall:  21897.884 | MAE: 5424.920\n",
      "RMSE for low y_true (<= 100k): 9105.138 | MAE: 3169.674\n",
      "RMSE for high y_true (> 100k): 149466.642 | MAE: 129730.707\n"
     ]
    },
    {
     "name": "stderr",
     "output_type": "stream",
     "text": [
      "[I 2025-03-02 18:10:19,968] Trial 25 finished with value: 21861.353720601976 and parameters: {'n_estimators': 400, 'max_depth': 3, 'learning_rate': 0.13215056678438256, 'min_child_weight': 4, 'subsample': 0.776724677468858, 'colsample_bytree': 0.7791842406657532, 'reg_alpha': 0.6244658975265931, 'reg_lambda': 4.575381702158063, 'gamma': 0.5882566248107315}. Best is trial 16 with value: 21859.813298464473.\n"
     ]
    },
    {
     "name": "stdout",
     "output_type": "stream",
     "text": [
      "RMSE Overall:  21861.354 | MAE: 5511.880\n",
      "RMSE for low y_true (<= 100k): 9470.446 | MAE: 3298.305\n",
      "RMSE for high y_true (> 100k): 147907.214 | MAE: 127520.836\n"
     ]
    },
    {
     "name": "stderr",
     "output_type": "stream",
     "text": [
      "[I 2025-03-02 18:10:37,650] Trial 26 finished with value: 21920.478341864284 and parameters: {'n_estimators': 400, 'max_depth': 10, 'learning_rate': 0.14732208102607755, 'min_child_weight': 4, 'subsample': 0.8084884966478612, 'colsample_bytree': 0.7766958490036804, 'reg_alpha': 0.4805950804664292, 'reg_lambda': 4.371428656625712, 'gamma': 0.5391489122363708}. Best is trial 16 with value: 21859.813298464473.\n"
     ]
    },
    {
     "name": "stdout",
     "output_type": "stream",
     "text": [
      "RMSE Overall:  21920.478 | MAE: 5475.540\n",
      "RMSE for low y_true (<= 100k): 9222.844 | MAE: 3226.052\n",
      "RMSE for high y_true (> 100k): 149254.573 | MAE: 129463.987\n"
     ]
    },
    {
     "name": "stderr",
     "output_type": "stream",
     "text": [
      "[I 2025-03-02 18:10:45,713] Trial 27 finished with value: 21912.550111645523 and parameters: {'n_estimators': 200, 'max_depth': 5, 'learning_rate': 0.21253750441024796, 'min_child_weight': 5, 'subsample': 0.8523114043953435, 'colsample_bytree': 0.6636633658066793, 'reg_alpha': 0.5337177736073679, 'reg_lambda': 3.578896202085646, 'gamma': 1.9992798934351463}. Best is trial 16 with value: 21859.813298464473.\n"
     ]
    },
    {
     "name": "stdout",
     "output_type": "stream",
     "text": [
      "RMSE Overall:  21912.550 | MAE: 5458.960\n",
      "RMSE for low y_true (<= 100k): 9177.984 | MAE: 3207.167\n",
      "RMSE for high y_true (> 100k): 149341.634 | MAE: 129574.449\n"
     ]
    },
    {
     "name": "stderr",
     "output_type": "stream",
     "text": [
      "[I 2025-03-02 18:10:58,242] Trial 28 finished with value: 21871.711771516788 and parameters: {'n_estimators': 400, 'max_depth': 4, 'learning_rate': 0.12082946349941874, 'min_child_weight': 8, 'subsample': 0.8900145867525515, 'colsample_bytree': 0.8391061722732704, 'reg_alpha': 0.35105274985644325, 'reg_lambda': 4.880315240222966, 'gamma': 1.3506323875852166}. Best is trial 16 with value: 21859.813298464473.\n"
     ]
    },
    {
     "name": "stdout",
     "output_type": "stream",
     "text": [
      "RMSE Overall:  21871.712 | MAE: 5444.770\n",
      "RMSE for low y_true (<= 100k): 9162.797 | MAE: 3198.276\n",
      "RMSE for high y_true (> 100k): 149056.810 | MAE: 129268.120\n"
     ]
    },
    {
     "name": "stderr",
     "output_type": "stream",
     "text": [
      "[I 2025-03-02 18:11:21,833] Trial 29 finished with value: 21872.168896436004 and parameters: {'n_estimators': 600, 'max_depth': 7, 'learning_rate': 0.08384386735124234, 'min_child_weight': 3, 'subsample': 0.8005072149943173, 'colsample_bytree': 0.8032882674264918, 'reg_alpha': 0.5473638192618513, 'reg_lambda': 2.2745509002846704, 'gamma': 0.49619654003972447}. Best is trial 16 with value: 21859.813298464473.\n"
     ]
    },
    {
     "name": "stdout",
     "output_type": "stream",
     "text": [
      "RMSE Overall:  21872.169 | MAE: 5470.701\n",
      "RMSE for low y_true (<= 100k): 9300.543 | MAE: 3238.756\n",
      "RMSE for high y_true (> 100k): 148589.617 | MAE: 128492.191\n"
     ]
    },
    {
     "name": "stderr",
     "output_type": "stream",
     "text": [
      "[I 2025-03-02 18:11:46,078] Trial 30 finished with value: 21837.696781241513 and parameters: {'n_estimators': 800, 'max_depth': 3, 'learning_rate': 0.05014956038356393, 'min_child_weight': 5, 'subsample': 0.9151164631672968, 'colsample_bytree': 0.6933136371098397, 'reg_alpha': 0.7416196778055544, 'reg_lambda': 6.125025399538723, 'gamma': 0.7719121966811282}. Best is trial 30 with value: 21837.696781241513.\n"
     ]
    },
    {
     "name": "stdout",
     "output_type": "stream",
     "text": [
      "RMSE Overall:  21837.697 | MAE: 5474.491\n",
      "RMSE for low y_true (<= 100k): 9309.531 | MAE: 3250.236\n",
      "RMSE for high y_true (> 100k): 148273.722 | MAE: 128072.111\n"
     ]
    },
    {
     "name": "stderr",
     "output_type": "stream",
     "text": [
      "[I 2025-03-02 18:12:12,303] Trial 31 finished with value: 21848.958728602527 and parameters: {'n_estimators': 800, 'max_depth': 3, 'learning_rate': 0.03376991108567134, 'min_child_weight': 5, 'subsample': 0.7240760515313382, 'colsample_bytree': 0.6626718935404237, 'reg_alpha': 0.7513806298367297, 'reg_lambda': 5.858869402231063, 'gamma': 0.7604768013431561}. Best is trial 30 with value: 21837.696781241513.\n"
     ]
    },
    {
     "name": "stdout",
     "output_type": "stream",
     "text": [
      "RMSE Overall:  21848.959 | MAE: 5484.150\n",
      "RMSE for low y_true (<= 100k): 9323.414 | MAE: 3259.386\n",
      "RMSE for high y_true (> 100k): 148318.740 | MAE: 128109.810\n"
     ]
    },
    {
     "name": "stderr",
     "output_type": "stream",
     "text": [
      "[I 2025-03-02 18:12:39,889] Trial 32 finished with value: 21854.2984329634 and parameters: {'n_estimators': 800, 'max_depth': 3, 'learning_rate': 0.031341442334261886, 'min_child_weight': 5, 'subsample': 0.7252977216831145, 'colsample_bytree': 0.6766400047581759, 'reg_alpha': 0.766871006970713, 'reg_lambda': 6.33145659456738, 'gamma': 0.8538224067957675}. Best is trial 30 with value: 21837.696781241513.\n"
     ]
    },
    {
     "name": "stdout",
     "output_type": "stream",
     "text": [
      "RMSE Overall:  21854.298 | MAE: 5477.005\n",
      "RMSE for low y_true (<= 100k): 9287.281 | MAE: 3247.324\n",
      "RMSE for high y_true (> 100k): 148487.742 | MAE: 128373.640\n"
     ]
    },
    {
     "name": "stderr",
     "output_type": "stream",
     "text": [
      "[I 2025-03-02 18:13:07,893] Trial 33 finished with value: 21835.750209636237 and parameters: {'n_estimators': 800, 'max_depth': 4, 'learning_rate': 0.030232416594797168, 'min_child_weight': 5, 'subsample': 0.9348382433357434, 'colsample_bytree': 0.6783730222530824, 'reg_alpha': 0.7620160424974837, 'reg_lambda': 6.173470917476139, 'gamma': 0.8172031120662108}. Best is trial 33 with value: 21835.750209636237.\n"
     ]
    },
    {
     "name": "stdout",
     "output_type": "stream",
     "text": [
      "RMSE Overall:  21835.750 | MAE: 5453.946\n",
      "RMSE for low y_true (<= 100k): 9248.083 | MAE: 3224.448\n",
      "RMSE for high y_true (> 100k): 148469.456 | MAE: 128340.562\n"
     ]
    },
    {
     "name": "stderr",
     "output_type": "stream",
     "text": [
      "[I 2025-03-02 18:13:35,321] Trial 34 finished with value: 21833.27461769771 and parameters: {'n_estimators': 800, 'max_depth': 4, 'learning_rate': 0.030891804250286765, 'min_child_weight': 5, 'subsample': 0.9432993103831395, 'colsample_bytree': 0.6808937148959778, 'reg_alpha': 0.9409491829357446, 'reg_lambda': 6.2499627510090665, 'gamma': 0.8376028736074165}. Best is trial 34 with value: 21833.27461769771.\n"
     ]
    },
    {
     "name": "stdout",
     "output_type": "stream",
     "text": [
      "RMSE Overall:  21833.275 | MAE: 5450.320\n",
      "RMSE for low y_true (<= 100k): 9232.365 | MAE: 3219.282\n",
      "RMSE for high y_true (> 100k): 148502.941 | MAE: 128421.808\n",
      "Best trial: {'n_estimators': 800, 'max_depth': 4, 'learning_rate': 0.030891804250286765, 'min_child_weight': 5, 'subsample': 0.9432993103831395, 'colsample_bytree': 0.6808937148959778, 'reg_alpha': 0.9409491829357446, 'reg_lambda': 6.2499627510090665, 'gamma': 0.8376028736074165}\n"
     ]
    }
   ],
   "source": [
    "study = optuna.create_study(direction=\"minimize\")\n",
    "study.optimize(objective, n_trials=35)\n",
    "\n",
    "# Print the best result\n",
    "print(f\"Best trial: {study.best_trial.params}\")\n"
   ]
  },
  {
   "cell_type": "code",
   "execution_count": 21,
   "metadata": {},
   "outputs": [
    {
     "data": {
      "application/vnd.plotly.v1+json": {
       "config": {
        "plotlyServerURL": "https://plot.ly"
       },
       "data": [
        {
         "mode": "markers",
         "name": "Objective Value",
         "type": "scatter",
         "x": [
          0,
          1,
          2,
          3,
          4,
          5,
          6,
          7,
          8,
          9,
          10,
          11,
          12,
          13,
          14,
          15,
          16,
          17,
          18,
          19,
          20,
          21,
          22,
          23,
          24,
          25,
          26,
          27,
          28,
          29,
          30,
          31,
          32,
          33,
          34
         ],
         "y": [
          22068.84161051241,
          21967.684197337636,
          22043.37413065177,
          22037.794148419125,
          22297.936278959987,
          22137.13257330044,
          21982.276506782106,
          21982.990133687297,
          21969.159039996608,
          21998.52569491219,
          21872.584315956265,
          21871.778486307026,
          21896.478006252157,
          21872.405150391,
          21935.48794498943,
          21869.44442915948,
          21859.813298464473,
          21876.95462036436,
          21876.363795707137,
          22534.186319630808,
          22659.647212286203,
          21861.103097973762,
          21878.213482379142,
          22064.791356004112,
          21897.884434277836,
          21861.353720601976,
          21920.478341864284,
          21912.550111645523,
          21871.711771516788,
          21872.168896436004,
          21837.696781241513,
          21848.958728602527,
          21854.2984329634,
          21835.750209636237,
          21833.27461769771
         ]
        },
        {
         "mode": "lines",
         "name": "Best Value",
         "type": "scatter",
         "x": [
          0,
          1,
          2,
          3,
          4,
          5,
          6,
          7,
          8,
          9,
          10,
          11,
          12,
          13,
          14,
          15,
          16,
          17,
          18,
          19,
          20,
          21,
          22,
          23,
          24,
          25,
          26,
          27,
          28,
          29,
          30,
          31,
          32,
          33,
          34
         ],
         "y": [
          22068.84161051241,
          21967.684197337636,
          21967.684197337636,
          21967.684197337636,
          21967.684197337636,
          21967.684197337636,
          21967.684197337636,
          21967.684197337636,
          21967.684197337636,
          21967.684197337636,
          21872.584315956265,
          21871.778486307026,
          21871.778486307026,
          21871.778486307026,
          21871.778486307026,
          21869.44442915948,
          21859.813298464473,
          21859.813298464473,
          21859.813298464473,
          21859.813298464473,
          21859.813298464473,
          21859.813298464473,
          21859.813298464473,
          21859.813298464473,
          21859.813298464473,
          21859.813298464473,
          21859.813298464473,
          21859.813298464473,
          21859.813298464473,
          21859.813298464473,
          21837.696781241513,
          21837.696781241513,
          21837.696781241513,
          21835.750209636237,
          21833.27461769771
         ]
        },
        {
         "marker": {
          "color": "#cccccc"
         },
         "mode": "markers",
         "name": "Infeasible Trial",
         "showlegend": false,
         "type": "scatter",
         "x": [],
         "y": []
        }
       ],
       "layout": {
        "template": {
         "data": {
          "bar": [
           {
            "error_x": {
             "color": "#2a3f5f"
            },
            "error_y": {
             "color": "#2a3f5f"
            },
            "marker": {
             "line": {
              "color": "#E5ECF6",
              "width": 0.5
             },
             "pattern": {
              "fillmode": "overlay",
              "size": 10,
              "solidity": 0.2
             }
            },
            "type": "bar"
           }
          ],
          "barpolar": [
           {
            "marker": {
             "line": {
              "color": "#E5ECF6",
              "width": 0.5
             },
             "pattern": {
              "fillmode": "overlay",
              "size": 10,
              "solidity": 0.2
             }
            },
            "type": "barpolar"
           }
          ],
          "carpet": [
           {
            "aaxis": {
             "endlinecolor": "#2a3f5f",
             "gridcolor": "white",
             "linecolor": "white",
             "minorgridcolor": "white",
             "startlinecolor": "#2a3f5f"
            },
            "baxis": {
             "endlinecolor": "#2a3f5f",
             "gridcolor": "white",
             "linecolor": "white",
             "minorgridcolor": "white",
             "startlinecolor": "#2a3f5f"
            },
            "type": "carpet"
           }
          ],
          "choropleth": [
           {
            "colorbar": {
             "outlinewidth": 0,
             "ticks": ""
            },
            "type": "choropleth"
           }
          ],
          "contour": [
           {
            "colorbar": {
             "outlinewidth": 0,
             "ticks": ""
            },
            "colorscale": [
             [
              0,
              "#0d0887"
             ],
             [
              0.1111111111111111,
              "#46039f"
             ],
             [
              0.2222222222222222,
              "#7201a8"
             ],
             [
              0.3333333333333333,
              "#9c179e"
             ],
             [
              0.4444444444444444,
              "#bd3786"
             ],
             [
              0.5555555555555556,
              "#d8576b"
             ],
             [
              0.6666666666666666,
              "#ed7953"
             ],
             [
              0.7777777777777778,
              "#fb9f3a"
             ],
             [
              0.8888888888888888,
              "#fdca26"
             ],
             [
              1,
              "#f0f921"
             ]
            ],
            "type": "contour"
           }
          ],
          "contourcarpet": [
           {
            "colorbar": {
             "outlinewidth": 0,
             "ticks": ""
            },
            "type": "contourcarpet"
           }
          ],
          "heatmap": [
           {
            "colorbar": {
             "outlinewidth": 0,
             "ticks": ""
            },
            "colorscale": [
             [
              0,
              "#0d0887"
             ],
             [
              0.1111111111111111,
              "#46039f"
             ],
             [
              0.2222222222222222,
              "#7201a8"
             ],
             [
              0.3333333333333333,
              "#9c179e"
             ],
             [
              0.4444444444444444,
              "#bd3786"
             ],
             [
              0.5555555555555556,
              "#d8576b"
             ],
             [
              0.6666666666666666,
              "#ed7953"
             ],
             [
              0.7777777777777778,
              "#fb9f3a"
             ],
             [
              0.8888888888888888,
              "#fdca26"
             ],
             [
              1,
              "#f0f921"
             ]
            ],
            "type": "heatmap"
           }
          ],
          "histogram": [
           {
            "marker": {
             "pattern": {
              "fillmode": "overlay",
              "size": 10,
              "solidity": 0.2
             }
            },
            "type": "histogram"
           }
          ],
          "histogram2d": [
           {
            "colorbar": {
             "outlinewidth": 0,
             "ticks": ""
            },
            "colorscale": [
             [
              0,
              "#0d0887"
             ],
             [
              0.1111111111111111,
              "#46039f"
             ],
             [
              0.2222222222222222,
              "#7201a8"
             ],
             [
              0.3333333333333333,
              "#9c179e"
             ],
             [
              0.4444444444444444,
              "#bd3786"
             ],
             [
              0.5555555555555556,
              "#d8576b"
             ],
             [
              0.6666666666666666,
              "#ed7953"
             ],
             [
              0.7777777777777778,
              "#fb9f3a"
             ],
             [
              0.8888888888888888,
              "#fdca26"
             ],
             [
              1,
              "#f0f921"
             ]
            ],
            "type": "histogram2d"
           }
          ],
          "histogram2dcontour": [
           {
            "colorbar": {
             "outlinewidth": 0,
             "ticks": ""
            },
            "colorscale": [
             [
              0,
              "#0d0887"
             ],
             [
              0.1111111111111111,
              "#46039f"
             ],
             [
              0.2222222222222222,
              "#7201a8"
             ],
             [
              0.3333333333333333,
              "#9c179e"
             ],
             [
              0.4444444444444444,
              "#bd3786"
             ],
             [
              0.5555555555555556,
              "#d8576b"
             ],
             [
              0.6666666666666666,
              "#ed7953"
             ],
             [
              0.7777777777777778,
              "#fb9f3a"
             ],
             [
              0.8888888888888888,
              "#fdca26"
             ],
             [
              1,
              "#f0f921"
             ]
            ],
            "type": "histogram2dcontour"
           }
          ],
          "mesh3d": [
           {
            "colorbar": {
             "outlinewidth": 0,
             "ticks": ""
            },
            "type": "mesh3d"
           }
          ],
          "parcoords": [
           {
            "line": {
             "colorbar": {
              "outlinewidth": 0,
              "ticks": ""
             }
            },
            "type": "parcoords"
           }
          ],
          "pie": [
           {
            "automargin": true,
            "type": "pie"
           }
          ],
          "scatter": [
           {
            "fillpattern": {
             "fillmode": "overlay",
             "size": 10,
             "solidity": 0.2
            },
            "type": "scatter"
           }
          ],
          "scatter3d": [
           {
            "line": {
             "colorbar": {
              "outlinewidth": 0,
              "ticks": ""
             }
            },
            "marker": {
             "colorbar": {
              "outlinewidth": 0,
              "ticks": ""
             }
            },
            "type": "scatter3d"
           }
          ],
          "scattercarpet": [
           {
            "marker": {
             "colorbar": {
              "outlinewidth": 0,
              "ticks": ""
             }
            },
            "type": "scattercarpet"
           }
          ],
          "scattergeo": [
           {
            "marker": {
             "colorbar": {
              "outlinewidth": 0,
              "ticks": ""
             }
            },
            "type": "scattergeo"
           }
          ],
          "scattergl": [
           {
            "marker": {
             "colorbar": {
              "outlinewidth": 0,
              "ticks": ""
             }
            },
            "type": "scattergl"
           }
          ],
          "scattermap": [
           {
            "marker": {
             "colorbar": {
              "outlinewidth": 0,
              "ticks": ""
             }
            },
            "type": "scattermap"
           }
          ],
          "scattermapbox": [
           {
            "marker": {
             "colorbar": {
              "outlinewidth": 0,
              "ticks": ""
             }
            },
            "type": "scattermapbox"
           }
          ],
          "scatterpolar": [
           {
            "marker": {
             "colorbar": {
              "outlinewidth": 0,
              "ticks": ""
             }
            },
            "type": "scatterpolar"
           }
          ],
          "scatterpolargl": [
           {
            "marker": {
             "colorbar": {
              "outlinewidth": 0,
              "ticks": ""
             }
            },
            "type": "scatterpolargl"
           }
          ],
          "scatterternary": [
           {
            "marker": {
             "colorbar": {
              "outlinewidth": 0,
              "ticks": ""
             }
            },
            "type": "scatterternary"
           }
          ],
          "surface": [
           {
            "colorbar": {
             "outlinewidth": 0,
             "ticks": ""
            },
            "colorscale": [
             [
              0,
              "#0d0887"
             ],
             [
              0.1111111111111111,
              "#46039f"
             ],
             [
              0.2222222222222222,
              "#7201a8"
             ],
             [
              0.3333333333333333,
              "#9c179e"
             ],
             [
              0.4444444444444444,
              "#bd3786"
             ],
             [
              0.5555555555555556,
              "#d8576b"
             ],
             [
              0.6666666666666666,
              "#ed7953"
             ],
             [
              0.7777777777777778,
              "#fb9f3a"
             ],
             [
              0.8888888888888888,
              "#fdca26"
             ],
             [
              1,
              "#f0f921"
             ]
            ],
            "type": "surface"
           }
          ],
          "table": [
           {
            "cells": {
             "fill": {
              "color": "#EBF0F8"
             },
             "line": {
              "color": "white"
             }
            },
            "header": {
             "fill": {
              "color": "#C8D4E3"
             },
             "line": {
              "color": "white"
             }
            },
            "type": "table"
           }
          ]
         },
         "layout": {
          "annotationdefaults": {
           "arrowcolor": "#2a3f5f",
           "arrowhead": 0,
           "arrowwidth": 1
          },
          "autotypenumbers": "strict",
          "coloraxis": {
           "colorbar": {
            "outlinewidth": 0,
            "ticks": ""
           }
          },
          "colorscale": {
           "diverging": [
            [
             0,
             "#8e0152"
            ],
            [
             0.1,
             "#c51b7d"
            ],
            [
             0.2,
             "#de77ae"
            ],
            [
             0.3,
             "#f1b6da"
            ],
            [
             0.4,
             "#fde0ef"
            ],
            [
             0.5,
             "#f7f7f7"
            ],
            [
             0.6,
             "#e6f5d0"
            ],
            [
             0.7,
             "#b8e186"
            ],
            [
             0.8,
             "#7fbc41"
            ],
            [
             0.9,
             "#4d9221"
            ],
            [
             1,
             "#276419"
            ]
           ],
           "sequential": [
            [
             0,
             "#0d0887"
            ],
            [
             0.1111111111111111,
             "#46039f"
            ],
            [
             0.2222222222222222,
             "#7201a8"
            ],
            [
             0.3333333333333333,
             "#9c179e"
            ],
            [
             0.4444444444444444,
             "#bd3786"
            ],
            [
             0.5555555555555556,
             "#d8576b"
            ],
            [
             0.6666666666666666,
             "#ed7953"
            ],
            [
             0.7777777777777778,
             "#fb9f3a"
            ],
            [
             0.8888888888888888,
             "#fdca26"
            ],
            [
             1,
             "#f0f921"
            ]
           ],
           "sequentialminus": [
            [
             0,
             "#0d0887"
            ],
            [
             0.1111111111111111,
             "#46039f"
            ],
            [
             0.2222222222222222,
             "#7201a8"
            ],
            [
             0.3333333333333333,
             "#9c179e"
            ],
            [
             0.4444444444444444,
             "#bd3786"
            ],
            [
             0.5555555555555556,
             "#d8576b"
            ],
            [
             0.6666666666666666,
             "#ed7953"
            ],
            [
             0.7777777777777778,
             "#fb9f3a"
            ],
            [
             0.8888888888888888,
             "#fdca26"
            ],
            [
             1,
             "#f0f921"
            ]
           ]
          },
          "colorway": [
           "#636efa",
           "#EF553B",
           "#00cc96",
           "#ab63fa",
           "#FFA15A",
           "#19d3f3",
           "#FF6692",
           "#B6E880",
           "#FF97FF",
           "#FECB52"
          ],
          "font": {
           "color": "#2a3f5f"
          },
          "geo": {
           "bgcolor": "white",
           "lakecolor": "white",
           "landcolor": "#E5ECF6",
           "showlakes": true,
           "showland": true,
           "subunitcolor": "white"
          },
          "hoverlabel": {
           "align": "left"
          },
          "hovermode": "closest",
          "mapbox": {
           "style": "light"
          },
          "paper_bgcolor": "white",
          "plot_bgcolor": "#E5ECF6",
          "polar": {
           "angularaxis": {
            "gridcolor": "white",
            "linecolor": "white",
            "ticks": ""
           },
           "bgcolor": "#E5ECF6",
           "radialaxis": {
            "gridcolor": "white",
            "linecolor": "white",
            "ticks": ""
           }
          },
          "scene": {
           "xaxis": {
            "backgroundcolor": "#E5ECF6",
            "gridcolor": "white",
            "gridwidth": 2,
            "linecolor": "white",
            "showbackground": true,
            "ticks": "",
            "zerolinecolor": "white"
           },
           "yaxis": {
            "backgroundcolor": "#E5ECF6",
            "gridcolor": "white",
            "gridwidth": 2,
            "linecolor": "white",
            "showbackground": true,
            "ticks": "",
            "zerolinecolor": "white"
           },
           "zaxis": {
            "backgroundcolor": "#E5ECF6",
            "gridcolor": "white",
            "gridwidth": 2,
            "linecolor": "white",
            "showbackground": true,
            "ticks": "",
            "zerolinecolor": "white"
           }
          },
          "shapedefaults": {
           "line": {
            "color": "#2a3f5f"
           }
          },
          "ternary": {
           "aaxis": {
            "gridcolor": "white",
            "linecolor": "white",
            "ticks": ""
           },
           "baxis": {
            "gridcolor": "white",
            "linecolor": "white",
            "ticks": ""
           },
           "bgcolor": "#E5ECF6",
           "caxis": {
            "gridcolor": "white",
            "linecolor": "white",
            "ticks": ""
           }
          },
          "title": {
           "x": 0.05
          },
          "xaxis": {
           "automargin": true,
           "gridcolor": "white",
           "linecolor": "white",
           "ticks": "",
           "title": {
            "standoff": 15
           },
           "zerolinecolor": "white",
           "zerolinewidth": 2
          },
          "yaxis": {
           "automargin": true,
           "gridcolor": "white",
           "linecolor": "white",
           "ticks": "",
           "title": {
            "standoff": 15
           },
           "zerolinecolor": "white",
           "zerolinewidth": 2
          }
         }
        },
        "title": {
         "text": "Optimization History Plot"
        },
        "xaxis": {
         "title": {
          "text": "Trial"
         }
        },
        "yaxis": {
         "title": {
          "text": "Objective Value"
         }
        }
       }
      }
     },
     "metadata": {},
     "output_type": "display_data"
    }
   ],
   "source": [
    "import optuna.visualization as vis\n",
    "\n",
    "fig = vis.plot_optimization_history(study)\n",
    "fig.show()\n"
   ]
  },
  {
   "cell_type": "code",
   "execution_count": 22,
   "metadata": {},
   "outputs": [
    {
     "data": {
      "application/vnd.plotly.v1+json": {
       "config": {
        "plotlyServerURL": "https://plot.ly"
       },
       "data": [
        {
         "cliponaxis": false,
         "hovertemplate": [
          "colsample_bytree (FloatDistribution): 0.004838025556171106<extra></extra>",
          "min_child_weight (IntDistribution): 0.006059268311797907<extra></extra>",
          "reg_alpha (FloatDistribution): 0.0072007675003340965<extra></extra>",
          "n_estimators (IntDistribution): 0.015540297043440546<extra></extra>",
          "max_depth (IntDistribution): 0.0331969585657296<extra></extra>",
          "learning_rate (FloatDistribution): 0.14313127125905764<extra></extra>",
          "reg_lambda (FloatDistribution): 0.18794655941876434<extra></extra>",
          "gamma (FloatDistribution): 0.29084977519290856<extra></extra>",
          "subsample (FloatDistribution): 0.3112370771517961<extra></extra>"
         ],
         "name": "Objective Value",
         "orientation": "h",
         "text": [
          "<0.01",
          "<0.01",
          "<0.01",
          "0.02",
          "0.03",
          "0.14",
          "0.19",
          "0.29",
          "0.31"
         ],
         "textposition": "outside",
         "type": "bar",
         "x": [
          0.004838025556171106,
          0.006059268311797907,
          0.0072007675003340965,
          0.015540297043440546,
          0.0331969585657296,
          0.14313127125905764,
          0.18794655941876434,
          0.29084977519290856,
          0.3112370771517961
         ],
         "y": [
          "colsample_bytree",
          "min_child_weight",
          "reg_alpha",
          "n_estimators",
          "max_depth",
          "learning_rate",
          "reg_lambda",
          "gamma",
          "subsample"
         ]
        }
       ],
       "layout": {
        "template": {
         "data": {
          "bar": [
           {
            "error_x": {
             "color": "#2a3f5f"
            },
            "error_y": {
             "color": "#2a3f5f"
            },
            "marker": {
             "line": {
              "color": "#E5ECF6",
              "width": 0.5
             },
             "pattern": {
              "fillmode": "overlay",
              "size": 10,
              "solidity": 0.2
             }
            },
            "type": "bar"
           }
          ],
          "barpolar": [
           {
            "marker": {
             "line": {
              "color": "#E5ECF6",
              "width": 0.5
             },
             "pattern": {
              "fillmode": "overlay",
              "size": 10,
              "solidity": 0.2
             }
            },
            "type": "barpolar"
           }
          ],
          "carpet": [
           {
            "aaxis": {
             "endlinecolor": "#2a3f5f",
             "gridcolor": "white",
             "linecolor": "white",
             "minorgridcolor": "white",
             "startlinecolor": "#2a3f5f"
            },
            "baxis": {
             "endlinecolor": "#2a3f5f",
             "gridcolor": "white",
             "linecolor": "white",
             "minorgridcolor": "white",
             "startlinecolor": "#2a3f5f"
            },
            "type": "carpet"
           }
          ],
          "choropleth": [
           {
            "colorbar": {
             "outlinewidth": 0,
             "ticks": ""
            },
            "type": "choropleth"
           }
          ],
          "contour": [
           {
            "colorbar": {
             "outlinewidth": 0,
             "ticks": ""
            },
            "colorscale": [
             [
              0,
              "#0d0887"
             ],
             [
              0.1111111111111111,
              "#46039f"
             ],
             [
              0.2222222222222222,
              "#7201a8"
             ],
             [
              0.3333333333333333,
              "#9c179e"
             ],
             [
              0.4444444444444444,
              "#bd3786"
             ],
             [
              0.5555555555555556,
              "#d8576b"
             ],
             [
              0.6666666666666666,
              "#ed7953"
             ],
             [
              0.7777777777777778,
              "#fb9f3a"
             ],
             [
              0.8888888888888888,
              "#fdca26"
             ],
             [
              1,
              "#f0f921"
             ]
            ],
            "type": "contour"
           }
          ],
          "contourcarpet": [
           {
            "colorbar": {
             "outlinewidth": 0,
             "ticks": ""
            },
            "type": "contourcarpet"
           }
          ],
          "heatmap": [
           {
            "colorbar": {
             "outlinewidth": 0,
             "ticks": ""
            },
            "colorscale": [
             [
              0,
              "#0d0887"
             ],
             [
              0.1111111111111111,
              "#46039f"
             ],
             [
              0.2222222222222222,
              "#7201a8"
             ],
             [
              0.3333333333333333,
              "#9c179e"
             ],
             [
              0.4444444444444444,
              "#bd3786"
             ],
             [
              0.5555555555555556,
              "#d8576b"
             ],
             [
              0.6666666666666666,
              "#ed7953"
             ],
             [
              0.7777777777777778,
              "#fb9f3a"
             ],
             [
              0.8888888888888888,
              "#fdca26"
             ],
             [
              1,
              "#f0f921"
             ]
            ],
            "type": "heatmap"
           }
          ],
          "histogram": [
           {
            "marker": {
             "pattern": {
              "fillmode": "overlay",
              "size": 10,
              "solidity": 0.2
             }
            },
            "type": "histogram"
           }
          ],
          "histogram2d": [
           {
            "colorbar": {
             "outlinewidth": 0,
             "ticks": ""
            },
            "colorscale": [
             [
              0,
              "#0d0887"
             ],
             [
              0.1111111111111111,
              "#46039f"
             ],
             [
              0.2222222222222222,
              "#7201a8"
             ],
             [
              0.3333333333333333,
              "#9c179e"
             ],
             [
              0.4444444444444444,
              "#bd3786"
             ],
             [
              0.5555555555555556,
              "#d8576b"
             ],
             [
              0.6666666666666666,
              "#ed7953"
             ],
             [
              0.7777777777777778,
              "#fb9f3a"
             ],
             [
              0.8888888888888888,
              "#fdca26"
             ],
             [
              1,
              "#f0f921"
             ]
            ],
            "type": "histogram2d"
           }
          ],
          "histogram2dcontour": [
           {
            "colorbar": {
             "outlinewidth": 0,
             "ticks": ""
            },
            "colorscale": [
             [
              0,
              "#0d0887"
             ],
             [
              0.1111111111111111,
              "#46039f"
             ],
             [
              0.2222222222222222,
              "#7201a8"
             ],
             [
              0.3333333333333333,
              "#9c179e"
             ],
             [
              0.4444444444444444,
              "#bd3786"
             ],
             [
              0.5555555555555556,
              "#d8576b"
             ],
             [
              0.6666666666666666,
              "#ed7953"
             ],
             [
              0.7777777777777778,
              "#fb9f3a"
             ],
             [
              0.8888888888888888,
              "#fdca26"
             ],
             [
              1,
              "#f0f921"
             ]
            ],
            "type": "histogram2dcontour"
           }
          ],
          "mesh3d": [
           {
            "colorbar": {
             "outlinewidth": 0,
             "ticks": ""
            },
            "type": "mesh3d"
           }
          ],
          "parcoords": [
           {
            "line": {
             "colorbar": {
              "outlinewidth": 0,
              "ticks": ""
             }
            },
            "type": "parcoords"
           }
          ],
          "pie": [
           {
            "automargin": true,
            "type": "pie"
           }
          ],
          "scatter": [
           {
            "fillpattern": {
             "fillmode": "overlay",
             "size": 10,
             "solidity": 0.2
            },
            "type": "scatter"
           }
          ],
          "scatter3d": [
           {
            "line": {
             "colorbar": {
              "outlinewidth": 0,
              "ticks": ""
             }
            },
            "marker": {
             "colorbar": {
              "outlinewidth": 0,
              "ticks": ""
             }
            },
            "type": "scatter3d"
           }
          ],
          "scattercarpet": [
           {
            "marker": {
             "colorbar": {
              "outlinewidth": 0,
              "ticks": ""
             }
            },
            "type": "scattercarpet"
           }
          ],
          "scattergeo": [
           {
            "marker": {
             "colorbar": {
              "outlinewidth": 0,
              "ticks": ""
             }
            },
            "type": "scattergeo"
           }
          ],
          "scattergl": [
           {
            "marker": {
             "colorbar": {
              "outlinewidth": 0,
              "ticks": ""
             }
            },
            "type": "scattergl"
           }
          ],
          "scattermap": [
           {
            "marker": {
             "colorbar": {
              "outlinewidth": 0,
              "ticks": ""
             }
            },
            "type": "scattermap"
           }
          ],
          "scattermapbox": [
           {
            "marker": {
             "colorbar": {
              "outlinewidth": 0,
              "ticks": ""
             }
            },
            "type": "scattermapbox"
           }
          ],
          "scatterpolar": [
           {
            "marker": {
             "colorbar": {
              "outlinewidth": 0,
              "ticks": ""
             }
            },
            "type": "scatterpolar"
           }
          ],
          "scatterpolargl": [
           {
            "marker": {
             "colorbar": {
              "outlinewidth": 0,
              "ticks": ""
             }
            },
            "type": "scatterpolargl"
           }
          ],
          "scatterternary": [
           {
            "marker": {
             "colorbar": {
              "outlinewidth": 0,
              "ticks": ""
             }
            },
            "type": "scatterternary"
           }
          ],
          "surface": [
           {
            "colorbar": {
             "outlinewidth": 0,
             "ticks": ""
            },
            "colorscale": [
             [
              0,
              "#0d0887"
             ],
             [
              0.1111111111111111,
              "#46039f"
             ],
             [
              0.2222222222222222,
              "#7201a8"
             ],
             [
              0.3333333333333333,
              "#9c179e"
             ],
             [
              0.4444444444444444,
              "#bd3786"
             ],
             [
              0.5555555555555556,
              "#d8576b"
             ],
             [
              0.6666666666666666,
              "#ed7953"
             ],
             [
              0.7777777777777778,
              "#fb9f3a"
             ],
             [
              0.8888888888888888,
              "#fdca26"
             ],
             [
              1,
              "#f0f921"
             ]
            ],
            "type": "surface"
           }
          ],
          "table": [
           {
            "cells": {
             "fill": {
              "color": "#EBF0F8"
             },
             "line": {
              "color": "white"
             }
            },
            "header": {
             "fill": {
              "color": "#C8D4E3"
             },
             "line": {
              "color": "white"
             }
            },
            "type": "table"
           }
          ]
         },
         "layout": {
          "annotationdefaults": {
           "arrowcolor": "#2a3f5f",
           "arrowhead": 0,
           "arrowwidth": 1
          },
          "autotypenumbers": "strict",
          "coloraxis": {
           "colorbar": {
            "outlinewidth": 0,
            "ticks": ""
           }
          },
          "colorscale": {
           "diverging": [
            [
             0,
             "#8e0152"
            ],
            [
             0.1,
             "#c51b7d"
            ],
            [
             0.2,
             "#de77ae"
            ],
            [
             0.3,
             "#f1b6da"
            ],
            [
             0.4,
             "#fde0ef"
            ],
            [
             0.5,
             "#f7f7f7"
            ],
            [
             0.6,
             "#e6f5d0"
            ],
            [
             0.7,
             "#b8e186"
            ],
            [
             0.8,
             "#7fbc41"
            ],
            [
             0.9,
             "#4d9221"
            ],
            [
             1,
             "#276419"
            ]
           ],
           "sequential": [
            [
             0,
             "#0d0887"
            ],
            [
             0.1111111111111111,
             "#46039f"
            ],
            [
             0.2222222222222222,
             "#7201a8"
            ],
            [
             0.3333333333333333,
             "#9c179e"
            ],
            [
             0.4444444444444444,
             "#bd3786"
            ],
            [
             0.5555555555555556,
             "#d8576b"
            ],
            [
             0.6666666666666666,
             "#ed7953"
            ],
            [
             0.7777777777777778,
             "#fb9f3a"
            ],
            [
             0.8888888888888888,
             "#fdca26"
            ],
            [
             1,
             "#f0f921"
            ]
           ],
           "sequentialminus": [
            [
             0,
             "#0d0887"
            ],
            [
             0.1111111111111111,
             "#46039f"
            ],
            [
             0.2222222222222222,
             "#7201a8"
            ],
            [
             0.3333333333333333,
             "#9c179e"
            ],
            [
             0.4444444444444444,
             "#bd3786"
            ],
            [
             0.5555555555555556,
             "#d8576b"
            ],
            [
             0.6666666666666666,
             "#ed7953"
            ],
            [
             0.7777777777777778,
             "#fb9f3a"
            ],
            [
             0.8888888888888888,
             "#fdca26"
            ],
            [
             1,
             "#f0f921"
            ]
           ]
          },
          "colorway": [
           "#636efa",
           "#EF553B",
           "#00cc96",
           "#ab63fa",
           "#FFA15A",
           "#19d3f3",
           "#FF6692",
           "#B6E880",
           "#FF97FF",
           "#FECB52"
          ],
          "font": {
           "color": "#2a3f5f"
          },
          "geo": {
           "bgcolor": "white",
           "lakecolor": "white",
           "landcolor": "#E5ECF6",
           "showlakes": true,
           "showland": true,
           "subunitcolor": "white"
          },
          "hoverlabel": {
           "align": "left"
          },
          "hovermode": "closest",
          "mapbox": {
           "style": "light"
          },
          "paper_bgcolor": "white",
          "plot_bgcolor": "#E5ECF6",
          "polar": {
           "angularaxis": {
            "gridcolor": "white",
            "linecolor": "white",
            "ticks": ""
           },
           "bgcolor": "#E5ECF6",
           "radialaxis": {
            "gridcolor": "white",
            "linecolor": "white",
            "ticks": ""
           }
          },
          "scene": {
           "xaxis": {
            "backgroundcolor": "#E5ECF6",
            "gridcolor": "white",
            "gridwidth": 2,
            "linecolor": "white",
            "showbackground": true,
            "ticks": "",
            "zerolinecolor": "white"
           },
           "yaxis": {
            "backgroundcolor": "#E5ECF6",
            "gridcolor": "white",
            "gridwidth": 2,
            "linecolor": "white",
            "showbackground": true,
            "ticks": "",
            "zerolinecolor": "white"
           },
           "zaxis": {
            "backgroundcolor": "#E5ECF6",
            "gridcolor": "white",
            "gridwidth": 2,
            "linecolor": "white",
            "showbackground": true,
            "ticks": "",
            "zerolinecolor": "white"
           }
          },
          "shapedefaults": {
           "line": {
            "color": "#2a3f5f"
           }
          },
          "ternary": {
           "aaxis": {
            "gridcolor": "white",
            "linecolor": "white",
            "ticks": ""
           },
           "baxis": {
            "gridcolor": "white",
            "linecolor": "white",
            "ticks": ""
           },
           "bgcolor": "#E5ECF6",
           "caxis": {
            "gridcolor": "white",
            "linecolor": "white",
            "ticks": ""
           }
          },
          "title": {
           "x": 0.05
          },
          "xaxis": {
           "automargin": true,
           "gridcolor": "white",
           "linecolor": "white",
           "ticks": "",
           "title": {
            "standoff": 15
           },
           "zerolinecolor": "white",
           "zerolinewidth": 2
          },
          "yaxis": {
           "automargin": true,
           "gridcolor": "white",
           "linecolor": "white",
           "ticks": "",
           "title": {
            "standoff": 15
           },
           "zerolinecolor": "white",
           "zerolinewidth": 2
          }
         }
        },
        "title": {
         "text": "Hyperparameter Importances"
        },
        "xaxis": {
         "title": {
          "text": "Hyperparameter Importance"
         }
        },
        "yaxis": {
         "title": {
          "text": "Hyperparameter"
         }
        }
       }
      }
     },
     "metadata": {},
     "output_type": "display_data"
    }
   ],
   "source": [
    "fig = vis.plot_param_importances(study)\n",
    "fig.show()\n"
   ]
  },
  {
   "cell_type": "code",
   "execution_count": 24,
   "metadata": {},
   "outputs": [],
   "source": [
    "best_params = study.best_trial.params\n",
    "\n",
    "\n",
    "regressor_pipeline = Pipeline([\n",
    "    ('preprocessor', preprocessor),\n",
    "    ('linear_model', XGBRegressor(**best_params))\n",
    "])\n",
    "\n",
    "model = TransformedTargetRegressor(\n",
    "    regressor=regressor_pipeline,\n",
    "    transformer=PowerTransformer(method='box-cox', standardize=False)\n",
    ")"
   ]
  },
  {
   "cell_type": "code",
   "execution_count": 25,
   "metadata": {},
   "outputs": [
    {
     "data": {
      "text/html": [
       "<style>#sk-container-id-2 {\n",
       "  /* Definition of color scheme common for light and dark mode */\n",
       "  --sklearn-color-text: #000;\n",
       "  --sklearn-color-text-muted: #666;\n",
       "  --sklearn-color-line: gray;\n",
       "  /* Definition of color scheme for unfitted estimators */\n",
       "  --sklearn-color-unfitted-level-0: #fff5e6;\n",
       "  --sklearn-color-unfitted-level-1: #f6e4d2;\n",
       "  --sklearn-color-unfitted-level-2: #ffe0b3;\n",
       "  --sklearn-color-unfitted-level-3: chocolate;\n",
       "  /* Definition of color scheme for fitted estimators */\n",
       "  --sklearn-color-fitted-level-0: #f0f8ff;\n",
       "  --sklearn-color-fitted-level-1: #d4ebff;\n",
       "  --sklearn-color-fitted-level-2: #b3dbfd;\n",
       "  --sklearn-color-fitted-level-3: cornflowerblue;\n",
       "\n",
       "  /* Specific color for light theme */\n",
       "  --sklearn-color-text-on-default-background: var(--sg-text-color, var(--theme-code-foreground, var(--jp-content-font-color1, black)));\n",
       "  --sklearn-color-background: var(--sg-background-color, var(--theme-background, var(--jp-layout-color0, white)));\n",
       "  --sklearn-color-border-box: var(--sg-text-color, var(--theme-code-foreground, var(--jp-content-font-color1, black)));\n",
       "  --sklearn-color-icon: #696969;\n",
       "\n",
       "  @media (prefers-color-scheme: dark) {\n",
       "    /* Redefinition of color scheme for dark theme */\n",
       "    --sklearn-color-text-on-default-background: var(--sg-text-color, var(--theme-code-foreground, var(--jp-content-font-color1, white)));\n",
       "    --sklearn-color-background: var(--sg-background-color, var(--theme-background, var(--jp-layout-color0, #111)));\n",
       "    --sklearn-color-border-box: var(--sg-text-color, var(--theme-code-foreground, var(--jp-content-font-color1, white)));\n",
       "    --sklearn-color-icon: #878787;\n",
       "  }\n",
       "}\n",
       "\n",
       "#sk-container-id-2 {\n",
       "  color: var(--sklearn-color-text);\n",
       "}\n",
       "\n",
       "#sk-container-id-2 pre {\n",
       "  padding: 0;\n",
       "}\n",
       "\n",
       "#sk-container-id-2 input.sk-hidden--visually {\n",
       "  border: 0;\n",
       "  clip: rect(1px 1px 1px 1px);\n",
       "  clip: rect(1px, 1px, 1px, 1px);\n",
       "  height: 1px;\n",
       "  margin: -1px;\n",
       "  overflow: hidden;\n",
       "  padding: 0;\n",
       "  position: absolute;\n",
       "  width: 1px;\n",
       "}\n",
       "\n",
       "#sk-container-id-2 div.sk-dashed-wrapped {\n",
       "  border: 1px dashed var(--sklearn-color-line);\n",
       "  margin: 0 0.4em 0.5em 0.4em;\n",
       "  box-sizing: border-box;\n",
       "  padding-bottom: 0.4em;\n",
       "  background-color: var(--sklearn-color-background);\n",
       "}\n",
       "\n",
       "#sk-container-id-2 div.sk-container {\n",
       "  /* jupyter's `normalize.less` sets `[hidden] { display: none; }`\n",
       "     but bootstrap.min.css set `[hidden] { display: none !important; }`\n",
       "     so we also need the `!important` here to be able to override the\n",
       "     default hidden behavior on the sphinx rendered scikit-learn.org.\n",
       "     See: https://github.com/scikit-learn/scikit-learn/issues/21755 */\n",
       "  display: inline-block !important;\n",
       "  position: relative;\n",
       "}\n",
       "\n",
       "#sk-container-id-2 div.sk-text-repr-fallback {\n",
       "  display: none;\n",
       "}\n",
       "\n",
       "div.sk-parallel-item,\n",
       "div.sk-serial,\n",
       "div.sk-item {\n",
       "  /* draw centered vertical line to link estimators */\n",
       "  background-image: linear-gradient(var(--sklearn-color-text-on-default-background), var(--sklearn-color-text-on-default-background));\n",
       "  background-size: 2px 100%;\n",
       "  background-repeat: no-repeat;\n",
       "  background-position: center center;\n",
       "}\n",
       "\n",
       "/* Parallel-specific style estimator block */\n",
       "\n",
       "#sk-container-id-2 div.sk-parallel-item::after {\n",
       "  content: \"\";\n",
       "  width: 100%;\n",
       "  border-bottom: 2px solid var(--sklearn-color-text-on-default-background);\n",
       "  flex-grow: 1;\n",
       "}\n",
       "\n",
       "#sk-container-id-2 div.sk-parallel {\n",
       "  display: flex;\n",
       "  align-items: stretch;\n",
       "  justify-content: center;\n",
       "  background-color: var(--sklearn-color-background);\n",
       "  position: relative;\n",
       "}\n",
       "\n",
       "#sk-container-id-2 div.sk-parallel-item {\n",
       "  display: flex;\n",
       "  flex-direction: column;\n",
       "}\n",
       "\n",
       "#sk-container-id-2 div.sk-parallel-item:first-child::after {\n",
       "  align-self: flex-end;\n",
       "  width: 50%;\n",
       "}\n",
       "\n",
       "#sk-container-id-2 div.sk-parallel-item:last-child::after {\n",
       "  align-self: flex-start;\n",
       "  width: 50%;\n",
       "}\n",
       "\n",
       "#sk-container-id-2 div.sk-parallel-item:only-child::after {\n",
       "  width: 0;\n",
       "}\n",
       "\n",
       "/* Serial-specific style estimator block */\n",
       "\n",
       "#sk-container-id-2 div.sk-serial {\n",
       "  display: flex;\n",
       "  flex-direction: column;\n",
       "  align-items: center;\n",
       "  background-color: var(--sklearn-color-background);\n",
       "  padding-right: 1em;\n",
       "  padding-left: 1em;\n",
       "}\n",
       "\n",
       "\n",
       "/* Toggleable style: style used for estimator/Pipeline/ColumnTransformer box that is\n",
       "clickable and can be expanded/collapsed.\n",
       "- Pipeline and ColumnTransformer use this feature and define the default style\n",
       "- Estimators will overwrite some part of the style using the `sk-estimator` class\n",
       "*/\n",
       "\n",
       "/* Pipeline and ColumnTransformer style (default) */\n",
       "\n",
       "#sk-container-id-2 div.sk-toggleable {\n",
       "  /* Default theme specific background. It is overwritten whether we have a\n",
       "  specific estimator or a Pipeline/ColumnTransformer */\n",
       "  background-color: var(--sklearn-color-background);\n",
       "}\n",
       "\n",
       "/* Toggleable label */\n",
       "#sk-container-id-2 label.sk-toggleable__label {\n",
       "  cursor: pointer;\n",
       "  display: flex;\n",
       "  width: 100%;\n",
       "  margin-bottom: 0;\n",
       "  padding: 0.5em;\n",
       "  box-sizing: border-box;\n",
       "  text-align: center;\n",
       "  align-items: start;\n",
       "  justify-content: space-between;\n",
       "  gap: 0.5em;\n",
       "}\n",
       "\n",
       "#sk-container-id-2 label.sk-toggleable__label .caption {\n",
       "  font-size: 0.6rem;\n",
       "  font-weight: lighter;\n",
       "  color: var(--sklearn-color-text-muted);\n",
       "}\n",
       "\n",
       "#sk-container-id-2 label.sk-toggleable__label-arrow:before {\n",
       "  /* Arrow on the left of the label */\n",
       "  content: \"▸\";\n",
       "  float: left;\n",
       "  margin-right: 0.25em;\n",
       "  color: var(--sklearn-color-icon);\n",
       "}\n",
       "\n",
       "#sk-container-id-2 label.sk-toggleable__label-arrow:hover:before {\n",
       "  color: var(--sklearn-color-text);\n",
       "}\n",
       "\n",
       "/* Toggleable content - dropdown */\n",
       "\n",
       "#sk-container-id-2 div.sk-toggleable__content {\n",
       "  max-height: 0;\n",
       "  max-width: 0;\n",
       "  overflow: hidden;\n",
       "  text-align: left;\n",
       "  /* unfitted */\n",
       "  background-color: var(--sklearn-color-unfitted-level-0);\n",
       "}\n",
       "\n",
       "#sk-container-id-2 div.sk-toggleable__content.fitted {\n",
       "  /* fitted */\n",
       "  background-color: var(--sklearn-color-fitted-level-0);\n",
       "}\n",
       "\n",
       "#sk-container-id-2 div.sk-toggleable__content pre {\n",
       "  margin: 0.2em;\n",
       "  border-radius: 0.25em;\n",
       "  color: var(--sklearn-color-text);\n",
       "  /* unfitted */\n",
       "  background-color: var(--sklearn-color-unfitted-level-0);\n",
       "}\n",
       "\n",
       "#sk-container-id-2 div.sk-toggleable__content.fitted pre {\n",
       "  /* unfitted */\n",
       "  background-color: var(--sklearn-color-fitted-level-0);\n",
       "}\n",
       "\n",
       "#sk-container-id-2 input.sk-toggleable__control:checked~div.sk-toggleable__content {\n",
       "  /* Expand drop-down */\n",
       "  max-height: 200px;\n",
       "  max-width: 100%;\n",
       "  overflow: auto;\n",
       "}\n",
       "\n",
       "#sk-container-id-2 input.sk-toggleable__control:checked~label.sk-toggleable__label-arrow:before {\n",
       "  content: \"▾\";\n",
       "}\n",
       "\n",
       "/* Pipeline/ColumnTransformer-specific style */\n",
       "\n",
       "#sk-container-id-2 div.sk-label input.sk-toggleable__control:checked~label.sk-toggleable__label {\n",
       "  color: var(--sklearn-color-text);\n",
       "  background-color: var(--sklearn-color-unfitted-level-2);\n",
       "}\n",
       "\n",
       "#sk-container-id-2 div.sk-label.fitted input.sk-toggleable__control:checked~label.sk-toggleable__label {\n",
       "  background-color: var(--sklearn-color-fitted-level-2);\n",
       "}\n",
       "\n",
       "/* Estimator-specific style */\n",
       "\n",
       "/* Colorize estimator box */\n",
       "#sk-container-id-2 div.sk-estimator input.sk-toggleable__control:checked~label.sk-toggleable__label {\n",
       "  /* unfitted */\n",
       "  background-color: var(--sklearn-color-unfitted-level-2);\n",
       "}\n",
       "\n",
       "#sk-container-id-2 div.sk-estimator.fitted input.sk-toggleable__control:checked~label.sk-toggleable__label {\n",
       "  /* fitted */\n",
       "  background-color: var(--sklearn-color-fitted-level-2);\n",
       "}\n",
       "\n",
       "#sk-container-id-2 div.sk-label label.sk-toggleable__label,\n",
       "#sk-container-id-2 div.sk-label label {\n",
       "  /* The background is the default theme color */\n",
       "  color: var(--sklearn-color-text-on-default-background);\n",
       "}\n",
       "\n",
       "/* On hover, darken the color of the background */\n",
       "#sk-container-id-2 div.sk-label:hover label.sk-toggleable__label {\n",
       "  color: var(--sklearn-color-text);\n",
       "  background-color: var(--sklearn-color-unfitted-level-2);\n",
       "}\n",
       "\n",
       "/* Label box, darken color on hover, fitted */\n",
       "#sk-container-id-2 div.sk-label.fitted:hover label.sk-toggleable__label.fitted {\n",
       "  color: var(--sklearn-color-text);\n",
       "  background-color: var(--sklearn-color-fitted-level-2);\n",
       "}\n",
       "\n",
       "/* Estimator label */\n",
       "\n",
       "#sk-container-id-2 div.sk-label label {\n",
       "  font-family: monospace;\n",
       "  font-weight: bold;\n",
       "  display: inline-block;\n",
       "  line-height: 1.2em;\n",
       "}\n",
       "\n",
       "#sk-container-id-2 div.sk-label-container {\n",
       "  text-align: center;\n",
       "}\n",
       "\n",
       "/* Estimator-specific */\n",
       "#sk-container-id-2 div.sk-estimator {\n",
       "  font-family: monospace;\n",
       "  border: 1px dotted var(--sklearn-color-border-box);\n",
       "  border-radius: 0.25em;\n",
       "  box-sizing: border-box;\n",
       "  margin-bottom: 0.5em;\n",
       "  /* unfitted */\n",
       "  background-color: var(--sklearn-color-unfitted-level-0);\n",
       "}\n",
       "\n",
       "#sk-container-id-2 div.sk-estimator.fitted {\n",
       "  /* fitted */\n",
       "  background-color: var(--sklearn-color-fitted-level-0);\n",
       "}\n",
       "\n",
       "/* on hover */\n",
       "#sk-container-id-2 div.sk-estimator:hover {\n",
       "  /* unfitted */\n",
       "  background-color: var(--sklearn-color-unfitted-level-2);\n",
       "}\n",
       "\n",
       "#sk-container-id-2 div.sk-estimator.fitted:hover {\n",
       "  /* fitted */\n",
       "  background-color: var(--sklearn-color-fitted-level-2);\n",
       "}\n",
       "\n",
       "/* Specification for estimator info (e.g. \"i\" and \"?\") */\n",
       "\n",
       "/* Common style for \"i\" and \"?\" */\n",
       "\n",
       ".sk-estimator-doc-link,\n",
       "a:link.sk-estimator-doc-link,\n",
       "a:visited.sk-estimator-doc-link {\n",
       "  float: right;\n",
       "  font-size: smaller;\n",
       "  line-height: 1em;\n",
       "  font-family: monospace;\n",
       "  background-color: var(--sklearn-color-background);\n",
       "  border-radius: 1em;\n",
       "  height: 1em;\n",
       "  width: 1em;\n",
       "  text-decoration: none !important;\n",
       "  margin-left: 0.5em;\n",
       "  text-align: center;\n",
       "  /* unfitted */\n",
       "  border: var(--sklearn-color-unfitted-level-1) 1pt solid;\n",
       "  color: var(--sklearn-color-unfitted-level-1);\n",
       "}\n",
       "\n",
       ".sk-estimator-doc-link.fitted,\n",
       "a:link.sk-estimator-doc-link.fitted,\n",
       "a:visited.sk-estimator-doc-link.fitted {\n",
       "  /* fitted */\n",
       "  border: var(--sklearn-color-fitted-level-1) 1pt solid;\n",
       "  color: var(--sklearn-color-fitted-level-1);\n",
       "}\n",
       "\n",
       "/* On hover */\n",
       "div.sk-estimator:hover .sk-estimator-doc-link:hover,\n",
       ".sk-estimator-doc-link:hover,\n",
       "div.sk-label-container:hover .sk-estimator-doc-link:hover,\n",
       ".sk-estimator-doc-link:hover {\n",
       "  /* unfitted */\n",
       "  background-color: var(--sklearn-color-unfitted-level-3);\n",
       "  color: var(--sklearn-color-background);\n",
       "  text-decoration: none;\n",
       "}\n",
       "\n",
       "div.sk-estimator.fitted:hover .sk-estimator-doc-link.fitted:hover,\n",
       ".sk-estimator-doc-link.fitted:hover,\n",
       "div.sk-label-container:hover .sk-estimator-doc-link.fitted:hover,\n",
       ".sk-estimator-doc-link.fitted:hover {\n",
       "  /* fitted */\n",
       "  background-color: var(--sklearn-color-fitted-level-3);\n",
       "  color: var(--sklearn-color-background);\n",
       "  text-decoration: none;\n",
       "}\n",
       "\n",
       "/* Span, style for the box shown on hovering the info icon */\n",
       ".sk-estimator-doc-link span {\n",
       "  display: none;\n",
       "  z-index: 9999;\n",
       "  position: relative;\n",
       "  font-weight: normal;\n",
       "  right: .2ex;\n",
       "  padding: .5ex;\n",
       "  margin: .5ex;\n",
       "  width: min-content;\n",
       "  min-width: 20ex;\n",
       "  max-width: 50ex;\n",
       "  color: var(--sklearn-color-text);\n",
       "  box-shadow: 2pt 2pt 4pt #999;\n",
       "  /* unfitted */\n",
       "  background: var(--sklearn-color-unfitted-level-0);\n",
       "  border: .5pt solid var(--sklearn-color-unfitted-level-3);\n",
       "}\n",
       "\n",
       ".sk-estimator-doc-link.fitted span {\n",
       "  /* fitted */\n",
       "  background: var(--sklearn-color-fitted-level-0);\n",
       "  border: var(--sklearn-color-fitted-level-3);\n",
       "}\n",
       "\n",
       ".sk-estimator-doc-link:hover span {\n",
       "  display: block;\n",
       "}\n",
       "\n",
       "/* \"?\"-specific style due to the `<a>` HTML tag */\n",
       "\n",
       "#sk-container-id-2 a.estimator_doc_link {\n",
       "  float: right;\n",
       "  font-size: 1rem;\n",
       "  line-height: 1em;\n",
       "  font-family: monospace;\n",
       "  background-color: var(--sklearn-color-background);\n",
       "  border-radius: 1rem;\n",
       "  height: 1rem;\n",
       "  width: 1rem;\n",
       "  text-decoration: none;\n",
       "  /* unfitted */\n",
       "  color: var(--sklearn-color-unfitted-level-1);\n",
       "  border: var(--sklearn-color-unfitted-level-1) 1pt solid;\n",
       "}\n",
       "\n",
       "#sk-container-id-2 a.estimator_doc_link.fitted {\n",
       "  /* fitted */\n",
       "  border: var(--sklearn-color-fitted-level-1) 1pt solid;\n",
       "  color: var(--sklearn-color-fitted-level-1);\n",
       "}\n",
       "\n",
       "/* On hover */\n",
       "#sk-container-id-2 a.estimator_doc_link:hover {\n",
       "  /* unfitted */\n",
       "  background-color: var(--sklearn-color-unfitted-level-3);\n",
       "  color: var(--sklearn-color-background);\n",
       "  text-decoration: none;\n",
       "}\n",
       "\n",
       "#sk-container-id-2 a.estimator_doc_link.fitted:hover {\n",
       "  /* fitted */\n",
       "  background-color: var(--sklearn-color-fitted-level-3);\n",
       "}\n",
       "</style><div id=\"sk-container-id-2\" class=\"sk-top-container\"><div class=\"sk-text-repr-fallback\"><pre>TransformedTargetRegressor(regressor=Pipeline(steps=[(&#x27;preprocessor&#x27;,\n",
       "                                                      ColumnTransformer(transformers=[(&#x27;log_inc&#x27;,\n",
       "                                                                                       Pipeline(steps=[(&#x27;log&#x27;,\n",
       "                                                                                                        FunctionTransformer(func=&lt;ufunc &#x27;log&#x27;&gt;)),\n",
       "                                                                                                       (&#x27;scaler&#x27;,\n",
       "                                                                                                        StandardScaler())]),\n",
       "                                                                                       [&#x27;InitialIncurredCalimsCost&#x27;,\n",
       "                                                                                        &#x27;WeeklyWages&#x27;]),\n",
       "                                                                                      (&#x27;minmax_scaler&#x27;,\n",
       "                                                                                       MinMaxScaler(),\n",
       "                                                                                       [&#x27;Age&#x27;,\n",
       "                                                                                        &#x27;YearAccident&#x27;]),\n",
       "                                                                                      (&#x27;gender_bool&#x27;,\n",
       "                                                                                       FunctionTransformer(func=&lt;fun...\n",
       "                                                                   learning_rate=0.030891804250286765,\n",
       "                                                                   max_bin=None,\n",
       "                                                                   max_cat_threshold=None,\n",
       "                                                                   max_cat_to_onehot=None,\n",
       "                                                                   max_delta_step=None,\n",
       "                                                                   max_depth=4,\n",
       "                                                                   max_leaves=None,\n",
       "                                                                   min_child_weight=5,\n",
       "                                                                   missing=nan,\n",
       "                                                                   monotone_constraints=None,\n",
       "                                                                   multi_strategy=None,\n",
       "                                                                   n_estimators=800,\n",
       "                                                                   n_jobs=None,\n",
       "                                                                   num_parallel_tree=None,\n",
       "                                                                   random_state=None, ...))]),\n",
       "                           transformer=PowerTransformer(method=&#x27;box-cox&#x27;,\n",
       "                                                        standardize=False))</pre><b>In a Jupyter environment, please rerun this cell to show the HTML representation or trust the notebook. <br />On GitHub, the HTML representation is unable to render, please try loading this page with nbviewer.org.</b></div><div class=\"sk-container\" hidden><div class=\"sk-item sk-dashed-wrapped\"><div class=\"sk-label-container\"><div class=\"sk-label fitted sk-toggleable\"><input class=\"sk-toggleable__control sk-hidden--visually\" id=\"sk-estimator-id-34\" type=\"checkbox\" ><label for=\"sk-estimator-id-34\" class=\"sk-toggleable__label fitted sk-toggleable__label-arrow\"><div><div>TransformedTargetRegressor</div></div><div><a class=\"sk-estimator-doc-link fitted\" rel=\"noreferrer\" target=\"_blank\" href=\"https://scikit-learn.org/1.6/modules/generated/sklearn.compose.TransformedTargetRegressor.html\">?<span>Documentation for TransformedTargetRegressor</span></a><span class=\"sk-estimator-doc-link fitted\">i<span>Fitted</span></span></div></label><div class=\"sk-toggleable__content fitted\"><pre>TransformedTargetRegressor(regressor=Pipeline(steps=[(&#x27;preprocessor&#x27;,\n",
       "                                                      ColumnTransformer(transformers=[(&#x27;log_inc&#x27;,\n",
       "                                                                                       Pipeline(steps=[(&#x27;log&#x27;,\n",
       "                                                                                                        FunctionTransformer(func=&lt;ufunc &#x27;log&#x27;&gt;)),\n",
       "                                                                                                       (&#x27;scaler&#x27;,\n",
       "                                                                                                        StandardScaler())]),\n",
       "                                                                                       [&#x27;InitialIncurredCalimsCost&#x27;,\n",
       "                                                                                        &#x27;WeeklyWages&#x27;]),\n",
       "                                                                                      (&#x27;minmax_scaler&#x27;,\n",
       "                                                                                       MinMaxScaler(),\n",
       "                                                                                       [&#x27;Age&#x27;,\n",
       "                                                                                        &#x27;YearAccident&#x27;]),\n",
       "                                                                                      (&#x27;gender_bool&#x27;,\n",
       "                                                                                       FunctionTransformer(func=&lt;fun...\n",
       "                                                                   learning_rate=0.030891804250286765,\n",
       "                                                                   max_bin=None,\n",
       "                                                                   max_cat_threshold=None,\n",
       "                                                                   max_cat_to_onehot=None,\n",
       "                                                                   max_delta_step=None,\n",
       "                                                                   max_depth=4,\n",
       "                                                                   max_leaves=None,\n",
       "                                                                   min_child_weight=5,\n",
       "                                                                   missing=nan,\n",
       "                                                                   monotone_constraints=None,\n",
       "                                                                   multi_strategy=None,\n",
       "                                                                   n_estimators=800,\n",
       "                                                                   n_jobs=None,\n",
       "                                                                   num_parallel_tree=None,\n",
       "                                                                   random_state=None, ...))]),\n",
       "                           transformer=PowerTransformer(method=&#x27;box-cox&#x27;,\n",
       "                                                        standardize=False))</pre></div> </div></div><div class=\"sk-parallel\"><div class=\"sk-parallel-item\"><div class=\"sk-item\"><div class=\"sk-label-container\"><div class=\"sk-label fitted sk-toggleable\"><input class=\"sk-toggleable__control sk-hidden--visually\" id=\"sk-estimator-id-35\" type=\"checkbox\" ><label for=\"sk-estimator-id-35\" class=\"sk-toggleable__label fitted sk-toggleable__label-arrow\"><div><div>regressor: Pipeline</div></div></label><div class=\"sk-toggleable__content fitted\"><pre>Pipeline(steps=[(&#x27;preprocessor&#x27;,\n",
       "                 ColumnTransformer(transformers=[(&#x27;log_inc&#x27;,\n",
       "                                                  Pipeline(steps=[(&#x27;log&#x27;,\n",
       "                                                                   FunctionTransformer(func=&lt;ufunc &#x27;log&#x27;&gt;)),\n",
       "                                                                  (&#x27;scaler&#x27;,\n",
       "                                                                   StandardScaler())]),\n",
       "                                                  [&#x27;InitialIncurredCalimsCost&#x27;,\n",
       "                                                   &#x27;WeeklyWages&#x27;]),\n",
       "                                                 (&#x27;minmax_scaler&#x27;,\n",
       "                                                  MinMaxScaler(),\n",
       "                                                  [&#x27;Age&#x27;, &#x27;YearAccident&#x27;]),\n",
       "                                                 (&#x27;gender_bool&#x27;,\n",
       "                                                  FunctionTransformer(func=&lt;function gender_to_bool at 0x13b5e5e10&gt;),\n",
       "                                                  [&#x27;...\n",
       "                              grow_policy=None, importance_type=None,\n",
       "                              interaction_constraints=None,\n",
       "                              learning_rate=0.030891804250286765, max_bin=None,\n",
       "                              max_cat_threshold=None, max_cat_to_onehot=None,\n",
       "                              max_delta_step=None, max_depth=4, max_leaves=None,\n",
       "                              min_child_weight=5, missing=nan,\n",
       "                              monotone_constraints=None, multi_strategy=None,\n",
       "                              n_estimators=800, n_jobs=None,\n",
       "                              num_parallel_tree=None, random_state=None, ...))])</pre></div> </div></div><div class=\"sk-serial\"><div class=\"sk-item\"><div class=\"sk-serial\"><div class=\"sk-item sk-dashed-wrapped\"><div class=\"sk-label-container\"><div class=\"sk-label fitted sk-toggleable\"><input class=\"sk-toggleable__control sk-hidden--visually\" id=\"sk-estimator-id-36\" type=\"checkbox\" ><label for=\"sk-estimator-id-36\" class=\"sk-toggleable__label fitted sk-toggleable__label-arrow\"><div><div>preprocessor: ColumnTransformer</div></div><div><a class=\"sk-estimator-doc-link fitted\" rel=\"noreferrer\" target=\"_blank\" href=\"https://scikit-learn.org/1.6/modules/generated/sklearn.compose.ColumnTransformer.html\">?<span>Documentation for preprocessor: ColumnTransformer</span></a></div></label><div class=\"sk-toggleable__content fitted\"><pre>ColumnTransformer(transformers=[(&#x27;log_inc&#x27;,\n",
       "                                 Pipeline(steps=[(&#x27;log&#x27;,\n",
       "                                                  FunctionTransformer(func=&lt;ufunc &#x27;log&#x27;&gt;)),\n",
       "                                                 (&#x27;scaler&#x27;, StandardScaler())]),\n",
       "                                 [&#x27;InitialIncurredCalimsCost&#x27;, &#x27;WeeklyWages&#x27;]),\n",
       "                                (&#x27;minmax_scaler&#x27;, MinMaxScaler(),\n",
       "                                 [&#x27;Age&#x27;, &#x27;YearAccident&#x27;]),\n",
       "                                (&#x27;gender_bool&#x27;,\n",
       "                                 FunctionTransformer(func=&lt;function gender_to_bool at 0x13b5e5e10&gt;),\n",
       "                                 [&#x27;Gender&#x27;]),\n",
       "                                (&#x27;hww_bool_onehot&#x27;,\n",
       "                                 Pip...\n",
       "                                  &#x27;body_feat_9&#x27;, &#x27;body_feat_10&#x27;, &#x27;body_feat_11&#x27;,\n",
       "                                  &#x27;body_feat_12&#x27;, &#x27;body_feat_13&#x27;,\n",
       "                                  &#x27;body_feat_14&#x27;, &#x27;body_feat_15&#x27;,\n",
       "                                  &#x27;body_feat_16&#x27;, &#x27;body_feat_17&#x27;,\n",
       "                                  &#x27;body_feat_18&#x27;, &#x27;body_feat_19&#x27;,\n",
       "                                  &#x27;body_feat_20&#x27;, &#x27;body_feat_21&#x27;,\n",
       "                                  &#x27;body_feat_22&#x27;, &#x27;body_feat_23&#x27;,\n",
       "                                  &#x27;body_feat_24&#x27;, &#x27;body_feat_25&#x27;,\n",
       "                                  &#x27;body_feat_26&#x27;, &#x27;body_feat_27&#x27;,\n",
       "                                  &#x27;body_feat_28&#x27;, &#x27;body_feat_29&#x27;, ...]),\n",
       "                                (&#x27;std_scaler&#x27;, StandardScaler(),\n",
       "                                 [&#x27;event_median_cost&#x27;])])</pre></div> </div></div><div class=\"sk-parallel\"><div class=\"sk-parallel-item\"><div class=\"sk-item\"><div class=\"sk-label-container\"><div class=\"sk-label fitted sk-toggleable\"><input class=\"sk-toggleable__control sk-hidden--visually\" id=\"sk-estimator-id-37\" type=\"checkbox\" ><label for=\"sk-estimator-id-37\" class=\"sk-toggleable__label fitted sk-toggleable__label-arrow\"><div><div>log_inc</div></div></label><div class=\"sk-toggleable__content fitted\"><pre>[&#x27;InitialIncurredCalimsCost&#x27;, &#x27;WeeklyWages&#x27;]</pre></div> </div></div><div class=\"sk-serial\"><div class=\"sk-item\"><div class=\"sk-serial\"><div class=\"sk-item\"><div class=\"sk-estimator fitted sk-toggleable\"><input class=\"sk-toggleable__control sk-hidden--visually\" id=\"sk-estimator-id-38\" type=\"checkbox\" ><label for=\"sk-estimator-id-38\" class=\"sk-toggleable__label fitted sk-toggleable__label-arrow\"><div><div>log</div><div class=\"caption\">FunctionTransformer</div></div><div><a class=\"sk-estimator-doc-link fitted\" rel=\"noreferrer\" target=\"_blank\" href=\"https://scikit-learn.org/1.6/modules/generated/sklearn.preprocessing.FunctionTransformer.html\">?<span>Documentation for FunctionTransformer</span></a></div></label><div class=\"sk-toggleable__content fitted\"><pre>FunctionTransformer(func=&lt;ufunc &#x27;log&#x27;&gt;)</pre></div> </div></div><div class=\"sk-item\"><div class=\"sk-estimator fitted sk-toggleable\"><input class=\"sk-toggleable__control sk-hidden--visually\" id=\"sk-estimator-id-39\" type=\"checkbox\" ><label for=\"sk-estimator-id-39\" class=\"sk-toggleable__label fitted sk-toggleable__label-arrow\"><div><div>StandardScaler</div></div><div><a class=\"sk-estimator-doc-link fitted\" rel=\"noreferrer\" target=\"_blank\" href=\"https://scikit-learn.org/1.6/modules/generated/sklearn.preprocessing.StandardScaler.html\">?<span>Documentation for StandardScaler</span></a></div></label><div class=\"sk-toggleable__content fitted\"><pre>StandardScaler()</pre></div> </div></div></div></div></div></div></div><div class=\"sk-parallel-item\"><div class=\"sk-item\"><div class=\"sk-label-container\"><div class=\"sk-label fitted sk-toggleable\"><input class=\"sk-toggleable__control sk-hidden--visually\" id=\"sk-estimator-id-40\" type=\"checkbox\" ><label for=\"sk-estimator-id-40\" class=\"sk-toggleable__label fitted sk-toggleable__label-arrow\"><div><div>minmax_scaler</div></div></label><div class=\"sk-toggleable__content fitted\"><pre>[&#x27;Age&#x27;, &#x27;YearAccident&#x27;]</pre></div> </div></div><div class=\"sk-serial\"><div class=\"sk-item\"><div class=\"sk-estimator fitted sk-toggleable\"><input class=\"sk-toggleable__control sk-hidden--visually\" id=\"sk-estimator-id-41\" type=\"checkbox\" ><label for=\"sk-estimator-id-41\" class=\"sk-toggleable__label fitted sk-toggleable__label-arrow\"><div><div>MinMaxScaler</div></div><div><a class=\"sk-estimator-doc-link fitted\" rel=\"noreferrer\" target=\"_blank\" href=\"https://scikit-learn.org/1.6/modules/generated/sklearn.preprocessing.MinMaxScaler.html\">?<span>Documentation for MinMaxScaler</span></a></div></label><div class=\"sk-toggleable__content fitted\"><pre>MinMaxScaler()</pre></div> </div></div></div></div></div><div class=\"sk-parallel-item\"><div class=\"sk-item\"><div class=\"sk-label-container\"><div class=\"sk-label fitted sk-toggleable\"><input class=\"sk-toggleable__control sk-hidden--visually\" id=\"sk-estimator-id-42\" type=\"checkbox\" ><label for=\"sk-estimator-id-42\" class=\"sk-toggleable__label fitted sk-toggleable__label-arrow\"><div><div>gender_bool</div></div></label><div class=\"sk-toggleable__content fitted\"><pre>[&#x27;Gender&#x27;]</pre></div> </div></div><div class=\"sk-serial\"><div class=\"sk-item\"><div class=\"sk-estimator fitted sk-toggleable\"><input class=\"sk-toggleable__control sk-hidden--visually\" id=\"sk-estimator-id-43\" type=\"checkbox\" ><label for=\"sk-estimator-id-43\" class=\"sk-toggleable__label fitted sk-toggleable__label-arrow\"><div><div>gender_to_bool</div><div class=\"caption\">FunctionTransformer</div></div><div><a class=\"sk-estimator-doc-link fitted\" rel=\"noreferrer\" target=\"_blank\" href=\"https://scikit-learn.org/1.6/modules/generated/sklearn.preprocessing.FunctionTransformer.html\">?<span>Documentation for FunctionTransformer</span></a></div></label><div class=\"sk-toggleable__content fitted\"><pre>FunctionTransformer(func=&lt;function gender_to_bool at 0x13b5e5e10&gt;)</pre></div> </div></div></div></div></div><div class=\"sk-parallel-item\"><div class=\"sk-item\"><div class=\"sk-label-container\"><div class=\"sk-label fitted sk-toggleable\"><input class=\"sk-toggleable__control sk-hidden--visually\" id=\"sk-estimator-id-44\" type=\"checkbox\" ><label for=\"sk-estimator-id-44\" class=\"sk-toggleable__label fitted sk-toggleable__label-arrow\"><div><div>hww_bool_onehot</div></div></label><div class=\"sk-toggleable__content fitted\"><pre>[&#x27;HoursWorkedPerWeek&#x27;]</pre></div> </div></div><div class=\"sk-serial\"><div class=\"sk-item\"><div class=\"sk-serial\"><div class=\"sk-item\"><div class=\"sk-estimator fitted sk-toggleable\"><input class=\"sk-toggleable__control sk-hidden--visually\" id=\"sk-estimator-id-45\" type=\"checkbox\" ><label for=\"sk-estimator-id-45\" class=\"sk-toggleable__label fitted sk-toggleable__label-arrow\"><div><div>bucket_hours_worked</div><div class=\"caption\">FunctionTransformer</div></div><div><a class=\"sk-estimator-doc-link fitted\" rel=\"noreferrer\" target=\"_blank\" href=\"https://scikit-learn.org/1.6/modules/generated/sklearn.preprocessing.FunctionTransformer.html\">?<span>Documentation for FunctionTransformer</span></a></div></label><div class=\"sk-toggleable__content fitted\"><pre>FunctionTransformer(func=&lt;function bucket_hours_worked at 0x13b5e5c60&gt;)</pre></div> </div></div><div class=\"sk-item\"><div class=\"sk-estimator fitted sk-toggleable\"><input class=\"sk-toggleable__control sk-hidden--visually\" id=\"sk-estimator-id-46\" type=\"checkbox\" ><label for=\"sk-estimator-id-46\" class=\"sk-toggleable__label fitted sk-toggleable__label-arrow\"><div><div>OneHotEncoder</div></div><div><a class=\"sk-estimator-doc-link fitted\" rel=\"noreferrer\" target=\"_blank\" href=\"https://scikit-learn.org/1.6/modules/generated/sklearn.preprocessing.OneHotEncoder.html\">?<span>Documentation for OneHotEncoder</span></a></div></label><div class=\"sk-toggleable__content fitted\"><pre>OneHotEncoder(drop=&#x27;first&#x27;)</pre></div> </div></div></div></div></div></div></div><div class=\"sk-parallel-item\"><div class=\"sk-item\"><div class=\"sk-label-container\"><div class=\"sk-label fitted sk-toggleable\"><input class=\"sk-toggleable__control sk-hidden--visually\" id=\"sk-estimator-id-47\" type=\"checkbox\" ><label for=\"sk-estimator-id-47\" class=\"sk-toggleable__label fitted sk-toggleable__label-arrow\"><div><div>dtt_bool_onehot</div></div></label><div class=\"sk-toggleable__content fitted\"><pre>[&#x27;DaysToReport&#x27;]</pre></div> </div></div><div class=\"sk-serial\"><div class=\"sk-item\"><div class=\"sk-serial\"><div class=\"sk-item\"><div class=\"sk-estimator fitted sk-toggleable\"><input class=\"sk-toggleable__control sk-hidden--visually\" id=\"sk-estimator-id-48\" type=\"checkbox\" ><label for=\"sk-estimator-id-48\" class=\"sk-toggleable__label fitted sk-toggleable__label-arrow\"><div><div>bucket_days_to_report</div><div class=\"caption\">FunctionTransformer</div></div><div><a class=\"sk-estimator-doc-link fitted\" rel=\"noreferrer\" target=\"_blank\" href=\"https://scikit-learn.org/1.6/modules/generated/sklearn.preprocessing.FunctionTransformer.html\">?<span>Documentation for FunctionTransformer</span></a></div></label><div class=\"sk-toggleable__content fitted\"><pre>FunctionTransformer(func=&lt;function bucket_days_to_report at 0x13b5e5cf0&gt;)</pre></div> </div></div><div class=\"sk-item\"><div class=\"sk-estimator fitted sk-toggleable\"><input class=\"sk-toggleable__control sk-hidden--visually\" id=\"sk-estimator-id-49\" type=\"checkbox\" ><label for=\"sk-estimator-id-49\" class=\"sk-toggleable__label fitted sk-toggleable__label-arrow\"><div><div>OneHotEncoder</div></div><div><a class=\"sk-estimator-doc-link fitted\" rel=\"noreferrer\" target=\"_blank\" href=\"https://scikit-learn.org/1.6/modules/generated/sklearn.preprocessing.OneHotEncoder.html\">?<span>Documentation for OneHotEncoder</span></a></div></label><div class=\"sk-toggleable__content fitted\"><pre>OneHotEncoder(drop=&#x27;first&#x27;)</pre></div> </div></div></div></div></div></div></div><div class=\"sk-parallel-item\"><div class=\"sk-item\"><div class=\"sk-label-container\"><div class=\"sk-label fitted sk-toggleable\"><input class=\"sk-toggleable__control sk-hidden--visually\" id=\"sk-estimator-id-50\" type=\"checkbox\" ><label for=\"sk-estimator-id-50\" class=\"sk-toggleable__label fitted sk-toggleable__label-arrow\"><div><div>has_dependent_bool</div></div></label><div class=\"sk-toggleable__content fitted\"><pre>[&#x27;DependentChildren&#x27;]</pre></div> </div></div><div class=\"sk-serial\"><div class=\"sk-item\"><div class=\"sk-estimator fitted sk-toggleable\"><input class=\"sk-toggleable__control sk-hidden--visually\" id=\"sk-estimator-id-51\" type=\"checkbox\" ><label for=\"sk-estimator-id-51\" class=\"sk-toggleable__label fitted sk-toggleable__label-arrow\"><div><div>Binarizer</div></div><div><a class=\"sk-estimator-doc-link fitted\" rel=\"noreferrer\" target=\"_blank\" href=\"https://scikit-learn.org/1.6/modules/generated/sklearn.preprocessing.Binarizer.html\">?<span>Documentation for Binarizer</span></a></div></label><div class=\"sk-toggleable__content fitted\"><pre>Binarizer(threshold=0)</pre></div> </div></div></div></div></div><div class=\"sk-parallel-item\"><div class=\"sk-item\"><div class=\"sk-label-container\"><div class=\"sk-label fitted sk-toggleable\"><input class=\"sk-toggleable__control sk-hidden--visually\" id=\"sk-estimator-id-52\" type=\"checkbox\" ><label for=\"sk-estimator-id-52\" class=\"sk-toggleable__label fitted sk-toggleable__label-arrow\"><div><div>worked_five_days_bool</div></div></label><div class=\"sk-toggleable__content fitted\"><pre>[&#x27;DaysWorkedPerWeek&#x27;]</pre></div> </div></div><div class=\"sk-serial\"><div class=\"sk-item\"><div class=\"sk-estimator fitted sk-toggleable\"><input class=\"sk-toggleable__control sk-hidden--visually\" id=\"sk-estimator-id-53\" type=\"checkbox\" ><label for=\"sk-estimator-id-53\" class=\"sk-toggleable__label fitted sk-toggleable__label-arrow\"><div><div>days_worked_binarize</div><div class=\"caption\">FunctionTransformer</div></div><div><a class=\"sk-estimator-doc-link fitted\" rel=\"noreferrer\" target=\"_blank\" href=\"https://scikit-learn.org/1.6/modules/generated/sklearn.preprocessing.FunctionTransformer.html\">?<span>Documentation for FunctionTransformer</span></a></div></label><div class=\"sk-toggleable__content fitted\"><pre>FunctionTransformer(func=&lt;function days_worked_binarize at 0x13b5e5d80&gt;)</pre></div> </div></div></div></div></div><div class=\"sk-parallel-item\"><div class=\"sk-item\"><div class=\"sk-label-container\"><div class=\"sk-label fitted sk-toggleable\"><input class=\"sk-toggleable__control sk-hidden--visually\" id=\"sk-estimator-id-54\" type=\"checkbox\" ><label for=\"sk-estimator-id-54\" class=\"sk-toggleable__label fitted sk-toggleable__label-arrow\"><div><div>onehot</div></div></label><div class=\"sk-toggleable__content fitted\"><pre>[&#x27;MaritalStatus&#x27;, &#x27;PartTimeFullTime&#x27;]</pre></div> </div></div><div class=\"sk-serial\"><div class=\"sk-item\"><div class=\"sk-estimator fitted sk-toggleable\"><input class=\"sk-toggleable__control sk-hidden--visually\" id=\"sk-estimator-id-55\" type=\"checkbox\" ><label for=\"sk-estimator-id-55\" class=\"sk-toggleable__label fitted sk-toggleable__label-arrow\"><div><div>OneHotEncoder</div></div><div><a class=\"sk-estimator-doc-link fitted\" rel=\"noreferrer\" target=\"_blank\" href=\"https://scikit-learn.org/1.6/modules/generated/sklearn.preprocessing.OneHotEncoder.html\">?<span>Documentation for OneHotEncoder</span></a></div></label><div class=\"sk-toggleable__content fitted\"><pre>OneHotEncoder(drop=&#x27;first&#x27;)</pre></div> </div></div></div></div></div><div class=\"sk-parallel-item\"><div class=\"sk-item\"><div class=\"sk-label-container\"><div class=\"sk-label fitted sk-toggleable\"><input class=\"sk-toggleable__control sk-hidden--visually\" id=\"sk-estimator-id-56\" type=\"checkbox\" ><label for=\"sk-estimator-id-56\" class=\"sk-toggleable__label fitted sk-toggleable__label-arrow\"><div><div>pca_event_embeddings</div></div></label><div class=\"sk-toggleable__content fitted\"><pre>[&#x27;event_feat_0&#x27;, &#x27;event_feat_1&#x27;, &#x27;event_feat_2&#x27;, &#x27;event_feat_3&#x27;, &#x27;event_feat_4&#x27;, &#x27;event_feat_5&#x27;, &#x27;event_feat_6&#x27;, &#x27;event_feat_7&#x27;, &#x27;event_feat_8&#x27;, &#x27;event_feat_9&#x27;, &#x27;event_feat_10&#x27;, &#x27;event_feat_11&#x27;, &#x27;event_feat_12&#x27;, &#x27;event_feat_13&#x27;, &#x27;event_feat_14&#x27;, &#x27;event_feat_15&#x27;, &#x27;event_feat_16&#x27;, &#x27;event_feat_17&#x27;, &#x27;event_feat_18&#x27;, &#x27;event_feat_19&#x27;, &#x27;event_feat_20&#x27;, &#x27;event_feat_21&#x27;, &#x27;event_feat_22&#x27;, &#x27;event_feat_23&#x27;, &#x27;event_feat_24&#x27;, &#x27;event_feat_25&#x27;, &#x27;event_feat_26&#x27;, &#x27;event_feat_27&#x27;, &#x27;event_feat_28&#x27;, &#x27;event_feat_29&#x27;, &#x27;event_feat_30&#x27;, &#x27;event_feat_31&#x27;, &#x27;event_feat_32&#x27;, &#x27;event_feat_33&#x27;, &#x27;event_feat_34&#x27;, &#x27;event_feat_35&#x27;, &#x27;event_feat_36&#x27;, &#x27;event_feat_37&#x27;, &#x27;event_feat_38&#x27;, &#x27;event_feat_39&#x27;, &#x27;event_feat_40&#x27;, &#x27;event_feat_41&#x27;, &#x27;event_feat_42&#x27;, &#x27;event_feat_43&#x27;, &#x27;event_feat_44&#x27;, &#x27;event_feat_45&#x27;, &#x27;event_feat_46&#x27;, &#x27;event_feat_47&#x27;, &#x27;event_feat_48&#x27;, &#x27;event_feat_49&#x27;, &#x27;event_feat_50&#x27;, &#x27;event_feat_51&#x27;, &#x27;event_feat_52&#x27;, &#x27;event_feat_53&#x27;, &#x27;event_feat_54&#x27;, &#x27;event_feat_55&#x27;, &#x27;event_feat_56&#x27;, &#x27;event_feat_57&#x27;, &#x27;event_feat_58&#x27;, &#x27;event_feat_59&#x27;, &#x27;event_feat_60&#x27;, &#x27;event_feat_61&#x27;, &#x27;event_feat_62&#x27;, &#x27;event_feat_63&#x27;, &#x27;event_feat_64&#x27;, &#x27;event_feat_65&#x27;, &#x27;event_feat_66&#x27;, &#x27;event_feat_67&#x27;, &#x27;event_feat_68&#x27;, &#x27;event_feat_69&#x27;, &#x27;event_feat_70&#x27;, &#x27;event_feat_71&#x27;, &#x27;event_feat_72&#x27;, &#x27;event_feat_73&#x27;, &#x27;event_feat_74&#x27;, &#x27;event_feat_75&#x27;, &#x27;event_feat_76&#x27;, &#x27;event_feat_77&#x27;, &#x27;event_feat_78&#x27;, &#x27;event_feat_79&#x27;, &#x27;event_feat_80&#x27;, &#x27;event_feat_81&#x27;, &#x27;event_feat_82&#x27;, &#x27;event_feat_83&#x27;, &#x27;event_feat_84&#x27;, &#x27;event_feat_85&#x27;, &#x27;event_feat_86&#x27;, &#x27;event_feat_87&#x27;, &#x27;event_feat_88&#x27;, &#x27;event_feat_89&#x27;, &#x27;event_feat_90&#x27;, &#x27;event_feat_91&#x27;, &#x27;event_feat_92&#x27;, &#x27;event_feat_93&#x27;, &#x27;event_feat_94&#x27;, &#x27;event_feat_95&#x27;, &#x27;event_feat_96&#x27;, &#x27;event_feat_97&#x27;, &#x27;event_feat_98&#x27;, &#x27;event_feat_99&#x27;, &#x27;event_feat_100&#x27;, &#x27;event_feat_101&#x27;, &#x27;event_feat_102&#x27;, &#x27;event_feat_103&#x27;, &#x27;event_feat_104&#x27;, &#x27;event_feat_105&#x27;, &#x27;event_feat_106&#x27;, &#x27;event_feat_107&#x27;, &#x27;event_feat_108&#x27;, &#x27;event_feat_109&#x27;, &#x27;event_feat_110&#x27;, &#x27;event_feat_111&#x27;, &#x27;event_feat_112&#x27;, &#x27;event_feat_113&#x27;, &#x27;event_feat_114&#x27;, &#x27;event_feat_115&#x27;, &#x27;event_feat_116&#x27;, &#x27;event_feat_117&#x27;, &#x27;event_feat_118&#x27;, &#x27;event_feat_119&#x27;, &#x27;event_feat_120&#x27;, &#x27;event_feat_121&#x27;, &#x27;event_feat_122&#x27;, &#x27;event_feat_123&#x27;, &#x27;event_feat_124&#x27;, &#x27;event_feat_125&#x27;, &#x27;event_feat_126&#x27;, &#x27;event_feat_127&#x27;, &#x27;event_feat_128&#x27;, &#x27;event_feat_129&#x27;, &#x27;event_feat_130&#x27;, &#x27;event_feat_131&#x27;, &#x27;event_feat_132&#x27;, &#x27;event_feat_133&#x27;, &#x27;event_feat_134&#x27;, &#x27;event_feat_135&#x27;, &#x27;event_feat_136&#x27;, &#x27;event_feat_137&#x27;, &#x27;event_feat_138&#x27;, &#x27;event_feat_139&#x27;, &#x27;event_feat_140&#x27;, &#x27;event_feat_141&#x27;, &#x27;event_feat_142&#x27;, &#x27;event_feat_143&#x27;, &#x27;event_feat_144&#x27;, &#x27;event_feat_145&#x27;, &#x27;event_feat_146&#x27;, &#x27;event_feat_147&#x27;, &#x27;event_feat_148&#x27;, &#x27;event_feat_149&#x27;, &#x27;event_feat_150&#x27;, &#x27;event_feat_151&#x27;, &#x27;event_feat_152&#x27;, &#x27;event_feat_153&#x27;, &#x27;event_feat_154&#x27;, &#x27;event_feat_155&#x27;, &#x27;event_feat_156&#x27;, &#x27;event_feat_157&#x27;, &#x27;event_feat_158&#x27;, &#x27;event_feat_159&#x27;, &#x27;event_feat_160&#x27;, &#x27;event_feat_161&#x27;, &#x27;event_feat_162&#x27;, &#x27;event_feat_163&#x27;, &#x27;event_feat_164&#x27;, &#x27;event_feat_165&#x27;, &#x27;event_feat_166&#x27;, &#x27;event_feat_167&#x27;, &#x27;event_feat_168&#x27;, &#x27;event_feat_169&#x27;, &#x27;event_feat_170&#x27;, &#x27;event_feat_171&#x27;, &#x27;event_feat_172&#x27;, &#x27;event_feat_173&#x27;, &#x27;event_feat_174&#x27;, &#x27;event_feat_175&#x27;, &#x27;event_feat_176&#x27;, &#x27;event_feat_177&#x27;, &#x27;event_feat_178&#x27;, &#x27;event_feat_179&#x27;, &#x27;event_feat_180&#x27;, &#x27;event_feat_181&#x27;, &#x27;event_feat_182&#x27;, &#x27;event_feat_183&#x27;, &#x27;event_feat_184&#x27;, &#x27;event_feat_185&#x27;, &#x27;event_feat_186&#x27;, &#x27;event_feat_187&#x27;, &#x27;event_feat_188&#x27;, &#x27;event_feat_189&#x27;, &#x27;event_feat_190&#x27;, &#x27;event_feat_191&#x27;, &#x27;event_feat_192&#x27;, &#x27;event_feat_193&#x27;, &#x27;event_feat_194&#x27;, &#x27;event_feat_195&#x27;, &#x27;event_feat_196&#x27;, &#x27;event_feat_197&#x27;, &#x27;event_feat_198&#x27;, &#x27;event_feat_199&#x27;, &#x27;event_feat_200&#x27;, &#x27;event_feat_201&#x27;, &#x27;event_feat_202&#x27;, &#x27;event_feat_203&#x27;, &#x27;event_feat_204&#x27;, &#x27;event_feat_205&#x27;, &#x27;event_feat_206&#x27;, &#x27;event_feat_207&#x27;, &#x27;event_feat_208&#x27;, &#x27;event_feat_209&#x27;, &#x27;event_feat_210&#x27;, &#x27;event_feat_211&#x27;, &#x27;event_feat_212&#x27;, &#x27;event_feat_213&#x27;, &#x27;event_feat_214&#x27;, &#x27;event_feat_215&#x27;, &#x27;event_feat_216&#x27;, &#x27;event_feat_217&#x27;, &#x27;event_feat_218&#x27;, &#x27;event_feat_219&#x27;, &#x27;event_feat_220&#x27;, &#x27;event_feat_221&#x27;, &#x27;event_feat_222&#x27;, &#x27;event_feat_223&#x27;, &#x27;event_feat_224&#x27;, &#x27;event_feat_225&#x27;, &#x27;event_feat_226&#x27;, &#x27;event_feat_227&#x27;, &#x27;event_feat_228&#x27;, &#x27;event_feat_229&#x27;, &#x27;event_feat_230&#x27;, &#x27;event_feat_231&#x27;, &#x27;event_feat_232&#x27;, &#x27;event_feat_233&#x27;, &#x27;event_feat_234&#x27;, &#x27;event_feat_235&#x27;, &#x27;event_feat_236&#x27;, &#x27;event_feat_237&#x27;, &#x27;event_feat_238&#x27;, &#x27;event_feat_239&#x27;, &#x27;event_feat_240&#x27;, &#x27;event_feat_241&#x27;, &#x27;event_feat_242&#x27;, &#x27;event_feat_243&#x27;, &#x27;event_feat_244&#x27;, &#x27;event_feat_245&#x27;, &#x27;event_feat_246&#x27;, &#x27;event_feat_247&#x27;, &#x27;event_feat_248&#x27;, &#x27;event_feat_249&#x27;, &#x27;event_feat_250&#x27;, &#x27;event_feat_251&#x27;, &#x27;event_feat_252&#x27;, &#x27;event_feat_253&#x27;, &#x27;event_feat_254&#x27;, &#x27;event_feat_255&#x27;, &#x27;event_feat_256&#x27;, &#x27;event_feat_257&#x27;, &#x27;event_feat_258&#x27;, &#x27;event_feat_259&#x27;, &#x27;event_feat_260&#x27;, &#x27;event_feat_261&#x27;, &#x27;event_feat_262&#x27;, &#x27;event_feat_263&#x27;, &#x27;event_feat_264&#x27;, &#x27;event_feat_265&#x27;, &#x27;event_feat_266&#x27;, &#x27;event_feat_267&#x27;, &#x27;event_feat_268&#x27;, &#x27;event_feat_269&#x27;, &#x27;event_feat_270&#x27;, &#x27;event_feat_271&#x27;, &#x27;event_feat_272&#x27;, &#x27;event_feat_273&#x27;, &#x27;event_feat_274&#x27;, &#x27;event_feat_275&#x27;, &#x27;event_feat_276&#x27;, &#x27;event_feat_277&#x27;, &#x27;event_feat_278&#x27;, &#x27;event_feat_279&#x27;, &#x27;event_feat_280&#x27;, &#x27;event_feat_281&#x27;, &#x27;event_feat_282&#x27;, &#x27;event_feat_283&#x27;, &#x27;event_feat_284&#x27;, &#x27;event_feat_285&#x27;, &#x27;event_feat_286&#x27;, &#x27;event_feat_287&#x27;, &#x27;event_feat_288&#x27;, &#x27;event_feat_289&#x27;, &#x27;event_feat_290&#x27;, &#x27;event_feat_291&#x27;, &#x27;event_feat_292&#x27;, &#x27;event_feat_293&#x27;, &#x27;event_feat_294&#x27;, &#x27;event_feat_295&#x27;, &#x27;event_feat_296&#x27;, &#x27;event_feat_297&#x27;, &#x27;event_feat_298&#x27;, &#x27;event_feat_299&#x27;, &#x27;event_feat_300&#x27;, &#x27;event_feat_301&#x27;, &#x27;event_feat_302&#x27;, &#x27;event_feat_303&#x27;, &#x27;event_feat_304&#x27;, &#x27;event_feat_305&#x27;, &#x27;event_feat_306&#x27;, &#x27;event_feat_307&#x27;, &#x27;event_feat_308&#x27;, &#x27;event_feat_309&#x27;, &#x27;event_feat_310&#x27;, &#x27;event_feat_311&#x27;, &#x27;event_feat_312&#x27;, &#x27;event_feat_313&#x27;, &#x27;event_feat_314&#x27;, &#x27;event_feat_315&#x27;, &#x27;event_feat_316&#x27;, &#x27;event_feat_317&#x27;, &#x27;event_feat_318&#x27;, &#x27;event_feat_319&#x27;, &#x27;event_feat_320&#x27;, &#x27;event_feat_321&#x27;, &#x27;event_feat_322&#x27;, &#x27;event_feat_323&#x27;, &#x27;event_feat_324&#x27;, &#x27;event_feat_325&#x27;, &#x27;event_feat_326&#x27;, &#x27;event_feat_327&#x27;, &#x27;event_feat_328&#x27;, &#x27;event_feat_329&#x27;, &#x27;event_feat_330&#x27;, &#x27;event_feat_331&#x27;, &#x27;event_feat_332&#x27;, &#x27;event_feat_333&#x27;, &#x27;event_feat_334&#x27;, &#x27;event_feat_335&#x27;, &#x27;event_feat_336&#x27;, &#x27;event_feat_337&#x27;, &#x27;event_feat_338&#x27;, &#x27;event_feat_339&#x27;, &#x27;event_feat_340&#x27;, &#x27;event_feat_341&#x27;, &#x27;event_feat_342&#x27;, &#x27;event_feat_343&#x27;, &#x27;event_feat_344&#x27;, &#x27;event_feat_345&#x27;, &#x27;event_feat_346&#x27;, &#x27;event_feat_347&#x27;, &#x27;event_feat_348&#x27;, &#x27;event_feat_349&#x27;, &#x27;event_feat_350&#x27;, &#x27;event_feat_351&#x27;, &#x27;event_feat_352&#x27;, &#x27;event_feat_353&#x27;, &#x27;event_feat_354&#x27;, &#x27;event_feat_355&#x27;, &#x27;event_feat_356&#x27;, &#x27;event_feat_357&#x27;, &#x27;event_feat_358&#x27;, &#x27;event_feat_359&#x27;, &#x27;event_feat_360&#x27;, &#x27;event_feat_361&#x27;, &#x27;event_feat_362&#x27;, &#x27;event_feat_363&#x27;, &#x27;event_feat_364&#x27;, &#x27;event_feat_365&#x27;, &#x27;event_feat_366&#x27;, &#x27;event_feat_367&#x27;, &#x27;event_feat_368&#x27;, &#x27;event_feat_369&#x27;, &#x27;event_feat_370&#x27;, &#x27;event_feat_371&#x27;, &#x27;event_feat_372&#x27;, &#x27;event_feat_373&#x27;, &#x27;event_feat_374&#x27;, &#x27;event_feat_375&#x27;, &#x27;event_feat_376&#x27;, &#x27;event_feat_377&#x27;, &#x27;event_feat_378&#x27;, &#x27;event_feat_379&#x27;, &#x27;event_feat_380&#x27;, &#x27;event_feat_381&#x27;, &#x27;event_feat_382&#x27;, &#x27;event_feat_383&#x27;, &#x27;event_feat_384&#x27;, &#x27;event_feat_385&#x27;, &#x27;event_feat_386&#x27;, &#x27;event_feat_387&#x27;, &#x27;event_feat_388&#x27;, &#x27;event_feat_389&#x27;, &#x27;event_feat_390&#x27;, &#x27;event_feat_391&#x27;, &#x27;event_feat_392&#x27;, &#x27;event_feat_393&#x27;, &#x27;event_feat_394&#x27;, &#x27;event_feat_395&#x27;, &#x27;event_feat_396&#x27;, &#x27;event_feat_397&#x27;, &#x27;event_feat_398&#x27;, &#x27;event_feat_399&#x27;, &#x27;event_feat_400&#x27;, &#x27;event_feat_401&#x27;, &#x27;event_feat_402&#x27;, &#x27;event_feat_403&#x27;, &#x27;event_feat_404&#x27;, &#x27;event_feat_405&#x27;, &#x27;event_feat_406&#x27;, &#x27;event_feat_407&#x27;, &#x27;event_feat_408&#x27;, &#x27;event_feat_409&#x27;, &#x27;event_feat_410&#x27;, &#x27;event_feat_411&#x27;, &#x27;event_feat_412&#x27;, &#x27;event_feat_413&#x27;, &#x27;event_feat_414&#x27;, &#x27;event_feat_415&#x27;, &#x27;event_feat_416&#x27;, &#x27;event_feat_417&#x27;, &#x27;event_feat_418&#x27;, &#x27;event_feat_419&#x27;, &#x27;event_feat_420&#x27;, &#x27;event_feat_421&#x27;, &#x27;event_feat_422&#x27;, &#x27;event_feat_423&#x27;, &#x27;event_feat_424&#x27;, &#x27;event_feat_425&#x27;, &#x27;event_feat_426&#x27;, &#x27;event_feat_427&#x27;, &#x27;event_feat_428&#x27;, &#x27;event_feat_429&#x27;, &#x27;event_feat_430&#x27;, &#x27;event_feat_431&#x27;, &#x27;event_feat_432&#x27;, &#x27;event_feat_433&#x27;, &#x27;event_feat_434&#x27;, &#x27;event_feat_435&#x27;, &#x27;event_feat_436&#x27;, &#x27;event_feat_437&#x27;, &#x27;event_feat_438&#x27;, &#x27;event_feat_439&#x27;, &#x27;event_feat_440&#x27;, &#x27;event_feat_441&#x27;, &#x27;event_feat_442&#x27;, &#x27;event_feat_443&#x27;, &#x27;event_feat_444&#x27;, &#x27;event_feat_445&#x27;, &#x27;event_feat_446&#x27;, &#x27;event_feat_447&#x27;, &#x27;event_feat_448&#x27;, &#x27;event_feat_449&#x27;, &#x27;event_feat_450&#x27;, &#x27;event_feat_451&#x27;, &#x27;event_feat_452&#x27;, &#x27;event_feat_453&#x27;, &#x27;event_feat_454&#x27;, &#x27;event_feat_455&#x27;, &#x27;event_feat_456&#x27;, &#x27;event_feat_457&#x27;, &#x27;event_feat_458&#x27;, &#x27;event_feat_459&#x27;, &#x27;event_feat_460&#x27;, &#x27;event_feat_461&#x27;, &#x27;event_feat_462&#x27;, &#x27;event_feat_463&#x27;, &#x27;event_feat_464&#x27;, &#x27;event_feat_465&#x27;, &#x27;event_feat_466&#x27;, &#x27;event_feat_467&#x27;, &#x27;event_feat_468&#x27;, &#x27;event_feat_469&#x27;, &#x27;event_feat_470&#x27;, &#x27;event_feat_471&#x27;, &#x27;event_feat_472&#x27;, &#x27;event_feat_473&#x27;, &#x27;event_feat_474&#x27;, &#x27;event_feat_475&#x27;, &#x27;event_feat_476&#x27;, &#x27;event_feat_477&#x27;, &#x27;event_feat_478&#x27;, &#x27;event_feat_479&#x27;, &#x27;event_feat_480&#x27;, &#x27;event_feat_481&#x27;, &#x27;event_feat_482&#x27;, &#x27;event_feat_483&#x27;, &#x27;event_feat_484&#x27;, &#x27;event_feat_485&#x27;, &#x27;event_feat_486&#x27;, &#x27;event_feat_487&#x27;, &#x27;event_feat_488&#x27;, &#x27;event_feat_489&#x27;, &#x27;event_feat_490&#x27;, &#x27;event_feat_491&#x27;, &#x27;event_feat_492&#x27;, &#x27;event_feat_493&#x27;, &#x27;event_feat_494&#x27;, &#x27;event_feat_495&#x27;, &#x27;event_feat_496&#x27;, &#x27;event_feat_497&#x27;, &#x27;event_feat_498&#x27;, &#x27;event_feat_499&#x27;, &#x27;event_feat_500&#x27;, &#x27;event_feat_501&#x27;, &#x27;event_feat_502&#x27;, &#x27;event_feat_503&#x27;, &#x27;event_feat_504&#x27;, &#x27;event_feat_505&#x27;, &#x27;event_feat_506&#x27;, &#x27;event_feat_507&#x27;, &#x27;event_feat_508&#x27;, &#x27;event_feat_509&#x27;, &#x27;event_feat_510&#x27;, &#x27;event_feat_511&#x27;, &#x27;event_feat_512&#x27;, &#x27;event_feat_513&#x27;, &#x27;event_feat_514&#x27;, &#x27;event_feat_515&#x27;, &#x27;event_feat_516&#x27;, &#x27;event_feat_517&#x27;, &#x27;event_feat_518&#x27;, &#x27;event_feat_519&#x27;, &#x27;event_feat_520&#x27;, &#x27;event_feat_521&#x27;, &#x27;event_feat_522&#x27;, &#x27;event_feat_523&#x27;, &#x27;event_feat_524&#x27;, &#x27;event_feat_525&#x27;, &#x27;event_feat_526&#x27;, &#x27;event_feat_527&#x27;, &#x27;event_feat_528&#x27;, &#x27;event_feat_529&#x27;, &#x27;event_feat_530&#x27;, &#x27;event_feat_531&#x27;, &#x27;event_feat_532&#x27;, &#x27;event_feat_533&#x27;, &#x27;event_feat_534&#x27;, &#x27;event_feat_535&#x27;, &#x27;event_feat_536&#x27;, &#x27;event_feat_537&#x27;, &#x27;event_feat_538&#x27;, &#x27;event_feat_539&#x27;, &#x27;event_feat_540&#x27;, &#x27;event_feat_541&#x27;, &#x27;event_feat_542&#x27;, &#x27;event_feat_543&#x27;, &#x27;event_feat_544&#x27;, &#x27;event_feat_545&#x27;, &#x27;event_feat_546&#x27;, &#x27;event_feat_547&#x27;, &#x27;event_feat_548&#x27;, &#x27;event_feat_549&#x27;, &#x27;event_feat_550&#x27;, &#x27;event_feat_551&#x27;, &#x27;event_feat_552&#x27;, &#x27;event_feat_553&#x27;, &#x27;event_feat_554&#x27;, &#x27;event_feat_555&#x27;, &#x27;event_feat_556&#x27;, &#x27;event_feat_557&#x27;, &#x27;event_feat_558&#x27;, &#x27;event_feat_559&#x27;, &#x27;event_feat_560&#x27;, &#x27;event_feat_561&#x27;, &#x27;event_feat_562&#x27;, &#x27;event_feat_563&#x27;, &#x27;event_feat_564&#x27;, &#x27;event_feat_565&#x27;, &#x27;event_feat_566&#x27;, &#x27;event_feat_567&#x27;, &#x27;event_feat_568&#x27;, &#x27;event_feat_569&#x27;, &#x27;event_feat_570&#x27;, &#x27;event_feat_571&#x27;, &#x27;event_feat_572&#x27;, &#x27;event_feat_573&#x27;, &#x27;event_feat_574&#x27;, &#x27;event_feat_575&#x27;, &#x27;event_feat_576&#x27;, &#x27;event_feat_577&#x27;, &#x27;event_feat_578&#x27;, &#x27;event_feat_579&#x27;, &#x27;event_feat_580&#x27;, &#x27;event_feat_581&#x27;, &#x27;event_feat_582&#x27;, &#x27;event_feat_583&#x27;, &#x27;event_feat_584&#x27;, &#x27;event_feat_585&#x27;, &#x27;event_feat_586&#x27;, &#x27;event_feat_587&#x27;, &#x27;event_feat_588&#x27;, &#x27;event_feat_589&#x27;, &#x27;event_feat_590&#x27;, &#x27;event_feat_591&#x27;, &#x27;event_feat_592&#x27;, &#x27;event_feat_593&#x27;, &#x27;event_feat_594&#x27;, &#x27;event_feat_595&#x27;, &#x27;event_feat_596&#x27;, &#x27;event_feat_597&#x27;, &#x27;event_feat_598&#x27;, &#x27;event_feat_599&#x27;, &#x27;event_feat_600&#x27;, &#x27;event_feat_601&#x27;, &#x27;event_feat_602&#x27;, &#x27;event_feat_603&#x27;, &#x27;event_feat_604&#x27;, &#x27;event_feat_605&#x27;, &#x27;event_feat_606&#x27;, &#x27;event_feat_607&#x27;, &#x27;event_feat_608&#x27;, &#x27;event_feat_609&#x27;, &#x27;event_feat_610&#x27;, &#x27;event_feat_611&#x27;, &#x27;event_feat_612&#x27;, &#x27;event_feat_613&#x27;, &#x27;event_feat_614&#x27;, &#x27;event_feat_615&#x27;, &#x27;event_feat_616&#x27;, &#x27;event_feat_617&#x27;, &#x27;event_feat_618&#x27;, &#x27;event_feat_619&#x27;, &#x27;event_feat_620&#x27;, &#x27;event_feat_621&#x27;, &#x27;event_feat_622&#x27;, &#x27;event_feat_623&#x27;, &#x27;event_feat_624&#x27;, &#x27;event_feat_625&#x27;, &#x27;event_feat_626&#x27;, &#x27;event_feat_627&#x27;, &#x27;event_feat_628&#x27;, &#x27;event_feat_629&#x27;, &#x27;event_feat_630&#x27;, &#x27;event_feat_631&#x27;, &#x27;event_feat_632&#x27;, &#x27;event_feat_633&#x27;, &#x27;event_feat_634&#x27;, &#x27;event_feat_635&#x27;, &#x27;event_feat_636&#x27;, &#x27;event_feat_637&#x27;, &#x27;event_feat_638&#x27;, &#x27;event_feat_639&#x27;, &#x27;event_feat_640&#x27;, &#x27;event_feat_641&#x27;, &#x27;event_feat_642&#x27;, &#x27;event_feat_643&#x27;, &#x27;event_feat_644&#x27;, &#x27;event_feat_645&#x27;, &#x27;event_feat_646&#x27;, &#x27;event_feat_647&#x27;, &#x27;event_feat_648&#x27;, &#x27;event_feat_649&#x27;, &#x27;event_feat_650&#x27;, &#x27;event_feat_651&#x27;, &#x27;event_feat_652&#x27;, &#x27;event_feat_653&#x27;, &#x27;event_feat_654&#x27;, &#x27;event_feat_655&#x27;, &#x27;event_feat_656&#x27;, &#x27;event_feat_657&#x27;, &#x27;event_feat_658&#x27;, &#x27;event_feat_659&#x27;, &#x27;event_feat_660&#x27;, &#x27;event_feat_661&#x27;, &#x27;event_feat_662&#x27;, &#x27;event_feat_663&#x27;, &#x27;event_feat_664&#x27;, &#x27;event_feat_665&#x27;, &#x27;event_feat_666&#x27;, &#x27;event_feat_667&#x27;, &#x27;event_feat_668&#x27;, &#x27;event_feat_669&#x27;, &#x27;event_feat_670&#x27;, &#x27;event_feat_671&#x27;, &#x27;event_feat_672&#x27;, &#x27;event_feat_673&#x27;, &#x27;event_feat_674&#x27;, &#x27;event_feat_675&#x27;, &#x27;event_feat_676&#x27;, &#x27;event_feat_677&#x27;, &#x27;event_feat_678&#x27;, &#x27;event_feat_679&#x27;, &#x27;event_feat_680&#x27;, &#x27;event_feat_681&#x27;, &#x27;event_feat_682&#x27;, &#x27;event_feat_683&#x27;, &#x27;event_feat_684&#x27;, &#x27;event_feat_685&#x27;, &#x27;event_feat_686&#x27;, &#x27;event_feat_687&#x27;, &#x27;event_feat_688&#x27;, &#x27;event_feat_689&#x27;, &#x27;event_feat_690&#x27;, &#x27;event_feat_691&#x27;, &#x27;event_feat_692&#x27;, &#x27;event_feat_693&#x27;, &#x27;event_feat_694&#x27;, &#x27;event_feat_695&#x27;, &#x27;event_feat_696&#x27;, &#x27;event_feat_697&#x27;, &#x27;event_feat_698&#x27;, &#x27;event_feat_699&#x27;, &#x27;event_feat_700&#x27;, &#x27;event_feat_701&#x27;, &#x27;event_feat_702&#x27;, &#x27;event_feat_703&#x27;, &#x27;event_feat_704&#x27;, &#x27;event_feat_705&#x27;, &#x27;event_feat_706&#x27;, &#x27;event_feat_707&#x27;, &#x27;event_feat_708&#x27;, &#x27;event_feat_709&#x27;, &#x27;event_feat_710&#x27;, &#x27;event_feat_711&#x27;, &#x27;event_feat_712&#x27;, &#x27;event_feat_713&#x27;, &#x27;event_feat_714&#x27;, &#x27;event_feat_715&#x27;, &#x27;event_feat_716&#x27;, &#x27;event_feat_717&#x27;, &#x27;event_feat_718&#x27;, &#x27;event_feat_719&#x27;, &#x27;event_feat_720&#x27;, &#x27;event_feat_721&#x27;, &#x27;event_feat_722&#x27;, &#x27;event_feat_723&#x27;, &#x27;event_feat_724&#x27;, &#x27;event_feat_725&#x27;, &#x27;event_feat_726&#x27;, &#x27;event_feat_727&#x27;, &#x27;event_feat_728&#x27;, &#x27;event_feat_729&#x27;, &#x27;event_feat_730&#x27;, &#x27;event_feat_731&#x27;, &#x27;event_feat_732&#x27;, &#x27;event_feat_733&#x27;, &#x27;event_feat_734&#x27;, &#x27;event_feat_735&#x27;, &#x27;event_feat_736&#x27;, &#x27;event_feat_737&#x27;, &#x27;event_feat_738&#x27;, &#x27;event_feat_739&#x27;, &#x27;event_feat_740&#x27;, &#x27;event_feat_741&#x27;, &#x27;event_feat_742&#x27;, &#x27;event_feat_743&#x27;, &#x27;event_feat_744&#x27;, &#x27;event_feat_745&#x27;, &#x27;event_feat_746&#x27;, &#x27;event_feat_747&#x27;, &#x27;event_feat_748&#x27;, &#x27;event_feat_749&#x27;, &#x27;event_feat_750&#x27;, &#x27;event_feat_751&#x27;, &#x27;event_feat_752&#x27;, &#x27;event_feat_753&#x27;, &#x27;event_feat_754&#x27;, &#x27;event_feat_755&#x27;, &#x27;event_feat_756&#x27;, &#x27;event_feat_757&#x27;, &#x27;event_feat_758&#x27;, &#x27;event_feat_759&#x27;, &#x27;event_feat_760&#x27;, &#x27;event_feat_761&#x27;, &#x27;event_feat_762&#x27;, &#x27;event_feat_763&#x27;, &#x27;event_feat_764&#x27;, &#x27;event_feat_765&#x27;, &#x27;event_feat_766&#x27;, &#x27;event_feat_767&#x27;]</pre></div> </div></div><div class=\"sk-serial\"><div class=\"sk-item\"><div class=\"sk-estimator fitted sk-toggleable\"><input class=\"sk-toggleable__control sk-hidden--visually\" id=\"sk-estimator-id-57\" type=\"checkbox\" ><label for=\"sk-estimator-id-57\" class=\"sk-toggleable__label fitted sk-toggleable__label-arrow\"><div><div>PCA</div></div><div><a class=\"sk-estimator-doc-link fitted\" rel=\"noreferrer\" target=\"_blank\" href=\"https://scikit-learn.org/1.6/modules/generated/sklearn.decomposition.PCA.html\">?<span>Documentation for PCA</span></a></div></label><div class=\"sk-toggleable__content fitted\"><pre>PCA(n_components=250)</pre></div> </div></div></div></div></div><div class=\"sk-parallel-item\"><div class=\"sk-item\"><div class=\"sk-label-container\"><div class=\"sk-label fitted sk-toggleable\"><input class=\"sk-toggleable__control sk-hidden--visually\" id=\"sk-estimator-id-58\" type=\"checkbox\" ><label for=\"sk-estimator-id-58\" class=\"sk-toggleable__label fitted sk-toggleable__label-arrow\"><div><div>passthrough_event_dummies</div></div></label><div class=\"sk-toggleable__content fitted\"><pre>[&#x27;BACK STRAIN&#x27;, &#x27;CLEANING INSTRUMENTS&#x27;, &#x27;CLEANING LEFT SHOULDER SPLINTER&#x27;, &#x27;CUT WITH KNIFE&#x27;, &#x27;DEALING CARDS RIGHT TENDON SYNOVITIS&#x27;, &#x27;FELL&#x27;, &#x27;FELL FROM LADDER&#x27;, &#x27;FELL OFF LADDER&#x27;, &#x27;FRACTURED LEFT WRIST FRACTURE&#x27;, &#x27;GRINDING FOREIGN BODY&#x27;, &#x27;GRINDING STEEL BEAM INFECTION&#x27;, &#x27;HIT AIR HOSE&#x27;, &#x27;HIT ELBOW&#x27;, &#x27;HIT FLOOR SHEET&#x27;, &#x27;INJURY&#x27;, &#x27;INJURY LIFTING&#x27;, &#x27;INJURY LIFTING STRAIN&#x27;, &#x27;JAMMED RIGHT HAND PUNCTURE&#x27;, &#x27;KNIFE LACERATION&#x27;, &#x27;KNIFE SLIPPED&#x27;, &#x27;LACERATION&#x27;, &#x27;LEFT LEG SNAKE BITE&#x27;, &#x27;LIFTING&#x27;, &#x27;LIFTING BOXES&#x27;, &#x27;LIFTING PATIENT&#x27;, &#x27;LIFTING TYRES&#x27;, &#x27;LOWER BACK STRAIN&#x27;, &#x27;MOTOR VEHICLE COLLISION&#x27;, &#x27;PREPARING PIPES FOR PAINTING PUNCTURE&#x27;, &#x27;PULLING CABLES&#x27;, &#x27;REDBACK SPIDER BITE&#x27;, &#x27;SLIPPED AND FELL&#x27;, &#x27;SLIPPED ON FLOOR&#x27;, &#x27;SLIPPED ON ROLLER&#x27;, &#x27;SLIPPED ON STAIRS&#x27;, &#x27;SLIPPED ON WET FLOOR&#x27;, &#x27;SLIPPED USING LATHE&#x27;, &#x27;SORTING ALUMINIUM BARS STRAIN&#x27;, &#x27;SPRAINED RIGHT ANKLE FRACTURE&#x27;, &#x27;STRAIN&#x27;, &#x27;STRAIN LIFTING PARTS&#x27;, &#x27;STRAIN LIFTING STRAIN&#x27;, &#x27;STRUCK KNIFE LACERATED&#x27;, &#x27;STRUCK KNIFE LACERATION&#x27;, &#x27;STRUCK PALLET&#x27;, &#x27;STRUCK WITH KNIFE&#x27;, &#x27;USING AIR HOSE STRAIN&#x27;, &#x27;USING DRILL&#x27;]</pre></div> </div></div><div class=\"sk-serial\"><div class=\"sk-item\"><div class=\"sk-estimator fitted sk-toggleable\"><input class=\"sk-toggleable__control sk-hidden--visually\" id=\"sk-estimator-id-59\" type=\"checkbox\" ><label for=\"sk-estimator-id-59\" class=\"sk-toggleable__label fitted sk-toggleable__label-arrow\"><div><div>passthrough</div></div></label><div class=\"sk-toggleable__content fitted\"><pre>passthrough</pre></div> </div></div></div></div></div><div class=\"sk-parallel-item\"><div class=\"sk-item\"><div class=\"sk-label-container\"><div class=\"sk-label fitted sk-toggleable\"><input class=\"sk-toggleable__control sk-hidden--visually\" id=\"sk-estimator-id-60\" type=\"checkbox\" ><label for=\"sk-estimator-id-60\" class=\"sk-toggleable__label fitted sk-toggleable__label-arrow\"><div><div>pca_body_parts_embeddings</div></div></label><div class=\"sk-toggleable__content fitted\"><pre>[&#x27;body_feat_0&#x27;, &#x27;body_feat_1&#x27;, &#x27;body_feat_2&#x27;, &#x27;body_feat_3&#x27;, &#x27;body_feat_4&#x27;, &#x27;body_feat_5&#x27;, &#x27;body_feat_6&#x27;, &#x27;body_feat_7&#x27;, &#x27;body_feat_8&#x27;, &#x27;body_feat_9&#x27;, &#x27;body_feat_10&#x27;, &#x27;body_feat_11&#x27;, &#x27;body_feat_12&#x27;, &#x27;body_feat_13&#x27;, &#x27;body_feat_14&#x27;, &#x27;body_feat_15&#x27;, &#x27;body_feat_16&#x27;, &#x27;body_feat_17&#x27;, &#x27;body_feat_18&#x27;, &#x27;body_feat_19&#x27;, &#x27;body_feat_20&#x27;, &#x27;body_feat_21&#x27;, &#x27;body_feat_22&#x27;, &#x27;body_feat_23&#x27;, &#x27;body_feat_24&#x27;, &#x27;body_feat_25&#x27;, &#x27;body_feat_26&#x27;, &#x27;body_feat_27&#x27;, &#x27;body_feat_28&#x27;, &#x27;body_feat_29&#x27;, &#x27;body_feat_30&#x27;, &#x27;body_feat_31&#x27;, &#x27;body_feat_32&#x27;, &#x27;body_feat_33&#x27;, &#x27;body_feat_34&#x27;, &#x27;body_feat_35&#x27;, &#x27;body_feat_36&#x27;, &#x27;body_feat_37&#x27;, &#x27;body_feat_38&#x27;, &#x27;body_feat_39&#x27;, &#x27;body_feat_40&#x27;, &#x27;body_feat_41&#x27;, &#x27;body_feat_42&#x27;, &#x27;body_feat_43&#x27;, &#x27;body_feat_44&#x27;, &#x27;body_feat_45&#x27;, &#x27;body_feat_46&#x27;, &#x27;body_feat_47&#x27;, &#x27;body_feat_48&#x27;, &#x27;body_feat_49&#x27;, &#x27;body_feat_50&#x27;, &#x27;body_feat_51&#x27;, &#x27;body_feat_52&#x27;, &#x27;body_feat_53&#x27;, &#x27;body_feat_54&#x27;, &#x27;body_feat_55&#x27;, &#x27;body_feat_56&#x27;, &#x27;body_feat_57&#x27;, &#x27;body_feat_58&#x27;, &#x27;body_feat_59&#x27;, &#x27;body_feat_60&#x27;, &#x27;body_feat_61&#x27;, &#x27;body_feat_62&#x27;, &#x27;body_feat_63&#x27;, &#x27;body_feat_64&#x27;, &#x27;body_feat_65&#x27;, &#x27;body_feat_66&#x27;, &#x27;body_feat_67&#x27;, &#x27;body_feat_68&#x27;, &#x27;body_feat_69&#x27;, &#x27;body_feat_70&#x27;, &#x27;body_feat_71&#x27;, &#x27;body_feat_72&#x27;, &#x27;body_feat_73&#x27;, &#x27;body_feat_74&#x27;, &#x27;body_feat_75&#x27;, &#x27;body_feat_76&#x27;, &#x27;body_feat_77&#x27;, &#x27;body_feat_78&#x27;, &#x27;body_feat_79&#x27;, &#x27;body_feat_80&#x27;, &#x27;body_feat_81&#x27;, &#x27;body_feat_82&#x27;, &#x27;body_feat_83&#x27;, &#x27;body_feat_84&#x27;, &#x27;body_feat_85&#x27;, &#x27;body_feat_86&#x27;, &#x27;body_feat_87&#x27;, &#x27;body_feat_88&#x27;, &#x27;body_feat_89&#x27;, &#x27;body_feat_90&#x27;, &#x27;body_feat_91&#x27;, &#x27;body_feat_92&#x27;, &#x27;body_feat_93&#x27;, &#x27;body_feat_94&#x27;, &#x27;body_feat_95&#x27;, &#x27;body_feat_96&#x27;, &#x27;body_feat_97&#x27;, &#x27;body_feat_98&#x27;, &#x27;body_feat_99&#x27;, &#x27;body_feat_100&#x27;, &#x27;body_feat_101&#x27;, &#x27;body_feat_102&#x27;, &#x27;body_feat_103&#x27;, &#x27;body_feat_104&#x27;, &#x27;body_feat_105&#x27;, &#x27;body_feat_106&#x27;, &#x27;body_feat_107&#x27;, &#x27;body_feat_108&#x27;, &#x27;body_feat_109&#x27;, &#x27;body_feat_110&#x27;, &#x27;body_feat_111&#x27;, &#x27;body_feat_112&#x27;, &#x27;body_feat_113&#x27;, &#x27;body_feat_114&#x27;, &#x27;body_feat_115&#x27;, &#x27;body_feat_116&#x27;, &#x27;body_feat_117&#x27;, &#x27;body_feat_118&#x27;, &#x27;body_feat_119&#x27;, &#x27;body_feat_120&#x27;, &#x27;body_feat_121&#x27;, &#x27;body_feat_122&#x27;, &#x27;body_feat_123&#x27;, &#x27;body_feat_124&#x27;, &#x27;body_feat_125&#x27;, &#x27;body_feat_126&#x27;, &#x27;body_feat_127&#x27;, &#x27;body_feat_128&#x27;, &#x27;body_feat_129&#x27;, &#x27;body_feat_130&#x27;, &#x27;body_feat_131&#x27;, &#x27;body_feat_132&#x27;, &#x27;body_feat_133&#x27;, &#x27;body_feat_134&#x27;, &#x27;body_feat_135&#x27;, &#x27;body_feat_136&#x27;, &#x27;body_feat_137&#x27;, &#x27;body_feat_138&#x27;, &#x27;body_feat_139&#x27;, &#x27;body_feat_140&#x27;, &#x27;body_feat_141&#x27;, &#x27;body_feat_142&#x27;, &#x27;body_feat_143&#x27;, &#x27;body_feat_144&#x27;, &#x27;body_feat_145&#x27;, &#x27;body_feat_146&#x27;, &#x27;body_feat_147&#x27;, &#x27;body_feat_148&#x27;, &#x27;body_feat_149&#x27;, &#x27;body_feat_150&#x27;, &#x27;body_feat_151&#x27;, &#x27;body_feat_152&#x27;, &#x27;body_feat_153&#x27;, &#x27;body_feat_154&#x27;, &#x27;body_feat_155&#x27;, &#x27;body_feat_156&#x27;, &#x27;body_feat_157&#x27;, &#x27;body_feat_158&#x27;, &#x27;body_feat_159&#x27;, &#x27;body_feat_160&#x27;, &#x27;body_feat_161&#x27;, &#x27;body_feat_162&#x27;, &#x27;body_feat_163&#x27;, &#x27;body_feat_164&#x27;, &#x27;body_feat_165&#x27;, &#x27;body_feat_166&#x27;, &#x27;body_feat_167&#x27;, &#x27;body_feat_168&#x27;, &#x27;body_feat_169&#x27;, &#x27;body_feat_170&#x27;, &#x27;body_feat_171&#x27;, &#x27;body_feat_172&#x27;, &#x27;body_feat_173&#x27;, &#x27;body_feat_174&#x27;, &#x27;body_feat_175&#x27;, &#x27;body_feat_176&#x27;, &#x27;body_feat_177&#x27;, &#x27;body_feat_178&#x27;, &#x27;body_feat_179&#x27;, &#x27;body_feat_180&#x27;, &#x27;body_feat_181&#x27;, &#x27;body_feat_182&#x27;, &#x27;body_feat_183&#x27;, &#x27;body_feat_184&#x27;, &#x27;body_feat_185&#x27;, &#x27;body_feat_186&#x27;, &#x27;body_feat_187&#x27;, &#x27;body_feat_188&#x27;, &#x27;body_feat_189&#x27;, &#x27;body_feat_190&#x27;, &#x27;body_feat_191&#x27;, &#x27;body_feat_192&#x27;, &#x27;body_feat_193&#x27;, &#x27;body_feat_194&#x27;, &#x27;body_feat_195&#x27;, &#x27;body_feat_196&#x27;, &#x27;body_feat_197&#x27;, &#x27;body_feat_198&#x27;, &#x27;body_feat_199&#x27;, &#x27;body_feat_200&#x27;, &#x27;body_feat_201&#x27;, &#x27;body_feat_202&#x27;, &#x27;body_feat_203&#x27;, &#x27;body_feat_204&#x27;, &#x27;body_feat_205&#x27;, &#x27;body_feat_206&#x27;, &#x27;body_feat_207&#x27;, &#x27;body_feat_208&#x27;, &#x27;body_feat_209&#x27;, &#x27;body_feat_210&#x27;, &#x27;body_feat_211&#x27;, &#x27;body_feat_212&#x27;, &#x27;body_feat_213&#x27;, &#x27;body_feat_214&#x27;, &#x27;body_feat_215&#x27;, &#x27;body_feat_216&#x27;, &#x27;body_feat_217&#x27;, &#x27;body_feat_218&#x27;, &#x27;body_feat_219&#x27;, &#x27;body_feat_220&#x27;, &#x27;body_feat_221&#x27;, &#x27;body_feat_222&#x27;, &#x27;body_feat_223&#x27;, &#x27;body_feat_224&#x27;, &#x27;body_feat_225&#x27;, &#x27;body_feat_226&#x27;, &#x27;body_feat_227&#x27;, &#x27;body_feat_228&#x27;, &#x27;body_feat_229&#x27;, &#x27;body_feat_230&#x27;, &#x27;body_feat_231&#x27;, &#x27;body_feat_232&#x27;, &#x27;body_feat_233&#x27;, &#x27;body_feat_234&#x27;, &#x27;body_feat_235&#x27;, &#x27;body_feat_236&#x27;, &#x27;body_feat_237&#x27;, &#x27;body_feat_238&#x27;, &#x27;body_feat_239&#x27;, &#x27;body_feat_240&#x27;, &#x27;body_feat_241&#x27;, &#x27;body_feat_242&#x27;, &#x27;body_feat_243&#x27;, &#x27;body_feat_244&#x27;, &#x27;body_feat_245&#x27;, &#x27;body_feat_246&#x27;, &#x27;body_feat_247&#x27;, &#x27;body_feat_248&#x27;, &#x27;body_feat_249&#x27;, &#x27;body_feat_250&#x27;, &#x27;body_feat_251&#x27;, &#x27;body_feat_252&#x27;, &#x27;body_feat_253&#x27;, &#x27;body_feat_254&#x27;, &#x27;body_feat_255&#x27;, &#x27;body_feat_256&#x27;, &#x27;body_feat_257&#x27;, &#x27;body_feat_258&#x27;, &#x27;body_feat_259&#x27;, &#x27;body_feat_260&#x27;, &#x27;body_feat_261&#x27;, &#x27;body_feat_262&#x27;, &#x27;body_feat_263&#x27;, &#x27;body_feat_264&#x27;, &#x27;body_feat_265&#x27;, &#x27;body_feat_266&#x27;, &#x27;body_feat_267&#x27;, &#x27;body_feat_268&#x27;, &#x27;body_feat_269&#x27;, &#x27;body_feat_270&#x27;, &#x27;body_feat_271&#x27;, &#x27;body_feat_272&#x27;, &#x27;body_feat_273&#x27;, &#x27;body_feat_274&#x27;, &#x27;body_feat_275&#x27;, &#x27;body_feat_276&#x27;, &#x27;body_feat_277&#x27;, &#x27;body_feat_278&#x27;, &#x27;body_feat_279&#x27;, &#x27;body_feat_280&#x27;, &#x27;body_feat_281&#x27;, &#x27;body_feat_282&#x27;, &#x27;body_feat_283&#x27;, &#x27;body_feat_284&#x27;, &#x27;body_feat_285&#x27;, &#x27;body_feat_286&#x27;, &#x27;body_feat_287&#x27;, &#x27;body_feat_288&#x27;, &#x27;body_feat_289&#x27;, &#x27;body_feat_290&#x27;, &#x27;body_feat_291&#x27;, &#x27;body_feat_292&#x27;, &#x27;body_feat_293&#x27;, &#x27;body_feat_294&#x27;, &#x27;body_feat_295&#x27;, &#x27;body_feat_296&#x27;, &#x27;body_feat_297&#x27;, &#x27;body_feat_298&#x27;, &#x27;body_feat_299&#x27;, &#x27;body_feat_300&#x27;, &#x27;body_feat_301&#x27;, &#x27;body_feat_302&#x27;, &#x27;body_feat_303&#x27;, &#x27;body_feat_304&#x27;, &#x27;body_feat_305&#x27;, &#x27;body_feat_306&#x27;, &#x27;body_feat_307&#x27;, &#x27;body_feat_308&#x27;, &#x27;body_feat_309&#x27;, &#x27;body_feat_310&#x27;, &#x27;body_feat_311&#x27;, &#x27;body_feat_312&#x27;, &#x27;body_feat_313&#x27;, &#x27;body_feat_314&#x27;, &#x27;body_feat_315&#x27;, &#x27;body_feat_316&#x27;, &#x27;body_feat_317&#x27;, &#x27;body_feat_318&#x27;, &#x27;body_feat_319&#x27;, &#x27;body_feat_320&#x27;, &#x27;body_feat_321&#x27;, &#x27;body_feat_322&#x27;, &#x27;body_feat_323&#x27;, &#x27;body_feat_324&#x27;, &#x27;body_feat_325&#x27;, &#x27;body_feat_326&#x27;, &#x27;body_feat_327&#x27;, &#x27;body_feat_328&#x27;, &#x27;body_feat_329&#x27;, &#x27;body_feat_330&#x27;, &#x27;body_feat_331&#x27;, &#x27;body_feat_332&#x27;, &#x27;body_feat_333&#x27;, &#x27;body_feat_334&#x27;, &#x27;body_feat_335&#x27;, &#x27;body_feat_336&#x27;, &#x27;body_feat_337&#x27;, &#x27;body_feat_338&#x27;, &#x27;body_feat_339&#x27;, &#x27;body_feat_340&#x27;, &#x27;body_feat_341&#x27;, &#x27;body_feat_342&#x27;, &#x27;body_feat_343&#x27;, &#x27;body_feat_344&#x27;, &#x27;body_feat_345&#x27;, &#x27;body_feat_346&#x27;, &#x27;body_feat_347&#x27;, &#x27;body_feat_348&#x27;, &#x27;body_feat_349&#x27;, &#x27;body_feat_350&#x27;, &#x27;body_feat_351&#x27;, &#x27;body_feat_352&#x27;, &#x27;body_feat_353&#x27;, &#x27;body_feat_354&#x27;, &#x27;body_feat_355&#x27;, &#x27;body_feat_356&#x27;, &#x27;body_feat_357&#x27;, &#x27;body_feat_358&#x27;, &#x27;body_feat_359&#x27;, &#x27;body_feat_360&#x27;, &#x27;body_feat_361&#x27;, &#x27;body_feat_362&#x27;, &#x27;body_feat_363&#x27;, &#x27;body_feat_364&#x27;, &#x27;body_feat_365&#x27;, &#x27;body_feat_366&#x27;, &#x27;body_feat_367&#x27;, &#x27;body_feat_368&#x27;, &#x27;body_feat_369&#x27;, &#x27;body_feat_370&#x27;, &#x27;body_feat_371&#x27;, &#x27;body_feat_372&#x27;, &#x27;body_feat_373&#x27;, &#x27;body_feat_374&#x27;, &#x27;body_feat_375&#x27;, &#x27;body_feat_376&#x27;, &#x27;body_feat_377&#x27;, &#x27;body_feat_378&#x27;, &#x27;body_feat_379&#x27;, &#x27;body_feat_380&#x27;, &#x27;body_feat_381&#x27;, &#x27;body_feat_382&#x27;, &#x27;body_feat_383&#x27;, &#x27;body_feat_384&#x27;, &#x27;body_feat_385&#x27;, &#x27;body_feat_386&#x27;, &#x27;body_feat_387&#x27;, &#x27;body_feat_388&#x27;, &#x27;body_feat_389&#x27;, &#x27;body_feat_390&#x27;, &#x27;body_feat_391&#x27;, &#x27;body_feat_392&#x27;, &#x27;body_feat_393&#x27;, &#x27;body_feat_394&#x27;, &#x27;body_feat_395&#x27;, &#x27;body_feat_396&#x27;, &#x27;body_feat_397&#x27;, &#x27;body_feat_398&#x27;, &#x27;body_feat_399&#x27;, &#x27;body_feat_400&#x27;, &#x27;body_feat_401&#x27;, &#x27;body_feat_402&#x27;, &#x27;body_feat_403&#x27;, &#x27;body_feat_404&#x27;, &#x27;body_feat_405&#x27;, &#x27;body_feat_406&#x27;, &#x27;body_feat_407&#x27;, &#x27;body_feat_408&#x27;, &#x27;body_feat_409&#x27;, &#x27;body_feat_410&#x27;, &#x27;body_feat_411&#x27;, &#x27;body_feat_412&#x27;, &#x27;body_feat_413&#x27;, &#x27;body_feat_414&#x27;, &#x27;body_feat_415&#x27;, &#x27;body_feat_416&#x27;, &#x27;body_feat_417&#x27;, &#x27;body_feat_418&#x27;, &#x27;body_feat_419&#x27;, &#x27;body_feat_420&#x27;, &#x27;body_feat_421&#x27;, &#x27;body_feat_422&#x27;, &#x27;body_feat_423&#x27;, &#x27;body_feat_424&#x27;, &#x27;body_feat_425&#x27;, &#x27;body_feat_426&#x27;, &#x27;body_feat_427&#x27;, &#x27;body_feat_428&#x27;, &#x27;body_feat_429&#x27;, &#x27;body_feat_430&#x27;, &#x27;body_feat_431&#x27;, &#x27;body_feat_432&#x27;, &#x27;body_feat_433&#x27;, &#x27;body_feat_434&#x27;, &#x27;body_feat_435&#x27;, &#x27;body_feat_436&#x27;, &#x27;body_feat_437&#x27;, &#x27;body_feat_438&#x27;, &#x27;body_feat_439&#x27;, &#x27;body_feat_440&#x27;, &#x27;body_feat_441&#x27;, &#x27;body_feat_442&#x27;, &#x27;body_feat_443&#x27;, &#x27;body_feat_444&#x27;, &#x27;body_feat_445&#x27;, &#x27;body_feat_446&#x27;, &#x27;body_feat_447&#x27;, &#x27;body_feat_448&#x27;, &#x27;body_feat_449&#x27;, &#x27;body_feat_450&#x27;, &#x27;body_feat_451&#x27;, &#x27;body_feat_452&#x27;, &#x27;body_feat_453&#x27;, &#x27;body_feat_454&#x27;, &#x27;body_feat_455&#x27;, &#x27;body_feat_456&#x27;, &#x27;body_feat_457&#x27;, &#x27;body_feat_458&#x27;, &#x27;body_feat_459&#x27;, &#x27;body_feat_460&#x27;, &#x27;body_feat_461&#x27;, &#x27;body_feat_462&#x27;, &#x27;body_feat_463&#x27;, &#x27;body_feat_464&#x27;, &#x27;body_feat_465&#x27;, &#x27;body_feat_466&#x27;, &#x27;body_feat_467&#x27;, &#x27;body_feat_468&#x27;, &#x27;body_feat_469&#x27;, &#x27;body_feat_470&#x27;, &#x27;body_feat_471&#x27;, &#x27;body_feat_472&#x27;, &#x27;body_feat_473&#x27;, &#x27;body_feat_474&#x27;, &#x27;body_feat_475&#x27;, &#x27;body_feat_476&#x27;, &#x27;body_feat_477&#x27;, &#x27;body_feat_478&#x27;, &#x27;body_feat_479&#x27;, &#x27;body_feat_480&#x27;, &#x27;body_feat_481&#x27;, &#x27;body_feat_482&#x27;, &#x27;body_feat_483&#x27;, &#x27;body_feat_484&#x27;, &#x27;body_feat_485&#x27;, &#x27;body_feat_486&#x27;, &#x27;body_feat_487&#x27;, &#x27;body_feat_488&#x27;, &#x27;body_feat_489&#x27;, &#x27;body_feat_490&#x27;, &#x27;body_feat_491&#x27;, &#x27;body_feat_492&#x27;, &#x27;body_feat_493&#x27;, &#x27;body_feat_494&#x27;, &#x27;body_feat_495&#x27;, &#x27;body_feat_496&#x27;, &#x27;body_feat_497&#x27;, &#x27;body_feat_498&#x27;, &#x27;body_feat_499&#x27;, &#x27;body_feat_500&#x27;, &#x27;body_feat_501&#x27;, &#x27;body_feat_502&#x27;, &#x27;body_feat_503&#x27;, &#x27;body_feat_504&#x27;, &#x27;body_feat_505&#x27;, &#x27;body_feat_506&#x27;, &#x27;body_feat_507&#x27;, &#x27;body_feat_508&#x27;, &#x27;body_feat_509&#x27;, &#x27;body_feat_510&#x27;, &#x27;body_feat_511&#x27;, &#x27;body_feat_512&#x27;, &#x27;body_feat_513&#x27;, &#x27;body_feat_514&#x27;, &#x27;body_feat_515&#x27;, &#x27;body_feat_516&#x27;, &#x27;body_feat_517&#x27;, &#x27;body_feat_518&#x27;, &#x27;body_feat_519&#x27;, &#x27;body_feat_520&#x27;, &#x27;body_feat_521&#x27;, &#x27;body_feat_522&#x27;, &#x27;body_feat_523&#x27;, &#x27;body_feat_524&#x27;, &#x27;body_feat_525&#x27;, &#x27;body_feat_526&#x27;, &#x27;body_feat_527&#x27;, &#x27;body_feat_528&#x27;, &#x27;body_feat_529&#x27;, &#x27;body_feat_530&#x27;, &#x27;body_feat_531&#x27;, &#x27;body_feat_532&#x27;, &#x27;body_feat_533&#x27;, &#x27;body_feat_534&#x27;, &#x27;body_feat_535&#x27;, &#x27;body_feat_536&#x27;, &#x27;body_feat_537&#x27;, &#x27;body_feat_538&#x27;, &#x27;body_feat_539&#x27;, &#x27;body_feat_540&#x27;, &#x27;body_feat_541&#x27;, &#x27;body_feat_542&#x27;, &#x27;body_feat_543&#x27;, &#x27;body_feat_544&#x27;, &#x27;body_feat_545&#x27;, &#x27;body_feat_546&#x27;, &#x27;body_feat_547&#x27;, &#x27;body_feat_548&#x27;, &#x27;body_feat_549&#x27;, &#x27;body_feat_550&#x27;, &#x27;body_feat_551&#x27;, &#x27;body_feat_552&#x27;, &#x27;body_feat_553&#x27;, &#x27;body_feat_554&#x27;, &#x27;body_feat_555&#x27;, &#x27;body_feat_556&#x27;, &#x27;body_feat_557&#x27;, &#x27;body_feat_558&#x27;, &#x27;body_feat_559&#x27;, &#x27;body_feat_560&#x27;, &#x27;body_feat_561&#x27;, &#x27;body_feat_562&#x27;, &#x27;body_feat_563&#x27;, &#x27;body_feat_564&#x27;, &#x27;body_feat_565&#x27;, &#x27;body_feat_566&#x27;, &#x27;body_feat_567&#x27;, &#x27;body_feat_568&#x27;, &#x27;body_feat_569&#x27;, &#x27;body_feat_570&#x27;, &#x27;body_feat_571&#x27;, &#x27;body_feat_572&#x27;, &#x27;body_feat_573&#x27;, &#x27;body_feat_574&#x27;, &#x27;body_feat_575&#x27;, &#x27;body_feat_576&#x27;, &#x27;body_feat_577&#x27;, &#x27;body_feat_578&#x27;, &#x27;body_feat_579&#x27;, &#x27;body_feat_580&#x27;, &#x27;body_feat_581&#x27;, &#x27;body_feat_582&#x27;, &#x27;body_feat_583&#x27;, &#x27;body_feat_584&#x27;, &#x27;body_feat_585&#x27;, &#x27;body_feat_586&#x27;, &#x27;body_feat_587&#x27;, &#x27;body_feat_588&#x27;, &#x27;body_feat_589&#x27;, &#x27;body_feat_590&#x27;, &#x27;body_feat_591&#x27;, &#x27;body_feat_592&#x27;, &#x27;body_feat_593&#x27;, &#x27;body_feat_594&#x27;, &#x27;body_feat_595&#x27;, &#x27;body_feat_596&#x27;, &#x27;body_feat_597&#x27;, &#x27;body_feat_598&#x27;, &#x27;body_feat_599&#x27;, &#x27;body_feat_600&#x27;, &#x27;body_feat_601&#x27;, &#x27;body_feat_602&#x27;, &#x27;body_feat_603&#x27;, &#x27;body_feat_604&#x27;, &#x27;body_feat_605&#x27;, &#x27;body_feat_606&#x27;, &#x27;body_feat_607&#x27;, &#x27;body_feat_608&#x27;, &#x27;body_feat_609&#x27;, &#x27;body_feat_610&#x27;, &#x27;body_feat_611&#x27;, &#x27;body_feat_612&#x27;, &#x27;body_feat_613&#x27;, &#x27;body_feat_614&#x27;, &#x27;body_feat_615&#x27;, &#x27;body_feat_616&#x27;, &#x27;body_feat_617&#x27;, &#x27;body_feat_618&#x27;, &#x27;body_feat_619&#x27;, &#x27;body_feat_620&#x27;, &#x27;body_feat_621&#x27;, &#x27;body_feat_622&#x27;, &#x27;body_feat_623&#x27;, &#x27;body_feat_624&#x27;, &#x27;body_feat_625&#x27;, &#x27;body_feat_626&#x27;, &#x27;body_feat_627&#x27;, &#x27;body_feat_628&#x27;, &#x27;body_feat_629&#x27;, &#x27;body_feat_630&#x27;, &#x27;body_feat_631&#x27;, &#x27;body_feat_632&#x27;, &#x27;body_feat_633&#x27;, &#x27;body_feat_634&#x27;, &#x27;body_feat_635&#x27;, &#x27;body_feat_636&#x27;, &#x27;body_feat_637&#x27;, &#x27;body_feat_638&#x27;, &#x27;body_feat_639&#x27;, &#x27;body_feat_640&#x27;, &#x27;body_feat_641&#x27;, &#x27;body_feat_642&#x27;, &#x27;body_feat_643&#x27;, &#x27;body_feat_644&#x27;, &#x27;body_feat_645&#x27;, &#x27;body_feat_646&#x27;, &#x27;body_feat_647&#x27;, &#x27;body_feat_648&#x27;, &#x27;body_feat_649&#x27;, &#x27;body_feat_650&#x27;, &#x27;body_feat_651&#x27;, &#x27;body_feat_652&#x27;, &#x27;body_feat_653&#x27;, &#x27;body_feat_654&#x27;, &#x27;body_feat_655&#x27;, &#x27;body_feat_656&#x27;, &#x27;body_feat_657&#x27;, &#x27;body_feat_658&#x27;, &#x27;body_feat_659&#x27;, &#x27;body_feat_660&#x27;, &#x27;body_feat_661&#x27;, &#x27;body_feat_662&#x27;, &#x27;body_feat_663&#x27;, &#x27;body_feat_664&#x27;, &#x27;body_feat_665&#x27;, &#x27;body_feat_666&#x27;, &#x27;body_feat_667&#x27;, &#x27;body_feat_668&#x27;, &#x27;body_feat_669&#x27;, &#x27;body_feat_670&#x27;, &#x27;body_feat_671&#x27;, &#x27;body_feat_672&#x27;, &#x27;body_feat_673&#x27;, &#x27;body_feat_674&#x27;, &#x27;body_feat_675&#x27;, &#x27;body_feat_676&#x27;, &#x27;body_feat_677&#x27;, &#x27;body_feat_678&#x27;, &#x27;body_feat_679&#x27;, &#x27;body_feat_680&#x27;, &#x27;body_feat_681&#x27;, &#x27;body_feat_682&#x27;, &#x27;body_feat_683&#x27;, &#x27;body_feat_684&#x27;, &#x27;body_feat_685&#x27;, &#x27;body_feat_686&#x27;, &#x27;body_feat_687&#x27;, &#x27;body_feat_688&#x27;, &#x27;body_feat_689&#x27;, &#x27;body_feat_690&#x27;, &#x27;body_feat_691&#x27;, &#x27;body_feat_692&#x27;, &#x27;body_feat_693&#x27;, &#x27;body_feat_694&#x27;, &#x27;body_feat_695&#x27;, &#x27;body_feat_696&#x27;, &#x27;body_feat_697&#x27;, &#x27;body_feat_698&#x27;, &#x27;body_feat_699&#x27;, &#x27;body_feat_700&#x27;, &#x27;body_feat_701&#x27;, &#x27;body_feat_702&#x27;, &#x27;body_feat_703&#x27;, &#x27;body_feat_704&#x27;, &#x27;body_feat_705&#x27;, &#x27;body_feat_706&#x27;, &#x27;body_feat_707&#x27;, &#x27;body_feat_708&#x27;, &#x27;body_feat_709&#x27;, &#x27;body_feat_710&#x27;, &#x27;body_feat_711&#x27;, &#x27;body_feat_712&#x27;, &#x27;body_feat_713&#x27;, &#x27;body_feat_714&#x27;, &#x27;body_feat_715&#x27;, &#x27;body_feat_716&#x27;, &#x27;body_feat_717&#x27;, &#x27;body_feat_718&#x27;, &#x27;body_feat_719&#x27;, &#x27;body_feat_720&#x27;, &#x27;body_feat_721&#x27;, &#x27;body_feat_722&#x27;, &#x27;body_feat_723&#x27;, &#x27;body_feat_724&#x27;, &#x27;body_feat_725&#x27;, &#x27;body_feat_726&#x27;, &#x27;body_feat_727&#x27;, &#x27;body_feat_728&#x27;, &#x27;body_feat_729&#x27;, &#x27;body_feat_730&#x27;, &#x27;body_feat_731&#x27;, &#x27;body_feat_732&#x27;, &#x27;body_feat_733&#x27;, &#x27;body_feat_734&#x27;, &#x27;body_feat_735&#x27;, &#x27;body_feat_736&#x27;, &#x27;body_feat_737&#x27;, &#x27;body_feat_738&#x27;, &#x27;body_feat_739&#x27;, &#x27;body_feat_740&#x27;, &#x27;body_feat_741&#x27;, &#x27;body_feat_742&#x27;, &#x27;body_feat_743&#x27;, &#x27;body_feat_744&#x27;, &#x27;body_feat_745&#x27;, &#x27;body_feat_746&#x27;, &#x27;body_feat_747&#x27;, &#x27;body_feat_748&#x27;, &#x27;body_feat_749&#x27;, &#x27;body_feat_750&#x27;, &#x27;body_feat_751&#x27;, &#x27;body_feat_752&#x27;, &#x27;body_feat_753&#x27;, &#x27;body_feat_754&#x27;, &#x27;body_feat_755&#x27;, &#x27;body_feat_756&#x27;, &#x27;body_feat_757&#x27;, &#x27;body_feat_758&#x27;, &#x27;body_feat_759&#x27;, &#x27;body_feat_760&#x27;, &#x27;body_feat_761&#x27;, &#x27;body_feat_762&#x27;, &#x27;body_feat_763&#x27;, &#x27;body_feat_764&#x27;, &#x27;body_feat_765&#x27;, &#x27;body_feat_766&#x27;, &#x27;body_feat_767&#x27;]</pre></div> </div></div><div class=\"sk-serial\"><div class=\"sk-item\"><div class=\"sk-estimator fitted sk-toggleable\"><input class=\"sk-toggleable__control sk-hidden--visually\" id=\"sk-estimator-id-61\" type=\"checkbox\" ><label for=\"sk-estimator-id-61\" class=\"sk-toggleable__label fitted sk-toggleable__label-arrow\"><div><div>PCA</div></div><div><a class=\"sk-estimator-doc-link fitted\" rel=\"noreferrer\" target=\"_blank\" href=\"https://scikit-learn.org/1.6/modules/generated/sklearn.decomposition.PCA.html\">?<span>Documentation for PCA</span></a></div></label><div class=\"sk-toggleable__content fitted\"><pre>PCA(n_components=80)</pre></div> </div></div></div></div></div><div class=\"sk-parallel-item\"><div class=\"sk-item\"><div class=\"sk-label-container\"><div class=\"sk-label fitted sk-toggleable\"><input class=\"sk-toggleable__control sk-hidden--visually\" id=\"sk-estimator-id-62\" type=\"checkbox\" ><label for=\"sk-estimator-id-62\" class=\"sk-toggleable__label fitted sk-toggleable__label-arrow\"><div><div>std_scaler</div></div></label><div class=\"sk-toggleable__content fitted\"><pre>[&#x27;event_median_cost&#x27;]</pre></div> </div></div><div class=\"sk-serial\"><div class=\"sk-item\"><div class=\"sk-estimator fitted sk-toggleable\"><input class=\"sk-toggleable__control sk-hidden--visually\" id=\"sk-estimator-id-63\" type=\"checkbox\" ><label for=\"sk-estimator-id-63\" class=\"sk-toggleable__label fitted sk-toggleable__label-arrow\"><div><div>StandardScaler</div></div><div><a class=\"sk-estimator-doc-link fitted\" rel=\"noreferrer\" target=\"_blank\" href=\"https://scikit-learn.org/1.6/modules/generated/sklearn.preprocessing.StandardScaler.html\">?<span>Documentation for StandardScaler</span></a></div></label><div class=\"sk-toggleable__content fitted\"><pre>StandardScaler()</pre></div> </div></div></div></div></div></div></div><div class=\"sk-item\"><div class=\"sk-estimator fitted sk-toggleable\"><input class=\"sk-toggleable__control sk-hidden--visually\" id=\"sk-estimator-id-64\" type=\"checkbox\" ><label for=\"sk-estimator-id-64\" class=\"sk-toggleable__label fitted sk-toggleable__label-arrow\"><div><div>XGBRegressor</div></div></label><div class=\"sk-toggleable__content fitted\"><pre>XGBRegressor(base_score=None, booster=None, callbacks=None,\n",
       "             colsample_bylevel=None, colsample_bynode=None,\n",
       "             colsample_bytree=0.6808937148959778, device=None,\n",
       "             early_stopping_rounds=None, enable_categorical=False,\n",
       "             eval_metric=None, feature_types=None, gamma=0.8376028736074165,\n",
       "             grow_policy=None, importance_type=None,\n",
       "             interaction_constraints=None, learning_rate=0.030891804250286765,\n",
       "             max_bin=None, max_cat_threshold=None, max_cat_to_onehot=None,\n",
       "             max_delta_step=None, max_depth=4, max_leaves=None,\n",
       "             min_child_weight=5, missing=nan, monotone_constraints=None,\n",
       "             multi_strategy=None, n_estimators=800, n_jobs=None,\n",
       "             num_parallel_tree=None, random_state=None, ...)</pre></div> </div></div></div></div></div></div></div><div class=\"sk-parallel-item\"><div class=\"sk-item\"><div class=\"sk-label-container\"><div class=\"sk-label fitted sk-toggleable\"><input class=\"sk-toggleable__control sk-hidden--visually\" id=\"sk-estimator-id-65\" type=\"checkbox\" ><label for=\"sk-estimator-id-65\" class=\"sk-toggleable__label fitted sk-toggleable__label-arrow\"><div><div>transformer: PowerTransformer</div></div></label><div class=\"sk-toggleable__content fitted\"><pre>PowerTransformer(method=&#x27;box-cox&#x27;, standardize=False)</pre></div> </div></div><div class=\"sk-serial\"><div class=\"sk-item\"><div class=\"sk-estimator fitted sk-toggleable\"><input class=\"sk-toggleable__control sk-hidden--visually\" id=\"sk-estimator-id-66\" type=\"checkbox\" ><label for=\"sk-estimator-id-66\" class=\"sk-toggleable__label fitted sk-toggleable__label-arrow\"><div><div>PowerTransformer</div></div><div><a class=\"sk-estimator-doc-link fitted\" rel=\"noreferrer\" target=\"_blank\" href=\"https://scikit-learn.org/1.6/modules/generated/sklearn.preprocessing.PowerTransformer.html\">?<span>Documentation for PowerTransformer</span></a></div></label><div class=\"sk-toggleable__content fitted\"><pre>PowerTransformer(method=&#x27;box-cox&#x27;, standardize=False)</pre></div> </div></div></div></div></div></div></div></div></div>"
      ],
      "text/plain": [
       "TransformedTargetRegressor(regressor=Pipeline(steps=[('preprocessor',\n",
       "                                                      ColumnTransformer(transformers=[('log_inc',\n",
       "                                                                                       Pipeline(steps=[('log',\n",
       "                                                                                                        FunctionTransformer(func=<ufunc 'log'>)),\n",
       "                                                                                                       ('scaler',\n",
       "                                                                                                        StandardScaler())]),\n",
       "                                                                                       ['InitialIncurredCalimsCost',\n",
       "                                                                                        'WeeklyWages']),\n",
       "                                                                                      ('minmax_scaler',\n",
       "                                                                                       MinMaxScaler(),\n",
       "                                                                                       ['Age',\n",
       "                                                                                        'YearAccident']),\n",
       "                                                                                      ('gender_bool',\n",
       "                                                                                       FunctionTransformer(func=<fun...\n",
       "                                                                   learning_rate=0.030891804250286765,\n",
       "                                                                   max_bin=None,\n",
       "                                                                   max_cat_threshold=None,\n",
       "                                                                   max_cat_to_onehot=None,\n",
       "                                                                   max_delta_step=None,\n",
       "                                                                   max_depth=4,\n",
       "                                                                   max_leaves=None,\n",
       "                                                                   min_child_weight=5,\n",
       "                                                                   missing=nan,\n",
       "                                                                   monotone_constraints=None,\n",
       "                                                                   multi_strategy=None,\n",
       "                                                                   n_estimators=800,\n",
       "                                                                   n_jobs=None,\n",
       "                                                                   num_parallel_tree=None,\n",
       "                                                                   random_state=None, ...))]),\n",
       "                           transformer=PowerTransformer(method='box-cox',\n",
       "                                                        standardize=False))"
      ]
     },
     "execution_count": 25,
     "metadata": {},
     "output_type": "execute_result"
    }
   ],
   "source": [
    "model.fit(X_train, y_train)"
   ]
  },
  {
   "cell_type": "code",
   "execution_count": 26,
   "metadata": {},
   "outputs": [
    {
     "data": {
      "text/plain": [
       "array([ 5994.1753 ,  2736.7083 , 19513.99   , ...,  6074.552  ,\n",
       "        7215.8286 ,   417.86932], shape=(36000,), dtype=float32)"
      ]
     },
     "execution_count": 26,
     "metadata": {},
     "output_type": "execute_result"
    }
   ],
   "source": [
    "y_test_pred = model.predict(dataset_test)\n",
    "y_test_pred"
   ]
  },
  {
   "cell_type": "code",
   "execution_count": 27,
   "metadata": {},
   "outputs": [
    {
     "name": "stdout",
     "output_type": "stream",
     "text": [
      "(36000, 2)\n"
     ]
    },
    {
     "data": {
      "text/html": [
       "<div>\n",
       "<style scoped>\n",
       "    .dataframe tbody tr th:only-of-type {\n",
       "        vertical-align: middle;\n",
       "    }\n",
       "\n",
       "    .dataframe tbody tr th {\n",
       "        vertical-align: top;\n",
       "    }\n",
       "\n",
       "    .dataframe thead th {\n",
       "        text-align: right;\n",
       "    }\n",
       "</style>\n",
       "<table border=\"1\" class=\"dataframe\">\n",
       "  <thead>\n",
       "    <tr style=\"text-align: right;\">\n",
       "      <th></th>\n",
       "      <th>ClaimNumber</th>\n",
       "      <th>UltimateIncurredClaimCost</th>\n",
       "    </tr>\n",
       "  </thead>\n",
       "  <tbody>\n",
       "    <tr>\n",
       "      <th>0</th>\n",
       "      <td>WC8145235</td>\n",
       "      <td>5994.175293</td>\n",
       "    </tr>\n",
       "    <tr>\n",
       "      <th>1</th>\n",
       "      <td>WC2005111</td>\n",
       "      <td>2736.708252</td>\n",
       "    </tr>\n",
       "    <tr>\n",
       "      <th>2</th>\n",
       "      <td>WC6899143</td>\n",
       "      <td>19513.990234</td>\n",
       "    </tr>\n",
       "    <tr>\n",
       "      <th>3</th>\n",
       "      <td>WC5502023</td>\n",
       "      <td>359.316650</td>\n",
       "    </tr>\n",
       "    <tr>\n",
       "      <th>4</th>\n",
       "      <td>WC4785156</td>\n",
       "      <td>3069.980469</td>\n",
       "    </tr>\n",
       "  </tbody>\n",
       "</table>\n",
       "</div>"
      ],
      "text/plain": [
       "  ClaimNumber  UltimateIncurredClaimCost\n",
       "0   WC8145235                5994.175293\n",
       "1   WC2005111                2736.708252\n",
       "2   WC6899143               19513.990234\n",
       "3   WC5502023                 359.316650\n",
       "4   WC4785156                3069.980469"
      ]
     },
     "execution_count": 27,
     "metadata": {},
     "output_type": "execute_result"
    }
   ],
   "source": [
    "submission_df = pd.DataFrame(zip(dataset_test.index, y_test_pred), columns=['ClaimNumber', 'UltimateIncurredClaimCost'])\n",
    "\n",
    "print(submission_df.shape)\n",
    "submission_df.head()"
   ]
  },
  {
   "cell_type": "code",
   "execution_count": null,
   "metadata": {},
   "outputs": [],
   "source": [
    "submission_df.to_csv('../data/output/submission_xgb-no_outliers2.csv', index=False)"
   ]
  },
  {
   "cell_type": "code",
   "execution_count": null,
   "metadata": {},
   "outputs": [],
   "source": []
  }
 ],
 "metadata": {
  "kernelspec": {
   "display_name": ".env",
   "language": "python",
   "name": "python3"
  },
  "language_info": {
   "codemirror_mode": {
    "name": "ipython",
    "version": 3
   },
   "file_extension": ".py",
   "mimetype": "text/x-python",
   "name": "python",
   "nbconvert_exporter": "python",
   "pygments_lexer": "ipython3",
   "version": "3.10.15"
  }
 },
 "nbformat": 4,
 "nbformat_minor": 2
}
